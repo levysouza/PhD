{
 "cells": [
  {
   "cell_type": "code",
   "execution_count": 1,
   "metadata": {},
   "outputs": [],
   "source": [
    "from tqdm import tqdm\n",
    "import numpy as np\n",
    "import pandas as pd\n",
    "from lxml import html\n",
    "import requests\n",
    "import re\n",
    "import csv\n",
    "from sklearn.model_selection import train_test_split\n",
    "from elasticsearch import Elasticsearch\n",
    "from elasticsearch import helpers\n",
    "indexing_distinct_tables = Elasticsearch(timeout=30, max_retries=10, retry_on_timeout=True)"
   ]
  },
  {
   "cell_type": "code",
   "execution_count": 2,
   "metadata": {},
   "outputs": [],
   "source": [
    "def search_indexing_match(query):\n",
    "    \n",
    "    result= indexing_distinct_tables.search(\n",
    "        index=\"distinct_tables\", \n",
    "        body = {\n",
    "        \"_source\": [\"tablePgID\",\"tablePgTitle\",\"tablePgFullText\",\"tablePgMetaDescription\",\"tablePgSummary\",\"tablePgKeywords\",\"tableSectionTitle\",\"tableCaption\",\"tableHeader\",\"tableBody\"],\n",
    "        \"from\" : 0,\n",
    "        \"size\" : 100,\n",
    "        \"query\": {\n",
    "            \"multi_match\":{\n",
    "              \"type\": \"most_fields\",\n",
    "              \"query\":    query, \n",
    "              \"fields\": [\"tablePgTitle\",\"tablePgSummary\"] \n",
    "            }\n",
    "        }\n",
    "    })\n",
    "    \n",
    "    return result"
   ]
  },
  {
   "cell_type": "code",
   "execution_count": null,
   "metadata": {},
   "outputs": [],
   "source": []
  },
  {
   "cell_type": "code",
   "execution_count": 3,
   "metadata": {},
   "outputs": [],
   "source": [
    "articles = pd.read_csv('../../dataset/data_articles_train.csv', delimiter=',')"
   ]
  },
  {
   "cell_type": "code",
   "execution_count": 4,
   "metadata": {},
   "outputs": [
    {
     "data": {
      "text/html": [
       "<div>\n",
       "<style scoped>\n",
       "    .dataframe tbody tr th:only-of-type {\n",
       "        vertical-align: middle;\n",
       "    }\n",
       "\n",
       "    .dataframe tbody tr th {\n",
       "        vertical-align: top;\n",
       "    }\n",
       "\n",
       "    .dataframe thead th {\n",
       "        text-align: right;\n",
       "    }\n",
       "</style>\n",
       "<table border=\"1\" class=\"dataframe\">\n",
       "  <thead>\n",
       "    <tr style=\"text-align: right;\">\n",
       "      <th></th>\n",
       "      <th>full_text</th>\n",
       "      <th>keywords</th>\n",
       "      <th>meta_description</th>\n",
       "      <th>meta_keywords</th>\n",
       "      <th>page_id</th>\n",
       "      <th>page_title</th>\n",
       "      <th>summary</th>\n",
       "      <th>tags</th>\n",
       "    </tr>\n",
       "  </thead>\n",
       "  <tbody>\n",
       "    <tr>\n",
       "      <th>0</th>\n",
       "      <td>reality star heidi montag recently sat talk ex...</td>\n",
       "      <td>recently surgery implants reality size shes ge...</td>\n",
       "      <td>reality star heidi montag recently sat talk ex...</td>\n",
       "      <td>health problems breast augmentation heidi mont...</td>\n",
       "      <td>5765329</td>\n",
       "      <td>heidi montag gets plastic surgery removes over...</td>\n",
       "      <td>reality star heidi montag recently sat talk ex...</td>\n",
       "      <td>NaN</td>\n",
       "    </tr>\n",
       "  </tbody>\n",
       "</table>\n",
       "</div>"
      ],
      "text/plain": [
       "                                           full_text  \\\n",
       "0  reality star heidi montag recently sat talk ex...   \n",
       "\n",
       "                                            keywords  \\\n",
       "0  recently surgery implants reality size shes ge...   \n",
       "\n",
       "                                    meta_description  \\\n",
       "0  reality star heidi montag recently sat talk ex...   \n",
       "\n",
       "                                       meta_keywords  page_id  \\\n",
       "0  health problems breast augmentation heidi mont...  5765329   \n",
       "\n",
       "                                          page_title  \\\n",
       "0  heidi montag gets plastic surgery removes over...   \n",
       "\n",
       "                                             summary tags  \n",
       "0  reality star heidi montag recently sat talk ex...  NaN  "
      ]
     },
     "execution_count": 4,
     "metadata": {},
     "output_type": "execute_result"
    }
   ],
   "source": [
    "articles.head(1)"
   ]
  },
  {
   "cell_type": "code",
   "execution_count": 5,
   "metadata": {},
   "outputs": [
    {
     "name": "stderr",
     "output_type": "stream",
     "text": [
      "204107it [42:09, 80.69it/s]\n"
     ]
    }
   ],
   "source": [
    "true_pairs_by_cossine = []\n",
    "\n",
    "for i,row in tqdm(articles.iterrows()):\n",
    "    \n",
    "    articleID = row['page_id']\n",
    "    articleTitle = row['page_title']\n",
    "    article_meta_description = row['meta_description']\n",
    "    article_keywords = row['keywords']\n",
    "    \n",
    "    query = articleTitle+\" \"+article_meta_description+\" \"+article_keywords\n",
    "    \n",
    "    #getting the table title match\n",
    "    try:\n",
    "        \n",
    "        contMatch = 0\n",
    "        result = search_indexing_match(query)\n",
    "        max_score = result['hits']['max_score']\n",
    "\n",
    "        for hit in result['hits']['hits']:\n",
    "\n",
    "            tableID = hit['_source']['tablePgID']\n",
    "            tableTitle = (hit['_source']['tablePgTitle'])\n",
    "            tablePgSummary = (hit['_source']['tablePgSummary'])\n",
    "            tablePgKeywords = (hit['_source']['tablePgKeywords'])\n",
    "            table_score = hit['_score']\n",
    "\n",
    "            normalized_score = table_score/max_score\n",
    "\n",
    "            #getting match data\n",
    "            if (articleID == tableID) and (normalized_score >= 0.7): \n",
    "\n",
    "                if contMatch < 1:\n",
    "\n",
    "                    tableIDMatch = tableID\n",
    "                    tableTitleMatch = tableTitle\n",
    "                    tablePgSummaryMatch = tablePgSummary\n",
    "\n",
    "                    new_row = {\"article_id\": articleID,\n",
    "                               \"article_page_title\": articleTitle,\n",
    "                               \"article_meta_description\": article_meta_description,\n",
    "                               \"article_keywords\":article_keywords,\n",
    "                               \"table_id\": tableIDMatch,\n",
    "                               \"table_page_title\": tableTitleMatch,\n",
    "                               \"table_page_summary\": tablePgSummaryMatch,\n",
    "                               \"table_page_keywords\": tablePgKeywords,\n",
    "                               \"label\": '1'}\n",
    "\n",
    "                    true_pairs_by_cossine.append(new_row)\n",
    "\n",
    "                    contMatch = contMatch + 1\n",
    "\n",
    "                else:\n",
    "\n",
    "                    contMatch = 0\n",
    "                    break\n",
    "    except:\n",
    "        \n",
    "        continue"
   ]
  },
  {
   "cell_type": "code",
   "execution_count": 6,
   "metadata": {},
   "outputs": [],
   "source": [
    "df_true_samples = pd.DataFrame(true_pairs_by_cossine)"
   ]
  },
  {
   "cell_type": "code",
   "execution_count": 7,
   "metadata": {},
   "outputs": [],
   "source": [
    "df_true_samples.to_csv('true_pairs_by_cosine_070_title_main_passage_keywords.csv',index=False)"
   ]
  },
  {
   "cell_type": "code",
   "execution_count": 8,
   "metadata": {},
   "outputs": [
    {
     "data": {
      "text/plain": [
       "94167"
      ]
     },
     "execution_count": 8,
     "metadata": {},
     "output_type": "execute_result"
    }
   ],
   "source": [
    "len(df_true_samples)"
   ]
  },
  {
   "cell_type": "code",
   "execution_count": null,
   "metadata": {},
   "outputs": [],
   "source": []
  },
  {
   "cell_type": "code",
   "execution_count": null,
   "metadata": {},
   "outputs": [],
   "source": []
  }
 ],
 "metadata": {
  "kernelspec": {
   "display_name": "Python 3",
   "language": "python",
   "name": "python3"
  },
  "language_info": {
   "codemirror_mode": {
    "name": "ipython",
    "version": 3
   },
   "file_extension": ".py",
   "mimetype": "text/x-python",
   "name": "python",
   "nbconvert_exporter": "python",
   "pygments_lexer": "ipython3",
   "version": "3.7.3"
  }
 },
 "nbformat": 4,
 "nbformat_minor": 2
}
