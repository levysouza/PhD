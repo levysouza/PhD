{
 "cells": [
  {
   "cell_type": "code",
   "execution_count": null,
   "metadata": {},
   "outputs": [],
   "source": [
    "from tqdm import tqdm\n",
    "import numpy as np\n",
    "import pandas as pd\n",
    "import random\n",
    "import gensim as gs\n",
    "from elasticsearch import Elasticsearch\n",
    "from elasticsearch import helpers\n",
    "from nltk.tokenize import TweetTokenizer\n",
    "tknzr = TweetTokenizer()\n",
    "indexing_distinct_tables = Elasticsearch(timeout=30, max_retries=10, retry_on_timeout=True)\n",
    "import tensorflow as tf\n",
    "import warnings\n",
    "warnings.filterwarnings('ignore')"
   ]
  },
  {
   "cell_type": "code",
   "execution_count": null,
   "metadata": {},
   "outputs": [],
   "source": [
    "tf.__version__"
   ]
  },
  {
   "cell_type": "code",
   "execution_count": null,
   "metadata": {},
   "outputs": [],
   "source": [
    "test_articles = pd.read_csv('../dataset/data_articles_test.csv', delimiter=',')"
   ]
  },
  {
   "cell_type": "code",
   "execution_count": null,
   "metadata": {},
   "outputs": [],
   "source": []
  },
  {
   "cell_type": "code",
   "execution_count": null,
   "metadata": {},
   "outputs": [],
   "source": [
    "embedding_model = gs.models.FastText.load('../train_embedding_models/fasttext_embedding_50d_all_signals')"
   ]
  },
  {
   "cell_type": "code",
   "execution_count": null,
   "metadata": {},
   "outputs": [],
   "source": [
    "indexing_distinct_tables.indices.close(index='distinct_tables')\n",
    "indexing_distinct_tables.indices.put_settings(index='distinct_tables', body={\"index\": {\"similarity\": {\"default\": {\"type\": \"classic\"}}}})\n",
    "indexing_distinct_tables.indices.open(index='distinct_tables')"
   ]
  },
  {
   "cell_type": "code",
   "execution_count": null,
   "metadata": {},
   "outputs": [],
   "source": [
    "# \"tablePgID\"\n",
    "# \"tablePgTitle\"\n",
    "# \"tablePgFullText\"\n",
    "# \"tablePgMetaDescription\"\n",
    "# \"tablePgSummary\"\n",
    "# \"tablePgKeywords\"\n",
    "# \"tableSectionTitle\"\n",
    "# \"tableCaption\"\n",
    "# \"tableHeader\"\n",
    "# \"tableBody\""
   ]
  },
  {
   "cell_type": "code",
   "execution_count": null,
   "metadata": {},
   "outputs": [],
   "source": [
    "def search_indexing(query):\n",
    "    \n",
    "    result= indexing_distinct_tables.search(\n",
    "        index=\"distinct_tables\", \n",
    "        body = {\n",
    "        \"_source\": [\"tablePgID\",\"tablePgTitle\",\"tablePgSummary\",\"tablePgKeywords\"],\n",
    "        \"from\" : 0,\n",
    "        \"size\" : 100,\n",
    "        \"query\": {\n",
    "            \"multi_match\":{\n",
    "              \"type\": \"most_fields\",\n",
    "              \"query\":    query, \n",
    "              \"fields\": [\"tablePgFullText\"] \n",
    "            }\n",
    "        }\n",
    "    })\n",
    "    \n",
    "    return result"
   ]
  },
  {
   "cell_type": "code",
   "execution_count": null,
   "metadata": {},
   "outputs": [],
   "source": [
    "def get_accuracy(ID_goal,ranked_tables_ID):\n",
    "    \n",
    "    accuracy = 0\n",
    "    \n",
    "    for table_ID in ranked_tables_ID:\n",
    "        \n",
    "        if table_ID[0] == ID_goal:\n",
    "    \n",
    "            accuracy = 1\n",
    "            break;\n",
    "\n",
    "    return accuracy"
   ]
  },
  {
   "cell_type": "code",
   "execution_count": null,
   "metadata": {},
   "outputs": [],
   "source": []
  },
  {
   "cell_type": "code",
   "execution_count": null,
   "metadata": {},
   "outputs": [],
   "source": [
    "MAX_PAD_TITLE = 55\n",
    "\n",
    "def sequence_padding(X_DIM, value):\n",
    "    \n",
    "    value_padding = np.pad(value, ((0,MAX_PAD_TITLE - X_DIM),(0,0)), 'constant')\n",
    "    \n",
    "    return value_padding"
   ]
  },
  {
   "cell_type": "code",
   "execution_count": null,
   "metadata": {},
   "outputs": [],
   "source": [
    "def create_embedding(value):\n",
    "    \n",
    "    if value == \"\":\n",
    "        \n",
    "        value = [\"\"]\n",
    "    \n",
    "    else:\n",
    "        \n",
    "        value = tknzr.tokenize(str(value))\n",
    "    \n",
    "    if len(value) < MAX_PAD_TITLE:\n",
    "        \n",
    "        embedding = embedding_model.wv[value]\n",
    "        embedding = embedding.astype('float16')\n",
    "        \n",
    "        padding_embedding = sequence_padding(embedding.shape[0],embedding)\n",
    "        \n",
    "        return padding_embedding\n",
    "        \n",
    "    else:\n",
    "        \n",
    "        embedding = embedding_model.wv[value[0:MAX_PAD_TITLE]]\n",
    "        embedding = embedding.astype('float16')\n",
    "        \n",
    "        return embedding"
   ]
  },
  {
   "cell_type": "code",
   "execution_count": null,
   "metadata": {},
   "outputs": [],
   "source": []
  },
  {
   "cell_type": "code",
   "execution_count": null,
   "metadata": {},
   "outputs": [],
   "source": []
  },
  {
   "cell_type": "code",
   "execution_count": null,
   "metadata": {},
   "outputs": [],
   "source": []
  },
  {
   "cell_type": "code",
   "execution_count": null,
   "metadata": {},
   "outputs": [],
   "source": [
    "def search_index(query):\n",
    "    \n",
    "    tables_index = []\n",
    "\n",
    "    result_index = search_indexing(query)\n",
    "        \n",
    "    for hit in result_index['hits']['hits']:\n",
    "    \n",
    "        table_ID = hit['_source']['tablePgID']\n",
    "        \n",
    "        table_page_title = hit['_source']['tablePgTitle']\n",
    "        \n",
    "        table_page_main_passage = hit['_source']['tablePgSummary']\n",
    "        \n",
    "        table_page_keywords = hit['_source']['tablePgKeywords']\n",
    "    \n",
    "        tables_index.append([table_ID,table_page_title,table_page_main_passage, table_page_keywords])\n",
    "    \n",
    "    return tables_index"
   ]
  },
  {
   "cell_type": "code",
   "execution_count": null,
   "metadata": {},
   "outputs": [],
   "source": [
    "ranking_model = tf.keras.models.load_model('coattention_model_title_main_passage_keywords_1_1_11_0.9621.h5')"
   ]
  },
  {
   "cell_type": "code",
   "execution_count": null,
   "metadata": {},
   "outputs": [],
   "source": [
    "test_articles.head(1)"
   ]
  },
  {
   "cell_type": "code",
   "execution_count": null,
   "metadata": {},
   "outputs": [],
   "source": [
    "result = []\n",
    "\n",
    "def run_search(k):\n",
    "    \n",
    "    TOP_K = k\n",
    "    accuracy = []\n",
    "    \n",
    "    for i, row in tqdm(test_articles.iterrows()):\n",
    "        \n",
    "        article_ID = row['page_id']\n",
    "        article_title_text = row['page_title']\n",
    "        article_main_passage_text = row['meta_description']\n",
    "        article_keywords_text = row['keywords'] \n",
    "        \n",
    "        query = row['page_title']+\" \"+row['meta_description']+\" \"+row['keywords']\n",
    "        \n",
    "        article_title = []\n",
    "        article_main_passage = []\n",
    "        article_keywords = []\n",
    "        table_title = []\n",
    "        table_main_passage = []\n",
    "        table_keywords = []\n",
    "        ranked_tables_model = []\n",
    "\n",
    "        ranked_tables_index = search_index(query)\n",
    "        \n",
    "        if len(ranked_tables_index) > 0:\n",
    "            \n",
    "            article_title_embedding = create_embedding(article_title_text)\n",
    "            article_main_passage_embedding = create_embedding(article_main_passage_text)\n",
    "            article_keywords_embedding = create_embedding(article_keywords_text)\n",
    "            \n",
    "            for table_ID, index_table_title, index_table_main_passage, index_table_keywords in (ranked_tables_index):\n",
    "                       \n",
    "                table_title_embedding = create_embedding(str(index_table_title))\n",
    "                table_main_passage_embedding = create_embedding(str(index_table_main_passage))\n",
    "                table_keywords_embedding = create_embedding(str(index_table_keywords))\n",
    "                \n",
    "                article_title.append(article_title_embedding)\n",
    "                article_main_passage.append(article_main_passage_embedding)\n",
    "                article_keywords.append(article_keywords_embedding)\n",
    "                \n",
    "                table_title.append(table_title_embedding)\n",
    "                table_main_passage.append(table_main_passage_embedding)\n",
    "                table_keywords.append(table_keywords_embedding)\n",
    "\n",
    "            article_title = np.array(article_title, dtype='float16')\n",
    "            article_main_passage = np.array(article_main_passage, dtype='float16')\n",
    "            article_keywords = np.array(article_keywords, dtype='float16')\n",
    "            \n",
    "            table_title = np.array(table_title, dtype='float16')\n",
    "            table_main_passage = np.array(table_main_passage, dtype='float16')\n",
    "            table_keywords = np.array(table_keywords, dtype='float16')\n",
    "           \n",
    "            table_ranking_model = ranking_model.predict([article_title, article_main_passage, article_keywords, table_title, table_main_passage, table_keywords])\n",
    "\n",
    "            for i in range(0,len(table_ranking_model)):\n",
    "\n",
    "                ranked_tables_model.append([ranked_tables_index[i][0],ranked_tables_index[i][1],table_ranking_model[i][0]]) \n",
    "\n",
    "            data_frame = pd.DataFrame(ranked_tables_model, columns = ['table_ID', 'table_title','table_ranking']) \n",
    "            data_frame_sorting = data_frame.sort_values('table_ranking', ascending=False)   \n",
    "#             final_ranked_tables = data_frame_sorting.iloc[0:TOP_K,0:1].values\n",
    "            \n",
    "            selected_top = data_frame_sorting.head(TOP_K)\n",
    "            min_score = selected_top['table_ranking'].min()\n",
    "            draw_tables_socres = data_frame_sorting[data_frame_sorting['table_ranking'] >= min_score]\n",
    "            final_ranked_tables = draw_tables_socres.iloc[:,0:1].values\n",
    "        \n",
    "            accuracy.append(get_accuracy(article_ID, final_ranked_tables))\n",
    "\n",
    "    result.append([\"Acc@\"+str(k),str(round(np.mean(accuracy),4))])"
   ]
  },
  {
   "cell_type": "code",
   "execution_count": null,
   "metadata": {},
   "outputs": [],
   "source": [
    "accuracy_K = [1,5,10,20]\n",
    "\n",
    "for k in accuracy_K:\n",
    "     \n",
    "    run_search(k)"
   ]
  },
  {
   "cell_type": "code",
   "execution_count": null,
   "metadata": {},
   "outputs": [],
   "source": [
    "result"
   ]
  },
  {
   "cell_type": "code",
   "execution_count": null,
   "metadata": {},
   "outputs": [],
   "source": []
  },
  {
   "cell_type": "code",
   "execution_count": null,
   "metadata": {},
   "outputs": [],
   "source": []
  },
  {
   "cell_type": "code",
   "execution_count": null,
   "metadata": {},
   "outputs": [],
   "source": []
  },
  {
   "cell_type": "code",
   "execution_count": null,
   "metadata": {},
   "outputs": [],
   "source": []
  },
  {
   "cell_type": "code",
   "execution_count": null,
   "metadata": {},
   "outputs": [],
   "source": []
  }
 ],
 "metadata": {
  "kernelspec": {
   "display_name": "Python 3",
   "language": "python",
   "name": "python3"
  },
  "language_info": {
   "codemirror_mode": {
    "name": "ipython",
    "version": 3
   },
   "file_extension": ".py",
   "mimetype": "text/x-python",
   "name": "python",
   "nbconvert_exporter": "python",
   "pygments_lexer": "ipython3",
   "version": "3.7.3"
  }
 },
 "nbformat": 4,
 "nbformat_minor": 2
}
