{
 "cells": [
  {
   "cell_type": "code",
   "execution_count": 1,
   "metadata": {},
   "outputs": [],
   "source": [
    "import warnings\n",
    "import numpy as np\n",
    "import pandas as pd\n",
    "import gensim as gs\n",
    "from tqdm import tqdm\n",
    "import tensorflow as tf\n",
    "import matplotlib.pyplot as plt\n",
    "from nltk.tokenize import TweetTokenizer\n",
    "tknzr = TweetTokenizer()\n",
    "from sklearn.metrics import accuracy_score\n",
    "warnings.filterwarnings('ignore')"
   ]
  },
  {
   "cell_type": "code",
   "execution_count": 41,
   "metadata": {},
   "outputs": [],
   "source": [
    "read_file = pd.read_csv('dataset/new_train_dataset_1_5', delimiter=',', header=None)\n",
    "train_dataset = read_file.iloc[0:100000,:].values"
   ]
  },
  {
   "cell_type": "code",
   "execution_count": 3,
   "metadata": {},
   "outputs": [],
   "source": [
    "read_file = pd.read_csv('dataset/new_validation_dataset_1_5', delimiter=',', header=None)\n",
    "validation_dataset = read_file.iloc[:,:].values"
   ]
  },
  {
   "cell_type": "code",
   "execution_count": 4,
   "metadata": {},
   "outputs": [],
   "source": [
    "embedding_model = gs.models.FastText.load_fasttext_format('pre_trained_models/cc.en.300.bin')"
   ]
  },
  {
   "cell_type": "code",
   "execution_count": 5,
   "metadata": {},
   "outputs": [],
   "source": [
    "def sequence_padding(X_DIM, value):\n",
    "    \n",
    "    value_padding = np.pad(value, ((0,40 - X_DIM),(0,0)), 'constant')\n",
    "    \n",
    "    return value_padding"
   ]
  },
  {
   "cell_type": "code",
   "execution_count": 42,
   "metadata": {},
   "outputs": [
    {
     "name": "stderr",
     "output_type": "stream",
     "text": [
      "100%|██████████| 100000/100000 [03:42<00:00, 450.10it/s]\n"
     ]
    }
   ],
   "source": [
    "left_train = []\n",
    "rigth_train = []\n",
    "label = []\n",
    "\n",
    "for articleID, articleTitle, tableID, tableTitle, match in tqdm(train_dataset):\n",
    "    \n",
    "    value1 = list(str(articleTitle))\n",
    "    \n",
    "    if len(value1) < 40:\n",
    "        \n",
    "        embedding1 = embedding_model.wv[value1]\n",
    "        padding_embedding1 = sequence_padding(embedding1.shape[0],embedding1)\n",
    "        left_train.append(padding_embedding1)\n",
    "    \n",
    "    else:\n",
    "        \n",
    "        embedding1 = embedding_model.wv[value1[0:40]]\n",
    "        left_train.append(embedding1)\n",
    "    \n",
    "    \n",
    "    value2 = list(str(tableTitle))\n",
    "    \n",
    "    if len(value2) < 40:\n",
    "        \n",
    "        embedding2 = embedding_model.wv[value2]\n",
    "        padding_embedding2 = sequence_padding(embedding2.shape[0],embedding2)\n",
    "        rigth_train.append(padding_embedding2)\n",
    "    \n",
    "    else:\n",
    "        \n",
    "        embedding2 = embedding_model.wv[value2[0:40]]\n",
    "        rigth_train.append(embedding2)\n",
    "    \n",
    "    \n",
    "    label.append(match)"
   ]
  },
  {
   "cell_type": "code",
   "execution_count": 43,
   "metadata": {},
   "outputs": [
    {
     "ename": "MemoryError",
     "evalue": "",
     "output_type": "error",
     "traceback": [
      "\u001b[0;31m---------------------------------------------------------------------------\u001b[0m",
      "\u001b[0;31mMemoryError\u001b[0m                               Traceback (most recent call last)",
      "\u001b[0;32m<ipython-input-43-2e873f473a9a>\u001b[0m in \u001b[0;36m<module>\u001b[0;34m\u001b[0m\n\u001b[0;32m----> 1\u001b[0;31m \u001b[0mleft_train\u001b[0m \u001b[0;34m=\u001b[0m \u001b[0mnp\u001b[0m\u001b[0;34m.\u001b[0m\u001b[0marray\u001b[0m\u001b[0;34m(\u001b[0m\u001b[0mleft_train\u001b[0m\u001b[0;34m)\u001b[0m\u001b[0;34m\u001b[0m\u001b[0;34m\u001b[0m\u001b[0m\n\u001b[0m\u001b[1;32m      2\u001b[0m \u001b[0mrigth_train\u001b[0m \u001b[0;34m=\u001b[0m \u001b[0mnp\u001b[0m\u001b[0;34m.\u001b[0m\u001b[0marray\u001b[0m\u001b[0;34m(\u001b[0m\u001b[0mrigth_train\u001b[0m\u001b[0;34m)\u001b[0m\u001b[0;34m\u001b[0m\u001b[0;34m\u001b[0m\u001b[0m\n\u001b[1;32m      3\u001b[0m \u001b[0mlabel_train\u001b[0m \u001b[0;34m=\u001b[0m \u001b[0mnp\u001b[0m\u001b[0;34m.\u001b[0m\u001b[0marray\u001b[0m\u001b[0;34m(\u001b[0m\u001b[0mlabel\u001b[0m\u001b[0;34m)\u001b[0m\u001b[0;34m\u001b[0m\u001b[0;34m\u001b[0m\u001b[0m\n",
      "\u001b[0;31mMemoryError\u001b[0m: "
     ]
    }
   ],
   "source": [
    "left_train = np.array(left_train)\n",
    "rigth_train = np.array(rigth_train)\n",
    "label_train = np.array(label)"
   ]
  },
  {
   "cell_type": "code",
   "execution_count": null,
   "metadata": {},
   "outputs": [],
   "source": [
    "left_train.shape"
   ]
  },
  {
   "cell_type": "code",
   "execution_count": 9,
   "metadata": {},
   "outputs": [
    {
     "name": "stderr",
     "output_type": "stream",
     "text": [
      "100%|██████████| 16623/16623 [00:32<00:00, 514.49it/s]\n"
     ]
    }
   ],
   "source": [
    "left_validation = []\n",
    "rigth_validation = []\n",
    "label_validation = []\n",
    "\n",
    "for articleID, articleTitle, tableID, tableTitle, match in tqdm(validation_dataset):\n",
    "    \n",
    "    value1 = list(str(articleTitle))\n",
    "    \n",
    "    if len(value1) < 40:\n",
    "        \n",
    "        embedding1 = embedding_model.wv[value1]\n",
    "        padding_embedding1 = sequence_padding(embedding1.shape[0],embedding1)\n",
    "        left_validation.append(padding_embedding1)\n",
    "    \n",
    "    else:\n",
    "        \n",
    "        embedding1 = embedding_model.wv[value1[0:40]]\n",
    "        left_validation.append(embedding1)\n",
    "    \n",
    "    \n",
    "    value2 = list(str(tableTitle))\n",
    "    \n",
    "    if len(value2) < 40:\n",
    "        \n",
    "        embedding2 = embedding_model.wv[value2]\n",
    "        padding_embedding2 = sequence_padding(embedding2.shape[0],embedding2)\n",
    "        rigth_validation.append(padding_embedding2)\n",
    "    \n",
    "    else:\n",
    "        \n",
    "        embedding2 = embedding_model.wv[value2[0:40]]\n",
    "        rigth_validation.append(embedding2)\n",
    "    \n",
    "    \n",
    "    label_validation.append(match)"
   ]
  },
  {
   "cell_type": "code",
   "execution_count": 10,
   "metadata": {},
   "outputs": [],
   "source": [
    "left_validation = np.array(left_validation)\n",
    "rigth_validation = np.array(rigth_validation)\n",
    "label_validation = np.array(label_validation)"
   ]
  },
  {
   "cell_type": "code",
   "execution_count": 11,
   "metadata": {},
   "outputs": [
    {
     "data": {
      "text/plain": [
       "(16623, 40, 300)"
      ]
     },
     "execution_count": 11,
     "metadata": {},
     "output_type": "execute_result"
    }
   ],
   "source": [
    "left_validation.shape"
   ]
  },
  {
   "cell_type": "code",
   "execution_count": null,
   "metadata": {},
   "outputs": [],
   "source": []
  },
  {
   "cell_type": "code",
   "execution_count": 12,
   "metadata": {},
   "outputs": [],
   "source": [
    "def sequence_padding1(X_DIM, value):\n",
    "    \n",
    "    value_padding = np.pad(value, ((0,9 - X_DIM),(0,0)), 'constant')\n",
    "    \n",
    "    return value_padding"
   ]
  },
  {
   "cell_type": "code",
   "execution_count": null,
   "metadata": {},
   "outputs": [],
   "source": []
  },
  {
   "cell_type": "code",
   "execution_count": null,
   "metadata": {},
   "outputs": [],
   "source": []
  },
  {
   "cell_type": "code",
   "execution_count": null,
   "metadata": {},
   "outputs": [],
   "source": [
    "left_train1 = []\n",
    "rigth_train1 = []\n",
    "\n",
    "for articleID, articleTitle, tableID, tableTitle, match in tqdm(train_dataset):\n",
    "    \n",
    "    value1 = tknzr.tokenize(str(articleTitle))\n",
    "    \n",
    "    if len(value1) < 9:\n",
    "        \n",
    "        embedding1 = embedding_model.wv[value1]\n",
    "        padding_embedding1 = sequence_padding1(embedding1.shape[0],embedding1)\n",
    "        left_train1.append(padding_embedding1)\n",
    "    \n",
    "    else:\n",
    "        \n",
    "        embedding1 = embedding_model.wv[value1[0:9]]\n",
    "        left_train1.append(embedding1)\n",
    "    \n",
    "    \n",
    "    value2 = tknzr.tokenize(str(tableTitle))\n",
    "    \n",
    "    if len(value2) < 9:\n",
    "        \n",
    "        embedding2 = embedding_model.wv[value2]\n",
    "        padding_embedding2 = sequence_padding1(embedding2.shape[0],embedding2)\n",
    "        rigth_train1.append(padding_embedding2)\n",
    "    \n",
    "    else:\n",
    "        \n",
    "        embedding2 = embedding_model.wv[value2[0:9]]\n",
    "        rigth_train1.append(embedding2)"
   ]
  },
  {
   "cell_type": "code",
   "execution_count": null,
   "metadata": {},
   "outputs": [],
   "source": [
    "left_train1 = np.array(left_train1)\n",
    "rigth_train1 = np.array(rigth_train1)"
   ]
  },
  {
   "cell_type": "code",
   "execution_count": null,
   "metadata": {},
   "outputs": [],
   "source": [
    "left_train1.shape"
   ]
  },
  {
   "cell_type": "code",
   "execution_count": null,
   "metadata": {},
   "outputs": [],
   "source": []
  },
  {
   "cell_type": "code",
   "execution_count": 16,
   "metadata": {},
   "outputs": [
    {
     "name": "stderr",
     "output_type": "stream",
     "text": [
      "100%|██████████| 16623/16623 [00:13<00:00, 1206.13it/s]\n"
     ]
    }
   ],
   "source": [
    "left_validation1 = []\n",
    "rigth_validation1 = []\n",
    "\n",
    "for articleID, articleTitle, tableID, tableTitle, match in tqdm(validation_dataset):\n",
    "    \n",
    "    value1 = tknzr.tokenize(str(articleTitle))\n",
    "    \n",
    "    if len(value1) < 9:\n",
    "        \n",
    "        embedding1 = embedding_model.wv[value1]\n",
    "        padding_embedding1 = sequence_padding1(embedding1.shape[0],embedding1)\n",
    "        left_validation1.append(padding_embedding1)\n",
    "    \n",
    "    else:\n",
    "        \n",
    "        embedding1 = embedding_model.wv[value1[0:9]]\n",
    "        left_validation1.append(embedding1)\n",
    "    \n",
    "    \n",
    "    value2 = tknzr.tokenize(str(tableTitle))\n",
    "    \n",
    "    if len(value2) < 9:\n",
    "        \n",
    "        embedding2 = embedding_model.wv[value2]\n",
    "        padding_embedding2 = sequence_padding1(embedding2.shape[0],embedding2)\n",
    "        rigth_validation1.append(padding_embedding2)\n",
    "    \n",
    "    else:\n",
    "        \n",
    "        embedding2 = embedding_model.wv[value2[0:9]]\n",
    "        rigth_validation1.append(embedding2)\n"
   ]
  },
  {
   "cell_type": "code",
   "execution_count": 17,
   "metadata": {},
   "outputs": [],
   "source": [
    "left_validation1 = np.array(left_validation1)\n",
    "rigth_validation1 = np.array(rigth_validation1)"
   ]
  },
  {
   "cell_type": "code",
   "execution_count": 18,
   "metadata": {},
   "outputs": [
    {
     "data": {
      "text/plain": [
       "(16623, 9, 300)"
      ]
     },
     "execution_count": 18,
     "metadata": {},
     "output_type": "execute_result"
    }
   ],
   "source": [
    "left_validation1.shape"
   ]
  },
  {
   "cell_type": "code",
   "execution_count": null,
   "metadata": {},
   "outputs": [],
   "source": []
  },
  {
   "cell_type": "code",
   "execution_count": null,
   "metadata": {},
   "outputs": [],
   "source": []
  },
  {
   "cell_type": "code",
   "execution_count": null,
   "metadata": {},
   "outputs": [],
   "source": []
  },
  {
   "cell_type": "code",
   "execution_count": null,
   "metadata": {},
   "outputs": [],
   "source": []
  },
  {
   "cell_type": "code",
   "execution_count": 19,
   "metadata": {},
   "outputs": [],
   "source": [
    "def coattention_method(query, document):\n",
    "    \n",
    "    transpose_document = tf.transpose(document,perm=[0, 2, 1])\n",
    "    \n",
    "    affinity = tf.matmul(query,transpose_document)\n",
    "    \n",
    "    return affinity"
   ]
  },
  {
   "cell_type": "code",
   "execution_count": 20,
   "metadata": {},
   "outputs": [],
   "source": [
    "def attention_model():\n",
    "    \n",
    "    query = tf.keras.Input(shape=(40,300), dtype='float32')\n",
    "    document = tf.keras.Input(shape=(40,300), dtype='float32')\n",
    "    \n",
    "    query1 = tf.keras.Input(shape=(9,300), dtype='float32')\n",
    "    document1 = tf.keras.Input(shape=(9,300), dtype='float32')\n",
    "    \n",
    "    conv1 = tf.keras.layers.Conv1D(8, kernel_size=3, activation='relu')(query)\n",
    "    conv2 = tf.keras.layers.Conv1D(8, kernel_size=3, activation='relu')(document)\n",
    "    flatten1 = tf.keras.layers.Flatten()(conv1)\n",
    "    flatten2 = tf.keras.layers.Flatten()(conv2)\n",
    "    concat_flatten = tf.keras.layers.concatenate([flatten1,flatten2], axis=-1)\n",
    "    \n",
    "    encodding_query = tf.keras.layers.Bidirectional(tf.keras.layers.LSTM(64, return_sequences=True))(query1)\n",
    "    encodding_document = tf.keras.layers.Bidirectional(tf.keras.layers.LSTM(64, return_sequences=True))(document1)\n",
    "    co_attention = coattention_method(encodding_query,encodding_document)\n",
    "    flatten_affinity = tf.keras.layers.Flatten()(co_attention)\n",
    "    \n",
    "    final = tf.keras.layers.concatenate([concat_flatten,flatten_affinity], axis=-1)\n",
    "    \n",
    "    prediction = tf.keras.layers.Dense(1,activation='sigmoid')(final)\n",
    "    \n",
    "    model = tf.keras.Model(inputs=[query,document, query1, document1],outputs=prediction)\n",
    "    \n",
    "    return model"
   ]
  },
  {
   "cell_type": "code",
   "execution_count": 21,
   "metadata": {},
   "outputs": [],
   "source": [
    "model = attention_model()"
   ]
  },
  {
   "cell_type": "code",
   "execution_count": 22,
   "metadata": {},
   "outputs": [
    {
     "name": "stdout",
     "output_type": "stream",
     "text": [
      "Model: \"model\"\n",
      "__________________________________________________________________________________________________\n",
      "Layer (type)                    Output Shape         Param #     Connected to                     \n",
      "==================================================================================================\n",
      "input_4 (InputLayer)            [(None, 9, 300)]     0                                            \n",
      "__________________________________________________________________________________________________\n",
      "input_1 (InputLayer)            [(None, 40, 300)]    0                                            \n",
      "__________________________________________________________________________________________________\n",
      "input_2 (InputLayer)            [(None, 40, 300)]    0                                            \n",
      "__________________________________________________________________________________________________\n",
      "input_3 (InputLayer)            [(None, 9, 300)]     0                                            \n",
      "__________________________________________________________________________________________________\n",
      "bidirectional_1 (Bidirectional) (None, 9, 128)       186880      input_4[0][0]                    \n",
      "__________________________________________________________________________________________________\n",
      "conv1d (Conv1D)                 (None, 38, 8)        7208        input_1[0][0]                    \n",
      "__________________________________________________________________________________________________\n",
      "conv1d_1 (Conv1D)               (None, 38, 8)        7208        input_2[0][0]                    \n",
      "__________________________________________________________________________________________________\n",
      "bidirectional (Bidirectional)   (None, 9, 128)       186880      input_3[0][0]                    \n",
      "__________________________________________________________________________________________________\n",
      "tf_op_layer_transpose (TensorFl [(None, 128, 9)]     0           bidirectional_1[0][0]            \n",
      "__________________________________________________________________________________________________\n",
      "flatten (Flatten)               (None, 304)          0           conv1d[0][0]                     \n",
      "__________________________________________________________________________________________________\n",
      "flatten_1 (Flatten)             (None, 304)          0           conv1d_1[0][0]                   \n",
      "__________________________________________________________________________________________________\n",
      "tf_op_layer_MatMul (TensorFlowO [(None, 9, 9)]       0           bidirectional[0][0]              \n",
      "                                                                 tf_op_layer_transpose[0][0]      \n",
      "__________________________________________________________________________________________________\n",
      "concatenate (Concatenate)       (None, 608)          0           flatten[0][0]                    \n",
      "                                                                 flatten_1[0][0]                  \n",
      "__________________________________________________________________________________________________\n",
      "flatten_2 (Flatten)             (None, 81)           0           tf_op_layer_MatMul[0][0]         \n",
      "__________________________________________________________________________________________________\n",
      "concatenate_1 (Concatenate)     (None, 689)          0           concatenate[0][0]                \n",
      "                                                                 flatten_2[0][0]                  \n",
      "__________________________________________________________________________________________________\n",
      "dense (Dense)                   (None, 1)            690         concatenate_1[0][0]              \n",
      "==================================================================================================\n",
      "Total params: 388,866\n",
      "Trainable params: 388,866\n",
      "Non-trainable params: 0\n",
      "__________________________________________________________________________________________________\n"
     ]
    }
   ],
   "source": [
    "model.summary()"
   ]
  },
  {
   "cell_type": "code",
   "execution_count": 23,
   "metadata": {},
   "outputs": [],
   "source": [
    "model.compile(loss=\"binary_crossentropy\",optimizer=\"adam\", metrics=['accuracy'])"
   ]
  },
  {
   "cell_type": "code",
   "execution_count": 24,
   "metadata": {},
   "outputs": [
    {
     "name": "stdout",
     "output_type": "stream",
     "text": [
      "Train on 50000 samples, validate on 16623 samples\n",
      "Epoch 1/10\n",
      "50000/50000 [==============================] - 161s 3ms/sample - loss: 0.2489 - accuracy: 0.9048 - val_loss: 0.2170 - val_accuracy: 0.9154\n",
      "Epoch 2/10\n",
      "50000/50000 [==============================] - 126s 3ms/sample - loss: 0.1843 - accuracy: 0.9289 - val_loss: 0.2082 - val_accuracy: 0.9180\n",
      "Epoch 3/10\n",
      "50000/50000 [==============================] - 126s 3ms/sample - loss: 0.1408 - accuracy: 0.9476 - val_loss: 0.2153 - val_accuracy: 0.9185\n",
      "Epoch 4/10\n",
      "50000/50000 [==============================] - 124s 2ms/sample - loss: 0.1032 - accuracy: 0.9624 - val_loss: 0.2386 - val_accuracy: 0.9152\n",
      "Epoch 5/10\n",
      "50000/50000 [==============================] - 124s 2ms/sample - loss: 0.0715 - accuracy: 0.9746 - val_loss: 0.2834 - val_accuracy: 0.9090\n",
      "Epoch 6/10\n",
      "50000/50000 [==============================] - 121s 2ms/sample - loss: 0.0477 - accuracy: 0.9833 - val_loss: 0.3164 - val_accuracy: 0.9126\n",
      "Epoch 7/10\n",
      "50000/50000 [==============================] - 120s 2ms/sample - loss: 0.0316 - accuracy: 0.9892 - val_loss: 0.4035 - val_accuracy: 0.9016\n",
      "Epoch 8/10\n",
      "50000/50000 [==============================] - 120s 2ms/sample - loss: 0.0237 - accuracy: 0.9919 - val_loss: 0.3701 - val_accuracy: 0.9189\n",
      "Epoch 9/10\n",
      "50000/50000 [==============================] - 120s 2ms/sample - loss: 0.0184 - accuracy: 0.9939 - val_loss: 0.4752 - val_accuracy: 0.9038\n",
      "Epoch 10/10\n",
      "50000/50000 [==============================] - 118s 2ms/sample - loss: 0.0142 - accuracy: 0.9955 - val_loss: 0.4748 - val_accuracy: 0.9179\n"
     ]
    }
   ],
   "source": [
    "history = model.fit([left_train, rigth_train, left_train1, rigth_train1], label_train, \n",
    "          epochs=10, \n",
    "          batch_size=32, \n",
    "          validation_data=([left_validation, rigth_validation, left_validation1, rigth_validation1], label_validation))\n",
    "          #callbacks=callbacks_list)"
   ]
  },
  {
   "cell_type": "code",
   "execution_count": 53,
   "metadata": {},
   "outputs": [],
   "source": [
    "model.save('model_char_embedding.h5')"
   ]
  },
  {
   "cell_type": "code",
   "execution_count": null,
   "metadata": {},
   "outputs": [],
   "source": []
  },
  {
   "cell_type": "code",
   "execution_count": null,
   "metadata": {},
   "outputs": [],
   "source": []
  },
  {
   "cell_type": "code",
   "execution_count": 25,
   "metadata": {},
   "outputs": [],
   "source": [
    "y_prob = model.predict([left_validation,rigth_validation, left_validation1,rigth_validation1])"
   ]
  },
  {
   "cell_type": "code",
   "execution_count": 26,
   "metadata": {},
   "outputs": [],
   "source": [
    "y_prob = (y_prob > 0.5).astype(np.int)"
   ]
  },
  {
   "cell_type": "code",
   "execution_count": 27,
   "metadata": {},
   "outputs": [
    {
     "data": {
      "text/plain": [
       "0.9179450159417675"
      ]
     },
     "execution_count": 27,
     "metadata": {},
     "output_type": "execute_result"
    }
   ],
   "source": [
    "accuracy_score(label_validation, y_prob)"
   ]
  },
  {
   "cell_type": "code",
   "execution_count": 28,
   "metadata": {},
   "outputs": [],
   "source": [
    "classes=[0,1]\n",
    "con_mat = tf.math.confusion_matrix(labels=label_validation, predictions=y_prob).numpy()\n",
    "con_mat_norm = np.around(con_mat.astype('float') / con_mat.sum(axis=1)[:, np.newaxis], decimals=2)\n",
    "con_mat_df = pd.DataFrame(con_mat_norm,\n",
    "                     index = classes, \n",
    "                     columns = classes)"
   ]
  },
  {
   "cell_type": "code",
   "execution_count": 29,
   "metadata": {},
   "outputs": [
    {
     "data": {
      "image/png": "[encoded data removed]",
      "text/plain": [
       "<Figure size 576x576 with 2 Axes>"
      ]
     },
     "metadata": {
      "needs_background": "light"
     },
     "output_type": "display_data"
    }
   ],
   "source": [
    "import seaborn as sns;\n",
    "figure = plt.figure(figsize=(8, 8))\n",
    "sns.heatmap(con_mat_df, annot=True,cmap=plt.cm.Blues)\n",
    "plt.tight_layout()\n",
    "plt.ylabel('True label')\n",
    "plt.xlabel('Predicted label')\n",
    "plt.show()"
   ]
  },
  {
   "cell_type": "code",
   "execution_count": null,
   "metadata": {},
   "outputs": [],
   "source": []
  },
  {
   "cell_type": "code",
   "execution_count": null,
   "metadata": {},
   "outputs": [],
   "source": []
  },
  {
   "cell_type": "code",
   "execution_count": 30,
   "metadata": {},
   "outputs": [],
   "source": [
    "from elasticsearch import Elasticsearch\n",
    "indexing_tables = Elasticsearch()"
   ]
  },
  {
   "cell_type": "code",
   "execution_count": 31,
   "metadata": {},
   "outputs": [],
   "source": [
    "raw_articles = pd.read_csv('dataset/test_dataset', delimiter=',', header=None)\n",
    "data_articles = raw_articles.iloc[:,:].values"
   ]
  },
  {
   "cell_type": "code",
   "execution_count": 32,
   "metadata": {},
   "outputs": [],
   "source": [
    "def search_indexing(query):\n",
    "    \n",
    "    result= indexing_tables.search(\n",
    "        index=\"tables\", \n",
    "        body = {\n",
    "        \"_source\": [\"tablePgID\",\"tablePgTitle\"],\n",
    "        \"from\" : 0,\n",
    "        \"size\" : 1000,\n",
    "        \"query\": {\n",
    "            \"multi_match\":{\n",
    "              \"type\": \"most_fields\",\n",
    "              \"query\":    query, \n",
    "              \"fields\": [\"tablePgTitle\",\"tableHeader\",\"tableBody\"] \n",
    "            }\n",
    "        }\n",
    "    })\n",
    "    \n",
    "    return result"
   ]
  },
  {
   "cell_type": "code",
   "execution_count": 33,
   "metadata": {},
   "outputs": [],
   "source": [
    "def get_accuracy(ID_goal,ranked_tables_ID):\n",
    "    \n",
    "    accuracy = 0\n",
    "    \n",
    "    for table_ID in ranked_tables_ID:\n",
    "        \n",
    "        if table_ID == ID_goal:\n",
    "    \n",
    "            accuracy = 1\n",
    "            break;\n",
    "\n",
    "    return accuracy"
   ]
  },
  {
   "cell_type": "code",
   "execution_count": 34,
   "metadata": {},
   "outputs": [],
   "source": [
    "def search_index(article_title):\n",
    "    \n",
    "    tables_index = []\n",
    "\n",
    "    result_index = search_indexing(article_title)\n",
    "        \n",
    "    for hit in result_index['hits']['hits']:\n",
    "    \n",
    "        table_ID = hit['_source']['tablePgID']\n",
    "        \n",
    "        table_page_title = hit['_source']['tablePgTitle']\n",
    "    \n",
    "        tables_index.append([table_ID,table_page_title])\n",
    "    \n",
    "    return tables_index"
   ]
  },
  {
   "cell_type": "code",
   "execution_count": 35,
   "metadata": {},
   "outputs": [],
   "source": [
    "def create_embedding(value):\n",
    "\n",
    "    value = list(str(value))\n",
    "    \n",
    "    if len(value) < 40:\n",
    "        \n",
    "        embedding = embedding_model.wv[value]\n",
    "        \n",
    "        padding_embedding = sequence_padding(embedding.shape[0],embedding)\n",
    "        \n",
    "        return padding_embedding\n",
    "        \n",
    "    else:\n",
    "        \n",
    "        embedding = embedding_model.wv[value[0:40]]\n",
    "        \n",
    "        return embedding"
   ]
  },
  {
   "cell_type": "code",
   "execution_count": 37,
   "metadata": {},
   "outputs": [],
   "source": [
    "def create_embedding1(value):\n",
    "\n",
    "    value = list(str(value))\n",
    "    \n",
    "    if len(value) < 9:\n",
    "        \n",
    "        embedding = embedding_model.wv[value]\n",
    "        \n",
    "        padding_embedding = sequence_padding1(embedding.shape[0],embedding)\n",
    "        \n",
    "        return padding_embedding\n",
    "        \n",
    "    else:\n",
    "        \n",
    "        embedding = embedding_model.wv[value[0:9]]\n",
    "        \n",
    "        return embedding"
   ]
  },
  {
   "cell_type": "code",
   "execution_count": 18,
   "metadata": {},
   "outputs": [],
   "source": [
    "ranking_model = tf.keras.models.load_model('model_char_embedding.h5')"
   ]
  },
  {
   "cell_type": "code",
   "execution_count": 36,
   "metadata": {},
   "outputs": [],
   "source": [
    "ranking_model = model"
   ]
  },
  {
   "cell_type": "code",
   "execution_count": 39,
   "metadata": {},
   "outputs": [],
   "source": [
    "def run_search(k):\n",
    "    \n",
    "    TOP_K = k\n",
    "    accuracy = []\n",
    "    \n",
    "    for article_ID, article_title, article_text, meta_description, summary, keywords, meta_keywords, tags in tqdm(data_articles[0:100]):\n",
    "    \n",
    "        embedding_left = []\n",
    "        embedding_rigth = []\n",
    "        embedding_left1 = []\n",
    "        embedding_rigth1 = []\n",
    "        ranked_tables_model = []\n",
    "    \n",
    "        catch = article_title+\" \"+summary+\" \"+keywords\n",
    "        \n",
    "        ranked_tables_index = search_index(catch)\n",
    "        \n",
    "        article_title_embedding = create_embedding(article_title)\n",
    "        article_title_embedding1 = create_embedding1(article_title)\n",
    "        \n",
    "        for table_ID, table_title in (ranked_tables_index):\n",
    "        \n",
    "            table_title_embedding = create_embedding(str(table_title))\n",
    "            table_title_embedding1 = create_embedding1(str(table_title))\n",
    "            \n",
    "            embedding_left.append(article_title_embedding)\n",
    "            embedding_rigth.append(table_title_embedding)\n",
    "            \n",
    "            embedding_left1.append(article_title_embedding1)\n",
    "            embedding_rigth1.append(table_title_embedding1)\n",
    "    \n",
    "        embedding_left = np.array(embedding_left)\n",
    "        embedding_rigth = np.array(embedding_rigth)\n",
    "        \n",
    "        embedding_left1 = np.array(embedding_left1)\n",
    "        embedding_rigth1 = np.array(embedding_rigth1)\n",
    "    \n",
    "        table_ranking_model = ranking_model.predict([embedding_left,embedding_rigth, embedding_left1,embedding_rigth1])\n",
    "    \n",
    "        for i in range(0,len(table_ranking_model)):\n",
    "        \n",
    "            ranked_tables_model.append([ranked_tables_index[i][0],ranked_tables_index[i][1],table_ranking_model[i][0]]) \n",
    "        \n",
    "        data_frame = pd.DataFrame(ranked_tables_model, columns = ['table_ID', 'table_title','table_ranking']) \n",
    "        data_frame_sorting = data_frame.sort_values('table_ranking', ascending=False)\n",
    "        final_ranked_tables = data_frame_sorting.iloc[0:TOP_K,0:1].values\n",
    "           \n",
    "        accuracy.append(get_accuracy(article_ID, final_ranked_tables))\n",
    "        #print(accuracy)\n",
    "        \n",
    "    print(\"\")\n",
    "    print(\"Acc@\"+str(k))\n",
    "    print(str(round(np.mean(accuracy),4)))\n",
    "    #print(accuracy)"
   ]
  },
  {
   "cell_type": "code",
   "execution_count": 40,
   "metadata": {},
   "outputs": [
    {
     "name": "stderr",
     "output_type": "stream",
     "text": [
      "100%|██████████| 100/100 [04:37<00:00,  2.77s/it]"
     ]
    },
    {
     "name": "stdout",
     "output_type": "stream",
     "text": [
      "\n",
      "Acc@100\n",
      "0.14\n"
     ]
    },
    {
     "name": "stderr",
     "output_type": "stream",
     "text": [
      "\n"
     ]
    }
   ],
   "source": [
    "accuracy_K = [100]\n",
    "\n",
    "for k in accuracy_K:\n",
    "     \n",
    "    run_search(k)"
   ]
  },
  {
   "cell_type": "code",
   "execution_count": null,
   "metadata": {},
   "outputs": [],
   "source": []
  },
  {
   "cell_type": "code",
   "execution_count": null,
   "metadata": {},
   "outputs": [],
   "source": []
  },
  {
   "cell_type": "code",
   "execution_count": null,
   "metadata": {},
   "outputs": [],
   "source": []
  },
  {
   "cell_type": "code",
   "execution_count": null,
   "metadata": {},
   "outputs": [],
   "source": []
  },
  {
   "cell_type": "code",
   "execution_count": null,
   "metadata": {},
   "outputs": [],
   "source": []
  }
 ],
 "metadata": {
  "kernelspec": {
   "display_name": "Python 3",
   "language": "python",
   "name": "python3"
  },
  "language_info": {
   "codemirror_mode": {
    "name": "ipython",
    "version": 3
   },
   "file_extension": ".py",
   "mimetype": "text/x-python",
   "name": "python",
   "nbconvert_exporter": "python",
   "pygments_lexer": "ipython3",
   "version": "3.7.3"
  }
 },
 "nbformat": 4,
 "nbformat_minor": 2
}
