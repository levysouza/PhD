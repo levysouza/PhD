{
 "cells": [
  {
   "cell_type": "code",
   "execution_count": 1,
   "metadata": {},
   "outputs": [],
   "source": [
    "from tqdm import tqdm\n",
    "import numpy as np\n",
    "import pandas as pd\n",
    "from sklearn.feature_extraction.text import TfidfVectorizer\n",
    "from scipy.spatial import distance\n",
    "from heapq import nsmallest\n",
    "from sklearn.metrics import pairwise_distances\n",
    "import random\n",
    "from gensim.models.doc2vec import Doc2Vec, TaggedDocument\n",
    "from gensim.test.utils import get_tmpfile\n",
    "from nltk.tokenize import TweetTokenizer\n",
    "tknzr = TweetTokenizer()"
   ]
  },
  {
   "cell_type": "code",
   "execution_count": 2,
   "metadata": {},
   "outputs": [],
   "source": [
    "articles = pd.read_csv('articlesDataset/articlesTestDataset', delimiter=',', header=None)\n",
    "tables = pd.read_csv('articlesDataset/cleanDataTables', delimiter=',', header=None)"
   ]
  },
  {
   "cell_type": "code",
   "execution_count": 3,
   "metadata": {},
   "outputs": [],
   "source": [
    "formattedArticles = articles.iloc[:,:].values\n",
    "formattedTables = tables.iloc[:,:].values"
   ]
  },
  {
   "cell_type": "code",
   "execution_count": 4,
   "metadata": {},
   "outputs": [
    {
     "name": "stderr",
     "output_type": "stream",
     "text": [
      "/home/lss9/anaconda3/lib/python3.7/site-packages/smart_open/smart_open_lib.py:398: UserWarning: This function is deprecated, use smart_open.open instead. See the migration notes for details: https://github.com/RaRe-Technologies/smart_open/blob/master/README.rst#migrating-to-the-new-open-function\n",
      "  'See the migration notes for details: %s' % _MIGRATION_NOTES_URL\n"
     ]
    }
   ],
   "source": [
    "embedding_model = Doc2Vec.load('pre-trained-models/doc2vec.bin')"
   ]
  },
  {
   "cell_type": "code",
   "execution_count": null,
   "metadata": {},
   "outputs": [],
   "source": []
  },
  {
   "cell_type": "code",
   "execution_count": 5,
   "metadata": {},
   "outputs": [
    {
     "name": "stderr",
     "output_type": "stream",
     "text": [
      "100%|██████████| 298793/298793 [10:04<00:00, 494.43it/s]\n"
     ]
    }
   ],
   "source": [
    "tablesByCharacteristics = []\n",
    "\n",
    "for tables in tqdm(formattedTables):\n",
    "    \n",
    "    field = str(tables[1])\n",
    "    \n",
    "    vector_words = tknzr.tokenize(field)\n",
    "    \n",
    "    word_embedding = embedding_model.infer_vector(vector_words)\n",
    "    \n",
    "    tablesByCharacteristics.append(word_embedding)"
   ]
  },
  {
   "cell_type": "code",
   "execution_count": null,
   "metadata": {},
   "outputs": [],
   "source": []
  },
  {
   "cell_type": "code",
   "execution_count": 6,
   "metadata": {},
   "outputs": [
    {
     "name": "stderr",
     "output_type": "stream",
     "text": [
      "100%|██████████| 1000/1000 [06:29<00:00,  3.17it/s]\n"
     ]
    }
   ],
   "source": [
    "corpusArticlesID = []\n",
    "articlesByCharacteristics = []\n",
    "\n",
    "for articles in tqdm(formattedArticles[0:1000]):\n",
    "    \n",
    "    articlePgID = articles[0]\n",
    "    \n",
    "    articleTitle = str(articles[1])\n",
    "    \n",
    "    articleText = str(articles[2])\n",
    "    \n",
    "    catchAll = articleTitle + ' ' + articleText\n",
    "    \n",
    "    corpusArticlesID.append(articlePgID)\n",
    "        \n",
    "    #embedding\n",
    "    vector_words = tknzr.tokenize(articleText)\n",
    "    \n",
    "    word_embedding = embedding_model.infer_vector(vector_words)\n",
    "    \n",
    "    articlesByCharacteristics.append(word_embedding)"
   ]
  },
  {
   "cell_type": "code",
   "execution_count": null,
   "metadata": {},
   "outputs": [],
   "source": []
  },
  {
   "cell_type": "code",
   "execution_count": 7,
   "metadata": {},
   "outputs": [],
   "source": [
    "def getIdRankedTalbes(topK,distanceVector):\n",
    "\n",
    "    idRankedTables = []\n",
    "\n",
    "    for topkDistance in topK:\n",
    "        \n",
    "        index = np.where(distanceVector == topkDistance)\n",
    "         \n",
    "        indexColummun = index[0][0]\n",
    "        \n",
    "        idRankedTables.append(formattedTables[indexColummun][0])\n",
    "\n",
    "    return idRankedTables"
   ]
  },
  {
   "cell_type": "code",
   "execution_count": 8,
   "metadata": {},
   "outputs": [],
   "source": [
    "def getAccuracy(idRankedTables, idQueryGoal):\n",
    "\n",
    "    accuracy = 0\n",
    "\n",
    "    for idTable in idRankedTables:\n",
    "    \n",
    "        if idTable == idQueryGoal:\n",
    "    \n",
    "            accuracy = 1\n",
    "            break;\n",
    "\n",
    "    return accuracy"
   ]
  },
  {
   "cell_type": "code",
   "execution_count": 9,
   "metadata": {},
   "outputs": [],
   "source": [
    "def saveAccuracy(k,accuracy):\n",
    "    \n",
    "    if k == 1:\n",
    "            \n",
    "        AverageTop1.append(accuracy)\n",
    "        \n",
    "    if k == 10:\n",
    "            \n",
    "        AverageTop10.append(accuracy)\n",
    "        \n",
    "    if k == 100:\n",
    "            \n",
    "        AverageTop100.append(accuracy)\n",
    "        \n",
    "    if k == 1000:\n",
    "            \n",
    "        AverageTop1000.append(accuracy)"
   ]
  },
  {
   "cell_type": "code",
   "execution_count": null,
   "metadata": {},
   "outputs": [],
   "source": []
  },
  {
   "cell_type": "code",
   "execution_count": 10,
   "metadata": {},
   "outputs": [
    {
     "name": "stderr",
     "output_type": "stream",
     "text": [
      "100%|██████████| 1000/1000 [2:09:14<00:00,  6.62s/it] \n"
     ]
    }
   ],
   "source": [
    "AverageTop1 = []\n",
    "AverageTop10 = []\n",
    "AverageTop100 = []\n",
    "AverageTop1000 = []\n",
    "\n",
    "topK = [1,10,100,1000]\n",
    "\n",
    "for i in tqdm(range(len(articlesByCharacteristics))):\n",
    "    \n",
    "    distanceVector = pairwise_distances(articlesByCharacteristics[i].reshape(1,300), tablesByCharacteristics, metric='cosine')\n",
    "    \n",
    "    idQueryGoal = int(corpusArticlesID[i])\n",
    "    \n",
    "    for accuracyK in topK:\n",
    "        \n",
    "        countTopTables = accuracyK\n",
    "        \n",
    "        topKRank = nsmallest(countTopTables, distanceVector[0])\n",
    "    \n",
    "        idRankedTables = getIdRankedTalbes(topKRank,distanceVector[0])\n",
    "        \n",
    "        accuracy_value = getAccuracy(idRankedTables,idQueryGoal)\n",
    "        \n",
    "        #save the accuracy on the list\n",
    "        saveAccuracy(accuracyK,accuracy_value)"
   ]
  },
  {
   "cell_type": "code",
   "execution_count": 11,
   "metadata": {},
   "outputs": [
    {
     "name": "stdout",
     "output_type": "stream",
     "text": [
      "0.002 (±) 0.0447\n",
      "0.009 (±) 0.0944\n",
      "0.034 (±) 0.1812\n",
      "0.109 (±) 0.3116\n"
     ]
    }
   ],
   "source": [
    "print(str(round(np.mean(AverageTop1),4))+\" (±) \"+str(round(np.std(AverageTop1),4)))\n",
    "print(str(round(np.mean(AverageTop10),4))+\" (±) \"+str(round(np.std(AverageTop10),4)))\n",
    "print(str(round(np.mean(AverageTop100),4))+\" (±) \"+str(round(np.std(AverageTop100),4)))\n",
    "print(str(round(np.mean(AverageTop1000),4))+\" (±) \"+str(round(np.std(AverageTop1000),4)))"
   ]
  },
  {
   "cell_type": "code",
   "execution_count": null,
   "metadata": {},
   "outputs": [],
   "source": []
  },
  {
   "cell_type": "code",
   "execution_count": null,
   "metadata": {},
   "outputs": [],
   "source": []
  },
  {
   "cell_type": "code",
   "execution_count": null,
   "metadata": {},
   "outputs": [],
   "source": []
  },
  {
   "cell_type": "code",
   "execution_count": null,
   "metadata": {},
   "outputs": [],
   "source": []
  },
  {
   "cell_type": "code",
   "execution_count": null,
   "metadata": {},
   "outputs": [],
   "source": []
  }
 ],
 "metadata": {
  "kernelspec": {
   "display_name": "Python 3",
   "language": "python",
   "name": "python3"
  },
  "language_info": {
   "codemirror_mode": {
    "name": "ipython",
    "version": 3
   },
   "file_extension": ".py",
   "mimetype": "text/x-python",
   "name": "python",
   "nbconvert_exporter": "python",
   "pygments_lexer": "ipython3",
   "version": "3.7.3"
  }
 },
 "nbformat": 4,
 "nbformat_minor": 2
}
