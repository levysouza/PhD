{
 "cells": [
  {
   "cell_type": "code",
   "execution_count": 1,
   "metadata": {},
   "outputs": [],
   "source": [
    "import json\n",
    "import re\n",
    "import os\n",
    "import glob"
   ]
  },
  {
   "cell_type": "code",
   "execution_count": 6,
   "metadata": {},
   "outputs": [],
   "source": [
    "#read tables\n",
    "json_dir_name = \"Datasets/\"\n",
    "json_pattern = os.path.join(json_dir_name,'*.json')\n",
    "file_list = glob.glob(json_pattern)\n",
    "                            \n",
    "#with open('Datasets/re_tables-0370.json') as f:\n",
    "  \n",
    "#    dataJSON = json.load(f)\n",
    "\n",
    "#f.close()\n",
    "#dataJSON = []\n",
    "\n",
    "for file in file_list:\n",
    "  \n",
    "    with open(file) as f:\n",
    "        \n",
    "        dataJSON = json.load(f)\n",
    "        \n",
    "        readJSON(dataJSON)\n",
    "\n",
    "f.close()"
   ]
  },
  {
   "cell_type": "code",
   "execution_count": null,
   "metadata": {},
   "outputs": [],
   "source": []
  },
  {
   "cell_type": "code",
   "execution_count": 2,
   "metadata": {},
   "outputs": [],
   "source": [
    "#read queries\n",
    "with open('Datasets/queries.txt') as f:\n",
    "  \n",
    "    queries = f.read().splitlines()\n",
    "\n",
    "f.close()"
   ]
  },
  {
   "cell_type": "code",
   "execution_count": 3,
   "metadata": {},
   "outputs": [],
   "source": [
    "fullTextTable = []"
   ]
  },
  {
   "cell_type": "code",
   "execution_count": 4,
   "metadata": {},
   "outputs": [],
   "source": [
    "def readColumns(title):\n",
    "    \n",
    "    aux = \"\"\n",
    "    \n",
    "    for i in title:\n",
    "        \n",
    "        aux = aux + i + \" \"\n",
    "        \n",
    "    return aux"
   ]
  },
  {
   "cell_type": "code",
   "execution_count": 5,
   "metadata": {},
   "outputs": [],
   "source": [
    "def readJSON(dataJSON):\n",
    "    \n",
    "    for tables in dataJSON.items():\n",
    "    \n",
    "        aux = \"\"\n",
    "    \n",
    "        tableID = tables[0]\n",
    "        pgTitle = tables[1]['pgTitle']\n",
    "        tableCaption = tables[1]['caption'] \n",
    "        secondTitle = tables[1]['secondTitle']\n",
    "    \n",
    "        #column name \n",
    "        columnNameAux = tables[1]['title']\n",
    "        columnName = readColumns(columnNameAux)\n",
    "    \n",
    "        #first concatenation\n",
    "        aux = pgTitle + \" \" + tableCaption + \" \" + secondTitle + \" \" + columnName\n",
    "    \n",
    "        #lines table\n",
    "        linesTable = tables[1]['data']\n",
    "    \n",
    "        for line in linesTable:\n",
    "        \n",
    "            #second concatenation\n",
    "            aux = aux + readColumns(line)\n",
    "        \n",
    "        #remove special characters\n",
    "        fullText = re.sub('[^A-Za-z]+',' ',aux)\n",
    "        #remove final space\n",
    "        fullText = fullText.rstrip()\n",
    "    \n",
    "        #inserting full text of table i\n",
    "        fullTextTable.append([tableID,fullText])\n",
    "        #fullTextTable.append(fullText)"
   ]
  },
  {
   "cell_type": "code",
   "execution_count": null,
   "metadata": {},
   "outputs": [],
   "source": []
  },
  {
   "cell_type": "code",
   "execution_count": 7,
   "metadata": {},
   "outputs": [],
   "source": [
    "corpus = []\n",
    "for i in range(len(fullTextTable)):\n",
    "    \n",
    "    corpus.append(fullTextTable[i][1])"
   ]
  },
  {
   "cell_type": "code",
   "execution_count": 9,
   "metadata": {},
   "outputs": [],
   "source": [
    "#add query to the corpus\n",
    "corpus.append(queries[0])"
   ]
  },
  {
   "cell_type": "code",
   "execution_count": 10,
   "metadata": {},
   "outputs": [],
   "source": [
    "from sklearn.feature_extraction.text import TfidfVectorizer\n",
    "from scipy.spatial import distance\n",
    "from heapq import nsmallest"
   ]
  },
  {
   "cell_type": "code",
   "execution_count": 11,
   "metadata": {},
   "outputs": [],
   "source": [
    "vectorizer = TfidfVectorizer(stop_words='english')"
   ]
  },
  {
   "cell_type": "code",
   "execution_count": 12,
   "metadata": {},
   "outputs": [],
   "source": [
    "X = vectorizer.fit_transform(corpus).toarray()"
   ]
  },
  {
   "cell_type": "code",
   "execution_count": null,
   "metadata": {},
   "outputs": [],
   "source": []
  },
  {
   "cell_type": "code",
   "execution_count": 13,
   "metadata": {},
   "outputs": [],
   "source": [
    "queryGoal = X[-1]"
   ]
  },
  {
   "cell_type": "code",
   "execution_count": null,
   "metadata": {},
   "outputs": [],
   "source": []
  },
  {
   "cell_type": "code",
   "execution_count": null,
   "metadata": {},
   "outputs": [],
   "source": []
  },
  {
   "cell_type": "code",
   "execution_count": null,
   "metadata": {},
   "outputs": [],
   "source": []
  },
  {
   "cell_type": "code",
   "execution_count": 14,
   "metadata": {},
   "outputs": [],
   "source": [
    "distanceVector = []\n",
    "\n",
    "for i in range(len(X)-1):\n",
    "    \n",
    "    d = distance.cosine(queryGoal, X[i])\n",
    "    \n",
    "    distanceVector.append([d,i])"
   ]
  },
  {
   "cell_type": "code",
   "execution_count": 15,
   "metadata": {},
   "outputs": [],
   "source": [
    "TOP20 = nsmallest(20, distanceVector)"
   ]
  },
  {
   "cell_type": "code",
   "execution_count": 16,
   "metadata": {},
   "outputs": [
    {
     "name": "stdout",
     "output_type": "stream",
     "text": [
      "table-0914-96\n",
      "table-0914-98\n",
      "table-0914-97\n",
      "table-0914-99\n",
      "table-0914-94\n",
      "table-0914-95\n",
      "table-0255-938\n",
      "table-0552-930\n",
      "table-0370-614\n",
      "table-0037-411\n",
      "table-0914-103\n",
      "table-0125-559\n",
      "table-0125-557\n",
      "table-0125-470\n",
      "table-0914-100\n",
      "table-0552-120\n",
      "table-0125-457\n",
      "table-0125-305\n",
      "table-1043-815\n",
      "table-0255-349\n"
     ]
    }
   ],
   "source": [
    "for i in range(len(TOP20)):\n",
    "    \n",
    "    getTable = TOP20[i][1]\n",
    "    \n",
    "    print(fullTextTable[getTable][0])"
   ]
  },
  {
   "cell_type": "code",
   "execution_count": null,
   "metadata": {},
   "outputs": [],
   "source": []
  },
  {
   "cell_type": "code",
   "execution_count": null,
   "metadata": {},
   "outputs": [],
   "source": []
  },
  {
   "cell_type": "code",
   "execution_count": 17,
   "metadata": {},
   "outputs": [
    {
     "data": {
      "text/plain": [
       "[[0.6516726596332705, 3103],\n",
       " [0.6516726596332705, 3140],\n",
       " [0.6516726596332705, 3181],\n",
       " [0.6516726596332705, 3784],\n",
       " [0.6516726596332705, 3806],\n",
       " [0.6695837548685248, 3993],\n",
       " [0.7137037433481733, 9283],\n",
       " [0.7221516432718662, 374],\n",
       " [0.7269433834482875, 6920],\n",
       " [0.7285345067272049, 4765],\n",
       " [0.755180419941931, 3317],\n",
       " [0.7691684503655436, 5240],\n",
       " [0.7691684503655436, 5569],\n",
       " [0.7829618142728982, 5896],\n",
       " [0.7856063557535047, 3371],\n",
       " [0.7962631069444508, 364],\n",
       " [0.7968656564841788, 5564],\n",
       " [0.7968656564841788, 5713],\n",
       " [0.8001658929596491, 8694],\n",
       " [0.8024886558399069, 9796]]"
      ]
     },
     "execution_count": 17,
     "metadata": {},
     "output_type": "execute_result"
    }
   ],
   "source": [
    "TOP20"
   ]
  }
 ],
 "metadata": {
  "kernelspec": {
   "display_name": "Python 3",
   "language": "python",
   "name": "python3"
  },
  "language_info": {
   "codemirror_mode": {
    "name": "ipython",
    "version": 3
   },
   "file_extension": ".py",
   "mimetype": "text/x-python",
   "name": "python",
   "nbconvert_exporter": "python",
   "pygments_lexer": "ipython3",
   "version": "3.7.3"
  }
 },
 "nbformat": 4,
 "nbformat_minor": 2
}
