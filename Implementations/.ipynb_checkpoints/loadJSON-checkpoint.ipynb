{
 "cells": [
  {
   "cell_type": "code",
   "execution_count": 1,
   "metadata": {},
   "outputs": [],
   "source": [
    "import json\n",
    "import re"
   ]
  },
  {
   "cell_type": "code",
   "execution_count": 2,
   "metadata": {},
   "outputs": [],
   "source": [
    "with open('Datasets/re_tables-0001.json') as f:\n",
    "  \n",
    "    dataJSON = json.load(f)\n",
    "\n",
    "f.close()"
   ]
  },
  {
   "cell_type": "code",
   "execution_count": 3,
   "metadata": {},
   "outputs": [],
   "source": [
    "fullTextTable = []"
   ]
  },
  {
   "cell_type": "code",
   "execution_count": 4,
   "metadata": {},
   "outputs": [],
   "source": [
    "def readColumns(title):\n",
    "    \n",
    "    aux = ''\n",
    "    \n",
    "    for i in title:\n",
    "        \n",
    "        aux = aux + i + ' '\n",
    "        \n",
    "    return aux"
   ]
  },
  {
   "cell_type": "code",
   "execution_count": 5,
   "metadata": {},
   "outputs": [],
   "source": [
    "for tables in dataJSON.items():\n",
    "    \n",
    "    aux = ''\n",
    "    \n",
    "    tableID = tables[0]\n",
    "    pgTitle = tables[1]['pgTitle']\n",
    "    tableCaption = tables[1]['caption'] \n",
    "    secondTitle = tables[1]['secondTitle']\n",
    "    \n",
    "    #column name \n",
    "    columnNameAux = tables[1]['title']\n",
    "    columnName = readColumns(columnNameAux)\n",
    "    \n",
    "    #first concatenation\n",
    "    aux = pgTitle + \" \" + tableCaption + \" \" + secondTitle + \" \" + columnName\n",
    "    \n",
    "    #lines table\n",
    "    linesTable = tables[1]['data']\n",
    "    \n",
    "    for line in linesTable:\n",
    "        \n",
    "        #second concatenation\n",
    "        aux = aux + readColumns(line)\n",
    "        \n",
    "    #remove special characters\n",
    "    fullText = re.sub('[^A-Za-z]+',' ',aux)\n",
    "    #remove final space\n",
    "    fullText = fullText.rstrip()\n",
    "    \n",
    "    #inserting full text of table i\n",
    "    fullTextTable.append([tableID,fullText])"
   ]
  },
  {
   "cell_type": "code",
   "execution_count": 9,
   "metadata": {},
   "outputs": [
    {
     "data": {
      "text/plain": [
       "['table-0001-189',\n",
       " 'Pat Green Guest singles Guest singles Year Single Artist Peak chart positions Album Texas in Texas in Radney Foster Radney Foster Are You Ready for the Big Show My Texas Josh Abbott Band Josh Abbott Band Small Town Family Dream denotes releases that did not chart denotes releases that did not chart denotes releases that did not chart denotes releases that did not chart denotes releases that did not chart']"
      ]
     },
     "execution_count": 9,
     "metadata": {},
     "output_type": "execute_result"
    }
   ],
   "source": [
    "fullTextTable[100]"
   ]
  },
  {
   "cell_type": "code",
   "execution_count": null,
   "metadata": {},
   "outputs": [],
   "source": []
  },
  {
   "cell_type": "code",
   "execution_count": null,
   "metadata": {},
   "outputs": [],
   "source": []
  },
  {
   "cell_type": "code",
   "execution_count": null,
   "metadata": {},
   "outputs": [],
   "source": []
  },
  {
   "cell_type": "code",
   "execution_count": null,
   "metadata": {},
   "outputs": [],
   "source": []
  },
  {
   "cell_type": "code",
   "execution_count": null,
   "metadata": {},
   "outputs": [],
   "source": []
  },
  {
   "cell_type": "code",
   "execution_count": null,
   "metadata": {},
   "outputs": [],
   "source": []
  }
 ],
 "metadata": {
  "kernelspec": {
   "display_name": "Python 3",
   "language": "python",
   "name": "python3"
  },
  "language_info": {
   "codemirror_mode": {
    "name": "ipython",
    "version": 3
   },
   "file_extension": ".py",
   "mimetype": "text/x-python",
   "name": "python",
   "nbconvert_exporter": "python",
   "pygments_lexer": "ipython3",
   "version": "3.7.3"
  }
 },
 "nbformat": 4,
 "nbformat_minor": 2
}
