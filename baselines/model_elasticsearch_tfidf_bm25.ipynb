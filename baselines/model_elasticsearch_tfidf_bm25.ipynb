{
 "cells": [
  {
   "cell_type": "code",
   "execution_count": null,
   "metadata": {},
   "outputs": [],
   "source": [
    "from tqdm import tqdm\n",
    "import numpy as np\n",
    "import pandas as pd\n",
    "import random\n",
    "from elasticsearch import Elasticsearch\n",
    "from elasticsearch import helpers\n",
    "indexing_distinct_tables = Elasticsearch(timeout=30, max_retries=10, retry_on_timeout=True)"
   ]
  },
  {
   "cell_type": "code",
   "execution_count": null,
   "metadata": {},
   "outputs": [],
   "source": [
    "def get_accuracy(idRankedTables, idQueryGoal):\n",
    "    \n",
    "    accuracy = 0\n",
    "\n",
    "    for idTable in idRankedTables:\n",
    "    \n",
    "        if idTable[0] == idQueryGoal:\n",
    "    \n",
    "            accuracy = 1\n",
    "            break;\n",
    "\n",
    "    return accuracy"
   ]
  },
  {
   "cell_type": "code",
   "execution_count": null,
   "metadata": {},
   "outputs": [],
   "source": [
    "indexing_distinct_tables.indices.close(index='distinct_tables')\n",
    "indexing_distinct_tables.indices.put_settings(index='distinct_tables', body={\"index\": {\"similarity\": {\"default\": {\"type\": \"BM25\"}}}})\n",
    "indexing_distinct_tables.indices.open(index='distinct_tables')"
   ]
  },
  {
   "cell_type": "code",
   "execution_count": null,
   "metadata": {},
   "outputs": [],
   "source": [
    "def search_indexing(query,tableField):\n",
    "    \n",
    "    result= indexing_distinct_tables.search(\n",
    "        index=\"distinct_tables\", \n",
    "        body = {\n",
    "        \"_source\": [\"tablePgID\"],\n",
    "        \"from\" : 0,\n",
    "        \"size\" : 300,\n",
    "        \"query\": {\n",
    "            \"multi_match\":{\n",
    "              \"type\": \"most_fields\",\n",
    "              \"query\":    query, \n",
    "              #\"fields\": [\"tablePgTitle\"] \n",
    "              \"fields\": [\"tablePgTitle\",\"tablePgSummary\"] \n",
    "              #\"fields\": [tableField]\n",
    "            }\n",
    "        }\n",
    "    })\n",
    "    \n",
    "    return result"
   ]
  },
  {
   "cell_type": "code",
   "execution_count": null,
   "metadata": {},
   "outputs": [],
   "source": [
    "articles = pd.read_csv('../dataset/data_articles_test.csv', delimiter=',')"
   ]
  },
  {
   "cell_type": "code",
   "execution_count": null,
   "metadata": {},
   "outputs": [],
   "source": [
    "articles.head(1)"
   ]
  },
  {
   "cell_type": "code",
   "execution_count": null,
   "metadata": {},
   "outputs": [],
   "source": [
    "def execute_search(tableField, topK):\n",
    "\n",
    "    accuracy = []\n",
    "\n",
    "    for i,row in (articles.iterrows()):\n",
    "\n",
    "        articl_key = row['page_id']\n",
    "        query = row['page_title']+\" \"+row['meta_description']\n",
    "\n",
    "        result = search_indexing(query,tableField)\n",
    "\n",
    "        if result['hits']['total'] > 0:\n",
    "\n",
    "            return_tables = []\n",
    "\n",
    "            for hit in result['hits']['hits']:\n",
    "\n",
    "                tablePgId = hit['_source']['tablePgID']\n",
    "                table_score = hit['_score']\n",
    "                new_row = {\"table_id\": tablePgId,\"table_score\": table_score}\n",
    "                return_tables.append(new_row)\n",
    "\n",
    "            df_return_tables = pd.DataFrame(return_tables)\n",
    "            df_return_tables_sorting = df_return_tables.sort_values('table_score', ascending=False)\n",
    "\n",
    "            selected_top = df_return_tables_sorting.head(topK)\n",
    "            min_score = selected_top['table_score'].min()\n",
    "            draw_tables_socres = df_return_tables_sorting[df_return_tables_sorting['table_score'] >= min_score]\n",
    "            final_ranked_tables = draw_tables_socres.iloc[:,0:1].values\n",
    "\n",
    "            accuracy.append(get_accuracy(final_ranked_tables,articl_key))\n",
    "\n",
    "    print(str(round(np.mean(accuracy),4)))"
   ]
  },
  {
   "cell_type": "code",
   "execution_count": null,
   "metadata": {},
   "outputs": [],
   "source": [
    "tableField = [\"tablePgTitle\",\"tablePgFullText\",\"tablePgSummary\",\"tablePgKeywords\",\"tableSectionTitle\",\"tableCaption\",\"tableHeader\",\"tableBody\"]\n",
    "topK = [1,5,10,20,100]"
   ]
  },
  {
   "cell_type": "code",
   "execution_count": null,
   "metadata": {},
   "outputs": [],
   "source": [
    "for k in topK:\n",
    "    \n",
    "    print(\"\")\n",
    "    \n",
    "    for field in tableField:\n",
    "        \n",
    "        print(\"Acc@\"+str(k)+\" - \"+field)\n",
    "        \n",
    "        execute_search(field,k)"
   ]
  },
  {
   "cell_type": "code",
   "execution_count": null,
   "metadata": {},
   "outputs": [],
   "source": [
    "for k in topK:\n",
    "    \n",
    "    print(\"Acc@\"+str(k))\n",
    "    \n",
    "    execute_search(\"\",k)"
   ]
  },
  {
   "cell_type": "code",
   "execution_count": null,
   "metadata": {},
   "outputs": [],
   "source": []
  },
  {
   "cell_type": "code",
   "execution_count": null,
   "metadata": {},
   "outputs": [],
   "source": []
  },
  {
   "cell_type": "code",
   "execution_count": null,
   "metadata": {},
   "outputs": [],
   "source": []
  },
  {
   "cell_type": "code",
   "execution_count": null,
   "metadata": {},
   "outputs": [],
   "source": []
  },
  {
   "cell_type": "code",
   "execution_count": null,
   "metadata": {},
   "outputs": [],
   "source": []
  },
  {
   "cell_type": "code",
   "execution_count": null,
   "metadata": {},
   "outputs": [],
   "source": []
  },
  {
   "cell_type": "code",
   "execution_count": null,
   "metadata": {},
   "outputs": [],
   "source": []
  },
  {
   "cell_type": "code",
   "execution_count": null,
   "metadata": {},
   "outputs": [],
   "source": []
  },
  {
   "cell_type": "code",
   "execution_count": null,
   "metadata": {},
   "outputs": [],
   "source": []
  }
 ],
 "metadata": {
  "kernelspec": {
   "display_name": "Python 3",
   "language": "python",
   "name": "python3"
  },
  "language_info": {
   "codemirror_mode": {
    "name": "ipython",
    "version": 3
   },
   "file_extension": ".py",
   "mimetype": "text/x-python",
   "name": "python",
   "nbconvert_exporter": "python",
   "pygments_lexer": "ipython3",
   "version": "3.7.3"
  }
 },
 "nbformat": 4,
 "nbformat_minor": 2
}
