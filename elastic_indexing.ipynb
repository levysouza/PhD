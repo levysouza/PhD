{
 "cells": [
  {
   "cell_type": "code",
   "execution_count": 3,
   "metadata": {},
   "outputs": [],
   "source": [
    "import pickle"
   ]
  },
  {
   "cell_type": "code",
   "execution_count": 8,
   "metadata": {},
   "outputs": [],
   "source": [
    "articles = pickle.load(open(\"final_article_tables.pkl\",\"rb\"))"
   ]
  },
  {
   "cell_type": "code",
   "execution_count": 9,
   "metadata": {},
   "outputs": [
    {
     "data": {
      "text/plain": [
       "90000"
      ]
     },
     "execution_count": 9,
     "metadata": {},
     "output_type": "execute_result"
    }
   ],
   "source": [
    "len(articles.keys())"
   ]
  },
  {
   "cell_type": "code",
   "execution_count": null,
   "metadata": {},
   "outputs": [],
   "source": [
    "tables = pickle.load(open(\"final_dict_tables.pkl\",\"rb\"))"
   ]
  },
  {
   "cell_type": "code",
   "execution_count": null,
   "metadata": {},
   "outputs": [],
   "source": [
    "len(tables)"
   ]
  },
  {
   "cell_type": "code",
   "execution_count": 128,
   "metadata": {},
   "outputs": [
    {
     "data": {
      "text/plain": [
       "[[(23679766, 'Kelly Kelly (TV series)', 5, 7, 1, 'Episodes', 'Episodes'),\n",
       "  ['1', '\"Episode One\"', 'John Tracy', 'April 20, 1998', '467151'],\n",
       "  ['2', '\"The Kilt Show\"', 'John Tracy', 'April 27, 1998', '467152'],\n",
       "  ['3', '\"Junior Firefighters\"', 'John Tracy', 'May 24, 1998', '467153'],\n",
       "  ['4', '\"The Wedding Show\"', 'John Tracy', 'May 10, 1998', '467154'],\n",
       "  ['5', '\"Bye, Bye, Baby\"', 'John Tracy', 'May 17, 1998', '467155'],\n",
       "  ['6', '\"Doodler\"', 'John Tracy', 'May 31, 1998', '467156'],\n",
       "  ['7', '\"Jealousy\"', 'David Kendall', 'June 7, 1998', '467157']]]"
      ]
     },
     "execution_count": 128,
     "metadata": {},
     "output_type": "execute_result"
    }
   ],
   "source": [
    "tables[23679766]"
   ]
  },
  {
   "cell_type": "code",
   "execution_count": 193,
   "metadata": {},
   "outputs": [
    {
     "name": "stdout",
     "output_type": "stream",
     "text": [
      "481233\n",
      "26725222\n",
      "31665457\n",
      "21143079\n",
      "1642915\n",
      "1190931\n",
      "8829570\n",
      "37461786\n",
      "17186311\n",
      "28325619\n",
      "6873917\n",
      "19375577\n",
      "9033269\n",
      "710776\n",
      "2765299\n",
      "40809199\n",
      "616554\n",
      "8195445\n",
      "107702\n",
      "33944117\n",
      "160965\n"
     ]
    }
   ],
   "source": [
    "i = 0\n",
    "for item in articles.items():\n",
    "    print (item[0])\n",
    "    if i == 20:    \n",
    "        break\n",
    "    i = i + 1    "
   ]
  },
  {
   "cell_type": "code",
   "execution_count": 123,
   "metadata": {},
   "outputs": [],
   "source": [
    "elem = articles['34487486']"
   ]
  },
  {
   "cell_type": "code",
   "execution_count": 124,
   "metadata": {},
   "outputs": [
    {
     "name": "stdout",
     "output_type": "stream",
     "text": [
      "[('http://web.archive.org/web/20140508141139/http://america.aljazeera.com/articles/2014/5/7/syrian-armenianslebanon.html', '    Dismiss  Caution icon Attention  The browser or device you are using is out of date. It has known security flaws and a limited feature set. You will not see all the features of some websites. Please update your browser. A list of the most popular browsers can be found below.   Mozilla Firefox  Internet Explorer  Google Chrome  Safari  Opera           International Editions    Al Jazeera English    Al Jazeera Arabic    Al Jazeera Balkans    Al Jazeera Mubasher    Al Jazeera Turk       Display mobile navigation  Display mobile search bar              News    Opinion    Video    Shows    Schedule    More   Opinion  Shows              Sections   U.S.  International  Economy  Technology  Science  Environment  Health  Education  Culture  Sports      Trending   Ukraine Crisis  Nigeria  Climate Change  Special Coverage        Search Form                         Comments             International   Taking refuge: Armenian family exiled for third time in century   IBL / Rex     Syrian refugees at a camp in Anjar, Lebanon, in December 2013. Some of the most recent Syrian refugees in Anjar arrived from Kassab, an Armenian Christian community that experienced displacement before. IBL / Rex     Taking refuge: Armenian family exiled for third time in century     Syrian-Armenians find refuge in Lebanon among fellow Armenians who fled conflicts 100 years ago    May 7, 2014  5:00AM ET   by Ben Gilbert         ANJAR, Lebanon — On March 21, 32-year-old Syrian-Armenian Savan woke up to the sound of machine gun fire and explosions. It was 5:30 a.m.  She and her family sought refuge in the first-floor hallway of their home, where they hoped the lack of windows would protect them from the bombs falling outside.  At first, she thought the fighting would last only a few minutes; perhaps it was a short exchange of fire between Syrian rebels and the Syrian army positioned near the Syria-Turkey border, which lies just a few hundred yards from her home.  But as the fighting continued for an hour and then two, she realized her worst fears had come true: Syrian rebels were attacking their mostly Armenian Christian village of Kassab (population 2,200) from what seemed to be Turkish territory. And the rebels intended to take it.  For Armenians like Savan, the fact that the attack happened to an Armenian village just beyond Turkey’s borders awakens old wounds, animosities and anger. It’s the third time her family has been driven from their home in Kassab in just over 100 years. The Ottomans deported her great-grandfather in 1909 and again in 1915, when Kassab, with the rest of Syria, was part of the Ottoman Empire.  “I feel they’re trying to do the Armenian genocide again,” she said, referring to the 1915 massacre and deportation of Armenian Christians — an event Armenians call genocide but some Turkish historians dispute. “I feel like Armenians [are] under attack.”  By 7 a.m., Savan and her family feared the rebels would cut off the highway leading out of Kassab, so they fled the village. They ran outside to their silver Volkswagen Golf, and six people piled into the compact hatchback.  “I only had enough time to grab my passport and my university degree,” Savan said.  They picked up her father, 64-year-old Harout, who had been sleeping at the restaurant he owns.  He didn’t want to leave.  “It’s like history repeating itself,” Harout said later at his sister’s house in Anjar, a Lebanese town founded by Armenian refugees who fled their villages in 1915.         Smoke rises after what activists said was shelling by forces loyal to Syria’s President Bashar al-Assad in the Armenian Christian town of Kassab in early April.  Reuters    Several witnesses to the assault on Kassab said that the rebels attacked from Turkish territory and that the offensive couldn’t have happened without the Turkish government’s consent.  Harout said a senior member of the village received guarantees from the Turks that Kassab was secure and that no Syrian rebel attacks would be permitted from Turkish territory.  “Kassab was the quietest place in Syria,” said another resident, 44-year-old Rafi, who works as a construction contractor and farmer. “The Turkish army usually did patrols along the border every three hours. But the day before the attack, there were no patrols.”  Kassab is in a mountainous area, and the Turkish military has the high ground. Residents say a small contingent of Syrian soldiers was based there, along with Syrian police who manned the border crossings — but the better-armed and -positioned rebels overran them.  “The attacks were launched from Turkish territory. I saw them,” Rafi said. “For us, Turkey is the same Turkey as before. They are acting the same way they did 100 years ago. We’ve been exiled in 1909, 1915 and now 2014.”  The Turkish government denies allegations that it allowed the Syrian opposition to use its territory or supported the attack on Kassab. A Turkish Foreign Ministry statement said that those \"circles\" making allegations that Turkey assisted in the attack were trying to create “confrontational propaganda” and to “draw an analogy between the developments in the Kesab region and the painful incidents of the past.”  The Turkish government also said that Syrian-Armenians residing in Kassab would be admitted to Turkey and protected, and that representatives of the Armenian community in Turkey had been notified.  Rafi and other Kassab natives say it is one of the last remaining Armenian-inhabited towns that date from the medieval kingdom of Cilicia, which was a semi-autonomous Armenian kingdom along the Mediterranean coast in what is now southern Turkey in the 12th to 14th centuries.  The collective memories of Cilicia, along with the events of the early 20th century, are experiences that unite the large Armenian diaspora. Survivors of the deportations and massacres during World War I built strong Armenian communities that exist to this day in Syria, Egypt, Iraq, Iran and Lebanon; some of the largest Armenian communities outside the Republic of Armenia are in the United States and Russia.        For us, Turkey is the same Turkey as before. They are acting the same way they did 100 years ago. We’ve been exiled in 1909, 1915 and now 2014.   Rafi  Resident of Kassab, Syria      In Kassab, the Armenians lived side by side with ethnic Turkmen, also Syrian citizens, who often worked for the Armenian farmers and business owners. But when the attack began, Rafi said, some of the Turkmen picked up weapons and joined the rebels in their attack on the village. He said he called his apartment, and a former employee picked up the phone.  “He told me, ‘Boss, we’re going to spend the night in your place,’ and I said, ‘You’re welcome to sleep, but please don’t destroy the place,’” he said. “He made fun of me and mocked me to his friends. And he was my employee!”  Another farmer from Kassab, Simon, said only Turkmen who joined the rebels were allowed into the village. He said a Turkmen employee who made it into Kassab helped him try to find out the condition of his home and property. (He doesn’t know the condition of his home, but his tractor, worth $18,000, is missing.)  For now, a friend is lending Simon, his wife and two sons an apartment in Anjar. His 11- and 14-year-old sons attend the Armenian Orthodox school here. He said they’ll stay “as long as the situation dictates.”  “If today we\\xa0hear that we can return to Kassab, we will return,” he said.    But Simon worries about returning to Kassab, now that the Turks broke their promise not to allow Syrian rebels to operate from their territory.  “What kind of guarantees can they offer? Even if we return, even if we clean up the town, can we trust Turks not to repeat this?” he asked.  Residents say three civilians — none of them Armenian — were killed in the attack on Kassab. Compared with the rest of Syria, the town has been spared much of the violence devastating the country.  But Harout  fears that if the Syrian army tries to take back Kassab by force, the town will be destroyed. If the rebels choose to leave, they’ll help themselves to anything they can carry.  “If the army takes it, they’ll destroy the buildings. If the rebels leave on their own, we’ll have only the buildings,” he said.  “They’re not rebels. They’re terrorists,” said Savan. “The opposition in Syria kicked us out of our houses.”  A couple visiting family in Anjar for Easter said they fled Kassab with everyone else. But they fear they have lost more than buildings or furniture: Their son is a soldier in the Syrian army. They haven’t heard from him since August 2012.  “We can always rebuild our house,” said Maral as tears welled up in her eyes and her niece picked a pink Easter egg from a bowl on the kitchen counter. “But we cannot get our son back.”            Share This:          Related News      Places   Lebanon , Middle East , Syria     Topics   Syria\\'s War , Syrian Refugees       Aleppo hotel destroyed in explosion  Syria rebels begin evacuation of Homs, the revolution\\'s ‘capital’  Syrian opposition fighters\\' withdrawal from Homs delayed  Cease-fire in Homs another defeat for Syria opposition forces                     Find Al Jazeera America on your TV      Go               Join the Al Jazeera America Mailing List    Get weekly news updates and the latest on what’s next for Al Jazeera America   Submit      Please enter a valid email address!            Editor\\'s Picks      What’s left of May Day?   Kyiv says it has lost control of eastern Ukraine as IMF approves $17B loan   Bloomberg, concerned moms aim to mess with Texas gun laws   No swimsuit competition for Miss Indian World   Neanderthal demise not caused by inferiority, new study suggests      Most Discussed   Most Shared  Most Viewed                   Join the Al Jazeera America Mailing List    Get weekly news updates and the latest on what’s next for Al Jazeera America   Submit      Please enter a valid email address!                Join the Conversation        Ã\\x97  Error    Sorry, your comment was not saved due to a technical problem. Please try again later or using a different browser.    Accept            Watch more videos  WATCH       Al Jazeera America News  Most stroke victims are adults, however they also occur in roughly 1,000 of the 4 million births each year in the U.S.    Consider This  Harvard study finds that when older mice receive blood from younger mice, their brain and muscle functions improve    Al Jazeera America News  The White House sends out a call to action as their latest report details irreparable damage to our environment    Al Jazeera America News  Mary Larson is using her artistic talents to document, as well as provide aid to the less fortunate    THE STREAM  \"Once we get the software onto our computers, that\\'s when we start looking for bugs and vulnerabilities\"       NEWS  OPINION  VIDEO  SHOWS  SCHEDULE              About  Our Mission, Vision and Values  Leadership  Code of Ethics  Careers      Contact Us  Press Releases  Advertise With Us      Visit Al Jazeera English  Mobile  Newsletter  RSS  Subscribe to YouTube Channel      Privacy Policy  Terms of Use      Request Al Jazeera America  FAQ  Community Guidelines  Sitemap     © 2014 Al Jazeera America, LLC.  All rights reserved. CHANGE THE WAY YOU LOOK AT NEWS and THERE\\'S MORE TO IT are Trademarks of Al Jazeera America, LLC.    '), ('http://web.archive.org/web/20121224234557/http://articles.latimes.com/2000/oct/07/local/me-32895', '            Membership Services    Jobs    Cars    Real Estate    Subscribe    Rentals    Weekly Circulars    Custom Publishing    Place Ad             HOME    Breaking    Photos    Video    Crime    Obituaries    Weather    Traffic    Crosswords    Games    Horoscopes    Apps      Local    L.A. Now    Politics    Crime    Education    O.C.    Westside    Neighborhoods    Environment    Obituaries      U.S.    Politics    Nation Now    Politics Now    Top of the Ticket    Science    Science Now    Obituaries    Religion      World    World Now    Afghanistan war    Africa    Americas    Asia    Europe    Middle East      Business    Money & Co.    Technology    Highway 1    Company Town    Personal Finance    Jobs    Real Estate    Cars      Sports    Sports now    Lakers    Clippers    Dodgers    Angels    NFL    NCAA FB    NHL    USC    UCLA    Preps    Scores      Entertainment    Awards: The Envelope    Movies    TV    Music    Celebrity    Arts & Culture    Industry    Calendar    Books    Comics      Health    Booster Shots    Science Now    Medicine    Fitness & Nutrition    Mental Health    Health Reform    Future of healthcare      Living    Home    Food    Image    Books    Holiday Guide    2012 in Review    L.A. Affairs    Comics    Reader Photos      Travel    SoCal    California    Mexico    Hawaii    Las Vegas    Europe    Asia    Australia    Travel & Deal Blog      Opinion    Editorials    Op-Ed    Letters    Opinion L.A.    Readers\\' Rep      Deals    Daily Deals    LAT Store    Sports Gear    Travel    Offers & Deals    Legal Notices      Membership Services    Jobs    Cars    Real Estate    Subscribe    Rentals    Weekly Circulars    Custom Publishing    Place Ad                               YOU ARE HERE: LAT Home → Collections → Names Part of East Hollywood Is Designated \\'Little Armenia\\' SOUTHERN CALIFORNIA / A news summary October 07, 2000    LOS ANGELES — The City Council on Friday designated a portion of east Hollywood as \"Little Armenia\" in an effort to recognize the community\\'s vast \"presence and voice in Los Angeles.\" Councilwoman Jackie Goldberg, who introduced the motion, told her colleagues that the area is \"the traditional birthplace\" for the city\\'s Armenian community.    \"The city of Los Angeles comprises a variety of communities that make up our rich tapestry of cultures,\" Goldberg said. \"In recognition of this diversity, the city occasionally designates a certain geographic area with historical significance, location and other unique characteristics.\" The area is bounded by Hollywood Boulevard on the north, Santa Monica Boulevard on the south, the Hollywood Freeway on the west and Vermont Avenue on the east. A ceremony is expected to be held later this month to officially recognize the community, which is just to the south of the recently designated Thai Town. \"The Armenian business and residential community in this area has indicted an overwhelming support for an official Little Armenia designation by the city of Los Angeles,\" Goldberg said. \"Organizers have canvassed local residents, merchants and property owners and have confirmed that there is broad-based community support for an official designation.\"       FEATURED Are raspberry ketones a \\'miracle\\' fat burner? Dr. Oz weighs in. Red meat: What makes it unhealthy? How to find your lost or stolen iPhone 5 MORE: The FDA warns against using quinine for leg cramps Mitt Romney warns NRA against an \\'unrestrained\\' second-term Obama    Advertisement FROM THE ARCHIVES Vietnamese building their name in San Jose November 19, 2007 Van Nuys, Historic? Preservation Effort No Joke November 23, 2004 Health Clinics Are \\'Safety Net\\' for Needy :  Medicine: In a... July 11, 1993 MORE STORIES ABOUT Names Armenians -- Los Angeles Los Angeles -- Foreign Populations Little Armenia (los Angeles) Copyright 2012 Los Angeles Times Terms of Service | Privacy Policy | Index by Date | Index by Keyword        '), ('http://web.archive.org/web/20130420160113/http://www.newyorker.com/online/blogs/newsdesk/2013/04/captured-in-watertown.html', \"  Close           Close                       Skip to content        Subscribe to The New Yorker                             Subscribe       home  Magazine  News  Culture  Politics  Books  Science & Tech  Business  Cartoons  Humor     Archive  Photo Booth  Daily Shouts  Page-Turner  Daily Comment  Elements  Amy Davidson  John Cassidy  Borowitz                   « Slide Show: Portrait of the Tsarnaev Family  Main      April 20, 2013  Captured in Watertown  Posted by Jeff Howe                      Print    More   Share  Close      Reddit    Linked In    Email    Pinit             Like most everyone else in Watertown, Jennifer Rivera, a twenty-eight-year-old accountant and volunteer E.M.T., felt a mixture of relief and apprehension on Friday when, at around 6 P.M. , Massachusetts Governor Deval Patrick lifted the “shelter-in-place” order that had kept her cooped up with her roommates all day. “I mean, I know everyone had cabin fever. But I would have felt a lot safer if they’d caught him.”  She wouldn’t have long to wait. As the skies darkened over Boston, people left their homes to run errands, find an open restaurant, or share stories with neighbors. But within the hour, more shots were fired, and sirens rang through the streets once more. A line of emergency vehicles came screaming down Mt. Auburn Street, Watertown’s main strip. She followed the sound of the sirens until she was pushed up against yellow police tape, a few blocks from where Dave Henneberry discovered Suspect Two—a.k.a. Dzhokhar Tsarnaev —huddled inside Henneberry’s white Seahawk pleasure cruiser. There, she was joined by pensioners out walking their dogs, curious journalists and neighbors, and a group of boisterous teens whose pick-up football game had been interrupted by the manhunt’s denouement. The teen-agers jostled each other for position as annoyed news cameraman tried to wave them from the frame.  The people of Watertown felt doubly victimized. The bombings struck their city, and then, a few days later, turned their streets into a war zone . “The gunfire woke me up around 1 A.M. ,” Rivera said. She wasn’t alone. It seemed as if most of Watertown—a proud, unpretentious, and ethnically diverse community just west of Cambridge—woke Thursday night to find SWAT teams combing their backyards and A.P.C.s trundling down their narrow streets . Rivera was born nearby, but after she turned eleven her family moved to Thousand Oaks, California. After “moving around a lot,” she decided to come to Watertown to be near family. “My grandparents moved here in the nineteen twenties. They got married down the street. This is the best place I’ve ever lived.”  The state police corralled us into a cemetery, where we watched ambulances, fire trucks, and a mysterious black van pull into place at the intersection of Franklin and Mt. Auburn. “They’re waiting for him to bleed out,” said a thin man holding a police scanner high in the air. Around 7:50 P.M. , more shots were fired, sending the news crews scurrying for their cell phones. The cameraman for WCVB, Boston’s ABC affiliate, reported he had seen officers shaking hands. “No,” said another correspondent. “We cannot confirm the suspect is dead.”  Soon, more local residents were filtering into the graveyard. One couple held hands and snuggled up against a gravestone. Even before Johar, as his friends knew him, had surrendered, the crowd’s nervous chatter started turning into the sounds of a celebration. Two men stood smoking cigarettes next to the police tape speaking Armenian—Watertown is one of the largest Armenian enclaves in the U.S.—and laughing. Paul Sutherland, a robust white-haired man who witnessed the final gun battle between Tsarnaev and the police, cheerfully expostulated for any correspondent who hadn’t interviewed him yet. At 8:24, a heavily armed, camouflaged SWAT team marched past in double-time. A man in a sleeveless T-shirt and designer glasses let out a whoop. “They’re moving in, they’re moving in!” said the man holding his scanner in the air. Some cop had left his mic on, compromising radio transmissions. “You’ve got an open mic,” a voice over the scanner said. “Repeat: close all mics.”  Then, even the teens with the football got quiet. More than a hundred people were standing amid the tombstones, leaning forward and peering in the dark toward the flashing lights down the street. Another ambulance slowly pulled past us and parked with the other emergency vehicles. A cheer could be heard from the police surrounding Tsarnaev, and the man with the scanner turned toward us, his ear pressed against his headphones. “The subject is in custody,” he said. After spending the day filtering through false rumors, the journalists nearby looked apprehensive. Then the local police—the beat cops stationed at the edge of the police tape—burst into cheers, too.  It was over. The jubilation began to spread. A slow procession of emergency vehicles made their way through a gauntlet formed by the growing crowd. The ambulances, the cop cars, even the Watertown utility truck whose giant flood lights had illuminated Tsarnaev’s final hiding place were ushered through with grateful cheers. “You can set us back, but you can’t knock us down!” screamed the man in the sleeveless T-shirt.  The news crews filmed their final interviews before rushing off to Mount Auburn Hospital, where a gravely wounded Tsarnaev would spend the night. “I’m an actor now,” said one teen, pushing a friend out of a spotlight held by one producer. “We’re world news tonight,” said Diane Martinos, a mother of two who lives three blocks away. Not everyone was satisfied. Gene Fourier, fifty-three, shaved scalp and burly arms akimbo, was disappointed that Johar had been taken alive. Standing near a Fiat whose open doors were blasting the local news, Fourier said, “I’m one of those guys, you know, who’s fine with an eye for an eye.”  As the police tape fell and fluttered in the wind and the last cop cars drove off, the crowd started to amble home for the night. Stephanie Slater, an E.F.T., or “emotional freedom technique,” practitioner who has lived in the neighborhood for many years, said, simply, “Well, it’s nice to be outside.” She wants to offer free counseling to any of her neighbors adversely affected by the bombings, their aftermath, and the strange twenty-four hours when Watertown became the focus of the world.  Rivera was among the last to leave, standing with friends underneath the yellow streetlights. “I used to say nothing ever happened in Watertown,” Rivera said. “I guess I can’t say that anymore.”  Read more of our coverage of the recent events in the Boston area.  Photograph by Alan Chin     Keywords   BostonMarathon                        Print    More   Share  Close      Reddit    Linked In    Email    Pinit                News Desk     All posts  RSS       13 minutes ago  Captured in Watertown  13 hours ago  Slide Show: Portrait of the Tsarnaev Family  13 hours ago  Dzhokhar Tsarnaev, Lost and Found      @News Desk    Follow    Our Newsletters          You might like  Most shared                    To get more of The New Yorker 's signature mix of politics, culture and the arts: Subscribe Now     Comments                                     Go        Most Popular  MOST E-MAILED  This Issue   This Issue     Table of Contents    Hendrik Hertzberg: Margaret Thatcher’s mixed legacy.    Burkhard Bilger: New discoveries on Mars.    Peter Schjeldahl: Amsterdam’s refurbished museums.    David Denby: “42.”                                        Newyorker on Facebook  Newyorker on Twitter  Newyorker on Tumblr  Newyorker on google+  Newyorker on Pinterest   Tablet, mobile and more                      This Week: Links to articles and Web-only features in your inbox every Monday.         Cartoons: A weekly note from the New Yorker's cartoon editor.         Daily: What's new today on newyorker.com.         Receive all the latest fake news from The Borowitz Report.          I understand and agree that registration on or use of this site constitutes agreement to its User Agreement , and Privacy Policy .    Tablet & Mobile Editions          Every story, every cartoon, every Monday.      Available to subscribers via the complete archive .   More From The New Yorker   Cartoons of the Year 2012     A special edition, on sale at newsstands now.     The “Goings On” App     What to do in New York City, for Apple and Android mobile devices.     Audio Edition     Subscribe to a weekly download of selected articles from the magazine, at Audible.     The Complete Archive, 1925-2013     A Web-based archive of issues from our first to this week’s.     “The Next New Thing”     The latest of “The New Yorker Reader” iPad/iPhone anthologies.     Animated Cartoons on the Go     Download the app from the iTunes store.     The New Yorker Store     Shop this week’s issue.     The Cartoon Bank     License New Yorker cartoons for professional use: Add humor to ad campaigns, books, newsletters, and more.     On the Town     Exclusive events and offers from The New Yorker ’ s advertising and promotion department.                                  About Us  Contact Us  Newsletters  Blogs  Archive  Press Center  RSS Feeds      Subscription Services  Careers  New Yorker Store  Reprints/Permissions  The New Yorker Media Kit      Condé Nast Digital    More news, politics, culture, business, and technology:   Architectural Digest  Golf Digest  GQ  Vanity Fair  Wired      Subscribe to a magazine:   Subscribe to a magazine   View All Titles  - - - - - - - - - - - - - -  Allure  Architectural Digest  Bon Appétit  Brides  Condé Nast Traveler  Details  Glamour  Golf Digest  Golf World  GQ  Lucky  Self  Teen Vogue  The New Yorker  Vanity Fair  Vogue  W  Wired       Visit our sister sites:   Visit our sister sites  - - - - - - - - - - - - - -  Allure  Architectural Digest  Ars Technica  Bon Appétit  Brides.com  Condé Nast Traveler  Concierge  Details  Epicurious  Glamour  Golf Digest  Golf World  GQ  Hotel Chatter  Jaunted  Lucky  NutritionData  Reddit  Self  Style  Teen Vogue  The New Yorker  Vanity Fair  Vegas Chatter  Vogue  W  Wired       © 2013 Condé Nast. All rights reserved Use of this site constitutes acceptance of our User Agreement (effective August 1, 2011) and Privacy Policy (effective August 1, 2011).  Your California Privacy Rights  The material on this site may not be reproduced, distributed, transmitted, cached or otherwise used, except with the prior written permission of Condé Nast.    Ad Choices                   \"), ('http://web.archive.org/web/20140714171518/http://www.nytimes.com/1984/05/04/world/15-are-hurt-in-paris-by-3-explosions-in-an-armenian-neighborhood.html', \"     Subscribe Now     Try a Digital Subscription Today for Just 99¢ for Your First 4 Weeks  Get unlimited access to NYTimes.com and NYTimes apps.  Get Digital      Get 50% Off 12 Weeks of Home Delivery and Free All Digital Access  All print options include free, unlimited access to NYTimes.com and NYTimes apps.  Get Home Delivery       Subscribe    campaign: nyt2014_bar1_digihd_2p_abtest_cookiedropper -- 250852, creative: nyt2014_bar1_digihd_split_VAR_cookiedrop_48F66 -- 376747, page: www.nytimes.com/archive/article/world, targetedPage: www.nytimes.com/archive/article/world, position: Bar1  Log In  Register Now  Help     Home Page  Today's Paper  Video  Most Popular    Edition: U.S. / Global          Search All NYTimes.com              World        World  Africa Americas Asia Pacific Europe Middle East   U.S.    N.Y. / Region    Business    Technology    Science    Health    Sports    Opinion    Arts    Style    Travel    Jobs    Real Estate    Autos               15 ARE HURT IN PARIS BY 3 EXPLOSIONS IN AN ARMENIAN NEIGHBORHOOD    AP    Published: May 4, 1984          PARIS, May 3— Three explosions wounded 13 people today in a Paris suburb near a monument to Armenian victims of a massacre in Turkey in 1915, the Fire Department said.  No one took responsibility for the blasts, which the police said they believed were ''criminal in nature.'' .  The first two explosions, in Alfortville on the southeast edge of Paris, occurred within minutes of each other at the monument and at the Tomtip Cafe some 100 yards away. An hour later a third explosion occurred on a street adjacent to the monument.  Nine people were hospitalized, including two who suffered facial burns in the explosion in the cafe. Eleven people were wounded at the cafe in all, most of them by flying glass.  No one was wounded in the explosion at the monument. Two people suffered minor wounds in the explosion on the street.  Ara Toranian, head of the National Armenian Movement, said the cafe was a gathering place for Alfortville's Armenians.  The monument, which was inaugurated Sunday, is of basalt and was designed by an Armenian artist, Maxime Ghasarian, and shaped like a tombstone. The explosion blew off a plaque at the base of the monument.  Interior Minister Gaston Defferre and the Secretary of State for Public Security, Joseph Franceschi, arrived at the scene by helicopter. Mr. Franceschi, who dedicated the monument Sunday, is also the Mayor of Alfortville.  At the dedication ceremony, he said the Turkish Government ''by refusing to recognize the massacre erased the reality of its horror.'' Turkish officials and newspapers protested his remarks.  The Armenians in France make up the third largest group in the world after those in the United States and in the Soviet Union. The Armenians say the Turks killed 1.5 million Armenians in 1915. Turkey disputes the number of victims and the circumstances of their deaths.  photo of rubble after explosion                                                                                  Inside NYTimes.com          Health »      Too Hot to Handle       Arts »      The Harmony of Liberty      Opinion »  Should Beach Privatization Be Allowed?  Room for Debate asks whether shorefront homeowners should have to open their land to all comers.       Sports »      A Woman’s Leadership May Steady Murray            Opinion »      Menagerie: Streaming Eagles       U.S. »      Curlers’ Aim: Sweep to a Win Over the Heat       Television »      The Cold War Brews Anew in Prime Time       Book Review »      Command Performance       Opinion »      Op-Ed: Fooling Mexican Fans       World »      Reading, Writing and Allegations      Opinion »  Op-Ed: Elite, Separate, Unequal  New York City’s top public schools must become more diverse.       Business »      Vice Has Media Giants Salivating              © 2014 The New York Times Company  Site Map  Privacy  Your Ad Choices  Advertise  Terms of Sale  Terms of Service  Work With Us  RSS  Help  Contact Us  Site Feedback        \"), ('https://www.nytimes.com/2011/06/25/world/asia/25karabakh.html?_r=0', \"             NYTimes.com no longer supports Internet Explorer 9 or earlier. Please upgrade your browser.  LEARN MORE »           Sections   Home   Search  Skip to content  Skip to navigation  View mobile version      The New York Times       Asia Pacific | Azerbaijan and Armenia Fail to End Enclave Dispute          Search   Subscribe Now  Log In  0  Settings      Close search   Site Search Navigation     Search NYTimes.com     Clear this text input     Go             Loading...      See next articles       See previous articles           Site Navigation    Site Mobile Navigation       Advertisement          Supported by     Asia Pacific   Azerbaijan and Armenia Fail to End Enclave Dispute   By ELLEN BARRY JUNE 24, 2011     Continue reading the main story  Share This Page   Continue reading the main story           MOSCOW — Hopes for a breakthrough on a conflict between Azerbaijan and Armenia were deflated Friday when Russia, which convened talks in the city of Kazan, released a statement saying that the leaders of the two countries had not agreed to the framework for a deal. International mediators had set the bar high for the presidential talks on Friday, calling for approval of a set of basic principles that would defuse the standoff over Nagorno-Karabakh, an Armenian enclave that sought to break away from Azerbaijan toward the end of the Soviet period. After a meeting that lasted more than an hour, the sides released a statement saying that a “common understanding had been reached on a number of issues whose resolution will help create the conditions for approval of the basic principles.” Russia, France and the United States had applied concerted pressure on the leaders of Armenia and Azerbaijan to approve the basic principles in Kazan. Russia’s president, Dmitri A. Medvedev, has invested abundant time and political capital in the project, but the approach of the Russian election season will make that more difficult now.   Advertisement   Continue reading the main story   “This was supposed to be the moment,” said Thomas de Waal, a Caucasus specialist at the Carnegie Endowment for International Peace in Washington. “Every year that this goes on, the positions of the sides harden, and therefore it becomes easier to have a war.”  Continue reading the main story         Advertisement   Continue reading the main story       A diplomat involved in the talks, who spoke on the condition of anonymity because he was not authorized to speak to the news media, said that Friday’s talks were “not a make-or-break meeting” and that work on an agreement would continue. The diplomat said, however, that the two sides had made less progress than mediators had hoped.  Photo        Nagorno-Karabakh seeks to break away from Azerbaijan.   Credit The New York Times    “It was clear in the talks that there is still a great deal of mistrust between the sides,” he said. “We all felt it would be possible to achieve more.” Domestic politics have proved to be a formidable obstacle to a resolution. The two-decade stalemate over Nagorno-Karabakh has stoked ferocious passions in both Armenia and Azerbaijan, and their leaders risk an angry domestic reaction if they are seen as conceding. As the Kazan meeting approached, mediators said substantive differences were small, but it was not clear whether the leaders had the political will to present a deal to their citizens.  Newsletter Sign Up  Continue reading the main story        Please verify you're not a robot by clicking the box.  Invalid email address. Please re-enter.  You must select a newsletter to subscribe to.     Sign Up      You will receive emails containing news content , updates and promotions from The New York Times. You may opt-out at any time.         You agree to receive occasional updates and special offers for The New York Times's products and services.        Thank you for subscribing.  An error has occurred. Please try again later.  You are already subscribed to this email.  View all New York Times newsletters.    See Sample  Manage Email Preferences  Not you?  Privacy Policy  Opt out or contact us anytime  Opt out or contact us anytime       Like the ethnic enclaves of Abkhazia and South Ossetia in neighboring Georgia, Nagorno-Karabakh had limited autonomy in the Soviet system. When its predominantly Armenian population tried to break away from Azerbaijan and join Armenia near the end of the Soviet era, war broke out, leaving as many as 20,000 people dead and more than a million displaced. A cease-fire has been in place since 1994, but about 30 people have been killed annually on the boundary, and stalled negotiations have ratcheted up talk of war. Azerbaijan, in particular, has channeled its oil wealth into a military buildup; it plans to flaunt its power in a parade in the capital, Baku, on Sunday. Agreement on the basic principles would allow work to begin on a peace treaty. The principles include granting Nagorno-Karabakh an interim self-governing status, returning a buffer zone to Azerbaijani control, guaranteeing refugees the right of return, providing a safe corridor between Nagorno-Karabakh and Armenia, creating an international peacekeeping force, and — perhaps the thorniest challenge — beginning the process of determining the enclave’s ultimate status. Svante E. Cornell, a Caucasus expert at the School of Advanced International Studies at Johns Hopkins University , said this round of talks felt too familiar to give him much optimism. “To be disappointed, you have to have expectations,” Mr. Cornell said. “I did not. Having tracked this conflict for a decade, there have been so many moments when co-chairs and others have expressed hopes, but nothing came out of it.”   A version of this article appears in print on June 25, 2011, on Page A7 of the New York edition with the headline: Azerbaijan and Armenia Fail to End Enclave Dispute.  Order Reprints |  Today's Paper | Subscribe      Continue reading the main story        We’re interested in your feedback on this page. Tell us what you think.         Related Coverage       TIMES TOPIC   Armenia          TIMES TOPIC   Azerbaijan              THE SATURDAY PROFILE   Emin Milli Punishment a Message From Azerbaijan Government  JUNE 24, 2011                          Related Coverage        TIMES TOPIC   Armenia          TIMES TOPIC   Azerbaijan          THE SATURDAY PROFILE   Emin Milli Punishment a Message From Azerbaijan Government  JUNE 24, 2011                 What's Next    Loading...               Go to Home Page »   Site Index   The New York Times       Site Index Navigation    News    World    U.S.    Politics    N.Y.    Business    Tech    Science    Health    Sports    Education    Obituaries    Today's Paper    Corrections      Opinion    Today's Opinion    Op-Ed Columnists    Editorials    Op-Ed Contributors    Letters    Sunday Review    Video: Opinion      Arts    Today's Arts    Art & Design    Books    Dance    Movies    Music    N.Y.C. Events Guide    Television    Theater    Video: Arts      Living    Automobiles    Crossword    Food    Education    Fashion & Style    Health    Jobs    Magazine    N.Y.C. Events Guide    Real Estate    T Magazine    Travel    Weddings & Celebrations      Listings & More    Reader Center    Classifieds    Tools & Services    N.Y.C. Events Guide    Multimedia    Photography    Video    NYT Store    Times Journeys    Subscribe    Manage My Account    NYTCo      Subscribe   Subscribe    Home Delivery     Digital Subscriptions     Crossword      Email Newsletters    Gift Subscriptions    Group Subscriptions    Education Rate      Mobile Applications    Replica Edition          Site Information Navigation    © 2018 The New York Times Company    Home  Search  Accessibility concerns? Email us at accessibility@nytimes.com . We would love to hear from you.  Contact Us  Work With Us  Advertise  Your Ad Choices  Privacy  Terms of Service  Terms of Sale     Site Information Navigation   Site Map  Help  Site Feedback  Subscriptions                     \"), ('http://web.archive.org/web/20150802005732/http://www.independent.co.uk:80/travel/europe/san-lazzaro-degli-armeni-a-slice-of-armenia-in-venice-10429928.html', '                                       Sunday 02 August 2015                Apps      eBooks      i Jobs      Dating      Shop                                    News    Video      People      Voices      Sport    Tech      Life      Property       Arts  +  Ents       Travel     News & Advice      Simon Calder      48 Hours In      Africa      Americas      Asia      Australasia & Pacific      Europe      Middle East      UK      Hotels      Skiing       Skiing Conditions         Video      Travel Offers       Travel Offers      Secret Escapes            Money      IndyBest      Student    Offers         Jeremy Corbyn  Ghost Flights  Cecil the Lion  George Osborne  Greece  Michael Gove           Travel > Europe               San Lazzaro degli Armeni: A slice of Armenia in Venice                       Teresa Levonian Cole explores a monastery dedicated to Armenian culture         Teresa Levonian Cole        Friday 31 July 2015               Print             Your friend\\'s email address       Your email address            Note: We do not store your email address(es) but your IP address will be logged to prevent abuse of this feature. Please read our Legal Terms & Policies      A  A  A    Email             It\\'s not your usual complement of gondola- hailing tourists that board Vaporetto No 20 from San Zaccaria, at 3.10pm. Most are Italian, with a smattering of American art historians and visitors of a more Levantine countenance. All exude an air of gravitas. Some disembark at the university island of San Servolo, leaving a small phalanx to continue to journey\\'s end: the Armenian monastery island of San Lazzaro.      In the year of the centenary of the mass killing of Armenians at the hands of the Ottoman Empire, the tiny island of San Lazzaro degli Armeni assumes particular significance. Formerly a leper colony, it was the gift of Doge Alviso Mocenigo to Mekhitar, an Armenian monk fleeing persecution in Constantinople. He arrived in 1717, with 20 followers, to found a monastery dedicated to the cultural and spiritual renaissance of the Armenian people. Even Napoleon, no friend to monasteries, was impressed, and in 1797 he designated San Lazzaro an Academic Institution, saving it from the axe. Today, just 12 vardapets (learned monks) and five novices remain as custodians of 200,000 books, 4,500 rare manuscripts, and a disparate collection of esoteric treasures. This Mother Church of the Mekhitarist order has become a symbol of survival, and an important centre of Armenian scholarship. We follow a trail of incense through cloisters lined with Greek, Roman and Phoenician antiquities, past the headless statue of a princess from Aquilea, and enter the barrel-vaulted church. Beyond the walls, closed to the public, lies a secret garden of great repute. Our guide, Eleanora, tries to unravel the complex theology behind this monastery. \"Mekhitar,\" she concludes, \"wanted to heal the rift between the Eastern and Western churches.\" But amid the splendid marble and mosaic, three low blind arches from the original church of 1348 remind us of the island\\'s insalubrious past. \"They were windows through which the lepers could follow Mass,\" explains Eleanora.    At the top of the ornate wrought iron \"Staircase of Mekhitar\", the work of home-grown artists hangs along one of the corridors leading to monks\\' cells; the aquiline features of Armenian dignitaries in Ottoman dress stare soulfully from the walls. The largest canvases are housed in the museum dedicated to Armenian treasures, which also has Bronze Age metalwork, gold coins from the first century BC, stamps from the short-lived First Republic of Armenia, and the sword, forged in 1366, of Leon VI of Lusignan, King of the Armenian House of Cilicia. Among the names of distinguished visitors to the monastery\\'s Libro d\\'Oro, is that of George Gordon Byron, who spent six months here in 1816, studying Armenian – \"the language to speak with God\". Lord Byron\\'s erstwhile classroom is now occupied by a perfectly preserved 2,600-year-old Egyptian mummy, called Nemenkhet, who grins, humourlessly from beneath an intricate mantle of coloured beads. Surrounded by bookcases bearing the 23 gigantic volumes of Description de L\\'Egypte – an exhaustive archaeological survey commissioned by Napoleon following his Egyptian campaign – Nemenkhet no doubt feels at home. For all its curiosities, the soul of the monastery resides in its three libraries: from the magnificent Monumental Library, whose pear-wood bookcases contain rare European tomes spanning every subject, through Byron\\'s Room, and on to the circular Manuscript Room, which houses one of the world\\'s most important collections of Armenian manuscripts, including Gospels created in 862 for Queen Melket. Most importantly, the library also holds early Armenian translations of ancient texts – such as works by Philo, Hesiod and St John Chrysostom – whose originals had been lost but were translated by the monks into Latin and thus revived. \"If the Scriptures are rightly understood,\" wrote Lord Byron back in 1817, \"it was in Armenia that Paradise was placed.\" Indeed, if you visit San Lazzaro in summer, you can sample the monks\\' rose-petal jam, which is made from the flowers in the monks\\' own private Eden. Getting there Teresa Levonian Cole travelled with Kirker Holidays (020 7593 2283; kirkerholidays.com ), which offers three nights\\' B&B at the Gritti Palace, Venice, from £998pp, including flights and water-taxi transfers. More information italiantouristboard.co.uk      The Independent travel offers: Discover a world of inspiring destinations                World News in Pictures   Enter URL:    Enter URL:             Life and Style        Windows 10 is spying on you – here\\'s how to stop it      tech          News        Does this woman have the best (NSFW) job in the world?      i100          Life and Style        Jeremy Corbyn dresses abysmally. That\\'s a great thing because it\\'s genuine      fashion          News        Snoop Dogg rapped after being stopped carrying £270k at an Italian airport      people                    News        How good is your vocabulary? Take our quiz      i100          News        Bobbi Kristina memorial marred as bitter family row erupts in public      people          News        Huckabee: I\\'d use soldiers to stop abortions      people          News        Adolescents are the biggest liars. But why?      science Roger Dobson knows the true story, from Pinocchio to Pollard         Voices        Aches, pains and an inkling of mortality      voices So the male menopause is real, they say, but what would the Victorians, \\'old\\' at 30, think of that, asks DJ Taylor          Life and Style        Cool at school, loser in later life, study finds      health            Travel        48 Hours in North American Cities      ebook How to enjoy the perfect short break in 20 great cities           News        Historian Bettany Hughes on how Socrates would have solved Greek crisis      people          Sport        Pedro \\'is leaving for England\\' says his mum      transfers          Arts and Entertainment        \\'How can I possibly be on the list with these writers I have idolised?\\'      books Man Booker Prize nominee Anna Smaill on the rise of Kiwi lit         Sport        Ji So-Yun seals FA Cup trophy for Chelsea Ladies      sport          Arts and Entertainment        North Korea\\'s art of the state: Propaganda posters to be exhibited in China      art        Independent Travel Videos       Simon Calder in Amsterdam       Simon Calder in Giverny       Simon Calder in St John\\'s       Travel blogs      Her Outdoors: August is here     Her Outdoors: L is for leek, C is for cucumber, G is for garlic     In Rome, poetry in motion and couture as sculpture from Valentino and Azzedine Alaïa                           Please provide search keyword(s)             Advanced search      Article archive      Topics                              Most Shared     Most Viewed     Most Commented         1       Windows 10: man updates PC, wakes up to find porn slideshow on repeat     2       The \\'world\\'s most beautiful vagina\\' has been debunked by science     3       John Green schools morning show hosts after awkward interview with Cara Delevingne     4       Bulletproof armadillo puts Texas man in hospital after shot bounces off hard shell     5       Doctors declare war on Jeremy Hunt over weekend working \\'myths\\' amid plan for seven day NHS                     The most powerful passports in the world           The 10 Best lightweight luggage           The 10 Best hiking boots           San Lazzaro degli Armeni: A slice of Armenia in Venice           What TripAdvisor users think of 16 of the world\\'s most popular landmarks                      Yvette Cooper: Our choice is years of Tory rule under Jeremy Corbyn – or a return to a Labour government    Andrew Grice          Is Britain really full up? Are migrants taking our jobs? Leading academic answers the most common anti-immigration claims    Professor John Salt, Kashmira Gander          Calais Migrant Crisis: Deputy Mayor of Calais labels Cameron\\'s use of \\'swarm\\' as \\'racist\\' and \\'ignorant\\'    Michael Segalov          Labour leadership: New poll shows party is now even \\'less electable\\' than under Ed Miliband    Andrew Grice          While we fixate on Calais, the Home Office is quietly deporting dozens of migrants on \\'ghost flights\\'    Phil Miller          Calais crisis: The seven claims made about the migrants - and the reality    Cahal Milmo                                        independent images         Calais Border crisis        Bristol Upfest 2015        The Gay Beards        Light and Land photography        Suruc suicide attack        Riots in Greece        World news in pictures        UK news in pictures        Arts + Ents news in pictures        Sport news in pictures       < Previous  1  2  3  4  5  6  7  8  9  10  Next >                         SPONSORED FEATURES                                                          Independent Dating      Show Me   Women  Men     Between:   18  19  20  21  22  23  24  25  26  27  28  29  30  31  32  33  34  35  36  37  38  39  40  41  42  43  44  45  46  47  48  49  50  51  52  53  54  55  56  57  58  59  60+  and  18  19  20  21  22  23  24  25  26  27  28  29  30  31  32  33  34  35  36  37  38  39  40  41  42  43  44  45  46  47  48  49  50  51  52  53  54  55  56  57  58  59  60+     Location:   -- Select --  Avon  Bedfordshire  Berkshire  Borders  Buckinghamshire  Cambridgeshire  Central  Cheshire  Cleveland  Clwyd  Cornwall  County Antrim  County Armagh  County Down  County Durham  County Fermanagh  County Londonderry  County Tyrone  Cumbria  Derbyshire  Devon  Dorset  Dumfries and Galloway  Dyfed  East Sussex  Essex  Fife  Gloucester  Grampian  Greater Manchester  Guernsey  Gwent  Gwynedd  Hampshire  Hereford and Worcester  Hertfordshire  Highlands  Humberside  Isle of Man  Isle of Wight  Jersey  Kent  Lancashire  Leicestershire  Lincolnshire  London  Lothian  Merseyside  Mid Glamorgan  Norfolk  North Yorkshire  Northamptonshire  Northumberland  Nottinghamshire  Orkney  Oxfordshire  Powys  Sark  Shetland  Shropshire  Somerset  South Glamorgan  South Yorkshire  Staffordshire  Strathclyde  Suffolk  Surrey  Tayside  Tyne and Wear  Warwickshire  West Glamorgan  West Midlands  West Sussex  West Yorkshire  Western Isles  Wiltshire     By clicking \\'Search\\' you are agreeing to our Terms of Use .                                     iJobs Travel     Recruitment Genius: Travel Customer Service and Experience Manager  £14000 - £17000 per annum:\\nRecruitment Genius:\\nThe fastest growing travel comp...    Recruitment Genius: Network Executive - Adrenalin Sports - OTE £21,000  £19000 - £21000 per annum:\\nRecruitment Genius:\\nAre you looking for an exciting...    Guru Careers: Product Manager / Product Marketing Manager / Product Owner  COMPETITIVE:\\nGuru Careers:\\nA Product Manager / Product Owner is required to jo...    Guru Careers: Carpenter / Maintenance Operator  £25k plus Benefits:\\nGuru Careers:\\nA Carpenter and Maintenance Operator is need...       View the latest travel & hospitality jobs on iJobs           Day In a Page       Sun  Mon  Tue  Wed  Thu  Fri  Sat       1  2  3  4  5  6  7  8  9  10  11  12  13  14  15  16  17  18  19  20  21  22  23  24  25  26  27  28  29  30  31    January  February  March  April  May  June  July  August  September  October  November  December    1992  1993  1994  1995  1996  1997  1998  1999  2000  2001  2002  2003  2004  2005  2006  2007  2008  2009  2010  2011  2012  2013  2014  2015   Go                      US betrayal of old ally brings limited reward  Since the accord, the Turks have only waged war on Kurds while no US bomber has used Incirlik airbase, says Patrick Cockburn         \\'A gift from Egypt to the rest of the world\\'  VIPs gather for opening of second\\xa0Suez Canal - but is it really needed?         Jeremy Corbyn dresses abysmally. That\\'s a great thing because it\\'s genuine  Fashion editor, Alexander Fury, applauds a man who clearly has more important things on his mind         Aches, pains and an inkling of mortality  So the male menopause is real, they say, but what would the Victorians, \\'old\\' at 30, think of that, asks DJ Taylor         \\'How can I possibly be on the list with these writers I have idolised?\\'  Man Booker Prize nominee Anna Smaill on the rise of Kiwi lit           Bettany Hughes interview  The historian on how Socrates would have solved Greece\\'s problems         Art of the state  Pyongyang propaganda posters to be exhibited in China         Vegetarian food gets a makeover  Long-time vegetarian Holly Williams tries to recreate some of the inventive recipes in Mildreds and Vanilla Black\\'s new cookbooks         The haunting of Shirley Jackson  Was the gothic author\\'s life really as bleak as her fiction?         Bill Granger\\'s seaside-inspired recipes  These dishes are so easy to make, our chef is almost embarrassed to call them recipes           Tourists are limp, leaderless and distinctly UnAustralian  A woefully out-of-form Michael Clarke embodies his team\\'s fragile Ashes campaign, says Michael Calvin         Andrew Grice: Inside Westminster  Blairites be warned, this could be the moment Labour turns into Syriza         The mystery of Britain\\'s worst naval disaster is finally solved - 271 years later  Exclusive: David Keys reveals the research that finally explains why HMS Victory went down with the loss of 1,100 lives         \\'I saw people so injured you couldn\\'t tell if they were dead or alive\\'  Nagasaki survivors on why Japan must not abandon its post-war pacifism         The voter Obama tried hardest to keep onside  Outgoing The Daily Show host, Jon Stewart, became the voice of Democrats who felt the President had failed to deliver on his ‘Yes We Can’ slogan. Tim Walker charts the ups and downs of their 10-year relationship on screen                                  Terms  &  Policies      Privacy  Policy      Cookie  policy      Code  of  Conduct      Complaint  form      Email  newsletters     RSS     Live  Blogs      About  i100          Contact  Us     Subscriptions    Apps     Work  for  us      Evening  Standard      Homes  &  Property     iJobs     News  video      Sport  video          Advertising  Guide     Syndication     Novaya  Gazeta  (English)      ES  Business  Connections      ES  Rentals      London  Live       © independent.co.uk                              Please provide search keyword(s)             Advanced search      Article archive      Topics                                             '), ('http://web.archive.org/web/20140414203801/http://www.telegraph.co.uk/news/worldnews/europe/turkey/10765696/Turkey-aided-Islamist-fighters-in-attack-on-Syrian-town.html', ' Accessibility links   Skip to article  Skip to navigation        Advertisement          Telegraph.co.uk               Monday 14 April 2014                 Home  News  World  Sport  Finance  Comment  Culture  Travel  Life  Women  Fashion  Luxury  Tech  Cars      Dating    Offers          USA  Asia  China  Europe  Middle East  Australasia  Africa  South America  Central Asia  Expat      France  Francois Hollande  Germany  Angela Merkel  Russia  Vladimir Putin  Greece  Spain  Italy       Home »  News »  World News »  Europe »  Turkey                     Turkey \\'aided Islamist fighters\\' in attack on Syrian town  Rebels and eye-witnesses claim that Turkish authorities allowed fighters to \\n  enter Syria through a strategic border post to carry out assault on Armenian \\n  town of Kasab            A severely damaged house in the Armenian Christian town of Kasab  Photo: REUTERS               By Ruth Sherlock , Beirut   6:40PM BST 14 Apr 2014      Turkey facilitated an attack carried out by Islamist fighters against the \\n  Armenian town of Kasab inside Syria, eyewitnesses have told the Telegraph.  In an operation that was months in the planning, Turkish authorities gave \\n  rebel groups the mandate they needed to attack, allowing them access through \\n  a heavily militarised Turkish border post, whose location was strategically \\n  vital to the success of the assault.  \"Turkey did us a big favour,\" said a Syrian activist with the rebel \\n  group, whose name the Telegraph knows but has been asked not to reveal. \"They \\n  allowed our guys to enter from their border post.  \"We needed to hit the regime from different sides and this was the only \\n  way from near the coast, so it was a big help.\"  Kasab, the ancestral home of the Armenian ethnic minority in Syria, which had \\n  remained relatively sheltered from the conflict in Syria.  Related Articles     New UN report describes horrific and systematic torture of Syrian victims   14 Apr 2014     Syria: Bashar al-Assad says war is turning in regime\\'s favour   14 Apr 2014     The danger is from Syria, not the Taliban   10 Apr 2014     Dutch priest murdered in his church in the besieged Syrian city of Homs   07 Apr 2014     British jihadis urge others to join war   21 Mar 2014      Residents were woken on the morning of the attack, on March 21, to screams and \\n  cries.  \"We woke to the sounds of the shelling. There was no time even to get \\n  dressed,\" remembered Bedros, 45, an Armenian resident who asked not to \\n  be identified by his real name. \"I grabbed my wife and my children. We \\n  had no time to take our things. Some people fled in their night gowns.\"  Two days later Kasab was in the hands of an alliance of Islamist groups, \\n  including the jihadist Jabhat al-Nusra, aligned with al-Qaeda. Almost all of \\n  the villages approximately 2,000 inhabitants had fled.  The night of the attack a relative of Bedros had gone to one of the main \\n  border posts with Turkey, which is only lightly armed with Syrian troops, \\n  reportedly because of an agreement signed decades before the war.  \"By the time he arrived the attack had begun. He saw the Islamist \\n  fighters standing with the Turkish army. They started launching their shells \\n  from the border\".  The Turkish foreign ministry has issued a statement stating that the claims \\n  that the government aided the opposition in the attack are \"totally \\n  unfounded and untrue\".  However, the findings of investigation by Human Rights Watch (HRW), which \\n  included interviews with local eye-witnesses, directly contradict this \\n  claim.  \"It is not feasible that these groups could have crossed into Syria from \\n  where they did without the knowledge of the Turks,\" Lama Fakih, the \\n  Syria and Lebanon researcher at HRW told the Telegraph.  \"One of the areas they used was an official border crossing that \\n  residents say has a Turkish military presence.\"  The entry through the Kasab border crossing allowed the rebels to attack the \\n  Syrian military positions near village from several sides, making it key to \\n  the rebel assault.  Rebel groups had wanted to attack Kasab for a long time, said the female \\n  activist, but Turkey had previously denied them access.  \"In the past the Turks refused to give us passage, because they said that \\n  in order to succeed in the attack we needed to be united,\" she said, \\n  referring to the battles that took place at the end of last year between the \\n  extremist Islamic State of Iraq and al-Sham, and other rebel groups in the \\n  area.  The attack on Kasab sparked dark memories of the Ottoman massacres for its \\n  inhabitants, and a hysterical flurry across social media from pro-government \\n  sources claiming horrific massacres in the town.  Residents themselves brought up memories of massacres in 1909, and the \\n  genocide in 1915, when Kasab villagers were slaughter in their thousands by \\n  the Ottomans.  \"We always thought the Turks would attack us one day,\" said Bedros, \\n  the fellow family members who he is sharing his new lodgings in Lebanon, \\n  nodding as he spoke. \"And with the attack on Kasab it was clear that \\n  Turkey helped. The attackers came from Turkish territory.\"  Kasab was however the Syrian regime\\'s \\'Achilles heel\\' in the well defended \\n  coastal province of Latakia, where many Alawites, the same religious \\n  minority as President Assad, live.  Al-Nusra and the Islamic Front have pushed deeper into the terrain, taking \\n  control of Samra, giving them access to the coastline and engaging in fierce \\n  battles for \\'observatory 45\\', the highest mountain point in the area, and a \\n  strategically vital military position.  \"You can see why we needed to take Kasab,\" said Dr Mahmoud, \\n  diplomacy envoy for the Islamic Front. \"You can see what has happened. \\n  Now the regime is very very afraid.\"                  Turkey       News »    World News »    Middle East »    Syria »    Ruth Sherlock »           In Turkey           Riots in Turkey              Taksim Square demonstration              US ambassador to Turkey: \\'we\\'ll fight terrorism together\\'              Fire engulfs 42-storey tower in Istanbul              Turkey sends rocket launchers to Syrian border                        Advertisement                       Europe news  »         France news    German news    Italy news    Spanish news    Russian news    European Union       Advertisement          More from the web  »        Advertisement           More from the web           News Most Viewed        TODAY      PAST WEEK      PAST MONTH          Oscar Pistorius murder trial: live  Live: Oscar Pistorius takes the stand  Malaysia Airlines MH370: submarine to be deployed as oil slick spotted  City boss dodged £42,000 in train fares on commute  \\'Women who have sex before marriage should be hanged\\'      Peaches Geldof found dead at age of 25  MH370: missing Malaysia Airlines plane - April 7 and 8 as it happened  Live: Oscar Pistorius takes the stand  Peaches Geldof: post mortem into \\'unexplained and sudden\\' death  Teacher corrects student’s grammar following expletive-ridden letter      Malaysian Airlines MH370: March 19 as it happened  Malaysia Airlines MH370: March 29 as it happened  Final communication from MH370 revealed  British sniper in Afghanistan kills six Taliban with one bullet  Malaysia Airlines MH370: March 22 as it happened           Advertisement           More from the web  »                    MORE FROM TELEGRAPH.CO.UK         Barnebys           Discover hidden gems: a guide to buying jewellery    View         Visit Norway           The spectacular beauty of Norway    View         STANDARD LIFE INVESTMENTS           Who are the top 10 US Ryder Cup players ?    View         Sotheby\\'s           Explore The World\\'s Finest Homes    View              Back to top      HOME  News  UK News  Politics   Long Reads   Wikileaks  Jobs     World News  Europe  USA  China   Royal Family News   Celebrity news  Dating     Finance  Education  Defence  Health   Weird News   Editor\\'s Choice  Financial Services     Pictures  Video  Matt  Alex   Comment   Blogs  Crossword     Contact Us  Privacy and Cookies  Advertising  Fantasy Football   Tickets    Announcements  Reader Prints        Follow Us  Apps  Epaper  Expat    Promotions  Subscriber  Syndication        © Copyright of Telegraph Media Group Limited 2014  Terms and Conditions   Today\\'s News  Archive  Style Book  Weather Forecast         ')]\n"
     ]
    }
   ],
   "source": [
    "print(elem)"
   ]
  },
  {
   "cell_type": "code",
   "execution_count": 8,
   "metadata": {},
   "outputs": [
    {
     "data": {
      "text/plain": [
       "[('http://www.express.co.uk/posts/view/199991/Last-night-s-TV-The-Road-to-Coronation-Street',\n",
       "  '                                 Express. Home of the Daily and Sunday Express.      7 °C   Find us on Facebook  Follow us on Twitter     Login  Register  Apps  Puzzles  Horoscopes  Discounts  Shop  Paper  HOME  News  Showbiz & TV  Sport  Comment  Finance  Travel  Entertainment  Life & Style Celebrity News TV & Radio Home Showbiz & TV TV & Radio    Last night\\'s TV: The Road to Coronation Street CAN it really be 50 years since the world’s longest running television soap began? The birth of Coronation Street was celebrated last night.  Not, inexplicably, on ITV, which you would have thought the obvious place and not even on a main Beeb channel but BBC4. By Virginia Blackburn   PUBLISHED:  PUBLISHED:  00:00, Fri, Sep 17, 2010  0      The Road to Coronation Street, BBC4 Tuck it away they might but THE ROAD TO CORONATION STREET was so good it could get another airing on one of the major channels. It certainly deserves one. As this behind-the-scenes drama kicked off and the opening bars of possibly the world’s most famous theme tune rang out, the hairs stood up on the back of the neck. Back in 1960, Tony Warren (David Dawson), now something of a legend in television circles, was an erstwhile boy actor, grown up and failing to find any decent parts. EXPRESS OFFER: CLAIM £15 IN FREE BETS HERE! He decided to have a go at screenwriting instead. So he rehashed an old idea the BBC had turned down (if this is true, it must rank alongside the story of the record label chap who rejected The Beatles) about ordinary working class people in Salford to be called … Florizel Street. It wasn’t until just before transmission that the title was changed to the one we know and love today. Fortunately for Tony, he was working for something of a visionary at Granada Television, Harry Elton (Christian McKay). Although Canadian, Harry instinctively understood he had the making of a British classic on his hands so convinced Granada’s owners to give it a go. Fifty years on, it’s safe to say Harry was right. It was a joy to watch. For a start, there was all the fun of watching some of television’s most famous faces being brought back to life: Jessie Wallace did a creditable Pat Phoenix, although it took a few minutes for her accent to fall into place, while Lynda Baron was inspired as Violet Carson. It was Tony himself who had suggested Violet for the role of Ena Sharples, although he looked traumatised when she actually got it. “You don’t know her,” he explained. There was good-natured teasing at the expense of William Roache, played here by his son James as a callow youth off to start a big career as a film star and just fitting this in en route. Half-a-century on and Ken Barlow is still going strong, the only member of the original cast still in place. However, it was David Dawson and some perfectly judged dialogue that brought this drama to light. At times the script was just as sharp as Corrie in its heyday. “I want something strong enough to take Britain by storm,” said Harry. “Get yourself an umbrella,” Tony replied. Meanwhile, over on ITV1 was CORONATION STREET itself, with its focus on a soldier going off to the war in Afghanistan, demonstrating that the show is as topical as it ever was. All the same, you’re left thinking they don’t make Northern divas like they used to. The younger members of the cast would have been eaten alive by the likes of Pat Phoenix et al. Thank goodness for Liz (Beverley Callard), smouldering away at any man who still has his own teeth. You can’t help but yearn for the glory days, though. Not so HOME AND AWAY (Channel Five), also setting records for its 23 years in production to date. To listen to the cicadas on this show and see the ocean is to make a mental note to move to Australia. Now Rachel wants to drag Tony and their son Harry to Boston. It snows a lot in Boston. Is the woman completely mad?             Most read in TV & Radio    1  ITV Good Morning Britain: Piers Morgan SLAMS ‘piece of work’ Meghan Markle in heated rant    2  Strictly Come Dancing 2018: Star drops MAJOR pro dancer change bombshell ‘So disappointed’    3  I’m A Celebrity 2018: ‘It was so bad’ Former contestant drops huge food bombshell    4  I’m A Celebrity 2018: ITV security forced to step in after uninvited guest shocks camp    5  Emmerdale spoilers: Charity Dingle ATTACKS Marlon Dingle in Jessie Grant shock     Latest videos    Met Office weather forecast: How cold will UK get this week? - latest forecast    EastEnders spoilers: Keegan Baker and Louise Mitchell in danger from Evie\\'s drug gang?    Moment laughing Kate Middleton PELTED with SNOWBALLS by Kensington Palace staff    Emmerdale spoilers: Jacob Gallagher in danger after Maya Stepney’s twisted actions?    How to cook turkey: Tricks & recipe tips for the BEST moist breast this Christmas         ITV Good Morning Britain: Piers Morgan SLAMS ‘piece of work’ Meghan Markle in heated rant     EastEnders spoilers: Keegan Baker and Louise Mitchell in danger from Evie\\'s drug gang?     Emmerdale spoilers: Jacob Gallagher in danger after Maya Stepney’s twisted actions?     Strictly Come Dancing 2018: Zoe Ball grills Ashley Roberts over dance experience - watch     Stacey Dooley: Karen Hardy issues warning to Strictly star ahead of semi-finals     Mrs Maisel season 2 release time: When will Mrs Maisel season 2 be released?     I’m A Celebrity 2018: ‘It was so bad’ Former contestant drops huge food bombshell     LEGO MASTERS series 3: Will there be another series of LEGO MASTERS on Channel 4?     The Chase 2018: ‘Get Out!’ Anne Hegerty stunned by contestant\\'s bizarre behaviour     Fortitude season 3 streaming: How to watch Fortitude online     I\\'m A Celebrity 2018: Fans spot a ‘confiscated item’ ahead of Malique\\'s exit - did you?     Royal REVEAL: Piers Morgan explains reason for Meghan Markle and Kate Middleton feud     Luther season 5 streaming: How to watch Luther online and download     The Marvelous Mrs Maisel season 2 streaming: How to watch online     Luther season 5 release date, cast, trailer, plot: When is the new series airing on BBC?     The American Meme on Netflix release date, cast, trailer, plot: When is it out?     Game of Thrones season 8 spoilers: Night King star spills all on final battle     Mrs Wilson on BBC: Who is Alex Wilson? Who was Alec Wilson?     Emmerdale spoilers: Maya Stepney star defends Jacob Gallagher abuse storyline     Strictly Come Dancing 2018: Semi-Finals Week songs and dances revealed        SEARCH      CONNECT WITH US  Find us on Facebook  Follow us on Twitter  Check us on Google+  Subscribe to our rss feed    TODAY\\'S PAPER     Tuesday, 4th December 2018 See today\\'s front and back pages, download the newspaper,\\norder back issues and use the historic Daily Express\\nnewspaper archive.      News Politics UK World Royal Weather Science Scotland Nature Weird Sunday History Obituaries    Latest News Brexit European Union Theresa May Angela Merkel Donald Trump The Queen Kate Middleton Meghan Markle Diesel Cancer Diabetes Dementia YouTube    Showbiz &\\xa0TV Celebrity News TV & Radio    Sport Football Transfer news Premier League Manchester United Liverpool Arsenal Chelsea Tottenham Hotspur Manchester City West Ham Everton Celtic Rangers Tennis F1 UFC Boxing Rugby Golf NFL WWE Cricket NBA Racing    Pictures Pics Celebrity Galleries Royal Galleries Sport Galleries    Comment Express Comment Columnists Beachcomber    Finance City & Business Personal Finance The Crusader Retirement    Travel Cruise Activity Holidays Beach Holidays Short & City breaks Travel News    Entertainment Gaming Theatre Films Books Music Puzzles    Life & Style Life Style Health Cars Garden Property Food Tech Diets Saturday Win S Mag Top 10 Facts    EXPRESS.CO.UK Apps Puzzles Horoscopes Discounts Shop Paper Sitemap Site Archive Contact Us Report a Tech Issue Advertising Cookies Settings Privacy Policy Cookie Policy Terms & Conditions Developed by Netro42 Syndication and Licensing Clarifications and Corrections    Daily Star  OK! Magazine  IPSO Regulated Copyright ©2018 Express Newspapers.\\n\"Daily Express\" is a registered trademark. All rights reserved.                                    '),\n",
       " ('http://unitedagents.co.uk/david-dawson',\n",
       "  \"    Skip to main content               Menu      Clients  Agents  Departments Actors  Below The Line  Books Foreign Rights  Children's Authors  Illustrators  Permissions  AP Watt  Submission Guidelines   Comedy  Commercials PR and Endorsements  Corporate Event Hosting  Standard Visual Commercials  Conventions   Film, TV & Theatre  Presenters  Voices   News  About  Contact     Toggle search bar  Search           Shortlist             Search                   David Dawson   Add to shortlist  Add to shortlist         Acting     Agent: Olivia Homan     Olivia Homan    ohoman@unitedagents.co.uk      Associate Agent: Gabriella Capisani   gcapisani@unitedagents.co.uk        Agent: Lindy King     Lindy King         Associate Agent: John Hyslop   jhyslop@unitedagents.co.uk     Assistant: Joel Keating   jkeating@unitedagents.co.uk         Voiceover     Agent: Kate Davie     Kate Davie    voices@unitedagents.co.uk         Agent: Rebecca Haigh     Rebecca Haigh    voices@unitedagents.co.uk      Assistant: Jennifer Johnston   JJohnston@unitedagents.co.uk                  Acting   Download CV           David recently starred\\xa0in\\xa0BBC drama 'The Last Kingdom' (series 1-3) playing King Alfred.  He will soon start rehearsing for ARISTOCRATS at the Donmar Warehouse, directed by Lyndsey Turner. His most recent theatre work had him\\xa0co-starring opposite Andrew Scott in the production THE DAZZLE at Found111, by Richard Greenberg.  David was nominated for BEST NEWCOMER at the Olivier Awards 2008 for his performance of Smike in The Life and Adventures of Nicholas Nickleby, and for BEST SUPPORTING ACTOR at the 2010 Whatsonstage Theatregoers Choice Awards for his performance as Gethin Price in COMEDIANS at the Lyric Hammersmith.  David trained at RADA        Film  Production Character Director Company    LONDON BOULEVARD  Big Issue Seller  William Monahan  GK Films    THE COMPLETE WALK: LOVE'S LABOURS LOST (Short)  Sam Yates  Shakespeare's Globe      Television  Production Character Director Company    THE LAST KINGDOM  King Alfred  Various  BBC / BBC America    BANISHED  Captain David Collins  Dan Percival and Jeffrey Walker  BBC2    MAIGRET  Marcel Monen  Ashley Pearce  ITV1    THE SECRET AGENT  Vladimir  Charles McDougall  BBC    RIPPER STREET  Fred Best  Various  BBC    THE DUCHESS OF MALFI  Ferdinand  Dominic Dromgoole    THE SMOKE  Dom  Mike Barker  Kudos / Sky1    PEAKY BLINDERS  Roberts  Tom Harper & Otto Bathurst  Tiger Aspect    THE BORGIAS  The French Ambassador  Various  Showtime    HENRY IV PARTS 1 AND 2  Edward Poins  Richard Eyre  BBC    DANCING ON THE EDGE  Detective Inspector Horton  Stephen Poliakoff  BBC    PARADE'S END  Aranjuez  Susanna White  BBC & HBO    THE HOLLOW CROWN  Poins  Richard Eyre  BBC    THE MYSTERY OF EDWIN DROOD  Bazzard  Diarmuid Lawrence  BBC    LUTHER  Toby Kent  Sam Miller  BBC    ROAD TO CORONATION STREET  Tony Warren  Charles Sturridge  BBC    GRACIE  Harry Parr Davies  Brian Percival  BBC    THE THICK OF IT  Affers  Armando Ianucci  BBC    SECRET DIARY OF A CALL GIRL  Byron  Owen Harris & China Moo-Young  Tiger Aspect for ITV    DAMAGE  Tom Byrne  Aisling Walsh  Subotica Entertainment    DOC MARTEN  Wallace  Ben Bolt  ITV      Stage  Production Character Director Company    THE DAZZLE  Homer  Simon Evans  Found111    THE DUCHESS OF MALFI  Ferdinand  Dominic Dromgoole  Shakespeare's Globe    THE VORTEX  Nicky Lancaster  Stephen Unwin  Rose Theatre, Kingston    LUISE MILLER  Hofmarschall Von Kalb  Michael Grandage  Donmar Warehouse    COMEDIANS  Gethin Price  Sean Holmes  Lyric Hammersmith    POSH  Hugo Fraser-Tyrwhitt  Lindsey Turner  Royal Court    ROMEO AND JULIET  Romeo  Neil Bartlett  RSC    THE ENTERTAINER  Frank Rice  Sean Holmes  The Old Vic    NICHOLAS NICKLEBY  Smike  Jonathan Church/Philip Franks  Chichester Fest Theatre / West End / UK tour / Toronto    THE LONG, THE SHORT, & THE TALL  Whittaker  Josie Rourke  Sheffield Crucible    RICHARD II  The Groom and understudy to Richard  Trevor Nunn  Old Vic    THE BOY IN BED  The Boy in the Bed  Samantha Newton  Tower Theatre, London    CALIGARI  Alan  Jen Heyes  Unity Theatre, Liverpool    THERESE RAQUIN  Monsieur Grivet  Jen Heyes  National Tour      Radio  Production Character Director Company    THE CHURCHILL BARRIERS  George Hedges  David Hunter  BBC Radio 4    TO MAKE THE PLOUGH GO BEFORE THE HORSE  Esme  BBC Radio 4                          United Agents  12-26 Lexington Street  London  W1F 0LE    Tel:  +44 (0) 20 3214 0800  Fax:  +44 (0) 20 3214 0802  info@unitedagents.co.uk        United Agents LLP is a Limited Liability Partnership registered in England and Wales under the Limited Liability Partnerships Act 2000 under number OC377899        \"),\n",
       " ('http://web.archive.org/web/20100918125850/http://www.mirror.co.uk/tv-entertainment/tv/todays-tv/2010/09/16/the-road-to-coronation-street-bbc4-9pm-115875-22563638/',\n",
       "  \"           Fantasy Football (YTM )  Predictor  Shopping  Bingo  Cashback  Scratchcards  Dating  MirrorGoGreen  Tickets  Comps  Fashion                London   Min:8°C  Max:16°C                       mirror.co.uk                  Search Mirror.co.uk     Site Map   Tags   RSS           Home      News     Top Stories    Video    Weird World    Latest    Pictures    Technology    City    Health News    Politics    P & S Investigate    Topics    Mobile       Sport     Football    Fantasy Football    Football Spy    Columnists    Racing    Motorsport    Cricket    Boxing    Basketball    MMA Blog    Rugby League    Rugby Union    Golf    Fourth Down Blog    Cycling Blog    Topics    Top 10s    Mirror Tickets    Mobile    Video       Celebs     3am    Celebs News    X Factor    Video    Pictures    Celebs On Sunday    Latest    Topics    Mobile    Mirror Tickets       TV & Entertainment     X Factor    Strictly Come Dancing    Columnists    The Ticket    TV    Soap News    Film News    Film Trailers    Music News    Topics    Mirror Tickets    Mobile       Life & Style     Dating    Horoscopes    Real Life    Tess Daly    Dieting    Sex & Relationships    Fashion    Family    Mirror Photos    Cashback    Reader Offers    Mobility       Advice     Motoring    Cash Queens    Sex Doctor    Homes    Dr Miriam    Gardening    Mirror Investigates    Money    MirrorGoGreen    Mobility    Jobs    TV Deals    Home Entertainment       Travel      Opinion     Kerber & Black cartoons    Blogs    Columnists    Voice of the Mirror       Fun & Games     Scratchcards    Competitions    Crosswords    Fantasy Football    Bingo    Lotto    Scorer    Sudoku    Cartoons    Casino    Video Games/Cheats       Video     News    Sport    Celebs    Film Trailers           TV Show Topics     The X Factor    The Stig    All Topics...             Home  TV & Entertainment  TV  Today's TV               The Road To Coronation Street - BBC4, 9pm       By Jane Simon 16/09/2010       “The Manchester accent doesn’t exactly lend itself to television! Nobody in London will know what’s going on.” Back in 1960, that was the Granada boss’s reaction to Tony Warren’s script set in an ordinary northern street.  A world without Corrie now seems utterly unthinkable but throughout this excellent, bustling drama (curiously enough on the BBC), you’re constantly reminded of how Coronation Street – or Florizel Street – as it was then, might so easily have been smothered at birth.  Written by Daran Little – Corrie’s long-time archivist turned scriptwriter (who has now jumped ship and joined EastEnders) this 70-minute drama positively throbs with passion and authenticity.  David Dawson who plays Tony Warren is an unfamiliar face to me but he’s absolutely brilliant in this as he insists his cast be as authentic as the world he’s immortalised on paper.  “They’ll try,” he says of the casting director’s attempt to audition London actors, “but the audience will always sniff out the imposter.”    Advertisement\\n - article continues below »            How ironic then, that next to Warren, the most eye-catching person in this is Jessie Wallace as street siren Pat Phoenix.  You might not recognise the EastEnders star in this with a flesh-coloured complexion as opposed to her normal creosote tones, but from the moment she walks into the audition room she is already Elsie Tanner.  Likewise Lynda Baron as legendary battleaxe Ena Sharples – as played by Violet Carson and Celia Imrie as Doris Speed who played Annie Walker.  “Edna in wardrobe thinks this could run as long as The Archers,” Violet mutters as they wait for their first cue. “Ye Gods, I hope not,” replies Doris.  A triumph on every level.   Win a year's supply of Ben and Jerry's ice cream Cheap sports tickets are now available to the top sporting events in the UK and abroad. \\nFind VfL Wolfsburg v Bayern Munchen , Barclays ATP World Tour Final ,  NBA Europe , The Ashes and UFC 120 at Mirror Tickets.          Print    Send   Share on:    Facebook    Twitter      Others         Search Mirror.co.uk   RSS | Site Map | Tags     Quick Search        Search Local Mole for a comprehensive business directory list                              Print    Send   Share this Article on:    Facebook    Digg    Twitter    Fark       Related Galleries                                                      More galleries     Related Stories      New Tricks - BBC1, 9pm   Sep 17 2010    QI - BBC1, 8.30pm   Sep 17 2010    The Rob Brydon Show - BBC2, 10pm   Sep 17 2010    We love soaps - Emmerdale, Eastenders and Coronation Street   Sep 17 2010    Law & Order: UK - ITV1, 9pm   Sep 16 2010    True Blood - C4, 10pm   Sep 16 2010    Dragons' Den row between Duncan Bannatyne and James Caan may lead to changes   Sep 15 2010       Related Tags      telly ,   the road to coronation street ,   tv      (What's this)     Related Video         BGT stars Flawless enter the house  Sep 8 2010  Watch     More videos                        Ion Film & Slide Scanner  £89.95                  Toy Story 3’s every bit as good as the last two - review        Also out this week        Sci-fi with a Brucie Bonus      More reviews                    Led Zeppelin son Jason Bonham releases debut album with Black Country Communion        George Michael jailed for eight weeks        Gary Barlow and Robbie Williams perform together at Help For Heroes concert      More Music                    Parrot AR Drone: Toy for the boys        Jaybird SB2 headphones: Wireless wonders        Playstation Move: A real rival to Wii      More Video Games                                                                       TV Show Topics     The X Factor   The Stig    All Topics...         Site Map     Advice    Cash Queens    Dr Miriam    Gardening    Home Entertainment    Homes    Jobs    Mirror Investigates    MirrorGoGreen    Mobility    Money    Motoring    Sex Doctor    TV Deals      Celebs    3am    Celebs News    Celebs On Sunday    Latest    Mirror Tickets    Mobile    Pictures    Topics    Video    X Factor      Fun & Games    Bingo    Cartoons    Casino    Competitions    Crosswords    Fantasy Football    Lotto    Scorer    Scratchcards    Sudoku    Video Games/Cheats      Life & Style    Cashback    Dating    Dieting    Family    Fashion    Horoscopes    Mirror Photos    Mobility    Reader Offers    Real Life    Sex & Relationships    Tess Daly      News    City    Health News    Latest    Mobile    P & S Investigate    Pictures    Politics    Technology    Top Stories    Topics    Video    Weird World      Opinion    Blogs    Columnists    Kerber & Black cartoons    Voice of the Mirror      Sport    Basketball    Boxing    Columnists    Cricket    Cycling Blog    Fantasy Football    Football    Football Spy    Fourth Down Blog    Golf    Mirror Tickets    MMA Blog    Mobile    Motorsport    Racing    Rugby League    Rugby Union    Top 10s    Topics    Video      Travel        TV & Entertainment    Columnists    Film News    Film Trailers    Mirror Tickets    Mobile    Music News    Soap News    Strictly Come Dancing    The Ticket    Topics    TV    X Factor      Video    Celebs    Film Trailers    News    Sport           Find a job  Find a home  Find a new home  Find a local business    About Us  Contact Us  Sell Your Story  Cookie Policy  For the record  Privacy Statement  Terms and Conditions    Paper Subscription to The Daily Mirror  Paper Subscription to The Sunday Mirror         \")]"
      ]
     },
     "execution_count": 8,
     "metadata": {},
     "output_type": "execute_result"
    }
   ],
   "source": [
    "articles['28325619']"
   ]
  },
  {
   "cell_type": "code",
   "execution_count": 5,
   "metadata": {},
   "outputs": [
    {
     "name": "stdout",
     "output_type": "stream",
     "text": [
      " Add Widget  AP Top 25 RK TEAM RECORD PTS No rankings available. Complete Rankings » ESPN/USA Today Coaches Poll RK TEAM RECORD PTS 1 Connecticut (30) 30-9 773 2 Butler 27-9 704 3 Kentucky 29-8 676 4 Kansas 35-3 659 5 Ohio State (1) 34-3 630 6 Virginia Commonwealth 28-11 555 7 Duke 32-5 554 8 North Carolina 29-8 532 9 Arizona 30-8 531 10 Florida 29-8 503 11 San Diego State 34-3 479 12 Pittsburgh 28-6 448 13 Brigham Young 32-5 376 14 Notre Dame 27-7 336 15 Wisconsin 25-9 311 16 Texas 28-8 290 17 Purdue 26-8 276 18 Syracuse 27-8 250 19 Florida State 23-11 197 20 Marquette 22-15 159 21 Richmond 29-8 152 22 Louisville 25-10 147 23 Washington 24-11 108 24 Kansas State 23-11 73 25 Utah State 30-4 51 Others receiving votes: Temple 41, West Virginia 34, St. John's 33, Xavier 31, Texas A&M; 31, UCLA 25, Vanderbilt 24, Cincinnati 24, Wichita State 20, George Mason 9, Old Dominion 9, Michigan 9, Gonzaga 7, Georgetown 5, Missouri 2, Illinois 1 Dropped from rankings: St. John's 19, Texas A&M; 20, Vanderbilt 21, Xavier 22, Georgetown 25 Complete Rankings »\n",
      "------\n"
     ]
    }
   ],
   "source": [
    "texts = articles['31194016']\n",
    "text = texts[1][1]\n",
    "parts = text.split(\"   \")\n",
    "max = 0\n",
    "max_text = \"\"\n",
    "for i in range(0,len(parts)):\n",
    "    if len(parts[i]) > max and \"Dear Wayback Supporter\" not in parts[i]:\n",
    "        max = len(parts[i])\n",
    "        max_text = parts[i]\n",
    "print(max_text)               \n",
    "print(\"------\")"
   ]
  },
  {
   "cell_type": "code",
   "execution_count": 129,
   "metadata": {},
   "outputs": [
    {
     "name": "stdout",
     "output_type": "stream",
     "text": [
      "3\n",
      "http://web.archive.org/web/20121014033506/http://articles.latimes.com/1998/apr/20/entertainment/ca-41075\n",
      "http://www.sfgate.com/cgi-bin/article.cgi?f=/c/a/1998/04/20/DD76316.DTL\n",
      "http://web.archive.org/web/20140124085002/http://www.nytimes.com/1998/04/18/arts/television-review-she-s-a-gentile-he-s-a-jew-hmm-sound-familiar.html\n",
      "http://web.archive.org/web/20140124085002/http://www.nytimes.com/1998/04/18/arts/television-review-she-s-a-gentile-he-s-a-jew-hmm-sound-familiar.html\n",
      "  This time Cynthia Geary, who was the daffy but wise child-bride Shelley on ''Northern Exposure,'' is the Christian blonde. Elon Gold, a stand-up comic, is her darkly handsome Jewish husband-to-be. And that's only the beginning of the formulas and stereotypes. Both Lindsay and Mark (Ms. Geary and Mr. Gold) have colorful relatives. Mark takes a sip of Lindsay's father's 75-year-old whisky and spits it out. A herd of Mark's family members barge into the calm Manhattan apartment. The couple find themselves trapped in a stalled elevator. Granted, it is on the anniversary of the first night they slept together, which is something of an update on the old forgotten-anniversary story line. There is one very promising character. Kip (Jayce Bartok, who played the rock star in ''Suburbia''), Lindsay's slightly strange brother, seems to be a variation on the character Christopher Walken played in ''Annie Hall,'' Diane Keaton's very-weirded-out brother, a guy you wouldn't want to have drive you to the airport. But by the second episode, Kip has already undergone a personality change, dressing as a matador and practicing the tango with his father in order to win a woman. He was more fun when he was crying during the duck hunt. 'Kelly Kelly' WB, Monday night at 9 If only Diane Chambers had married Sam Malone! They might have lived happily ever after, the prissy educated woman and the practically illiterate sexist playboy, battling and passionately making up, if only in the minds of ''Cheers'' fans. The creators of ''Kelly Kelly'' had to be thinking the same thing when they cast Shelley Long (a k a Diane) as a brainy English professor and threw her into the arms of a handsome firefighter (Robert Hays). And just in case there was any doubt  about the couple's problematic differences, the writers gave Mr. Hays a firefighter father who announces in the first episode that the son has nothing in common with ''these university types.'' ''Being with her,'' Dad continues, ''is going to be like watching PBS all day long.'' But that's where the similarities in the romance end. Far from being a playboy, Doug Kelly, the firefighter, is a widower with four rowdy children. He doesn't mind Kelly Novak's  pedantry or pretensions, and she doesn't object to his rough edges. Kelly is entirely too happy, in fact. On ''Cheers,'' Diane was miserable because she had to work as a barmaid despite her degrees; Kelly is the chairwoman of the English department. Diane was horrified by the gaps in Sam's knowledge; Doug hasn't revealed any so far. And come to think of it, the only signs of Kelly's academic leanings are a sentence about ''the myth of the popular hero'' and a mention of Romulus and Remus. The only time Ms. Long's characters shows a spark of her comic gift is, oddly enough, in a catfight with an obnoxious mother who is being mean to Doug's youngest. Kelly and Doug became engaged at the end of the sitcom's first episode. Between now and the wedding (when she becomes the repetitively named title character), the producers may want to call the ''Frasier'' writers and ask for tips. YOU'RE THE ONE WB, tomorrow night at 9:30 A Castle Rock Entertainment Production in association with Warner Brothers Television. Julia Newton, executive producer; John Wierick, supervising producer; Tim Kaiser, producer. WITH: Cynthia Geary (Lindsay Metcalf Weitz), Elon Gold (Mark Weitz), Leo Burmester (Bo Metcalf), Jayce Bartok (Kip Metcalf), Julie Dretzin (Robin Eichenbaum-Weitz) and Troy Winbush (Howard Perdue).\n",
      "------3521\n",
      " Sure, they fall head over heels. But how will these two kids ever get along? Not that you expected something cutting-edge. But you'd think that the WB could have found something for Shelley Long and Robert Hays a little fresher than the stale \"Kelly Kelly,\" yet another TV comedy about merging opposites who somehow manage to happily coexist. * This is routine sitcomdom, with Long as the plucky, sage stepmother who manages--in the first two episodes, at least--to overcome all doubts about her ability to bring order to the Kelly household and straighten out macho Doug (Hays) about the roles of women in society. There is some occasional bright dialogue here. When Kelly doubts that she has the stuff for parenthood, Doug assures her, \"You're hurt, you're confused, you're halfway there.\" And indeed, by the end of the premiere, she has won over his surly, resistant 13-year-old \"tomboy\" daughter, Maureen (Ashley Johnson), and next week successfully resolves a conflict between ultimately pliant Doug and the 17-year-old Sean (Will Estes), who is afraid to disclose to his father that he doesn't want to be a firefighter. There are worse sitcoms on the air than this one, but a lot that are better. Meanwhile, as her academic career recedes into the background, Kelly remains hard at work on her PhD in mommiehood. * \"Kelly Kelly\" premieres at 9 tonight on WB (Channel 5). The network has rated it TV-G (suitable for all ages).\n",
      "------1432\n"
     ]
    }
   ],
   "source": [
    "texts = articles['23679766']\n",
    "print(len(texts))\n",
    "max = 0\n",
    "max_text = \"\"\n",
    "max_link = \"\"\n",
    "max_2 = 0\n",
    "max_text_2 = \"\"\n",
    "for elem in texts:\n",
    "    text = elem[1]\n",
    "    print(elem[0])\n",
    "    parts = text.split(\"   \")\n",
    "    for part in parts:\n",
    "        if len(part) > max and \"Dear Wayback Supporter\" not in part:\n",
    "            max_2 = max\n",
    "            max_text_2 = max_text\n",
    "            max = len(part)\n",
    "            max_text = part\n",
    "            max_link = elem[0]\n",
    "print(max_link)\n",
    "print(max_text)               \n",
    "print(\"------\"+str(max))\n",
    "print(max_text_2)               \n",
    "print(\"------\"+str(max_2))\n"
   ]
  },
  {
   "cell_type": "code",
   "execution_count": 156,
   "metadata": {},
   "outputs": [
    {
     "data": {
      "text/plain": [
       "10"
      ]
     },
     "execution_count": 156,
     "metadata": {},
     "output_type": "execute_result"
    }
   ],
   "source": [
    "len(elem)"
   ]
  },
  {
   "cell_type": "code",
   "execution_count": 21,
   "metadata": {},
   "outputs": [
    {
     "name": "stdout",
     "output_type": "stream",
     "text": [
      "37281\n"
     ]
    }
   ],
   "source": [
    "count = 0\n",
    "for key in articles.keys():\n",
    "    texts = articles[key]\n",
    "    if len(texts) > 2:\n",
    "        count+=1\n",
    "print(count)"
   ]
  },
  {
   "cell_type": "code",
   "execution_count": 27,
   "metadata": {},
   "outputs": [
    {
     "name": "stdout",
     "output_type": "stream",
     "text": [
      "1399423\n",
      " ATLANTA (CNNSI.com) -- The San Jose Earthquakes on Tuesday traded young forward Devin Barclay to D.C. United in exchange for the first overall pick in a Feb. 28 supplemental draft and a conditional selection in the 2005 MLS SuperDraft. D.C. also received San Jose's original pick in the supplemental draft. \"Devin is a solid young player with a bright future ahead of him,\" said\n",
      "United Technical Director Dave Kasper.  \"We look forward to having him join\n",
      "the team in pre-season training camp.\" Barclay, 19, appeared in 12 games with San Jose in 2002, starting\n",
      "two. The Maryland native is a member of the Project-40 developmental program and has played for the U.S. under-23 and under-20 national teams. He was also one of only two players to appear in every U-18 game for the U.S. in 2000. \"Devin is a solid young player with a bright future ahead of him,\" said\n",
      "United technical director Dave Kasper.  \"We look forward to having him join\n",
      "the team in preseason training camp.\" The Feb. 28 draft consists of players signed by MLS after\n",
      "January's SuperDraft in Kansas City. \"This trade gives us the opportunity to select the player we want in\n",
      "the Supplemental Draft,\" Earthquakes head coach Frank Yallop said. \"There is\n",
      "going to be some good talent in the draft and now we have more options.\" Barclay has registered three goals and two assists in 35 appearances (14\n",
      "starts) in his two-year MLS career with Tampa Bay and San Jose.  He was originally acquired by Tampa Bay in the\n",
      "second round (14th overall) of the 2001 SuperDraft before being selected 9th\n",
      "overall by the Earthquakes in the MLS Allocation Draft in January 2002.\n",
      "------\n",
      "5792486\n",
      "Tony Martin makes great radio sound easy, reports\n",
      "Michael Lallo, but only with lots of hard work.  TONY MARTIN is a deeply unfashionable man. Pick almost any trend\n",
      "over the past decade and he's sure to have ignored it.\n",
      "Metrosexualiasm? His discount store T-shirts and digital watch are\n",
      "the stuff of Thorpie's nightmares. Reality TV? It exists only to be\n",
      "mocked. Political apathy? Sorry, Martin actually reads, like,\n",
      "newspapers and books and whatever. So what is he doing on\n",
      "commercial radio?  Making the funniest program in the country, that's what. Veering\n",
      "between tightly scripted sketches and off-the-wall banter, Get\n",
      "This on Triple M is a slice of pure comedy gold, albeit hidden\n",
      "in the unusual 11am to 1pm weekday slot.  Yet there are countless reasons - at least on paper - why the\n",
      "show shouldn't work. For a start, it persists with the\n",
      "almost-extinct traditions of satire, sound-effects and sketch\n",
      "comedy. Neither Martin nor co-host Ed Kavalee has a clue about\n",
      "sport. Obscure pop culture references abound but Big\n",
      "Brother serves only as a punchline. In short, it's tailor-made\n",
      "to alienate the NW-reading, ring-tone downloading demographic that\n",
      "is the lifeblood of FM radio. It's unashamedly, almost defiantly,\n",
      "unfashionable. Which, of course, is precisely the appeal for its\n",
      "550,000 listeners - and the fans who've made it one of Australia's\n",
      "most popular podcasts.  For many, Get This also marks the return of one of the\n",
      "industry's greats. Although The D-Generation, The Late\n",
      "Show and Bad Eggs are among Martin's biggest\n",
      "achievements, the Martin/Molloy drive show with Mick Molloy is his\n",
      "most famous. But after the pair quit in 1998, citing exhaustion,\n",
      "Martin discovered he missed doing radio. Still, he turned down\n",
      "several offers over the years to return.  \"It was all to do with chemistry,\" he explains. \"The worst shows\n",
      "are where someone tries to force chemistry by putting two people\n",
      "together who don't know each other. It's only worked once, with\n",
      "( The Shebang's ) Marty and Fifi. But I wouldn't have come\n",
      "back if I hadn't found Ed.\"  The story of how it all came about is now radio folklore: Martin\n",
      "meets Kavalee at the wrap party of Molloy's film BoyTown and later asks him if he can operate a radio panel. Kavalee says\n",
      "yes - a blatant fib - and botches the test show. But Martin likes\n",
      "the boy so he keeps him on and eventually hires (competent) panel\n",
      "operator Richard Marsland. Not everyone is impressed, though.  \"For the first six weeks (after the program started in April\n",
      "last year), a couple of program directors kept saying, 'What is Ed\n",
      "doing here? Why is he part of the show?' \" Martin recalls. \"By the\n",
      "end of the year, they were saying, 'How good is this guy?' \"  Kavalee himself knows how lucky he is. \"When I started, I had no\n",
      "right to be here,\" says the 27-year-old. \"And I still don't in a\n",
      "lot of ways. There are endless comedians with more experience than\n",
      "me. I can't actually describe how good Tony has been to me and\n",
      "Richard.\" (Kavalee is just as grateful to Working Dog for his Thank God You're Here gig. \"Australian TV would be f---ed\n",
      "without those guys,\" he says. \"Take 'em away and what have you got? The Wedge - and then you're f---ed.\")  What's more, he, Martin and Marsland are genuinely good mates,\n",
      "he says. They might not hang out all the time (partly so they don't\n",
      "waste good material off-air), but the close-knit feel on-air is the\n",
      "real thing - and a big factor behind the show's success.  Well, that and sheer exertion. \"All Tony cares about is the\n",
      "show,\" Kavalee says. \"He's made me learn that there's no substitute\n",
      "for working your arse off.\"  Marsland agrees. \"He works 16 hours every day. It's incredible.\n",
      "He reads all the papers and tapes all the news programs. Apart from\n",
      "his specialty topics like TV, movies and music, he knows everything\n",
      "about politics. He's basically an encyclopedia.\"  The stacks of papers and magazines in Martin's office partly\n",
      "explain his vast pop-cultural knowledge, but his living room tells\n",
      "the full story. Clearly, it's the nest of a nerd. Hundreds of DVDs\n",
      "consume one tall shelf, and books - mostly about film - fill\n",
      "another. The pay-TV guide sits open on the coffee table. Film\n",
      "posters, mugs and other paraphernalia are dotted about. The ancient\n",
      "VCR has a twin that resides in another room, and both are worked to\n",
      "the brink of labour-law violation, recording everything from news\n",
      "to bizarre New Zealand cop shows.  \"His film knowledge is completely across the board,\" marvels\n",
      "Jane Kennedy, a regular Get This guest who first worked\n",
      "with Martin 20 years ago. \"I mean, he knows the names of the\n",
      "directors of children's movies. He's never, ever wrong about these\n",
      "things. And Ed used to work in a video store, so they're a perfect\n",
      "match.\"  Martin's gift for political satire also puts him ahead of the\n",
      "rest, Kennedy says. \"His observations are not shocking or\n",
      "outrageous - they're just plain funny. It's not aggressive comedy.\n",
      "He's just got a gut instinct for what works, for making people\n",
      "laugh out loud.\"  And thanks to this year's new extended timeslot, more people are\n",
      "laughing more often. Feeling restricted by their former one-hour\n",
      "9am spot, Martin and Kavalee shifted to 11am and offered to do a\n",
      "second hour for no additional pay, gaining 30,000 listeners in the\n",
      "process.  THE practice of featuring a guest \"co-host\" for an hour, usually\n",
      "a comedian or industry friend, has been retained, but now starts at\n",
      "midday, leaving the first hour free. It hasn't gone to waste.  \"Tony lets me do whatever I want,\" says Kavalee, who\n",
      "enthusiastically jumped at the chance to write more sketches.\n",
      "Martin makes a point of leaving the studio when Kavalee practises,\n",
      "to ensure his on-air reaction is fresh.  The extra airtime has also drawn Marsland into the show. \"It was\n",
      "impossible to get Richard to say anything in the first year,\"\n",
      "Kavalee says. \"It was like trying to get blood from a stone. He had\n",
      "things to say but he's so polite and he didn't want to tread on\n",
      "anyone's toes.\"  Martin is less concerned about treading on toes if he needs to.\n",
      "\"The negotiations about money for this show took five minutes. But\n",
      "the negotiations for the amount of production time took three\n",
      "weeks. Last year I'd hear people in Fox (also part of the Austereo\n",
      "network) say, 'Why do they need seven hours of production for a\n",
      "one-hour show?' Listen to the show - there's your answer.\"  It's not just the sketches that chew up the station's resources\n",
      "- Martin also spends a few hours each day with the production\n",
      "manager, carefully crafting two-hour programs into 40-minute\n",
      "podcasts. It would be much easier to simply upload the show in its\n",
      "entirety as other programs do, but the easy way is not the Martin\n",
      "way.  \"We try to structure it like a show,\" he says. \"We take bits\n",
      "out, bring together sketches from different shows with the same\n",
      "theme and change the order. I try to make each podcast sound like a\n",
      "comedy album.\"  It's this same perfectionist streak that saw him write the text\n",
      "- every last word - for the show's website. And it's the reason for\n",
      "his stony silence during ad breaks when guests are in the\n",
      "studio.  \"It does unnerve some of them,\" he says. \"But it makes for a\n",
      "much better segment.\"  \"Tony is not the sort of person who just looks at the big\n",
      "picture,\" says producer Nikki Hamilton. \"He's involved in every\n",
      "element of the show. He even checks the website for spelling\n",
      "mistakes. His attention to detail is amazing.\"  But if Martin expects a lot from the station, he demands even\n",
      "more of himself.  \"F---!\" he says, pacing the studio during an ad break as he\n",
      "agonises over the sketch that's just aired. \"I should have said\n",
      "your cheese and bacon balls, not his cheese and bacon balls.\" .  He mutters the line again, this time with the superior\n",
      "possessive pronoun. It probably doesn't make much difference, and\n",
      "it's too late anyway, but for someone who might devote an entire\n",
      "weekend to a two-minute sketch, it matters. \"I'm always on the\n",
      "verge of burn-out,\" he says. \"With everything I do, I have to do it\n",
      "full-on or not at all.\"  What's prevented him from repeating his Martin/Molloy-induced\n",
      "exhaustion, however, is the \"conversational\" element of the show,\n",
      "which requires less preparation. But don't expect Get This to become a two-hour gabfest.  \"I won't let it go completely conversational,\" Martin says. \"I\n",
      "remember when I wanted to get into radio, I'd hear people talking\n",
      "on air and I'd be going, Why am I listening to this?  \"I might as well be having an actual conversation with someone.\n",
      "If you're doing a national show, you have to put the effort\n",
      "in.\"  Not that Martin wants anyone to notice the effort. \"There's a\n",
      "lot of preparation required to make it sound like you've done no\n",
      "preparation,\" he says.  \"Most of the day is spent on what I call fishing. I might read\n",
      "seven newspapers and watch a few hours of TV and only get one thing\n",
      "out of it, but you have to do it. And everything that happens to\n",
      "you in real life is a potential segment on the show.\"  ALMOST everything, that is. Certainly the colourful bit-players\n",
      "in his life, from landlords to bus drivers, feature heavily. But\n",
      "his immediate family rarely rates a mention, even though \"it's\n",
      "where the gold is\". So why not mine it a la Judith Lucy?  \"Judith is my big inspiration in that regard,\" Martin says. \"But\n",
      "- and this is going to sound really nasty, and I don't mean it that\n",
      "way - most of the people she's talking about are dead. All my\n",
      "family are still alive. I'd end up on A Current Affair if\n",
      "I did that.\"  Still, with a second book in the works, fans might be treated to\n",
      "a little more of his New Zealand childhood (the legacy of which was\n",
      "a commercially unattractive accent remedied only by watching\n",
      "Neighbours). Not that his adulthood is without its treasures -\n",
      "there's the Las Vegas wedding, for one.  \"We weren't so tacky as to go to a chapel with a drive-through\n",
      "window,\" he says of his union to Annie Maver, whom he met on the\n",
      "set of The Late Show . \"Although Elvis did contribute\n",
      "something to our wedding. We just laughed from start to\n",
      "finish.\"  All up, there's plenty more material. Martin has no plans to\n",
      "move on from Get This just yet, but admits the decision to do so\n",
      "might not be his.  \"It sort of depends on what Ed wants to do,\" he says. \"He's an\n",
      "actor, and I don't want to bugger up his career. I've said to him\n",
      "that if he's offered the lead in Australia's version of The\n",
      "Sopranos, he has to take it. Ed's the key to this show, so my\n",
      "future is really in his hands. Which is quite a terrifying\n",
      "prospect, actually.\"  Get This airs 11am to 1pm weekdays on Triple M.\n",
      "------\n",
      "37342511\n",
      " Committed recruits are not available. Other Schools: Select One Air Force  Akron  Alabama  Alabama A&M;  Alabama State  Albany  Alcorn State  American University  Appalachian State  Arizona  Arizona State  Arkansas  Arkansas State  Arkansas-Little Rock  Arkansas-Pine Bluff  Army  Auburn  Austin Peay  Ball State  Baylor  Belmont  Bethune-Cookman  Binghamton  Birmingham Southern  Boise State  Boston College  Boston University  Bowling Green  Bradley  Brigham Young  Brown  Bryant University  Bucknell  Buffalo  Butler  Cal Poly  Cal State Bakersfield  Cal State Fullerton  Cal State Northridge  California  Campbell  Canisius  Centenary  Central Arkansas  Central Connecticut State  Central Michigan  Charleston  Charleston Southern  Charlotte  Chattanooga  Chicago State  Cincinnati  Citadel  Clemson  Cleveland State  Coastal Carolina  Colgate  Colorado  Colorado State  Columbia  Connecticut  Coppin State  Cornell  Creighton  Dartmouth  Davidson  Dayton  Delaware  Delaware State  Denver  DePaul  Detroit  Drake  Drexel  Duke  Duquesne  East Carolina  East Tennessee State  Eastern Illinois  Eastern Kentucky  Eastern Michigan  Eastern Washington  Elon  Evansville  Fairfield  Fairleigh Dickinson  FIU  Florida  Florida A&M;  Florida Atlantic  Florida Gulf Coast  Florida State  Fordham  Fresno State  Furman  Gardner-Webb  George Mason  George Washington  Georgetown  Georgia  Georgia Southern  Georgia State  Georgia Tech  Gonzaga  Grambling State  Green Bay  Hampton  Hartford  Harvard  Hawaii  High Point  Hofstra  Holy Cross  Houston  Houston Baptist  Howard  Idaho  Idaho State  Illinois  Illinois State  Illinois-Chicago  Indiana  Indiana State  Iona  Iowa  Iowa State  IPFW  IUPUI  Jackson State  Jacksonville  Jacksonville State  James Madison  Kansas  Kansas State  Kennesaw State  Kent State  Kentucky  La Salle  Lafayette  Lamar  Lehigh  Liberty  Lipscomb  Long Beach State  Long Island  Longwood  Louisiana Tech  Louisiana-Lafayette  Louisiana-Monroe  Louisville  Loyola (IL)  Loyola (MD)  Loyola Marymount  LSU  Maine  Manhattan  Marist  Marquette  Marshall  Maryland  Maryland-Eastern Shore  Massachusetts  McNeese State  Memphis  Mercer  Miami (FL)  Miami (OH)  Michigan  Michigan State  Middle Tennessee  Milwaukee  Minnesota  Mississippi  Mississippi State  Mississippi Valley State  Missouri  Missouri State  Monmouth  Montana  Montana State  Morehead State  Morgan State  Mount St. Mary's  Murray State  N.J.I.T.  Navy  Nebraska  Nevada  New Hampshire  New Mexico  New Mexico State  New Orleans  Niagara  Nicholls State  Norfolk State  North Carolina  North Carolina A&T;  North Carolina Central  North Carolina State  North Carolina-Asheville  North Carolina-Wilmington  North Dakota  North Dakota State  North Florida  North Texas  Northeastern  Northern Arizona  Northern Colorado  Northern Illinois  Northern Iowa  Northwestern  Northwestern State  Notre Dame  Oakland  Ohio  Ohio State  Oklahoma  Oklahoma State  Old Dominion  Oral Roberts  Oregon  Oregon State  Pacific  Penn State  Pennsylvania  Pepperdine  Pittsburgh  Portland  Portland State  Prairie View A&M;  Presbyterian  Princeton  Providence  Purdue  Quinnipiac  Radford  Rhode Island  Rice  Richmond  Rider  Robert Morris  Rutgers  Sacramento State  Sacred Heart  Saint Joseph's  Saint Louis  Saint Mary's  Sam Houston State  Samford  San Diego  San Diego State  San Francisco  San Jose State  Santa Clara  Savannah State  Seattle  Seton Hall  Siena  SIU-Edwardsville  South Alabama  South Carolina  South Carolina State  South Dakota  South Dakota State  South Florida  Southeast Missouri State  Southeastern Louisiana  Southern Illinois  Southern Methodist  Southern Miss  Southern University  Southern Utah  St. Bonaventure  St. Francis (NY)  St. Francis (PA)  St. John's  St. Peter's  Stanford  Stephen F. Austin  Stetson  Stony Brook  Syracuse  TCU  Temple  Tennessee  Tennessee State  Tennessee Tech  Tennessee-Martin  Texas  Texas A&M;  Texas A&M-CC;  Texas Southern  Texas State  Texas Tech  Texas-Arlington  Texas-Pan American  Texas-San Antonio  Toledo  Towson  Troy  Tulane  Tulsa  UAB  UC Davis  UC Irvine  UC Riverside  UC Santa Barbara  UCF  UCLA  UMBC  UMKC  UNC Greensboro  UNLV  USC  USC Upstate  Utah  Utah State  Utah Valley  UTEP  Valparaiso  Vanderbilt  Vermont  Villanova  Virginia  Virginia Commonwealth  Virginia Military  Virginia Tech  Wagner  Wake Forest  Washington  Washington State  Weber State  West Virginia  Western Carolina  Western Illinois  Western Kentucky  Western Michigan  Wichita State  William & Mary  Winston-Salem  Winthrop  Wisconsin  Wofford  Wright State  Wyoming  Xavier  Yale  Youngstown State\n",
      "------\n",
      "34142355\n",
      " CBN.com  Connie Smith was born to sing on August 14, 1941 in Elkhart, Indiana.  Although originally from Indiana, she spent her early years around Hinton, West Virginia, and then grew up in southern Ohio.  Following her high school graduation, she began singing locally at area frolics and on area television shows.  It was at the country music park, Frontier Ranch, near Columbus, Ohio where Connie met Grand Ole Opry Star Bill Anderson.  Anderson heard her perform and was impressed with her singing.  Six months later Anderson invited her to Nashville to be a guest on the Ernest Tubb Midnite Jamboree.  Within a year following her first visit to Music City, Connie was signed to RCA Victor Records by Chet Atkins and released the first recording of her career.  The song, Once A Day, topped the charts at number one where it stayed for an unprecedented eight weeks.  Smith’s recording of Once A Day became the first debut single in country music history by a female artist to reach number one, a record that Smith maintained for the next 25 years.  Her self-titled LP also reached number one, and served as the first of over 50 albums Smith has recorded to date.  Along with her string of hit singles and albums, she became a solid box office contender  and appeared in a series of what are now regarded as country cult classic films.  Connie appeared in Las Vegas Hillbillies, Second Fiddle to a Steel Guitar, Hell On Wheels, and co-starred with Marty Robbins and Doodles Weaver in The Road to Nashville.  The wake of Connie’s success carried her onto the stage of WSM’s Grand Ole Opry as a featured guest performer. Her first 22 performances resulted in 22 encores.  On August 21, 1965 Connie Smith was welcomed as a member of the Grand Ole Opry family.  The king of country music, Roy Acuff gave her the title of “The Sweetheart of the Grand Ole Opry.”  In a matter of four years Connie Smith evolved from a local housewife to one of the top artists in country music.  She was referred to by fans and critics alike as “Country Music’s Cinderella.”  However, in the midst of one of Nashville’s most notable ascents, Smith was by her own design a reluctant star.  Her main priority was her family.  Among the many changes over the past four years, a major change in Connie Smiths life occurred in the spring of 1968; she became a born again Christian.  Her life as a new child of God and some of her musical and personal decisions during this period are more often than not, the point in Smith’s story where the facts go askew.  The most common myth being that when she became a Christian, she began a ministry, and quit singing country music to be a gospel singer.  Smith states, “Becoming a Christian changed my life and gave me new life.  It added depth to me and my music as well, whether I sing a country song or a sacred song.  However, I have never thought of myself as anything but a country singer.  “By this time in my life I had my five children and there simply wasn’t enough of me to go around.  I had my family, my faith and my music.  Something had to give and I had a choice to make.  Giving up the first two wasn’t an option.  At the time, I had a house full of babies and like most young mothers I didn’t realize the situation was temporary.  I made a decision to stop recording and touring.  The majority of my performances were limited to the Grand Ole Opry.  I knew that decision would affect my career and not in a positive way.  But I’ve always been at perfect peace with that decision.  However, when my youngest of five started kindergarten I realized that it was those same babies who were now growing up and needed to be clothed, fed and put through school.  That was the deciding factor for me to start touring again.  After all of the kids were grown and the last one moved away from home, I then felt I was free to pursue my love for music, recording and songwriting which is something I’d seldom had time for.”  As the ninth decade of the twentieth century rolled on, so did Connie Smith.  After a chance encounter with fellow country star, Marty Stuart, she asked him if he’d be interested in working with her.  They co-wrote most of the 1996 self titled Warner Brothers project which Stuart co-produced.  Their working relationship became an unexpected romance and today, they have been married for more than a decade.  They continue to collaborate as artists and songwriters.  Smith and Stuart have now written more than 40 songs together.  Two of particular note are “Farmer’s Blues” and “Hearts Like Ours.”  “Farmers’ Blues” is the song that Stuart recorded with Merle Haggard.  It was included in Stuart’s duets projects entitled Compadres.  “Hearts Like Ours,” one of their rare duets is also featured on the same project.  In 2000, Smith re-assembled an archetypal country band using the template of her original Sundowners from the 1960s.  The newly minted combo is regarded as one of the last remaining authentic country bands in existence.  In an era of country music whose point of reference is more the Rolling Stones than George Jones, The Sundowners are a defiant hillbilly force that stand as a monument to classic country music.  They back Smith with a fiery wall of steel guitar-drenched twang that’s cooled by an endless stream of telecaster teardrops.  In 2002, Smith was voted in at No. 9 on CMT’s Greatest Women of Country Music.  Connie Smith’s favorite male country singer, George Jones, returns the compliment by naming her as his favorite female country singer of all time.  Dolly Parton has also credited Smith by once saying, “There’s only three real female singers; Barbara Streisand, Linda Ronstadt and Connie Smith.  The rest of us are only pretending.”  In 2003, Smith joined forces with Opry sister Sharon White Skaggs and fellow country star Barbara Fairchild.  The trio released a Gospel album titled Love Never Fails.  The project was produced by bluegrass icon Ricky Skaggs and was nominated for a Dove Award by the Gospel Music Association.  Fans of Connie Smith will soon have new projects from her to listen to.  She and Stuart have been writing and gathering songs and as Stuart puts it, “We are well on our journey back into the recording studio to begin work on one of the three projects that we have in mind to do.  The first is a traditional country collection; in wings are a gospel set and an acoustic offering.”  Connie and her band, The Sundowners, still maintain a regular concert schedule as well as  appearances on the Grand Ole Opry.  She can also be seen as a regular on Stuart’s new, weekly television series, The Marty Stuart Show , that airs on Saturday nights on the RFD network.\n",
      "------\n",
      "13755296\n",
      " On a muggy August afternoon in Baltimore, trash scuttled down Guilford Avenue, the breeze smelling like rain and asphalt. It was the last week of shooting for the fifth and final season of the HBO drama “The Wire,” and the crew was filming a scene in front of a boarded-up elementary school. Cast members had been joined by forty or so day players—mostly kids from the neighborhood. Earlier, the episode’s director, Clark Johnson, had been giving some of the kids the chance to say “Cut!,” and they’d bellowed it like drunks at a surprise party. Now, when Johnson yelled “Cut,” the kids swarmed around a video monitor to look at themselves in the last shot, pointing and laughing. “He just said it was good,” one kid complained. “Why we gotta do it again?” Johnson, who was wearing what he called his “lucky cowboy hat,” stepped away to talk to one of the professional actors. Another man—a bald white guy, unprepossessing in jeans and a T-shirt—remained by the monitor, and he answered the kids: “Hey. He’s the director . You don’t believe him? He kinda, sorta knows what he’s doin’.” The bald guy was David Simon, the show’s creator: a former Baltimore Sun reporter who figured that he’d spend his life at a newspaper, a print journalist who has forged an improbable career in television without ever leaving Baltimore. The kids listened politely to Simon and ran back to their places. Each season of “The Wire” has focussed, with sociological precision, on a different facet of Baltimore. The previous season featured a story line about the city’s anarchic schools, told partly through the character of Roland (Prez) Pryzbylewski, a young cop turned schoolteacher. Simon recalled, “On the first day, the kids were all cutting up and yelling. It was like the first day of school. You know how they kicked the shit out of Pryzbylewski emotionally on the show? The kids were doing the same to the assistant directors. One poor A.D. was, like, ‘Please! This is too fuckin’ meta.’ By the end of the year, we had a good crew of young actors, but in the beginning it was, as we say in Baltimore, like herding pigeons.” While Simon was telling this story, Jermaine Crawford, a fourteen-year-old who joined the cast last season, came over to hug him. The scene being filmed would mark the final appearance of Crawford, whose character, Dukie, comes from a family in which all the adults are addicted to drugs or alcohol.  Much of the new season, which will begin airing in January, will take place at a downsizing newspaper called the Baltimore Sun . Johnson, back at the monitor, began teasing Simon for giving so many of his old Sun colleagues small parts on the show. Among the dozens of people who have recurrent parts or cameos are Simon’s former editor, Rebecca Corbett, now an editor at the Times; the former Sun political reporter Bill Zorzi, now a writer for “The Wire”; Steve Luxenberg, the editor who first hired Simon as a reporter at the Sun; and Simon’s wife, Laura Lippman, a crime novelist who used to be a Sun reporter.  “It was like a frat house the other day, with all your newspaper pals around here,” Johnson told Simon. “What, you think somebody in Iowa’s gonna be watching and go, ‘Look, honey, it’s Bill Zorzi!’?” Warming to his riff, he added, “You ever try playing off these people who’ve never acted before? Somebody yells ‘Action,’ and they stand here like this”—he made a blank fish face.  Johnson is an actor as well as a director. He played a detective on “Homicide,” the NBC cop series based on Simon’s 1991 book by the same name, about murder in Baltimore, and in the new season of “The Wire” he plays Gus Haynes, a city editor who tries to hold the line against dwindling coverage, buyouts, and pseudo-news. In the season opener, Haynes provides a bitingly funny introduction to newsroom culture. He complains about a photographer who invariably gooses the poignancy of fire scenes by positioning a charred doll somewhere amid the debris. (“I can see that cheatin’ motherfucker now, with his fucking harem of dolls, pouring lighter fluid on each one,” Haynes fumes.) And he patiently explains to a junior reporter one of those house rules which arbiters of newspaper style cling to with fierce persnicketiness: a building can be “evacuated,” he instructs, but you cannot evacuate people. “To evacuate a person is to give that person an enema,” one of the old-timers chimes in. “At the Baltimore Sun , God still resides in the details.”  The Sun allowed its name to be used on “The Wire,” but stipulated that no current employees could appear in it; the newspaper’s offices have been re-created on the show’s hulking soundstage outside the city. This arrangement suited Simon fine—he bitterly accepted a buyout offer from the paper in 1995, feeling that it was squandering talent under new management. “The Wire,” Simon often says, is a show about how contemporary American society—and, particularly, “raw, unencumbered capitalism”—devalues human beings. He told me, “Every single moment on the planet, from here on out, human beings are worth less. We are in a post-industrial age. We don’t need as many of us as we once did. So, if the first season was about devaluing the cops who knew their beats and the corner boys slinging drugs, then the second was about devaluing the longshoremen and their labor, the third about people who wanted to make changes in the city, and the fourth was about kids who were being prepared, badly, for an economy that no longer really needs them. And the fifth? It’s about the people who are supposed to be monitoring all this and sounding the alarm—the journalists. The newsroom I worked in had four hundred and fifty people. Now it’s got three hundred. Management says, ‘We have to do more with less.’ That’s the bullshit of bean counters who care only about the bottom line. You do less with less.”\n",
      "------\n",
      "32559071\n",
      "  InterAksypn.com/Justin Gener  Vergel Meneses was feted on Wednesday by the Air 21 Express, where the former PBA Most Valuable Player serves as an assistant coach.  The ceremony happened at halftime of the game between Air 21 and Barangay Ginebra San Miguel. One of the well-wishers for Meneses was his former teammate at Ginebra, Mark Caguioa.  Meneses was Ginebra’s top gun during Caguioa’s rookie season in the PBA. With Meneses starting on the wings, Caguioa played the role of super-sub for Ginebra, earning him the nickname “The Spark.”  “Being a rookie playing with Vergel, I think he’s probably one of the guys who helped me on how to play the game,” Caguioa told InterAksyon.com in an exclusive interview.  “Him, Bal David together with Jun Limpot. They helped me and Jayjay (Helterbrand) throughout my rookie year. I was thankful naging teammate ko si Vergel.”  Meneses started his career for Presto in 1992, before the franchise was acquired by Sta. Lucia the following year.  He then moved to the RFM franchise, where he had his finest years, winning the MVP in 1995. He also played for Ginebra, Air 21, and Red Bull.  From Jawo to Fil-Ams  “Ang pinakamaalala ko sa career ko, yung pagiging competitive ko from the time na naglalaro pa sina Jawo (Robert Jaworski) hanggang sa time na inabot ko na yung mga Fil-Ams,” said Meneses.  “Nakipag-compete ako whoever is ang nakalaban ko. Nung pumasok ako marami nang established stars and gusto ko maging katulad rin nila. Pero hindi ko magagawa yun kung hindi ako makikipag-compete sa kanila.”  Before joining the PBA, Meneses starred at Jose Rizal College, taking the No. 18 jersey from his idol Philip Cezar, another Heavy Bomber alumnus. He credits his former Swift and Red Bull coach Yeng Guiao for challenging him to go up against his idols such as Samboy Lim.  “Sabi sa akin ni Coach Yeng, kung tuwing nakakalaban mo si Samboy parati kang natutulala, walang mangyayari sa career mo,” said Meneses. “Nung sinabi sa akin ni coach Yeng yun, that’s the time na na-fire up ako so everytime na kalaban ko si Samboy nakikipag-compete na ako sa kanya talaga.”  Never backs down  According to Caguioa, that competitive fire was still burning when he was teammates with Meneses.  “He is always challenging you.  Even in practice, he doesn’t back down,” said Caguioa. While Meneses was known for his aerial acrobatics during his early years, it was his basketball mind that really struck a chord with Caguioa.  “He’s a very smart player. Mataas yung IQ niya sa laro. He could do everything,” said Caguioa. “Even though hindi na siya ganoon kataas tumalon when I was playing with him, the way he passes the ball and watching him play was pretty. Para siyang Michael Jordan of the Philippines.”  For Meneses, he wants people to remember him as more than just a series of highlight reels.  “Gusto kong maalala ng mga tao hindi lang sa hangtime moves or in your face dunk or no-look pass,” said Meneses. “Gusto kong maalala ako ng mga tao na kapag crunch time, nasa akin yung bola. Manalo or matalo gusto ko nasa akin ang bola.”\n",
      "------\n",
      "31713176\n",
      "Williams' good record means he can reduce the penalty from a one-match ban to a reprimand with an early plea.  The same applies for Wilson, who was charged with striking Gold Coast defender Nathan Krakouer in Sunday's quarter-final.  Essendon will play St Kilda on Friday night and West Coast will host Collingwood on Saturday in the pre-season semis.  The panel also upheld a striking charge against Port Adelaide defender Alipate Carlile from Friday night's practice match in Alice Springs.  Carlile was booked for striking new Richmond ruckman Tom Derickx, but it was assessed as a level-one offence.  That means the biggest penalty Carlile faces is a reprimand and carryover demerit points.\n",
      "------\n",
      "221788\n",
      "  There were two bullets.  Fired from silencer-equipped revolvers on the morning of Jan. 18, 1984, they struck Malcolm Kerr in the back of the head in the hallway outside his office. The 52-year-old president of the American University of Beirut, who had accepted his dream job 16 months earlier, crumpled to the floor.  A group calling itself the Islamic Holy War, which opposed American presence in Lebanon, claimed responsibility for the assassination, according to the New York Times.  Half a world away, just after midnight, the phone rang in Kerr’s freshman dorm room at the University of Arizona. A family friend relayed the unthinkable news. Kerr hung up, then ran into the streets of Tucson.  “I didn’t know what else to do,” he said.  Separated from family, his world crashing down, Kerr realized there was one thing he could do: Play basketball. So the next day, he practiced. The day after that, he played.  Kerr wept through a moment of silence for his father prior to tipoff against archrival Arizona State. Then he came off the bench and made his first shot. Cheers, tears … bedlam.  He became Tucson’s adopted son that day, but the game that defined his college career came four years later and 100 miles up the road in Tempe.  As Kerr warmed up on the court 30 minutes before tipoff, a small group of Arizona State students positioned themselves nearby and began their barbaric chant:  “P.L.O.!”  “P.L.O.!”  “Where’s your dad?”  Trembling, Kerr dropped the ball and staggered to the Arizona bench. Tears welled in his eyes.  “I will never, ever forget that,” said KNBR host Tom Tolbert, who played with Kerr for two years at Arizona and remains a close friend. “It was the only time I’ve seen him break down.  “I couldn’t believe the words coming out of their mouths. I went to the locker room because if I didn’t, I would have gone into the stands.”  In the blowout victory that followed, Kerr drained six 3-pointers.  In the first half.  ******  The Kerrs arrived in the Middle East in 1919, when Stanley and Elsa — Steve’s grandparents — joined relief efforts in the wake of the Armenian Genocide. They eventually moved to Beirut and joined the faculty at the American University, where Malcolm was born, raised and would meet his future wife.  Ann Zwicker arrived in Beirut in 1954. A student at Occidental College, she crossed the Atlantic in 17 days aboard a Dutch freighter, then settled in for her junior year at the American University. She had four Arab roommates, immersed herself in Ottoman history and, within a month, had met Malcolm.  They were married in Santa Monica in 1956 and began a life together than would crisscross the continents in the name of academia and adventure.  Pacific Palisades became the family’s home base after Malcolm joined UCLA’s political science department, but they returned frequently to the Middle East. (He would become the leading Western authority on Lebanon.)  Kerr was born in the hospital at the American University and spent his toddler years in Beirut before the family returned to Southern California. They packed up again in the early 1970s — Malcolm was on sabbatical — and set their sights on Tunisia and France. Kerr attended kindergarten in Provence.  “The first day I was there, I had to go to the bathroom,” he recalled. “I didn’t know how to ask in French, so I peed my pants.  “I went to the office, and they put me in checkered slacks.”  Not long after, a teacher mentioned to Ann that little “Stephon” was making great progress with his German.  German?  “We thought he was learning French,” Ann said. “So he came home and we asked him to count to 10. Sure enough, it was eins, zwei, drei .”  The family returned to Los Angeles and Kerr’s passion for sports blossomed. He became a ball boy for the UCLA basketball team and attended Dodgers games, often arriving early enough to chase batting practice home runs. One-on-one basketball in the driveway with his brother John, older by four years, usually ended with Kerr losing the game and his cool, unable to channel his hypercompetitiveness.  “Oh, I had a horrible temper,” Kerr said. “If I didn’t get a hit, or missed a shot, I’d throw these huge tantrums. But my dad would never grab me right away. He was patient. He’d wait until I calmed down to talk to me.  “My dad taught me a lot about emotions, controlling my temper and being even-keeled.”  When he wasn’t playing with his four kids, Malcolm Kerr worked. He’d come home and head into his study to read or write. Family dinners often included faculty friends from UCLA or guests from the Middle East.  During a backyard barbecue with Queen Farida of Egypt, Kerr’s older sister, Susan, acted on a dare and asked, “Would you like another meatball, your royal highness?”  The lifestyle helped foster curiosity in the Kerr children.  John has a doctorate in applied economics from Stanford and is a professor at Michigan State.  Susan earned her doctorate in education from Harvard and is a politician in England.  Andrew, the youngest, followed Steve at Arizona, worked for the National Security Council, then got his MBA at the Thunderbird School of Global Management and works in the construction business.  “I joke with Steve that he’s the dumbest one in the family,” said Bruce Fraser, a Warriors player development coach and one of Kerr’s closest friends. “He’s the least educated but the most wealthy.”  Ann, who coordinates the Fulbright scholar program at UCLA, describes it this way: “I have two Ph.D.s, one MBA and one NBA.”  The family returned to the Middle East in 1977, when Malcolm became a visiting professor at the American University in Cairo. Kerr attended junior high school and one year of high school in the ancient city, learning halting Arabic and forging friendships with kids from all over the world.  He wasn’t happy about being removed from the American “basketball track,” as Ann described it, but the experience left a lasting impression.  “You have to learn to fit in when you’re the outsider, and that gives you more understanding when someone else is the outsider,” John Kerr said. “Steve is totally comfortable with what he doesn’t know.”  ******  Kerr, 49, spoke at length about his childhood during a recent interview and credits both parents, working in concert across continents, to provide “everything I needed.” But in personality, Kerr said, he is wired like his father: Reserved but passionate (the father about Lebanon, the son about basketball), thoughtful but possessing a razor wit.  Kerr’s memories remain vivid all these years later, and he rattled them off: There is Malcolm, reading The New Yorker in the stands at Dodger Stadium. There is Malcolm, coming home from the office and making popcorn. There is Malcolm, emerging from his study to shoot baskets in the driveway.  And there is Malcolm, patiently waiting for his enraged son to settle down.  “He set such a good example,” said Kerr, who has three children. “I’ve tried to be the same way with my kids.”  The lessons imparted at home and the experiences gained overseas — “They all got thrown into bathwater and survived,” Ann said — combined to shape Kerr’s worldview, foster a sense of empathy and sharpen his interpersonal skills.  Those same skills would help carry him through a 15-year NBA career — a second-round draft pick, he won five NBA championships with the Chicago Bulls and San Antonio Spurs — and ease his transition to coaching.  “I developed a lot of compassion living in Egypt, seeing the poverty,” he said. “The discussions around the dinner table about world politics and understanding how fortunate we were — all that helped me gain perspective on life.  “That helped with teammates when I was a player and now as a coach.”  Early in his acceptance speech for being named the NBA’s Most Valuable Player, guard Stephen Curry thanked Kerr for not letting the Warriors get complacent and noted, “You’re very humble in the way you’ve approached this season.”  Kerr’s first move spoke volumes: He assembled a first-class coaching staff, with lieutenants (Alvin Gentry and Ron Adams) who were better versed than him in critical aspects of the game.  He never felt threatened by the players’ fondness for former coach Mark Jackson and allowed them to keep several traditions from the Jackson era.  He gained Curry’s trust, inspired disillusioned center Andrew Bogut, managed David Lee’s reduced role and convinced veteran Andre Iguodala, a longtime NBA starter, to come off the bench.  “You’re a huge reason why we’re here today,” Curry said as he turned to Kerr during the MVP acceptance speech. “Thanks very much for being you.”  xxxxxxxxxxxx  * Follow me on Twitter: @WilnerHotline  * My e-book, “Andrew Luck: Inside the Making of a No. 1 Pick,” is available for $2.99 on Amazon for Kindles and for other devices (PCs, iPads and iPhones) with the free Kindle app.  * Download the Bay Area News Group’s new iPad app for more college sports and other news, or check out college sports coverage on MercuryNews.com.\n",
      "------\n",
      "429092\n",
      "THIS week we look at the formative years of the Football League and it was Preston who were dominating the scene.  In the white hot atmosphere of Cardiff's Millennium Stadium, Preston North End came within a whisker of returning to the top flight division of the English football league, a league that they had helped to create back in 1888.  William McGregor, a far-seeing and inspirational director of Aston Villa called a meeting at the Royal Hotel in Manchester on April 17, 1888 to discuss the possibility of forming a league from the interested clubs.  Over their ham and cheese sandwiches, black pudding and pickles all washed down by brown ale, they drew up a plan to play home and away fixtures thus, the Football League was on its way.  Absolutely no one who attended that meeting could possibly have envisaged that they were embarking onto a road that would become the wonderful game that we have today. Certainly no one could have thought for just one moment that it would last so long and that over that long time span to today's game that there would be so few changed to the original rules.  Twelve clubs emerged to start the league, Preston, Accrington, Blackburn Rovers , Everton, Bolton, Burnley, Derby County, Notts County, Stoke, West Bromwich Albion, Wolverhampton Wanderers and Aston Villa.  Note. Not a mention of Manchester United or Liverpool or Arsenal. They would come later.  The first season of the league was a walk-over for Preston as they won the league at a canter. They played 22 matches, won eighteen of them, drew the other four finishing with forty points which was eleven points clear of Aston Villa in second place.  Only once in the season did Preston fail to score and that was against Accrington.  For good measure, Preston went on to complete the double by winning the FA Cup without conceding a goal in the competition.  Preston's route to the final went like this: First round -- Bootle 0, Preston 3; Second round -- Grimsby Town 0, Preston 2; Third round -- Preston 2, Birmingham St George's 0; Semi-final -- Preston 1, West Bromwich 0; Final -- Preston 3, Wolverhampton 0.  Not surprisingly, the League Championship trophy and FA Cup successes quite properly earned Preston the title of \"The Old Invincibles\" something that is still referred to this present day.  Next week, we shall look at the events running up to the first World War in 1914 when so much happened to indicate that the world of football had put so much in the daily lives of men, women and children throughout the country.  Football was dominating the domestic entertainment arena, games were being played in front of large audiences and the names of footballers and their performances were the talk of pubs, homes, school playgrounds across the nation.\n",
      "------\n",
      "1455612\n",
      "“We are Family”  In addition to Kotleba’s “Our Slovakia,” two other new parties crossed the threshold: #Siet (“Network,” yes, with the hashtag) with 5.6 percent and “We Are Family” with 6.6 percent of the vote.  “We Are Family” used many of the typical appeals made by new parties. Its leader, Boris Kollar, mixed anti-politics appeal (including the slogan “I’m not a politician, I do things differently”) with a stress on his wealth (“I’m wealthy so unlike other politicians I don’t need to steal from the state”).  Kollar is a prominent personality and businessman whose celebrity owes something to his colorful private life. He has nine children with eight different women. At first glance that doesn’t appear to fit his party’s name. But in Slovak the phrase “Sme rodina” conjures up a sense that family is what makes you strong, and also a feeling that everyone is in this together.  “#Siet” (hashtag included)  #Siet was widely expected to perform much better. Its leader, Radoslav Prochazka, seemed the most likely person to replace Fico as Slovak prime minister. During the last week of the campaign, however, the party lost momentum and energy. #Siet had been formed nearly two years in advance of the elections, and it no longer felt so new and full of fresh ideas.  Furthermore, #Siet’s success in opinion polls had turned the spotlight on the party’s program — and more to the point, to Prochazka’s personality, which journalists tended to portray negatively.  In contrast, Kollar’s party was founded in the fall and only at the last minute appeared likely to cross the 5 percent threshold. As a laggard, We Are Family didn’t get journalists’ attention. Timing is everything in comedy and, it seems, in politics.  Christian Democrats  Both #Siet and We Are Family took votes from one of the perennials of Slovak parliamentary politics, the Christian Democratic Movement (KDH), which for the first time got less than 5 percent of the vote and dropped out of parliament.  KDH paid the price for not passing the baton to a new generation. Not only had Prochazka been a member of KDH, but the former crown prince of the party, Daniel Lipsic, had left KDH after the 2012 elections. Lipsic joined forces with Igor Matovic’s Ordinary People and Independent Personalities (OLaNO). Together they garnered 11 percent in the elections.  If either Lipsic or Prochazka had stayed in KDH and become leader, the party would probably have stood a better chance of crossing the electoral threshold.  Freedom and Solidarity  Perhaps the most surprising result of election night was the 12.1 percent won by Freedom and Solidarity (SaS). A new entrant in 2010, the party has suffered several defections. Its support had been fluctuating around 5 percent throughout most of the parliament. The endurance and success of the party owes much to party leader Richard Sulik’s prominent Euroscepticism, as well as the party’s pro-market and social liberal views and its effective use of social media.  More detailed research is required, but apparently the fear that SaS would get less than five percent of the vote helped it mobilize support. In fact, both SaS and OLaNO, which also appeared likely to drop below the 5 percent threshold, performed better than expected, while #Siet and Most-HID, which had seemed more comfortably over the threshold, performed worse than expected.  Perhaps anti-Fico voters wanted to use their votes strategically to get as many opposition parties into parliament as possible, diminishing the chances of a Fico government.  The more Slovakia’s parliament changes, the more it stays the same  Despite all the new parties in parliament, Slovakia’s 2016 election does not represent such a great change. The relative balance of support among the various blocs resembles that of 2006.  Slovakia’s experience here is in line with other countries in the region where fluid party politics can mask an underlying stability.\n",
      "------\n",
      "31194016\n",
      " 2010 mlb all-star game  2010 vancouver olympics  2010 world cup  2011 world figure skating championships  2014 olympics  2014 winter olympics  action sports  albert pujols  alexander ovechkin  alexei ponikarovsky  alissa czisny  alpine skiing  andre ethier  andrew bynum  angels  anze kopitar  arizona diamondbacks  auto club speedway  baron davis  baseball  baseball playoffs  basketball  bcs  beach volleyball  ben howland  big west conference  blake griffin  bob miller  bob murray  bobby abreu  bobby ryan  bode miller  boston celtics  bowling  boxing  brandon wood  brayden schenn  breeders cup  brett favre  brickyard 400  cal state fullerton  cam fowler  candace parker  chicago blackhawks  chicago cubs  chicago white sox  chivas usa  chris dufresne  chris foster  chris kaman  christian niccum  cincinnati reds  clippers  college baseball  college basketball  college football  college football recruiting  college softball  college sports  colorado rockies  commonwealth games  connecticut women's basketball  corey perry  cycling  dale earnhardt jr.  dan ellis  dan haren  danica patrick  david beckham  daytona 500  dean lombardi  denny hamlin  derek jeter  diane pucin  dodger stadium  dodgers  donald fehr  donald sterling  drag racing  drew doughty  ducks  dustin brown  dustin penner  dwyane wade  emerson etem  england  eric gordon  espn  espn deportes  evan lysacek  f1  fernando rodney  figure skating  final four  floyd mayweather  formula one  four continents championship  france  frank mccourt  galaxy  garret anderson  gary bettman  gary klein  george parros  glen helen raceway  golf  grahame l. jones  gymnastics  hall of fame  hans tesselaar  heisman trophy  helene elliott  herschel walker  hideki matsui  hisanori takahashi  hockey  honduras  hoopshype.com  horse racing  howie kendrick  ichiro suzuki  ilya kovalchuk  indianapolis 500  indy racing league  indycar series  infineon raceway  jack johnson  jack roush  jake peavy  james stewart  jamie mccourt  jason brown  jean segura  jeff burton  jeff gordon  jered weaver  jerry buss  jerry west  jim fox  jimmie johnson  joe mcknight  joe torre  joel pineiro  joffrey lupul  john force  john wooden  jonas hiller  jonathan bernier  jonathan quick  juan pierre  julia mancuso  kareem abdul-jabbar  kasey kahne  katherine reutter  kathy goodman  kendry morales  kendrys morales  kentucky derby  kevin durant  kevin o'neill  kevin prince  kevin westgarth  kim clijsters  kim yuna  kings  kobe bryant  kyle busch  kyle clifford  lakers  lamar odom  lance armstrong  landon donovan  lane kiffin  le mans  lebron james  lindsey vonn  lisa leslie  long beach grand prix  lorena ochoa  los angeles marathon  los angeles rams  lpga  luc robitaille  magic johnson  major league soccer  manny pacquiao  manny ramirez  marco sturm  maria sharapova  mark hardy  mark heisler  mark medina  mark sanchez  mark teixeira  mark trumbo  masters  matt barkley  matt leinart  media  mexico  michael jordan  michelle kwan  michelle wie  mike butcher  mike dunleavy  mike garrett  mike napoli  mike scioscia  mike trout  milwaukee brewers  mirai nagasu  mlb  mls  mma  motocross  motogp  motor sports  nascar  nationwide series  nba  nba all-star game  nba finals  ncaa  ncaa baseball playoffs  ncaa tournament  nelson mandela  new york yankees  nfl  nhl  nhl draft in los angeles  nhl free agency  nhl playoffs  nhra  nlcs  nolan ryan  norm chow  north korea  o.j. mayo  oakland athletics  olympics  orlando cabrera  oscar de la hoya  pac-10 basketball  pac-10 football  pac-10 tournament  pacific 10 conference  pacquaio vs. margarito  paraguay  paris hilton  pau gasol  pepperdine  pete carroll  peter bourjos  pga tour  phil jackson  phil mickelson  philadelphia phillies  philip hersh  polls  premier league  question of the day  rachael flatt  radio  rafael furcal  rafael nadal  raiders  ralph lawler  randy carlyle  ray emery  recruiting  reggie bush  rich thompson  richard petty  rick neuheisel  roger federer  ron artest  rose bowl  roy halladay  ryan getzlaf  ryan gomes  ryan hunter-reay  ryan smyth  ryder cup  sailing  saku koivu  sam farmer  san diego chargers  san diego padres  san francisco 49ers  san francisco giants  scott kazmir  scott niedermayer  serena williams  shani davis  shaq  short track speedskating  sidney crosby  simon cho  ski jumping  skiing  snow boarding  soccer  softball  south africa  sparks  sports legends revealed  spring training  stanley cup playoffs  strikeforce  super bowl  supercross  surfing  swimming  takashi saito  ted green  ted ligety  teemu selanne  television  tennis  terry murray  texas rangers  the williams sisters  tiger woods  tim floyd  tim leiweke  tim salmon  tina thompson  torii hunter  tour de france  toyota speedway at irwindale  track and field  travis pastrana  trevor bayne  u.s. olympic committee  uci  ucla  ufc  united states  usc  varsity times insider  vernon wells  volleyball  vuvuzela  water polo  wayne gretzky  wayne simmonds  will ferrell  willie mitchell  wimbledon  winter olympics  wnba  women in sports  world baseball classic  world cup  world figure skating championships  world series  wrestling  wwe  x games  zenyatta\n",
      "------\n"
     ]
    }
   ],
   "source": [
    "k = 0\n",
    "for key in articles.keys():\n",
    "    print(key)\n",
    "    texts = articles[key]\n",
    "    max = 0\n",
    "    max_text = \"\"\n",
    "    for elem in texts:\n",
    "        text = elem[1]\n",
    "        #print(text)\n",
    "        parts = text.split(\"   \")\n",
    "        for part in parts:\n",
    "            if len(part) > max and \"Dear Wayback Supporter\" not in part:\n",
    "                max = len(part)\n",
    "                max_text = part\n",
    "    print(max_text)               \n",
    "    print(\"------\")\n",
    "    if k == 10: break\n",
    "    k+=1"
   ]
  },
  {
   "cell_type": "code",
   "execution_count": 21,
   "metadata": {},
   "outputs": [],
   "source": [
    "from collections import Counter\n",
    "from sklearn.feature_extraction.text import CountVectorizer\n",
    "from sklearn.metrics.pairwise import cosine_similarity\n",
    "def get_cosine_sim(*strs): \n",
    "    vectors = [t for t in get_vectors(*strs)]\n",
    "    return cosine_similarity(vectors)\n",
    "    \n",
    "def get_vectors(*strs):\n",
    "    text = [t for t in strs]\n",
    "    vectorizer = CountVectorizer(text)\n",
    "    vectorizer.fit(text)\n",
    "    return vectorizer.transform(text).toarray()"
   ]
  },
  {
   "cell_type": "code",
   "execution_count": 27,
   "metadata": {
    "scrolled": true
   },
   "outputs": [
    {
     "data": {
      "text/plain": [
       "0.45610105247739563"
      ]
     },
     "execution_count": 27,
     "metadata": {},
     "output_type": "execute_result"
    }
   ],
   "source": [
    "s1 = \"Williams good record means he can reduce the penalty from a one-match ban to a reprimand with an early plea.  The same applies for Wilson, who was charged with striking Gold Coast defender Nathan Krakouer in Sunday s quarter-final.  Essendon will play St Kilda on Friday night and West Coast will host Collingwood on Saturday in the pre-season semis.  The panel also upheld a striking charge against Port Adelaide defender Alipate Carlile from Friday night s practice match in Alice Springs.  Carlile was booked for striking new Richmond ruckman Tom Derickx, but it was assessed as a level-one offence.  That means the biggest penalty Carlile faces is a reprimand and carryover demerit points\"\n",
    "s2 = \"Several witnesses to the assault on Kassab said that the rebels attacked from Turkish territory and that the offensive couldn’t have happened without the Turkish government’s consent.  Harout said a senior member of the village received guarantees from the Turks that Kassab was secure and that no Syrian rebel attacks would be permitted from Turkish territory.  Kassab was the quietest place in Syria,” said another resident, 44-year-old Rafi, who works as a construction contractor and farmer. The Turkish army usually did patrols along the border every three hours. But the day before the attack, there were no patrols.  Kassab is in a mountainous area, and the Turkish military has the high ground. Residents say a small contingent of Syrian soldiers was based there, along with Syrian police who manned the border crossings — but the better-armed and -positioned rebels overran them.  The attacks were launched from Turkish territory. I saw them,” Rafi said. For us, Turkey is the same Turkey as before. They are acting the same way they did 100 years ago. We’ve been exiled in 1909, 1915 and now 2014.”  The Turkish government denies allegations that it allowed the Syrian opposition to use its territory or supported the attack on Kassab. A Turkish Foreign Ministry statement said that those circles making allegations that Turkey assisted in the attack were trying to create confrontational propaganda” and to draw an analogy between the developments in the Kesab region and the painful incidents of the past.”  The Turkish government also said that Syrian-Armenians residing in Kassab would be admitted to Turkey and protected, and that representatives of the Armenian community in Turkey had been notified.  Rafi and other Kassab natives say it is one of the last remaining Armenian-inhabited towns that date from the medieval kingdom of Cilicia, which was a semi-autonomous Armenian kingdom along the Mediterranean coast in what is now southern Turkey in the 12th to 14th centuries.  The collective memories of Cilicia, along with the events of the early 20th century, are experiences that unite the large Armenian diaspora. Survivors of the deportations and massacres during World War I built strong Armenian communities that exist to this day in Syria, Egypt, Iraq, Iran and Lebanon; some of the largest Armenian communities outside the Republic of Armenia are in the United States and Russia.\"\n",
    "get_cosine_sim(s1,s2)[0,1]"
   ]
  },
  {
   "cell_type": "code",
   "execution_count": 89,
   "metadata": {},
   "outputs": [
    {
     "name": "stdout",
     "output_type": "stream",
     "text": [
      "15421\n"
     ]
    }
   ],
   "source": [
    "exp_data = dict()\n",
    "k = 0\n",
    "for key in articles.keys():\n",
    "    texts = articles[key]\n",
    "    if len(texts) > 2:\n",
    "        #print(key)\n",
    "        max = 0\n",
    "        max_text = \"\"\n",
    "        max_2 = 0\n",
    "        max_text_2 = \"\"\n",
    "        for elem in texts:\n",
    "            text = elem[1]\n",
    "            #print(text)\n",
    "            parts = text.split(\"   \")\n",
    "            for part in parts:\n",
    "                if len(part) > max and \"Dear Wayback Supporter\" not in part:                    \n",
    "                    max_2 = max\n",
    "                    max_text_2 = max_text\n",
    "                    max = len(part)\n",
    "                    max_text = part\n",
    "\n",
    "        try:\n",
    "            sim = get_cosine_sim(max_text,max_text_2)[0][1]\n",
    "        except:\n",
    "            continue\n",
    "        if sim > 0.7:\n",
    "            exp_data[key] = [max_text,max_text_2]\n",
    "            #print(max_text)               \n",
    "            #print(\"------\")\n",
    "            #print(max_text_2)               \n",
    "            #print(\"#####\"+str(sim))\n",
    "            k+=1\n",
    "        #if k == 10: break\n",
    "print(k)\n",
    "#pickle.dump(res,open(\"article_tabels_exp.pkl\",\"wb\"))"
   ]
  },
  {
   "cell_type": "code",
   "execution_count": 90,
   "metadata": {},
   "outputs": [
    {
     "data": {
      "text/plain": [
       "15421"
      ]
     },
     "execution_count": 90,
     "metadata": {},
     "output_type": "execute_result"
    }
   ],
   "source": [
    "len(exp_data)"
   ]
  },
  {
   "cell_type": "code",
   "execution_count": 58,
   "metadata": {},
   "outputs": [],
   "source": [
    "pickle.dump(res,open(\"article_tabels_exp.pkl\",\"wb\"))"
   ]
  },
  {
   "cell_type": "code",
   "execution_count": 4,
   "metadata": {},
   "outputs": [],
   "source": [
    "exp_data = pickle.load(open(\"article_tabels_exp.pkl\",\"rb\"))"
   ]
  },
  {
   "cell_type": "code",
   "execution_count": 15,
   "metadata": {},
   "outputs": [
    {
     "data": {
      "text/plain": [
       "' Several witnesses to the assault on Kassab said that the rebels attacked from Turkish territory and that the offensive couldn’t have happened without the Turkish government’s consent.  Harout said a senior member of the village received guarantees from the Turks that Kassab was secure and that no Syrian rebel attacks would be permitted from Turkish territory.  “Kassab was the quietest place in Syria,” said another resident, 44-year-old Rafi, who works as a construction contractor and farmer. “The Turkish army usually did patrols along the border every three hours. But the day before the attack, there were no patrols.”  Kassab is in a mountainous area, and the Turkish military has the high ground. Residents say a small contingent of Syrian soldiers was based there, along with Syrian police who manned the border crossings — but the better-armed and -positioned rebels overran them.  “The attacks were launched from Turkish territory. I saw them,” Rafi said. “For us, Turkey is the same Turkey as before. They are acting the same way they did 100 years ago. We’ve been exiled in 1909, 1915 and now 2014.”  The Turkish government denies allegations that it allowed the Syrian opposition to use its territory or supported the attack on Kassab. A Turkish Foreign Ministry statement said that those \"circles\" making allegations that Turkey assisted in the attack were trying to create “confrontational propaganda” and to “draw an analogy between the developments in the Kesab region and the painful incidents of the past.”  The Turkish government also said that Syrian-Armenians residing in Kassab would be admitted to Turkey and protected, and that representatives of the Armenian community in Turkey had been notified.  Rafi and other Kassab natives say it is one of the last remaining Armenian-inhabited towns that date from the medieval kingdom of Cilicia, which was a semi-autonomous Armenian kingdom along the Mediterranean coast in what is now southern Turkey in the 12th to 14th centuries.  The collective memories of Cilicia, along with the events of the early 20th century, are experiences that unite the large Armenian diaspora. Survivors of the deportations and massacres during World War I built strong Armenian communities that exist to this day in Syria, Egypt, Iraq, Iran and Lebanon; some of the largest Armenian communities outside the Republic of Armenia are in the United States and Russia.'"
      ]
     },
     "execution_count": 15,
     "metadata": {},
     "output_type": "execute_result"
    }
   ],
   "source": [
    "exp_data['34487486'][1]"
   ]
  },
  {
   "cell_type": "code",
   "execution_count": 8,
   "metadata": {},
   "outputs": [
    {
     "name": "stdout",
     "output_type": "stream",
     "text": [
      "238038\n"
     ]
    }
   ],
   "source": [
    "max_size = 0\n",
    "max_elem = \"\"\n",
    "for key, value in exp_data.items():\n",
    "#    print(item)\n",
    "    words = value[0].split(\" \") \n",
    "    if len(words) > max_size:\n",
    "        max_size = len(value[0])\n",
    "        max_elem = value[0]\n",
    "print(max_size)\n",
    "#print(max_elem)"
   ]
  },
  {
   "cell_type": "code",
   "execution_count": 20,
   "metadata": {},
   "outputs": [],
   "source": [
    "exp_data.items()"
   ]
  },
  {
   "cell_type": "code",
   "execution_count": 63,
   "metadata": {},
   "outputs": [],
   "source": [
    "keys = list(res.keys())"
   ]
  },
  {
   "cell_type": "code",
   "execution_count": 73,
   "metadata": {},
   "outputs": [
    {
     "data": {
      "text/plain": [
       "['10784',\n",
       " '407686',\n",
       " '3312509',\n",
       " '63577',\n",
       " '13680702',\n",
       " '83115',\n",
       " '37535311',\n",
       " '2635111',\n",
       " '20849289']"
      ]
     },
     "execution_count": 73,
     "metadata": {},
     "output_type": "execute_result"
    }
   ],
   "source": [
    "keys[-10:-1]"
   ]
  },
  {
   "cell_type": "code",
   "execution_count": 5,
   "metadata": {},
   "outputs": [
    {
     "data": {
      "text/plain": [
       "277"
      ]
     },
     "execution_count": 5,
     "metadata": {},
     "output_type": "execute_result"
    }
   ],
   "source": [
    "len(exp_data['407686'][0].split(\" \"))"
   ]
  },
  {
   "cell_type": "code",
   "execution_count": 11,
   "metadata": {},
   "outputs": [],
   "source": [
    "from elasticsearch import Elasticsearch\n",
    "from elasticsearch import helpers\n",
    "es = Elasticsearch()"
   ]
  },
  {
   "cell_type": "code",
   "execution_count": 83,
   "metadata": {},
   "outputs": [
    {
     "data": {
      "text/plain": [
       "(15421, [])"
      ]
     },
     "execution_count": 83,
     "metadata": {},
     "output_type": "execute_result"
    }
   ],
   "source": [
    "\n",
    "def inserting():\n",
    "    for key in res.keys(): \n",
    "        texts = res[key]\n",
    "        yield {\n",
    "                \"_index\": \"articles\",\n",
    "                \"_type\": \"articles\",\n",
    "                \"_source\": {\n",
    "                    \"text\": texts[0],\n",
    "                    \"name\": key\n",
    "                }\n",
    "        }\n",
    "        \n",
    "helpers.bulk(es, inserting())"
   ]
  },
  {
   "cell_type": "code",
   "execution_count": 6,
   "metadata": {},
   "outputs": [
    {
     "ename": "NameError",
     "evalue": "name 'exp_data' is not defined",
     "output_type": "error",
     "traceback": [
      "\u001b[0;31m---------------------------------------------------------------------------\u001b[0m",
      "\u001b[0;31mNameError\u001b[0m                                 Traceback (most recent call last)",
      "\u001b[0;32m<ipython-input-6-c6be85b2acdd>\u001b[0m in \u001b[0;36m<module>\u001b[0;34m\u001b[0m\n\u001b[0;32m----> 1\u001b[0;31m \u001b[0mexp_data\u001b[0m\u001b[0;34m[\u001b[0m\u001b[0;34m'34487486'\u001b[0m\u001b[0;34m]\u001b[0m\u001b[0;34m\u001b[0m\u001b[0m\n\u001b[0m",
      "\u001b[0;31mNameError\u001b[0m: name 'exp_data' is not defined"
     ]
    }
   ],
   "source": [
    "exp_data['34487486']"
   ]
  },
  {
   "cell_type": "code",
   "execution_count": 9,
   "metadata": {},
   "outputs": [
    {
     "name": "stdout",
     "output_type": "stream",
     "text": [
      "785\n"
     ]
    }
   ],
   "source": [
    "count = 0\n",
    "total = 0\n",
    "for key in exp_data.keys():\n",
    "    texts = exp_data[key]\n",
    "    res = es.search(index=\"articles\", body = {\"_source\": [\"name\"],\n",
    "                    \"from\" : 0,\"size\" : 100,\n",
    "                            \"query\": {\n",
    "                        \"more_like_this\" : {\n",
    "                            \"fields\" : [\"text\"],\n",
    "                             \"like\" : \"[\"+texts[1]+\"]\",\n",
    "                             \"min_term_freq\" : 1,\n",
    "                             \"min_doc_freq\":1,\n",
    "                             \"max_query_terms\":50\n",
    "                         }\n",
    "                     }\n",
    "                  })\n",
    "    z = 0\n",
    "    for hit in res['hits']['hits']:\n",
    "        id = hit['_source']['name']\n",
    "        if id == key:\n",
    "            #print(z)\n",
    "            count+=1\n",
    "            break\n",
    "        z+=1\n",
    "    #print(count,key)\n",
    "    total+=1\n",
    "    if total == 1000:\n",
    "        break\n",
    "print(count)"
   ]
  },
  {
   "cell_type": "code",
   "execution_count": 114,
   "metadata": {},
   "outputs": [
    {
     "data": {
      "text/plain": [
       "0.6456131249594709"
      ]
     },
     "execution_count": 114,
     "metadata": {},
     "output_type": "execute_result"
    }
   ],
   "source": [
    "9956/len(exp_data.keys())"
   ]
  },
  {
   "cell_type": "code",
   "execution_count": 87,
   "metadata": {},
   "outputs": [
    {
     "data": {
      "text/plain": [
       "{'_shards': {'failed': 0, 'skipped': 0, 'successful': 3, 'total': 3},\n",
       " 'hits': {'hits': [{'_id': 'lV6Bo2cByQAt18eRCQoY',\n",
       "    '_index': 'articles',\n",
       "    '_score': 94.82516,\n",
       "    '_source': {'name': '407686'},\n",
       "    '_type': 'articles'},\n",
       "   {'_id': 'VV2Ao2cByQAt18eR3NGH',\n",
       "    '_index': 'articles',\n",
       "    '_score': 32.729397,\n",
       "    '_source': {'name': '66207'},\n",
       "    '_type': 'articles'},\n",
       "   {'_id': 'oV6Bo2cByQAt18eRBwYp',\n",
       "    '_index': 'articles',\n",
       "    '_score': 32.29901,\n",
       "    '_source': {'name': '892094'},\n",
       "    '_type': 'articles'},\n",
       "   {'_id': '-12Ao2cByQAt18eR9ejC',\n",
       "    '_index': 'articles',\n",
       "    '_score': 31.306608,\n",
       "    '_source': {'name': '1594732'},\n",
       "    '_type': 'articles'},\n",
       "   {'_id': 'vl2Ao2cByQAt18eR-e4H',\n",
       "    '_index': 'articles',\n",
       "    '_score': 31.17371,\n",
       "    '_source': {'name': '20303'},\n",
       "    '_type': 'articles'},\n",
       "   {'_id': 'tV6Bo2cByQAt18eRCAgj',\n",
       "    '_index': 'articles',\n",
       "    '_score': 31.17371,\n",
       "    '_source': {'name': '35336223'},\n",
       "    '_type': 'articles'},\n",
       "   {'_id': 'vF2Ao2cByQAt18eR4tb-',\n",
       "    '_index': 'articles',\n",
       "    '_score': 30.19738,\n",
       "    '_source': {'name': '353634'},\n",
       "    '_type': 'articles'},\n",
       "   {'_id': 'AF2Ao2cByQAt18eR-e4H',\n",
       "    '_index': 'articles',\n",
       "    '_score': 30.16644,\n",
       "    '_source': {'name': '413900'},\n",
       "    '_type': 'articles'},\n",
       "   {'_id': 'zF2Bo2cByQAt18eRAv12',\n",
       "    '_index': 'articles',\n",
       "    '_score': 30.105455,\n",
       "    '_source': {'name': '9141'},\n",
       "    '_type': 'articles'},\n",
       "   {'_id': 'FF6Bo2cByQAt18eRBAOl',\n",
       "    '_index': 'articles',\n",
       "    '_score': 28.49748,\n",
       "    '_source': {'name': '19672828'},\n",
       "    '_type': 'articles'}],\n",
       "  'max_score': 94.82516,\n",
       "  'total': 95},\n",
       " 'timed_out': False,\n",
       " 'took': 1169}"
      ]
     },
     "execution_count": 87,
     "metadata": {},
     "output_type": "execute_result"
    }
   ],
   "source": [
    "res"
   ]
  },
  {
   "cell_type": "code",
   "execution_count": 95,
   "metadata": {},
   "outputs": [
    {
     "name": "stdout",
     "output_type": "stream",
     "text": [
      "0\n"
     ]
    }
   ],
   "source": [
    "z = 0\n",
    "for hit in res['hits']['hits']:\n",
    "    id = hit['_source']['name']\n",
    "    if id == '407686':\n",
    "        print(z)\n",
    "        break\n",
    "    z+=1"
   ]
  },
  {
   "cell_type": "code",
   "execution_count": 10,
   "metadata": {},
   "outputs": [],
   "source": [
    "import pickle\n",
    "test = pickle.load(open(\"test.pkl\",\"rb\"))"
   ]
  },
  {
   "cell_type": "code",
   "execution_count": 12,
   "metadata": {},
   "outputs": [
    {
     "data": {
      "text/plain": [
       "(5421, [])"
      ]
     },
     "execution_count": 12,
     "metadata": {},
     "output_type": "execute_result"
    }
   ],
   "source": [
    "def inserting():\n",
    "    for key in test.keys(): \n",
    "        texts = test[key]\n",
    "        yield {\n",
    "                \"_index\": \"test\",\n",
    "                \"_type\": \"articles\",\n",
    "                \"_source\": {\n",
    "                    \"text\": texts[0],\n",
    "                    \"name\": key\n",
    "                }\n",
    "        }\n",
    "helpers.bulk(es, inserting())"
   ]
  },
  {
   "cell_type": "code",
   "execution_count": null,
   "metadata": {},
   "outputs": [],
   "source": []
  }
 ],
 "metadata": {
  "kernelspec": {
   "display_name": "Python 3",
   "language": "python",
   "name": "python3"
  },
  "language_info": {
   "codemirror_mode": {
    "name": "ipython",
    "version": 3
   },
   "file_extension": ".py",
   "mimetype": "text/x-python",
   "name": "python",
   "nbconvert_exporter": "python",
   "pygments_lexer": "ipython3",
   "version": "3.7.3"
  }
 },
 "nbformat": 4,
 "nbformat_minor": 2
}
