{
 "cells": [
  {
   "cell_type": "code",
   "execution_count": 1,
   "metadata": {},
   "outputs": [],
   "source": [
    "from tqdm import tqdm\n",
    "import numpy as np\n",
    "import pandas as pd\n",
    "from lxml import html\n",
    "import requests\n",
    "import re\n",
    "import csv"
   ]
  },
  {
   "cell_type": "code",
   "execution_count": 2,
   "metadata": {},
   "outputs": [],
   "source": [
    "articlesLinks = pd.read_csv('articlesDataset/dataArticlesLinks', delimiter=',', header=None)"
   ]
  },
  {
   "cell_type": "code",
   "execution_count": 3,
   "metadata": {},
   "outputs": [],
   "source": [
    "dataArticlesLinks = articlesLinks.iloc[:,:].values"
   ]
  },
  {
   "cell_type": "code",
   "execution_count": 4,
   "metadata": {},
   "outputs": [],
   "source": [
    "def saveFile():\n",
    "    #saving the links on the file\n",
    "    with open('dataArticlesTitle', 'w') as myfile:\n",
    "        \n",
    "        wr = csv.writer(myfile, quoting=csv.QUOTE_ALL)\n",
    "    \n",
    "        for article in tqdm(articlesPgTitle):\n",
    "    \n",
    "            articleID = article[0]\n",
    "    \n",
    "            articleTitle = article[1]\n",
    "    \n",
    "            row = [articleID,articleTitle]\n",
    "        \n",
    "            wr.writerow(row) "
   ]
  },
  {
   "cell_type": "code",
   "execution_count": null,
   "metadata": {},
   "outputs": [],
   "source": [
    "articlesPgTitle = []\n",
    "\n",
    "iteration = 0\n",
    "\n",
    "for articlesLink in tqdm(dataArticlesLinks):\n",
    "    \n",
    "    iteration = iteration + 1\n",
    "    \n",
    "    keyArticle = articlesLink[0]\n",
    "    \n",
    "    link = articlesLink[1]\n",
    "    \n",
    "    if link.find(\"web.archive\") == -1:\n",
    "        \n",
    "        link = \"http://web.archive.org/web/\"+link\n",
    "\n",
    "    #get the page\n",
    "    try:\n",
    "        page = requests.get(link)\n",
    "    \n",
    "        tree = html.fromstring(page.content)\n",
    "    \n",
    "        pageTitle = str(tree.xpath('//title/text()'))\n",
    "    \n",
    "        articlesPgTitle.append([keyArticle,pageTitle])\n",
    "        \n",
    "        if iteration == 1000:\n",
    "            \n",
    "            saveFile()\n",
    "            print(\"salvando\")\n",
    "            \n",
    "            iteration = 0;\n",
    "        \n",
    "    except:\n",
    "        \n",
    "        articlesPgTitle.append([keyArticle,'Page Not Found'])\n",
    "        \n",
    "        continue"
   ]
  },
  {
   "cell_type": "code",
   "execution_count": null,
   "metadata": {},
   "outputs": [],
   "source": [
    "with open('dataArticlesTitle', 'w') as myfile:\n",
    "        \n",
    "    wr = csv.writer(myfile, quoting=csv.QUOTE_ALL)\n",
    "    \n",
    "    for article in tqdm(articlesPgTitle):\n",
    "    \n",
    "        articleID = article[0]\n",
    "    \n",
    "        articleTitle = article[1]\n",
    "    \n",
    "        row = [articleID,articleTitle]\n",
    "        \n",
    "        wr.writerow(row)"
   ]
  },
  {
   "cell_type": "code",
   "execution_count": null,
   "metadata": {},
   "outputs": [],
   "source": []
  },
  {
   "cell_type": "code",
   "execution_count": null,
   "metadata": {},
   "outputs": [],
   "source": []
  },
  {
   "cell_type": "code",
   "execution_count": null,
   "metadata": {},
   "outputs": [],
   "source": []
  },
  {
   "cell_type": "code",
   "execution_count": null,
   "metadata": {},
   "outputs": [],
   "source": []
  }
 ],
 "metadata": {
  "kernelspec": {
   "display_name": "Python 3",
   "language": "python",
   "name": "python3"
  },
  "language_info": {
   "codemirror_mode": {
    "name": "ipython",
    "version": 3
   },
   "file_extension": ".py",
   "mimetype": "text/x-python",
   "name": "python",
   "nbconvert_exporter": "python",
   "pygments_lexer": "ipython3",
   "version": "3.7.3"
  }
 },
 "nbformat": 4,
 "nbformat_minor": 2
}
