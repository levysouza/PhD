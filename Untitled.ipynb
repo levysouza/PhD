{
 "cells": [
  {
   "cell_type": "code",
   "execution_count": 1,
   "metadata": {},
   "outputs": [],
   "source": [
    "import warnings\n",
    "import numpy as np\n",
    "import pandas as pd\n",
    "import gensim as gs\n",
    "from tqdm import tqdm\n",
    "import tensorflow as tf\n",
    "import matplotlib.pyplot as plt\n",
    "from nltk.tokenize import TweetTokenizer\n",
    "tknzr = TweetTokenizer()\n",
    "from sklearn.metrics import accuracy_score\n",
    "warnings.filterwarnings('ignore')"
   ]
  },
  {
   "cell_type": "code",
   "execution_count": 31,
   "metadata": {},
   "outputs": [],
   "source": [
    "read_file = pd.read_csv('dataset/new_train_dataset_1_5', delimiter=',', header=None)\n",
    "train_dataset = read_file.iloc[0:100000,:].values"
   ]
  },
  {
   "cell_type": "code",
   "execution_count": 3,
   "metadata": {},
   "outputs": [],
   "source": [
    "read_file = pd.read_csv('dataset/new_validation_dataset_1_5', delimiter=',', header=None)\n",
    "validation_dataset = read_file.iloc[:,:].values"
   ]
  },
  {
   "cell_type": "code",
   "execution_count": 4,
   "metadata": {},
   "outputs": [],
   "source": [
    "embedding_model = gs.models.FastText.load_fasttext_format('pre_trained_models/cc.en.300.bin')"
   ]
  },
  {
   "cell_type": "code",
   "execution_count": 25,
   "metadata": {},
   "outputs": [],
   "source": [
    "def sequence_padding(X_DIM, value):\n",
    "    \n",
    "    value_padding = np.pad(value, ((0,40 - X_DIM),(0,0)), 'constant')\n",
    "    \n",
    "    return value_padding"
   ]
  },
  {
   "cell_type": "code",
   "execution_count": 32,
   "metadata": {},
   "outputs": [
    {
     "name": "stderr",
     "output_type": "stream",
     "text": [
      "100%|██████████| 100000/100000 [00:34<00:00, 2888.47it/s]\n"
     ]
    }
   ],
   "source": [
    "left_train = []\n",
    "rigth_train = []\n",
    "label = []\n",
    "\n",
    "for articleID, articleTitle, tableID, tableTitle, match in tqdm(train_dataset):\n",
    "    \n",
    "    value1 = list(str(articleTitle))\n",
    "    \n",
    "    if len(value1) < 40:\n",
    "        \n",
    "        embedding1 = embedding_model.wv[value1]\n",
    "        padding_embedding1 = sequence_padding(embedding1.shape[0],embedding1)\n",
    "        left_train.append(padding_embedding1)\n",
    "    \n",
    "    else:\n",
    "        \n",
    "        embedding1 = embedding_model.wv[value1[0:40]]\n",
    "        left_train.append(embedding1)\n",
    "    \n",
    "    \n",
    "    value2 = list(str(tableTitle))\n",
    "    \n",
    "    if len(value2) < 40:\n",
    "        \n",
    "        embedding2 = embedding_model.wv[value2]\n",
    "        padding_embedding2 = sequence_padding(embedding2.shape[0],embedding2)\n",
    "        rigth_train.append(padding_embedding2)\n",
    "    \n",
    "    else:\n",
    "        \n",
    "        embedding2 = embedding_model.wv[value2[0:40]]\n",
    "        rigth_train.append(embedding2)\n",
    "    \n",
    "    \n",
    "    label.append(match)"
   ]
  },
  {
   "cell_type": "code",
   "execution_count": 33,
   "metadata": {},
   "outputs": [],
   "source": [
    "left_train = np.array(left_train)\n",
    "rigth_train = np.array(rigth_train)\n",
    "label_train = np.array(label)"
   ]
  },
  {
   "cell_type": "code",
   "execution_count": 34,
   "metadata": {},
   "outputs": [
    {
     "data": {
      "text/plain": [
       "(100000, 40, 300)"
      ]
     },
     "execution_count": 34,
     "metadata": {},
     "output_type": "execute_result"
    }
   ],
   "source": [
    "left_train.shape"
   ]
  },
  {
   "cell_type": "code",
   "execution_count": 35,
   "metadata": {},
   "outputs": [
    {
     "name": "stderr",
     "output_type": "stream",
     "text": [
      "100%|██████████| 16623/16623 [00:05<00:00, 2897.78it/s]\n"
     ]
    }
   ],
   "source": [
    "left_validation = []\n",
    "rigth_validation = []\n",
    "label_validation = []\n",
    "\n",
    "for articleID, articleTitle, tableID, tableTitle, match in tqdm(validation_dataset):\n",
    "    \n",
    "    value1 = list(str(articleTitle))\n",
    "    \n",
    "    if len(value1) < 40:\n",
    "        \n",
    "        embedding1 = embedding_model.wv[value1]\n",
    "        padding_embedding1 = sequence_padding(embedding1.shape[0],embedding1)\n",
    "        left_validation.append(padding_embedding1)\n",
    "    \n",
    "    else:\n",
    "        \n",
    "        embedding1 = embedding_model.wv[value1[0:40]]\n",
    "        left_validation.append(embedding1)\n",
    "    \n",
    "    \n",
    "    value2 = list(str(tableTitle))\n",
    "    \n",
    "    if len(value2) < 40:\n",
    "        \n",
    "        embedding2 = embedding_model.wv[value2]\n",
    "        padding_embedding2 = sequence_padding(embedding2.shape[0],embedding2)\n",
    "        rigth_validation.append(padding_embedding2)\n",
    "    \n",
    "    else:\n",
    "        \n",
    "        embedding2 = embedding_model.wv[value2[0:40]]\n",
    "        rigth_validation.append(embedding2)\n",
    "    \n",
    "    \n",
    "    label_validation.append(match)"
   ]
  },
  {
   "cell_type": "code",
   "execution_count": 36,
   "metadata": {},
   "outputs": [],
   "source": [
    "left_validation = np.array(left_validation)\n",
    "rigth_validation = np.array(rigth_validation)\n",
    "label_validation = np.array(label_validation)"
   ]
  },
  {
   "cell_type": "code",
   "execution_count": 37,
   "metadata": {},
   "outputs": [
    {
     "data": {
      "text/plain": [
       "(16623, 40, 300)"
      ]
     },
     "execution_count": 37,
     "metadata": {},
     "output_type": "execute_result"
    }
   ],
   "source": [
    "left_validation.shape"
   ]
  },
  {
   "cell_type": "code",
   "execution_count": null,
   "metadata": {},
   "outputs": [],
   "source": []
  },
  {
   "cell_type": "code",
   "execution_count": 38,
   "metadata": {},
   "outputs": [],
   "source": [
    "def coattention_method(query, document):\n",
    "    \n",
    "    transpose_document = tf.transpose(document,perm=[0, 2, 1])\n",
    "    \n",
    "    affinity = tf.matmul(query,transpose_document)\n",
    "    \n",
    "    return affinity"
   ]
  },
  {
   "cell_type": "code",
   "execution_count": 43,
   "metadata": {},
   "outputs": [],
   "source": [
    "def attention_model():\n",
    "    \n",
    "    query = tf.keras.Input(shape=(40,300), dtype='float32')\n",
    "    document = tf.keras.Input(shape=(40,300), dtype='float32')\n",
    "    \n",
    "    encodding_query = tf.keras.layers.LSTM(64, return_sequences=True)(query)\n",
    "    encodding_document = tf.keras.layers.LSTM(64, return_sequences=True)(document)\n",
    "    \n",
    "    co_attention = coattention_method(encodding_query,encodding_document)\n",
    "    #co_attention = coattention_method(query,document)\n",
    "    \n",
    "    #sequence_context = tf.keras.layers.Bidirectional(tf.keras.layers.GRU(128, return_sequences=True))(co_attention)\n",
    "    \n",
    "    #flatten = tf.keras.layers.Flatten()(sequence_context)\n",
    "    flatten = tf.keras.layers.Flatten()(co_attention)\n",
    "    \n",
    "    prediction = tf.keras.layers.Dense(1,activation='sigmoid')(flatten)\n",
    "    \n",
    "    model = tf.keras.Model(inputs=[query,document],outputs=prediction)\n",
    "    \n",
    "    return model"
   ]
  },
  {
   "cell_type": "code",
   "execution_count": 44,
   "metadata": {},
   "outputs": [],
   "source": [
    "model = attention_model()"
   ]
  },
  {
   "cell_type": "code",
   "execution_count": 45,
   "metadata": {},
   "outputs": [],
   "source": [
    "model.compile(loss=\"binary_crossentropy\",optimizer=\"adam\", metrics=['accuracy'])"
   ]
  },
  {
   "cell_type": "code",
   "execution_count": null,
   "metadata": {},
   "outputs": [
    {
     "name": "stdout",
     "output_type": "stream",
     "text": [
      "Train on 100000 samples, validate on 16623 samples\n",
      "Epoch 1/10\n",
      "100000/100000 [==============================] - 62s 619us/sample - loss: 0.2918 - accuracy: 0.8849 - val_loss: 0.2384 - val_accuracy: 0.9104\n",
      "Epoch 2/10\n",
      "100000/100000 [==============================] - 59s 587us/sample - loss: 0.2183 - accuracy: 0.9200 - val_loss: 0.2133 - val_accuracy: 0.9232\n",
      "Epoch 3/10\n",
      "100000/100000 [==============================] - 59s 587us/sample - loss: 0.1889 - accuracy: 0.9314 - val_loss: 0.2061 - val_accuracy: 0.9231\n",
      "Epoch 4/10\n",
      "100000/100000 [==============================] - 59s 589us/sample - loss: 0.1678 - accuracy: 0.9396 - val_loss: 0.2210 - val_accuracy: 0.9143\n",
      "Epoch 5/10\n",
      "100000/100000 [==============================] - 59s 590us/sample - loss: 0.1504 - accuracy: 0.9456 - val_loss: 0.2079 - val_accuracy: 0.9267\n",
      "Epoch 6/10\n",
      "100000/100000 [==============================] - 58s 584us/sample - loss: 0.1336 - accuracy: 0.9523 - val_loss: 0.2221 - val_accuracy: 0.9196\n",
      "Epoch 7/10\n",
      " 68192/100000 [===================>..........] - ETA: 17s - loss: 0.1175 - accuracy: 0.9587"
     ]
    }
   ],
   "source": [
    "history = model.fit([left_train, rigth_train], label_train, \n",
    "          epochs=10, \n",
    "          batch_size=32, \n",
    "          validation_data=([left_validation, rigth_validation], label_validation))\n",
    "          #callbacks=callbacks_list)"
   ]
  },
  {
   "cell_type": "code",
   "execution_count": null,
   "metadata": {},
   "outputs": [],
   "source": [
    "model.save('attention_model_char_embedding.h5')"
   ]
  }
 ],
 "metadata": {
  "kernelspec": {
   "display_name": "Python 3",
   "language": "python",
   "name": "python3"
  },
  "language_info": {
   "codemirror_mode": {
    "name": "ipython",
    "version": 3
   },
   "file_extension": ".py",
   "mimetype": "text/x-python",
   "name": "python",
   "nbconvert_exporter": "python",
   "pygments_lexer": "ipython3",
   "version": "3.7.3"
  }
 },
 "nbformat": 4,
 "nbformat_minor": 2
}
