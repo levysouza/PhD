{
 "cells": [
  {
   "cell_type": "code",
   "execution_count": 4,
   "metadata": {},
   "outputs": [],
   "source": [
    "from tqdm import tqdm\n",
    "import numpy as np\n",
    "import pandas as pd\n",
    "import random\n",
    "from elasticsearch import Elasticsearch\n",
    "from elasticsearch import helpers\n",
    "indexingTables = Elasticsearch()"
   ]
  },
  {
   "cell_type": "code",
   "execution_count": 2,
   "metadata": {},
   "outputs": [],
   "source": [
    "tables = pd.read_csv('articlesDataset/cleanDataTables', delimiter=',', header=None)"
   ]
  },
  {
   "cell_type": "code",
   "execution_count": 3,
   "metadata": {},
   "outputs": [],
   "source": [
    "formattedTables = tables.iloc[:,:].values"
   ]
  },
  {
   "cell_type": "code",
   "execution_count": 5,
   "metadata": {},
   "outputs": [],
   "source": [
    "def createIndexing():\n",
    "    \n",
    "    for tables in tqdm(formattedTables):\n",
    "        \n",
    "        tablePgID = tables[0]\n",
    "        tablePgTitle = str(tables[1])\n",
    "        tableSectionTitle = str(tables[2])\n",
    "        tableCaption = str(tables[3])\n",
    "        tableHeader = str(tables[4])\n",
    "        tableBody = str(tables[5])\n",
    "        \n",
    "        yield {\n",
    "            \"_index\": \"tables\",\n",
    "            \"_type\": \"tables\",\n",
    "            \"_source\": {\n",
    "                \"tablePgID\": tablePgID,\n",
    "                \"tablePgTitle\": tablePgTitle,\n",
    "                \"tableSectionTitle\": tableSectionTitle,\n",
    "                \"tableCaption\": tableCaption,\n",
    "                \"tableHeader\": tableHeader,\n",
    "                \"tableBody\": tableBody\n",
    "            }\n",
    "            \n",
    "        }"
   ]
  },
  {
   "cell_type": "code",
   "execution_count": 6,
   "metadata": {},
   "outputs": [
    {
     "data": {
      "text/plain": [
       "{'acknowledged': True}"
      ]
     },
     "execution_count": 6,
     "metadata": {},
     "output_type": "execute_result"
    }
   ],
   "source": [
    "indexingTables.indices.delete(index='tables')"
   ]
  },
  {
   "cell_type": "code",
   "execution_count": 7,
   "metadata": {},
   "outputs": [
    {
     "name": "stderr",
     "output_type": "stream",
     "text": [
      "100%|██████████| 298793/298793 [01:56<00:00, 2572.95it/s]\n"
     ]
    },
    {
     "data": {
      "text/plain": [
       "(298793, [])"
      ]
     },
     "execution_count": 7,
     "metadata": {},
     "output_type": "execute_result"
    }
   ],
   "source": [
    "helpers.bulk(indexingTables, createIndexing())"
   ]
  }
 ],
 "metadata": {
  "kernelspec": {
   "display_name": "Python 3",
   "language": "python",
   "name": "python3"
  },
  "language_info": {
   "codemirror_mode": {
    "name": "ipython",
    "version": 3
   },
   "file_extension": ".py",
   "mimetype": "text/x-python",
   "name": "python",
   "nbconvert_exporter": "python",
   "pygments_lexer": "ipython3",
   "version": "3.7.3"
  }
 },
 "nbformat": 4,
 "nbformat_minor": 2
}
