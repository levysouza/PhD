{
 "cells": [
  {
   "cell_type": "code",
   "execution_count": null,
   "metadata": {},
   "outputs": [],
   "source": [
    "import warnings\n",
    "import numpy as np\n",
    "import pandas as pd\n",
    "from sklearn.model_selection import train_test_split\n",
    "import gensim as gs\n",
    "from tqdm import tqdm\n",
    "import tensorflow as tf\n",
    "import matplotlib.pyplot as plt\n",
    "from nltk.tokenize import TweetTokenizer\n",
    "tknzr = TweetTokenizer()\n",
    "from sklearn.metrics import accuracy_score, precision_score, recall_score, f1_score\n",
    "warnings.filterwarnings('ignore')\n",
    "import fasttext\n",
    "from hyperopt import Trials, STATUS_OK, tpe\n",
    "from hyperas import optim\n",
    "from hyperas.distributions import choice, uniform"
   ]
  },
  {
   "cell_type": "code",
   "execution_count": null,
   "metadata": {},
   "outputs": [],
   "source": []
  },
  {
   "cell_type": "code",
   "execution_count": null,
   "metadata": {},
   "outputs": [],
   "source": [
    "def sequence_padding(X_DIM, value):\n",
    "    \n",
    "    MAX_PAD = 31\n",
    "    \n",
    "    value_padding = np.pad(value, ((0,MAX_PAD - X_DIM),(0,0)), 'constant')\n",
    "    \n",
    "    return value_padding"
   ]
  },
  {
   "cell_type": "code",
   "execution_count": null,
   "metadata": {},
   "outputs": [],
   "source": [
    "def create_embedding(value,embedding_model,tknzr):\n",
    "    \n",
    "    MAX_PAD = 31\n",
    "    \n",
    "    value = tknzr.tokenize(str(value))\n",
    "    \n",
    "    if len(value) < MAX_PAD:\n",
    "        \n",
    "        embedding = embedding_model.wv[value]\n",
    "        embedding = embedding.astype('float16')\n",
    "        \n",
    "        padding_embedding = sequence_padding(embedding.shape[0],embedding)\n",
    "        \n",
    "        return padding_embedding\n",
    "        \n",
    "    else:\n",
    "        \n",
    "        embedding = embedding_model.wv[value[0:MAX_PAD]]\n",
    "        embedding = embedding.astype('float16')\n",
    "        \n",
    "        return embedding"
   ]
  },
  {
   "cell_type": "code",
   "execution_count": null,
   "metadata": {},
   "outputs": [],
   "source": []
  },
  {
   "cell_type": "code",
   "execution_count": null,
   "metadata": {},
   "outputs": [],
   "source": [
    "def data():\n",
    "    \n",
    "    tknzr = TweetTokenizer()\n",
    "    \n",
    "    embedding_model = gs.models.FastText.load('../train_embedding_models/fasttext_embedding_50d_all_signals')\n",
    "    \n",
    "    train_dataset = pd.read_csv('../train_data/train_data_1_1', delimiter=',')\n",
    "    validation_dataset = pd.read_csv('../train_data/validation_data_1_1', delimiter=',')\n",
    "        \n",
    "    train_article_title = []\n",
    "    train_table_title = []\n",
    "    train_label = []\n",
    "\n",
    "    #train data\n",
    "    for i,row in tqdm(train_dataset.iterrows()):\n",
    "\n",
    "        train_article_title.append(create_embedding(row['article_page_title'],embedding_model,tknzr))\n",
    "        train_table_title.append(create_embedding(row['table_page_title'],embedding_model,tknzr))\n",
    "        train_label.append(row['label'])\n",
    "        \n",
    "    train_article_title = np.array(train_article_title,dtype='float16')\n",
    "    train_table_title = np.array(train_table_title,dtype='float16')\n",
    "    train_label = np.array(train_label)\n",
    "    \n",
    "    #validation data\n",
    "    validation_article_title = []\n",
    "    validation_table_title = []\n",
    "    validation_label = []\n",
    "\n",
    "    for i, row in tqdm(validation_dataset.iterrows()):\n",
    "\n",
    "        validation_article_title.append(create_embedding(row['article_page_title'],embedding_model,tknzr))\n",
    "        validation_table_title.append(create_embedding(row['table_page_title'],embedding_model,tknzr))  \n",
    "        validation_label.append(row['label'])\n",
    "        \n",
    "    validation_article_title = np.array(validation_article_title,dtype='float16')\n",
    "    validation_table_title = np.array(validation_table_title,dtype='float16')\n",
    "    validation_label = np.array(validation_label)\n",
    "    \n",
    "    return train_article_title,train_table_title,train_label,validation_article_title,validation_table_title,validation_label\n",
    "    "
   ]
  },
  {
   "cell_type": "code",
   "execution_count": null,
   "metadata": {},
   "outputs": [],
   "source": []
  },
  {
   "cell_type": "code",
   "execution_count": null,
   "metadata": {},
   "outputs": [],
   "source": []
  },
  {
   "cell_type": "code",
   "execution_count": null,
   "metadata": {},
   "outputs": [],
   "source": [
    "def affinity_method(query, document):\n",
    "    \n",
    "    transpose_document = tf.transpose(document,perm=[0, 2, 1])\n",
    "    \n",
    "    affinity = tf.matmul(query,transpose_document)\n",
    "    \n",
    "    normalize_affinity = tf.nn.softmax(affinity)\n",
    "    \n",
    "    return normalize_affinity"
   ]
  },
  {
   "cell_type": "code",
   "execution_count": null,
   "metadata": {},
   "outputs": [],
   "source": [
    "def attention_model():\n",
    "    \n",
    "    article_title = tf.keras.Input(shape=(31,50), dtype='float32')\n",
    "    table_title = tf.keras.Input(shape=(31,50), dtype='float32')\n",
    "    \n",
    "    univesal_BiGRU = tf.keras.layers.Bidirectional(tf.keras.layers.GRU({{choice([8,16,32,64,128,256,512])}}, return_sequences=True))\n",
    "    \n",
    "    context_titleA = univesal_BiGRU(article_title)\n",
    "    context_titleB = univesal_BiGRU(table_title)\n",
    "    \n",
    "    affinity_titleA_titleB = affinity_method(context_titleA,context_titleB)\n",
    "    context_attention = tf.keras.layers.Bidirectional(tf.keras.layers.GRU({{choice([8,16,32,64,128,256,512])}}, return_sequences=True))(affinity_titleA_titleB)\n",
    "    learned_vectorA = tf.keras.layers.Flatten()(context_attention)\n",
    "    \n",
    "    affinity_embedding_titleA_titleB = affinity_method(article_title,table_title)\n",
    "    context_affinity_embedding = tf.keras.layers.Bidirectional(tf.keras.layers.GRU({{choice([8,16,32,64,128,256,512])}}, return_sequences=True))(affinity_embedding_titleA_titleB)\n",
    "    learned_vectorB = tf.keras.layers.Flatten()(context_affinity_embedding)\n",
    "    \n",
    "    final_representation = tf.keras.layers.Concatenate()([learned_vectorA,learned_vectorB])\n",
    "    \n",
    "    MLP_input = tf.keras.layers.Dense({{choice([8,16,32,64,128,256,512])}}, activation={{choice(['relu', 'sigmoid','linear'])}})(final_representation)\n",
    "    dropout1 = tf.keras.layers.Dropout({{uniform(0, 1)}}, name=\"dropout1\")(MLP_input)\n",
    "    MLP_hidden = tf.keras.layers.Dense({{choice([8,16,32,64,128,256,512])}}, activation={{choice(['relu', 'sigmoid', 'linear'])}})(dropout1)\n",
    "    dropout2 = tf.keras.layers.Dropout({{uniform(0, 1)}}, name=\"dropout2\")(MLP_hidden)\n",
    "    MLP_output = tf.keras.layers.Dense(1,activation='sigmoid')(dropout2)\n",
    "    \n",
    "    model = tf.keras.Model(inputs=[article_title,table_title],outputs=MLP_output)\n",
    "    \n",
    "    model.compile(loss=\"binary_crossentropy\",optimizer={{choice(['rmsprop', 'adam', 'sgd'])}}, metrics=['accuracy'])\n",
    "    \n",
    "    result = model.fit([train_article_title, train_table_title], train_label, \n",
    "          epochs=100, \n",
    "          batch_size={{choice([32, 64, 128])}},\n",
    "          verbose=1,\n",
    "          validation_data=([validation_article_title, validation_table_title], validation_label))\n",
    "    \n",
    "    #get the highest validation accuracy of the training epochs\n",
    "    validation_acc = np.amax(result.history['val_accuracy']) \n",
    "    print('Best validation acc of epoch:', validation_acc)\n",
    "    return {'loss': -validation_acc, 'status': STATUS_OK, 'model': model}"
   ]
  },
  {
   "cell_type": "code",
   "execution_count": null,
   "metadata": {},
   "outputs": [],
   "source": []
  },
  {
   "cell_type": "code",
   "execution_count": null,
   "metadata": {},
   "outputs": [],
   "source": [
    "with tf.device(\"/cpu:0\"):\n",
    "\n",
    "    best_run, best_model = optim.minimize(model=attention_model,\n",
    "                                          data=data,\n",
    "                                          functions=[sequence_padding,create_embedding,affinity_method],\n",
    "                                          algo=tpe.suggest,\n",
    "                                          max_evals=5,\n",
    "                                          verbose=1,\n",
    "                                          trials=Trials(),\n",
    "                                          notebook_name='best_model_attention_parameters_search')"
   ]
  },
  {
   "cell_type": "code",
   "execution_count": null,
   "metadata": {},
   "outputs": [],
   "source": [
    "best_model.save('best_model_affinity_title_grid_search.h5') "
   ]
  },
  {
   "cell_type": "code",
   "execution_count": null,
   "metadata": {},
   "outputs": [],
   "source": [
    "print(best_run)"
   ]
  },
  {
   "cell_type": "code",
   "execution_count": null,
   "metadata": {},
   "outputs": [],
   "source": []
  },
  {
   "cell_type": "code",
   "execution_count": null,
   "metadata": {},
   "outputs": [],
   "source": []
  }
 ],
 "metadata": {
  "kernelspec": {
   "display_name": "Python 3",
   "language": "python",
   "name": "python3"
  },
  "language_info": {
   "codemirror_mode": {
    "name": "ipython",
    "version": 3
   },
   "file_extension": ".py",
   "mimetype": "text/x-python",
   "name": "python",
   "nbconvert_exporter": "python",
   "pygments_lexer": "ipython3",
   "version": "3.7.3"
  }
 },
 "nbformat": 4,
 "nbformat_minor": 2
}
