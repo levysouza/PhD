{
 "cells": [
  {
   "cell_type": "code",
   "execution_count": 1,
   "metadata": {},
   "outputs": [],
   "source": [
    "from tqdm import tqdm\n",
    "import numpy as np\n",
    "import pandas as pd\n",
    "import random\n",
    "import gensim as gs\n",
    "from elasticsearch import Elasticsearch\n",
    "from elasticsearch import helpers\n",
    "from nltk.tokenize import TweetTokenizer\n",
    "tknzr = TweetTokenizer()\n",
    "indexing_distinct_tables = Elasticsearch(timeout=30, max_retries=10, retry_on_timeout=True)\n",
    "import tensorflow as tf\n",
    "import warnings\n",
    "warnings.filterwarnings('ignore')"
   ]
  },
  {
   "cell_type": "code",
   "execution_count": 2,
   "metadata": {},
   "outputs": [
    {
     "data": {
      "text/plain": [
       "'2.0.0-rc0'"
      ]
     },
     "execution_count": 2,
     "metadata": {},
     "output_type": "execute_result"
    }
   ],
   "source": [
    "tf.__version__"
   ]
  },
  {
   "cell_type": "code",
   "execution_count": 3,
   "metadata": {},
   "outputs": [],
   "source": [
    "test_articles = pd.read_csv('../dataset/data_articles_test.csv', delimiter=',')"
   ]
  },
  {
   "cell_type": "code",
   "execution_count": null,
   "metadata": {},
   "outputs": [],
   "source": []
  },
  {
   "cell_type": "code",
   "execution_count": 4,
   "metadata": {},
   "outputs": [],
   "source": [
    "# embedding_model = gs.models.FastText.load_fasttext_format('pre_trained_models/cc.en.300.bin')\n",
    "embedding_model = gs.models.FastText.load('../train_embedding_models/fasttext_embedding_50d_all_signals')"
   ]
  },
  {
   "cell_type": "code",
   "execution_count": 5,
   "metadata": {},
   "outputs": [
    {
     "data": {
      "text/plain": [
       "{'acknowledged': True, 'shards_acknowledged': True}"
      ]
     },
     "execution_count": 5,
     "metadata": {},
     "output_type": "execute_result"
    }
   ],
   "source": [
    "indexing_distinct_tables.indices.close(index='distinct_tables')\n",
    "indexing_distinct_tables.indices.put_settings(index='distinct_tables', body={\"index\": {\"similarity\": {\"default\": {\"type\": \"classic\"}}}})\n",
    "indexing_distinct_tables.indices.open(index='distinct_tables')"
   ]
  },
  {
   "cell_type": "code",
   "execution_count": 6,
   "metadata": {},
   "outputs": [],
   "source": [
    "# \"tablePgID\"\n",
    "# \"tablePgTitle\"\n",
    "# \"tablePgFullText\"\n",
    "# \"tablePgMetaDescription\"\n",
    "# \"tablePgSummary\"\n",
    "# \"tablePgKeywords\"\n",
    "# \"tableSectionTitle\"\n",
    "# \"tableCaption\"\n",
    "# \"tableHeader\"\n",
    "# \"tableBody\""
   ]
  },
  {
   "cell_type": "code",
   "execution_count": 7,
   "metadata": {},
   "outputs": [],
   "source": [
    "def search_indexing(query):\n",
    "    \n",
    "    result= indexing_distinct_tables.search(\n",
    "        index=\"distinct_tables\", \n",
    "        body = {\n",
    "        \"_source\": [\"tablePgID\",\"tablePgTitle\"],\n",
    "        \"from\" : 0,\n",
    "        \"size\" : 100,\n",
    "        \"query\": {\n",
    "            \"multi_match\":{\n",
    "              \"type\": \"most_fields\",\n",
    "              \"query\":    query, \n",
    "              \"fields\": [\"tablePgFullText\"] \n",
    "            }\n",
    "        }\n",
    "    })\n",
    "    \n",
    "    return result"
   ]
  },
  {
   "cell_type": "code",
   "execution_count": 8,
   "metadata": {},
   "outputs": [],
   "source": [
    "def get_accuracy(ID_goal,ranked_tables_ID):\n",
    "    \n",
    "    accuracy = 0\n",
    "    \n",
    "    for table_ID in ranked_tables_ID:\n",
    "        \n",
    "        if table_ID[0] == ID_goal:\n",
    "    \n",
    "            accuracy = 1\n",
    "            break;\n",
    "\n",
    "    return accuracy"
   ]
  },
  {
   "cell_type": "code",
   "execution_count": 9,
   "metadata": {},
   "outputs": [],
   "source": [
    "MAX_PAD = 31\n",
    "\n",
    "def sequence_padding(X_DIM, value):\n",
    "    \n",
    "    value_padding = np.pad(value, ((0,MAX_PAD - X_DIM),(0,0)), 'constant')\n",
    "    \n",
    "    return value_padding"
   ]
  },
  {
   "cell_type": "code",
   "execution_count": 10,
   "metadata": {},
   "outputs": [],
   "source": [
    "def create_embedding(value):\n",
    "\n",
    "    value = tknzr.tokenize(str(value))\n",
    "    \n",
    "    if len(value) < MAX_PAD:\n",
    "        \n",
    "        embedding = embedding_model.wv[value]\n",
    "        \n",
    "        padding_embedding = sequence_padding(embedding.shape[0],embedding)\n",
    "        \n",
    "        return padding_embedding\n",
    "        \n",
    "    else:\n",
    "        \n",
    "        embedding = embedding_model.wv[value[0:MAX_PAD]]\n",
    "        \n",
    "        return embedding"
   ]
  },
  {
   "cell_type": "code",
   "execution_count": 11,
   "metadata": {},
   "outputs": [],
   "source": [
    "def search_index(query):\n",
    "    \n",
    "    tables_index = []\n",
    "\n",
    "    result_index = search_indexing(query)\n",
    "        \n",
    "    for hit in result_index['hits']['hits']:\n",
    "    \n",
    "        table_ID = hit['_source']['tablePgID']\n",
    "        \n",
    "        table_page_title = hit['_source']['tablePgTitle']\n",
    "    \n",
    "        tables_index.append([table_ID,table_page_title])\n",
    "    \n",
    "    return tables_index"
   ]
  },
  {
   "cell_type": "code",
   "execution_count": 12,
   "metadata": {},
   "outputs": [
    {
     "name": "stdout",
     "output_type": "stream",
     "text": [
      "WARNING:tensorflow:From /home/lss9/anaconda3/lib/python3.7/site-packages/tensorflow_core/python/ops/math_grad.py:1424: where (from tensorflow.python.ops.array_ops) is deprecated and will be removed in a future version.\n",
      "Instructions for updating:\n",
      "Use tf.where in 2.0, which has the same broadcast rule as np.where\n"
     ]
    }
   ],
   "source": [
    "ranking_model = tf.keras.models.load_model('context_plus_single_attention_model_title_10_0.9459.h5')"
   ]
  },
  {
   "cell_type": "code",
   "execution_count": 13,
   "metadata": {},
   "outputs": [
    {
     "data": {
      "text/html": [
       "<div>\n",
       "<style scoped>\n",
       "    .dataframe tbody tr th:only-of-type {\n",
       "        vertical-align: middle;\n",
       "    }\n",
       "\n",
       "    .dataframe tbody tr th {\n",
       "        vertical-align: top;\n",
       "    }\n",
       "\n",
       "    .dataframe thead th {\n",
       "        text-align: right;\n",
       "    }\n",
       "</style>\n",
       "<table border=\"1\" class=\"dataframe\">\n",
       "  <thead>\n",
       "    <tr style=\"text-align: right;\">\n",
       "      <th></th>\n",
       "      <th>full_text</th>\n",
       "      <th>keywords</th>\n",
       "      <th>meta_description</th>\n",
       "      <th>meta_keywords</th>\n",
       "      <th>page_id</th>\n",
       "      <th>page_title</th>\n",
       "      <th>summary</th>\n",
       "      <th>tags</th>\n",
       "    </tr>\n",
       "  </thead>\n",
       "  <tbody>\n",
       "    <tr>\n",
       "      <th>0</th>\n",
       "      <td>when comes pioneers progressive rock handful b...</td>\n",
       "      <td>faces anderson album chris jon went record tre...</td>\n",
       "      <td>yes among year rock roll hall fame inductees c...</td>\n",
       "      <td>NaN</td>\n",
       "      <td>4125505</td>\n",
       "      <td>rock roll hall famers jon anderson trevor rabi...</td>\n",
       "      <td>because good photos the best yes album coverss...</td>\n",
       "      <td>NaN</td>\n",
       "    </tr>\n",
       "  </tbody>\n",
       "</table>\n",
       "</div>"
      ],
      "text/plain": [
       "                                           full_text  \\\n",
       "0  when comes pioneers progressive rock handful b...   \n",
       "\n",
       "                                            keywords  \\\n",
       "0  faces anderson album chris jon went record tre...   \n",
       "\n",
       "                                    meta_description meta_keywords  page_id  \\\n",
       "0  yes among year rock roll hall fame inductees c...           NaN  4125505   \n",
       "\n",
       "                                          page_title  \\\n",
       "0  rock roll hall famers jon anderson trevor rabi...   \n",
       "\n",
       "                                             summary tags  \n",
       "0  because good photos the best yes album coverss...  NaN  "
      ]
     },
     "execution_count": 13,
     "metadata": {},
     "output_type": "execute_result"
    }
   ],
   "source": [
    "test_articles.head(1)"
   ]
  },
  {
   "cell_type": "code",
   "execution_count": 14,
   "metadata": {},
   "outputs": [],
   "source": [
    "result = []\n",
    "\n",
    "def run_search(k):\n",
    "    \n",
    "    TOP_K = k\n",
    "    accuracy = []\n",
    "    \n",
    "    for i, row in tqdm(test_articles.iterrows()):\n",
    "        \n",
    "        article_ID = row['page_id']\n",
    "        article_title_text = row['page_title']\n",
    "        query = row['page_title']+\" \"+row['meta_description']+\" \"+row['keywords']\n",
    "        \n",
    "        article_title = []\n",
    "        title_table = []\n",
    "        ranked_tables_model = []\n",
    "\n",
    "        ranked_tables_index = search_index(query)\n",
    "        \n",
    "        if len(ranked_tables_index) > 0:\n",
    "            \n",
    "            article_title_embedding = create_embedding(article_title_text)\n",
    "            \n",
    "            for table_ID, table_title in (ranked_tables_index):\n",
    "                    \n",
    "                table_title_embedding = create_embedding(str(table_title))\n",
    "\n",
    "                article_title.append(article_title_embedding)\n",
    "                title_table.append(table_title_embedding)\n",
    "\n",
    "            article_title = np.array(article_title)\n",
    "            title_table = np.array(title_table)\n",
    "           \n",
    "            table_ranking_model = ranking_model.predict([article_title,title_table])\n",
    "\n",
    "            for i in range(0,len(table_ranking_model)):\n",
    "\n",
    "                ranked_tables_model.append([ranked_tables_index[i][0],ranked_tables_index[i][1],table_ranking_model[i][0]]) \n",
    "\n",
    "            data_frame = pd.DataFrame(ranked_tables_model, columns = ['table_ID', 'table_title','table_ranking']) \n",
    "            data_frame_sorting = data_frame.sort_values('table_ranking', ascending=False)   \n",
    "#             final_ranked_tables = data_frame_sorting.iloc[0:TOP_K,0:1].values\n",
    "            \n",
    "            selected_top = data_frame_sorting.head(TOP_K)\n",
    "            min_score = selected_top['table_ranking'].min()\n",
    "            draw_tables_socres = data_frame_sorting[data_frame_sorting['table_ranking'] >= min_score]\n",
    "            final_ranked_tables = draw_tables_socres.iloc[:,0:1].values\n",
    "        \n",
    "            accuracy.append(get_accuracy(article_ID, final_ranked_tables))\n",
    "\n",
    "    result.append([\"Acc@\"+str(k),str(round(np.mean(accuracy),4))])"
   ]
  },
  {
   "cell_type": "code",
   "execution_count": 15,
   "metadata": {},
   "outputs": [
    {
     "name": "stderr",
     "output_type": "stream",
     "text": [
      "1026it [00:59, 17.29it/s]\n",
      "1026it [00:57, 18.41it/s]\n",
      "1026it [00:57, 17.75it/s]\n",
      "1026it [00:58, 18.44it/s]\n"
     ]
    }
   ],
   "source": [
    "accuracy_K = [1,5,10,20]\n",
    "\n",
    "for k in accuracy_K:\n",
    "     \n",
    "    run_search(k)"
   ]
  },
  {
   "cell_type": "code",
   "execution_count": 16,
   "metadata": {},
   "outputs": [
    {
     "data": {
      "text/plain": [
       "[['Acc@1', '0.3177'],\n",
       " ['Acc@5', '0.3801'],\n",
       " ['Acc@10', '0.424'],\n",
       " ['Acc@20', '0.4756']]"
      ]
     },
     "execution_count": 16,
     "metadata": {},
     "output_type": "execute_result"
    }
   ],
   "source": [
    "result"
   ]
  },
  {
   "cell_type": "code",
   "execution_count": null,
   "metadata": {},
   "outputs": [],
   "source": []
  },
  {
   "cell_type": "code",
   "execution_count": null,
   "metadata": {},
   "outputs": [],
   "source": []
  },
  {
   "cell_type": "code",
   "execution_count": null,
   "metadata": {},
   "outputs": [],
   "source": []
  },
  {
   "cell_type": "code",
   "execution_count": null,
   "metadata": {},
   "outputs": [],
   "source": []
  },
  {
   "cell_type": "code",
   "execution_count": null,
   "metadata": {},
   "outputs": [],
   "source": []
  }
 ],
 "metadata": {
  "kernelspec": {
   "display_name": "Python 3",
   "language": "python",
   "name": "python3"
  },
  "language_info": {
   "codemirror_mode": {
    "name": "ipython",
    "version": 3
   },
   "file_extension": ".py",
   "mimetype": "text/x-python",
   "name": "python",
   "nbconvert_exporter": "python",
   "pygments_lexer": "ipython3",
   "version": "3.7.3"
  }
 },
 "nbformat": 4,
 "nbformat_minor": 2
}
