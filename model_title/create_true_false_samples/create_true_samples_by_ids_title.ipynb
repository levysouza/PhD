{
 "cells": [
  {
   "cell_type": "code",
   "execution_count": 1,
   "metadata": {},
   "outputs": [],
   "source": [
    "from tqdm import tqdm\n",
    "import numpy as np\n",
    "import pandas as pd\n",
    "from lxml import html\n",
    "import requests\n",
    "import re\n",
    "import csv"
   ]
  },
  {
   "cell_type": "code",
   "execution_count": 5,
   "metadata": {},
   "outputs": [],
   "source": [
    "articles = pd.read_csv('../../dataset/data_articles_train.csv', delimiter=',')"
   ]
  },
  {
   "cell_type": "code",
   "execution_count": 6,
   "metadata": {},
   "outputs": [],
   "source": [
    "tables = pd.read_csv('../../dataset/distinct_tables_allsignals.csv', delimiter=',')"
   ]
  },
  {
   "cell_type": "code",
   "execution_count": 7,
   "metadata": {},
   "outputs": [
    {
     "name": "stderr",
     "output_type": "stream",
     "text": [
      "204107it [10:10, 334.40it/s]\n"
     ]
    }
   ],
   "source": [
    "true_samples_by_ids = []\n",
    "\n",
    "for i, row in tqdm(articles.iterrows()):\n",
    "    \n",
    "    article_id = row['page_id']\n",
    "    article_title = row['page_title']\n",
    "#     article_full_text = row['full_text']\n",
    "    article_meta_description = row['meta_description']\n",
    "#     article_summary = row['summary']\n",
    "    article_keywords = row['keywords']\n",
    "    \n",
    "    df_locate_tables = tables.loc[tables['table_id'] == article_id]\n",
    "    \n",
    "    if len(df_locate_tables) > 0:\n",
    "        \n",
    "        for j, row_table in df_locate_tables.iterrows():\n",
    "    \n",
    "            table_id = row_table['table_id']\n",
    "            table_title = row_table['table_page_title']\n",
    "#             table_full_text = row_table['table_page_full_text']\n",
    "            table_summary = row_table['table_page_summary']\n",
    "            table_keywords = row_table['table_page_keywords']\n",
    "        \n",
    "            #creating the true pair\n",
    "            \n",
    "            line = {\"article_id\":article_id,\n",
    "                    \"article_page_title\":article_title,\n",
    "#                     \"article_full_text\":article_full_text,\n",
    "                    \"article_meta_description\":article_meta_description,\n",
    "#                     \"article_summary\":article_summary,\n",
    "                    \"article_keywords\":article_keywords,\n",
    "                    \"table_id\": table_id,\n",
    "                    \"table_page_title\": table_title,\n",
    "#                     \"table_page_full_text\": table_full_text,\n",
    "                    \"table_page_summary\": table_summary,\n",
    "                    \"table_page_keywords\": table_keywords,\n",
    "                    \"label\":\"1\"}\n",
    "            \n",
    "            true_samples_by_ids.append(line)"
   ]
  },
  {
   "cell_type": "code",
   "execution_count": 8,
   "metadata": {},
   "outputs": [],
   "source": [
    "df_true_samples = pd.DataFrame(true_samples_by_ids)"
   ]
  },
  {
   "cell_type": "code",
   "execution_count": 9,
   "metadata": {},
   "outputs": [],
   "source": [
    "df_true_samples.to_csv('true_pairs_by_ids_all_signals.csv',index=False)"
   ]
  },
  {
   "cell_type": "code",
   "execution_count": null,
   "metadata": {},
   "outputs": [],
   "source": []
  },
  {
   "cell_type": "code",
   "execution_count": null,
   "metadata": {},
   "outputs": [],
   "source": []
  },
  {
   "cell_type": "code",
   "execution_count": null,
   "metadata": {},
   "outputs": [],
   "source": []
  }
 ],
 "metadata": {
  "kernelspec": {
   "display_name": "Python 3",
   "language": "python",
   "name": "python3"
  },
  "language_info": {
   "codemirror_mode": {
    "name": "ipython",
    "version": 3
   },
   "file_extension": ".py",
   "mimetype": "text/x-python",
   "name": "python",
   "nbconvert_exporter": "python",
   "pygments_lexer": "ipython3",
   "version": "3.7.3"
  }
 },
 "nbformat": 4,
 "nbformat_minor": 2
}
