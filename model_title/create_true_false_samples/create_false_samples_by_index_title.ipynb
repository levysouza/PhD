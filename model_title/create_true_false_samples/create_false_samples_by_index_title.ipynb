{
 "cells": [
  {
   "cell_type": "code",
   "execution_count": null,
   "metadata": {},
   "outputs": [],
   "source": [
    "from tqdm import tqdm\n",
    "import numpy as np\n",
    "import pandas as pd\n",
    "from lxml import html\n",
    "import requests\n",
    "import re\n",
    "import csv\n",
    "from sklearn.model_selection import train_test_split\n",
    "from elasticsearch import Elasticsearch\n",
    "from elasticsearch import helpers\n",
    "indexing_distinct_tables = Elasticsearch(timeout=30, max_retries=10, retry_on_timeout=True)"
   ]
  },
  {
   "cell_type": "code",
   "execution_count": null,
   "metadata": {},
   "outputs": [],
   "source": [
    "train_articles = pd.read_csv('data_articles_train.csv', delimiter=',')"
   ]
  },
  {
   "cell_type": "code",
   "execution_count": null,
   "metadata": {},
   "outputs": [],
   "source": []
  },
  {
   "cell_type": "code",
   "execution_count": null,
   "metadata": {},
   "outputs": [],
   "source": [
    "def search_index_random():\n",
    "    \n",
    "    result= indexing_distinct_tables.search(\n",
    "        index=\"distinct_tables\", \n",
    "        body = {\n",
    "        \"_source\": [\"tablePgID\",\"tablePgTitle\",\"tableSectionTitle\",\"tableCaption\",\"tableHeader\",\"tableBody\"],\n",
    "        \"from\" : 0,\n",
    "        \"size\" : 100,\n",
    "        \"query\": {\n",
    "            \"function_score\": {\n",
    "                \"random_score\": {}\n",
    "            }\n",
    "        }\n",
    "    })\n",
    "    \n",
    "    return result"
   ]
  },
  {
   "cell_type": "code",
   "execution_count": null,
   "metadata": {},
   "outputs": [],
   "source": []
  },
  {
   "cell_type": "code",
   "execution_count": null,
   "metadata": {},
   "outputs": [],
   "source": []
  },
  {
   "cell_type": "code",
   "execution_count": null,
   "metadata": {},
   "outputs": [],
   "source": [
    "random_negatives = []\n",
    "\n",
    "for i in tqdm(range(len(train_articles))):\n",
    "    \n",
    "    row = train_articles.iloc[i]\n",
    "    articleID = row['page_id']\n",
    "    articleTitle = row['page_title']\n",
    "    \n",
    "    #getting the table title match\n",
    "    contNoMatch = 0\n",
    "    result = search_index_random()\n",
    "    max_score = result['hits']['max_score']\n",
    "    \n",
    "    for hit in result['hits']['hits']:\n",
    "    \n",
    "        tableID = hit['_source']['tablePgID']\n",
    "        tableTitle = (hit['_source']['tablePgTitle'])\n",
    "        #tableSectionTitle = (hit['_source']['tableSectionTitle'])\n",
    "        #tableCaption = (hit['_source']['tableCaption'])\n",
    "        #tableHeader = (hit['_source']['tableHeader'])\n",
    "        #tableBody = (hit['_source']['tableBody'])\n",
    "        \n",
    "        #getting match data\n",
    "        if (articleID != tableID): \n",
    "            \n",
    "            if contNoMatch < 1:\n",
    "            \n",
    "                tableIDMatch = tableID\n",
    "                tableTitleMatch = tableTitle\n",
    "                #tableSectionTitleMatch = tableSectionTitle\n",
    "                #tableCaptionMatch = tableCaption\n",
    "                #tableHeaderMatch = tableHeader\n",
    "                #tableBodyMatch = tableBody\n",
    "    \n",
    "                new_row = {\"article_id\": articleID,\n",
    "                           \"article_title\": articleTitle,\n",
    "                           \"table_id\": tableIDMatch,\n",
    "                           \"table_title\": tableTitleMatch,\n",
    "                           \"label\": '0'}\n",
    "            \n",
    "                random_negatives.append(new_row)\n",
    "                \n",
    "                contNoMatch = contNoMatch + 1\n",
    "                \n",
    "            else:\n",
    "                \n",
    "                contNoMatch = 0\n",
    "                break"
   ]
  },
  {
   "cell_type": "code",
   "execution_count": null,
   "metadata": {},
   "outputs": [],
   "source": [
    "df_random_negative = pd.DataFrame(random_negatives)\n",
    "df_random_negative.to_csv('random_negative_1M_single_title.csv',index=False)"
   ]
  },
  {
   "cell_type": "code",
   "execution_count": null,
   "metadata": {},
   "outputs": [],
   "source": []
  },
  {
   "cell_type": "code",
   "execution_count": null,
   "metadata": {},
   "outputs": [],
   "source": []
  },
  {
   "cell_type": "code",
   "execution_count": null,
   "metadata": {},
   "outputs": [],
   "source": []
  },
  {
   "cell_type": "code",
   "execution_count": null,
   "metadata": {},
   "outputs": [],
   "source": []
  },
  {
   "cell_type": "code",
   "execution_count": null,
   "metadata": {},
   "outputs": [],
   "source": []
  },
  {
   "cell_type": "code",
   "execution_count": null,
   "metadata": {},
   "outputs": [],
   "source": []
  },
  {
   "cell_type": "code",
   "execution_count": null,
   "metadata": {},
   "outputs": [],
   "source": []
  },
  {
   "cell_type": "code",
   "execution_count": null,
   "metadata": {},
   "outputs": [],
   "source": []
  },
  {
   "cell_type": "code",
   "execution_count": null,
   "metadata": {},
   "outputs": [],
   "source": []
  }
 ],
 "metadata": {
  "kernelspec": {
   "display_name": "Python 3",
   "language": "python",
   "name": "python3"
  },
  "language_info": {
   "codemirror_mode": {
    "name": "ipython",
    "version": 3
   },
   "file_extension": ".py",
   "mimetype": "text/x-python",
   "name": "python",
   "nbconvert_exporter": "python",
   "pygments_lexer": "ipython3",
   "version": "3.7.3"
  }
 },
 "nbformat": 4,
 "nbformat_minor": 2
}
