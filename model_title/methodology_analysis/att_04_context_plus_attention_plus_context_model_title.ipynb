{
 "cells": [
  {
   "cell_type": "code",
   "execution_count": 1,
   "metadata": {},
   "outputs": [],
   "source": [
    "import warnings\n",
    "import numpy as np\n",
    "import pandas as pd\n",
    "from sklearn.model_selection import train_test_split\n",
    "import gensim as gs\n",
    "from tqdm import tqdm\n",
    "import tensorflow as tf\n",
    "import matplotlib.pyplot as plt\n",
    "from nltk.tokenize import TweetTokenizer\n",
    "tknzr = TweetTokenizer()\n",
    "from sklearn.metrics import accuracy_score, precision_score, recall_score, f1_score\n",
    "warnings.filterwarnings('ignore')\n",
    "import fasttext"
   ]
  },
  {
   "cell_type": "code",
   "execution_count": 2,
   "metadata": {},
   "outputs": [],
   "source": [
    "train_dataset = pd.read_csv('../train_data/final_train_dataset', delimiter=',')\n",
    "validation_dataset = pd.read_csv('../train_data/final_validation_dataset', delimiter=',')"
   ]
  },
  {
   "cell_type": "code",
   "execution_count": null,
   "metadata": {},
   "outputs": [],
   "source": []
  },
  {
   "cell_type": "code",
   "execution_count": null,
   "metadata": {},
   "outputs": [],
   "source": []
  },
  {
   "cell_type": "code",
   "execution_count": 3,
   "metadata": {},
   "outputs": [],
   "source": [
    "embedding_model = gs.models.FastText.load('../train_embedding_models/fasttext_embedding_50d_all_signals')"
   ]
  },
  {
   "cell_type": "code",
   "execution_count": null,
   "metadata": {},
   "outputs": [],
   "source": []
  },
  {
   "cell_type": "code",
   "execution_count": 4,
   "metadata": {},
   "outputs": [],
   "source": [
    "MAX_PAD = 31\n",
    "\n",
    "def sequence_padding(X_DIM, value):\n",
    "    \n",
    "    value_padding = np.pad(value, ((0,MAX_PAD - X_DIM),(0,0)), 'constant')\n",
    "    \n",
    "    return value_padding"
   ]
  },
  {
   "cell_type": "code",
   "execution_count": 5,
   "metadata": {},
   "outputs": [],
   "source": [
    "def create_embedding(value):\n",
    "\n",
    "    value = tknzr.tokenize(str(value))\n",
    "    \n",
    "    if len(value) < MAX_PAD:\n",
    "        \n",
    "        embedding = embedding_model.wv[value]\n",
    "        \n",
    "        padding_embedding = sequence_padding(embedding.shape[0],embedding)\n",
    "        \n",
    "        return padding_embedding\n",
    "        \n",
    "    else:\n",
    "        \n",
    "        embedding = embedding_model.wv[value[0:MAX_PAD]]\n",
    "        \n",
    "        return embedding"
   ]
  },
  {
   "cell_type": "code",
   "execution_count": null,
   "metadata": {},
   "outputs": [],
   "source": []
  },
  {
   "cell_type": "code",
   "execution_count": 6,
   "metadata": {},
   "outputs": [
    {
     "name": "stderr",
     "output_type": "stream",
     "text": [
      "169500it [00:52, 3237.48it/s]\n"
     ]
    }
   ],
   "source": [
    "train_article_title = []\n",
    "train_table_title = []\n",
    "train_label = []\n",
    "\n",
    "for i,row in tqdm(train_dataset.iterrows()):\n",
    "    \n",
    "    train_article_title.append(create_embedding(row['article_page_title']))\n",
    "    train_table_title.append(create_embedding(row['table_page_title']))\n",
    "    train_label.append(row['label'])"
   ]
  },
  {
   "cell_type": "code",
   "execution_count": 7,
   "metadata": {},
   "outputs": [],
   "source": [
    "train_article_title = np.array(train_article_title)\n",
    "train_table_title = np.array(train_table_title)\n",
    "train_label = np.array(train_label)"
   ]
  },
  {
   "cell_type": "code",
   "execution_count": 8,
   "metadata": {},
   "outputs": [
    {
     "data": {
      "text/plain": [
       "(169500, 31, 50)"
      ]
     },
     "execution_count": 8,
     "metadata": {},
     "output_type": "execute_result"
    }
   ],
   "source": [
    "train_article_title.shape"
   ]
  },
  {
   "cell_type": "code",
   "execution_count": null,
   "metadata": {},
   "outputs": [],
   "source": []
  },
  {
   "cell_type": "code",
   "execution_count": 9,
   "metadata": {},
   "outputs": [
    {
     "name": "stderr",
     "output_type": "stream",
     "text": [
      "18834it [00:05, 3271.99it/s]\n"
     ]
    }
   ],
   "source": [
    "validation_article_title = []\n",
    "validation_table_title = []\n",
    "validation_label = []\n",
    "\n",
    "for i, row in tqdm(validation_dataset.iterrows()):\n",
    "    \n",
    "    validation_article_title.append(create_embedding(row['article_page_title']))\n",
    "    validation_table_title.append(create_embedding(row['table_page_title']))  \n",
    "    validation_label.append(row['label'])"
   ]
  },
  {
   "cell_type": "code",
   "execution_count": 10,
   "metadata": {},
   "outputs": [],
   "source": [
    "validation_article_title = np.array(validation_article_title)\n",
    "validation_table_title = np.array(validation_table_title)\n",
    "validation_label = np.array(validation_label)"
   ]
  },
  {
   "cell_type": "code",
   "execution_count": 11,
   "metadata": {},
   "outputs": [
    {
     "data": {
      "text/plain": [
       "(18834, 31, 50)"
      ]
     },
     "execution_count": 11,
     "metadata": {},
     "output_type": "execute_result"
    }
   ],
   "source": [
    "validation_article_title.shape"
   ]
  },
  {
   "cell_type": "code",
   "execution_count": 12,
   "metadata": {},
   "outputs": [],
   "source": [
    "def attention_method(query, key, value):\n",
    "    \n",
    "    scores = tf.matmul(query, key, transpose_b=True)\n",
    "    \n",
    "    distribution = tf.nn.softmax(scores)\n",
    "    \n",
    "    attention_matrix = tf.matmul(distribution, value)\n",
    "    \n",
    "    return attention_matrix"
   ]
  },
  {
   "cell_type": "code",
   "execution_count": null,
   "metadata": {},
   "outputs": [],
   "source": []
  },
  {
   "cell_type": "code",
   "execution_count": 13,
   "metadata": {},
   "outputs": [],
   "source": [
    "def attention_model():\n",
    "    \n",
    "    article_title = tf.keras.Input(shape=(31,50), dtype='float32')\n",
    "    table_title = tf.keras.Input(shape=(31,50), dtype='float32')\n",
    "    \n",
    "    context_titleA = tf.keras.layers.Bidirectional(tf.keras.layers.GRU(32, return_sequences=True))(article_title)\n",
    "    context_titleB = tf.keras.layers.Bidirectional(tf.keras.layers.GRU(32, return_sequences=True))(table_title)\n",
    "    \n",
    "    affinity_titleA_titleB = attention_method(context_titleA,context_titleB,context_titleA)\n",
    "    \n",
    "    context_affinity = tf.keras.layers.Bidirectional(tf.keras.layers.GRU(32, return_sequences=True))(affinity_titleA_titleB)\n",
    "    \n",
    "    learned_vector = tf.keras.layers.Flatten()(context_affinity)\n",
    "   \n",
    "    MLP_input = tf.keras.layers.Dense(64, activation='relu')(learned_vector)\n",
    "    dropout1 = tf.keras.layers.Dropout(0.5, name=\"dropout1\")(MLP_input)\n",
    "    MLP_hidden = tf.keras.layers.Dense(32, activation='relu')(dropout1)\n",
    "    dropout2 = tf.keras.layers.Dropout(0.5, name=\"dropout2\")(MLP_hidden)\n",
    "    MLP_output = tf.keras.layers.Dense(1,activation='sigmoid')(dropout2)\n",
    "    \n",
    "    model = tf.keras.Model(inputs=[article_title,table_title],outputs=MLP_output)\n",
    "    \n",
    "    return model"
   ]
  },
  {
   "cell_type": "code",
   "execution_count": 14,
   "metadata": {},
   "outputs": [],
   "source": [
    "model = attention_model()"
   ]
  },
  {
   "cell_type": "code",
   "execution_count": null,
   "metadata": {},
   "outputs": [],
   "source": []
  },
  {
   "cell_type": "code",
   "execution_count": 15,
   "metadata": {},
   "outputs": [],
   "source": [
    "model.compile(loss=\"binary_crossentropy\",optimizer=\"adam\", metrics=['accuracy'])"
   ]
  },
  {
   "cell_type": "code",
   "execution_count": 16,
   "metadata": {},
   "outputs": [],
   "source": [
    "filepath=\"context_plus_attention_plus_context_model_title_{epoch:02d}_{val_accuracy:.4f}.h5\"\n",
    "checkpoint = tf.keras.callbacks.ModelCheckpoint(filepath, monitor='val_accuracy', verbose=1, save_best_only=True, mode='max')\n",
    "callbacks_list = [checkpoint]"
   ]
  },
  {
   "cell_type": "code",
   "execution_count": 17,
   "metadata": {},
   "outputs": [
    {
     "name": "stdout",
     "output_type": "stream",
     "text": [
      "Train on 169500 samples, validate on 18834 samples\n",
      "Epoch 1/20\n",
      "WARNING:tensorflow:From /home/lss9/anaconda3/lib/python3.7/site-packages/tensorflow_core/python/ops/nn_impl.py:183: where (from tensorflow.python.ops.array_ops) is deprecated and will be removed in a future version.\n",
      "Instructions for updating:\n",
      "Use tf.where in 2.0, which has the same broadcast rule as np.where\n",
      "WARNING:tensorflow:Entity <function Function._initialize_uninitialized_variables.<locals>.initialize_variables at 0x7fcb722f9c80> could not be transformed and will be executed as-is. Please report this to the AutoGraph team. When filing the bug, set the verbosity to 10 (on Linux, `export AUTOGRAPH_VERBOSITY=10`) and attach the full output. Cause: module 'gast' has no attribute 'Num'\n",
      "WARNING: Entity <function Function._initialize_uninitialized_variables.<locals>.initialize_variables at 0x7fcb722f9c80> could not be transformed and will be executed as-is. Please report this to the AutoGraph team. When filing the bug, set the verbosity to 10 (on Linux, `export AUTOGRAPH_VERBOSITY=10`) and attach the full output. Cause: module 'gast' has no attribute 'Num'\n",
      "169472/169500 [============================>.] - ETA: 0s - loss: 0.2984 - accuracy: 0.8622\n",
      "Epoch 00001: val_accuracy improved from -inf to 0.93560, saving model to context_plus_attention_plus_context_model_title_01_0.9356.h5\n",
      "169500/169500 [==============================] - 114s 674us/sample - loss: 0.2984 - accuracy: 0.8623 - val_loss: 0.1848 - val_accuracy: 0.9356\n",
      "Epoch 2/20\n",
      "169472/169500 [============================>.] - ETA: 0s - loss: 0.1723 - accuracy: 0.9379\n",
      "Epoch 00002: val_accuracy improved from 0.93560 to 0.94170, saving model to context_plus_attention_plus_context_model_title_02_0.9417.h5\n",
      "169500/169500 [==============================] - 107s 630us/sample - loss: 0.1723 - accuracy: 0.9379 - val_loss: 0.1535 - val_accuracy: 0.9417\n",
      "Epoch 3/20\n",
      "169472/169500 [============================>.] - ETA: 0s - loss: 0.1516 - accuracy: 0.9456\n",
      "Epoch 00003: val_accuracy improved from 0.94170 to 0.94319, saving model to context_plus_attention_plus_context_model_title_03_0.9432.h5\n",
      "169500/169500 [==============================] - 107s 631us/sample - loss: 0.1517 - accuracy: 0.9456 - val_loss: 0.1508 - val_accuracy: 0.9432\n",
      "Epoch 4/20\n",
      "169472/169500 [============================>.] - ETA: 0s - loss: 0.1379 - accuracy: 0.9486\n",
      "Epoch 00004: val_accuracy improved from 0.94319 to 0.94627, saving model to context_plus_attention_plus_context_model_title_04_0.9463.h5\n",
      "169500/169500 [==============================] - 111s 653us/sample - loss: 0.1378 - accuracy: 0.9486 - val_loss: 0.1522 - val_accuracy: 0.9463\n",
      "Epoch 5/20\n",
      "169472/169500 [============================>.] - ETA: 0s - loss: 0.1281 - accuracy: 0.9528\n",
      "Epoch 00005: val_accuracy improved from 0.94627 to 0.94632, saving model to context_plus_attention_plus_context_model_title_05_0.9463.h5\n",
      "169500/169500 [==============================] - 144s 849us/sample - loss: 0.1281 - accuracy: 0.9528 - val_loss: 0.1562 - val_accuracy: 0.9463\n",
      "Epoch 6/20\n",
      "169440/169500 [============================>.] - ETA: 0s - loss: 0.1187 - accuracy: 0.9553\n",
      "Epoch 00006: val_accuracy did not improve from 0.94632\n",
      "169500/169500 [==============================] - 162s 956us/sample - loss: 0.1188 - accuracy: 0.9553 - val_loss: 0.1540 - val_accuracy: 0.9454\n",
      "Epoch 7/20\n",
      "169440/169500 [============================>.] - ETA: 0s - loss: 0.1127 - accuracy: 0.9574\n",
      "Epoch 00007: val_accuracy improved from 0.94632 to 0.94685, saving model to context_plus_attention_plus_context_model_title_07_0.9469.h5\n",
      "169500/169500 [==============================] - 121s 716us/sample - loss: 0.1127 - accuracy: 0.9574 - val_loss: 0.1465 - val_accuracy: 0.9469\n",
      "Epoch 8/20\n",
      "169440/169500 [============================>.] - ETA: 0s - loss: 0.1046 - accuracy: 0.9596\n",
      "Epoch 00008: val_accuracy did not improve from 0.94685\n",
      "169500/169500 [==============================] - 126s 741us/sample - loss: 0.1046 - accuracy: 0.9596 - val_loss: 0.1693 - val_accuracy: 0.9445\n",
      "Epoch 9/20\n",
      "169472/169500 [============================>.] - ETA: 0s - loss: 0.0999 - accuracy: 0.9612\n",
      "Epoch 00009: val_accuracy did not improve from 0.94685\n",
      "169500/169500 [==============================] - 139s 820us/sample - loss: 0.0999 - accuracy: 0.9612 - val_loss: 0.1732 - val_accuracy: 0.9453\n",
      "Epoch 10/20\n",
      "169472/169500 [============================>.] - ETA: 0s - loss: 0.0941 - accuracy: 0.9635\n",
      "Epoch 00010: val_accuracy did not improve from 0.94685\n",
      "169500/169500 [==============================] - 121s 712us/sample - loss: 0.0941 - accuracy: 0.9635 - val_loss: 0.1840 - val_accuracy: 0.9440\n",
      "Epoch 11/20\n",
      "169408/169500 [============================>.] - ETA: 0s - loss: 0.0908 - accuracy: 0.9643\n",
      "Epoch 00011: val_accuracy did not improve from 0.94685\n",
      "169500/169500 [==============================] - 108s 636us/sample - loss: 0.0908 - accuracy: 0.9643 - val_loss: 0.1830 - val_accuracy: 0.9453\n",
      "Epoch 12/20\n",
      "169472/169500 [============================>.] - ETA: 0s - loss: 0.0872 - accuracy: 0.9658\n",
      "Epoch 00012: val_accuracy did not improve from 0.94685\n",
      "169500/169500 [==============================] - 107s 629us/sample - loss: 0.0871 - accuracy: 0.9658 - val_loss: 0.2043 - val_accuracy: 0.9458\n",
      "Epoch 13/20\n",
      "169472/169500 [============================>.] - ETA: 0s - loss: 0.0834 - accuracy: 0.9672\n",
      "Epoch 00013: val_accuracy did not improve from 0.94685\n",
      "169500/169500 [==============================] - 109s 646us/sample - loss: 0.0834 - accuracy: 0.9672 - val_loss: 0.2000 - val_accuracy: 0.9449\n",
      "Epoch 14/20\n",
      "169472/169500 [============================>.] - ETA: 0s - loss: 0.0794 - accuracy: 0.9685\n",
      "Epoch 00014: val_accuracy did not improve from 0.94685\n",
      "169500/169500 [==============================] - 151s 891us/sample - loss: 0.0794 - accuracy: 0.9685 - val_loss: 0.1988 - val_accuracy: 0.9462\n",
      "Epoch 15/20\n",
      "169440/169500 [============================>.] - ETA: 0s - loss: 0.0770 - accuracy: 0.9699\n",
      "Epoch 00015: val_accuracy did not improve from 0.94685\n",
      "169500/169500 [==============================] - 188s 1ms/sample - loss: 0.0770 - accuracy: 0.9699 - val_loss: 0.2109 - val_accuracy: 0.9444\n",
      "Epoch 16/20\n",
      "169440/169500 [============================>.] - ETA: 0s - loss: 0.0739 - accuracy: 0.9705\n",
      "Epoch 00016: val_accuracy did not improve from 0.94685\n",
      "169500/169500 [==============================] - 189s 1ms/sample - loss: 0.0738 - accuracy: 0.9706 - val_loss: 0.1969 - val_accuracy: 0.9455\n",
      "Epoch 17/20\n",
      "169440/169500 [============================>.] - ETA: 0s - loss: 0.0702 - accuracy: 0.9724\n",
      "Epoch 00017: val_accuracy did not improve from 0.94685\n",
      "169500/169500 [==============================] - 189s 1ms/sample - loss: 0.0702 - accuracy: 0.9724 - val_loss: 0.2434 - val_accuracy: 0.9455\n",
      "Epoch 18/20\n",
      "169472/169500 [============================>.] - ETA: 0s - loss: 0.0686 - accuracy: 0.9728\n",
      "Epoch 00018: val_accuracy did not improve from 0.94685\n",
      "169500/169500 [==============================] - 189s 1ms/sample - loss: 0.0686 - accuracy: 0.9728 - val_loss: 0.2407 - val_accuracy: 0.9413\n",
      "Epoch 19/20\n",
      "169440/169500 [============================>.] - ETA: 0s - loss: 0.0653 - accuracy: 0.9739\n",
      "Epoch 00019: val_accuracy did not improve from 0.94685\n",
      "169500/169500 [==============================] - 189s 1ms/sample - loss: 0.0653 - accuracy: 0.9739 - val_loss: 0.2786 - val_accuracy: 0.9435\n",
      "Epoch 20/20\n",
      "169440/169500 [============================>.] - ETA: 0s - loss: 0.0636 - accuracy: 0.9748\n",
      "Epoch 00020: val_accuracy did not improve from 0.94685\n",
      "169500/169500 [==============================] - 193s 1ms/sample - loss: 0.0636 - accuracy: 0.9748 - val_loss: 0.2335 - val_accuracy: 0.9463\n"
     ]
    }
   ],
   "source": [
    "history = model.fit([train_article_title, train_table_title], train_label, \n",
    "          epochs=20, \n",
    "          batch_size=32, \n",
    "          validation_data=([validation_article_title, validation_table_title], validation_label),\n",
    "          callbacks=callbacks_list)"
   ]
  },
  {
   "cell_type": "code",
   "execution_count": null,
   "metadata": {},
   "outputs": [],
   "source": []
  },
  {
   "cell_type": "code",
   "execution_count": null,
   "metadata": {},
   "outputs": [],
   "source": []
  },
  {
   "cell_type": "code",
   "execution_count": 18,
   "metadata": {},
   "outputs": [
    {
     "data": {
      "image/png": "[encoded data removed]",
      "text/plain": [
       "<Figure size 432x288 with 1 Axes>"
      ]
     },
     "metadata": {
      "needs_background": "light"
     },
     "output_type": "display_data"
    }
   ],
   "source": [
    "# summarize history for accuracy\n",
    "plt.plot(history.history['accuracy'])\n",
    "plt.plot(history.history['val_accuracy'])\n",
    "plt.title('model accuracy')\n",
    "plt.ylabel('accuracy')\n",
    "plt.xlabel('epoch')\n",
    "plt.legend(['train', 'validation'], loc='upper left')\n",
    "plt.show()"
   ]
  },
  {
   "cell_type": "code",
   "execution_count": 19,
   "metadata": {},
   "outputs": [
    {
     "data": {
      "image/png": "[encoded data removed]",
      "text/plain": [
       "<Figure size 432x288 with 1 Axes>"
      ]
     },
     "metadata": {
      "needs_background": "light"
     },
     "output_type": "display_data"
    }
   ],
   "source": [
    "# summarize history for loss\n",
    "plt.plot(history.history['loss'])\n",
    "plt.plot(history.history['val_loss'])\n",
    "plt.title('model loss')\n",
    "plt.ylabel('loss')\n",
    "plt.xlabel('epoch')\n",
    "plt.legend(['train', 'validation'], loc='upper left')\n",
    "plt.show()"
   ]
  },
  {
   "cell_type": "code",
   "execution_count": null,
   "metadata": {},
   "outputs": [],
   "source": []
  },
  {
   "cell_type": "code",
   "execution_count": 20,
   "metadata": {},
   "outputs": [
    {
     "ename": "OSError",
     "evalue": "SavedModel file does not exist at: affinity_model_train_cossine.h5/{saved_model.pbtxt|saved_model.pb}",
     "output_type": "error",
     "traceback": [
      "\u001b[0;31m---------------------------------------------------------------------------\u001b[0m",
      "\u001b[0;31mOSError\u001b[0m                                   Traceback (most recent call last)",
      "\u001b[0;32m<ipython-input-20-c612cd2cca2c>\u001b[0m in \u001b[0;36m<module>\u001b[0;34m\u001b[0m\n\u001b[0;32m----> 1\u001b[0;31m \u001b[0mmodel\u001b[0m \u001b[0;34m=\u001b[0m \u001b[0mtf\u001b[0m\u001b[0;34m.\u001b[0m\u001b[0mkeras\u001b[0m\u001b[0;34m.\u001b[0m\u001b[0mmodels\u001b[0m\u001b[0;34m.\u001b[0m\u001b[0mload_model\u001b[0m\u001b[0;34m(\u001b[0m\u001b[0;34m'affinity_model_train_cossine.h5'\u001b[0m\u001b[0;34m)\u001b[0m\u001b[0;34m\u001b[0m\u001b[0;34m\u001b[0m\u001b[0m\n\u001b[0m",
      "\u001b[0;32m~/anaconda3/lib/python3.7/site-packages/tensorflow_core/python/keras/saving/save.py\u001b[0m in \u001b[0;36mload_model\u001b[0;34m(filepath, custom_objects, compile)\u001b[0m\n\u001b[1;32m    144\u001b[0m \u001b[0;34m\u001b[0m\u001b[0m\n\u001b[1;32m    145\u001b[0m   \u001b[0;32mif\u001b[0m \u001b[0misinstance\u001b[0m\u001b[0;34m(\u001b[0m\u001b[0mfilepath\u001b[0m\u001b[0;34m,\u001b[0m \u001b[0msix\u001b[0m\u001b[0;34m.\u001b[0m\u001b[0mstring_types\u001b[0m\u001b[0;34m)\u001b[0m\u001b[0;34m:\u001b[0m\u001b[0;34m\u001b[0m\u001b[0;34m\u001b[0m\u001b[0m\n\u001b[0;32m--> 146\u001b[0;31m     \u001b[0mloader_impl\u001b[0m\u001b[0;34m.\u001b[0m\u001b[0mparse_saved_model\u001b[0m\u001b[0;34m(\u001b[0m\u001b[0mfilepath\u001b[0m\u001b[0;34m)\u001b[0m\u001b[0;34m\u001b[0m\u001b[0;34m\u001b[0m\u001b[0m\n\u001b[0m\u001b[1;32m    147\u001b[0m     \u001b[0;32mreturn\u001b[0m \u001b[0msaved_model_load\u001b[0m\u001b[0;34m.\u001b[0m\u001b[0mload\u001b[0m\u001b[0;34m(\u001b[0m\u001b[0mfilepath\u001b[0m\u001b[0;34m,\u001b[0m \u001b[0mcompile\u001b[0m\u001b[0;34m)\u001b[0m\u001b[0;34m\u001b[0m\u001b[0;34m\u001b[0m\u001b[0m\n\u001b[1;32m    148\u001b[0m \u001b[0;34m\u001b[0m\u001b[0m\n",
      "\u001b[0;32m~/anaconda3/lib/python3.7/site-packages/tensorflow_core/python/saved_model/loader_impl.py\u001b[0m in \u001b[0;36mparse_saved_model\u001b[0;34m(export_dir)\u001b[0m\n\u001b[1;32m     81\u001b[0m                   (export_dir,\n\u001b[1;32m     82\u001b[0m                    \u001b[0mconstants\u001b[0m\u001b[0;34m.\u001b[0m\u001b[0mSAVED_MODEL_FILENAME_PBTXT\u001b[0m\u001b[0;34m,\u001b[0m\u001b[0;34m\u001b[0m\u001b[0;34m\u001b[0m\u001b[0m\n\u001b[0;32m---> 83\u001b[0;31m                    constants.SAVED_MODEL_FILENAME_PB))\n\u001b[0m\u001b[1;32m     84\u001b[0m \u001b[0;34m\u001b[0m\u001b[0m\n\u001b[1;32m     85\u001b[0m \u001b[0;34m\u001b[0m\u001b[0m\n",
      "\u001b[0;31mOSError\u001b[0m: SavedModel file does not exist at: affinity_model_train_cossine.h5/{saved_model.pbtxt|saved_model.pb}"
     ]
    }
   ],
   "source": [
    "model = tf.keras.models.load_model('affinity_model_train_cossine.h5')"
   ]
  },
  {
   "cell_type": "code",
   "execution_count": null,
   "metadata": {},
   "outputs": [],
   "source": [
    "y_prob = model.predict([validation_article_title,validation_table_title])\n",
    "y_predict = (y_prob > 0.5).astype(np.int)\n",
    "accuracy_score(validation_label, y_predict)"
   ]
  },
  {
   "cell_type": "code",
   "execution_count": null,
   "metadata": {},
   "outputs": [],
   "source": []
  },
  {
   "cell_type": "code",
   "execution_count": null,
   "metadata": {},
   "outputs": [],
   "source": [
    "import seaborn as sns\n",
    "import sklearn.metrics\n",
    "confusion_matrix = sklearn.metrics.confusion_matrix(validation_label, y_predict)\n",
    "\n",
    "plt.figure(figsize=(10, 8))\n",
    "sns.heatmap(confusion_matrix, annot=True, fmt=\"d\", cmap=\"YlGnBu\")#, annot_kws={\"size\": 15});\n",
    "plt.title(\"Confusion matrix\")\n",
    "plt.ylabel('True label')\n",
    "plt.xlabel('Predict label')\n",
    "plt.show()"
   ]
  },
  {
   "cell_type": "code",
   "execution_count": null,
   "metadata": {},
   "outputs": [],
   "source": []
  },
  {
   "cell_type": "code",
   "execution_count": null,
   "metadata": {},
   "outputs": [],
   "source": []
  }
 ],
 "metadata": {
  "kernelspec": {
   "display_name": "Python 3",
   "language": "python",
   "name": "python3"
  },
  "language_info": {
   "codemirror_mode": {
    "name": "ipython",
    "version": 3
   },
   "file_extension": ".py",
   "mimetype": "text/x-python",
   "name": "python",
   "nbconvert_exporter": "python",
   "pygments_lexer": "ipython3",
   "version": "3.7.3"
  }
 },
 "nbformat": 4,
 "nbformat_minor": 2
}
