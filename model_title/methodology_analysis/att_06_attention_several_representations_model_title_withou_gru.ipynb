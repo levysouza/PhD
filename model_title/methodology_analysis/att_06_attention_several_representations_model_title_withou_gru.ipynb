{
 "cells": [
  {
   "cell_type": "code",
   "execution_count": 1,
   "metadata": {},
   "outputs": [],
   "source": [
    "import warnings\n",
    "import numpy as np\n",
    "import pandas as pd\n",
    "from sklearn.model_selection import train_test_split\n",
    "import gensim as gs\n",
    "from tqdm import tqdm\n",
    "import tensorflow as tf\n",
    "import matplotlib.pyplot as plt\n",
    "from nltk.tokenize import TweetTokenizer\n",
    "tknzr = TweetTokenizer()\n",
    "from sklearn.metrics import accuracy_score, precision_score, recall_score, f1_score\n",
    "warnings.filterwarnings('ignore')\n",
    "import fasttext"
   ]
  },
  {
   "cell_type": "code",
   "execution_count": 2,
   "metadata": {},
   "outputs": [],
   "source": [
    "train_dataset = pd.read_csv('../train_data/final_train_dataset', delimiter=',')\n",
    "validation_dataset = pd.read_csv('../train_data/final_validation_dataset', delimiter=',')"
   ]
  },
  {
   "cell_type": "code",
   "execution_count": null,
   "metadata": {},
   "outputs": [],
   "source": []
  },
  {
   "cell_type": "code",
   "execution_count": 3,
   "metadata": {},
   "outputs": [],
   "source": [
    "embedding_model = gs.models.FastText.load('../train_embedding_models/fasttext_embedding_50d_all_signals')"
   ]
  },
  {
   "cell_type": "code",
   "execution_count": null,
   "metadata": {},
   "outputs": [],
   "source": []
  },
  {
   "cell_type": "code",
   "execution_count": 4,
   "metadata": {},
   "outputs": [],
   "source": [
    "MAX_PAD = 31\n",
    "\n",
    "def sequence_padding(X_DIM, value):\n",
    "    \n",
    "    value_padding = np.pad(value, ((0,MAX_PAD - X_DIM),(0,0)), 'constant')\n",
    "    \n",
    "    return value_padding"
   ]
  },
  {
   "cell_type": "code",
   "execution_count": 5,
   "metadata": {},
   "outputs": [],
   "source": [
    "def create_embedding(value):\n",
    "\n",
    "    value = tknzr.tokenize(str(value))\n",
    "    \n",
    "    if len(value) < MAX_PAD:\n",
    "        \n",
    "        embedding = embedding_model.wv[value]\n",
    "        \n",
    "        padding_embedding = sequence_padding(embedding.shape[0],embedding)\n",
    "        \n",
    "        return padding_embedding\n",
    "        \n",
    "    else:\n",
    "        \n",
    "        embedding = embedding_model.wv[value[0:MAX_PAD]]\n",
    "        \n",
    "        return embedding"
   ]
  },
  {
   "cell_type": "code",
   "execution_count": null,
   "metadata": {},
   "outputs": [],
   "source": []
  },
  {
   "cell_type": "code",
   "execution_count": 6,
   "metadata": {},
   "outputs": [
    {
     "name": "stderr",
     "output_type": "stream",
     "text": [
      "169500it [01:14, 2262.37it/s]\n"
     ]
    }
   ],
   "source": [
    "train_article_title = []\n",
    "train_table_title = []\n",
    "train_label = []\n",
    "\n",
    "for i,row in tqdm(train_dataset.iterrows()):\n",
    "    \n",
    "    train_article_title.append(create_embedding(row['article_page_title']))\n",
    "    train_table_title.append(create_embedding(row['table_page_title']))\n",
    "    train_label.append(row['label'])"
   ]
  },
  {
   "cell_type": "code",
   "execution_count": 7,
   "metadata": {},
   "outputs": [],
   "source": [
    "train_article_title = np.array(train_article_title)\n",
    "train_table_title = np.array(train_table_title)\n",
    "train_label = np.array(train_label)"
   ]
  },
  {
   "cell_type": "code",
   "execution_count": 8,
   "metadata": {},
   "outputs": [
    {
     "data": {
      "text/plain": [
       "(169500, 31, 50)"
      ]
     },
     "execution_count": 8,
     "metadata": {},
     "output_type": "execute_result"
    }
   ],
   "source": [
    "train_article_title.shape"
   ]
  },
  {
   "cell_type": "code",
   "execution_count": null,
   "metadata": {},
   "outputs": [],
   "source": []
  },
  {
   "cell_type": "code",
   "execution_count": 9,
   "metadata": {},
   "outputs": [
    {
     "name": "stderr",
     "output_type": "stream",
     "text": [
      "18834it [00:08, 2256.54it/s]\n"
     ]
    }
   ],
   "source": [
    "validation_article_title = []\n",
    "validation_table_title = []\n",
    "validation_label = []\n",
    "\n",
    "for i, row in tqdm(validation_dataset.iterrows()):\n",
    "    \n",
    "    validation_article_title.append(create_embedding(row['article_page_title']))\n",
    "    validation_table_title.append(create_embedding(row['table_page_title']))  \n",
    "    validation_label.append(row['label'])"
   ]
  },
  {
   "cell_type": "code",
   "execution_count": 10,
   "metadata": {},
   "outputs": [],
   "source": [
    "validation_article_title = np.array(validation_article_title)\n",
    "validation_table_title = np.array(validation_table_title)\n",
    "validation_label = np.array(validation_label)"
   ]
  },
  {
   "cell_type": "code",
   "execution_count": 14,
   "metadata": {},
   "outputs": [
    {
     "data": {
      "text/plain": [
       "(18834, 31, 50)"
      ]
     },
     "execution_count": 14,
     "metadata": {},
     "output_type": "execute_result"
    }
   ],
   "source": [
    "validation_article_title.shape"
   ]
  },
  {
   "cell_type": "code",
   "execution_count": 15,
   "metadata": {},
   "outputs": [],
   "source": [
    "def attention_method(query, key, value):\n",
    "    \n",
    "    scores = tf.matmul(query, key, transpose_b=True)\n",
    "    \n",
    "    distribution = tf.nn.softmax(scores)\n",
    "    \n",
    "    attention_matrix = tf.matmul(distribution, value)\n",
    "    \n",
    "    return attention_matrix"
   ]
  },
  {
   "cell_type": "code",
   "execution_count": null,
   "metadata": {},
   "outputs": [],
   "source": []
  },
  {
   "cell_type": "code",
   "execution_count": 16,
   "metadata": {},
   "outputs": [],
   "source": [
    "def attention_model():\n",
    "    \n",
    "    article_title = tf.keras.Input(shape=(31,50), dtype='float32')\n",
    "    table_title = tf.keras.Input(shape=(31,50), dtype='float32')\n",
    "    \n",
    "    context_titleA = tf.keras.layers.Bidirectional(tf.keras.layers.GRU(32, return_sequences=True))(article_title)\n",
    "    context_titleB = tf.keras.layers.Bidirectional(tf.keras.layers.GRU(32, return_sequences=True))(table_title)\n",
    "    \n",
    "    affinity_titleA_titleB = attention_method(context_titleA,context_titleB,context_titleA)\n",
    "    learned_vectorA = tf.keras.layers.Flatten()(affinity_titleA_titleB)\n",
    "    \n",
    "    affinity_embedding_titleA_titleB = attention_method(article_title,table_title,article_title)\n",
    "    context_attention = tf.keras.layers.Bidirectional(tf.keras.layers.GRU(32, return_sequences=True))(affinity_embedding_titleA_titleB)\n",
    "    learned_vectorB = tf.keras.layers.Flatten()(context_attention)\n",
    "    \n",
    "    final_representation = tf.keras.layers.Concatenate()([learned_vectorA,learned_vectorB])\n",
    "   \n",
    "    MLP_input = tf.keras.layers.Dense(64, activation='relu')(final_representation)\n",
    "    dropout1 = tf.keras.layers.Dropout(0.5, name=\"dropout1\")(MLP_input)\n",
    "    MLP_hidden = tf.keras.layers.Dense(32, activation='relu')(dropout1)\n",
    "    dropout2 = tf.keras.layers.Dropout(0.5, name=\"dropout2\")(MLP_hidden)\n",
    "    MLP_output = tf.keras.layers.Dense(1,activation='sigmoid')(dropout2)\n",
    "    \n",
    "    model = tf.keras.Model(inputs=[article_title,table_title],outputs=MLP_output)\n",
    "    \n",
    "    return model"
   ]
  },
  {
   "cell_type": "code",
   "execution_count": 17,
   "metadata": {},
   "outputs": [],
   "source": [
    "model = attention_model()"
   ]
  },
  {
   "cell_type": "code",
   "execution_count": null,
   "metadata": {},
   "outputs": [],
   "source": []
  },
  {
   "cell_type": "code",
   "execution_count": 18,
   "metadata": {},
   "outputs": [],
   "source": [
    "model.compile(loss=\"binary_crossentropy\",optimizer=\"adam\", metrics=['accuracy'])"
   ]
  },
  {
   "cell_type": "code",
   "execution_count": 19,
   "metadata": {},
   "outputs": [],
   "source": [
    "filepath=\"attention_matrix_several_representations_withou_GRU_model_title_{epoch:02d}_{val_accuracy:.4f}.h5\"\n",
    "checkpoint = tf.keras.callbacks.ModelCheckpoint(filepath, monitor='val_accuracy', verbose=1, save_best_only=True, mode='max')\n",
    "callbacks_list = [checkpoint]"
   ]
  },
  {
   "cell_type": "code",
   "execution_count": 20,
   "metadata": {},
   "outputs": [
    {
     "name": "stdout",
     "output_type": "stream",
     "text": [
      "Train on 169500 samples, validate on 18834 samples\n",
      "Epoch 1/20\n",
      "WARNING:tensorflow:From /home/lss9/anaconda3/lib/python3.7/site-packages/tensorflow_core/python/ops/nn_impl.py:183: where (from tensorflow.python.ops.array_ops) is deprecated and will be removed in a future version.\n",
      "Instructions for updating:\n",
      "Use tf.where in 2.0, which has the same broadcast rule as np.where\n",
      "WARNING:tensorflow:Entity <function Function._initialize_uninitialized_variables.<locals>.initialize_variables at 0x7f871940e1e0> could not be transformed and will be executed as-is. Please report this to the AutoGraph team. When filing the bug, set the verbosity to 10 (on Linux, `export AUTOGRAPH_VERBOSITY=10`) and attach the full output. Cause: module 'gast' has no attribute 'Num'\n",
      "WARNING: Entity <function Function._initialize_uninitialized_variables.<locals>.initialize_variables at 0x7f871940e1e0> could not be transformed and will be executed as-is. Please report this to the AutoGraph team. When filing the bug, set the verbosity to 10 (on Linux, `export AUTOGRAPH_VERBOSITY=10`) and attach the full output. Cause: module 'gast' has no attribute 'Num'\n",
      "169472/169500 [============================>.] - ETA: 0s - loss: 0.2855 - accuracy: 0.8864\n",
      "Epoch 00001: val_accuracy improved from -inf to 0.92614, saving model to attention_matrix_several_representations_withou_GRU_model_title_01_0.9261.h5\n",
      "169500/169500 [==============================] - 161s 952us/sample - loss: 0.2855 - accuracy: 0.8864 - val_loss: 0.1934 - val_accuracy: 0.9261\n",
      "Epoch 2/20\n",
      "169440/169500 [============================>.] - ETA: 0s - loss: 0.2025 - accuracy: 0.9232\n",
      "Epoch 00002: val_accuracy improved from 0.92614 to 0.93236, saving model to attention_matrix_several_representations_withou_GRU_model_title_02_0.9324.h5\n",
      "169500/169500 [==============================] - 152s 897us/sample - loss: 0.2025 - accuracy: 0.9232 - val_loss: 0.1760 - val_accuracy: 0.9324\n",
      "Epoch 3/20\n",
      "169440/169500 [============================>.] - ETA: 0s - loss: 0.1807 - accuracy: 0.9319\n",
      "Epoch 00003: val_accuracy did not improve from 0.93236\n",
      "169500/169500 [==============================] - 151s 892us/sample - loss: 0.1808 - accuracy: 0.9319 - val_loss: 0.1681 - val_accuracy: 0.9318\n",
      "Epoch 4/20\n",
      "169472/169500 [============================>.] - ETA: 0s - loss: 0.1650 - accuracy: 0.9375\n",
      "Epoch 00004: val_accuracy did not improve from 0.93236\n",
      "169500/169500 [==============================] - 152s 898us/sample - loss: 0.1650 - accuracy: 0.9375 - val_loss: 0.1675 - val_accuracy: 0.9318\n",
      "Epoch 5/20\n",
      "169472/169500 [============================>.] - ETA: 0s - loss: 0.1529 - accuracy: 0.9417\n",
      "Epoch 00005: val_accuracy improved from 0.93236 to 0.93252, saving model to attention_matrix_several_representations_withou_GRU_model_title_05_0.9325.h5\n",
      "169500/169500 [==============================] - 152s 896us/sample - loss: 0.1529 - accuracy: 0.9417 - val_loss: 0.1762 - val_accuracy: 0.9325\n",
      "Epoch 6/20\n",
      "169472/169500 [============================>.] - ETA: 0s - loss: 0.1428 - accuracy: 0.9452\n",
      "Epoch 00006: val_accuracy improved from 0.93252 to 0.93974, saving model to attention_matrix_several_representations_withou_GRU_model_title_06_0.9397.h5\n",
      "169500/169500 [==============================] - 154s 909us/sample - loss: 0.1428 - accuracy: 0.9452 - val_loss: 0.1622 - val_accuracy: 0.9397\n",
      "Epoch 7/20\n",
      "169472/169500 [============================>.] - ETA: 0s - loss: 0.1339 - accuracy: 0.9482\n",
      "Epoch 00007: val_accuracy did not improve from 0.93974\n",
      "169500/169500 [==============================] - 153s 903us/sample - loss: 0.1339 - accuracy: 0.9482 - val_loss: 0.1660 - val_accuracy: 0.9345\n",
      "Epoch 8/20\n",
      "169440/169500 [============================>.] - ETA: 0s - loss: 0.1275 - accuracy: 0.9508\n",
      "Epoch 00008: val_accuracy did not improve from 0.93974\n",
      "169500/169500 [==============================] - 152s 895us/sample - loss: 0.1275 - accuracy: 0.9508 - val_loss: 0.1720 - val_accuracy: 0.9379\n",
      "Epoch 9/20\n",
      "169472/169500 [============================>.] - ETA: 0s - loss: 0.1195 - accuracy: 0.9537\n",
      "Epoch 00009: val_accuracy did not improve from 0.93974\n",
      "169500/169500 [==============================] - 151s 892us/sample - loss: 0.1195 - accuracy: 0.9537 - val_loss: 0.1768 - val_accuracy: 0.9384\n",
      "Epoch 10/20\n",
      "169408/169500 [============================>.] - ETA: 0s - loss: 0.1139 - accuracy: 0.9550\n",
      "Epoch 00010: val_accuracy did not improve from 0.93974\n",
      "169500/169500 [==============================] - 152s 898us/sample - loss: 0.1139 - accuracy: 0.9550 - val_loss: 0.1905 - val_accuracy: 0.9375\n",
      "Epoch 11/20\n",
      "169472/169500 [============================>.] - ETA: 0s - loss: 0.1079 - accuracy: 0.9570\n",
      "Epoch 00011: val_accuracy did not improve from 0.93974\n",
      "169500/169500 [==============================] - 151s 893us/sample - loss: 0.1079 - accuracy: 0.9570 - val_loss: 0.2008 - val_accuracy: 0.9369\n",
      "Epoch 12/20\n",
      "169440/169500 [============================>.] - ETA: 0s - loss: 0.1033 - accuracy: 0.9588\n",
      "Epoch 00012: val_accuracy did not improve from 0.93974\n",
      "169500/169500 [==============================] - 151s 893us/sample - loss: 0.1034 - accuracy: 0.9588 - val_loss: 0.2029 - val_accuracy: 0.9383\n",
      "Epoch 13/20\n",
      "169440/169500 [============================>.] - ETA: 0s - loss: 0.0984 - accuracy: 0.9605\n",
      "Epoch 00013: val_accuracy did not improve from 0.93974\n",
      "169500/169500 [==============================] - 152s 897us/sample - loss: 0.0984 - accuracy: 0.9605 - val_loss: 0.2179 - val_accuracy: 0.9373\n",
      "Epoch 14/20\n",
      "169472/169500 [============================>.] - ETA: 0s - loss: 0.0939 - accuracy: 0.9619\n",
      "Epoch 00014: val_accuracy did not improve from 0.93974\n",
      "169500/169500 [==============================] - 152s 896us/sample - loss: 0.0939 - accuracy: 0.9619 - val_loss: 0.2378 - val_accuracy: 0.9352\n",
      "Epoch 15/20\n",
      "169440/169500 [============================>.] - ETA: 0s - loss: 0.0899 - accuracy: 0.9633\n",
      "Epoch 00015: val_accuracy did not improve from 0.93974\n",
      "169500/169500 [==============================] - 152s 898us/sample - loss: 0.0899 - accuracy: 0.9633 - val_loss: 0.2345 - val_accuracy: 0.9367\n",
      "Epoch 16/20\n",
      "169472/169500 [============================>.] - ETA: 0s - loss: 0.0867 - accuracy: 0.9650\n",
      "Epoch 00016: val_accuracy did not improve from 0.93974\n",
      "169500/169500 [==============================] - 151s 894us/sample - loss: 0.0866 - accuracy: 0.9650 - val_loss: 0.2209 - val_accuracy: 0.9381\n",
      "Epoch 17/20\n",
      "169408/169500 [============================>.] - ETA: 0s - loss: 0.0824 - accuracy: 0.9661\n",
      "Epoch 00017: val_accuracy did not improve from 0.93974\n",
      "169500/169500 [==============================] - 142s 836us/sample - loss: 0.0825 - accuracy: 0.9661 - val_loss: 0.2374 - val_accuracy: 0.9359\n",
      "Epoch 18/20\n",
      "169440/169500 [============================>.] - ETA: 0s - loss: 0.0798 - accuracy: 0.9669\n",
      "Epoch 00018: val_accuracy did not improve from 0.93974\n",
      "169500/169500 [==============================] - 111s 655us/sample - loss: 0.0799 - accuracy: 0.9669 - val_loss: 0.2740 - val_accuracy: 0.9339\n",
      "Epoch 19/20\n",
      "169440/169500 [============================>.] - ETA: 0s - loss: 0.0769 - accuracy: 0.9681\n",
      "Epoch 00019: val_accuracy did not improve from 0.93974\n",
      "169500/169500 [==============================] - 121s 712us/sample - loss: 0.0769 - accuracy: 0.9681 - val_loss: 0.2417 - val_accuracy: 0.9350\n",
      "Epoch 20/20\n",
      "169440/169500 [============================>.] - ETA: 0s - loss: 0.0746 - accuracy: 0.9689\n",
      "Epoch 00020: val_accuracy did not improve from 0.93974\n",
      "169500/169500 [==============================] - 121s 711us/sample - loss: 0.0746 - accuracy: 0.9689 - val_loss: 0.2982 - val_accuracy: 0.9356\n"
     ]
    }
   ],
   "source": [
    "history = model.fit([train_article_title, train_table_title], train_label, \n",
    "          epochs=20, \n",
    "          batch_size=32, \n",
    "          validation_data=([validation_article_title, validation_table_title], validation_label),\n",
    "          callbacks=callbacks_list)"
   ]
  },
  {
   "cell_type": "code",
   "execution_count": null,
   "metadata": {},
   "outputs": [],
   "source": []
  },
  {
   "cell_type": "code",
   "execution_count": null,
   "metadata": {},
   "outputs": [],
   "source": []
  },
  {
   "cell_type": "code",
   "execution_count": null,
   "metadata": {},
   "outputs": [],
   "source": [
    "# summarize history for accuracy\n",
    "plt.plot(history.history['accuracy'])\n",
    "plt.plot(history.history['val_accuracy'])\n",
    "plt.title('model accuracy')\n",
    "plt.ylabel('accuracy')\n",
    "plt.xlabel('epoch')\n",
    "plt.legend(['train', 'validation'], loc='upper left')\n",
    "plt.show()"
   ]
  },
  {
   "cell_type": "code",
   "execution_count": null,
   "metadata": {},
   "outputs": [],
   "source": [
    "# summarize history for loss\n",
    "plt.plot(history.history['loss'])\n",
    "plt.plot(history.history['val_loss'])\n",
    "plt.title('model loss')\n",
    "plt.ylabel('loss')\n",
    "plt.xlabel('epoch')\n",
    "plt.legend(['train', 'validation'], loc='upper left')\n",
    "plt.show()"
   ]
  },
  {
   "cell_type": "code",
   "execution_count": null,
   "metadata": {},
   "outputs": [],
   "source": []
  },
  {
   "cell_type": "code",
   "execution_count": null,
   "metadata": {},
   "outputs": [],
   "source": [
    "model = tf.keras.models.load_model('affinity_model_train_cossine.h5')"
   ]
  },
  {
   "cell_type": "code",
   "execution_count": null,
   "metadata": {},
   "outputs": [],
   "source": [
    "y_prob = model.predict([validation_article_title,validation_table_title])\n",
    "y_predict = (y_prob > 0.5).astype(np.int)\n",
    "accuracy_score(validation_label, y_predict)"
   ]
  },
  {
   "cell_type": "code",
   "execution_count": null,
   "metadata": {},
   "outputs": [],
   "source": []
  },
  {
   "cell_type": "code",
   "execution_count": null,
   "metadata": {},
   "outputs": [],
   "source": [
    "import seaborn as sns\n",
    "import sklearn.metrics\n",
    "confusion_matrix = sklearn.metrics.confusion_matrix(validation_label, y_predict)\n",
    "\n",
    "plt.figure(figsize=(10, 8))\n",
    "sns.heatmap(confusion_matrix, annot=True, fmt=\"d\", cmap=\"YlGnBu\")#, annot_kws={\"size\": 15});\n",
    "plt.title(\"Confusion matrix\")\n",
    "plt.ylabel('True label')\n",
    "plt.xlabel('Predict label')\n",
    "plt.show()"
   ]
  },
  {
   "cell_type": "code",
   "execution_count": null,
   "metadata": {},
   "outputs": [],
   "source": []
  },
  {
   "cell_type": "code",
   "execution_count": null,
   "metadata": {},
   "outputs": [],
   "source": []
  }
 ],
 "metadata": {
  "kernelspec": {
   "display_name": "Python 3",
   "language": "python",
   "name": "python3"
  },
  "language_info": {
   "codemirror_mode": {
    "name": "ipython",
    "version": 3
   },
   "file_extension": ".py",
   "mimetype": "text/x-python",
   "name": "python",
   "nbconvert_exporter": "python",
   "pygments_lexer": "ipython3",
   "version": "3.7.3"
  }
 },
 "nbformat": 4,
 "nbformat_minor": 2
}
