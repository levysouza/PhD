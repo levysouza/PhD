{
 "cells": [
  {
   "cell_type": "code",
   "execution_count": 1,
   "metadata": {},
   "outputs": [],
   "source": [
    "import warnings\n",
    "import numpy as np\n",
    "import pandas as pd\n",
    "from sklearn.model_selection import train_test_split\n",
    "import gensim as gs\n",
    "from tqdm import tqdm\n",
    "import tensorflow as tf\n",
    "import matplotlib.pyplot as plt\n",
    "from nltk.tokenize import TweetTokenizer\n",
    "tknzr = TweetTokenizer()\n",
    "from sklearn.metrics import accuracy_score, precision_score, recall_score, f1_score\n",
    "warnings.filterwarnings('ignore')\n",
    "import fasttext"
   ]
  },
  {
   "cell_type": "code",
   "execution_count": 2,
   "metadata": {},
   "outputs": [],
   "source": [
    "train_dataset = pd.read_csv('../train_data/final_train_dataset', delimiter=',')\n",
    "validation_dataset = pd.read_csv('../train_data/final_validation_dataset', delimiter=',')"
   ]
  },
  {
   "cell_type": "code",
   "execution_count": null,
   "metadata": {},
   "outputs": [],
   "source": []
  },
  {
   "cell_type": "code",
   "execution_count": 3,
   "metadata": {},
   "outputs": [],
   "source": [
    "embedding_model = gs.models.FastText.load('../train_embedding_models/fasttext_embedding_50d_all_signals')"
   ]
  },
  {
   "cell_type": "code",
   "execution_count": null,
   "metadata": {},
   "outputs": [],
   "source": []
  },
  {
   "cell_type": "code",
   "execution_count": 4,
   "metadata": {},
   "outputs": [],
   "source": [
    "MAX_PAD = 31\n",
    "\n",
    "def sequence_padding(X_DIM, value):\n",
    "    \n",
    "    value_padding = np.pad(value, ((0,MAX_PAD - X_DIM),(0,0)), 'constant')\n",
    "    \n",
    "    return value_padding"
   ]
  },
  {
   "cell_type": "code",
   "execution_count": 5,
   "metadata": {},
   "outputs": [],
   "source": [
    "def create_embedding(value):\n",
    "\n",
    "    value = tknzr.tokenize(str(value))\n",
    "    \n",
    "    if len(value) < MAX_PAD:\n",
    "        \n",
    "        embedding = embedding_model.wv[value]\n",
    "        \n",
    "        padding_embedding = sequence_padding(embedding.shape[0],embedding)\n",
    "        \n",
    "        return padding_embedding\n",
    "        \n",
    "    else:\n",
    "        \n",
    "        embedding = embedding_model.wv[value[0:MAX_PAD]]\n",
    "        \n",
    "        return embedding"
   ]
  },
  {
   "cell_type": "code",
   "execution_count": null,
   "metadata": {},
   "outputs": [],
   "source": []
  },
  {
   "cell_type": "code",
   "execution_count": 6,
   "metadata": {},
   "outputs": [
    {
     "name": "stderr",
     "output_type": "stream",
     "text": [
      "169500it [01:01, 2735.72it/s]\n"
     ]
    }
   ],
   "source": [
    "train_article_title = []\n",
    "train_table_title = []\n",
    "train_label = []\n",
    "\n",
    "for i,row in tqdm(train_dataset.iterrows()):\n",
    "    \n",
    "    train_article_title.append(create_embedding(row['article_page_title']))\n",
    "    train_table_title.append(create_embedding(row['table_page_title']))\n",
    "    train_label.append(row['label'])"
   ]
  },
  {
   "cell_type": "code",
   "execution_count": 7,
   "metadata": {},
   "outputs": [],
   "source": [
    "train_article_title = np.array(train_article_title)\n",
    "train_table_title = np.array(train_table_title)\n",
    "train_label = np.array(train_label)"
   ]
  },
  {
   "cell_type": "code",
   "execution_count": 8,
   "metadata": {},
   "outputs": [
    {
     "data": {
      "text/plain": [
       "(169500, 31, 50)"
      ]
     },
     "execution_count": 8,
     "metadata": {},
     "output_type": "execute_result"
    }
   ],
   "source": [
    "train_article_title.shape"
   ]
  },
  {
   "cell_type": "code",
   "execution_count": null,
   "metadata": {},
   "outputs": [],
   "source": []
  },
  {
   "cell_type": "code",
   "execution_count": 9,
   "metadata": {},
   "outputs": [
    {
     "name": "stderr",
     "output_type": "stream",
     "text": [
      "18834it [00:06, 2733.05it/s]\n"
     ]
    }
   ],
   "source": [
    "validation_article_title = []\n",
    "validation_table_title = []\n",
    "validation_label = []\n",
    "\n",
    "for i, row in tqdm(validation_dataset.iterrows()):\n",
    "    \n",
    "    validation_article_title.append(create_embedding(row['article_page_title']))\n",
    "    validation_table_title.append(create_embedding(row['table_page_title']))  \n",
    "    validation_label.append(row['label'])"
   ]
  },
  {
   "cell_type": "code",
   "execution_count": 10,
   "metadata": {},
   "outputs": [],
   "source": [
    "validation_article_title = np.array(validation_article_title)\n",
    "validation_table_title = np.array(validation_table_title)\n",
    "validation_label = np.array(validation_label)"
   ]
  },
  {
   "cell_type": "code",
   "execution_count": 11,
   "metadata": {},
   "outputs": [
    {
     "data": {
      "text/plain": [
       "(18834, 31, 50)"
      ]
     },
     "execution_count": 11,
     "metadata": {},
     "output_type": "execute_result"
    }
   ],
   "source": [
    "validation_article_title.shape"
   ]
  },
  {
   "cell_type": "code",
   "execution_count": 12,
   "metadata": {},
   "outputs": [],
   "source": [
    "def coattention_method(query, key, value):\n",
    "    \n",
    "    scores = tf.matmul(query, key, transpose_b=True)\n",
    "    \n",
    "    distribution = tf.nn.softmax(scores)\n",
    "    \n",
    "    attention_matrix = tf.matmul(distribution, value)\n",
    "    \n",
    "    return attention_matrix"
   ]
  },
  {
   "cell_type": "code",
   "execution_count": null,
   "metadata": {},
   "outputs": [],
   "source": []
  },
  {
   "cell_type": "code",
   "execution_count": 13,
   "metadata": {},
   "outputs": [],
   "source": [
    "def attention_model():\n",
    "    \n",
    "    article_title = tf.keras.Input(shape=(31,50), dtype='float32')\n",
    "    table_title = tf.keras.Input(shape=(31,50), dtype='float32')\n",
    "    \n",
    "    \n",
    "    affinity_titleA_titleB = coattention_method(article_title,table_title,article_title)\n",
    "    affinity_titleB_titleA = coattention_method(table_title,article_title,table_title)\n",
    "    \n",
    "    context_coattentionA = tf.keras.layers.Bidirectional(tf.keras.layers.GRU(32, return_sequences=True))(affinity_titleA_titleB)\n",
    "    context_coattentionB = tf.keras.layers.Bidirectional(tf.keras.layers.GRU(32, return_sequences=True))(affinity_titleB_titleA)\n",
    "    \n",
    "    learned_vector1 = tf.keras.layers.Flatten()(context_coattentionA)\n",
    "    learned_vector2 = tf.keras.layers.Flatten()(context_coattentionB)\n",
    "    \n",
    "    \n",
    "    context_titleA = tf.keras.layers.Bidirectional(tf.keras.layers.GRU(32, return_sequences=True))(article_title)\n",
    "    context_titleB = tf.keras.layers.Bidirectional(tf.keras.layers.GRU(32, return_sequences=True))(table_title)\n",
    "    \n",
    "    affinity1_titleA_titleB = coattention_method(context_titleA,context_titleB,context_titleA)\n",
    "    affinity1_titleB_titleA = coattention_method(context_titleB,context_titleA,context_titleB)\n",
    "    \n",
    "    context2_coattentionA = tf.keras.layers.Bidirectional(tf.keras.layers.GRU(32, return_sequences=True))(affinity1_titleA_titleB)\n",
    "    context2_coattentionB = tf.keras.layers.Bidirectional(tf.keras.layers.GRU(32, return_sequences=True))(affinity1_titleB_titleA)\n",
    "    \n",
    "    learned_vector3 = tf.keras.layers.Flatten()(context2_coattentionA)\n",
    "    learned_vector4 = tf.keras.layers.Flatten()(context2_coattentionB)\n",
    "    \n",
    "    final_vector = tf.keras.layers.Concatenate()([learned_vector1,learned_vector2,learned_vector3,learned_vector4])\n",
    "    \n",
    "    MLP_input = tf.keras.layers.Dense(64, activation='relu')(final_vector)\n",
    "    dropout1 = tf.keras.layers.Dropout(0.5, name=\"dropout1\")(MLP_input)\n",
    "    MLP_hidden = tf.keras.layers.Dense(32, activation='relu')(dropout1)\n",
    "    dropout2 = tf.keras.layers.Dropout(0.5, name=\"dropout2\")(MLP_hidden)\n",
    "    MLP_output = tf.keras.layers.Dense(1,activation='sigmoid')(dropout2)\n",
    "    \n",
    "    model = tf.keras.Model(inputs=[article_title,table_title],outputs=MLP_output)\n",
    "    \n",
    "    return model"
   ]
  },
  {
   "cell_type": "code",
   "execution_count": 14,
   "metadata": {},
   "outputs": [],
   "source": [
    "model = attention_model()"
   ]
  },
  {
   "cell_type": "code",
   "execution_count": null,
   "metadata": {},
   "outputs": [],
   "source": []
  },
  {
   "cell_type": "code",
   "execution_count": 15,
   "metadata": {},
   "outputs": [],
   "source": [
    "model.compile(loss=\"binary_crossentropy\",optimizer=\"adam\", metrics=['accuracy'])"
   ]
  },
  {
   "cell_type": "code",
   "execution_count": 16,
   "metadata": {},
   "outputs": [],
   "source": [
    "filepath=\"coattention_several_spaces_model_title_{epoch:02d}_{val_accuracy:.4f}.h5\"\n",
    "checkpoint = tf.keras.callbacks.ModelCheckpoint(filepath, monitor='val_accuracy', verbose=1, save_best_only=True, mode='max')\n",
    "callbacks_list = [checkpoint]"
   ]
  },
  {
   "cell_type": "code",
   "execution_count": 17,
   "metadata": {},
   "outputs": [
    {
     "name": "stdout",
     "output_type": "stream",
     "text": [
      "Train on 169500 samples, validate on 18834 samples\n",
      "Epoch 1/10\n",
      "WARNING:tensorflow:From /home/lss9/anaconda3/lib/python3.7/site-packages/tensorflow_core/python/ops/nn_impl.py:183: where (from tensorflow.python.ops.array_ops) is deprecated and will be removed in a future version.\n",
      "Instructions for updating:\n",
      "Use tf.where in 2.0, which has the same broadcast rule as np.where\n",
      "WARNING:tensorflow:Entity <function Function._initialize_uninitialized_variables.<locals>.initialize_variables at 0x7f949c097ea0> could not be transformed and will be executed as-is. Please report this to the AutoGraph team. When filing the bug, set the verbosity to 10 (on Linux, `export AUTOGRAPH_VERBOSITY=10`) and attach the full output. Cause: module 'gast' has no attribute 'Num'\n",
      "WARNING: Entity <function Function._initialize_uninitialized_variables.<locals>.initialize_variables at 0x7f949c097ea0> could not be transformed and will be executed as-is. Please report this to the AutoGraph team. When filing the bug, set the verbosity to 10 (on Linux, `export AUTOGRAPH_VERBOSITY=10`) and attach the full output. Cause: module 'gast' has no attribute 'Num'\n",
      "169440/169500 [============================>.] - ETA: 0s - loss: 0.3210 - accuracy: 0.8719\n",
      "Epoch 00001: val_accuracy improved from -inf to 0.91866, saving model to coattention_several_spaces_model_title_01_0.9187.h5\n",
      "169500/169500 [==============================] - 184s 1ms/sample - loss: 0.3210 - accuracy: 0.8719 - val_loss: 0.2064 - val_accuracy: 0.9187\n",
      "Epoch 2/10\n",
      "169472/169500 [============================>.] - ETA: 0s - loss: 0.2079 - accuracy: 0.9228\n",
      "Epoch 00002: val_accuracy improved from 0.91866 to 0.93358, saving model to coattention_several_spaces_model_title_02_0.9336.h5\n",
      "169500/169500 [==============================] - 183s 1ms/sample - loss: 0.2079 - accuracy: 0.9228 - val_loss: 0.1684 - val_accuracy: 0.9336\n",
      "Epoch 3/10\n",
      "169472/169500 [============================>.] - ETA: 0s - loss: 0.1790 - accuracy: 0.9337\n",
      "Epoch 00003: val_accuracy improved from 0.93358 to 0.93565, saving model to coattention_several_spaces_model_title_03_0.9356.h5\n",
      "169500/169500 [==============================] - 240s 1ms/sample - loss: 0.1790 - accuracy: 0.9338 - val_loss: 0.1640 - val_accuracy: 0.9356\n",
      "Epoch 4/10\n",
      "169472/169500 [============================>.] - ETA: 0s - loss: 0.1619 - accuracy: 0.9390\n",
      "Epoch 00004: val_accuracy did not improve from 0.93565\n",
      "169500/169500 [==============================] - 282s 2ms/sample - loss: 0.1619 - accuracy: 0.9390 - val_loss: 0.1662 - val_accuracy: 0.9335\n",
      "Epoch 5/10\n",
      "169472/169500 [============================>.] - ETA: 0s - loss: 0.1491 - accuracy: 0.9429\n",
      "Epoch 00005: val_accuracy improved from 0.93565 to 0.93836, saving model to coattention_several_spaces_model_title_05_0.9384.h5\n",
      "169500/169500 [==============================] - 282s 2ms/sample - loss: 0.1491 - accuracy: 0.9429 - val_loss: 0.1572 - val_accuracy: 0.9384\n",
      "Epoch 6/10\n",
      "169440/169500 [============================>.] - ETA: 0s - loss: 0.1389 - accuracy: 0.9463\n",
      "Epoch 00006: val_accuracy improved from 0.93836 to 0.93910, saving model to coattention_several_spaces_model_title_06_0.9391.h5\n",
      "169500/169500 [==============================] - 282s 2ms/sample - loss: 0.1389 - accuracy: 0.9463 - val_loss: 0.1586 - val_accuracy: 0.9391\n",
      "Epoch 7/10\n",
      "169472/169500 [============================>.] - ETA: 0s - loss: 0.1307 - accuracy: 0.9489\n",
      "Epoch 00007: val_accuracy did not improve from 0.93910\n",
      "169500/169500 [==============================] - 281s 2ms/sample - loss: 0.1307 - accuracy: 0.9489 - val_loss: 0.1611 - val_accuracy: 0.9359\n",
      "Epoch 8/10\n",
      "169440/169500 [============================>.] - ETA: 0s - loss: 0.1235 - accuracy: 0.9516\n",
      "Epoch 00008: val_accuracy improved from 0.93910 to 0.93921, saving model to coattention_several_spaces_model_title_08_0.9392.h5\n",
      "169500/169500 [==============================] - 194s 1ms/sample - loss: 0.1235 - accuracy: 0.9516 - val_loss: 0.1670 - val_accuracy: 0.9392\n",
      "Epoch 9/10\n",
      "169440/169500 [============================>.] - ETA: 0s - loss: 0.1156 - accuracy: 0.9538\n",
      "Epoch 00009: val_accuracy did not improve from 0.93921\n",
      "169500/169500 [==============================] - 227s 1ms/sample - loss: 0.1156 - accuracy: 0.9538 - val_loss: 0.1724 - val_accuracy: 0.9363\n",
      "Epoch 10/10\n",
      "169472/169500 [============================>.] - ETA: 0s - loss: 0.1101 - accuracy: 0.9561\n",
      "Epoch 00010: val_accuracy improved from 0.93921 to 0.94032, saving model to coattention_several_spaces_model_title_10_0.9403.h5\n",
      "169500/169500 [==============================] - 241s 1ms/sample - loss: 0.1101 - accuracy: 0.9561 - val_loss: 0.1910 - val_accuracy: 0.9403\n"
     ]
    }
   ],
   "source": [
    "history = model.fit([train_article_title, train_table_title], train_label, \n",
    "          epochs=10, \n",
    "          batch_size=32, \n",
    "          validation_data=([validation_article_title, validation_table_title], validation_label),\n",
    "          callbacks=callbacks_list)"
   ]
  },
  {
   "cell_type": "code",
   "execution_count": null,
   "metadata": {},
   "outputs": [],
   "source": []
  },
  {
   "cell_type": "code",
   "execution_count": null,
   "metadata": {},
   "outputs": [],
   "source": []
  },
  {
   "cell_type": "code",
   "execution_count": null,
   "metadata": {},
   "outputs": [],
   "source": [
    "# summarize history for accuracy\n",
    "plt.plot(history.history['accuracy'])\n",
    "plt.plot(history.history['val_accuracy'])\n",
    "plt.title('model accuracy')\n",
    "plt.ylabel('accuracy')\n",
    "plt.xlabel('epoch')\n",
    "plt.legend(['train', 'validation'], loc='upper left')\n",
    "plt.show()"
   ]
  },
  {
   "cell_type": "code",
   "execution_count": null,
   "metadata": {},
   "outputs": [],
   "source": [
    "# summarize history for loss\n",
    "plt.plot(history.history['loss'])\n",
    "plt.plot(history.history['val_loss'])\n",
    "plt.title('model loss')\n",
    "plt.ylabel('loss')\n",
    "plt.xlabel('epoch')\n",
    "plt.legend(['train', 'validation'], loc='upper left')\n",
    "plt.show()"
   ]
  },
  {
   "cell_type": "code",
   "execution_count": null,
   "metadata": {},
   "outputs": [],
   "source": []
  },
  {
   "cell_type": "code",
   "execution_count": null,
   "metadata": {},
   "outputs": [],
   "source": [
    "model = tf.keras.models.load_model('affinity_model_train_cossine.h5')"
   ]
  },
  {
   "cell_type": "code",
   "execution_count": null,
   "metadata": {},
   "outputs": [],
   "source": [
    "y_prob = model.predict([validation_article_title,validation_table_title])\n",
    "y_predict = (y_prob > 0.5).astype(np.int)\n",
    "accuracy_score(validation_label, y_predict)"
   ]
  },
  {
   "cell_type": "code",
   "execution_count": null,
   "metadata": {},
   "outputs": [],
   "source": []
  },
  {
   "cell_type": "code",
   "execution_count": null,
   "metadata": {},
   "outputs": [],
   "source": [
    "import seaborn as sns\n",
    "import sklearn.metrics\n",
    "confusion_matrix = sklearn.metrics.confusion_matrix(validation_label, y_predict)\n",
    "\n",
    "plt.figure(figsize=(10, 8))\n",
    "sns.heatmap(confusion_matrix, annot=True, fmt=\"d\", cmap=\"YlGnBu\")#, annot_kws={\"size\": 15});\n",
    "plt.title(\"Confusion matrix\")\n",
    "plt.ylabel('True label')\n",
    "plt.xlabel('Predict label')\n",
    "plt.show()"
   ]
  },
  {
   "cell_type": "code",
   "execution_count": null,
   "metadata": {},
   "outputs": [],
   "source": []
  },
  {
   "cell_type": "code",
   "execution_count": null,
   "metadata": {},
   "outputs": [],
   "source": []
  }
 ],
 "metadata": {
  "kernelspec": {
   "display_name": "Python 3",
   "language": "python",
   "name": "python3"
  },
  "language_info": {
   "codemirror_mode": {
    "name": "ipython",
    "version": 3
   },
   "file_extension": ".py",
   "mimetype": "text/x-python",
   "name": "python",
   "nbconvert_exporter": "python",
   "pygments_lexer": "ipython3",
   "version": "3.7.3"
  }
 },
 "nbformat": 4,
 "nbformat_minor": 2
}
