{
 "cells": [
  {
   "cell_type": "code",
   "execution_count": 1,
   "metadata": {},
   "outputs": [],
   "source": [
    "import warnings\n",
    "import numpy as np\n",
    "import pandas as pd\n",
    "from sklearn.model_selection import train_test_split\n",
    "import gensim as gs\n",
    "from tqdm import tqdm\n",
    "import tensorflow as tf\n",
    "import matplotlib.pyplot as plt\n",
    "from nltk.tokenize import TweetTokenizer\n",
    "tknzr = TweetTokenizer()\n",
    "from sklearn.metrics import accuracy_score, precision_score, recall_score, f1_score\n",
    "warnings.filterwarnings('ignore')\n",
    "import fasttext"
   ]
  },
  {
   "cell_type": "code",
   "execution_count": 2,
   "metadata": {},
   "outputs": [],
   "source": [
    "train_dataset = pd.read_csv('../train_data/final_train_dataset', delimiter=',')\n",
    "validation_dataset = pd.read_csv('../train_data/final_validation_dataset', delimiter=',')"
   ]
  },
  {
   "cell_type": "code",
   "execution_count": null,
   "metadata": {},
   "outputs": [],
   "source": []
  },
  {
   "cell_type": "code",
   "execution_count": 3,
   "metadata": {},
   "outputs": [],
   "source": [
    "embedding_model = gs.models.FastText.load('../train_embedding_models/fasttext_embedding_50d_all_signals')"
   ]
  },
  {
   "cell_type": "code",
   "execution_count": null,
   "metadata": {},
   "outputs": [],
   "source": []
  },
  {
   "cell_type": "code",
   "execution_count": 4,
   "metadata": {},
   "outputs": [],
   "source": [
    "MAX_PAD = 31\n",
    "\n",
    "def sequence_padding(X_DIM, value):\n",
    "    \n",
    "    value_padding = np.pad(value, ((0,MAX_PAD - X_DIM),(0,0)), 'constant')\n",
    "    \n",
    "    return value_padding"
   ]
  },
  {
   "cell_type": "code",
   "execution_count": 5,
   "metadata": {},
   "outputs": [],
   "source": [
    "def create_embedding(value):\n",
    "\n",
    "    value = tknzr.tokenize(str(value))\n",
    "    \n",
    "    if len(value) < MAX_PAD:\n",
    "        \n",
    "        embedding = embedding_model.wv[value]\n",
    "        \n",
    "        padding_embedding = sequence_padding(embedding.shape[0],embedding)\n",
    "        \n",
    "        return padding_embedding\n",
    "        \n",
    "    else:\n",
    "        \n",
    "        embedding = embedding_model.wv[value[0:MAX_PAD]]\n",
    "        \n",
    "        return embedding"
   ]
  },
  {
   "cell_type": "code",
   "execution_count": null,
   "metadata": {},
   "outputs": [],
   "source": []
  },
  {
   "cell_type": "code",
   "execution_count": 6,
   "metadata": {},
   "outputs": [
    {
     "name": "stderr",
     "output_type": "stream",
     "text": [
      "169500it [01:11, 2361.26it/s]\n"
     ]
    }
   ],
   "source": [
    "train_article_title = []\n",
    "train_table_title = []\n",
    "train_label = []\n",
    "\n",
    "for i,row in tqdm(train_dataset.iterrows()):\n",
    "    \n",
    "    train_article_title.append(create_embedding(row['article_page_title']))\n",
    "    train_table_title.append(create_embedding(row['table_page_title']))\n",
    "    train_label.append(row['label'])"
   ]
  },
  {
   "cell_type": "code",
   "execution_count": 7,
   "metadata": {},
   "outputs": [],
   "source": [
    "train_article_title = np.array(train_article_title)\n",
    "train_table_title = np.array(train_table_title)\n",
    "train_label = np.array(train_label)"
   ]
  },
  {
   "cell_type": "code",
   "execution_count": 8,
   "metadata": {},
   "outputs": [
    {
     "data": {
      "text/plain": [
       "(169500, 31, 50)"
      ]
     },
     "execution_count": 8,
     "metadata": {},
     "output_type": "execute_result"
    }
   ],
   "source": [
    "train_article_title.shape"
   ]
  },
  {
   "cell_type": "code",
   "execution_count": null,
   "metadata": {},
   "outputs": [],
   "source": []
  },
  {
   "cell_type": "code",
   "execution_count": 9,
   "metadata": {},
   "outputs": [
    {
     "name": "stderr",
     "output_type": "stream",
     "text": [
      "18834it [00:08, 2342.20it/s]\n"
     ]
    }
   ],
   "source": [
    "validation_article_title = []\n",
    "validation_table_title = []\n",
    "validation_label = []\n",
    "\n",
    "for i, row in tqdm(validation_dataset.iterrows()):\n",
    "    \n",
    "    validation_article_title.append(create_embedding(row['article_page_title']))\n",
    "    validation_table_title.append(create_embedding(row['table_page_title']))  \n",
    "    validation_label.append(row['label'])"
   ]
  },
  {
   "cell_type": "code",
   "execution_count": 10,
   "metadata": {},
   "outputs": [],
   "source": [
    "validation_article_title = np.array(validation_article_title)\n",
    "validation_table_title = np.array(validation_table_title)\n",
    "validation_label = np.array(validation_label)"
   ]
  },
  {
   "cell_type": "code",
   "execution_count": 11,
   "metadata": {},
   "outputs": [
    {
     "data": {
      "text/plain": [
       "(18834, 31, 50)"
      ]
     },
     "execution_count": 11,
     "metadata": {},
     "output_type": "execute_result"
    }
   ],
   "source": [
    "validation_article_title.shape"
   ]
  },
  {
   "cell_type": "code",
   "execution_count": 12,
   "metadata": {},
   "outputs": [],
   "source": [
    "def coattention_method(query, key, value):\n",
    "    \n",
    "    scores = tf.matmul(query, key, transpose_b=True)\n",
    "    \n",
    "    distribution = tf.nn.softmax(scores)\n",
    "    \n",
    "    attention_matrix = tf.matmul(distribution, value)\n",
    "    \n",
    "    return attention_matrix"
   ]
  },
  {
   "cell_type": "code",
   "execution_count": null,
   "metadata": {},
   "outputs": [],
   "source": []
  },
  {
   "cell_type": "code",
   "execution_count": 13,
   "metadata": {},
   "outputs": [],
   "source": [
    "def attention_model():\n",
    "    \n",
    "    article_title = tf.keras.Input(shape=(31,50), dtype='float32')\n",
    "    table_title = tf.keras.Input(shape=(31,50), dtype='float32')\n",
    "    \n",
    "    affinity_titleA_titleB = coattention_method(article_title,table_title,article_title)\n",
    "    affinity_titleB_titleA = coattention_method(table_title,article_title,table_title)\n",
    "    \n",
    "    context_affinity_AB = tf.keras.layers.Bidirectional(tf.keras.layers.GRU(32, return_sequences=True))(affinity_titleA_titleB)\n",
    "    context_affinity_BA = tf.keras.layers.Bidirectional(tf.keras.layers.GRU(32, return_sequences=True))(affinity_titleB_titleA)\n",
    "    \n",
    "    learned_vector1 = tf.keras.layers.Flatten()(context_affinity_AB)\n",
    "    learned_vector2 = tf.keras.layers.Flatten()(context_affinity_BA)\n",
    "    \n",
    "    final_vector = tf.keras.layers.Concatenate()([learned_vector1,learned_vector2])\n",
    "   \n",
    "    MLP_input = tf.keras.layers.Dense(64, activation='relu')(final_vector)\n",
    "    dropout1 = tf.keras.layers.Dropout(0.5, name=\"dropout1\")(MLP_input)\n",
    "    MLP_hidden = tf.keras.layers.Dense(32, activation='relu')(dropout1)\n",
    "    dropout2 = tf.keras.layers.Dropout(0.5, name=\"dropout2\")(MLP_hidden)\n",
    "    MLP_output = tf.keras.layers.Dense(1,activation='sigmoid')(dropout2)\n",
    "    \n",
    "    model = tf.keras.Model(inputs=[article_title,table_title],outputs=MLP_output)\n",
    "    \n",
    "    return model"
   ]
  },
  {
   "cell_type": "code",
   "execution_count": 14,
   "metadata": {},
   "outputs": [],
   "source": [
    "model = attention_model()"
   ]
  },
  {
   "cell_type": "code",
   "execution_count": null,
   "metadata": {},
   "outputs": [],
   "source": []
  },
  {
   "cell_type": "code",
   "execution_count": 15,
   "metadata": {},
   "outputs": [],
   "source": [
    "model.compile(loss=\"binary_crossentropy\",optimizer=\"adam\", metrics=['accuracy'])"
   ]
  },
  {
   "cell_type": "code",
   "execution_count": 16,
   "metadata": {},
   "outputs": [],
   "source": [
    "filepath=\"single_coattention_plus_context_model_title_{epoch:02d}_{val_accuracy:.4f}.h5\"\n",
    "checkpoint = tf.keras.callbacks.ModelCheckpoint(filepath, monitor='val_accuracy', verbose=1, save_best_only=True, mode='max')\n",
    "callbacks_list = [checkpoint]"
   ]
  },
  {
   "cell_type": "code",
   "execution_count": 17,
   "metadata": {},
   "outputs": [
    {
     "name": "stdout",
     "output_type": "stream",
     "text": [
      "Train on 169500 samples, validate on 18834 samples\n",
      "Epoch 1/20\n",
      "WARNING:tensorflow:From /home/lss9/anaconda3/lib/python3.7/site-packages/tensorflow_core/python/ops/nn_impl.py:183: where (from tensorflow.python.ops.array_ops) is deprecated and will be removed in a future version.\n",
      "Instructions for updating:\n",
      "Use tf.where in 2.0, which has the same broadcast rule as np.where\n",
      "WARNING:tensorflow:Entity <function Function._initialize_uninitialized_variables.<locals>.initialize_variables at 0x7fe2335ca2f0> could not be transformed and will be executed as-is. Please report this to the AutoGraph team. When filing the bug, set the verbosity to 10 (on Linux, `export AUTOGRAPH_VERBOSITY=10`) and attach the full output. Cause: module 'gast' has no attribute 'Num'\n",
      "WARNING: Entity <function Function._initialize_uninitialized_variables.<locals>.initialize_variables at 0x7fe2335ca2f0> could not be transformed and will be executed as-is. Please report this to the AutoGraph team. When filing the bug, set the verbosity to 10 (on Linux, `export AUTOGRAPH_VERBOSITY=10`) and attach the full output. Cause: module 'gast' has no attribute 'Num'\n",
      "169440/169500 [============================>.] - ETA: 0s - loss: 0.3378 - accuracy: 0.8656\n",
      "Epoch 00001: val_accuracy improved from -inf to 0.89912, saving model to single_coattention_plus_context_model_title_01_0.8991.h5\n",
      "169500/169500 [==============================] - 117s 689us/sample - loss: 0.3378 - accuracy: 0.8656 - val_loss: 0.2498 - val_accuracy: 0.8991\n",
      "Epoch 2/20\n",
      "169472/169500 [============================>.] - ETA: 0s - loss: 0.2741 - accuracy: 0.8949\n",
      "Epoch 00002: val_accuracy improved from 0.89912 to 0.90698, saving model to single_coattention_plus_context_model_title_02_0.9070.h5\n",
      "169500/169500 [==============================] - 111s 655us/sample - loss: 0.2741 - accuracy: 0.8949 - val_loss: 0.2283 - val_accuracy: 0.9070\n",
      "Epoch 3/20\n",
      "169440/169500 [============================>.] - ETA: 0s - loss: 0.2540 - accuracy: 0.9031\n",
      "Epoch 00003: val_accuracy improved from 0.90698 to 0.91282, saving model to single_coattention_plus_context_model_title_03_0.9128.h5\n",
      "169500/169500 [==============================] - 111s 655us/sample - loss: 0.2540 - accuracy: 0.9031 - val_loss: 0.2207 - val_accuracy: 0.9128\n",
      "Epoch 4/20\n",
      "169408/169500 [============================>.] - ETA: 0s - loss: 0.2407 - accuracy: 0.9087\n",
      "Epoch 00004: val_accuracy improved from 0.91282 to 0.91606, saving model to single_coattention_plus_context_model_title_04_0.9161.h5\n",
      "169500/169500 [==============================] - 111s 654us/sample - loss: 0.2407 - accuracy: 0.9087 - val_loss: 0.2087 - val_accuracy: 0.9161\n",
      "Epoch 5/20\n",
      "169440/169500 [============================>.] - ETA: 0s - loss: 0.2320 - accuracy: 0.9114\n",
      "Epoch 00005: val_accuracy did not improve from 0.91606\n",
      "169500/169500 [==============================] - 111s 654us/sample - loss: 0.2320 - accuracy: 0.9114 - val_loss: 0.2119 - val_accuracy: 0.9154\n",
      "Epoch 6/20\n",
      "169440/169500 [============================>.] - ETA: 0s - loss: 0.2237 - accuracy: 0.9144\n",
      "Epoch 00006: val_accuracy improved from 0.91606 to 0.91776, saving model to single_coattention_plus_context_model_title_06_0.9178.h5\n",
      "169500/169500 [==============================] - 111s 655us/sample - loss: 0.2237 - accuracy: 0.9144 - val_loss: 0.2074 - val_accuracy: 0.9178\n",
      "Epoch 7/20\n",
      "169440/169500 [============================>.] - ETA: 0s - loss: 0.2174 - accuracy: 0.9169\n",
      "Epoch 00007: val_accuracy improved from 0.91776 to 0.92237, saving model to single_coattention_plus_context_model_title_07_0.9224.h5\n",
      "169500/169500 [==============================] - 111s 655us/sample - loss: 0.2174 - accuracy: 0.9169 - val_loss: 0.1959 - val_accuracy: 0.9224\n",
      "Epoch 8/20\n",
      "169440/169500 [============================>.] - ETA: 0s - loss: 0.2102 - accuracy: 0.9190\n",
      "Epoch 00008: val_accuracy did not improve from 0.92237\n",
      "169500/169500 [==============================] - 111s 654us/sample - loss: 0.2103 - accuracy: 0.9190 - val_loss: 0.1966 - val_accuracy: 0.9205\n",
      "Epoch 9/20\n",
      "169440/169500 [============================>.] - ETA: 0s - loss: 0.2054 - accuracy: 0.9206\n",
      "Epoch 00009: val_accuracy improved from 0.92237 to 0.92429, saving model to single_coattention_plus_context_model_title_09_0.9243.h5\n",
      "169500/169500 [==============================] - 111s 655us/sample - loss: 0.2055 - accuracy: 0.9206 - val_loss: 0.1901 - val_accuracy: 0.9243\n",
      "Epoch 10/20\n",
      "169440/169500 [============================>.] - ETA: 0s - loss: 0.2003 - accuracy: 0.9234\n",
      "Epoch 00010: val_accuracy did not improve from 0.92429\n",
      "169500/169500 [==============================] - 111s 653us/sample - loss: 0.2003 - accuracy: 0.9234 - val_loss: 0.1903 - val_accuracy: 0.9221\n",
      "Epoch 11/20\n",
      "169376/169500 [============================>.] - ETA: 0s - loss: 0.1949 - accuracy: 0.9244\n",
      "Epoch 00011: val_accuracy did not improve from 0.92429\n",
      "169500/169500 [==============================] - 112s 663us/sample - loss: 0.1949 - accuracy: 0.9245 - val_loss: 0.1995 - val_accuracy: 0.9200\n",
      "Epoch 12/20\n",
      "169472/169500 [============================>.] - ETA: 0s - loss: 0.1919 - accuracy: 0.9257\n",
      "Epoch 00012: val_accuracy did not improve from 0.92429\n",
      "169500/169500 [==============================] - 91s 538us/sample - loss: 0.1919 - accuracy: 0.9257 - val_loss: 0.1904 - val_accuracy: 0.9242\n",
      "Epoch 13/20\n",
      "169440/169500 [============================>.] - ETA: 0s - loss: 0.1883 - accuracy: 0.9267\n",
      "Epoch 00013: val_accuracy improved from 0.92429 to 0.92508, saving model to single_coattention_plus_context_model_title_13_0.9251.h5\n",
      "169500/169500 [==============================] - 91s 540us/sample - loss: 0.1883 - accuracy: 0.9268 - val_loss: 0.1874 - val_accuracy: 0.9251\n",
      "Epoch 14/20\n",
      "169408/169500 [============================>.] - ETA: 0s - loss: 0.1844 - accuracy: 0.9287\n",
      "Epoch 00014: val_accuracy improved from 0.92508 to 0.92800, saving model to single_coattention_plus_context_model_title_14_0.9280.h5\n",
      "169500/169500 [==============================] - 91s 540us/sample - loss: 0.1844 - accuracy: 0.9286 - val_loss: 0.1910 - val_accuracy: 0.9280\n",
      "Epoch 15/20\n",
      "169408/169500 [============================>.] - ETA: 0s - loss: 0.1820 - accuracy: 0.9288\n",
      "Epoch 00015: val_accuracy did not improve from 0.92800\n",
      "169500/169500 [==============================] - 91s 537us/sample - loss: 0.1820 - accuracy: 0.9288 - val_loss: 0.1948 - val_accuracy: 0.9260\n",
      "Epoch 16/20\n",
      "169440/169500 [============================>.] - ETA: 0s - loss: 0.1769 - accuracy: 0.9311\n",
      "Epoch 00016: val_accuracy did not improve from 0.92800\n",
      "169500/169500 [==============================] - 80s 473us/sample - loss: 0.1770 - accuracy: 0.9311 - val_loss: 0.1891 - val_accuracy: 0.9261\n",
      "Epoch 17/20\n",
      "169440/169500 [============================>.] - ETA: 0s - loss: 0.1752 - accuracy: 0.9314\n",
      "Epoch 00017: val_accuracy did not improve from 0.92800\n",
      "169500/169500 [==============================] - 68s 400us/sample - loss: 0.1752 - accuracy: 0.9314 - val_loss: 0.2006 - val_accuracy: 0.9269\n",
      "Epoch 18/20\n",
      "169440/169500 [============================>.] - ETA: 0s - loss: 0.1713 - accuracy: 0.9324\n",
      "Epoch 00018: val_accuracy did not improve from 0.92800\n",
      "169500/169500 [==============================] - 67s 394us/sample - loss: 0.1713 - accuracy: 0.9324 - val_loss: 0.2142 - val_accuracy: 0.9264\n",
      "Epoch 19/20\n",
      "169472/169500 [============================>.] - ETA: 0s - loss: 0.1688 - accuracy: 0.9334\n",
      "Epoch 00019: val_accuracy did not improve from 0.92800\n",
      "169500/169500 [==============================] - 67s 394us/sample - loss: 0.1688 - accuracy: 0.9334 - val_loss: 0.2338 - val_accuracy: 0.9253\n",
      "Epoch 20/20\n",
      "169376/169500 [============================>.] - ETA: 0s - loss: 0.1663 - accuracy: 0.9344\n",
      "Epoch 00020: val_accuracy did not improve from 0.92800\n",
      "169500/169500 [==============================] - 67s 394us/sample - loss: 0.1663 - accuracy: 0.9344 - val_loss: 0.1985 - val_accuracy: 0.9271\n"
     ]
    }
   ],
   "source": [
    "history = model.fit([train_article_title, train_table_title], train_label, \n",
    "          epochs=20, \n",
    "          batch_size=32, \n",
    "          validation_data=([validation_article_title, validation_table_title], validation_label),\n",
    "          callbacks=callbacks_list)"
   ]
  },
  {
   "cell_type": "code",
   "execution_count": null,
   "metadata": {},
   "outputs": [],
   "source": []
  },
  {
   "cell_type": "code",
   "execution_count": null,
   "metadata": {},
   "outputs": [],
   "source": []
  },
  {
   "cell_type": "code",
   "execution_count": null,
   "metadata": {},
   "outputs": [],
   "source": [
    "# summarize history for accuracy\n",
    "plt.plot(history.history['accuracy'])\n",
    "plt.plot(history.history['val_accuracy'])\n",
    "plt.title('model accuracy')\n",
    "plt.ylabel('accuracy')\n",
    "plt.xlabel('epoch')\n",
    "plt.legend(['train', 'validation'], loc='upper left')\n",
    "plt.show()"
   ]
  },
  {
   "cell_type": "code",
   "execution_count": null,
   "metadata": {},
   "outputs": [],
   "source": [
    "# summarize history for loss\n",
    "plt.plot(history.history['loss'])\n",
    "plt.plot(history.history['val_loss'])\n",
    "plt.title('model loss')\n",
    "plt.ylabel('loss')\n",
    "plt.xlabel('epoch')\n",
    "plt.legend(['train', 'validation'], loc='upper left')\n",
    "plt.show()"
   ]
  },
  {
   "cell_type": "code",
   "execution_count": null,
   "metadata": {},
   "outputs": [],
   "source": []
  },
  {
   "cell_type": "code",
   "execution_count": null,
   "metadata": {},
   "outputs": [],
   "source": [
    "model = tf.keras.models.load_model('affinity_model_train_cossine.h5')"
   ]
  },
  {
   "cell_type": "code",
   "execution_count": null,
   "metadata": {},
   "outputs": [],
   "source": [
    "y_prob = model.predict([validation_article_title,validation_table_title])\n",
    "y_predict = (y_prob > 0.5).astype(np.int)\n",
    "accuracy_score(validation_label, y_predict)"
   ]
  },
  {
   "cell_type": "code",
   "execution_count": null,
   "metadata": {},
   "outputs": [],
   "source": []
  },
  {
   "cell_type": "code",
   "execution_count": null,
   "metadata": {},
   "outputs": [],
   "source": [
    "import seaborn as sns\n",
    "import sklearn.metrics\n",
    "confusion_matrix = sklearn.metrics.confusion_matrix(validation_label, y_predict)\n",
    "\n",
    "plt.figure(figsize=(10, 8))\n",
    "sns.heatmap(confusion_matrix, annot=True, fmt=\"d\", cmap=\"YlGnBu\")#, annot_kws={\"size\": 15});\n",
    "plt.title(\"Confusion matrix\")\n",
    "plt.ylabel('True label')\n",
    "plt.xlabel('Predict label')\n",
    "plt.show()"
   ]
  },
  {
   "cell_type": "code",
   "execution_count": null,
   "metadata": {},
   "outputs": [],
   "source": []
  },
  {
   "cell_type": "code",
   "execution_count": null,
   "metadata": {},
   "outputs": [],
   "source": []
  }
 ],
 "metadata": {
  "kernelspec": {
   "display_name": "Python 3",
   "language": "python",
   "name": "python3"
  },
  "language_info": {
   "codemirror_mode": {
    "name": "ipython",
    "version": 3
   },
   "file_extension": ".py",
   "mimetype": "text/x-python",
   "name": "python",
   "nbconvert_exporter": "python",
   "pygments_lexer": "ipython3",
   "version": "3.7.3"
  }
 },
 "nbformat": 4,
 "nbformat_minor": 2
}
