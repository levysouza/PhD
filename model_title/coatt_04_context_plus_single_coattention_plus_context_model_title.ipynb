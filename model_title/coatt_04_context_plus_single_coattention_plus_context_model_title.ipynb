{
 "cells": [
  {
   "cell_type": "code",
   "execution_count": 1,
   "metadata": {},
   "outputs": [],
   "source": [
    "import warnings\n",
    "import numpy as np\n",
    "import pandas as pd\n",
    "from sklearn.model_selection import train_test_split\n",
    "import gensim as gs\n",
    "from tqdm import tqdm\n",
    "import tensorflow as tf\n",
    "import matplotlib.pyplot as plt\n",
    "from nltk.tokenize import TweetTokenizer\n",
    "tknzr = TweetTokenizer()\n",
    "from sklearn.metrics import accuracy_score, precision_score, recall_score, f1_score\n",
    "warnings.filterwarnings('ignore')\n",
    "import fasttext"
   ]
  },
  {
   "cell_type": "code",
   "execution_count": 2,
   "metadata": {},
   "outputs": [],
   "source": [
    "train_dataset = pd.read_csv('../train_data/final_train_dataset', delimiter=',')\n",
    "validation_dataset = pd.read_csv('../train_data/final_validation_dataset', delimiter=',')"
   ]
  },
  {
   "cell_type": "code",
   "execution_count": null,
   "metadata": {},
   "outputs": [],
   "source": []
  },
  {
   "cell_type": "code",
   "execution_count": 3,
   "metadata": {},
   "outputs": [],
   "source": [
    "embedding_model = gs.models.FastText.load('../train_embedding_models/fasttext_embedding_50d_all_signals')"
   ]
  },
  {
   "cell_type": "code",
   "execution_count": null,
   "metadata": {},
   "outputs": [],
   "source": []
  },
  {
   "cell_type": "code",
   "execution_count": 4,
   "metadata": {},
   "outputs": [],
   "source": [
    "MAX_PAD = 31\n",
    "\n",
    "def sequence_padding(X_DIM, value):\n",
    "    \n",
    "    value_padding = np.pad(value, ((0,MAX_PAD - X_DIM),(0,0)), 'constant')\n",
    "    \n",
    "    return value_padding"
   ]
  },
  {
   "cell_type": "code",
   "execution_count": 5,
   "metadata": {},
   "outputs": [],
   "source": [
    "def create_embedding(value):\n",
    "\n",
    "    value = tknzr.tokenize(str(value))\n",
    "    \n",
    "    if len(value) < MAX_PAD:\n",
    "        \n",
    "        embedding = embedding_model.wv[value]\n",
    "        \n",
    "        padding_embedding = sequence_padding(embedding.shape[0],embedding)\n",
    "        \n",
    "        return padding_embedding\n",
    "        \n",
    "    else:\n",
    "        \n",
    "        embedding = embedding_model.wv[value[0:MAX_PAD]]\n",
    "        \n",
    "        return embedding"
   ]
  },
  {
   "cell_type": "code",
   "execution_count": null,
   "metadata": {},
   "outputs": [],
   "source": []
  },
  {
   "cell_type": "code",
   "execution_count": 6,
   "metadata": {},
   "outputs": [
    {
     "name": "stderr",
     "output_type": "stream",
     "text": [
      "169500it [01:00, 2785.26it/s]\n"
     ]
    }
   ],
   "source": [
    "train_article_title = []\n",
    "train_table_title = []\n",
    "train_label = []\n",
    "\n",
    "for i,row in tqdm(train_dataset.iterrows()):\n",
    "    \n",
    "    train_article_title.append(create_embedding(row['article_page_title']))\n",
    "    train_table_title.append(create_embedding(row['table_page_title']))\n",
    "    train_label.append(row['label'])"
   ]
  },
  {
   "cell_type": "code",
   "execution_count": 7,
   "metadata": {},
   "outputs": [],
   "source": [
    "train_article_title = np.array(train_article_title)\n",
    "train_table_title = np.array(train_table_title)\n",
    "train_label = np.array(train_label)"
   ]
  },
  {
   "cell_type": "code",
   "execution_count": 8,
   "metadata": {},
   "outputs": [
    {
     "data": {
      "text/plain": [
       "(169500, 31, 50)"
      ]
     },
     "execution_count": 8,
     "metadata": {},
     "output_type": "execute_result"
    }
   ],
   "source": [
    "train_article_title.shape"
   ]
  },
  {
   "cell_type": "code",
   "execution_count": null,
   "metadata": {},
   "outputs": [],
   "source": []
  },
  {
   "cell_type": "code",
   "execution_count": 9,
   "metadata": {},
   "outputs": [
    {
     "name": "stderr",
     "output_type": "stream",
     "text": [
      "18834it [00:06, 2812.78it/s]\n"
     ]
    }
   ],
   "source": [
    "validation_article_title = []\n",
    "validation_table_title = []\n",
    "validation_label = []\n",
    "\n",
    "for i, row in tqdm(validation_dataset.iterrows()):\n",
    "    \n",
    "    validation_article_title.append(create_embedding(row['article_page_title']))\n",
    "    validation_table_title.append(create_embedding(row['table_page_title']))  \n",
    "    validation_label.append(row['label'])"
   ]
  },
  {
   "cell_type": "code",
   "execution_count": 10,
   "metadata": {},
   "outputs": [],
   "source": [
    "validation_article_title = np.array(validation_article_title)\n",
    "validation_table_title = np.array(validation_table_title)\n",
    "validation_label = np.array(validation_label)"
   ]
  },
  {
   "cell_type": "code",
   "execution_count": 11,
   "metadata": {},
   "outputs": [
    {
     "data": {
      "text/plain": [
       "(18834, 31, 50)"
      ]
     },
     "execution_count": 11,
     "metadata": {},
     "output_type": "execute_result"
    }
   ],
   "source": [
    "validation_article_title.shape"
   ]
  },
  {
   "cell_type": "code",
   "execution_count": 12,
   "metadata": {},
   "outputs": [],
   "source": [
    "def coattention_method(query, key, value):\n",
    "    \n",
    "    scores = tf.matmul(query, key, transpose_b=True)\n",
    "    \n",
    "    distribution = tf.nn.softmax(scores)\n",
    "    \n",
    "    attention_matrix = tf.matmul(distribution, value)\n",
    "    \n",
    "    return attention_matrix"
   ]
  },
  {
   "cell_type": "code",
   "execution_count": null,
   "metadata": {},
   "outputs": [],
   "source": []
  },
  {
   "cell_type": "code",
   "execution_count": 13,
   "metadata": {},
   "outputs": [],
   "source": [
    "def attention_model():\n",
    "    \n",
    "    article_title = tf.keras.Input(shape=(31,50), dtype='float32')\n",
    "    table_title = tf.keras.Input(shape=(31,50), dtype='float32')\n",
    "    \n",
    "    context_titleA = tf.keras.layers.Bidirectional(tf.keras.layers.GRU(32, return_sequences=True))(article_title)\n",
    "    context_titleB = tf.keras.layers.Bidirectional(tf.keras.layers.GRU(32, return_sequences=True))(table_title)\n",
    "    \n",
    "    affinity_titleA_titleB = coattention_method(context_titleA,context_titleB,context_titleA)\n",
    "    affinity_titleB_titleA = coattention_method(context_titleB,context_titleA,context_titleB)\n",
    "    \n",
    "    context_coattentionA = tf.keras.layers.Bidirectional(tf.keras.layers.GRU(32, return_sequences=True))(affinity_titleA_titleB)\n",
    "    context_coattentionB = tf.keras.layers.Bidirectional(tf.keras.layers.GRU(32, return_sequences=True))(affinity_titleB_titleA)\n",
    "    \n",
    "    learned_vector1 = tf.keras.layers.Flatten()(context_coattentionA)\n",
    "    learned_vector2 = tf.keras.layers.Flatten()(context_coattentionB)\n",
    "    \n",
    "    final_vector = tf.keras.layers.Concatenate()([learned_vector1,learned_vector2])\n",
    "    \n",
    "    MLP_input = tf.keras.layers.Dense(64, activation='relu')(final_vector)\n",
    "    dropout1 = tf.keras.layers.Dropout(0.5, name=\"dropout1\")(MLP_input)\n",
    "    MLP_hidden = tf.keras.layers.Dense(32, activation='relu')(dropout1)\n",
    "    dropout2 = tf.keras.layers.Dropout(0.5, name=\"dropout2\")(MLP_hidden)\n",
    "    MLP_output = tf.keras.layers.Dense(1,activation='sigmoid')(dropout2)\n",
    "    \n",
    "    model = tf.keras.Model(inputs=[article_title,table_title],outputs=MLP_output)\n",
    "    \n",
    "    return model"
   ]
  },
  {
   "cell_type": "code",
   "execution_count": 14,
   "metadata": {},
   "outputs": [],
   "source": [
    "model = attention_model()"
   ]
  },
  {
   "cell_type": "code",
   "execution_count": null,
   "metadata": {},
   "outputs": [],
   "source": []
  },
  {
   "cell_type": "code",
   "execution_count": 15,
   "metadata": {},
   "outputs": [],
   "source": [
    "model.compile(loss=\"binary_crossentropy\",optimizer=\"adam\", metrics=['accuracy'])"
   ]
  },
  {
   "cell_type": "code",
   "execution_count": 16,
   "metadata": {},
   "outputs": [],
   "source": [
    "filepath=\"context_plus_coattention_plus_context_model_title_{epoch:02d}_{val_accuracy:.4f}.h5\"\n",
    "checkpoint = tf.keras.callbacks.ModelCheckpoint(filepath, monitor='val_accuracy', verbose=1, save_best_only=True, mode='max')\n",
    "callbacks_list = [checkpoint]"
   ]
  },
  {
   "cell_type": "code",
   "execution_count": 17,
   "metadata": {},
   "outputs": [
    {
     "name": "stdout",
     "output_type": "stream",
     "text": [
      "Train on 169500 samples, validate on 18834 samples\n",
      "Epoch 1/20\n",
      "WARNING:tensorflow:From /home/lss9/anaconda3/lib/python3.7/site-packages/tensorflow_core/python/ops/nn_impl.py:183: where (from tensorflow.python.ops.array_ops) is deprecated and will be removed in a future version.\n",
      "Instructions for updating:\n",
      "Use tf.where in 2.0, which has the same broadcast rule as np.where\n",
      "WARNING:tensorflow:Entity <function Function._initialize_uninitialized_variables.<locals>.initialize_variables at 0x7fce9f7d2e18> could not be transformed and will be executed as-is. Please report this to the AutoGraph team. When filing the bug, set the verbosity to 10 (on Linux, `export AUTOGRAPH_VERBOSITY=10`) and attach the full output. Cause: module 'gast' has no attribute 'Num'\n",
      "WARNING: Entity <function Function._initialize_uninitialized_variables.<locals>.initialize_variables at 0x7fce9f7d2e18> could not be transformed and will be executed as-is. Please report this to the AutoGraph team. When filing the bug, set the verbosity to 10 (on Linux, `export AUTOGRAPH_VERBOSITY=10`) and attach the full output. Cause: module 'gast' has no attribute 'Num'\n",
      "169440/169500 [============================>.] - ETA: 0s - loss: 0.2427 - accuracy: 0.9061\n",
      "Epoch 00002: val_accuracy improved from 0.89784 to 0.91802, saving model to context_plus_coattention_plus_context_model_title_02_0.9180.h5\n",
      "169500/169500 [==============================] - 140s 825us/sample - loss: 0.2426 - accuracy: 0.9061 - val_loss: 0.2047 - val_accuracy: 0.9180\n",
      "Epoch 3/20\n",
      "169440/169500 [============================>.] - ETA: 0s - loss: 0.1998 - accuracy: 0.9237\n",
      "Epoch 00003: val_accuracy improved from 0.91802 to 0.92758, saving model to context_plus_coattention_plus_context_model_title_03_0.9276.h5\n",
      "169500/169500 [==============================] - 175s 1ms/sample - loss: 0.1997 - accuracy: 0.9237 - val_loss: 0.1883 - val_accuracy: 0.9276\n",
      "Epoch 4/20\n",
      "169472/169500 [============================>.] - ETA: 0s - loss: 0.1746 - accuracy: 0.9337\n",
      "Epoch 00004: val_accuracy improved from 0.92758 to 0.92906, saving model to context_plus_coattention_plus_context_model_title_04_0.9291.h5\n",
      "169500/169500 [==============================] - 177s 1ms/sample - loss: 0.1746 - accuracy: 0.9337 - val_loss: 0.1869 - val_accuracy: 0.9291\n",
      "Epoch 5/20\n",
      "169472/169500 [============================>.] - ETA: 0s - loss: 0.1578 - accuracy: 0.9397\n",
      "Epoch 00005: val_accuracy improved from 0.92906 to 0.93533, saving model to context_plus_coattention_plus_context_model_title_05_0.9353.h5\n",
      "169500/169500 [==============================] - 165s 974us/sample - loss: 0.1578 - accuracy: 0.9397 - val_loss: 0.1762 - val_accuracy: 0.9353\n",
      "Epoch 6/20\n",
      "169472/169500 [============================>.] - ETA: 0s - loss: 0.1462 - accuracy: 0.9449\n",
      "Epoch 00006: val_accuracy did not improve from 0.93533\n",
      "169500/169500 [==============================] - 126s 743us/sample - loss: 0.1462 - accuracy: 0.9449 - val_loss: 0.1634 - val_accuracy: 0.9345\n",
      "Epoch 7/20\n",
      "169440/169500 [============================>.] - ETA: 0s - loss: 0.1336 - accuracy: 0.9484\n",
      "Epoch 00007: val_accuracy improved from 0.93533 to 0.93650, saving model to context_plus_coattention_plus_context_model_title_07_0.9365.h5\n",
      "169500/169500 [==============================] - 126s 742us/sample - loss: 0.1336 - accuracy: 0.9484 - val_loss: 0.1629 - val_accuracy: 0.9365\n",
      "Epoch 8/20\n",
      "169472/169500 [============================>.] - ETA: 0s - loss: 0.1258 - accuracy: 0.9507\n",
      "Epoch 00008: val_accuracy did not improve from 0.93650\n",
      "169500/169500 [==============================] - 131s 771us/sample - loss: 0.1258 - accuracy: 0.9507 - val_loss: 0.1720 - val_accuracy: 0.9357\n",
      "Epoch 9/20\n",
      "169408/169500 [============================>.] - ETA: 0s - loss: 0.1183 - accuracy: 0.9537\n",
      "Epoch 00009: val_accuracy did not improve from 0.93650\n",
      "169500/169500 [==============================] - 135s 797us/sample - loss: 0.1184 - accuracy: 0.9536 - val_loss: 0.2023 - val_accuracy: 0.9351\n",
      "Epoch 10/20\n",
      "169440/169500 [============================>.] - ETA: 0s - loss: 0.1116 - accuracy: 0.9559\n",
      "Epoch 00010: val_accuracy did not improve from 0.93650\n",
      "169500/169500 [==============================] - 170s 1ms/sample - loss: 0.1116 - accuracy: 0.9559 - val_loss: 0.1874 - val_accuracy: 0.9364\n",
      "Epoch 11/20\n",
      "169440/169500 [============================>.] - ETA: 0s - loss: 0.1065 - accuracy: 0.9574\n",
      "Epoch 00011: val_accuracy improved from 0.93650 to 0.93830, saving model to context_plus_coattention_plus_context_model_title_11_0.9383.h5\n",
      "169500/169500 [==============================] - 246s 1ms/sample - loss: 0.1065 - accuracy: 0.9574 - val_loss: 0.1884 - val_accuracy: 0.9383\n",
      "Epoch 12/20\n",
      "169472/169500 [============================>.] - ETA: 0s - loss: 0.1003 - accuracy: 0.9594\n",
      "Epoch 00012: val_accuracy did not improve from 0.93830\n",
      "169500/169500 [==============================] - 249s 1ms/sample - loss: 0.1004 - accuracy: 0.9594 - val_loss: 0.2332 - val_accuracy: 0.9345\n",
      "Epoch 13/20\n",
      "169440/169500 [============================>.] - ETA: 0s - loss: 0.0948 - accuracy: 0.9616\n",
      "Epoch 00013: val_accuracy did not improve from 0.93830\n",
      "169500/169500 [==============================] - 247s 1ms/sample - loss: 0.0948 - accuracy: 0.9617 - val_loss: 0.2504 - val_accuracy: 0.9380\n",
      "Epoch 14/20\n",
      "169472/169500 [============================>.] - ETA: 0s - loss: 0.0914 - accuracy: 0.9628\n",
      "Epoch 00014: val_accuracy improved from 0.93830 to 0.93947, saving model to context_plus_coattention_plus_context_model_title_14_0.9395.h5\n",
      "169500/169500 [==============================] - 250s 1ms/sample - loss: 0.0914 - accuracy: 0.9629 - val_loss: 0.2869 - val_accuracy: 0.9395\n",
      "Epoch 15/20\n",
      "169472/169500 [============================>.] - ETA: 0s - loss: 0.0878 - accuracy: 0.9642\n",
      "Epoch 00015: val_accuracy did not improve from 0.93947\n",
      "169500/169500 [==============================] - 248s 1ms/sample - loss: 0.0878 - accuracy: 0.9642 - val_loss: 0.2444 - val_accuracy: 0.9374\n",
      "Epoch 16/20\n",
      "169440/169500 [============================>.] - ETA: 0s - loss: 0.0851 - accuracy: 0.9649\n",
      "Epoch 00016: val_accuracy did not improve from 0.93947\n",
      "169500/169500 [==============================] - 247s 1ms/sample - loss: 0.0851 - accuracy: 0.9649 - val_loss: 0.2728 - val_accuracy: 0.9360\n",
      "Epoch 17/20\n",
      "169440/169500 [============================>.] - ETA: 0s - loss: 0.0803 - accuracy: 0.9673\n",
      "Epoch 00017: val_accuracy did not improve from 0.93947\n",
      "169500/169500 [==============================] - 248s 1ms/sample - loss: 0.0803 - accuracy: 0.9673 - val_loss: 0.2750 - val_accuracy: 0.9362\n",
      "Epoch 18/20\n",
      "169440/169500 [============================>.] - ETA: 0s - loss: 0.0771 - accuracy: 0.9687\n",
      "Epoch 00018: val_accuracy did not improve from 0.93947\n",
      "169500/169500 [==============================] - 248s 1ms/sample - loss: 0.0771 - accuracy: 0.9687 - val_loss: 0.2610 - val_accuracy: 0.9379\n",
      "Epoch 19/20\n",
      "169472/169500 [============================>.] - ETA: 0s - loss: 0.0745 - accuracy: 0.9690\n",
      "Epoch 00019: val_accuracy did not improve from 0.93947\n",
      "169500/169500 [==============================] - 247s 1ms/sample - loss: 0.0745 - accuracy: 0.9690 - val_loss: 0.2809 - val_accuracy: 0.9369\n",
      "Epoch 20/20\n",
      "169472/169500 [============================>.] - ETA: 0s - loss: 0.0722 - accuracy: 0.9703\n",
      "Epoch 00020: val_accuracy did not improve from 0.93947\n",
      "169500/169500 [==============================] - 248s 1ms/sample - loss: 0.0722 - accuracy: 0.9703 - val_loss: 0.3360 - val_accuracy: 0.9354\n"
     ]
    }
   ],
   "source": [
    "history = model.fit([train_article_title, train_table_title], train_label, \n",
    "          epochs=20, \n",
    "          batch_size=32, \n",
    "          validation_data=([validation_article_title, validation_table_title], validation_label),\n",
    "          callbacks=callbacks_list)"
   ]
  },
  {
   "cell_type": "code",
   "execution_count": null,
   "metadata": {},
   "outputs": [],
   "source": []
  },
  {
   "cell_type": "code",
   "execution_count": null,
   "metadata": {},
   "outputs": [],
   "source": []
  },
  {
   "cell_type": "code",
   "execution_count": null,
   "metadata": {},
   "outputs": [],
   "source": [
    "# summarize history for accuracy\n",
    "plt.plot(history.history['accuracy'])\n",
    "plt.plot(history.history['val_accuracy'])\n",
    "plt.title('model accuracy')\n",
    "plt.ylabel('accuracy')\n",
    "plt.xlabel('epoch')\n",
    "plt.legend(['train', 'validation'], loc='upper left')\n",
    "plt.show()"
   ]
  },
  {
   "cell_type": "code",
   "execution_count": null,
   "metadata": {},
   "outputs": [],
   "source": [
    "# summarize history for loss\n",
    "plt.plot(history.history['loss'])\n",
    "plt.plot(history.history['val_loss'])\n",
    "plt.title('model loss')\n",
    "plt.ylabel('loss')\n",
    "plt.xlabel('epoch')\n",
    "plt.legend(['train', 'validation'], loc='upper left')\n",
    "plt.show()"
   ]
  },
  {
   "cell_type": "code",
   "execution_count": null,
   "metadata": {},
   "outputs": [],
   "source": []
  },
  {
   "cell_type": "code",
   "execution_count": 12,
   "metadata": {},
   "outputs": [],
   "source": [
    "model = tf.keras.models.load_model('affinity_plus_attention_model_title_02_0.9344.h5')"
   ]
  },
  {
   "cell_type": "code",
   "execution_count": 13,
   "metadata": {},
   "outputs": [
    {
     "data": {
      "text/plain": [
       "0.9344270999256663"
      ]
     },
     "execution_count": 13,
     "metadata": {},
     "output_type": "execute_result"
    }
   ],
   "source": [
    "y_prob = model.predict([validation_article_title,validation_table_title])\n",
    "y_predict = (y_prob > 0.5).astype(np.int)\n",
    "accuracy_score(validation_label, y_predict)"
   ]
  },
  {
   "cell_type": "code",
   "execution_count": null,
   "metadata": {},
   "outputs": [],
   "source": []
  },
  {
   "cell_type": "code",
   "execution_count": 14,
   "metadata": {},
   "outputs": [
    {
     "data": {
      "image/png": "[encoded data removed]",
      "text/plain": [
       "<Figure size 720x576 with 2 Axes>"
      ]
     },
     "metadata": {
      "needs_background": "light"
     },
     "output_type": "display_data"
    }
   ],
   "source": [
    "import seaborn as sns\n",
    "import sklearn.metrics\n",
    "confusion_matrix = sklearn.metrics.confusion_matrix(validation_label, y_predict)\n",
    "\n",
    "plt.figure(figsize=(10, 8))\n",
    "sns.heatmap(confusion_matrix, annot=True, fmt=\"d\", cmap=\"YlGnBu\")#, annot_kws={\"size\": 15});\n",
    "plt.title(\"Confusion matrix\")\n",
    "plt.ylabel('True label')\n",
    "plt.xlabel('Predict label')\n",
    "plt.show()"
   ]
  },
  {
   "cell_type": "code",
   "execution_count": null,
   "metadata": {},
   "outputs": [],
   "source": []
  },
  {
   "cell_type": "code",
   "execution_count": null,
   "metadata": {},
   "outputs": [],
   "source": []
  }
 ],
 "metadata": {
  "kernelspec": {
   "display_name": "Python 3",
   "language": "python",
   "name": "python3"
  },
  "language_info": {
   "codemirror_mode": {
    "name": "ipython",
    "version": 3
   },
   "file_extension": ".py",
   "mimetype": "text/x-python",
   "name": "python",
   "nbconvert_exporter": "python",
   "pygments_lexer": "ipython3",
   "version": "3.7.3"
  }
 },
 "nbformat": 4,
 "nbformat_minor": 2
}
