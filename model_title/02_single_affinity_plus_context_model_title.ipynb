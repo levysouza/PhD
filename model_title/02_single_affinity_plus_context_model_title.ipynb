{
 "cells": [
  {
   "cell_type": "code",
   "execution_count": 1,
   "metadata": {},
   "outputs": [],
   "source": [
    "import warnings\n",
    "import numpy as np\n",
    "import pandas as pd\n",
    "from sklearn.model_selection import train_test_split\n",
    "import gensim as gs\n",
    "from tqdm import tqdm\n",
    "import tensorflow as tf\n",
    "import matplotlib.pyplot as plt\n",
    "from nltk.tokenize import TweetTokenizer\n",
    "tknzr = TweetTokenizer()\n",
    "from sklearn.metrics import accuracy_score, precision_score, recall_score, f1_score\n",
    "warnings.filterwarnings('ignore')\n",
    "import fasttext"
   ]
  },
  {
   "cell_type": "code",
   "execution_count": 2,
   "metadata": {},
   "outputs": [],
   "source": [
    "true_pairs = pd.read_csv('../train_data/true_pairs_by_cosine_070_title_main_passage_keywords.csv', delimiter=',')\n",
    "false_pairs = pd.read_csv('../train_data/false_pairs_by_pands_title_main_passage_keywords.csv', delimiter=',')\n",
    "false_pairs = false_pairs.head((len(true_pairs))*1)"
   ]
  },
  {
   "cell_type": "code",
   "execution_count": 3,
   "metadata": {},
   "outputs": [],
   "source": [
    "df_concat = pd.concat([true_pairs,false_pairs])"
   ]
  },
  {
   "cell_type": "code",
   "execution_count": null,
   "metadata": {},
   "outputs": [],
   "source": []
  },
  {
   "cell_type": "code",
   "execution_count": 4,
   "metadata": {},
   "outputs": [],
   "source": [
    "train_dataset, validation_dataset = train_test_split(df_concat, test_size=0.10, random_state=42)"
   ]
  },
  {
   "cell_type": "code",
   "execution_count": 5,
   "metadata": {},
   "outputs": [],
   "source": [
    "embedding_model = gs.models.FastText.load('../train_embedding_models/fasttext_embedding_50d_all_signals')"
   ]
  },
  {
   "cell_type": "code",
   "execution_count": null,
   "metadata": {},
   "outputs": [],
   "source": []
  },
  {
   "cell_type": "code",
   "execution_count": 6,
   "metadata": {},
   "outputs": [],
   "source": [
    "MAX_PAD = 31\n",
    "\n",
    "def sequence_padding(X_DIM, value):\n",
    "    \n",
    "    value_padding = np.pad(value, ((0,MAX_PAD - X_DIM),(0,0)), 'constant')\n",
    "    \n",
    "    return value_padding"
   ]
  },
  {
   "cell_type": "code",
   "execution_count": 7,
   "metadata": {},
   "outputs": [],
   "source": [
    "def create_embedding(value):\n",
    "\n",
    "    value = tknzr.tokenize(str(value))\n",
    "    \n",
    "    if len(value) < MAX_PAD:\n",
    "        \n",
    "        embedding = embedding_model.wv[value]\n",
    "        \n",
    "        padding_embedding = sequence_padding(embedding.shape[0],embedding)\n",
    "        \n",
    "        return padding_embedding\n",
    "        \n",
    "    else:\n",
    "        \n",
    "        embedding = embedding_model.wv[value[0:MAX_PAD]]\n",
    "        \n",
    "        return embedding"
   ]
  },
  {
   "cell_type": "code",
   "execution_count": null,
   "metadata": {},
   "outputs": [],
   "source": []
  },
  {
   "cell_type": "code",
   "execution_count": 8,
   "metadata": {},
   "outputs": [
    {
     "name": "stderr",
     "output_type": "stream",
     "text": [
      "169500it [00:52, 3236.32it/s]\n"
     ]
    }
   ],
   "source": [
    "train_article_title = []\n",
    "train_table_title = []\n",
    "train_label = []\n",
    "\n",
    "for i,row in tqdm(train_dataset.iterrows()):\n",
    "    \n",
    "    train_article_title.append(create_embedding(row['article_page_title']))\n",
    "    train_table_title.append(create_embedding(row['table_page_title']))\n",
    "    train_label.append(row['label'])"
   ]
  },
  {
   "cell_type": "code",
   "execution_count": 9,
   "metadata": {},
   "outputs": [],
   "source": [
    "train_article_title = np.array(train_article_title)\n",
    "train_table_title = np.array(train_table_title)\n",
    "train_label = np.array(train_label)"
   ]
  },
  {
   "cell_type": "code",
   "execution_count": 10,
   "metadata": {},
   "outputs": [
    {
     "data": {
      "text/plain": [
       "(169500, 31, 50)"
      ]
     },
     "execution_count": 10,
     "metadata": {},
     "output_type": "execute_result"
    }
   ],
   "source": [
    "train_article_title.shape"
   ]
  },
  {
   "cell_type": "code",
   "execution_count": null,
   "metadata": {},
   "outputs": [],
   "source": []
  },
  {
   "cell_type": "code",
   "execution_count": 11,
   "metadata": {},
   "outputs": [
    {
     "name": "stderr",
     "output_type": "stream",
     "text": [
      "18834it [00:05, 3263.14it/s]\n"
     ]
    }
   ],
   "source": [
    "validation_article_title = []\n",
    "validation_table_title = []\n",
    "validation_label = []\n",
    "\n",
    "for i, row in tqdm(validation_dataset.iterrows()):\n",
    "    \n",
    "    validation_article_title.append(create_embedding(row['article_page_title']))\n",
    "    validation_table_title.append(create_embedding(row['table_page_title']))  \n",
    "    validation_label.append(row['label'])"
   ]
  },
  {
   "cell_type": "code",
   "execution_count": 12,
   "metadata": {},
   "outputs": [],
   "source": [
    "validation_article_title = np.array(validation_article_title)\n",
    "validation_table_title = np.array(validation_table_title)\n",
    "validation_label = np.array(validation_label)"
   ]
  },
  {
   "cell_type": "code",
   "execution_count": 13,
   "metadata": {},
   "outputs": [
    {
     "data": {
      "text/plain": [
       "(18834, 31, 50)"
      ]
     },
     "execution_count": 13,
     "metadata": {},
     "output_type": "execute_result"
    }
   ],
   "source": [
    "validation_article_title.shape"
   ]
  },
  {
   "cell_type": "code",
   "execution_count": 14,
   "metadata": {},
   "outputs": [],
   "source": [
    "def affinity_method(query, document):\n",
    "    \n",
    "    transpose_document = tf.transpose(document,perm=[0, 2, 1])\n",
    "    \n",
    "    affinity = tf.matmul(query,transpose_document)\n",
    "    \n",
    "    normalize_affinity = tf.nn.softmax(affinity)\n",
    "    \n",
    "    return normalize_affinity"
   ]
  },
  {
   "cell_type": "code",
   "execution_count": null,
   "metadata": {},
   "outputs": [],
   "source": []
  },
  {
   "cell_type": "code",
   "execution_count": 15,
   "metadata": {},
   "outputs": [],
   "source": [
    "def attention_model():\n",
    "    \n",
    "    article_title = tf.keras.Input(shape=(31,50), dtype='float32')\n",
    "    table_title = tf.keras.Input(shape=(31,50), dtype='float32')\n",
    "    \n",
    "    affinity_titleA_titleB = affinity_method(article_title,table_title)\n",
    "    \n",
    "    context_affinity = tf.keras.layers.Bidirectional(tf.keras.layers.GRU(32, return_sequences=True))(affinity_titleA_titleB)\n",
    "    \n",
    "    learned_vector = tf.keras.layers.Flatten()(context_affinity)\n",
    "   \n",
    "    MLP_input = tf.keras.layers.Dense(64, activation='relu')(learned_vector)\n",
    "    dropout1 = tf.keras.layers.Dropout(0.5, name=\"dropout1\")(MLP_input)\n",
    "    MLP_hidden = tf.keras.layers.Dense(32, activation='relu')(dropout1)\n",
    "    dropout2 = tf.keras.layers.Dropout(0.5, name=\"dropout2\")(MLP_hidden)\n",
    "    MLP_output = tf.keras.layers.Dense(1,activation='sigmoid')(dropout2)\n",
    "    \n",
    "    model = tf.keras.Model(inputs=[article_title,table_title],outputs=MLP_output)\n",
    "    \n",
    "    return model"
   ]
  },
  {
   "cell_type": "code",
   "execution_count": 16,
   "metadata": {},
   "outputs": [],
   "source": [
    "model = attention_model()"
   ]
  },
  {
   "cell_type": "code",
   "execution_count": null,
   "metadata": {},
   "outputs": [],
   "source": []
  },
  {
   "cell_type": "code",
   "execution_count": 17,
   "metadata": {},
   "outputs": [],
   "source": [
    "model.compile(loss=\"binary_crossentropy\",optimizer=\"adam\", metrics=['accuracy'])"
   ]
  },
  {
   "cell_type": "code",
   "execution_count": 18,
   "metadata": {},
   "outputs": [],
   "source": [
    "filepath=\"single_affinity_plus_context_model_title_{epoch:02d}_{val_accuracy:.4f}.h5\"\n",
    "checkpoint = tf.keras.callbacks.ModelCheckpoint(filepath, monitor='val_accuracy', verbose=1, save_best_only=True, mode='max')\n",
    "callbacks_list = [checkpoint]"
   ]
  },
  {
   "cell_type": "code",
   "execution_count": 19,
   "metadata": {},
   "outputs": [
    {
     "name": "stdout",
     "output_type": "stream",
     "text": [
      "Train on 169500 samples, validate on 18834 samples\n",
      "Epoch 1/10\n",
      "WARNING:tensorflow:From /home/lss9/anaconda3/lib/python3.7/site-packages/tensorflow_core/python/ops/nn_impl.py:183: where (from tensorflow.python.ops.array_ops) is deprecated and will be removed in a future version.\n",
      "Instructions for updating:\n",
      "Use tf.where in 2.0, which has the same broadcast rule as np.where\n",
      "WARNING:tensorflow:Entity <function Function._initialize_uninitialized_variables.<locals>.initialize_variables at 0x7f0b0f4b2ae8> could not be transformed and will be executed as-is. Please report this to the AutoGraph team. When filing the bug, set the verbosity to 10 (on Linux, `export AUTOGRAPH_VERBOSITY=10`) and attach the full output. Cause: module 'gast' has no attribute 'Num'\n",
      "WARNING: Entity <function Function._initialize_uninitialized_variables.<locals>.initialize_variables at 0x7f0b0f4b2ae8> could not be transformed and will be executed as-is. Please report this to the AutoGraph team. When filing the bug, set the verbosity to 10 (on Linux, `export AUTOGRAPH_VERBOSITY=10`) and attach the full output. Cause: module 'gast' has no attribute 'Num'\n",
      "169376/169500 [============================>.] - ETA: 0s - loss: 0.3555 - accuracy: 0.8602\n",
      "Epoch 00001: val_accuracy improved from -inf to 0.86912, saving model to single_affinity_plus_context_model_title_01_0.8691.h5\n",
      "169500/169500 [==============================] - 51s 303us/sample - loss: 0.3554 - accuracy: 0.8602 - val_loss: 0.3154 - val_accuracy: 0.8691\n",
      "Epoch 2/10\n",
      "169376/169500 [============================>.] - ETA: 0s - loss: 0.3195 - accuracy: 0.8767\n",
      "Epoch 00002: val_accuracy improved from 0.86912 to 0.88319, saving model to single_affinity_plus_context_model_title_02_0.8832.h5\n",
      "169500/169500 [==============================] - 49s 287us/sample - loss: 0.3195 - accuracy: 0.8767 - val_loss: 0.2938 - val_accuracy: 0.8832\n",
      "Epoch 3/10\n",
      "169376/169500 [============================>.] - ETA: 0s - loss: 0.3110 - accuracy: 0.8793\n",
      "Epoch 00003: val_accuracy improved from 0.88319 to 0.88351, saving model to single_affinity_plus_context_model_title_03_0.8835.h5\n",
      "169500/169500 [==============================] - 49s 287us/sample - loss: 0.3110 - accuracy: 0.8793 - val_loss: 0.2869 - val_accuracy: 0.8835\n",
      "Epoch 4/10\n",
      "169376/169500 [============================>.] - ETA: 0s - loss: 0.3062 - accuracy: 0.8821\n",
      "Epoch 00004: val_accuracy improved from 0.88351 to 0.88887, saving model to single_affinity_plus_context_model_title_04_0.8889.h5\n",
      "169500/169500 [==============================] - 49s 287us/sample - loss: 0.3061 - accuracy: 0.8821 - val_loss: 0.2808 - val_accuracy: 0.8889\n",
      "Epoch 5/10\n",
      "169376/169500 [============================>.] - ETA: 0s - loss: 0.3012 - accuracy: 0.8839\n",
      "Epoch 00005: val_accuracy improved from 0.88887 to 0.88977, saving model to single_affinity_plus_context_model_title_05_0.8898.h5\n",
      "169500/169500 [==============================] - 49s 287us/sample - loss: 0.3012 - accuracy: 0.8839 - val_loss: 0.2767 - val_accuracy: 0.8898\n",
      "Epoch 6/10\n",
      "169376/169500 [============================>.] - ETA: 0s - loss: 0.2973 - accuracy: 0.8849\n",
      "Epoch 00006: val_accuracy improved from 0.88977 to 0.89015, saving model to single_affinity_plus_context_model_title_06_0.8901.h5\n",
      "169500/169500 [==============================] - 49s 287us/sample - loss: 0.2973 - accuracy: 0.8849 - val_loss: 0.2806 - val_accuracy: 0.8901\n",
      "Epoch 7/10\n",
      "169376/169500 [============================>.] - ETA: 0s - loss: 0.2960 - accuracy: 0.8859\n",
      "Epoch 00007: val_accuracy improved from 0.89015 to 0.89094, saving model to single_affinity_plus_context_model_title_07_0.8909.h5\n",
      "169500/169500 [==============================] - 49s 287us/sample - loss: 0.2960 - accuracy: 0.8859 - val_loss: 0.2721 - val_accuracy: 0.8909\n",
      "Epoch 8/10\n",
      "169376/169500 [============================>.] - ETA: 0s - loss: 0.2939 - accuracy: 0.8867\n",
      "Epoch 00008: val_accuracy improved from 0.89094 to 0.89110, saving model to single_affinity_plus_context_model_title_08_0.8911.h5\n",
      "169500/169500 [==============================] - 49s 287us/sample - loss: 0.2939 - accuracy: 0.8867 - val_loss: 0.2750 - val_accuracy: 0.8911\n",
      "Epoch 9/10\n",
      "169376/169500 [============================>.] - ETA: 0s - loss: 0.2911 - accuracy: 0.8874\n",
      "Epoch 00009: val_accuracy did not improve from 0.89110\n",
      "169500/169500 [==============================] - 49s 287us/sample - loss: 0.2911 - accuracy: 0.8874 - val_loss: 0.2714 - val_accuracy: 0.8903\n",
      "Epoch 10/10\n",
      "169376/169500 [============================>.] - ETA: 0s - loss: 0.2897 - accuracy: 0.8884\n",
      "Epoch 00010: val_accuracy improved from 0.89110 to 0.89153, saving model to single_affinity_plus_context_model_title_10_0.8915.h5\n",
      "169500/169500 [==============================] - 49s 288us/sample - loss: 0.2897 - accuracy: 0.8884 - val_loss: 0.2695 - val_accuracy: 0.8915\n"
     ]
    }
   ],
   "source": [
    "history = model.fit([train_article_title, train_table_title], train_label, \n",
    "          epochs=10, \n",
    "          batch_size=32, \n",
    "          validation_data=([validation_article_title, validation_table_title], validation_label),\n",
    "          callbacks=callbacks_list)"
   ]
  },
  {
   "cell_type": "code",
   "execution_count": null,
   "metadata": {},
   "outputs": [],
   "source": []
  },
  {
   "cell_type": "code",
   "execution_count": null,
   "metadata": {},
   "outputs": [],
   "source": []
  },
  {
   "cell_type": "code",
   "execution_count": null,
   "metadata": {},
   "outputs": [],
   "source": [
    "# summarize history for accuracy\n",
    "plt.plot(history.history['accuracy'])\n",
    "plt.plot(history.history['val_accuracy'])\n",
    "plt.title('model accuracy')\n",
    "plt.ylabel('accuracy')\n",
    "plt.xlabel('epoch')\n",
    "plt.legend(['train', 'validation'], loc='upper left')\n",
    "plt.show()"
   ]
  },
  {
   "cell_type": "code",
   "execution_count": null,
   "metadata": {},
   "outputs": [],
   "source": [
    "# summarize history for loss\n",
    "plt.plot(history.history['loss'])\n",
    "plt.plot(history.history['val_loss'])\n",
    "plt.title('model loss')\n",
    "plt.ylabel('loss')\n",
    "plt.xlabel('epoch')\n",
    "plt.legend(['train', 'validation'], loc='upper left')\n",
    "plt.show()"
   ]
  },
  {
   "cell_type": "code",
   "execution_count": null,
   "metadata": {},
   "outputs": [],
   "source": []
  },
  {
   "cell_type": "code",
   "execution_count": null,
   "metadata": {},
   "outputs": [],
   "source": [
    "model = tf.keras.models.load_model('affinity_model_train_cossine.h5')"
   ]
  },
  {
   "cell_type": "code",
   "execution_count": null,
   "metadata": {},
   "outputs": [],
   "source": [
    "y_prob = model.predict([validation_article_title,validation_table_title])\n",
    "y_predict = (y_prob > 0.5).astype(np.int)\n",
    "accuracy_score(validation_label, y_predict)"
   ]
  },
  {
   "cell_type": "code",
   "execution_count": null,
   "metadata": {},
   "outputs": [],
   "source": []
  },
  {
   "cell_type": "code",
   "execution_count": null,
   "metadata": {},
   "outputs": [],
   "source": [
    "import seaborn as sns\n",
    "import sklearn.metrics\n",
    "confusion_matrix = sklearn.metrics.confusion_matrix(validation_label, y_predict)\n",
    "\n",
    "plt.figure(figsize=(10, 8))\n",
    "sns.heatmap(confusion_matrix, annot=True, fmt=\"d\", cmap=\"YlGnBu\")#, annot_kws={\"size\": 15});\n",
    "plt.title(\"Confusion matrix\")\n",
    "plt.ylabel('True label')\n",
    "plt.xlabel('Predict label')\n",
    "plt.show()"
   ]
  },
  {
   "cell_type": "code",
   "execution_count": null,
   "metadata": {},
   "outputs": [],
   "source": []
  },
  {
   "cell_type": "code",
   "execution_count": null,
   "metadata": {},
   "outputs": [],
   "source": []
  }
 ],
 "metadata": {
  "kernelspec": {
   "display_name": "Python 3",
   "language": "python",
   "name": "python3"
  },
  "language_info": {
   "codemirror_mode": {
    "name": "ipython",
    "version": 3
   },
   "file_extension": ".py",
   "mimetype": "text/x-python",
   "name": "python",
   "nbconvert_exporter": "python",
   "pygments_lexer": "ipython3",
   "version": "3.7.3"
  }
 },
 "nbformat": 4,
 "nbformat_minor": 2
}
