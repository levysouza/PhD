{
 "cells": [
  {
   "cell_type": "code",
   "execution_count": 1,
   "metadata": {},
   "outputs": [],
   "source": [
    "import warnings\n",
    "import numpy as np\n",
    "import pandas as pd\n",
    "from sklearn.model_selection import train_test_split\n",
    "import gensim as gs\n",
    "from tqdm import tqdm\n",
    "import tensorflow as tf\n",
    "import matplotlib.pyplot as plt\n",
    "from nltk.tokenize import TweetTokenizer\n",
    "tknzr = TweetTokenizer()\n",
    "from sklearn.metrics import accuracy_score, precision_score, recall_score, f1_score\n",
    "warnings.filterwarnings('ignore')\n",
    "import fasttext"
   ]
  },
  {
   "cell_type": "code",
   "execution_count": 2,
   "metadata": {},
   "outputs": [],
   "source": [
    "train_dataset = pd.read_csv('../train_data/final_train_dataset', delimiter=',')\n",
    "validation_dataset = pd.read_csv('../train_data/final_validation_dataset', delimiter=',')"
   ]
  },
  {
   "cell_type": "code",
   "execution_count": null,
   "metadata": {},
   "outputs": [],
   "source": []
  },
  {
   "cell_type": "code",
   "execution_count": 3,
   "metadata": {},
   "outputs": [],
   "source": [
    "embedding_model = gs.models.FastText.load('../train_embedding_models/fasttext_embedding_50d_all_signals')"
   ]
  },
  {
   "cell_type": "code",
   "execution_count": null,
   "metadata": {},
   "outputs": [],
   "source": []
  },
  {
   "cell_type": "code",
   "execution_count": 4,
   "metadata": {},
   "outputs": [],
   "source": [
    "MAX_PAD = 31\n",
    "\n",
    "def sequence_padding(X_DIM, value):\n",
    "    \n",
    "    value_padding = np.pad(value, ((0,MAX_PAD - X_DIM),(0,0)), 'constant')\n",
    "    \n",
    "    return value_padding"
   ]
  },
  {
   "cell_type": "code",
   "execution_count": 5,
   "metadata": {},
   "outputs": [],
   "source": [
    "def create_embedding(value):\n",
    "\n",
    "    value = tknzr.tokenize(str(value))\n",
    "    \n",
    "    if len(value) < MAX_PAD:\n",
    "        \n",
    "        embedding = embedding_model.wv[value]\n",
    "        \n",
    "        padding_embedding = sequence_padding(embedding.shape[0],embedding)\n",
    "        \n",
    "        return padding_embedding\n",
    "        \n",
    "    else:\n",
    "        \n",
    "        embedding = embedding_model.wv[value[0:MAX_PAD]]\n",
    "        \n",
    "        return embedding"
   ]
  },
  {
   "cell_type": "code",
   "execution_count": null,
   "metadata": {},
   "outputs": [],
   "source": []
  },
  {
   "cell_type": "code",
   "execution_count": 6,
   "metadata": {},
   "outputs": [
    {
     "name": "stderr",
     "output_type": "stream",
     "text": [
      "169500it [00:53, 3192.71it/s]\n"
     ]
    }
   ],
   "source": [
    "train_article_title = []\n",
    "train_table_title = []\n",
    "train_label = []\n",
    "\n",
    "for i,row in tqdm(train_dataset.iterrows()):\n",
    "    \n",
    "    train_article_title.append(create_embedding(row['article_page_title']))\n",
    "    train_table_title.append(create_embedding(row['table_page_title']))\n",
    "    train_label.append(row['label'])"
   ]
  },
  {
   "cell_type": "code",
   "execution_count": 7,
   "metadata": {},
   "outputs": [],
   "source": [
    "train_article_title = np.array(train_article_title)\n",
    "train_table_title = np.array(train_table_title)\n",
    "train_label = np.array(train_label)"
   ]
  },
  {
   "cell_type": "code",
   "execution_count": 8,
   "metadata": {},
   "outputs": [
    {
     "data": {
      "text/plain": [
       "(169500, 31, 50)"
      ]
     },
     "execution_count": 8,
     "metadata": {},
     "output_type": "execute_result"
    }
   ],
   "source": [
    "train_article_title.shape"
   ]
  },
  {
   "cell_type": "code",
   "execution_count": null,
   "metadata": {},
   "outputs": [],
   "source": []
  },
  {
   "cell_type": "code",
   "execution_count": 9,
   "metadata": {},
   "outputs": [
    {
     "name": "stderr",
     "output_type": "stream",
     "text": [
      "18834it [00:05, 3215.43it/s]\n"
     ]
    }
   ],
   "source": [
    "validation_article_title = []\n",
    "validation_table_title = []\n",
    "validation_label = []\n",
    "\n",
    "for i, row in tqdm(validation_dataset.iterrows()):\n",
    "    \n",
    "    validation_article_title.append(create_embedding(row['article_page_title']))\n",
    "    validation_table_title.append(create_embedding(row['table_page_title']))  \n",
    "    validation_label.append(row['label'])"
   ]
  },
  {
   "cell_type": "code",
   "execution_count": 10,
   "metadata": {},
   "outputs": [],
   "source": [
    "validation_article_title = np.array(validation_article_title)\n",
    "validation_table_title = np.array(validation_table_title)\n",
    "validation_label = np.array(validation_label)"
   ]
  },
  {
   "cell_type": "code",
   "execution_count": 11,
   "metadata": {},
   "outputs": [
    {
     "data": {
      "text/plain": [
       "(18834, 31, 50)"
      ]
     },
     "execution_count": 11,
     "metadata": {},
     "output_type": "execute_result"
    }
   ],
   "source": [
    "validation_article_title.shape"
   ]
  },
  {
   "cell_type": "code",
   "execution_count": 12,
   "metadata": {},
   "outputs": [],
   "source": [
    "def affinity_method(query, document):\n",
    "    \n",
    "    transpose_document = tf.transpose(document,perm=[0, 2, 1])\n",
    "    \n",
    "    affinity = tf.matmul(query,transpose_document)\n",
    "    \n",
    "    normalize_affinity = tf.nn.softmax(affinity)\n",
    "    \n",
    "    return normalize_affinity"
   ]
  },
  {
   "cell_type": "code",
   "execution_count": null,
   "metadata": {},
   "outputs": [],
   "source": []
  },
  {
   "cell_type": "code",
   "execution_count": 13,
   "metadata": {},
   "outputs": [],
   "source": [
    "def attention_model():\n",
    "    \n",
    "    article_title = tf.keras.Input(shape=(31,50), dtype='float32')\n",
    "    table_title = tf.keras.Input(shape=(31,50), dtype='float32')\n",
    "    \n",
    "    affinity_titleA_titleB = affinity_method(article_title,table_title)\n",
    "    \n",
    "    learned_vector = tf.keras.layers.Flatten()(affinity_titleA_titleB)\n",
    "   \n",
    "    MLP_input = tf.keras.layers.Dense(64, activation='relu')(learned_vector)\n",
    "    dropout1 = tf.keras.layers.Dropout(0.5, name=\"dropout1\")(MLP_input)\n",
    "    MLP_hidden = tf.keras.layers.Dense(32, activation='relu')(dropout1)\n",
    "    dropout2 = tf.keras.layers.Dropout(0.5, name=\"dropout2\")(MLP_hidden)\n",
    "    MLP_output = tf.keras.layers.Dense(1,activation='sigmoid')(dropout2)\n",
    "    \n",
    "    model = tf.keras.Model(inputs=[article_title,table_title],outputs=MLP_output)\n",
    "    \n",
    "    return model"
   ]
  },
  {
   "cell_type": "code",
   "execution_count": 14,
   "metadata": {},
   "outputs": [],
   "source": [
    "model = attention_model()"
   ]
  },
  {
   "cell_type": "code",
   "execution_count": null,
   "metadata": {},
   "outputs": [],
   "source": []
  },
  {
   "cell_type": "code",
   "execution_count": 15,
   "metadata": {},
   "outputs": [],
   "source": [
    "model.compile(loss=\"binary_crossentropy\",optimizer=\"adam\", metrics=['accuracy'])"
   ]
  },
  {
   "cell_type": "code",
   "execution_count": 16,
   "metadata": {},
   "outputs": [],
   "source": [
    "filepath=\"affinity_model_title_{epoch:02d}_{val_accuracy:.4f}.h5\"\n",
    "checkpoint = tf.keras.callbacks.ModelCheckpoint(filepath, monitor='val_accuracy', verbose=1, save_best_only=True, mode='max')\n",
    "callbacks_list = [checkpoint]"
   ]
  },
  {
   "cell_type": "code",
   "execution_count": 17,
   "metadata": {},
   "outputs": [
    {
     "name": "stdout",
     "output_type": "stream",
     "text": [
      "Train on 169500 samples, validate on 18834 samples\n",
      "Epoch 1/20\n",
      "WARNING:tensorflow:From /home/lss9/anaconda3/lib/python3.7/site-packages/tensorflow_core/python/ops/nn_impl.py:183: where (from tensorflow.python.ops.array_ops) is deprecated and will be removed in a future version.\n",
      "Instructions for updating:\n",
      "Use tf.where in 2.0, which has the same broadcast rule as np.where\n",
      "WARNING:tensorflow:Entity <function Function._initialize_uninitialized_variables.<locals>.initialize_variables at 0x7fa94c528d90> could not be transformed and will be executed as-is. Please report this to the AutoGraph team. When filing the bug, set the verbosity to 10 (on Linux, `export AUTOGRAPH_VERBOSITY=10`) and attach the full output. Cause: module 'gast' has no attribute 'Num'\n",
      "WARNING: Entity <function Function._initialize_uninitialized_variables.<locals>.initialize_variables at 0x7fa94c528d90> could not be transformed and will be executed as-is. Please report this to the AutoGraph team. When filing the bug, set the verbosity to 10 (on Linux, `export AUTOGRAPH_VERBOSITY=10`) and attach the full output. Cause: module 'gast' has no attribute 'Num'\n",
      "169056/169500 [============================>.] - ETA: 0s - loss: 0.4340 - accuracy: 0.8190\n",
      "Epoch 00001: val_accuracy improved from -inf to 0.85569, saving model to affinity_model_title_01_0.8557.h5\n",
      "169500/169500 [==============================] - 7s 42us/sample - loss: 0.4339 - accuracy: 0.8192 - val_loss: 0.3613 - val_accuracy: 0.8557\n",
      "Epoch 2/20\n",
      "168992/169500 [============================>.] - ETA: 0s - loss: 0.3987 - accuracy: 0.8398\n",
      "Epoch 00002: val_accuracy improved from 0.85569 to 0.86073, saving model to affinity_model_title_02_0.8607.h5\n",
      "169500/169500 [==============================] - 7s 39us/sample - loss: 0.3986 - accuracy: 0.8398 - val_loss: 0.3466 - val_accuracy: 0.8607\n",
      "Epoch 3/20\n",
      "168800/169500 [============================>.] - ETA: 0s - loss: 0.3897 - accuracy: 0.8434\n",
      "Epoch 00003: val_accuracy improved from 0.86073 to 0.86131, saving model to affinity_model_title_03_0.8613.h5\n",
      "169500/169500 [==============================] - 7s 39us/sample - loss: 0.3899 - accuracy: 0.8434 - val_loss: 0.3438 - val_accuracy: 0.8613\n",
      "Epoch 4/20\n",
      "169056/169500 [============================>.] - ETA: 0s - loss: 0.3818 - accuracy: 0.8470\n",
      "Epoch 00004: val_accuracy improved from 0.86131 to 0.86195, saving model to affinity_model_title_04_0.8620.h5\n",
      "169500/169500 [==============================] - 7s 39us/sample - loss: 0.3819 - accuracy: 0.8470 - val_loss: 0.3393 - val_accuracy: 0.8620\n",
      "Epoch 5/20\n",
      "168448/169500 [============================>.] - ETA: 0s - loss: 0.3793 - accuracy: 0.8486\n",
      "Epoch 00005: val_accuracy improved from 0.86195 to 0.86769, saving model to affinity_model_title_05_0.8677.h5\n",
      "169500/169500 [==============================] - 7s 39us/sample - loss: 0.3792 - accuracy: 0.8487 - val_loss: 0.3319 - val_accuracy: 0.8677\n",
      "Epoch 6/20\n",
      "169056/169500 [============================>.] - ETA: 0s - loss: 0.3759 - accuracy: 0.8500\n",
      "Epoch 00006: val_accuracy did not improve from 0.86769\n",
      "169500/169500 [==============================] - 7s 39us/sample - loss: 0.3758 - accuracy: 0.8501 - val_loss: 0.3367 - val_accuracy: 0.8651\n",
      "Epoch 7/20\n",
      "169376/169500 [============================>.] - ETA: 0s - loss: 0.3729 - accuracy: 0.8507\n",
      "Epoch 00007: val_accuracy did not improve from 0.86769\n",
      "169500/169500 [==============================] - 7s 38us/sample - loss: 0.3729 - accuracy: 0.8507 - val_loss: 0.3387 - val_accuracy: 0.8650\n",
      "Epoch 8/20\n",
      "168960/169500 [============================>.] - ETA: 0s - loss: 0.3725 - accuracy: 0.8510\n",
      "Epoch 00008: val_accuracy improved from 0.86769 to 0.86965, saving model to affinity_model_title_08_0.8697.h5\n",
      "169500/169500 [==============================] - 7s 39us/sample - loss: 0.3725 - accuracy: 0.8510 - val_loss: 0.3307 - val_accuracy: 0.8697\n",
      "Epoch 9/20\n",
      "168544/169500 [============================>.] - ETA: 0s - loss: 0.3714 - accuracy: 0.8522\n",
      "Epoch 00009: val_accuracy did not improve from 0.86965\n",
      "169500/169500 [==============================] - 7s 39us/sample - loss: 0.3712 - accuracy: 0.8524 - val_loss: 0.3276 - val_accuracy: 0.8685\n",
      "Epoch 10/20\n",
      "168512/169500 [============================>.] - ETA: 0s - loss: 0.3691 - accuracy: 0.8530\n",
      "Epoch 00010: val_accuracy did not improve from 0.86965\n",
      "169500/169500 [==============================] - 7s 38us/sample - loss: 0.3692 - accuracy: 0.8529 - val_loss: 0.3269 - val_accuracy: 0.8681\n",
      "Epoch 11/20\n",
      "169376/169500 [============================>.] - ETA: 0s - loss: 0.3700 - accuracy: 0.8522\n",
      "Epoch 00011: val_accuracy improved from 0.86965 to 0.87008, saving model to affinity_model_title_11_0.8701.h5\n",
      "169500/169500 [==============================] - 7s 39us/sample - loss: 0.3700 - accuracy: 0.8522 - val_loss: 0.3327 - val_accuracy: 0.8701\n",
      "Epoch 12/20\n",
      "169088/169500 [============================>.] - ETA: 0s - loss: 0.3687 - accuracy: 0.8537\n",
      "Epoch 00012: val_accuracy improved from 0.87008 to 0.87183, saving model to affinity_model_title_12_0.8718.h5\n",
      "169500/169500 [==============================] - 7s 39us/sample - loss: 0.3688 - accuracy: 0.8537 - val_loss: 0.3270 - val_accuracy: 0.8718\n",
      "Epoch 13/20\n",
      "168480/169500 [============================>.] - ETA: 0s - loss: 0.3672 - accuracy: 0.8542\n",
      "Epoch 00013: val_accuracy did not improve from 0.87183\n",
      "169500/169500 [==============================] - 7s 38us/sample - loss: 0.3671 - accuracy: 0.8542 - val_loss: 0.3310 - val_accuracy: 0.8691\n",
      "Epoch 14/20\n",
      "169120/169500 [============================>.] - ETA: 0s - loss: 0.3663 - accuracy: 0.8545\n",
      "Epoch 00014: val_accuracy did not improve from 0.87183\n",
      "169500/169500 [==============================] - 7s 39us/sample - loss: 0.3663 - accuracy: 0.8545 - val_loss: 0.3287 - val_accuracy: 0.8718\n",
      "Epoch 15/20\n",
      "169248/169500 [============================>.] - ETA: 0s - loss: 0.3655 - accuracy: 0.8549\n",
      "Epoch 00015: val_accuracy did not improve from 0.87183\n",
      "169500/169500 [==============================] - 7s 39us/sample - loss: 0.3655 - accuracy: 0.8549 - val_loss: 0.3257 - val_accuracy: 0.8690\n",
      "Epoch 16/20\n",
      "169312/169500 [============================>.] - ETA: 0s - loss: 0.3655 - accuracy: 0.8545\n",
      "Epoch 00016: val_accuracy did not improve from 0.87183\n",
      "169500/169500 [==============================] - 7s 38us/sample - loss: 0.3655 - accuracy: 0.8545 - val_loss: 0.3312 - val_accuracy: 0.8709\n",
      "Epoch 17/20\n",
      "169344/169500 [============================>.] - ETA: 0s - loss: 0.3666 - accuracy: 0.8548\n",
      "Epoch 00017: val_accuracy did not improve from 0.87183\n",
      "169500/169500 [==============================] - 7s 38us/sample - loss: 0.3666 - accuracy: 0.8548 - val_loss: 0.3310 - val_accuracy: 0.8686\n",
      "Epoch 18/20\n",
      "169472/169500 [============================>.] - ETA: 0s - loss: 0.3659 - accuracy: 0.8549\n",
      "Epoch 00018: val_accuracy did not improve from 0.87183\n",
      "169500/169500 [==============================] - 7s 38us/sample - loss: 0.3659 - accuracy: 0.8549 - val_loss: 0.3270 - val_accuracy: 0.8700\n",
      "Epoch 19/20\n",
      "168128/169500 [============================>.] - ETA: 0s - loss: 0.3644 - accuracy: 0.8547\n",
      "Epoch 00019: val_accuracy improved from 0.87183 to 0.87199, saving model to affinity_model_title_19_0.8720.h5\n",
      "169500/169500 [==============================] - 7s 39us/sample - loss: 0.3642 - accuracy: 0.8548 - val_loss: 0.3235 - val_accuracy: 0.8720\n",
      "Epoch 20/20\n",
      "169472/169500 [============================>.] - ETA: 0s - loss: 0.3636 - accuracy: 0.8549\n",
      "Epoch 00020: val_accuracy did not improve from 0.87199\n",
      "169500/169500 [==============================] - 7s 39us/sample - loss: 0.3636 - accuracy: 0.8549 - val_loss: 0.3251 - val_accuracy: 0.8698\n"
     ]
    }
   ],
   "source": [
    "history = model.fit([train_article_title, train_table_title], train_label, \n",
    "          epochs=20, \n",
    "          batch_size=32, \n",
    "          validation_data=([validation_article_title, validation_table_title], validation_label),\n",
    "          callbacks=callbacks_list)"
   ]
  },
  {
   "cell_type": "code",
   "execution_count": null,
   "metadata": {},
   "outputs": [],
   "source": []
  },
  {
   "cell_type": "code",
   "execution_count": null,
   "metadata": {},
   "outputs": [],
   "source": []
  },
  {
   "cell_type": "code",
   "execution_count": 18,
   "metadata": {},
   "outputs": [
    {
     "data": {
      "image/png": "[encoded data removed]",
      "text/plain": [
       "<Figure size 432x288 with 1 Axes>"
      ]
     },
     "metadata": {
      "needs_background": "light"
     },
     "output_type": "display_data"
    }
   ],
   "source": [
    "# summarize history for accuracy\n",
    "plt.plot(history.history['accuracy'])\n",
    "plt.plot(history.history['val_accuracy'])\n",
    "plt.title('model accuracy')\n",
    "plt.ylabel('accuracy')\n",
    "plt.xlabel('epoch')\n",
    "plt.legend(['train', 'validation'], loc='upper left')\n",
    "plt.show()"
   ]
  },
  {
   "cell_type": "code",
   "execution_count": 19,
   "metadata": {},
   "outputs": [
    {
     "data": {
      "image/png": "[encoded data removed]",
      "text/plain": [
       "<Figure size 432x288 with 1 Axes>"
      ]
     },
     "metadata": {
      "needs_background": "light"
     },
     "output_type": "display_data"
    }
   ],
   "source": [
    "# summarize history for loss\n",
    "plt.plot(history.history['loss'])\n",
    "plt.plot(history.history['val_loss'])\n",
    "plt.title('model loss')\n",
    "plt.ylabel('loss')\n",
    "plt.xlabel('epoch')\n",
    "plt.legend(['train', 'validation'], loc='upper left')\n",
    "plt.show()"
   ]
  },
  {
   "cell_type": "code",
   "execution_count": null,
   "metadata": {},
   "outputs": [],
   "source": []
  },
  {
   "cell_type": "code",
   "execution_count": 30,
   "metadata": {},
   "outputs": [],
   "source": [
    "model = tf.keras.models.load_model('affinity_plus_attention_model_title_02_0.9380.h5')"
   ]
  },
  {
   "cell_type": "code",
   "execution_count": 31,
   "metadata": {},
   "outputs": [
    {
     "data": {
      "text/plain": [
       "0.937984496124031"
      ]
     },
     "execution_count": 31,
     "metadata": {},
     "output_type": "execute_result"
    }
   ],
   "source": [
    "y_prob = model.predict([validation_article_title,validation_table_title])\n",
    "y_predict = (y_prob > 0.5).astype(np.int)\n",
    "accuracy_score(validation_label, y_predict)"
   ]
  },
  {
   "cell_type": "code",
   "execution_count": null,
   "metadata": {},
   "outputs": [],
   "source": []
  },
  {
   "cell_type": "code",
   "execution_count": 32,
   "metadata": {},
   "outputs": [
    {
     "data": {
      "image/png": "[encoded data removed]",
      "text/plain": [
       "<Figure size 720x576 with 2 Axes>"
      ]
     },
     "metadata": {
      "needs_background": "light"
     },
     "output_type": "display_data"
    }
   ],
   "source": [
    "import seaborn as sns\n",
    "import sklearn.metrics\n",
    "confusion_matrix = sklearn.metrics.confusion_matrix(validation_label, y_predict)\n",
    "\n",
    "plt.figure(figsize=(10, 8))\n",
    "sns.heatmap(confusion_matrix, annot=True, fmt=\"d\", cmap=\"YlGnBu\")#, annot_kws={\"size\": 15});\n",
    "plt.title(\"Confusion matrix\")\n",
    "plt.ylabel('True label')\n",
    "plt.xlabel('Predict label')\n",
    "plt.show()"
   ]
  },
  {
   "cell_type": "code",
   "execution_count": null,
   "metadata": {},
   "outputs": [],
   "source": []
  },
  {
   "cell_type": "code",
   "execution_count": null,
   "metadata": {},
   "outputs": [],
   "source": []
  }
 ],
 "metadata": {
  "kernelspec": {
   "display_name": "Python 3",
   "language": "python",
   "name": "python3"
  },
  "language_info": {
   "codemirror_mode": {
    "name": "ipython",
    "version": 3
   },
   "file_extension": ".py",
   "mimetype": "text/x-python",
   "name": "python",
   "nbconvert_exporter": "python",
   "pygments_lexer": "ipython3",
   "version": "3.7.3"
  }
 },
 "nbformat": 4,
 "nbformat_minor": 2
}
