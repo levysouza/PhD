{
 "cells": [
  {
   "cell_type": "code",
   "execution_count": 1,
   "metadata": {},
   "outputs": [],
   "source": [
    "import warnings\n",
    "import numpy as np\n",
    "import pandas as pd\n",
    "from sklearn.model_selection import train_test_split\n",
    "import gensim as gs\n",
    "from tqdm import tqdm\n",
    "import tensorflow as tf\n",
    "import matplotlib.pyplot as plt\n",
    "from nltk.tokenize import TweetTokenizer\n",
    "tknzr = TweetTokenizer()\n",
    "from sklearn.metrics import accuracy_score, precision_score, recall_score, f1_score\n",
    "warnings.filterwarnings('ignore')\n",
    "import fasttext"
   ]
  },
  {
   "cell_type": "code",
   "execution_count": 2,
   "metadata": {},
   "outputs": [],
   "source": [
    "train_dataset = pd.read_csv('../train_data/final_train_dataset', delimiter=',')\n",
    "validation_dataset = pd.read_csv('../train_data/final_validation_dataset', delimiter=',')"
   ]
  },
  {
   "cell_type": "code",
   "execution_count": null,
   "metadata": {},
   "outputs": [],
   "source": []
  },
  {
   "cell_type": "code",
   "execution_count": 3,
   "metadata": {},
   "outputs": [],
   "source": [
    "embedding_model = gs.models.FastText.load('../train_embedding_models/fasttext_embedding_50d_all_signals')"
   ]
  },
  {
   "cell_type": "code",
   "execution_count": null,
   "metadata": {},
   "outputs": [],
   "source": []
  },
  {
   "cell_type": "code",
   "execution_count": 4,
   "metadata": {},
   "outputs": [],
   "source": [
    "MAX_PAD = 31\n",
    "\n",
    "def sequence_padding(X_DIM, value):\n",
    "    \n",
    "    value_padding = np.pad(value, ((0,MAX_PAD - X_DIM),(0,0)), 'constant')\n",
    "    \n",
    "    return value_padding"
   ]
  },
  {
   "cell_type": "code",
   "execution_count": 5,
   "metadata": {},
   "outputs": [],
   "source": [
    "def create_embedding(value):\n",
    "\n",
    "    value = tknzr.tokenize(str(value))\n",
    "    \n",
    "    if len(value) < MAX_PAD:\n",
    "        \n",
    "        embedding = embedding_model.wv[value]\n",
    "        \n",
    "        padding_embedding = sequence_padding(embedding.shape[0],embedding)\n",
    "        \n",
    "        return padding_embedding\n",
    "        \n",
    "    else:\n",
    "        \n",
    "        embedding = embedding_model.wv[value[0:MAX_PAD]]\n",
    "        \n",
    "        return embedding"
   ]
  },
  {
   "cell_type": "code",
   "execution_count": null,
   "metadata": {},
   "outputs": [],
   "source": []
  },
  {
   "cell_type": "code",
   "execution_count": 6,
   "metadata": {},
   "outputs": [
    {
     "name": "stderr",
     "output_type": "stream",
     "text": [
      "169500it [01:16, 2224.17it/s]\n"
     ]
    }
   ],
   "source": [
    "train_article_title = []\n",
    "train_table_title = []\n",
    "train_label = []\n",
    "\n",
    "for i,row in tqdm(train_dataset.iterrows()):\n",
    "    \n",
    "    train_article_title.append(create_embedding(row['article_page_title']))\n",
    "    train_table_title.append(create_embedding(row['table_page_title']))\n",
    "    train_label.append(row['label'])"
   ]
  },
  {
   "cell_type": "code",
   "execution_count": 7,
   "metadata": {},
   "outputs": [],
   "source": [
    "train_article_title = np.array(train_article_title)\n",
    "train_table_title = np.array(train_table_title)\n",
    "train_label = np.array(train_label)"
   ]
  },
  {
   "cell_type": "code",
   "execution_count": 8,
   "metadata": {},
   "outputs": [
    {
     "data": {
      "text/plain": [
       "(169500, 31, 50)"
      ]
     },
     "execution_count": 8,
     "metadata": {},
     "output_type": "execute_result"
    }
   ],
   "source": [
    "train_article_title.shape"
   ]
  },
  {
   "cell_type": "code",
   "execution_count": null,
   "metadata": {},
   "outputs": [],
   "source": []
  },
  {
   "cell_type": "code",
   "execution_count": 9,
   "metadata": {},
   "outputs": [
    {
     "name": "stderr",
     "output_type": "stream",
     "text": [
      "18834it [00:08, 2249.95it/s]\n"
     ]
    }
   ],
   "source": [
    "validation_article_title = []\n",
    "validation_table_title = []\n",
    "validation_label = []\n",
    "\n",
    "for i, row in tqdm(validation_dataset.iterrows()):\n",
    "    \n",
    "    validation_article_title.append(create_embedding(row['article_page_title']))\n",
    "    validation_table_title.append(create_embedding(row['table_page_title']))  \n",
    "    validation_label.append(row['label'])"
   ]
  },
  {
   "cell_type": "code",
   "execution_count": 10,
   "metadata": {},
   "outputs": [],
   "source": [
    "validation_article_title = np.array(validation_article_title)\n",
    "validation_table_title = np.array(validation_table_title)\n",
    "validation_label = np.array(validation_label)"
   ]
  },
  {
   "cell_type": "code",
   "execution_count": 11,
   "metadata": {},
   "outputs": [
    {
     "data": {
      "text/plain": [
       "(18834, 31, 50)"
      ]
     },
     "execution_count": 11,
     "metadata": {},
     "output_type": "execute_result"
    }
   ],
   "source": [
    "validation_article_title.shape"
   ]
  },
  {
   "cell_type": "code",
   "execution_count": 12,
   "metadata": {},
   "outputs": [],
   "source": [
    "def attention_method(query, key, value):\n",
    "    \n",
    "    scores = tf.matmul(query, key, transpose_b=True)\n",
    "    \n",
    "    distribution = tf.nn.softmax(scores)\n",
    "    \n",
    "    attention_matrix = tf.matmul(distribution, value)\n",
    "    \n",
    "    return attention_matrix"
   ]
  },
  {
   "cell_type": "code",
   "execution_count": null,
   "metadata": {},
   "outputs": [],
   "source": []
  },
  {
   "cell_type": "code",
   "execution_count": 13,
   "metadata": {},
   "outputs": [],
   "source": [
    "def attention_model():\n",
    "    \n",
    "    article_title = tf.keras.Input(shape=(31,50), dtype='float32')\n",
    "    table_title = tf.keras.Input(shape=(31,50), dtype='float32')\n",
    "    \n",
    "    affinity_titleA_titleB = attention_method(article_title,table_title,article_title)\n",
    "    \n",
    "    context_affinity = tf.keras.layers.Bidirectional(tf.keras.layers.GRU(32, return_sequences=True))(affinity_titleA_titleB)\n",
    "    \n",
    "    learned_vector = tf.keras.layers.Flatten()(context_affinity)\n",
    "   \n",
    "    MLP_input = tf.keras.layers.Dense(64, activation='relu')(learned_vector)\n",
    "    dropout1 = tf.keras.layers.Dropout(0.5, name=\"dropout1\")(MLP_input)\n",
    "    MLP_hidden = tf.keras.layers.Dense(32, activation='relu')(dropout1)\n",
    "    dropout2 = tf.keras.layers.Dropout(0.5, name=\"dropout2\")(MLP_hidden)\n",
    "    MLP_output = tf.keras.layers.Dense(1,activation='sigmoid')(dropout2)\n",
    "    \n",
    "    model = tf.keras.Model(inputs=[article_title,table_title],outputs=MLP_output)\n",
    "    \n",
    "    return model"
   ]
  },
  {
   "cell_type": "code",
   "execution_count": 14,
   "metadata": {},
   "outputs": [],
   "source": [
    "model = attention_model()"
   ]
  },
  {
   "cell_type": "code",
   "execution_count": null,
   "metadata": {},
   "outputs": [],
   "source": []
  },
  {
   "cell_type": "code",
   "execution_count": 15,
   "metadata": {},
   "outputs": [],
   "source": [
    "model.compile(loss=\"binary_crossentropy\",optimizer=\"adam\", metrics=['accuracy'])"
   ]
  },
  {
   "cell_type": "code",
   "execution_count": 16,
   "metadata": {},
   "outputs": [],
   "source": [
    "filepath=\"single_attention_plus_context_model_title_{epoch:02d}_{val_accuracy:.4f}.h5\"\n",
    "checkpoint = tf.keras.callbacks.ModelCheckpoint(filepath, monitor='val_accuracy', verbose=1, save_best_only=True, mode='max')\n",
    "callbacks_list = [checkpoint]"
   ]
  },
  {
   "cell_type": "code",
   "execution_count": 17,
   "metadata": {},
   "outputs": [
    {
     "name": "stdout",
     "output_type": "stream",
     "text": [
      "Train on 169500 samples, validate on 18834 samples\n",
      "Epoch 1/20\n",
      "WARNING:tensorflow:From /home/lss9/anaconda3/lib/python3.7/site-packages/tensorflow_core/python/ops/nn_impl.py:183: where (from tensorflow.python.ops.array_ops) is deprecated and will be removed in a future version.\n",
      "Instructions for updating:\n",
      "Use tf.where in 2.0, which has the same broadcast rule as np.where\n",
      "WARNING:tensorflow:Entity <function Function._initialize_uninitialized_variables.<locals>.initialize_variables at 0x7fee0de520d0> could not be transformed and will be executed as-is. Please report this to the AutoGraph team. When filing the bug, set the verbosity to 10 (on Linux, `export AUTOGRAPH_VERBOSITY=10`) and attach the full output. Cause: module 'gast' has no attribute 'Num'\n",
      "WARNING: Entity <function Function._initialize_uninitialized_variables.<locals>.initialize_variables at 0x7fee0de520d0> could not be transformed and will be executed as-is. Please report this to the AutoGraph team. When filing the bug, set the verbosity to 10 (on Linux, `export AUTOGRAPH_VERBOSITY=10`) and attach the full output. Cause: module 'gast' has no attribute 'Num'\n",
      "169472/169500 [============================>.] - ETA: 0s - loss: 0.4209 - accuracy: 0.8237\n",
      "Epoch 00001: val_accuracy improved from -inf to 0.86206, saving model to single_attention_plus_context_model_title_01_0.8621.h5\n",
      "169500/169500 [==============================] - 94s 555us/sample - loss: 0.4208 - accuracy: 0.8237 - val_loss: 0.3395 - val_accuracy: 0.8621\n",
      "Epoch 2/20\n",
      "169472/169500 [============================>.] - ETA: 0s - loss: 0.3656 - accuracy: 0.8561\n",
      "Epoch 00002: val_accuracy improved from 0.86206 to 0.87050, saving model to single_attention_plus_context_model_title_02_0.8705.h5\n",
      "169500/169500 [==============================] - 90s 530us/sample - loss: 0.3656 - accuracy: 0.8561 - val_loss: 0.3228 - val_accuracy: 0.8705\n",
      "Epoch 3/20\n",
      "169440/169500 [============================>.] - ETA: 0s - loss: 0.3449 - accuracy: 0.8651\n",
      "Epoch 00003: val_accuracy improved from 0.87050 to 0.87618, saving model to single_attention_plus_context_model_title_03_0.8762.h5\n",
      "169500/169500 [==============================] - 90s 532us/sample - loss: 0.3449 - accuracy: 0.8651 - val_loss: 0.3124 - val_accuracy: 0.8762\n",
      "Epoch 4/20\n",
      "169440/169500 [============================>.] - ETA: 0s - loss: 0.3321 - accuracy: 0.8693\n",
      "Epoch 00004: val_accuracy improved from 0.87618 to 0.87820, saving model to single_attention_plus_context_model_title_04_0.8782.h5\n",
      "169500/169500 [==============================] - 90s 530us/sample - loss: 0.3321 - accuracy: 0.8693 - val_loss: 0.3049 - val_accuracy: 0.8782\n",
      "Epoch 5/20\n",
      "169408/169500 [============================>.] - ETA: 0s - loss: 0.3231 - accuracy: 0.8737\n",
      "Epoch 00005: val_accuracy improved from 0.87820 to 0.87900, saving model to single_attention_plus_context_model_title_05_0.8790.h5\n",
      "169500/169500 [==============================] - 90s 531us/sample - loss: 0.3231 - accuracy: 0.8737 - val_loss: 0.3063 - val_accuracy: 0.8790\n",
      "Epoch 6/20\n",
      "169440/169500 [============================>.] - ETA: 0s - loss: 0.3154 - accuracy: 0.8762\n",
      "Epoch 00006: val_accuracy improved from 0.87900 to 0.88064, saving model to single_attention_plus_context_model_title_06_0.8806.h5\n",
      "169500/169500 [==============================] - 90s 531us/sample - loss: 0.3154 - accuracy: 0.8762 - val_loss: 0.3008 - val_accuracy: 0.8806\n",
      "Epoch 7/20\n",
      "169408/169500 [============================>.] - ETA: 0s - loss: 0.3092 - accuracy: 0.8786\n",
      "Epoch 00007: val_accuracy did not improve from 0.88064\n",
      "169500/169500 [==============================] - 90s 532us/sample - loss: 0.3092 - accuracy: 0.8786 - val_loss: 0.2989 - val_accuracy: 0.8800\n",
      "Epoch 8/20\n",
      "169376/169500 [============================>.] - ETA: 0s - loss: 0.3042 - accuracy: 0.8802\n",
      "Epoch 00008: val_accuracy improved from 0.88064 to 0.88075, saving model to single_attention_plus_context_model_title_08_0.8807.h5\n",
      "169500/169500 [==============================] - 90s 529us/sample - loss: 0.3043 - accuracy: 0.8802 - val_loss: 0.2999 - val_accuracy: 0.8807\n",
      "Epoch 9/20\n",
      "169376/169500 [============================>.] - ETA: 0s - loss: 0.2989 - accuracy: 0.8821\n",
      "Epoch 00009: val_accuracy did not improve from 0.88075\n",
      "169500/169500 [==============================] - 90s 532us/sample - loss: 0.2990 - accuracy: 0.8820 - val_loss: 0.3084 - val_accuracy: 0.8788\n",
      "Epoch 10/20\n",
      "169376/169500 [============================>.] - ETA: 0s - loss: 0.2949 - accuracy: 0.8840\n",
      "Epoch 00010: val_accuracy improved from 0.88075 to 0.88346, saving model to single_attention_plus_context_model_title_10_0.8835.h5\n",
      "169500/169500 [==============================] - 90s 531us/sample - loss: 0.2949 - accuracy: 0.8841 - val_loss: 0.2962 - val_accuracy: 0.8835\n",
      "Epoch 11/20\n",
      "169440/169500 [============================>.] - ETA: 0s - loss: 0.2900 - accuracy: 0.8854\n",
      "Epoch 00011: val_accuracy did not improve from 0.88346\n",
      "169500/169500 [==============================] - 90s 531us/sample - loss: 0.2900 - accuracy: 0.8855 - val_loss: 0.2980 - val_accuracy: 0.8824\n",
      "Epoch 12/20\n",
      "169440/169500 [============================>.] - ETA: 0s - loss: 0.2863 - accuracy: 0.8869\n",
      "Epoch 00012: val_accuracy did not improve from 0.88346\n",
      "169500/169500 [==============================] - 90s 530us/sample - loss: 0.2863 - accuracy: 0.8869 - val_loss: 0.2952 - val_accuracy: 0.8829\n",
      "Epoch 13/20\n",
      "169472/169500 [============================>.] - ETA: 0s - loss: 0.2834 - accuracy: 0.8881\n",
      "Epoch 00013: val_accuracy did not improve from 0.88346\n",
      "169500/169500 [==============================] - 90s 531us/sample - loss: 0.2834 - accuracy: 0.8881 - val_loss: 0.2966 - val_accuracy: 0.8830\n",
      "Epoch 14/20\n",
      "169440/169500 [============================>.] - ETA: 0s - loss: 0.2796 - accuracy: 0.8889\n",
      "Epoch 00014: val_accuracy did not improve from 0.88346\n",
      "169500/169500 [==============================] - 90s 530us/sample - loss: 0.2796 - accuracy: 0.8889 - val_loss: 0.3205 - val_accuracy: 0.8819\n",
      "Epoch 15/20\n",
      "169472/169500 [============================>.] - ETA: 0s - loss: 0.2765 - accuracy: 0.8898\n",
      "Epoch 00015: val_accuracy improved from 0.88346 to 0.88367, saving model to single_attention_plus_context_model_title_15_0.8837.h5\n",
      "169500/169500 [==============================] - 90s 533us/sample - loss: 0.2765 - accuracy: 0.8898 - val_loss: 0.3047 - val_accuracy: 0.8837\n",
      "Epoch 16/20\n",
      "169440/169500 [============================>.] - ETA: 0s - loss: 0.2739 - accuracy: 0.8907\n",
      "Epoch 00016: val_accuracy improved from 0.88367 to 0.88420, saving model to single_attention_plus_context_model_title_16_0.8842.h5\n",
      "169500/169500 [==============================] - 91s 537us/sample - loss: 0.2739 - accuracy: 0.8907 - val_loss: 0.3184 - val_accuracy: 0.8842\n",
      "Epoch 17/20\n",
      "169472/169500 [============================>.] - ETA: 0s - loss: 0.2713 - accuracy: 0.8920\n",
      "Epoch 00017: val_accuracy improved from 0.88420 to 0.88446, saving model to single_attention_plus_context_model_title_17_0.8845.h5\n",
      "169500/169500 [==============================] - 111s 652us/sample - loss: 0.2713 - accuracy: 0.8920 - val_loss: 0.3012 - val_accuracy: 0.8845\n",
      "Epoch 18/20\n",
      "169408/169500 [============================>.] - ETA: 0s - loss: 0.2681 - accuracy: 0.8934\n",
      "Epoch 00018: val_accuracy did not improve from 0.88446\n",
      "169500/169500 [==============================] - 110s 649us/sample - loss: 0.2680 - accuracy: 0.8934 - val_loss: 0.3124 - val_accuracy: 0.8831\n",
      "Epoch 19/20\n",
      "169472/169500 [============================>.] - ETA: 0s - loss: 0.2648 - accuracy: 0.8940\n",
      "Epoch 00019: val_accuracy improved from 0.88446 to 0.88553, saving model to single_attention_plus_context_model_title_19_0.8855.h5\n",
      "169500/169500 [==============================] - 110s 650us/sample - loss: 0.2649 - accuracy: 0.8940 - val_loss: 0.2996 - val_accuracy: 0.8855\n",
      "Epoch 20/20\n",
      "169408/169500 [============================>.] - ETA: 0s - loss: 0.2634 - accuracy: 0.8947\n",
      "Epoch 00020: val_accuracy did not improve from 0.88553\n",
      "169500/169500 [==============================] - 111s 653us/sample - loss: 0.2634 - accuracy: 0.8947 - val_loss: 0.3125 - val_accuracy: 0.8805\n"
     ]
    }
   ],
   "source": [
    "history = model.fit([train_article_title, train_table_title], train_label, \n",
    "          epochs=20, \n",
    "          batch_size=32, \n",
    "          validation_data=([validation_article_title, validation_table_title], validation_label),\n",
    "          callbacks=callbacks_list)"
   ]
  },
  {
   "cell_type": "code",
   "execution_count": null,
   "metadata": {},
   "outputs": [],
   "source": []
  },
  {
   "cell_type": "code",
   "execution_count": null,
   "metadata": {},
   "outputs": [],
   "source": []
  },
  {
   "cell_type": "code",
   "execution_count": null,
   "metadata": {},
   "outputs": [],
   "source": [
    "# summarize history for accuracy\n",
    "plt.plot(history.history['accuracy'])\n",
    "plt.plot(history.history['val_accuracy'])\n",
    "plt.title('model accuracy')\n",
    "plt.ylabel('accuracy')\n",
    "plt.xlabel('epoch')\n",
    "plt.legend(['train', 'validation'], loc='upper left')\n",
    "plt.show()"
   ]
  },
  {
   "cell_type": "code",
   "execution_count": null,
   "metadata": {},
   "outputs": [],
   "source": [
    "# summarize history for loss\n",
    "plt.plot(history.history['loss'])\n",
    "plt.plot(history.history['val_loss'])\n",
    "plt.title('model loss')\n",
    "plt.ylabel('loss')\n",
    "plt.xlabel('epoch')\n",
    "plt.legend(['train', 'validation'], loc='upper left')\n",
    "plt.show()"
   ]
  },
  {
   "cell_type": "code",
   "execution_count": null,
   "metadata": {},
   "outputs": [],
   "source": []
  },
  {
   "cell_type": "code",
   "execution_count": null,
   "metadata": {},
   "outputs": [],
   "source": [
    "model = tf.keras.models.load_model('affinity_model_train_cossine.h5')"
   ]
  },
  {
   "cell_type": "code",
   "execution_count": null,
   "metadata": {},
   "outputs": [],
   "source": [
    "y_prob = model.predict([validation_article_title,validation_table_title])\n",
    "y_predict = (y_prob > 0.5).astype(np.int)\n",
    "accuracy_score(validation_label, y_predict)"
   ]
  },
  {
   "cell_type": "code",
   "execution_count": null,
   "metadata": {},
   "outputs": [],
   "source": []
  },
  {
   "cell_type": "code",
   "execution_count": null,
   "metadata": {},
   "outputs": [],
   "source": [
    "import seaborn as sns\n",
    "import sklearn.metrics\n",
    "confusion_matrix = sklearn.metrics.confusion_matrix(validation_label, y_predict)\n",
    "\n",
    "plt.figure(figsize=(10, 8))\n",
    "sns.heatmap(confusion_matrix, annot=True, fmt=\"d\", cmap=\"YlGnBu\")#, annot_kws={\"size\": 15});\n",
    "plt.title(\"Confusion matrix\")\n",
    "plt.ylabel('True label')\n",
    "plt.xlabel('Predict label')\n",
    "plt.show()"
   ]
  },
  {
   "cell_type": "code",
   "execution_count": null,
   "metadata": {},
   "outputs": [],
   "source": []
  },
  {
   "cell_type": "code",
   "execution_count": null,
   "metadata": {},
   "outputs": [],
   "source": []
  }
 ],
 "metadata": {
  "kernelspec": {
   "display_name": "Python 3",
   "language": "python",
   "name": "python3"
  },
  "language_info": {
   "codemirror_mode": {
    "name": "ipython",
    "version": 3
   },
   "file_extension": ".py",
   "mimetype": "text/x-python",
   "name": "python",
   "nbconvert_exporter": "python",
   "pygments_lexer": "ipython3",
   "version": "3.7.3"
  }
 },
 "nbformat": 4,
 "nbformat_minor": 2
}
