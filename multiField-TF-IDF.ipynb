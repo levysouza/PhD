{
 "cells": [
  {
   "cell_type": "code",
   "execution_count": 1,
   "metadata": {},
   "outputs": [],
   "source": [
    "from tqdm import tqdm\n",
    "import numpy as np\n",
    "import pandas as pd\n",
    "from sklearn.feature_extraction.text import TfidfVectorizer\n",
    "from scipy.spatial import distance\n",
    "from heapq import nsmallest\n",
    "from sklearn.metrics import pairwise_distances\n",
    "import random"
   ]
  },
  {
   "cell_type": "code",
   "execution_count": 2,
   "metadata": {},
   "outputs": [],
   "source": [
    "articles = pd.read_csv('articlesDataset/cleanDataArticles', delimiter=',', header=None)\n",
    "tables = pd.read_csv('articlesDataset/cleanDataTables', delimiter=',', header=None)"
   ]
  },
  {
   "cell_type": "code",
   "execution_count": 3,
   "metadata": {},
   "outputs": [],
   "source": [
    "formattedTables = tables.iloc[:,:].values\n",
    "formattedArticles = articles.iloc[:,:].values"
   ]
  },
  {
   "cell_type": "code",
   "execution_count": 4,
   "metadata": {},
   "outputs": [],
   "source": [
    "corpusTablesCaption = []\n",
    "corpusTablesHeader = []\n",
    "corpusTablesText = []\n",
    "\n",
    "for tables in formattedTables:\n",
    "    \n",
    "    corpusTablesCaption.append(str(tables[1]))\n",
    "    corpusTablesHeader.append(str(tables[2]))\n",
    "    corpusTablesText.append(str(tables[3]))"
   ]
  },
  {
   "cell_type": "code",
   "execution_count": 83,
   "metadata": {},
   "outputs": [],
   "source": [
    "corpusArticlesID = []\n",
    "corpusArticlesText = []\n",
    "\n",
    "for i in range(20):\n",
    "    \n",
    "    randomArticle = random.choice(formattedArticles)\n",
    "    \n",
    "    corpusArticlesID.append(randomArticle[0])\n",
    "    corpusArticlesText.append(str(randomArticle[1]))"
   ]
  },
  {
   "cell_type": "code",
   "execution_count": 8,
   "metadata": {},
   "outputs": [],
   "source": [
    "vectorizerCaption = TfidfVectorizer(stop_words='english', analyzer='word')\n",
    "vectorizerHeader = TfidfVectorizer(stop_words='english', analyzer='word')\n",
    "vectorizerText = TfidfVectorizer(stop_words='english', analyzer='word')\n",
    "\n",
    "tablesVectorCaption = vectorizerCaption.fit_transform(corpusTablesCaption)\n",
    "tablesVectorHeader = vectorizerHeader.fit_transform(corpusTablesHeader)\n",
    "tablesVectorText = vectorizerText.fit_transform(corpusTablesText)"
   ]
  },
  {
   "cell_type": "code",
   "execution_count": 84,
   "metadata": {},
   "outputs": [],
   "source": [
    "articlesVectorCaption = vectorizerCaption.transform(corpusArticlesText)\n",
    "articlesVectorHeader = vectorizerHeader.transform(corpusArticlesText)\n",
    "articlesVectorText = vectorizerText.transform(corpusArticlesText)"
   ]
  },
  {
   "cell_type": "code",
   "execution_count": 13,
   "metadata": {},
   "outputs": [],
   "source": [
    "def getTotalTablesByArticle(idArticle):\n",
    "\n",
    "    countTopTables = 0\n",
    "\n",
    "    for tables in formattedTables:\n",
    "    \n",
    "        if tables[0] == int(idArticle):\n",
    "        \n",
    "             countTopTables = countTopTables + 1\n",
    "    \n",
    "    #print(str(idArticle) + '-' + str(countTopTables))\n",
    "    \n",
    "    return countTopTables"
   ]
  },
  {
   "cell_type": "code",
   "execution_count": 14,
   "metadata": {},
   "outputs": [],
   "source": [
    "def getIdRankedTalbes(topK,distanceVector):\n",
    "\n",
    "    idRankedTables = []\n",
    "\n",
    "    for topkDistance in topK:\n",
    "    \n",
    "        #index = distanceVector.index(topkDistance)\n",
    "        \n",
    "        index = np.where(distanceVector == topkDistance)\n",
    "         \n",
    "        indexColummun = index[0][0]\n",
    "        \n",
    "        idRankedTables.append(formattedTables[indexColummun][0])\n",
    "\n",
    "    return idRankedTables"
   ]
  },
  {
   "cell_type": "code",
   "execution_count": 15,
   "metadata": {},
   "outputs": [],
   "source": [
    "def getAccuracy(idRankedTables, idQueryGoal):\n",
    "\n",
    "    totalRanquedTables = len(idRankedTables)\n",
    "\n",
    "    match = 0\n",
    "\n",
    "    for idTable in idRankedTables:\n",
    "    \n",
    "        if idTable == idQueryGoal:\n",
    "    \n",
    "            match = match + 1\n",
    "\n",
    "    accuracy = match / totalRanquedTables\n",
    "    \n",
    "    return accuracy"
   ]
  },
  {
   "cell_type": "code",
   "execution_count": 85,
   "metadata": {},
   "outputs": [],
   "source": [
    "accuracy = []\n",
    "\n",
    "totalSelectedArticles = int(articlesVectorCaption.shape[0])\n",
    "\n",
    "for i in range(totalSelectedArticles):\n",
    "    \n",
    "    distanceVectorCaption = pairwise_distances(articlesVectorCaption[i], tablesVectorCaption, metric='cosine')\n",
    "    distanceVectorHeader = pairwise_distances(articlesVectorHeader[i], tablesVectorHeader, metric='cosine')\n",
    "    distanceVectorText = pairwise_distances(articlesVectorText[i], tablesVectorText, metric='cosine')\n",
    "    \n",
    "    distanceSum = np.sum([distanceVectorCaption, distanceVectorHeader, distanceVectorText], axis=0)\n",
    "    distanceAvg = np.mean([distanceVectorCaption, distanceVectorHeader, distanceVectorText], axis=0)\n",
    "    distanceMax = np.amax([distanceVectorCaption, distanceVectorHeader, distanceVectorText], axis=0)\n",
    "    \n",
    "    idQueryGoal = int(corpusArticlesID[i])\n",
    "    \n",
    "    countTopTables = getTotalTablesByArticle(idQueryGoal)\n",
    "    \n",
    "    topK = nsmallest(countTopTables, distanceSum[0])\n",
    "    \n",
    "    idRankedTables = getIdRankedTalbes(topK,distanceSum[0])\n",
    "    \n",
    "    #print(idRankedTables)\n",
    "    \n",
    "    accuracy.append(getAccuracy(idRankedTables,idQueryGoal))"
   ]
  },
  {
   "cell_type": "code",
   "execution_count": 86,
   "metadata": {},
   "outputs": [
    {
     "data": {
      "text/plain": [
       "0.03392857142857143"
      ]
     },
     "execution_count": 86,
     "metadata": {},
     "output_type": "execute_result"
    }
   ],
   "source": [
    "np.mean(accuracy)"
   ]
  },
  {
   "cell_type": "code",
   "execution_count": 87,
   "metadata": {},
   "outputs": [
    {
     "data": {
      "text/plain": [
       "[342780,\n",
       " 234598,\n",
       " 3630165,\n",
       " 18664181,\n",
       " 5001707,\n",
       " 33198042,\n",
       " 33142448,\n",
       " 24654684,\n",
       " 236613,\n",
       " 986935,\n",
       " 2194459,\n",
       " 32511265,\n",
       " 34364582,\n",
       " 18752637,\n",
       " 1725270,\n",
       " 21063711,\n",
       " 3489830,\n",
       " 245765,\n",
       " 1680161,\n",
       " 876603]"
      ]
     },
     "execution_count": 87,
     "metadata": {},
     "output_type": "execute_result"
    }
   ],
   "source": [
    "corpusArticlesID"
   ]
  },
  {
   "cell_type": "code",
   "execution_count": null,
   "metadata": {},
   "outputs": [],
   "source": []
  }
 ],
 "metadata": {
  "kernelspec": {
   "display_name": "Python 3",
   "language": "python",
   "name": "python3"
  },
  "language_info": {
   "codemirror_mode": {
    "name": "ipython",
    "version": 3
   },
   "file_extension": ".py",
   "mimetype": "text/x-python",
   "name": "python",
   "nbconvert_exporter": "python",
   "pygments_lexer": "ipython3",
   "version": "3.7.3"
  }
 },
 "nbformat": 4,
 "nbformat_minor": 2
}
