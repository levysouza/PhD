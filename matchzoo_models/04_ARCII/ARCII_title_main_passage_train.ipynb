{
 "cells": [
  {
   "cell_type": "code",
   "execution_count": 1,
   "metadata": {},
   "outputs": [
    {
     "name": "stderr",
     "output_type": "stream",
     "text": [
      "/home/lss9/anaconda3/envs/matchzoo/lib/python3.7/site-packages/tqdm/std.py:668: FutureWarning: The Panel class is removed from pandas. Accessing it from the top-level namespace will also be removed in the next version\n",
      "  from pandas import Panel\n",
      "Using TensorFlow backend.\n",
      "/home/lss9/anaconda3/envs/matchzoo/lib/python3.7/site-packages/tqdm/std.py:668: FutureWarning: The Panel class is removed from pandas. Accessing it from the top-level namespace will also be removed in the next version\n",
      "  from pandas import Panel\n"
     ]
    }
   ],
   "source": [
    "import matchzoo as mz\n",
    "import pandas as pd\n",
    "import numpy as np\n",
    "import warnings\n",
    "warnings.filterwarnings(\"ignore\")"
   ]
  },
  {
   "cell_type": "code",
   "execution_count": null,
   "metadata": {},
   "outputs": [],
   "source": []
  },
  {
   "cell_type": "code",
   "execution_count": 2,
   "metadata": {},
   "outputs": [],
   "source": [
    "train_dataset = pd.read_csv('../../train_data/train_data_1_1', delimiter=',')\n",
    "validation_dataset = pd.read_csv('../../train_data/validation_data_1_1', delimiter=',')\n",
    "\n",
    "train_dataset = train_dataset.replace(np.nan, ' ', regex=True)\n",
    "validation_dataset = validation_dataset.replace(np.nan, ' ', regex=True)"
   ]
  },
  {
   "cell_type": "code",
   "execution_count": 3,
   "metadata": {},
   "outputs": [],
   "source": [
    "train_dataset = train_dataset.head(1000)\n",
    "validation_dataset = validation_dataset.head(1000)"
   ]
  },
  {
   "cell_type": "code",
   "execution_count": null,
   "metadata": {},
   "outputs": [],
   "source": []
  },
  {
   "cell_type": "code",
   "execution_count": 4,
   "metadata": {},
   "outputs": [],
   "source": [
    "list_data1 = []\n",
    "for i, row in train_dataset.iterrows():\n",
    "    \n",
    "    line1 = {'id_left': str(row['article_id']),\n",
    "            'text_left':str(row['article_page_title'])+\" \"+str(row['article_meta_description']),\n",
    "            'id_right':str(row['table_id']),\n",
    "            'text_right':str(row['table_page_title'])+\" \"+str(row['table_page_summary']),\n",
    "            'label':row['label']\n",
    "           }\n",
    "    \n",
    "    list_data1.append(line1)\n",
    "\n",
    "df1 = pd.DataFrame(list_data1)\n",
    "train_pack = mz.pack(df1)"
   ]
  },
  {
   "cell_type": "code",
   "execution_count": null,
   "metadata": {},
   "outputs": [],
   "source": []
  },
  {
   "cell_type": "code",
   "execution_count": null,
   "metadata": {},
   "outputs": [],
   "source": []
  },
  {
   "cell_type": "code",
   "execution_count": 5,
   "metadata": {},
   "outputs": [],
   "source": [
    "list_data2 = []\n",
    "for i, row in validation_dataset.iterrows():\n",
    "    \n",
    "    line2 = {'id_left': str(row['article_id']),\n",
    "            'text_left':str(row['article_page_title'])+\" \"+str(row['article_meta_description']),\n",
    "            'id_right':str(row['table_id']),\n",
    "            'text_right':str(row['table_page_title'])+\" \"+str(row['table_page_summary']),\n",
    "            'label':row['label']\n",
    "           }\n",
    "    \n",
    "    list_data2.append(line2)\n",
    "\n",
    "df2 = pd.DataFrame(list_data2)\n",
    "valid_pack = mz.pack(df2)"
   ]
  },
  {
   "cell_type": "code",
   "execution_count": null,
   "metadata": {},
   "outputs": [],
   "source": []
  },
  {
   "cell_type": "code",
   "execution_count": null,
   "metadata": {},
   "outputs": [],
   "source": []
  },
  {
   "cell_type": "code",
   "execution_count": null,
   "metadata": {},
   "outputs": [],
   "source": []
  },
  {
   "cell_type": "code",
   "execution_count": null,
   "metadata": {},
   "outputs": [],
   "source": []
  },
  {
   "cell_type": "code",
   "execution_count": 6,
   "metadata": {},
   "outputs": [],
   "source": [
    "ranking_task = mz.tasks.Ranking(loss=mz.losses.RankHingeLoss())\n",
    "ranking_task.metrics = [\n",
    "    mz.metrics.MeanAveragePrecision()\n",
    "]"
   ]
  },
  {
   "cell_type": "code",
   "execution_count": 7,
   "metadata": {},
   "outputs": [],
   "source": [
    "glove_embedding = mz.datasets.embeddings.load_glove_embedding(dimension=100)"
   ]
  },
  {
   "cell_type": "code",
   "execution_count": null,
   "metadata": {},
   "outputs": [],
   "source": []
  },
  {
   "cell_type": "code",
   "execution_count": 8,
   "metadata": {},
   "outputs": [
    {
     "name": "stderr",
     "output_type": "stream",
     "text": [
      "Processing text_left with chain_transform of Tokenize => Lowercase => PuncRemoval => StopRemoval: 100%|██████████| 989/989 [00:00<00:00, 3553.29it/s]\n",
      "Processing text_right with chain_transform of Tokenize => Lowercase => PuncRemoval => StopRemoval: 100%|██████████| 996/996 [00:00<00:00, 2010.08it/s]\n",
      "Processing text_right with append: 100%|██████████| 996/996 [00:00<00:00, 653964.74it/s]\n",
      "Building FrequencyFilter from a datapack.: 100%|██████████| 996/996 [00:00<00:00, 95643.73it/s]\n",
      "Processing text_right with transform: 100%|██████████| 996/996 [00:00<00:00, 91660.67it/s]\n",
      "Processing text_left with extend: 100%|██████████| 989/989 [00:00<00:00, 622754.34it/s]\n",
      "Processing text_right with extend: 100%|██████████| 996/996 [00:00<00:00, 398466.88it/s]\n",
      "Building Vocabulary from a datapack.: 100%|██████████| 88353/88353 [00:00<00:00, 4334312.00it/s]\n",
      "Processing text_left with chain_transform of Tokenize => Lowercase => PuncRemoval => StopRemoval: 100%|██████████| 989/989 [00:00<00:00, 4951.90it/s]\n",
      "Processing text_right with chain_transform of Tokenize => Lowercase => PuncRemoval => StopRemoval: 100%|██████████| 996/996 [00:00<00:00, 2028.56it/s]\n",
      "Processing text_right with transform: 100%|██████████| 996/996 [00:00<00:00, 86641.92it/s]\n",
      "Processing text_left with transform: 100%|██████████| 989/989 [00:00<00:00, 136237.74it/s]\n",
      "Processing text_right with transform: 100%|██████████| 996/996 [00:00<00:00, 77351.58it/s]\n",
      "Processing length_left with len: 100%|██████████| 989/989 [00:00<00:00, 928832.66it/s]\n",
      "Processing length_right with len: 100%|██████████| 996/996 [00:00<00:00, 973555.53it/s]\n",
      "Processing text_left with transform: 100%|██████████| 989/989 [00:00<00:00, 136260.11it/s]\n",
      "Processing text_right with transform: 100%|██████████| 996/996 [00:00<00:00, 73562.25it/s]\n",
      "Processing text_left with chain_transform of Tokenize => Lowercase => PuncRemoval => StopRemoval: 100%|██████████| 988/988 [00:00<00:00, 5289.45it/s]\n",
      "Processing text_right with chain_transform of Tokenize => Lowercase => PuncRemoval => StopRemoval: 100%|██████████| 992/992 [00:00<00:00, 1984.08it/s]\n",
      "Processing text_right with transform: 100%|██████████| 992/992 [00:00<00:00, 84960.07it/s]\n",
      "Processing text_left with transform: 100%|██████████| 988/988 [00:00<00:00, 136683.57it/s]\n",
      "Processing text_right with transform: 100%|██████████| 992/992 [00:00<00:00, 81906.13it/s]\n",
      "Processing length_left with len: 100%|██████████| 988/988 [00:00<00:00, 926441.39it/s]\n",
      "Processing length_right with len: 100%|██████████| 992/992 [00:00<00:00, 956274.32it/s]\n",
      "Processing text_left with transform: 100%|██████████| 988/988 [00:00<00:00, 145683.68it/s]\n",
      "Processing text_right with transform: 100%|██████████| 992/992 [00:00<00:00, 79541.75it/s]\n"
     ]
    }
   ],
   "source": [
    "preprocessor = mz.preprocessors.BasicPreprocessor(fixed_length_left=10, fixed_length_right=100, remove_stop_words=True)\n",
    "train_pack_processed = preprocessor.fit_transform(train_pack)\n",
    "valid_pack_processed = preprocessor.transform(valid_pack)"
   ]
  },
  {
   "cell_type": "code",
   "execution_count": null,
   "metadata": {},
   "outputs": [],
   "source": []
  },
  {
   "cell_type": "code",
   "execution_count": 9,
   "metadata": {},
   "outputs": [
    {
     "data": {
      "text/plain": [
       "{'filter_unit': <matchzoo.preprocessors.units.frequency_filter.FrequencyFilter at 0x7f552d733550>,\n",
       " 'vocab_unit': <matchzoo.preprocessors.units.vocabulary.Vocabulary at 0x7f552d751a90>,\n",
       " 'vocab_size': 10670,\n",
       " 'embedding_input_dim': 10670,\n",
       " 'input_shapes': [(10,), (100,)]}"
      ]
     },
     "execution_count": 9,
     "metadata": {},
     "output_type": "execute_result"
    }
   ],
   "source": [
    "preprocessor.context"
   ]
  },
  {
   "cell_type": "code",
   "execution_count": null,
   "metadata": {},
   "outputs": [],
   "source": []
  },
  {
   "cell_type": "code",
   "execution_count": 10,
   "metadata": {},
   "outputs": [
    {
     "name": "stdout",
     "output_type": "stream",
     "text": [
      "Model: \"model_1\"\n",
      "__________________________________________________________________________________________________\n",
      "Layer (type)                    Output Shape         Param #     Connected to                     \n",
      "==================================================================================================\n",
      "text_left (InputLayer)          (None, 10)           0                                            \n",
      "__________________________________________________________________________________________________\n",
      "text_right (InputLayer)         (None, 100)          0                                            \n",
      "__________________________________________________________________________________________________\n",
      "embedding (Embedding)           multiple             1067000     text_left[0][0]                  \n",
      "                                                                 text_right[0][0]                 \n",
      "__________________________________________________________________________________________________\n",
      "conv1d_1 (Conv1D)               (None, 10, 32)       9632        embedding[0][0]                  \n",
      "__________________________________________________________________________________________________\n",
      "conv1d_2 (Conv1D)               (None, 100, 32)      9632        embedding[1][0]                  \n",
      "__________________________________________________________________________________________________\n",
      "matching_layer_1 (MatchingLayer (None, 10, 100, 32)  0           conv1d_1[0][0]                   \n",
      "                                                                 conv1d_2[0][0]                   \n",
      "__________________________________________________________________________________________________\n",
      "conv2d_1 (Conv2D)               (None, 10, 100, 64)  18496       matching_layer_1[0][0]           \n",
      "__________________________________________________________________________________________________\n",
      "max_pooling2d_1 (MaxPooling2D)  (None, 3, 33, 64)    0           conv2d_1[0][0]                   \n",
      "__________________________________________________________________________________________________\n",
      "conv2d_2 (Conv2D)               (None, 3, 33, 64)    36928       max_pooling2d_1[0][0]            \n",
      "__________________________________________________________________________________________________\n",
      "max_pooling2d_2 (MaxPooling2D)  (None, 1, 11, 64)    0           conv2d_2[0][0]                   \n",
      "__________________________________________________________________________________________________\n",
      "flatten_1 (Flatten)             (None, 704)          0           max_pooling2d_2[0][0]            \n",
      "__________________________________________________________________________________________________\n",
      "dropout_1 (Dropout)             (None, 704)          0           flatten_1[0][0]                  \n",
      "__________________________________________________________________________________________________\n",
      "dense_1 (Dense)                 (None, 1)            705         dropout_1[0][0]                  \n",
      "==================================================================================================\n",
      "Total params: 1,142,393\n",
      "Trainable params: 1,142,393\n",
      "Non-trainable params: 0\n",
      "__________________________________________________________________________________________________\n"
     ]
    }
   ],
   "source": [
    "model = mz.models.ArcII()\n",
    "model.params.update(preprocessor.context)\n",
    "model.params['task'] = ranking_task\n",
    "model.params['embedding_output_dim'] = 100\n",
    "model.params['embedding_trainable'] = True\n",
    "model.params['num_blocks'] = 2\n",
    "model.params['kernel_1d_count'] = 32\n",
    "model.params['kernel_1d_size'] = 3\n",
    "model.params['kernel_2d_count'] = [64, 64]\n",
    "model.params['kernel_2d_size'] = [3, 3]\n",
    "model.params['pool_2d_size'] = [[3, 3], [3, 3]]\n",
    "model.params['optimizer'] = 'adam'\n",
    "model.build()\n",
    "model.compile()\n",
    "model.backend.summary()"
   ]
  },
  {
   "cell_type": "code",
   "execution_count": null,
   "metadata": {},
   "outputs": [],
   "source": []
  },
  {
   "cell_type": "code",
   "execution_count": 11,
   "metadata": {},
   "outputs": [],
   "source": [
    "embedding_matrix = glove_embedding.build_matrix(preprocessor.context['vocab_unit'].state['term_index'])\n",
    "model.load_embedding_matrix(embedding_matrix)"
   ]
  },
  {
   "cell_type": "code",
   "execution_count": null,
   "metadata": {},
   "outputs": [],
   "source": []
  },
  {
   "cell_type": "code",
   "execution_count": 12,
   "metadata": {},
   "outputs": [],
   "source": [
    "pred_x, pred_y = valid_pack_processed.unpack()\n",
    "evaluate = mz.callbacks.EvaluateAllMetrics(model, x=pred_x, y=pred_y, batch_size=len(pred_y), model_save_path='ARCII_title_main_passage', once_every=1)"
   ]
  },
  {
   "cell_type": "code",
   "execution_count": null,
   "metadata": {},
   "outputs": [],
   "source": []
  },
  {
   "cell_type": "code",
   "execution_count": null,
   "metadata": {},
   "outputs": [],
   "source": []
  },
  {
   "cell_type": "code",
   "execution_count": 13,
   "metadata": {},
   "outputs": [],
   "source": [
    "train_generator = mz.DataGenerator(\n",
    "    train_pack_processed,\n",
    "    mode='pair',\n",
    "    num_dup=2,\n",
    "    num_neg=1,\n",
    "    batch_size=20\n",
    ")"
   ]
  },
  {
   "cell_type": "code",
   "execution_count": 14,
   "metadata": {},
   "outputs": [
    {
     "name": "stdout",
     "output_type": "stream",
     "text": [
      "Epoch 1/5\n",
      "1/1 [==============================] - 0s 310ms/step - loss: 1.1202\n",
      "Validation: mean_average_precision(0.0): 0.5101214574898786\n",
      "Epoch 2/5\n",
      "1/1 [==============================] - 0s 24ms/step - loss: 0.0000e+00\n",
      "Validation: mean_average_precision(0.0): 0.5101214574898786\n",
      "Epoch 3/5\n",
      "1/1 [==============================] - 0s 23ms/step - loss: 0.0000e+00\n",
      "Validation: mean_average_precision(0.0): 0.5096153846153846\n",
      "Epoch 4/5\n",
      "1/1 [==============================] - 0s 23ms/step - loss: 0.0000e+00\n",
      "Validation: mean_average_precision(0.0): 0.5096153846153846\n",
      "Epoch 5/5\n",
      "1/1 [==============================] - 0s 22ms/step - loss: 0.0000e+00\n",
      "Validation: mean_average_precision(0.0): 0.5096153846153846\n"
     ]
    }
   ],
   "source": [
    "history = model.fit_generator(train_generator, epochs=5, callbacks=[evaluate])"
   ]
  },
  {
   "cell_type": "code",
   "execution_count": null,
   "metadata": {},
   "outputs": [],
   "source": []
  },
  {
   "cell_type": "code",
   "execution_count": null,
   "metadata": {},
   "outputs": [],
   "source": []
  },
  {
   "cell_type": "code",
   "execution_count": null,
   "metadata": {},
   "outputs": [],
   "source": []
  },
  {
   "cell_type": "code",
   "execution_count": null,
   "metadata": {},
   "outputs": [],
   "source": []
  },
  {
   "cell_type": "code",
   "execution_count": null,
   "metadata": {},
   "outputs": [],
   "source": []
  },
  {
   "cell_type": "code",
   "execution_count": null,
   "metadata": {},
   "outputs": [],
   "source": []
  },
  {
   "cell_type": "code",
   "execution_count": null,
   "metadata": {},
   "outputs": [],
   "source": []
  },
  {
   "cell_type": "code",
   "execution_count": null,
   "metadata": {},
   "outputs": [],
   "source": []
  },
  {
   "cell_type": "code",
   "execution_count": null,
   "metadata": {},
   "outputs": [],
   "source": []
  },
  {
   "cell_type": "code",
   "execution_count": null,
   "metadata": {},
   "outputs": [],
   "source": []
  },
  {
   "cell_type": "code",
   "execution_count": null,
   "metadata": {},
   "outputs": [],
   "source": []
  },
  {
   "cell_type": "code",
   "execution_count": null,
   "metadata": {},
   "outputs": [],
   "source": []
  },
  {
   "cell_type": "code",
   "execution_count": null,
   "metadata": {},
   "outputs": [],
   "source": []
  },
  {
   "cell_type": "code",
   "execution_count": null,
   "metadata": {},
   "outputs": [],
   "source": []
  },
  {
   "cell_type": "code",
   "execution_count": null,
   "metadata": {},
   "outputs": [],
   "source": []
  },
  {
   "cell_type": "code",
   "execution_count": null,
   "metadata": {},
   "outputs": [],
   "source": []
  },
  {
   "cell_type": "code",
   "execution_count": null,
   "metadata": {},
   "outputs": [],
   "source": []
  }
 ],
 "metadata": {
  "kernelspec": {
   "display_name": "Python 3",
   "language": "python",
   "name": "python3"
  },
  "language_info": {
   "codemirror_mode": {
    "name": "ipython",
    "version": 3
   },
   "file_extension": ".py",
   "mimetype": "text/x-python",
   "name": "python",
   "nbconvert_exporter": "python",
   "pygments_lexer": "ipython3",
   "version": "3.7.7"
  }
 },
 "nbformat": 4,
 "nbformat_minor": 2
}
