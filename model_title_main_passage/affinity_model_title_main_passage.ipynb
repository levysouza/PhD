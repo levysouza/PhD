{
 "cells": [
  {
   "cell_type": "code",
   "execution_count": null,
   "metadata": {},
   "outputs": [],
   "source": [
    "import warnings\n",
    "import numpy as np\n",
    "import pandas as pd\n",
    "from sklearn.model_selection import train_test_split\n",
    "import gensim as gs\n",
    "from tqdm import tqdm\n",
    "import tensorflow as tf\n",
    "import matplotlib.pyplot as plt\n",
    "from nltk.tokenize import TweetTokenizer\n",
    "tknzr = TweetTokenizer()\n",
    "from sklearn.metrics import accuracy_score, precision_score, recall_score, f1_score\n",
    "warnings.filterwarnings('ignore')\n",
    "import fasttext"
   ]
  },
  {
   "cell_type": "code",
   "execution_count": null,
   "metadata": {},
   "outputs": [],
   "source": [
    "true_pairs = pd.read_csv('create_true_false_samples/true_pairs_by_cosine_070_title_main_passage.csv', delimiter=',')\n",
    "false_pairs = pd.read_csv('create_true_false_samples/false_pairs_by_pands_title_main_passage.csv', delimiter=',')\n",
    "false_pairs = false_pairs.head((len(true_pairs))*1)"
   ]
  },
  {
   "cell_type": "code",
   "execution_count": null,
   "metadata": {},
   "outputs": [],
   "source": [
    "df_concat = pd.concat([true_pairs,false_pairs])"
   ]
  },
  {
   "cell_type": "code",
   "execution_count": null,
   "metadata": {},
   "outputs": [],
   "source": []
  },
  {
   "cell_type": "code",
   "execution_count": null,
   "metadata": {},
   "outputs": [],
   "source": [
    "train_dataset, validation_dataset = train_test_split(df_concat, test_size=0.10, random_state=42)"
   ]
  },
  {
   "cell_type": "code",
   "execution_count": null,
   "metadata": {},
   "outputs": [],
   "source": [
    "embedding_model = gs.models.FastText.load('../train_embedding_models/fasttext_embedding_50d_all_signals')"
   ]
  },
  {
   "cell_type": "code",
   "execution_count": null,
   "metadata": {},
   "outputs": [],
   "source": []
  },
  {
   "cell_type": "code",
   "execution_count": null,
   "metadata": {},
   "outputs": [],
   "source": [
    "MAX_PAD_TITLE = 55\n",
    "\n",
    "def sequence_padding_title(X_DIM, value):\n",
    "    \n",
    "    value_padding = np.pad(value, ((0,MAX_PAD_TITLE - X_DIM),(0,0)), 'constant')\n",
    "    \n",
    "    return value_padding"
   ]
  },
  {
   "cell_type": "code",
   "execution_count": null,
   "metadata": {},
   "outputs": [],
   "source": [
    "def create_embedding_title(value):\n",
    "\n",
    "    value = tknzr.tokenize(str(value))\n",
    "    \n",
    "    if len(value) < MAX_PAD_TITLE:\n",
    "        \n",
    "        embedding = embedding_model.wv[value]\n",
    "        embedding = embedding.astype('float16')\n",
    "        \n",
    "        padding_embedding = sequence_padding_title(embedding.shape[0],embedding)\n",
    "        \n",
    "        return padding_embedding\n",
    "        \n",
    "    else:\n",
    "        \n",
    "        embedding = embedding_model.wv[value[0:MAX_PAD_TITLE]]\n",
    "        \n",
    "        return embedding"
   ]
  },
  {
   "cell_type": "code",
   "execution_count": null,
   "metadata": {},
   "outputs": [],
   "source": []
  },
  {
   "cell_type": "code",
   "execution_count": null,
   "metadata": {},
   "outputs": [],
   "source": [
    "MAX_PAD_MAIN_PASSAGE = 55\n",
    "\n",
    "def sequence_padding_main_passage(X_DIM, value):\n",
    "    \n",
    "    value_padding = np.pad(value, ((0,MAX_PAD_MAIN_PASSAGE - X_DIM),(0,0)), 'constant')\n",
    "    \n",
    "    return value_padding"
   ]
  },
  {
   "cell_type": "code",
   "execution_count": null,
   "metadata": {},
   "outputs": [],
   "source": [
    "def create_embedding_main_passage(value):\n",
    "\n",
    "    value = tknzr.tokenize(str(value))\n",
    "    \n",
    "    if len(value) < MAX_PAD_MAIN_PASSAGE:\n",
    "        \n",
    "        embedding = embedding_model.wv[value]\n",
    "        embedding = embedding.astype('float16')\n",
    "        \n",
    "        padding_embedding = sequence_padding_main_passage(embedding.shape[0],embedding)\n",
    "        \n",
    "        return padding_embedding\n",
    "        \n",
    "    else:\n",
    "        \n",
    "        embedding = embedding_model.wv[value[0:MAX_PAD_MAIN_PASSAGE]]\n",
    "        \n",
    "        return embedding"
   ]
  },
  {
   "cell_type": "code",
   "execution_count": null,
   "metadata": {},
   "outputs": [],
   "source": []
  },
  {
   "cell_type": "code",
   "execution_count": null,
   "metadata": {},
   "outputs": [],
   "source": []
  },
  {
   "cell_type": "code",
   "execution_count": null,
   "metadata": {},
   "outputs": [],
   "source": [
    "train_article_title = []\n",
    "train_article_main_passage = []\n",
    "train_table_title = []\n",
    "train_table_main_passage = []\n",
    "train_label = []\n",
    "\n",
    "for i,row in tqdm(train_dataset.iterrows()):\n",
    "    \n",
    "    train_article_title.append(create_embedding_title(row['article_page_title']))\n",
    "    train_table_title.append(create_embedding_title(row['table_page_title']))\n",
    "    \n",
    "    train_article_main_passage.append(create_embedding_main_passage(row['article_meta_description']))\n",
    "    train_table_main_passage.append(create_embedding_main_passage(row['table_page_summary']))\n",
    "    \n",
    "    train_label.append(row['label'])"
   ]
  },
  {
   "cell_type": "code",
   "execution_count": null,
   "metadata": {},
   "outputs": [],
   "source": [
    "train_article_title = np.array(train_article_title, dtype='float16')\n",
    "train_table_title = np.array(train_table_title, dtype='float16')\n",
    "train_article_main_passage = np.array(train_article_main_passage, dtype='float16')\n",
    "train_table_main_passage = np.array(train_table_main_passage, dtype='float16')\n",
    "train_label = np.array(train_label)"
   ]
  },
  {
   "cell_type": "code",
   "execution_count": null,
   "metadata": {},
   "outputs": [],
   "source": [
    "train_article_main_passage.shape"
   ]
  },
  {
   "cell_type": "code",
   "execution_count": null,
   "metadata": {},
   "outputs": [],
   "source": []
  },
  {
   "cell_type": "code",
   "execution_count": null,
   "metadata": {},
   "outputs": [],
   "source": [
    "validation_article_title = []\n",
    "validation_article_main_passage = []\n",
    "validation_table_title = []\n",
    "validation_table_main_passage = []\n",
    "validation_label = []\n",
    "\n",
    "for i, row in tqdm(validation_dataset.iterrows()):\n",
    "    \n",
    "    validation_article_title.append(create_embedding_title(row['article_page_title']))\n",
    "    validation_table_title.append(create_embedding_title(row['table_page_title']))  \n",
    "    \n",
    "    validation_article_main_passage.append(create_embedding_main_passage(row['article_meta_description']))\n",
    "    validation_table_main_passage.append(create_embedding_main_passage(row['table_page_summary']))\n",
    "    \n",
    "    validation_label.append(row['label'])"
   ]
  },
  {
   "cell_type": "code",
   "execution_count": null,
   "metadata": {},
   "outputs": [],
   "source": [
    "validation_article_title = np.array(validation_article_title)\n",
    "validation_article_main_passage = np.array(validation_article_main_passage)\n",
    "validation_table_title = np.array(validation_table_title)\n",
    "validation_table_main_passage = np.array(validation_table_main_passage)\n",
    "validation_label = np.array(validation_label)"
   ]
  },
  {
   "cell_type": "code",
   "execution_count": null,
   "metadata": {},
   "outputs": [],
   "source": [
    "validation_article_main_passage.shape"
   ]
  },
  {
   "cell_type": "code",
   "execution_count": null,
   "metadata": {},
   "outputs": [],
   "source": []
  },
  {
   "cell_type": "code",
   "execution_count": null,
   "metadata": {},
   "outputs": [],
   "source": [
    "def affinity_method(query, document):\n",
    "    \n",
    "    transpose_document = tf.transpose(document,perm=[0, 2, 1])\n",
    "    \n",
    "    affinity = tf.matmul(query,transpose_document)\n",
    "    \n",
    "    return affinity"
   ]
  },
  {
   "cell_type": "code",
   "execution_count": null,
   "metadata": {},
   "outputs": [],
   "source": []
  },
  {
   "cell_type": "code",
   "execution_count": null,
   "metadata": {},
   "outputs": [],
   "source": [
    "def attention_model():\n",
    "    \n",
    "    # inputs\n",
    "    article_title = tf.keras.Input(shape=(55,50), dtype='float32')\n",
    "    article_main_passage = tf.keras.Input(shape=(55,50), dtype='float32')\n",
    "    table_title = tf.keras.Input(shape=(55,50), dtype='float32')\n",
    "    table_main_passage = tf.keras.Input(shape=(55,50), dtype='float32')\n",
    "    \n",
    "    # article and tables signal representations\n",
    "    rep_article_title = tf.keras.layers.Bidirectional(tf.keras.layers.GRU(32, return_sequences=True))(article_title)\n",
    "    rep_article_text = tf.keras.layers.Bidirectional(tf.keras.layers.GRU(32, return_sequences=True))(article_main_passage)\n",
    "    rep_table_title = tf.keras.layers.Bidirectional(tf.keras.layers.GRU(32, return_sequences=True))(table_title)\n",
    "    rep_table_text = tf.keras.layers.Bidirectional(tf.keras.layers.GRU(32, return_sequences=True))(table_main_passage)\n",
    "    \n",
    "    #affinity article title and table title\n",
    "    aff_A_title_T_title = affinity_method(rep_article_title,rep_table_title)\n",
    "    rep_aff_A_title_T_title = tf.keras.layers.Bidirectional(tf.keras.layers.GRU(32, return_sequences=True))(aff_A_title_T_title)\n",
    "    vector_A_title_T_title = tf.keras.layers.Flatten()(rep_aff_A_title_T_title)\n",
    "    \n",
    "    #affinity article title and table text\n",
    "    aff_A_title_T_text = affinity_method(rep_article_title,rep_table_text)\n",
    "    rep_aff_A_title_T_text = tf.keras.layers.Bidirectional(tf.keras.layers.GRU(32, return_sequences=True))(aff_A_title_T_text)\n",
    "    vector_A_title_T_text = tf.keras.layers.Flatten()(rep_aff_A_title_T_text)\n",
    "    \n",
    "    #affinity article text and table title\n",
    "    aff_A_text_T_title = affinity_method(rep_article_text,rep_table_title)\n",
    "    rep_aff_A_text_T_title = tf.keras.layers.Bidirectional(tf.keras.layers.GRU(32, return_sequences=True))(aff_A_text_T_title)\n",
    "    vector_A_text_T_title = tf.keras.layers.Flatten()(rep_aff_A_text_T_title)\n",
    "    \n",
    "    #affinity article text and table text\n",
    "    aff_A_text_T_text = affinity_method(rep_article_text,rep_table_text)\n",
    "    rep_aff_A_text_T_text = tf.keras.layers.Bidirectional(tf.keras.layers.GRU(32, return_sequences=True))(aff_A_text_T_text)\n",
    "    vector_A_text_T_text = tf.keras.layers.Flatten()(rep_aff_A_text_T_text)\n",
    "    \n",
    "    #learned vector\n",
    "    final_vector = tf.keras.layers.Concatenate()([vector_A_title_T_title,vector_A_title_T_text,vector_A_text_T_title,vector_A_text_T_text])\n",
    "    \n",
    "    MLP_input = tf.keras.layers.Dense(128, activation='relu')(final_vector)\n",
    "    dropout1 = tf.keras.layers.Dropout(0.5, name=\"dropout1\")(MLP_input)\n",
    "    MLP_hidden = tf.keras.layers.Dense(64, activation='relu')(dropout1)\n",
    "    dropout2 = tf.keras.layers.Dropout(0.5, name=\"dropout2\")(MLP_hidden)\n",
    "    MLP_output = tf.keras.layers.Dense(1,activation='sigmoid')(dropout2)\n",
    "    \n",
    "    model = tf.keras.Model(inputs=[article_title,article_main_passage,table_title,table_main_passage],outputs=MLP_output)\n",
    "    \n",
    "    return model"
   ]
  },
  {
   "cell_type": "code",
   "execution_count": null,
   "metadata": {},
   "outputs": [],
   "source": [
    "model = attention_model()"
   ]
  },
  {
   "cell_type": "code",
   "execution_count": null,
   "metadata": {},
   "outputs": [],
   "source": []
  },
  {
   "cell_type": "code",
   "execution_count": null,
   "metadata": {},
   "outputs": [],
   "source": [
    "model.compile(loss=\"binary_crossentropy\",optimizer=\"adam\", metrics=['accuracy'])"
   ]
  },
  {
   "cell_type": "code",
   "execution_count": null,
   "metadata": {},
   "outputs": [],
   "source": [
    "filepath=\"affinity_model_title_main_passage_{epoch:02d}_{val_accuracy:.4f}.h5\"\n",
    "checkpoint = tf.keras.callbacks.ModelCheckpoint(filepath, monitor='val_accuracy', verbose=1, save_best_only=True, mode='max')\n",
    "callbacks_list = [checkpoint]"
   ]
  },
  {
   "cell_type": "code",
   "execution_count": null,
   "metadata": {},
   "outputs": [],
   "source": [
    "history = model.fit([train_article_title, train_article_main_passage, train_table_title, train_table_main_passage], train_label, \n",
    "          epochs=20, \n",
    "          batch_size=32, \n",
    "          validation_data=([validation_article_title, validation_article_main_passage, validation_table_title, validation_table_main_passage], validation_label),\n",
    "          callbacks=callbacks_list)"
   ]
  },
  {
   "cell_type": "code",
   "execution_count": null,
   "metadata": {},
   "outputs": [],
   "source": []
  },
  {
   "cell_type": "code",
   "execution_count": null,
   "metadata": {},
   "outputs": [],
   "source": []
  },
  {
   "cell_type": "code",
   "execution_count": null,
   "metadata": {},
   "outputs": [],
   "source": [
    "# summarize history for accuracy\n",
    "plt.plot(history.history['accuracy'])\n",
    "plt.plot(history.history['val_accuracy'])\n",
    "plt.title('model accuracy')\n",
    "plt.ylabel('accuracy')\n",
    "plt.xlabel('epoch')\n",
    "plt.legend(['train', 'validation'], loc='upper left')\n",
    "plt.show()"
   ]
  },
  {
   "cell_type": "code",
   "execution_count": null,
   "metadata": {},
   "outputs": [],
   "source": [
    "# summarize history for loss\n",
    "plt.plot(history.history['loss'])\n",
    "plt.plot(history.history['val_loss'])\n",
    "plt.title('model loss')\n",
    "plt.ylabel('loss')\n",
    "plt.xlabel('epoch')\n",
    "plt.legend(['train', 'validation'], loc='upper left')\n",
    "plt.show()"
   ]
  },
  {
   "cell_type": "code",
   "execution_count": null,
   "metadata": {},
   "outputs": [],
   "source": []
  },
  {
   "cell_type": "code",
   "execution_count": null,
   "metadata": {},
   "outputs": [],
   "source": [
    "model = tf.keras.models.load_model('affinity_model_title_main_passage_07_0.9487.h5')"
   ]
  },
  {
   "cell_type": "code",
   "execution_count": null,
   "metadata": {},
   "outputs": [],
   "source": [
    "y_prob = model.predict([validation_article_title,validation_article_main_passage,validation_table_title, validation_table_main_passage])\n",
    "y_predict = (y_prob > 0.5).astype(np.int)\n",
    "accuracy_score(validation_label, y_predict)"
   ]
  },
  {
   "cell_type": "code",
   "execution_count": null,
   "metadata": {},
   "outputs": [],
   "source": []
  },
  {
   "cell_type": "code",
   "execution_count": null,
   "metadata": {},
   "outputs": [],
   "source": [
    "import seaborn as sns\n",
    "import sklearn.metrics\n",
    "confusion_matrix = sklearn.metrics.confusion_matrix(validation_label, y_predict)\n",
    "\n",
    "plt.figure(figsize=(10, 8))\n",
    "sns.heatmap(confusion_matrix, annot=True, fmt=\"d\", cmap=\"YlGnBu\")#, annot_kws={\"size\": 15});\n",
    "plt.title(\"Confusion matrix\")\n",
    "plt.ylabel('True label')\n",
    "plt.xlabel('Predict label')\n",
    "plt.show()"
   ]
  },
  {
   "cell_type": "code",
   "execution_count": null,
   "metadata": {},
   "outputs": [],
   "source": []
  },
  {
   "cell_type": "code",
   "execution_count": null,
   "metadata": {},
   "outputs": [],
   "source": []
  }
 ],
 "metadata": {
  "kernelspec": {
   "display_name": "Python 3",
   "language": "python",
   "name": "python3"
  },
  "language_info": {
   "codemirror_mode": {
    "name": "ipython",
    "version": 3
   },
   "file_extension": ".py",
   "mimetype": "text/x-python",
   "name": "python",
   "nbconvert_exporter": "python",
   "pygments_lexer": "ipython3",
   "version": "3.7.3"
  }
 },
 "nbformat": 4,
 "nbformat_minor": 2
}
