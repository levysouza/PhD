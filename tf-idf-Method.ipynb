{
 "cells": [
  {
   "cell_type": "code",
   "execution_count": 1,
   "metadata": {},
   "outputs": [],
   "source": [
    "import pickle\n",
    "import re\n",
    "from tqdm import tqdm\n",
    "import numpy as np\n",
    "from sklearn.feature_extraction.text import TfidfVectorizer\n",
    "from scipy.spatial import distance\n",
    "from heapq import nsmallest\n",
    "from sklearn.metrics import pairwise_distances"
   ]
  },
  {
   "cell_type": "markdown",
   "metadata": {},
   "source": [
    "In the block below we are reading the raw data from articles and tables."
   ]
  },
  {
   "cell_type": "code",
   "execution_count": 2,
   "metadata": {},
   "outputs": [],
   "source": [
    "rawArticles = pickle.load(open(\"articlesDataset/final_article_tables.pkl\",\"rb\"))\n",
    "rawTables = pickle.load(open(\"articlesDataset/final_dict_tables.pkl\",\"rb\"))"
   ]
  },
  {
   "cell_type": "markdown",
   "metadata": {},
   "source": [
    "In the block next, we are formatting the articles data by removing links, multiples spaces and special characters. Each article has several links. Then we get each one. Finally, we read all text of each link."
   ]
  },
  {
   "cell_type": "code",
   "execution_count": null,
   "metadata": {},
   "outputs": [],
   "source": []
  },
  {
   "cell_type": "markdown",
   "metadata": {},
   "source": [
    "In the next block, we remove empty values from articles."
   ]
  },
  {
   "cell_type": "code",
   "execution_count": 4,
   "metadata": {},
   "outputs": [
    {
     "name": "stderr",
     "output_type": "stream",
     "text": [
      " 98%|█████████▊| 291676/298725 [00:47<00:01, 6117.12it/s]\n"
     ]
    }
   ],
   "source": [
    "for article in tqdm(formattedArticles):\n",
    "    if (article[1] == ''):\n",
    "        formattedArticles.remove(article)"
   ]
  },
  {
   "cell_type": "markdown",
   "metadata": {},
   "source": [
    "In the block next, we are reading and formatting the raw table data. Each indice may have multiple tables. So, we collect each table separately. Next, we add tables in the corpus."
   ]
  },
  {
   "cell_type": "code",
   "execution_count": 3,
   "metadata": {},
   "outputs": [
    {
     "name": "stderr",
     "output_type": "stream",
     "text": [
      "100%|██████████| 90000/90000 [00:21<00:00, 4114.03it/s]\n"
     ]
    }
   ],
   "source": [
    "formattedTables = []\n",
    "\n",
    "for i in tqdm(rawTables.keys()):\n",
    "    \n",
    "    dataTable = rawTables[i]\n",
    "    \n",
    "    totalTalbes = len(dataTable)\n",
    "    \n",
    "    for j in range(totalTalbes):\n",
    "        \n",
    "        keyTable = dataTable[j][0][0]\n",
    "        \n",
    "        keyCaption = dataTable[j][0][1]\n",
    "        \n",
    "        tableText = str(dataTable[j][1:])\n",
    "    \n",
    "        fullTextTable = re.sub('[^A-Za-z]+',' ',tableText)\n",
    "        \n",
    "        #removing left and right spaces\n",
    "        fullTextTable = fullTextTable.lstrip()\n",
    "        fullTextTable = fullTextTable.rstrip()\n",
    "        \n",
    "        textPlusCaption = fullTextTable +\" \"+keyCaption\n",
    "        \n",
    "        formattedTables.append([keyTable,keyCaption,fullTextTable,textPlusCaption])"
   ]
  },
  {
   "cell_type": "code",
   "execution_count": 4,
   "metadata": {},
   "outputs": [
    {
     "name": "stderr",
     "output_type": "stream",
     "text": [
      " 97%|█████████▋| 298855/308759 [00:31<00:01, 9541.27it/s] \n"
     ]
    }
   ],
   "source": [
    "for tables in tqdm(formattedTables):\n",
    "    if (tables[2] == ''):\n",
    "        formattedTables.remove(tables)"
   ]
  },
  {
   "cell_type": "markdown",
   "metadata": {},
   "source": [
    "tf-idf method"
   ]
  },
  {
   "cell_type": "code",
   "execution_count": 5,
   "metadata": {},
   "outputs": [],
   "source": [
    "corpusTables = []\n",
    "\n",
    "for tables in formattedTables:\n",
    "    \n",
    "    corpusTables.append(tables[3])"
   ]
  },
  {
   "cell_type": "code",
   "execution_count": 8,
   "metadata": {},
   "outputs": [],
   "source": [
    "corpusArticles = []\n",
    "\n",
    "for articles in formattedArticles:\n",
    "    \n",
    "    corpusArticles.append(articles[1])\n",
    "\n",
    "#temp1 = np.asarray(formattedArticles)\n",
    "#corpusArticles = temp1[:,1]"
   ]
  },
  {
   "cell_type": "code",
   "execution_count": 7,
   "metadata": {},
   "outputs": [],
   "source": [
    "vectorizer = TfidfVectorizer(stop_words='english', analyzer='word')\n",
    "tablesByCharacteristics = vectorizer.fit_transform(corpusTables)"
   ]
  },
  {
   "cell_type": "code",
   "execution_count": 48,
   "metadata": {},
   "outputs": [],
   "source": [
    "articlesByCharacteristics = vectorizer.transform(corpusArticles)"
   ]
  },
  {
   "cell_type": "code",
   "execution_count": 11,
   "metadata": {},
   "outputs": [],
   "source": [
    "def getTotalTablesByArticle(idArticle):\n",
    "\n",
    "    countTopTables = 0\n",
    "\n",
    "    for tables in formattedTables:\n",
    "    \n",
    "        if tables[0] == int(idArticle):\n",
    "        \n",
    "             countTopTables = countTopTables + 1\n",
    "\n",
    "    return countTopTables"
   ]
  },
  {
   "cell_type": "code",
   "execution_count": 12,
   "metadata": {},
   "outputs": [],
   "source": [
    "def getIdRankedTalbes(topK,distanceVector):\n",
    "\n",
    "    idRankedTables = []\n",
    "\n",
    "    for topkDistance in topK:\n",
    "    \n",
    "        #index = distanceVector.index(topkDistance)\n",
    "        \n",
    "        index = np.where(distanceVector == topkDistance)\n",
    "         \n",
    "        indexColummun = index[0][0]\n",
    "        \n",
    "        idRankedTables.append(formattedTables[indexColummun][0])\n",
    "\n",
    "    return idRankedTables"
   ]
  },
  {
   "cell_type": "code",
   "execution_count": 13,
   "metadata": {},
   "outputs": [],
   "source": [
    "def getAccuracy(idRankedTables, idQueryGoal):\n",
    "\n",
    "    totalRanquedTables = len(idRankedTables)\n",
    "\n",
    "    match = 0\n",
    "\n",
    "    for idTable in idRankedTables:\n",
    "    \n",
    "        if idTable == idQueryGoal:\n",
    "    \n",
    "            match = match + 1\n",
    "\n",
    "    accuracy = match / totalRanquedTables\n",
    "    \n",
    "    return accuracy"
   ]
  },
  {
   "cell_type": "code",
   "execution_count": 49,
   "metadata": {},
   "outputs": [
    {
     "name": "stderr",
     "output_type": "stream",
     "text": [
      "\n",
      "  0%|          | 0/100 [00:00<?, ?it/s]\u001b[A\n",
      "  1%|          | 1/100 [00:01<01:40,  1.01s/it]\u001b[A\n",
      "  2%|▏         | 2/100 [00:01<01:32,  1.06it/s]\u001b[A\n",
      "  3%|▎         | 3/100 [00:02<01:27,  1.11it/s]\u001b[A\n",
      "  4%|▍         | 4/100 [00:03<01:22,  1.16it/s]\u001b[A\n",
      "  5%|▌         | 5/100 [00:04<01:22,  1.15it/s]\u001b[A\n",
      "  6%|▌         | 6/100 [00:05<01:19,  1.18it/s]\u001b[A\n",
      "  7%|▋         | 7/100 [00:05<01:18,  1.19it/s]\u001b[A\n",
      "  8%|▊         | 8/100 [00:06<01:18,  1.17it/s]\u001b[A\n",
      "  9%|▉         | 9/100 [00:07<01:19,  1.15it/s]\u001b[A\n",
      " 10%|█         | 10/100 [00:08<01:15,  1.19it/s]\u001b[A\n",
      " 11%|█         | 11/100 [00:09<01:14,  1.20it/s]\u001b[A\n",
      " 12%|█▏        | 12/100 [00:10<01:14,  1.19it/s]\u001b[A\n",
      " 13%|█▎        | 13/100 [00:10<01:12,  1.20it/s]\u001b[A\n",
      " 14%|█▍        | 14/100 [00:11<01:10,  1.21it/s]\u001b[A\n",
      " 15%|█▌        | 15/100 [00:12<01:08,  1.24it/s]\u001b[A\n",
      " 16%|█▌        | 16/100 [00:13<01:09,  1.21it/s]\u001b[A\n",
      " 17%|█▋        | 17/100 [00:14<01:08,  1.20it/s]\u001b[A\n",
      " 18%|█▊        | 18/100 [00:15<01:09,  1.17it/s]\u001b[A\n",
      " 19%|█▉        | 19/100 [00:15<01:04,  1.25it/s]\u001b[A\n",
      " 20%|██        | 20/100 [00:16<01:00,  1.32it/s]\u001b[A\n",
      " 21%|██        | 21/100 [00:17<00:58,  1.35it/s]\u001b[A\n",
      " 22%|██▏       | 22/100 [00:17<00:57,  1.36it/s]\u001b[A\n",
      " 23%|██▎       | 23/100 [00:18<00:58,  1.32it/s]\u001b[A\n",
      " 24%|██▍       | 24/100 [00:19<01:01,  1.24it/s]\u001b[A\n",
      " 25%|██▌       | 25/100 [00:20<01:00,  1.23it/s]\u001b[A\n",
      " 26%|██▌       | 26/100 [00:21<00:58,  1.25it/s]\u001b[A\n",
      " 27%|██▋       | 27/100 [00:22<00:59,  1.23it/s]\u001b[A\n",
      " 28%|██▊       | 28/100 [00:22<00:59,  1.22it/s]\u001b[A\n",
      " 29%|██▉       | 29/100 [00:23<00:57,  1.23it/s]\u001b[A\n",
      " 30%|███       | 30/100 [00:24<00:56,  1.23it/s]\u001b[A\n",
      " 31%|███       | 31/100 [00:25<00:58,  1.18it/s]\u001b[A\n",
      " 32%|███▏      | 32/100 [00:26<01:01,  1.10it/s]\u001b[A\n",
      " 33%|███▎      | 33/100 [00:27<01:01,  1.08it/s]\u001b[A\n",
      " 34%|███▍      | 34/100 [00:28<01:00,  1.10it/s]\u001b[A\n",
      " 35%|███▌      | 35/100 [00:29<00:58,  1.11it/s]\u001b[A\n",
      " 36%|███▌      | 36/100 [00:29<00:55,  1.15it/s]\u001b[A\n",
      " 37%|███▋      | 37/100 [00:30<00:51,  1.21it/s]\u001b[A\n",
      " 38%|███▊      | 38/100 [00:31<00:52,  1.17it/s]\u001b[A\n",
      " 39%|███▉      | 39/100 [00:32<00:50,  1.21it/s]\u001b[A\n",
      " 40%|████      | 40/100 [00:33<00:47,  1.25it/s]\u001b[A\n",
      " 41%|████      | 41/100 [00:33<00:46,  1.27it/s]\u001b[A\n",
      " 42%|████▏     | 42/100 [00:34<00:47,  1.22it/s]\u001b[A\n",
      " 43%|████▎     | 43/100 [00:35<00:46,  1.22it/s]\u001b[A\n",
      " 44%|████▍     | 44/100 [00:36<00:45,  1.23it/s]\u001b[A\n",
      " 45%|████▌     | 45/100 [00:37<00:46,  1.17it/s]\u001b[A\n",
      " 46%|████▌     | 46/100 [00:38<00:44,  1.21it/s]\u001b[A\n",
      " 47%|████▋     | 47/100 [00:38<00:43,  1.22it/s]\u001b[A\n",
      " 48%|████▊     | 48/100 [00:39<00:42,  1.23it/s]\u001b[A\n",
      " 49%|████▉     | 49/100 [00:40<00:42,  1.20it/s]\u001b[A\n",
      " 50%|█████     | 50/100 [00:41<00:43,  1.14it/s]\u001b[A\n",
      " 51%|█████     | 51/100 [00:42<00:43,  1.13it/s]\u001b[A\n",
      " 52%|█████▏    | 52/100 [00:43<00:41,  1.15it/s]\u001b[A\n",
      " 53%|█████▎    | 53/100 [00:43<00:38,  1.22it/s]\u001b[A\n",
      " 54%|█████▍    | 54/100 [00:44<00:37,  1.23it/s]\u001b[A\n",
      " 55%|█████▌    | 55/100 [00:45<00:34,  1.29it/s]\u001b[A\n",
      " 56%|█████▌    | 56/100 [00:46<00:34,  1.26it/s]\u001b[A\n",
      " 57%|█████▋    | 57/100 [00:47<00:34,  1.23it/s]\u001b[A\n",
      " 58%|█████▊    | 58/100 [00:47<00:33,  1.24it/s]\u001b[A\n",
      " 59%|█████▉    | 59/100 [00:48<00:34,  1.19it/s]\u001b[A\n",
      " 60%|██████    | 60/100 [00:49<00:32,  1.24it/s]\u001b[A\n",
      " 61%|██████    | 61/100 [00:50<00:30,  1.27it/s]\u001b[A\n",
      " 62%|██████▏   | 62/100 [00:51<00:31,  1.21it/s]\u001b[A\n",
      " 63%|██████▎   | 63/100 [00:52<00:29,  1.24it/s]\u001b[A\n",
      " 64%|██████▍   | 64/100 [00:52<00:29,  1.22it/s]\u001b[A\n",
      " 65%|██████▌   | 65/100 [00:53<00:28,  1.21it/s]\u001b[A\n",
      " 66%|██████▌   | 66/100 [00:54<00:27,  1.24it/s]\u001b[A\n",
      " 67%|██████▋   | 67/100 [00:55<00:26,  1.25it/s]\u001b[A\n",
      " 68%|██████▊   | 68/100 [00:55<00:25,  1.27it/s]\u001b[A\n",
      " 69%|██████▉   | 69/100 [00:56<00:24,  1.29it/s]\u001b[A\n",
      " 70%|███████   | 70/100 [00:57<00:23,  1.28it/s]\u001b[A\n",
      " 71%|███████   | 71/100 [00:58<00:22,  1.26it/s]\u001b[A\n",
      " 72%|███████▏  | 72/100 [00:59<00:22,  1.27it/s]\u001b[A\n",
      " 73%|███████▎  | 73/100 [01:00<00:21,  1.23it/s]\u001b[A\n",
      " 74%|███████▍  | 74/100 [01:00<00:20,  1.25it/s]\u001b[A\n",
      " 75%|███████▌  | 75/100 [01:01<00:19,  1.29it/s]\u001b[A\n",
      " 76%|███████▌  | 76/100 [01:02<00:18,  1.29it/s]\u001b[A\n",
      " 77%|███████▋  | 77/100 [01:03<00:17,  1.28it/s]\u001b[A\n",
      " 78%|███████▊  | 78/100 [01:04<00:18,  1.17it/s]\u001b[A\n",
      " 79%|███████▉  | 79/100 [01:04<00:16,  1.26it/s]\u001b[A\n",
      " 80%|████████  | 80/100 [01:05<00:15,  1.29it/s]\u001b[A\n",
      " 81%|████████  | 81/100 [01:06<00:15,  1.24it/s]\u001b[A\n",
      " 82%|████████▏ | 82/100 [01:07<00:14,  1.23it/s]\u001b[A\n",
      " 83%|████████▎ | 83/100 [01:08<00:13,  1.23it/s]\u001b[A\n",
      " 84%|████████▍ | 84/100 [01:08<00:12,  1.27it/s]\u001b[A\n",
      " 85%|████████▌ | 85/100 [01:09<00:11,  1.25it/s]\u001b[A\n",
      " 86%|████████▌ | 86/100 [01:10<00:11,  1.24it/s]\u001b[A\n",
      " 87%|████████▋ | 87/100 [01:11<00:10,  1.20it/s]\u001b[A\n",
      " 88%|████████▊ | 88/100 [01:12<00:09,  1.22it/s]\u001b[A\n",
      " 89%|████████▉ | 89/100 [01:13<00:09,  1.17it/s]\u001b[A\n",
      " 90%|█████████ | 90/100 [01:13<00:08,  1.20it/s]\u001b[A\n",
      " 91%|█████████ | 91/100 [01:14<00:07,  1.20it/s]\u001b[A\n",
      " 92%|█████████▏| 92/100 [01:15<00:06,  1.19it/s]\u001b[A\n",
      " 93%|█████████▎| 93/100 [01:16<00:05,  1.20it/s]\u001b[A\n",
      " 94%|█████████▍| 94/100 [01:17<00:05,  1.12it/s]\u001b[A\n",
      " 95%|█████████▌| 95/100 [01:18<00:04,  1.16it/s]\u001b[A\n",
      " 96%|█████████▌| 96/100 [01:18<00:03,  1.19it/s]\u001b[A\n",
      " 97%|█████████▋| 97/100 [01:19<00:02,  1.22it/s]\u001b[A\n",
      " 98%|█████████▊| 98/100 [01:20<00:01,  1.19it/s]\u001b[A\n",
      " 99%|█████████▉| 99/100 [01:21<00:00,  1.19it/s]\u001b[A\n",
      "100%|██████████| 100/100 [01:22<00:00,  1.21it/s]\u001b[A"
     ]
    }
   ],
   "source": [
    "accuracy = []\n",
    "\n",
    "#articlesByCharacteristics.shape[0])\n",
    "\n",
    "for j in tqdm(range(100)):\n",
    "\n",
    "    distanceVector = pairwise_distances(articlesByCharacteristics[j], tablesByCharacteristics, metric='cosine')\n",
    "\n",
    "    idQueryGoal = int(formattedArticles[j][0])\n",
    "\n",
    "    countTopTables = getTotalTablesByArticle(idQueryGoal)\n",
    "    \n",
    "    topK = nsmallest(countTopTables, distanceVector[0])\n",
    "\n",
    "    idRankedTables = getIdRankedTalbes(topK,distanceVector[0])\n",
    "    \n",
    "    accuracy.append(getAccuracy(idRankedTables,idQueryGoal))"
   ]
  },
  {
   "cell_type": "code",
   "execution_count": 58,
   "metadata": {},
   "outputs": [
    {
     "data": {
      "text/plain": [
       "0.05333333333333334"
      ]
     },
     "execution_count": 58,
     "metadata": {},
     "output_type": "execute_result"
    }
   ],
   "source": [
    "np.mean(accuracy)"
   ]
  },
  {
   "cell_type": "code",
   "execution_count": null,
   "metadata": {},
   "outputs": [],
   "source": [
    "data1 = pd.read_csv('cleanArticles', delimiter=',', header=None)\n",
    "x1 = data1.iloc[:,0].values"
   ]
  },
  {
   "cell_type": "code",
   "execution_count": null,
   "metadata": {},
   "outputs": [],
   "source": []
  },
  {
   "cell_type": "code",
   "execution_count": null,
   "metadata": {},
   "outputs": [],
   "source": []
  }
 ],
 "metadata": {
  "kernelspec": {
   "display_name": "Python 3",
   "language": "python",
   "name": "python3"
  },
  "language_info": {
   "codemirror_mode": {
    "name": "ipython",
    "version": 3
   },
   "file_extension": ".py",
   "mimetype": "text/x-python",
   "name": "python",
   "nbconvert_exporter": "python",
   "pygments_lexer": "ipython3",
   "version": "3.7.3"
  }
 },
 "nbformat": 4,
 "nbformat_minor": 2
}
