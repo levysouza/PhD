{
 "cells": [
  {
   "cell_type": "code",
   "execution_count": 2,
   "metadata": {},
   "outputs": [],
   "source": [
    "import tensorflow as tf\n",
    "import tensorflow_hub as hub\n",
    "import numpy as np\n",
    "import pandas as pd\n",
    "from tqdm import tqdm\n",
    "from sklearn.metrics import pairwise_distances\n",
    "from heapq import nsmallest"
   ]
  },
  {
   "cell_type": "code",
   "execution_count": 3,
   "metadata": {},
   "outputs": [],
   "source": [
    "module_url = \"https://tfhub.dev/google/universal-sentence-encoder/4\""
   ]
  },
  {
   "cell_type": "code",
   "execution_count": 4,
   "metadata": {},
   "outputs": [],
   "source": [
    "embed = hub.load(module_url)"
   ]
  },
  {
   "cell_type": "code",
   "execution_count": 5,
   "metadata": {},
   "outputs": [],
   "source": [
    "articles = pd.read_csv('../dataset/test_articles_dataset_newyork.csv', delimiter=',', keep_default_na=False)\n",
    "tables = pd.read_csv('../dataset/data_tables_all_signal_newyork.csv', delimiter=',', keep_default_na=False)"
   ]
  },
  {
   "cell_type": "code",
   "execution_count": 6,
   "metadata": {},
   "outputs": [
    {
     "name": "stdout",
     "output_type": "stream",
     "text": [
      "<class 'pandas.core.frame.DataFrame'>\n",
      "RangeIndex: 148 entries, 0 to 147\n",
      "Data columns (total 10 columns):\n",
      "article_full_text           148 non-null object\n",
      "article_key_match           148 non-null object\n",
      "article_keywords            148 non-null object\n",
      "article_main_passage        148 non-null object\n",
      "article_meta_description    148 non-null object\n",
      "article_meta_keywords       148 non-null object\n",
      "article_summary             148 non-null object\n",
      "article_tags                148 non-null object\n",
      "article_title               148 non-null object\n",
      "article_url                 148 non-null object\n",
      "dtypes: object(10)\n",
      "memory usage: 11.6+ KB\n"
     ]
    }
   ],
   "source": [
    "articles.info()"
   ]
  },
  {
   "cell_type": "markdown",
   "metadata": {},
   "source": [
    "## creating the articles embedings"
   ]
  },
  {
   "cell_type": "code",
   "execution_count": 18,
   "metadata": {},
   "outputs": [],
   "source": [
    "articles_title = []\n",
    "articles_id = []\n",
    "\n",
    "for i, row in articles.iterrows():\n",
    "    \n",
    "    articles_id.append(row['article_key_match'])\n",
    "    articles_title.append(row['article_title']+\" \"+row['article_main_passage'][0:1000])"
   ]
  },
  {
   "cell_type": "code",
   "execution_count": 19,
   "metadata": {},
   "outputs": [],
   "source": [
    "embedding_articles = embed(articles_title)"
   ]
  },
  {
   "cell_type": "code",
   "execution_count": 20,
   "metadata": {},
   "outputs": [],
   "source": [
    "article_dense_vector = []\n",
    "\n",
    "for current_embedding in embedding_articles:\n",
    "    \n",
    "    article_dense_vector.append(current_embedding.numpy())"
   ]
  },
  {
   "cell_type": "code",
   "execution_count": null,
   "metadata": {},
   "outputs": [],
   "source": []
  },
  {
   "cell_type": "code",
   "execution_count": 10,
   "metadata": {},
   "outputs": [
    {
     "name": "stdout",
     "output_type": "stream",
     "text": [
      "<class 'pandas.core.frame.DataFrame'>\n",
      "RangeIndex: 52426 entries, 0 to 52425\n",
      "Data columns (total 13 columns):\n",
      "table_body                     52426 non-null object\n",
      "table_caption                  52426 non-null object\n",
      "table_domain_score             52426 non-null float64\n",
      "table_header                   52426 non-null object\n",
      "table_page_content             52426 non-null object\n",
      "table_page_full_text           52426 non-null object\n",
      "table_page_keywords            52426 non-null object\n",
      "table_page_meta_description    52426 non-null object\n",
      "table_page_meta_keywords       52426 non-null object\n",
      "table_page_summary             52426 non-null object\n",
      "table_page_tags                52426 non-null object\n",
      "table_page_title               52426 non-null object\n",
      "table_page_url                 52426 non-null object\n",
      "dtypes: float64(1), object(12)\n",
      "memory usage: 5.2+ MB\n"
     ]
    }
   ],
   "source": [
    "tables.info()"
   ]
  },
  {
   "cell_type": "markdown",
   "metadata": {},
   "source": [
    "## creating the tables embeddings"
   ]
  },
  {
   "cell_type": "code",
   "execution_count": 21,
   "metadata": {},
   "outputs": [
    {
     "name": "stderr",
     "output_type": "stream",
     "text": [
      "52426it [00:06, 8636.09it/s]\n"
     ]
    }
   ],
   "source": [
    "tables_title = []\n",
    "tables_ids = []\n",
    "\n",
    "for i, row in tqdm(tables.iterrows()):\n",
    "    \n",
    "    tables_ids.append(row['table_page_url'])\n",
    "    tables_title.append(row['table_page_title']+\" \"+row['table_page_content'][0:1000])"
   ]
  },
  {
   "cell_type": "code",
   "execution_count": 22,
   "metadata": {},
   "outputs": [],
   "source": [
    "embedding_tables = embed(tables_title)"
   ]
  },
  {
   "cell_type": "code",
   "execution_count": 23,
   "metadata": {},
   "outputs": [],
   "source": [
    "tables_dense_vector = []\n",
    "\n",
    "for current_embedding in embedding_tables:\n",
    "    \n",
    "    tables_dense_vector.append(current_embedding.numpy())"
   ]
  },
  {
   "cell_type": "code",
   "execution_count": null,
   "metadata": {},
   "outputs": [],
   "source": []
  },
  {
   "cell_type": "code",
   "execution_count": null,
   "metadata": {},
   "outputs": [],
   "source": []
  },
  {
   "cell_type": "markdown",
   "metadata": {},
   "source": [
    "## methods for getting the ranked tables and save the accuracy"
   ]
  },
  {
   "cell_type": "code",
   "execution_count": null,
   "metadata": {},
   "outputs": [],
   "source": []
  },
  {
   "cell_type": "code",
   "execution_count": 24,
   "metadata": {},
   "outputs": [],
   "source": [
    "def get_accuracy(id_ranked_tables, id_query_goal):\n",
    "\n",
    "    accuracy = 0\n",
    "\n",
    "    for id_table in id_ranked_tables:\n",
    "    \n",
    "        if id_table[0] == id_query_goal:\n",
    "    \n",
    "            accuracy = 1\n",
    "            \n",
    "            break;\n",
    "\n",
    "    return accuracy"
   ]
  },
  {
   "cell_type": "code",
   "execution_count": 25,
   "metadata": {},
   "outputs": [],
   "source": [
    "def save_accuracy(k,accuracy):\n",
    "    \n",
    "    if k == 1:\n",
    "            \n",
    "        average_top1.append(accuracy)\n",
    "        \n",
    "    if k == 5:\n",
    "            \n",
    "        average_top5.append(accuracy)\n",
    "        \n",
    "    if k == 10:\n",
    "            \n",
    "        average_top10.append(accuracy)\n",
    "        \n",
    "    if k == 20:\n",
    "            \n",
    "        average_top20.append(accuracy)"
   ]
  },
  {
   "cell_type": "code",
   "execution_count": null,
   "metadata": {},
   "outputs": [],
   "source": []
  },
  {
   "cell_type": "markdown",
   "metadata": {},
   "source": [
    "## computing the cosine similarity"
   ]
  },
  {
   "cell_type": "code",
   "execution_count": 26,
   "metadata": {},
   "outputs": [
    {
     "name": "stderr",
     "output_type": "stream",
     "text": [
      "100%|██████████| 148/148 [00:32<00:00,  4.46it/s]\n"
     ]
    }
   ],
   "source": [
    "average_top1 = []\n",
    "average_top5 = []\n",
    "average_top10 = []\n",
    "average_top20 = []\n",
    "\n",
    "top_k = [1,5,10,20]\n",
    "\n",
    "for i in tqdm(range(len(article_dense_vector))):\n",
    "    \n",
    "    idQueryGoal = articles_id[i]\n",
    "    \n",
    "    distance_vector = pairwise_distances(article_dense_vector[i].reshape(1,512), tables_dense_vector, metric='cosine')\n",
    "    \n",
    "    #creating the dataframe\n",
    "    all_tables_score = []\n",
    "    \n",
    "    for j in range(len(tables_ids)):\n",
    "        \n",
    "        table_id = tables_ids[j]\n",
    "        table_score = distance_vector[0][j]\n",
    "        \n",
    "        new_row = {\"table_id\": table_id,\"table_score\": table_score}\n",
    "        \n",
    "        all_tables_score.append(new_row)\n",
    "        \n",
    "    df_all_tables_scores = pd.DataFrame(all_tables_score)\n",
    "    df_tables_sorting = df_all_tables_scores.sort_values('table_score')\n",
    "    \n",
    "    #compute the accuracy\n",
    "    for accuracyK in top_k:\n",
    "        \n",
    "        selected_top = df_tables_sorting.head(accuracyK)\n",
    "#         min_score = selected_top['table_score'].max()\n",
    "#         draw_tables_socres = df_tables_sorting[df_tables_sorting['table_score'] <= min_score]\n",
    "        final_ranked_tables = selected_top.iloc[:,0:1].values\n",
    "        \n",
    "        accuracy_value = get_accuracy(final_ranked_tables,idQueryGoal)\n",
    "        \n",
    "        #save the accuracy on the list\n",
    "        save_accuracy(accuracyK,accuracy_value)"
   ]
  },
  {
   "cell_type": "code",
   "execution_count": 27,
   "metadata": {},
   "outputs": [
    {
     "name": "stdout",
     "output_type": "stream",
     "text": [
      "0.2838\n",
      "0.5338\n",
      "0.5946\n",
      "0.6419\n"
     ]
    }
   ],
   "source": [
    "print(str(round(np.mean(average_top1),4)))\n",
    "print(str(round(np.mean(average_top5),4)))\n",
    "print(str(round(np.mean(average_top10),4)))\n",
    "print(str(round(np.mean(average_top20),4)))"
   ]
  },
  {
   "cell_type": "code",
   "execution_count": null,
   "metadata": {},
   "outputs": [],
   "source": []
  },
  {
   "cell_type": "code",
   "execution_count": null,
   "metadata": {},
   "outputs": [],
   "source": []
  }
 ],
 "metadata": {
  "kernelspec": {
   "display_name": "Python 3",
   "language": "python",
   "name": "python3"
  },
  "language_info": {
   "codemirror_mode": {
    "name": "ipython",
    "version": 3
   },
   "file_extension": ".py",
   "mimetype": "text/x-python",
   "name": "python",
   "nbconvert_exporter": "python",
   "pygments_lexer": "ipython3",
   "version": "3.7.3"
  }
 },
 "nbformat": 4,
 "nbformat_minor": 2
}
