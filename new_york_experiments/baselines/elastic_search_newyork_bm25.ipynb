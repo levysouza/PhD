{
 "cells": [
  {
   "cell_type": "code",
   "execution_count": 1,
   "metadata": {},
   "outputs": [],
   "source": [
    "from tqdm import tqdm\n",
    "import numpy as np\n",
    "import pandas as pd\n",
    "import random\n",
    "from elasticsearch import Elasticsearch\n",
    "from elasticsearch import helpers\n",
    "indexingTables = Elasticsearch(timeout=30, max_retries=10, retry_on_timeout=True)"
   ]
  },
  {
   "cell_type": "code",
   "execution_count": 2,
   "metadata": {},
   "outputs": [],
   "source": [
    "def get_accuracy(idRankedTables, idQueryGoal):\n",
    "    \n",
    "    accuracy = 0\n",
    "\n",
    "    for idTable in idRankedTables:\n",
    "        \n",
    "        if idTable == idQueryGoal:\n",
    "    \n",
    "            accuracy = 1\n",
    "            break;\n",
    "\n",
    "    return accuracy"
   ]
  },
  {
   "cell_type": "code",
   "execution_count": 3,
   "metadata": {},
   "outputs": [
    {
     "data": {
      "text/plain": [
       "{'acknowledged': True, 'shards_acknowledged': True}"
      ]
     },
     "execution_count": 3,
     "metadata": {},
     "output_type": "execute_result"
    }
   ],
   "source": [
    "indexingTables.indices.close(index='data_table_newyork')\n",
    "indexingTables.indices.put_settings(index='data_table_newyork', body={\"index\": {\"similarity\": {\"default\": {\"type\": \"BM25\"}}}})\n",
    "indexingTables.indices.open(index='data_table_newyork')"
   ]
  },
  {
   "cell_type": "code",
   "execution_count": 4,
   "metadata": {},
   "outputs": [],
   "source": [
    "def searchIndexing(query, tableField, topK):\n",
    "    \n",
    "    result= indexingTables.search(\n",
    "        index=\"data_table_newyork\", \n",
    "        body = {\n",
    "        \"_source\": [\"table_url\"],\n",
    "        \"from\" : 0,\n",
    "        \"size\" : topK,\n",
    "        \"query\": {\n",
    "            \"multi_match\":{\n",
    "              \"type\": \"most_fields\",\n",
    "              \"query\":    query, \n",
    "              #\"fields\": [\"tablePgTitle\"] \n",
    "              \"fields\": [\"table_page_title\"] \n",
    "              #\"fields\": [tableField]\n",
    "            }\n",
    "        }\n",
    "    })\n",
    "    \n",
    "    return result"
   ]
  },
  {
   "cell_type": "code",
   "execution_count": 5,
   "metadata": {},
   "outputs": [],
   "source": [
    "articles = pd.read_csv('../dataset/test_articles_dataset_newyork.csv', delimiter=',')"
   ]
  },
  {
   "cell_type": "code",
   "execution_count": 6,
   "metadata": {},
   "outputs": [
    {
     "name": "stdout",
     "output_type": "stream",
     "text": [
      "<class 'pandas.core.frame.DataFrame'>\n",
      "RangeIndex: 148 entries, 0 to 147\n",
      "Data columns (total 10 columns):\n",
      "article_full_text           141 non-null object\n",
      "article_key_match           148 non-null object\n",
      "article_keywords            143 non-null object\n",
      "article_main_passage        148 non-null object\n",
      "article_meta_description    132 non-null object\n",
      "article_meta_keywords       58 non-null object\n",
      "article_summary             141 non-null object\n",
      "article_tags                54 non-null object\n",
      "article_title               148 non-null object\n",
      "article_url                 148 non-null object\n",
      "dtypes: object(10)\n",
      "memory usage: 11.6+ KB\n"
     ]
    }
   ],
   "source": [
    "articles.info()"
   ]
  },
  {
   "cell_type": "code",
   "execution_count": 7,
   "metadata": {},
   "outputs": [],
   "source": [
    "def executeSearch(tableField, topK):\n",
    "\n",
    "    accuracy = []\n",
    "\n",
    "    for i,row in (articles.iterrows()):\n",
    "    \n",
    "        article_url = row['article_url']\n",
    "        article_page_title = row['article_title']\n",
    "        article_page_summary = str(row['article_summary'])\n",
    "        article_page_meta_description = str(row['article_meta_description'])\n",
    "        article_keywords = str(row['article_keywords'])\n",
    "        article_main_passage = str(row['article_main_passage'][0:1000])\n",
    "        \n",
    "        catch = article_page_title+\" \"+article_page_meta_description+\" \"+article_keywords\n",
    "        \n",
    "        table_url = row['article_key_match'] \n",
    "        articl_key = table_url\n",
    "        \n",
    "        result = searchIndexing(article_page_title,tableField,topK)\n",
    "\n",
    "        if result['hits']['total'] > 0:\n",
    "\n",
    "            return_tables = []\n",
    "\n",
    "            for hit in result['hits']['hits']:\n",
    "\n",
    "                tablePgId = hit['_source']['table_url']\n",
    "                table_score = hit['_score']\n",
    "                new_row = {\"table_id\": tablePgId,\"table_score\": table_score}\n",
    "                return_tables.append(new_row)\n",
    "\n",
    "            df_return_tables = pd.DataFrame(return_tables)\n",
    "            df_return_tables_sorting = df_return_tables.sort_values('table_score', ascending=False)\n",
    "\n",
    "            selected_top = df_return_tables_sorting.head(topK)\n",
    "            min_score = selected_top['table_score'].min()\n",
    "            draw_tables_socres = df_return_tables_sorting[df_return_tables_sorting['table_score'] >= min_score]\n",
    "            final_ranked_tables = draw_tables_socres.iloc[:,0:1].values\n",
    "\n",
    "            accuracy.append(get_accuracy(final_ranked_tables,articl_key))\n",
    "\n",
    "    print(str(round(np.mean(accuracy),4)))"
   ]
  },
  {
   "cell_type": "code",
   "execution_count": 8,
   "metadata": {},
   "outputs": [],
   "source": [
    "tableField = [\"table_page_title\",\"table_page_content\",\"table_page_full_text\",\"table_page_summary\",\"table_page_keywords\",\"table_caption\",\"table_header\",\"table_body\"]\n",
    "topK = [1,5,10,20]"
   ]
  },
  {
   "cell_type": "code",
   "execution_count": 26,
   "metadata": {},
   "outputs": [],
   "source": [
    "# for k in topK:\n",
    "    \n",
    "#     print(\"\")\n",
    "    \n",
    "#     for field in tableField:\n",
    "        \n",
    "#         print(\"Acc@\"+str(k)+\" - \"+field)\n",
    "        \n",
    "#         executeSearch(field,k)"
   ]
  },
  {
   "cell_type": "code",
   "execution_count": null,
   "metadata": {},
   "outputs": [],
   "source": []
  },
  {
   "cell_type": "code",
   "execution_count": 9,
   "metadata": {},
   "outputs": [
    {
     "name": "stdout",
     "output_type": "stream",
     "text": [
      "\n",
      "Acc@1\n",
      "0.2905\n",
      "\n",
      "Acc@5\n",
      "0.4324\n",
      "\n",
      "Acc@10\n",
      "0.5203\n",
      "\n",
      "Acc@20\n",
      "0.5811\n"
     ]
    }
   ],
   "source": [
    "for k in topK:\n",
    "    \n",
    "    print(\"\")\n",
    "         \n",
    "    print(\"Acc@\"+str(k))\n",
    "        \n",
    "    executeSearch(\"\",k)"
   ]
  },
  {
   "cell_type": "code",
   "execution_count": null,
   "metadata": {},
   "outputs": [],
   "source": []
  },
  {
   "cell_type": "code",
   "execution_count": null,
   "metadata": {},
   "outputs": [],
   "source": []
  },
  {
   "cell_type": "code",
   "execution_count": null,
   "metadata": {},
   "outputs": [],
   "source": []
  },
  {
   "cell_type": "code",
   "execution_count": null,
   "metadata": {},
   "outputs": [],
   "source": []
  }
 ],
 "metadata": {
  "kernelspec": {
   "display_name": "Python 3",
   "language": "python",
   "name": "python3"
  },
  "language_info": {
   "codemirror_mode": {
    "name": "ipython",
    "version": 3
   },
   "file_extension": ".py",
   "mimetype": "text/x-python",
   "name": "python",
   "nbconvert_exporter": "python",
   "pygments_lexer": "ipython3",
   "version": "3.7.3"
  }
 },
 "nbformat": 4,
 "nbformat_minor": 2
}
