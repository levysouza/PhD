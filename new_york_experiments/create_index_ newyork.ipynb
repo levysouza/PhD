{
 "cells": [
  {
   "cell_type": "code",
   "execution_count": 1,
   "metadata": {},
   "outputs": [],
   "source": [
    "from tqdm import tqdm\n",
    "import numpy as np\n",
    "import pandas as pd\n",
    "import random\n",
    "from elasticsearch import Elasticsearch\n",
    "from elasticsearch import helpers\n",
    "indexing_tables = Elasticsearch()"
   ]
  },
  {
   "cell_type": "code",
   "execution_count": 2,
   "metadata": {},
   "outputs": [],
   "source": [
    "raw_tables = pd.read_csv('dataset/data_tables_all_signal_newyork.csv', delimiter=',')"
   ]
  },
  {
   "cell_type": "code",
   "execution_count": 3,
   "metadata": {},
   "outputs": [
    {
     "name": "stdout",
     "output_type": "stream",
     "text": [
      "<class 'pandas.core.frame.DataFrame'>\n",
      "RangeIndex: 52426 entries, 0 to 52425\n",
      "Data columns (total 13 columns):\n",
      "table_body                     52423 non-null object\n",
      "table_caption                  4086 non-null object\n",
      "table_domain_score             52426 non-null float64\n",
      "table_header                   52410 non-null object\n",
      "table_page_content             51933 non-null object\n",
      "table_page_full_text           50706 non-null object\n",
      "table_page_keywords            52322 non-null object\n",
      "table_page_meta_description    0 non-null float64\n",
      "table_page_meta_keywords       0 non-null float64\n",
      "table_page_summary             50703 non-null object\n",
      "table_page_tags                724 non-null object\n",
      "table_page_title               52426 non-null object\n",
      "table_page_url                 52426 non-null object\n",
      "dtypes: float64(3), object(10)\n",
      "memory usage: 5.2+ MB\n"
     ]
    }
   ],
   "source": [
    "raw_tables.info()"
   ]
  },
  {
   "cell_type": "code",
   "execution_count": null,
   "metadata": {},
   "outputs": [],
   "source": []
  },
  {
   "cell_type": "code",
   "execution_count": 4,
   "metadata": {},
   "outputs": [],
   "source": [
    "def create_indexing():\n",
    "    \n",
    "    for i,row in tqdm(raw_tables.iterrows()):\n",
    "        \n",
    "        table_url = str(row['table_page_url'])\n",
    "        table_page_title = str(row['table_page_title'])\n",
    "        table_page_content = str(row['table_page_content'])\n",
    "        table_caption = str(row['table_caption'])\n",
    "        table_domain_score = row['table_domain_score']\n",
    "        table_body = str(row['table_body'])\n",
    "        table_header = str(row['table_header'])\n",
    "        \n",
    "        table_page_full_text = str(row['table_page_full_text'])\n",
    "        table_page_keywords = str(row['table_page_keywords'])\n",
    "        table_page_meta_description = str(row['table_page_meta_description'])\n",
    "        table_page_meta_keywords = str(row['table_page_meta_keywords'])\n",
    "        table_page_summary = str(row['table_page_summary'])\n",
    "        table_page_tags = str(row['table_page_tags'])\n",
    "        \n",
    "        yield {\n",
    "            \"_index\": \"data_table_newyork\",\n",
    "            \"_type\": \"data_table_newyork\",\n",
    "            \"_source\": {\n",
    "                \"table_url\": table_url,\n",
    "                \"table_page_title\": table_page_title,\n",
    "                \"table_page_content\": table_page_content,\n",
    "                \"table_page_full_text\": table_page_full_text,\n",
    "                \"table_page_meta_description\": table_page_meta_description,\n",
    "                \"table_page_summary\": table_page_summary,\n",
    "                \"table_page_keywords\": table_page_keywords,\n",
    "                \"table_page_meta_keywords\": table_page_meta_keywords,\n",
    "                \"table_page_tags\": table_page_tags,\n",
    "                \"table_caption\": table_caption,\n",
    "                \"table_domain_score\": table_domain_score,\n",
    "                \"table_body\": table_body,\n",
    "                \"table_header\": table_header\n",
    "            }\n",
    "            \n",
    "        }"
   ]
  },
  {
   "cell_type": "code",
   "execution_count": 6,
   "metadata": {},
   "outputs": [
    {
     "data": {
      "text/plain": [
       "{'acknowledged': True}"
      ]
     },
     "execution_count": 6,
     "metadata": {},
     "output_type": "execute_result"
    }
   ],
   "source": [
    "indexing_tables.indices.delete(index='data_table_newyork')"
   ]
  },
  {
   "cell_type": "code",
   "execution_count": 7,
   "metadata": {},
   "outputs": [
    {
     "name": "stderr",
     "output_type": "stream",
     "text": [
      "52426it [00:46, 1121.18it/s]\n"
     ]
    },
    {
     "data": {
      "text/plain": [
       "(52426, [])"
      ]
     },
     "execution_count": 7,
     "metadata": {},
     "output_type": "execute_result"
    }
   ],
   "source": [
    "helpers.bulk(indexing_tables, create_indexing())"
   ]
  }
 ],
 "metadata": {
  "kernelspec": {
   "display_name": "Python 3",
   "language": "python",
   "name": "python3"
  },
  "language_info": {
   "codemirror_mode": {
    "name": "ipython",
    "version": 3
   },
   "file_extension": ".py",
   "mimetype": "text/x-python",
   "name": "python",
   "nbconvert_exporter": "python",
   "pygments_lexer": "ipython3",
   "version": "3.7.3"
  }
 },
 "nbformat": 4,
 "nbformat_minor": 2
}
