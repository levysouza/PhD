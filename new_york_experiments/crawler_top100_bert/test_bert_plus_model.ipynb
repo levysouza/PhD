{
 "cells": [
  {
   "cell_type": "code",
   "execution_count": 1,
   "metadata": {},
   "outputs": [],
   "source": [
    "from tqdm import tqdm\n",
    "import numpy as np\n",
    "import pandas as pd\n",
    "import random\n",
    "import gensim as gs\n",
    "from elasticsearch import Elasticsearch\n",
    "from elasticsearch import helpers\n",
    "from nltk.tokenize import TweetTokenizer\n",
    "tknzr = TweetTokenizer()\n",
    "indexing_tables = Elasticsearch(timeout=30, max_retries=10, retry_on_timeout=True)\n",
    "import tensorflow as tf\n",
    "import warnings\n",
    "warnings.filterwarnings('ignore')"
   ]
  },
  {
   "cell_type": "code",
   "execution_count": 2,
   "metadata": {},
   "outputs": [
    {
     "data": {
      "text/plain": [
       "'2.2.0'"
      ]
     },
     "execution_count": 2,
     "metadata": {},
     "output_type": "execute_result"
    }
   ],
   "source": [
    "tf.__version__"
   ]
  },
  {
   "cell_type": "code",
   "execution_count": 3,
   "metadata": {},
   "outputs": [],
   "source": [
    "embedding_model = gs.models.FastText.load('../../train_embedding_models/fasttext_embedding_50d_all_signals')"
   ]
  },
  {
   "cell_type": "code",
   "execution_count": null,
   "metadata": {},
   "outputs": [],
   "source": []
  },
  {
   "cell_type": "code",
   "execution_count": 4,
   "metadata": {},
   "outputs": [],
   "source": [
    "MAX_PAD = 55\n",
    "\n",
    "def sequence_padding(X_DIM, value):\n",
    "    \n",
    "    value_padding = np.pad(value, ((0,MAX_PAD - X_DIM),(0,0)), 'constant')\n",
    "    \n",
    "    return value_padding"
   ]
  },
  {
   "cell_type": "code",
   "execution_count": 5,
   "metadata": {},
   "outputs": [],
   "source": [
    "def create_embedding(value):\n",
    "\n",
    "    value = tknzr.tokenize(str(value))\n",
    "    \n",
    "    if len(value) < MAX_PAD:\n",
    "        \n",
    "        embedding = embedding_model.wv[value]\n",
    "        embedding = embedding.astype('float16')\n",
    "        \n",
    "        padding_embedding = sequence_padding(embedding.shape[0],embedding)\n",
    "        \n",
    "        return padding_embedding\n",
    "        \n",
    "    else:\n",
    "        \n",
    "        embedding = embedding_model.wv[value[0:MAX_PAD]]\n",
    "        embedding = embedding.astype('float16')\n",
    "        \n",
    "        return embedding"
   ]
  },
  {
   "cell_type": "code",
   "execution_count": null,
   "metadata": {},
   "outputs": [],
   "source": []
  },
  {
   "cell_type": "code",
   "execution_count": null,
   "metadata": {},
   "outputs": [],
   "source": [
    "#affinity_model_title_main_passage_keywords_attributes_correlation_1_1_08_0.9767.h5\n",
    "#attention_model_title_main_passage_keywords_attributes_correlation_1_1_17_0.9859.h5\n",
    "#coattention_model_title_main_passage_keywords_attributes_correlation_1_1_10_0.9604.h5"
   ]
  },
  {
   "cell_type": "code",
   "execution_count": 14,
   "metadata": {},
   "outputs": [],
   "source": [
    "ranking_model = tf.keras.models.load_model('../../learning_to_rank_models/model_title_main_passage_keywords_attributes_correlation/attention_model_title_main_passage_keywords_attributes_correlation_1_1_17_0.9859.h5')\n",
    "\n"
   ]
  },
  {
   "cell_type": "code",
   "execution_count": null,
   "metadata": {},
   "outputs": [],
   "source": []
  },
  {
   "cell_type": "code",
   "execution_count": 8,
   "metadata": {},
   "outputs": [],
   "source": [
    "read_data = pd.read_csv('dataset_top100_bert.csv', delimiter=',')"
   ]
  },
  {
   "cell_type": "code",
   "execution_count": null,
   "metadata": {},
   "outputs": [],
   "source": []
  },
  {
   "cell_type": "code",
   "execution_count": 9,
   "metadata": {},
   "outputs": [],
   "source": [
    "unique_articles = read_data.article_url.unique()"
   ]
  },
  {
   "cell_type": "code",
   "execution_count": 10,
   "metadata": {},
   "outputs": [],
   "source": [
    "total_articles = len(unique_articles)"
   ]
  },
  {
   "cell_type": "code",
   "execution_count": null,
   "metadata": {},
   "outputs": [],
   "source": []
  },
  {
   "cell_type": "code",
   "execution_count": 11,
   "metadata": {},
   "outputs": [],
   "source": [
    "accuracy = []\n",
    "\n",
    "def get_accuracy(current_dataframe):\n",
    "    \n",
    "    for i in range(len(current_dataframe)):\n",
    "        \n",
    "        if current_dataframe[i] == 1:\n",
    "            \n",
    "            accuracy.append(1)\n",
    "    \n",
    "    return accuracy"
   ]
  },
  {
   "cell_type": "code",
   "execution_count": null,
   "metadata": {},
   "outputs": [],
   "source": []
  },
  {
   "cell_type": "code",
   "execution_count": 15,
   "metadata": {},
   "outputs": [
    {
     "name": "stderr",
     "output_type": "stream",
     "text": [
      "100%|██████████| 1875/1875 [10:19<00:00,  3.03it/s]\n"
     ]
    }
   ],
   "source": [
    "for i in tqdm(range(len(unique_articles))):\n",
    "    \n",
    "    article_title = []\n",
    "    article_main_passage = []\n",
    "    article_keywords = []\n",
    "\n",
    "    title_table = []\n",
    "    table_page_content = []\n",
    "    table_keywords = []\n",
    "    \n",
    "    ranked_tables_model = []\n",
    "    \n",
    "    current_article = unique_articles[i]\n",
    "    \n",
    "    rslt_df = read_data[read_data['article_url'] == current_article]\n",
    "    \n",
    "    for j,row in rslt_df.iterrows():\n",
    "        \n",
    "        article_url = row['article_url']\n",
    "        article_title_text = row['article_title']\n",
    "        article_meta_description_text = row['article_meta_description']\n",
    "        article_keywords_text = row['article_keywords']\n",
    "        \n",
    "        table_url = row['table_url']\n",
    "        table_title_text = row['table_title']\n",
    "        table_summary_text = row['table_summary']\n",
    "        table_keywords_text = row['table_keywords']\n",
    "        \n",
    "        match = row['match']\n",
    "        old_rank = row['old_rank']\n",
    "        \n",
    "        #creating embedding\n",
    "        article_title_embedding = create_embedding(article_title_text)\n",
    "        article_main_passage_embedding = create_embedding(article_meta_description_text)\n",
    "        article_keywords_embedding = create_embedding(article_keywords_text)\n",
    "        \n",
    "        table_title_embedding = create_embedding(table_title_text)\n",
    "        table_page_content_embedding = create_embedding(table_summary_text)\n",
    "        table_page_keywords_embedding = create_embedding(table_keywords_text)\n",
    "        \n",
    "        #adding to list\n",
    "        article_title.append(article_title_embedding)\n",
    "        article_main_passage.append(article_main_passage_embedding)\n",
    "        article_keywords.append(article_keywords_embedding)\n",
    "\n",
    "        title_table.append(table_title_embedding)\n",
    "        table_page_content.append(table_page_content_embedding)\n",
    "        table_keywords.append(table_page_keywords_embedding)\n",
    "        \n",
    "    \n",
    "    #transforming in numpy\n",
    "    article_title = np.array(article_title)\n",
    "    article_main_passage = np.array(article_main_passage)\n",
    "    article_keywords = np.array(article_keywords)\n",
    "\n",
    "    title_table = np.array(title_table)\n",
    "    table_page_content = np.array(table_page_content)\n",
    "    table_keywords = np.array(table_keywords)\n",
    "    \n",
    "    #predicting\n",
    "    table_ranking_model = ranking_model.predict([article_title,article_main_passage,article_keywords,title_table,table_page_content,table_keywords])\n",
    "    \n",
    "    for k in range(len(table_ranking_model)):\n",
    "        \n",
    "        article_url2 = rslt_df[k:k+1]['article_url'].iloc[0]\n",
    "        table_url2 = rslt_df[k:k+1]['table_url'].iloc[0]\n",
    "        match2 = rslt_df[k:k+1]['match'].iloc[0]\n",
    "        old_rank2 = rslt_df[k:k+1]['old_rank'].iloc[0]\n",
    "        \n",
    "        ranked_tables_model.append([article_url2,table_url2,match2,old_rank2,table_ranking_model[k]]) \n",
    "    \n",
    "    \n",
    "    data_frame = pd.DataFrame(ranked_tables_model, columns = ['article_url', 'table_url','match','old_rank','table_ranking']) \n",
    "    data_frame_sorting = data_frame.sort_values('table_ranking', ascending=False)\n",
    "    final_ranked_tables = data_frame_sorting.iloc[0:20,2:3].values\n",
    "    \n",
    "    accuracy = get_accuracy(final_ranked_tables[0])"
   ]
  },
  {
   "cell_type": "code",
   "execution_count": null,
   "metadata": {},
   "outputs": [],
   "source": []
  },
  {
   "cell_type": "code",
   "execution_count": 16,
   "metadata": {},
   "outputs": [
    {
     "data": {
      "text/plain": [
       "0.49706666666666666"
      ]
     },
     "execution_count": 16,
     "metadata": {},
     "output_type": "execute_result"
    }
   ],
   "source": [
    "result_top1 = len(accuracy)/total_articles\n",
    "result_top1"
   ]
  },
  {
   "cell_type": "code",
   "execution_count": null,
   "metadata": {},
   "outputs": [],
   "source": []
  },
  {
   "cell_type": "code",
   "execution_count": null,
   "metadata": {},
   "outputs": [],
   "source": [
    "attention = 0.3642666666666667"
   ]
  },
  {
   "cell_type": "code",
   "execution_count": null,
   "metadata": {},
   "outputs": [],
   "source": [
    "affinity = 0.27"
   ]
  },
  {
   "cell_type": "code",
   "execution_count": null,
   "metadata": {},
   "outputs": [],
   "source": [
    "coattention = 0.1328"
   ]
  },
  {
   "cell_type": "code",
   "execution_count": null,
   "metadata": {},
   "outputs": [],
   "source": []
  },
  {
   "cell_type": "code",
   "execution_count": null,
   "metadata": {},
   "outputs": [],
   "source": []
  },
  {
   "cell_type": "code",
   "execution_count": null,
   "metadata": {},
   "outputs": [],
   "source": []
  },
  {
   "cell_type": "code",
   "execution_count": null,
   "metadata": {},
   "outputs": [],
   "source": []
  },
  {
   "cell_type": "code",
   "execution_count": null,
   "metadata": {},
   "outputs": [],
   "source": []
  },
  {
   "cell_type": "code",
   "execution_count": null,
   "metadata": {},
   "outputs": [],
   "source": []
  }
 ],
 "metadata": {
  "kernelspec": {
   "display_name": "Python 3",
   "language": "python",
   "name": "python3"
  },
  "language_info": {
   "codemirror_mode": {
    "name": "ipython",
    "version": 3
   },
   "file_extension": ".py",
   "mimetype": "text/x-python",
   "name": "python",
   "nbconvert_exporter": "python",
   "pygments_lexer": "ipython3",
   "version": "3.6.10"
  }
 },
 "nbformat": 4,
 "nbformat_minor": 2
}
