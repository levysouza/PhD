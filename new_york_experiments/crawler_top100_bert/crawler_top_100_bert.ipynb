{
 "cells": [
  {
   "cell_type": "code",
   "execution_count": null,
   "metadata": {},
   "outputs": [],
   "source": [
    "from tqdm import tqdm\n",
    "import numpy as np\n",
    "import pandas as pd\n",
    "from newspaper import Article\n",
    "import re\n",
    "import nltk\n",
    "import csv\n",
    "from nltk.corpus import stopwords\n",
    "from nltk.tokenize import word_tokenize\n",
    "stop_words = set(stopwords.words('english')) "
   ]
  },
  {
   "cell_type": "code",
   "execution_count": null,
   "metadata": {},
   "outputs": [],
   "source": [
    "read = pd.read_csv('TestCollectionTop100Bert.csv', delimiter=',', header=None, names=[\"News\", \"Table\", \"Match\", \"Score\", \"Rank\"])"
   ]
  },
  {
   "cell_type": "code",
   "execution_count": null,
   "metadata": {},
   "outputs": [],
   "source": [
    "test_articles = pd.read_csv('test_articles_dataset_newyork.csv', delimiter=',')"
   ]
  },
  {
   "cell_type": "code",
   "execution_count": null,
   "metadata": {},
   "outputs": [],
   "source": []
  },
  {
   "cell_type": "code",
   "execution_count": null,
   "metadata": {},
   "outputs": [],
   "source": [
    "count = 0\n",
    "\n",
    "for i, row in tqdm(test_articles.iterrows()):\n",
    "    \n",
    "    article_url = row['article_url']\n",
    "    \n",
    "    for j, rowj in read.iterrows():\n",
    "    \n",
    "        article_top100 = rowj['News']\n",
    "        \n",
    "        if article_url == article_top100:\n",
    "            print(article_url)\n",
    "            print(article_top100)\n",
    "            count = count + 1"
   ]
  },
  {
   "cell_type": "code",
   "execution_count": null,
   "metadata": {},
   "outputs": [],
   "source": [
    "count"
   ]
  },
  {
   "cell_type": "code",
   "execution_count": null,
   "metadata": {},
   "outputs": [],
   "source": [
    "resultao = count/100"
   ]
  },
  {
   "cell_type": "code",
   "execution_count": null,
   "metadata": {},
   "outputs": [],
   "source": [
    "resultao"
   ]
  },
  {
   "cell_type": "code",
   "execution_count": null,
   "metadata": {},
   "outputs": [],
   "source": []
  },
  {
   "cell_type": "code",
   "execution_count": null,
   "metadata": {},
   "outputs": [],
   "source": [
    "def remove_stopwords(example_sent):\n",
    "    \n",
    "    word_tokens = word_tokenize(example_sent) \n",
    "  \n",
    "    filtered_sentence = [w for w in word_tokens if not w in stop_words] \n",
    "  \n",
    "    filtered_sentence = [] \n",
    "  \n",
    "    for w in word_tokens: \n",
    "        if w not in stop_words: \n",
    "            filtered_sentence.append(w)\n",
    "    \n",
    "    formattedText = \"\"\n",
    "\n",
    "    for word in filtered_sentence:\n",
    "        \n",
    "        if (len(word)>2):\n",
    "            \n",
    "            formattedText = formattedText + \" \" +word\n",
    "    \n",
    "    \n",
    "    formattedText = formattedText.lstrip()\n",
    "    \n",
    "    formattedText = formattedText.rstrip()\n",
    "        \n",
    "    return formattedText.lower()"
   ]
  },
  {
   "cell_type": "code",
   "execution_count": null,
   "metadata": {},
   "outputs": [],
   "source": [
    "def clear_string(text):\n",
    "    \n",
    "    text = re.sub('[^A-Za-z]+',' ',text)\n",
    "    \n",
    "    text = text.lstrip()\n",
    "    \n",
    "    text = text.rstrip()\n",
    "    \n",
    "    return text"
   ]
  },
  {
   "cell_type": "code",
   "execution_count": null,
   "metadata": {},
   "outputs": [],
   "source": [
    "def article_parse(url):\n",
    "    \n",
    "    article = Article(url)\n",
    "    \n",
    "    article.download()\n",
    "    article.parse()\n",
    "    article.nlp()\n",
    "    \n",
    "    title = remove_stopwords(clear_string(article.title))\n",
    "    #full_text = remove_stopwords(clear_string(article.text))\n",
    "    meta_description = remove_stopwords(clear_string(article.meta_description))\n",
    "    summary = remove_stopwords(clear_string(article.summary))\n",
    "    \n",
    "    #get the list of keywords\n",
    "    keywords = article.keywords\n",
    "    aux1 = ''\n",
    "    for word in keywords:\n",
    "        \n",
    "        aux1 = aux1 +\" \"+word\n",
    "        \n",
    "    keywords = remove_stopwords(clear_string(aux1))\n",
    "    \n",
    "    return title, meta_description, summary, keywords"
   ]
  },
  {
   "cell_type": "code",
   "execution_count": null,
   "metadata": {},
   "outputs": [],
   "source": []
  },
  {
   "cell_type": "code",
   "execution_count": null,
   "metadata": {},
   "outputs": [],
   "source": [
    "dataset = []\n",
    "\n",
    "for i, row in tqdm(read[0:10].iterrows()):\n",
    "    \n",
    "    try:\n",
    "        \n",
    "        article_url = row['News']\n",
    "        table_url = row['Table']\n",
    "        match = row['Match']\n",
    "        rank = row['Rank']\n",
    "    \n",
    "        news_title, news_meta_description, news_summary, news_keywords = article_parse(article_url)\n",
    "        \n",
    "        table_title, table_meta_description, table_summary, table_keywords = article_parse(table_url)\n",
    "        \n",
    "        line =     {\"article_title\":news_title,\n",
    "                    \"article_meta_description\":news_meta_description,\n",
    "                    \"article_summary\":news_summary,\n",
    "                    \"article_keywords\":news_keywords,\n",
    "                    \n",
    "                    \"table_title\": table_title,\n",
    "                    \"table_meta_description\": table_meta_description,\n",
    "                    \"table_summary\": table_summary,\n",
    "                    \"table_keywords\": table_keywords,\n",
    "                    \n",
    "                    \"match\":match,\n",
    "                    \"old_rank\":rank}\n",
    "            \n",
    "        dataset.append(line)\n",
    "         \n",
    "    except:\n",
    "        \n",
    "        continue         "
   ]
  },
  {
   "cell_type": "code",
   "execution_count": null,
   "metadata": {},
   "outputs": [],
   "source": []
  },
  {
   "cell_type": "code",
   "execution_count": null,
   "metadata": {},
   "outputs": [],
   "source": [
    "df_dataset = pd.DataFrame(dataset)"
   ]
  },
  {
   "cell_type": "code",
   "execution_count": null,
   "metadata": {},
   "outputs": [],
   "source": [
    "df_dataset.to_csv('dataset_top100_bert.csv',index=False)"
   ]
  },
  {
   "cell_type": "code",
   "execution_count": null,
   "metadata": {},
   "outputs": [],
   "source": []
  },
  {
   "cell_type": "code",
   "execution_count": null,
   "metadata": {},
   "outputs": [],
   "source": []
  }
 ],
 "metadata": {
  "kernelspec": {
   "display_name": "Python 3",
   "language": "python",
   "name": "python3"
  },
  "language_info": {
   "codemirror_mode": {
    "name": "ipython",
    "version": 3
   },
   "file_extension": ".py",
   "mimetype": "text/x-python",
   "name": "python",
   "nbconvert_exporter": "python",
   "pygments_lexer": "ipython3",
   "version": "3.6.10"
  }
 },
 "nbformat": 4,
 "nbformat_minor": 2
}
