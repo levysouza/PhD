{
 "cells": [
  {
   "cell_type": "code",
   "execution_count": 1,
   "metadata": {},
   "outputs": [],
   "source": [
    "from tqdm import tqdm\n",
    "import numpy as np\n",
    "import pandas as pd\n",
    "import random\n",
    "import gensim as gs\n",
    "from elasticsearch import Elasticsearch\n",
    "from elasticsearch import helpers\n",
    "from nltk.tokenize import TweetTokenizer\n",
    "tknzr = TweetTokenizer()\n",
    "indexing_tables = Elasticsearch(timeout=30, max_retries=10, retry_on_timeout=True)\n",
    "import tensorflow as tf\n",
    "import warnings\n",
    "warnings.filterwarnings('ignore')\n",
    "from transformers import TFBertModel, BertTokenizer, TFBertMainLayer, BertConfig"
   ]
  },
  {
   "cell_type": "code",
   "execution_count": null,
   "metadata": {},
   "outputs": [],
   "source": []
  },
  {
   "cell_type": "code",
   "execution_count": 2,
   "metadata": {},
   "outputs": [
    {
     "data": {
      "text/plain": [
       "'2.2.0'"
      ]
     },
     "execution_count": 2,
     "metadata": {},
     "output_type": "execute_result"
    }
   ],
   "source": [
    "tf.__version__"
   ]
  },
  {
   "cell_type": "code",
   "execution_count": 3,
   "metadata": {},
   "outputs": [],
   "source": [
    "raw_articles = pd.read_csv('dataset/test_articles_dataset_newyork.csv', delimiter=',')"
   ]
  },
  {
   "cell_type": "code",
   "execution_count": null,
   "metadata": {},
   "outputs": [],
   "source": []
  },
  {
   "cell_type": "code",
   "execution_count": 4,
   "metadata": {},
   "outputs": [],
   "source": [
    "bert_tokenizer = BertTokenizer.from_pretrained(\"bert-base-cased\")"
   ]
  },
  {
   "cell_type": "code",
   "execution_count": 5,
   "metadata": {},
   "outputs": [],
   "source": [
    "MAX_TOKENS = 200"
   ]
  },
  {
   "cell_type": "code",
   "execution_count": null,
   "metadata": {},
   "outputs": [],
   "source": []
  },
  {
   "cell_type": "code",
   "execution_count": 6,
   "metadata": {},
   "outputs": [
    {
     "data": {
      "text/plain": [
       "{'acknowledged': True, 'shards_acknowledged': True}"
      ]
     },
     "execution_count": 6,
     "metadata": {},
     "output_type": "execute_result"
    }
   ],
   "source": [
    "indexing_tables.indices.close(index='data_table_newyork')\n",
    "indexing_tables.indices.put_settings(index='data_table_newyork', body={\"index\": {\"similarity\": {\"default\": {\"type\": \"BM25\"}}}})\n",
    "indexing_tables.indices.open(index='data_table_newyork')"
   ]
  },
  {
   "cell_type": "code",
   "execution_count": 7,
   "metadata": {},
   "outputs": [],
   "source": [
    "def search_indexing(query):\n",
    "    \n",
    "    result= indexing_tables.search(\n",
    "        index=\"data_table_newyork\", \n",
    "        body = {\n",
    "        \"_source\": [\"table_url\",\"table_page_title\",\"table_page_summary\"],\n",
    "        \"from\" : 0,\n",
    "        \"size\" : 30,\n",
    "        \"query\": {\n",
    "            \"multi_match\":{\n",
    "              \"type\": \"most_fields\",\n",
    "              \"query\":    query, \n",
    "              \"fields\": [\"table_page_title\",\"table_page_content\",\"table_page_keywords\"] \n",
    "            }\n",
    "        }\n",
    "    })\n",
    "    \n",
    "    return result"
   ]
  },
  {
   "cell_type": "code",
   "execution_count": 8,
   "metadata": {},
   "outputs": [],
   "source": [
    "def get_accuracy(ID_goal,ranked_tables_ID):\n",
    "    \n",
    "    accuracy = 0\n",
    "    \n",
    "    for table_ID in ranked_tables_ID:\n",
    "        \n",
    "        if table_ID == ID_goal:\n",
    "    \n",
    "            accuracy = 1\n",
    "            break;\n",
    "            \n",
    "    return accuracy"
   ]
  },
  {
   "cell_type": "code",
   "execution_count": null,
   "metadata": {},
   "outputs": [],
   "source": []
  },
  {
   "cell_type": "code",
   "execution_count": null,
   "metadata": {},
   "outputs": [],
   "source": []
  },
  {
   "cell_type": "code",
   "execution_count": 9,
   "metadata": {},
   "outputs": [],
   "source": [
    "def search_index(article_title):\n",
    "    \n",
    "    tables_index = []\n",
    "\n",
    "    result_index = search_indexing(article_title)\n",
    "        \n",
    "    for hit in result_index['hits']['hits']:\n",
    "    \n",
    "        table_ID = hit['_source']['table_url']\n",
    "        \n",
    "        table_page_title = hit['_source']['table_page_title']\n",
    "        \n",
    "        table_page_cotent = hit['_source']['table_page_summary']\n",
    "    \n",
    "        tables_index.append([table_ID,table_page_title,table_page_cotent])\n",
    "    \n",
    "    return tables_index"
   ]
  },
  {
   "cell_type": "code",
   "execution_count": null,
   "metadata": {},
   "outputs": [],
   "source": []
  },
  {
   "cell_type": "code",
   "execution_count": 10,
   "metadata": {},
   "outputs": [],
   "source": [
    "ranking_model = tf.keras.models.load_model('../learning_to_rank_models/bert/bert_model_title_main_passage_mlp')"
   ]
  },
  {
   "cell_type": "code",
   "execution_count": 11,
   "metadata": {},
   "outputs": [
    {
     "name": "stdout",
     "output_type": "stream",
     "text": [
      "<class 'pandas.core.frame.DataFrame'>\n",
      "RangeIndex: 148 entries, 0 to 147\n",
      "Data columns (total 10 columns):\n",
      " #   Column                    Non-Null Count  Dtype \n",
      "---  ------                    --------------  ----- \n",
      " 0   article_full_text         141 non-null    object\n",
      " 1   article_key_match         148 non-null    object\n",
      " 2   article_keywords          143 non-null    object\n",
      " 3   article_main_passage      148 non-null    object\n",
      " 4   article_meta_description  132 non-null    object\n",
      " 5   article_meta_keywords     58 non-null     object\n",
      " 6   article_summary           141 non-null    object\n",
      " 7   article_tags              54 non-null     object\n",
      " 8   article_title             148 non-null    object\n",
      " 9   article_url               148 non-null    object\n",
      "dtypes: object(10)\n",
      "memory usage: 11.7+ KB\n"
     ]
    }
   ],
   "source": [
    "raw_articles.info()"
   ]
  },
  {
   "cell_type": "code",
   "execution_count": 14,
   "metadata": {},
   "outputs": [],
   "source": [
    "result = []\n",
    "\n",
    "def run_search(k):\n",
    "    \n",
    "    TOP_K = k\n",
    "    accuracy = []\n",
    "    \n",
    "    for i,row in tqdm(raw_articles.iterrows()):\n",
    "    \n",
    "        test_title_ids = []\n",
    "        test_title_mask = []\n",
    "        test_title_seg = []\n",
    "        \n",
    "        ranked_tables_model = []\n",
    "    \n",
    "        article_ID = row['article_key_match']\n",
    "        article_title_text = str(row['article_title'])\n",
    "        article_main_passage_text = str(row['article_main_passage'][0:1000])\n",
    "        article_keywords_text = str(row['article_title'])\n",
    "        \n",
    "        catch = article_title_text+\" \"+article_main_passage_text+\" \"+article_keywords_text\n",
    "        \n",
    "        ranked_tables_index = search_index(catch)\n",
    "        \n",
    "        for table_ID, table_title_index, table_page_content_index in (ranked_tables_index):\n",
    "            \n",
    "            return_tokenizer1 = bert_tokenizer.encode_plus(\n",
    "              article_title_text+\" \"+article_main_passage_text,\n",
    "              table_title_index+\" \"+table_page_content_index,\n",
    "              max_length=MAX_TOKENS,\n",
    "              add_special_tokens=True,\n",
    "              return_token_type_ids=True,\n",
    "              pad_to_max_length=True,\n",
    "              return_attention_mask=True,\n",
    "                )\n",
    "\n",
    "            test_title_ids.append(return_tokenizer1['input_ids'])\n",
    "            test_title_mask.append(return_tokenizer1['attention_mask'])\n",
    "            test_title_seg.append(return_tokenizer1['token_type_ids'])  \n",
    "\n",
    "        test_title_ids = np.array(test_title_ids)\n",
    "        test_title_mask = np.array(test_title_mask)\n",
    "        test_title_seg = np.array(test_title_seg)\n",
    "\n",
    "        table_ranking_model = ranking_model.predict([test_title_ids,test_title_mask,test_title_seg])\n",
    "    \n",
    "        for i in range(0,len(table_ranking_model)):\n",
    "        \n",
    "            ranked_tables_model.append([ranked_tables_index[i][0],ranked_tables_index[i][1],table_ranking_model[i][0]]) \n",
    "        \n",
    "        data_frame = pd.DataFrame(ranked_tables_model, columns = ['table_ID', 'table_title','table_ranking']) \n",
    "        data_frame_sorting = data_frame.sort_values('table_ranking', ascending=False)\n",
    "        final_ranked_tables = data_frame_sorting.iloc[0:TOP_K,0:1].values\n",
    "        \n",
    "#         selected_top = data_frame_sorting.head(TOP_K)\n",
    "#         min_score = selected_top['table_ranking'].min()\n",
    "#         draw_tables_socres = data_frame_sorting[data_frame_sorting['table_ranking'] >= min_score]\n",
    "#         final_ranked_tables = draw_tables_socres.iloc[:,0:1].values\n",
    "           \n",
    "        accuracy.append(get_accuracy(article_ID, final_ranked_tables))\n",
    "        \n",
    "    result.append([\"Acc@\"+str(k),str(round(np.mean(accuracy),4))])"
   ]
  },
  {
   "cell_type": "code",
   "execution_count": 15,
   "metadata": {},
   "outputs": [
    {
     "name": "stderr",
     "output_type": "stream",
     "text": [
      "148it [01:02,  2.36it/s]\n",
      "148it [00:49,  3.00it/s]\n",
      "148it [00:49,  2.99it/s]\n",
      "148it [00:49,  2.97it/s]\n"
     ]
    }
   ],
   "source": [
    "accuracy_K = [1,5,10,20]\n",
    "\n",
    "for k in accuracy_K:\n",
    "     \n",
    "    run_search(k)"
   ]
  },
  {
   "cell_type": "code",
   "execution_count": 16,
   "metadata": {},
   "outputs": [
    {
     "data": {
      "text/plain": [
       "[['Acc@1', '0.5'],\n",
       " ['Acc@5', '0.6689'],\n",
       " ['Acc@10', '0.7635'],\n",
       " ['Acc@20', '0.8176']]"
      ]
     },
     "execution_count": 16,
     "metadata": {},
     "output_type": "execute_result"
    }
   ],
   "source": [
    "result"
   ]
  },
  {
   "cell_type": "code",
   "execution_count": null,
   "metadata": {},
   "outputs": [],
   "source": []
  },
  {
   "cell_type": "code",
   "execution_count": null,
   "metadata": {},
   "outputs": [],
   "source": []
  },
  {
   "cell_type": "code",
   "execution_count": null,
   "metadata": {},
   "outputs": [],
   "source": []
  },
  {
   "cell_type": "code",
   "execution_count": null,
   "metadata": {},
   "outputs": [],
   "source": []
  },
  {
   "cell_type": "code",
   "execution_count": null,
   "metadata": {},
   "outputs": [],
   "source": []
  },
  {
   "cell_type": "code",
   "execution_count": null,
   "metadata": {},
   "outputs": [],
   "source": []
  }
 ],
 "metadata": {
  "kernelspec": {
   "display_name": "Python 3",
   "language": "python",
   "name": "python3"
  },
  "language_info": {
   "codemirror_mode": {
    "name": "ipython",
    "version": 3
   },
   "file_extension": ".py",
   "mimetype": "text/x-python",
   "name": "python",
   "nbconvert_exporter": "python",
   "pygments_lexer": "ipython3",
   "version": "3.6.10"
  }
 },
 "nbformat": 4,
 "nbformat_minor": 2
}
