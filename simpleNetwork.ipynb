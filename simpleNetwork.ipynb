{
 "cells": [
  {
   "cell_type": "code",
   "execution_count": 201,
   "metadata": {},
   "outputs": [],
   "source": [
    "from tqdm import tqdm\n",
    "import numpy as np\n",
    "import pandas as pd\n",
    "from gensim.models.doc2vec import Doc2Vec, TaggedDocument\n",
    "from gensim.test.utils import common_texts\n",
    "from nltk.tokenize import TweetTokenizer\n",
    "tknzr = TweetTokenizer()\n",
    "from sklearn.metrics import accuracy_score\n",
    "from elasticsearch import Elasticsearch\n",
    "from elasticsearch import helpers\n",
    "indexingTables = Elasticsearch()"
   ]
  },
  {
   "cell_type": "code",
   "execution_count": 2,
   "metadata": {},
   "outputs": [],
   "source": [
    "readFile = pd.read_csv('articlesDataset/trainDatasetTitle', delimiter=',', header=None)\n",
    "trainDataset = readFile.iloc[:,:].values"
   ]
  },
  {
   "cell_type": "code",
   "execution_count": 3,
   "metadata": {},
   "outputs": [],
   "source": [
    "readFile = pd.read_csv('articlesDataset/validationDatasetTitle', delimiter=',', header=None)\n",
    "validationDataset = readFile.iloc[:,:].values"
   ]
  },
  {
   "cell_type": "code",
   "execution_count": 193,
   "metadata": {},
   "outputs": [],
   "source": [
    "readFile = pd.read_csv('articlesDataset/testDatasetTitle', delimiter=',', header=None)\n",
    "testDataset = readFile.iloc[:,:].values"
   ]
  },
  {
   "cell_type": "code",
   "execution_count": 284,
   "metadata": {},
   "outputs": [],
   "source": [
    "def getAccuracy(idRankedTables, idQueryGoal):\n",
    "    \n",
    "    accuracy = 0\n",
    "\n",
    "    for idTable in idRankedTables:\n",
    "    \n",
    "        if idTable == idQueryGoal:\n",
    "    \n",
    "            accuracy = 1\n",
    "            break;\n",
    "\n",
    "    return accuracy"
   ]
  },
  {
   "cell_type": "code",
   "execution_count": 4,
   "metadata": {},
   "outputs": [],
   "source": [
    "corpusTrain = []\n",
    "\n",
    "for rowId, articleTitle, tableTitle, match in trainDataset:\n",
    "    \n",
    "    corpusTrain.append(str(articleTitle))\n",
    "    corpusTrain.append(str(tableTitle))"
   ]
  },
  {
   "cell_type": "code",
   "execution_count": 162,
   "metadata": {},
   "outputs": [],
   "source": [
    "documents = [TaggedDocument(doc, [i]) for i, doc in enumerate(corpusTrain)]\n",
    "doc2VecModel = Doc2Vec(documents, vector_size=10, window=2, min_count=1, workers=4)"
   ]
  },
  {
   "cell_type": "code",
   "execution_count": 163,
   "metadata": {},
   "outputs": [
    {
     "name": "stderr",
     "output_type": "stream",
     "text": [
      "/home/lss9/anaconda3/lib/python3.7/site-packages/smart_open/smart_open_lib.py:398: UserWarning: This function is deprecated, use smart_open.open instead. See the migration notes for details: https://github.com/RaRe-Technologies/smart_open/blob/master/README.rst#migrating-to-the-new-open-function\n",
      "  'See the migration notes for details: %s' % _MIGRATION_NOTES_URL\n"
     ]
    }
   ],
   "source": [
    "from gensim.test.utils import get_tmpfile\n",
    "\n",
    "fname = get_tmpfile(\"my_doc2vec_model\")\n",
    "\n",
    "doc2VecModel.save(fname)\n",
    "\n",
    "doc2VecModel = Doc2Vec.load(fname)"
   ]
  },
  {
   "cell_type": "code",
   "execution_count": null,
   "metadata": {},
   "outputs": [],
   "source": []
  },
  {
   "cell_type": "code",
   "execution_count": null,
   "metadata": {},
   "outputs": [],
   "source": []
  },
  {
   "cell_type": "code",
   "execution_count": 164,
   "metadata": {},
   "outputs": [],
   "source": [
    "x_train = []\n",
    "y_train = []\n",
    "\n",
    "\n",
    "for rowId, articleTitle, tableTitle, match in trainDataset:\n",
    "    \n",
    "    tableTitleWords = tknzr.tokenize(str(articleTitle))\n",
    "    vector1 = doc2VecModel.infer_vector(tableTitleWords)\n",
    "    \n",
    "    tableTitleWords = tknzr.tokenize(str(tableTitle))\n",
    "    vector2 = doc2VecModel.infer_vector(tableTitleWords)\n",
    "    \n",
    "    vectorFinal = np.concatenate((vector1, vector2), axis=0)\n",
    "    \n",
    "    x_train.append(vectorFinal)\n",
    "         \n",
    "    y_train.append(match)"
   ]
  },
  {
   "cell_type": "code",
   "execution_count": 165,
   "metadata": {},
   "outputs": [],
   "source": [
    "x1_train = np.asarray(x_train, dtype=np.float32)\n",
    "y1_train = np.asarray(y_train)"
   ]
  },
  {
   "cell_type": "code",
   "execution_count": null,
   "metadata": {},
   "outputs": [],
   "source": []
  },
  {
   "cell_type": "code",
   "execution_count": 166,
   "metadata": {},
   "outputs": [],
   "source": [
    "import tensorflow as tf\n",
    "from tensorflow import keras"
   ]
  },
  {
   "cell_type": "code",
   "execution_count": 245,
   "metadata": {},
   "outputs": [],
   "source": [
    "modelDeep = keras.Sequential([\n",
    "    keras.layers.Dense(20, input_dim=20),\n",
    "    keras.layers.Dense(1024, activation=tf.nn.relu),\n",
    "    keras.layers.Dense(1, activation=tf.nn.sigmoid)\n",
    "])"
   ]
  },
  {
   "cell_type": "code",
   "execution_count": 246,
   "metadata": {},
   "outputs": [],
   "source": [
    "modelDeep.compile(optimizer='adam',\n",
    "              loss='binary_crossentropy',\n",
    "              metrics=['accuracy'])"
   ]
  },
  {
   "cell_type": "code",
   "execution_count": 399,
   "metadata": {},
   "outputs": [
    {
     "name": "stdout",
     "output_type": "stream",
     "text": [
      "Train on 112519 samples\n",
      "Epoch 1/100\n",
      "112519/112519 [==============================] - 29s 258us/sample - loss: 0.5428 - accuracy: 0.7092\n",
      "Epoch 2/100\n",
      "112519/112519 [==============================] - 29s 255us/sample - loss: 0.5320 - accuracy: 0.7174\n",
      "Epoch 3/100\n",
      "112519/112519 [==============================] - 30s 269us/sample - loss: 0.5308 - accuracy: 0.7172\n",
      "Epoch 4/100\n",
      "112519/112519 [==============================] - 29s 258us/sample - loss: 0.5275 - accuracy: 0.7206\n",
      "Epoch 5/100\n",
      "112519/112519 [==============================] - 30s 265us/sample - loss: 0.5262 - accuracy: 0.7227\n",
      "Epoch 6/100\n",
      "112519/112519 [==============================] - 30s 264us/sample - loss: 0.5253 - accuracy: 0.7243\n",
      "Epoch 7/100\n",
      "112519/112519 [==============================] - 29s 260us/sample - loss: 0.5227 - accuracy: 0.7247\n",
      "Epoch 8/100\n",
      "112519/112519 [==============================] - 31s 272us/sample - loss: 0.5217 - accuracy: 0.7255\n",
      "Epoch 9/100\n",
      "112519/112519 [==============================] - 30s 265us/sample - loss: 0.5202 - accuracy: 0.7271\n",
      "Epoch 10/100\n",
      "112519/112519 [==============================] - 31s 272us/sample - loss: 0.5181 - accuracy: 0.7287\n",
      "Epoch 11/100\n",
      "112519/112519 [==============================] - 30s 263us/sample - loss: 0.5172 - accuracy: 0.7303\n",
      "Epoch 12/100\n",
      "112519/112519 [==============================] - 31s 272us/sample - loss: 0.5158 - accuracy: 0.7312\n",
      "Epoch 13/100\n",
      "112519/112519 [==============================] - 30s 268us/sample - loss: 0.5139 - accuracy: 0.7321\n",
      "Epoch 14/100\n",
      "112519/112519 [==============================] - 31s 272us/sample - loss: 0.5133 - accuracy: 0.7323\n",
      "Epoch 15/100\n",
      "112519/112519 [==============================] - 29s 260us/sample - loss: 0.5114 - accuracy: 0.7338\n",
      "Epoch 16/100\n",
      "112519/112519 [==============================] - 29s 260us/sample - loss: 0.5109 - accuracy: 0.7344\n",
      "Epoch 17/100\n",
      "112519/112519 [==============================] - 30s 263us/sample - loss: 0.5090 - accuracy: 0.7367\n",
      "Epoch 18/100\n",
      "112519/112519 [==============================] - 29s 260us/sample - loss: 0.5082 - accuracy: 0.7377\n",
      "Epoch 19/100\n",
      "112519/112519 [==============================] - 30s 266us/sample - loss: 0.5070 - accuracy: 0.7369\n",
      "Epoch 20/100\n",
      "112519/112519 [==============================] - 29s 254us/sample - loss: 0.5059 - accuracy: 0.7385\n",
      "Epoch 21/100\n",
      "112519/112519 [==============================] - 29s 255us/sample - loss: 0.5039 - accuracy: 0.7396\n",
      "Epoch 22/100\n",
      "112519/112519 [==============================] - 28s 249us/sample - loss: 0.5027 - accuracy: 0.7417\n",
      "Epoch 23/100\n",
      "112519/112519 [==============================] - 29s 259us/sample - loss: 0.5014 - accuracy: 0.7412\n",
      "Epoch 24/100\n",
      "112519/112519 [==============================] - 27s 244us/sample - loss: 0.5010 - accuracy: 0.7398\n",
      "Epoch 25/100\n",
      "112519/112519 [==============================] - 28s 250us/sample - loss: 0.4989 - accuracy: 0.7430\n",
      "Epoch 26/100\n",
      "112519/112519 [==============================] - 27s 239us/sample - loss: 0.4974 - accuracy: 0.7438\n",
      "Epoch 27/100\n",
      "112519/112519 [==============================] - 27s 243us/sample - loss: 0.4971 - accuracy: 0.7450\n",
      "Epoch 28/100\n",
      "112519/112519 [==============================] - 29s 255us/sample - loss: 0.4948 - accuracy: 0.7461\n",
      "Epoch 29/100\n",
      "112519/112519 [==============================] - 29s 257us/sample - loss: 0.4947 - accuracy: 0.7468\n",
      "Epoch 30/100\n",
      "112519/112519 [==============================] - 29s 258us/sample - loss: 0.4937 - accuracy: 0.7473\n",
      "Epoch 31/100\n",
      "112519/112519 [==============================] - 29s 257us/sample - loss: 0.4926 - accuracy: 0.7476\n",
      "Epoch 32/100\n",
      "112519/112519 [==============================] - 30s 263us/sample - loss: 0.4917 - accuracy: 0.7486\n",
      "Epoch 33/100\n",
      "112519/112519 [==============================] - 29s 258us/sample - loss: 0.4915 - accuracy: 0.7486\n",
      "Epoch 34/100\n",
      "112519/112519 [==============================] - 30s 270us/sample - loss: 0.4895 - accuracy: 0.7505\n",
      "Epoch 35/100\n",
      "112519/112519 [==============================] - 30s 265us/sample - loss: 0.4885 - accuracy: 0.7516\n",
      "Epoch 36/100\n",
      "112519/112519 [==============================] - 31s 272us/sample - loss: 0.4872 - accuracy: 0.7531\n",
      "Epoch 37/100\n",
      "112519/112519 [==============================] - 30s 263us/sample - loss: 0.4851 - accuracy: 0.7529\n",
      "Epoch 38/100\n",
      "112519/112519 [==============================] - 30s 262us/sample - loss: 0.4857 - accuracy: 0.7549\n",
      "Epoch 39/100\n",
      "112519/112519 [==============================] - 30s 264us/sample - loss: 0.4842 - accuracy: 0.7540\n",
      "Epoch 40/100\n",
      "112519/112519 [==============================] - 30s 271us/sample - loss: 0.4827 - accuracy: 0.7550\n",
      "Epoch 41/100\n",
      "112519/112519 [==============================] - 30s 263us/sample - loss: 0.4826 - accuracy: 0.7570\n",
      "Epoch 42/100\n",
      "112519/112519 [==============================] - 28s 248us/sample - loss: 0.4805 - accuracy: 0.7573\n",
      "Epoch 43/100\n",
      "112519/112519 [==============================] - 29s 260us/sample - loss: 0.4802 - accuracy: 0.7570\n",
      "Epoch 44/100\n",
      "112519/112519 [==============================] - 30s 262us/sample - loss: 0.4790 - accuracy: 0.7583\n",
      "Epoch 45/100\n",
      "112519/112519 [==============================] - 30s 270us/sample - loss: 0.4774 - accuracy: 0.7588\n",
      "Epoch 46/100\n",
      "112519/112519 [==============================] - 30s 266us/sample - loss: 0.4763 - accuracy: 0.7597\n",
      "Epoch 47/100\n",
      "112519/112519 [==============================] - 31s 276us/sample - loss: 0.4768 - accuracy: 0.7606\n",
      "Epoch 48/100\n",
      "112519/112519 [==============================] - 30s 266us/sample - loss: 0.4758 - accuracy: 0.7604\n",
      "Epoch 49/100\n",
      "112519/112519 [==============================] - 31s 277us/sample - loss: 0.4740 - accuracy: 0.7627\n",
      "Epoch 50/100\n",
      "112519/112519 [==============================] - 30s 271us/sample - loss: 0.4750 - accuracy: 0.7617\n",
      "Epoch 51/100\n",
      "112519/112519 [==============================] - 30s 267us/sample - loss: 0.4722 - accuracy: 0.7631\n",
      "Epoch 52/100\n",
      "112519/112519 [==============================] - 31s 272us/sample - loss: 0.4716 - accuracy: 0.7638\n",
      "Epoch 53/100\n",
      "112519/112519 [==============================] - 31s 272us/sample - loss: 0.4705 - accuracy: 0.7654\n",
      "Epoch 54/100\n",
      "112519/112519 [==============================] - 31s 272us/sample - loss: 0.4709 - accuracy: 0.7641\n",
      "Epoch 55/100\n",
      "112519/112519 [==============================] - 30s 270us/sample - loss: 0.4695 - accuracy: 0.7651\n",
      "Epoch 56/100\n",
      "112519/112519 [==============================] - 28s 252us/sample - loss: 0.4680 - accuracy: 0.7661\n",
      "Epoch 57/100\n",
      "112519/112519 [==============================] - 30s 268us/sample - loss: 0.4678 - accuracy: 0.7653\n",
      "Epoch 58/100\n",
      "112519/112519 [==============================] - 30s 265us/sample - loss: 0.4665 - accuracy: 0.7670\n",
      "Epoch 59/100\n",
      "112519/112519 [==============================] - 31s 272us/sample - loss: 0.4656 - accuracy: 0.7679\n",
      "Epoch 60/100\n",
      "112519/112519 [==============================] - 31s 271us/sample - loss: 0.4661 - accuracy: 0.7674\n",
      "Epoch 61/100\n",
      "112519/112519 [==============================] - 31s 279us/sample - loss: 0.4640 - accuracy: 0.7692\n",
      "Epoch 62/100\n",
      "112519/112519 [==============================] - 31s 277us/sample - loss: 0.4631 - accuracy: 0.7680\n",
      "Epoch 63/100\n",
      "112519/112519 [==============================] - 30s 267us/sample - loss: 0.4624 - accuracy: 0.7701\n",
      "Epoch 64/100\n",
      "112519/112519 [==============================] - 30s 270us/sample - loss: 0.4618 - accuracy: 0.7699\n",
      "Epoch 65/100\n",
      "112519/112519 [==============================] - 30s 264us/sample - loss: 0.4611 - accuracy: 0.7707\n",
      "Epoch 66/100\n",
      "112519/112519 [==============================] - 32s 288us/sample - loss: 0.4603 - accuracy: 0.7710\n",
      "Epoch 67/100\n",
      "112519/112519 [==============================] - 34s 305us/sample - loss: 0.4586 - accuracy: 0.7731\n",
      "Epoch 68/100\n",
      "112519/112519 [==============================] - 35s 313us/sample - loss: 0.4591 - accuracy: 0.7721\n",
      "Epoch 69/100\n",
      "112519/112519 [==============================] - 35s 311us/sample - loss: 0.4579 - accuracy: 0.7733\n",
      "Epoch 70/100\n",
      "112519/112519 [==============================] - 35s 307us/sample - loss: 0.4579 - accuracy: 0.7724\n",
      "Epoch 71/100\n",
      "112519/112519 [==============================] - 34s 306us/sample - loss: 0.4563 - accuracy: 0.7737\n",
      "Epoch 72/100\n",
      " 44736/112519 [==========>...................] - ETA: 21s - loss: 0.4502 - accuracy: 0.7786"
     ]
    },
    {
     "ename": "KeyboardInterrupt",
     "evalue": "",
     "output_type": "error",
     "traceback": [
      "\u001b[0;31m---------------------------------------------------------------------------\u001b[0m",
      "\u001b[0;31mKeyboardInterrupt\u001b[0m                         Traceback (most recent call last)",
      "\u001b[0;32m<ipython-input-399-986b7358dea3>\u001b[0m in \u001b[0;36m<module>\u001b[0;34m\u001b[0m\n\u001b[0;32m----> 1\u001b[0;31m \u001b[0mmodelDeep\u001b[0m\u001b[0;34m.\u001b[0m\u001b[0mfit\u001b[0m\u001b[0;34m(\u001b[0m\u001b[0mx1_train\u001b[0m\u001b[0;34m,\u001b[0m \u001b[0my1_train\u001b[0m\u001b[0;34m,\u001b[0m \u001b[0mepochs\u001b[0m\u001b[0;34m=\u001b[0m\u001b[0;36m100\u001b[0m\u001b[0;34m,\u001b[0m \u001b[0mbatch_size\u001b[0m\u001b[0;34m=\u001b[0m\u001b[0;36m32\u001b[0m\u001b[0;34m)\u001b[0m\u001b[0;34m\u001b[0m\u001b[0;34m\u001b[0m\u001b[0m\n\u001b[0m",
      "\u001b[0;32m~/anaconda3/lib/python3.7/site-packages/tensorflow_core/python/keras/engine/training.py\u001b[0m in \u001b[0;36mfit\u001b[0;34m(self, x, y, batch_size, epochs, verbose, callbacks, validation_split, validation_data, shuffle, class_weight, sample_weight, initial_epoch, steps_per_epoch, validation_steps, validation_freq, max_queue_size, workers, use_multiprocessing, **kwargs)\u001b[0m\n\u001b[1;32m    732\u001b[0m         \u001b[0mmax_queue_size\u001b[0m\u001b[0;34m=\u001b[0m\u001b[0mmax_queue_size\u001b[0m\u001b[0;34m,\u001b[0m\u001b[0;34m\u001b[0m\u001b[0;34m\u001b[0m\u001b[0m\n\u001b[1;32m    733\u001b[0m         \u001b[0mworkers\u001b[0m\u001b[0;34m=\u001b[0m\u001b[0mworkers\u001b[0m\u001b[0;34m,\u001b[0m\u001b[0;34m\u001b[0m\u001b[0;34m\u001b[0m\u001b[0m\n\u001b[0;32m--> 734\u001b[0;31m         use_multiprocessing=use_multiprocessing)\n\u001b[0m\u001b[1;32m    735\u001b[0m \u001b[0;34m\u001b[0m\u001b[0m\n\u001b[1;32m    736\u001b[0m   def evaluate(self,\n",
      "\u001b[0;32m~/anaconda3/lib/python3.7/site-packages/tensorflow_core/python/keras/engine/training_v2.py\u001b[0m in \u001b[0;36mfit\u001b[0;34m(self, model, x, y, batch_size, epochs, verbose, callbacks, validation_split, validation_data, shuffle, class_weight, sample_weight, initial_epoch, steps_per_epoch, validation_steps, validation_freq, **kwargs)\u001b[0m\n\u001b[1;32m    322\u001b[0m                 \u001b[0mmode\u001b[0m\u001b[0;34m=\u001b[0m\u001b[0mModeKeys\u001b[0m\u001b[0;34m.\u001b[0m\u001b[0mTRAIN\u001b[0m\u001b[0;34m,\u001b[0m\u001b[0;34m\u001b[0m\u001b[0;34m\u001b[0m\u001b[0m\n\u001b[1;32m    323\u001b[0m                 \u001b[0mtraining_context\u001b[0m\u001b[0;34m=\u001b[0m\u001b[0mtraining_context\u001b[0m\u001b[0;34m,\u001b[0m\u001b[0;34m\u001b[0m\u001b[0;34m\u001b[0m\u001b[0m\n\u001b[0;32m--> 324\u001b[0;31m                 total_epochs=epochs)\n\u001b[0m\u001b[1;32m    325\u001b[0m             \u001b[0mcbks\u001b[0m\u001b[0;34m.\u001b[0m\u001b[0mmake_logs\u001b[0m\u001b[0;34m(\u001b[0m\u001b[0mmodel\u001b[0m\u001b[0;34m,\u001b[0m \u001b[0mepoch_logs\u001b[0m\u001b[0;34m,\u001b[0m \u001b[0mtraining_result\u001b[0m\u001b[0;34m,\u001b[0m \u001b[0mModeKeys\u001b[0m\u001b[0;34m.\u001b[0m\u001b[0mTRAIN\u001b[0m\u001b[0;34m)\u001b[0m\u001b[0;34m\u001b[0m\u001b[0;34m\u001b[0m\u001b[0m\n\u001b[1;32m    326\u001b[0m \u001b[0;34m\u001b[0m\u001b[0m\n",
      "\u001b[0;32m~/anaconda3/lib/python3.7/site-packages/tensorflow_core/python/keras/engine/training_v2.py\u001b[0m in \u001b[0;36mrun_one_epoch\u001b[0;34m(model, iterator, execution_function, dataset_size, batch_size, strategy, steps_per_epoch, num_samples, mode, training_context, total_epochs)\u001b[0m\n\u001b[1;32m    121\u001b[0m         step=step, mode=mode, size=current_batch_size) as batch_logs:\n\u001b[1;32m    122\u001b[0m       \u001b[0;32mtry\u001b[0m\u001b[0;34m:\u001b[0m\u001b[0;34m\u001b[0m\u001b[0;34m\u001b[0m\u001b[0m\n\u001b[0;32m--> 123\u001b[0;31m         \u001b[0mbatch_outs\u001b[0m \u001b[0;34m=\u001b[0m \u001b[0mexecution_function\u001b[0m\u001b[0;34m(\u001b[0m\u001b[0miterator\u001b[0m\u001b[0;34m)\u001b[0m\u001b[0;34m\u001b[0m\u001b[0;34m\u001b[0m\u001b[0m\n\u001b[0m\u001b[1;32m    124\u001b[0m       \u001b[0;32mexcept\u001b[0m \u001b[0;34m(\u001b[0m\u001b[0mStopIteration\u001b[0m\u001b[0;34m,\u001b[0m \u001b[0merrors\u001b[0m\u001b[0;34m.\u001b[0m\u001b[0mOutOfRangeError\u001b[0m\u001b[0;34m)\u001b[0m\u001b[0;34m:\u001b[0m\u001b[0;34m\u001b[0m\u001b[0;34m\u001b[0m\u001b[0m\n\u001b[1;32m    125\u001b[0m         \u001b[0;31m# TODO(kaftan): File bug about tf function and errors.OutOfRangeError?\u001b[0m\u001b[0;34m\u001b[0m\u001b[0;34m\u001b[0m\u001b[0;34m\u001b[0m\u001b[0m\n",
      "\u001b[0;32m~/anaconda3/lib/python3.7/site-packages/tensorflow_core/python/keras/engine/training_v2_utils.py\u001b[0m in \u001b[0;36mexecution_function\u001b[0;34m(input_fn)\u001b[0m\n\u001b[1;32m     84\u001b[0m     \u001b[0;31m# `numpy` translates Tensors to values in Eager mode.\u001b[0m\u001b[0;34m\u001b[0m\u001b[0;34m\u001b[0m\u001b[0;34m\u001b[0m\u001b[0m\n\u001b[1;32m     85\u001b[0m     return nest.map_structure(_non_none_constant_value,\n\u001b[0;32m---> 86\u001b[0;31m                               distributed_function(input_fn))\n\u001b[0m\u001b[1;32m     87\u001b[0m \u001b[0;34m\u001b[0m\u001b[0m\n\u001b[1;32m     88\u001b[0m   \u001b[0;32mreturn\u001b[0m \u001b[0mexecution_function\u001b[0m\u001b[0;34m\u001b[0m\u001b[0;34m\u001b[0m\u001b[0m\n",
      "\u001b[0;32m~/anaconda3/lib/python3.7/site-packages/tensorflow_core/python/eager/def_function.py\u001b[0m in \u001b[0;36m__call__\u001b[0;34m(self, *args, **kwds)\u001b[0m\n\u001b[1;32m    413\u001b[0m       \u001b[0;31m# In this case we have created variables on the first call, so we run the\u001b[0m\u001b[0;34m\u001b[0m\u001b[0;34m\u001b[0m\u001b[0;34m\u001b[0m\u001b[0m\n\u001b[1;32m    414\u001b[0m       \u001b[0;31m# defunned version which is guaranteed to never create variables.\u001b[0m\u001b[0;34m\u001b[0m\u001b[0;34m\u001b[0m\u001b[0;34m\u001b[0m\u001b[0m\n\u001b[0;32m--> 415\u001b[0;31m       \u001b[0;32mreturn\u001b[0m \u001b[0mself\u001b[0m\u001b[0;34m.\u001b[0m\u001b[0m_stateless_fn\u001b[0m\u001b[0;34m(\u001b[0m\u001b[0;34m*\u001b[0m\u001b[0margs\u001b[0m\u001b[0;34m,\u001b[0m \u001b[0;34m**\u001b[0m\u001b[0mkwds\u001b[0m\u001b[0;34m)\u001b[0m  \u001b[0;31m# pylint: disable=not-callable\u001b[0m\u001b[0;34m\u001b[0m\u001b[0;34m\u001b[0m\u001b[0m\n\u001b[0m\u001b[1;32m    416\u001b[0m     \u001b[0;32melif\u001b[0m \u001b[0mself\u001b[0m\u001b[0;34m.\u001b[0m\u001b[0m_stateful_fn\u001b[0m \u001b[0;32mis\u001b[0m \u001b[0;32mnot\u001b[0m \u001b[0;32mNone\u001b[0m\u001b[0;34m:\u001b[0m\u001b[0;34m\u001b[0m\u001b[0;34m\u001b[0m\u001b[0m\n\u001b[1;32m    417\u001b[0m       \u001b[0;31m# In this case we have not created variables on the first call. So we can\u001b[0m\u001b[0;34m\u001b[0m\u001b[0;34m\u001b[0m\u001b[0;34m\u001b[0m\u001b[0m\n",
      "\u001b[0;32m~/anaconda3/lib/python3.7/site-packages/tensorflow_core/python/eager/function.py\u001b[0m in \u001b[0;36m__call__\u001b[0;34m(self, *args, **kwargs)\u001b[0m\n\u001b[1;32m   1820\u001b[0m     \u001b[0;34m\"\"\"Calls a graph function specialized to the inputs.\"\"\"\u001b[0m\u001b[0;34m\u001b[0m\u001b[0;34m\u001b[0m\u001b[0m\n\u001b[1;32m   1821\u001b[0m     \u001b[0mgraph_function\u001b[0m\u001b[0;34m,\u001b[0m \u001b[0margs\u001b[0m\u001b[0;34m,\u001b[0m \u001b[0mkwargs\u001b[0m \u001b[0;34m=\u001b[0m \u001b[0mself\u001b[0m\u001b[0;34m.\u001b[0m\u001b[0m_maybe_define_function\u001b[0m\u001b[0;34m(\u001b[0m\u001b[0margs\u001b[0m\u001b[0;34m,\u001b[0m \u001b[0mkwargs\u001b[0m\u001b[0;34m)\u001b[0m\u001b[0;34m\u001b[0m\u001b[0;34m\u001b[0m\u001b[0m\n\u001b[0;32m-> 1822\u001b[0;31m     \u001b[0;32mreturn\u001b[0m \u001b[0mgraph_function\u001b[0m\u001b[0;34m.\u001b[0m\u001b[0m_filtered_call\u001b[0m\u001b[0;34m(\u001b[0m\u001b[0margs\u001b[0m\u001b[0;34m,\u001b[0m \u001b[0mkwargs\u001b[0m\u001b[0;34m)\u001b[0m  \u001b[0;31m# pylint: disable=protected-access\u001b[0m\u001b[0;34m\u001b[0m\u001b[0;34m\u001b[0m\u001b[0m\n\u001b[0m\u001b[1;32m   1823\u001b[0m \u001b[0;34m\u001b[0m\u001b[0m\n\u001b[1;32m   1824\u001b[0m   \u001b[0;34m@\u001b[0m\u001b[0mproperty\u001b[0m\u001b[0;34m\u001b[0m\u001b[0;34m\u001b[0m\u001b[0m\n",
      "\u001b[0;32m~/anaconda3/lib/python3.7/site-packages/tensorflow_core/python/eager/function.py\u001b[0m in \u001b[0;36m_filtered_call\u001b[0;34m(self, args, kwargs)\u001b[0m\n\u001b[1;32m   1139\u001b[0m          if isinstance(t, (ops.Tensor,\n\u001b[1;32m   1140\u001b[0m                            resource_variable_ops.BaseResourceVariable))),\n\u001b[0;32m-> 1141\u001b[0;31m         self.captured_inputs)\n\u001b[0m\u001b[1;32m   1142\u001b[0m \u001b[0;34m\u001b[0m\u001b[0m\n\u001b[1;32m   1143\u001b[0m   \u001b[0;32mdef\u001b[0m \u001b[0m_call_flat\u001b[0m\u001b[0;34m(\u001b[0m\u001b[0mself\u001b[0m\u001b[0;34m,\u001b[0m \u001b[0margs\u001b[0m\u001b[0;34m,\u001b[0m \u001b[0mcaptured_inputs\u001b[0m\u001b[0;34m,\u001b[0m \u001b[0mcancellation_manager\u001b[0m\u001b[0;34m=\u001b[0m\u001b[0;32mNone\u001b[0m\u001b[0;34m)\u001b[0m\u001b[0;34m:\u001b[0m\u001b[0;34m\u001b[0m\u001b[0;34m\u001b[0m\u001b[0m\n",
      "\u001b[0;32m~/anaconda3/lib/python3.7/site-packages/tensorflow_core/python/eager/function.py\u001b[0m in \u001b[0;36m_call_flat\u001b[0;34m(self, args, captured_inputs, cancellation_manager)\u001b[0m\n\u001b[1;32m   1222\u001b[0m     \u001b[0;32mif\u001b[0m \u001b[0mexecuting_eagerly\u001b[0m\u001b[0;34m:\u001b[0m\u001b[0;34m\u001b[0m\u001b[0;34m\u001b[0m\u001b[0m\n\u001b[1;32m   1223\u001b[0m       flat_outputs = forward_function.call(\n\u001b[0;32m-> 1224\u001b[0;31m           ctx, args, cancellation_manager=cancellation_manager)\n\u001b[0m\u001b[1;32m   1225\u001b[0m     \u001b[0;32melse\u001b[0m\u001b[0;34m:\u001b[0m\u001b[0;34m\u001b[0m\u001b[0;34m\u001b[0m\u001b[0m\n\u001b[1;32m   1226\u001b[0m       \u001b[0mgradient_name\u001b[0m \u001b[0;34m=\u001b[0m \u001b[0mself\u001b[0m\u001b[0;34m.\u001b[0m\u001b[0m_delayed_rewrite_functions\u001b[0m\u001b[0;34m.\u001b[0m\u001b[0mregister\u001b[0m\u001b[0;34m(\u001b[0m\u001b[0;34m)\u001b[0m\u001b[0;34m\u001b[0m\u001b[0;34m\u001b[0m\u001b[0m\n",
      "\u001b[0;32m~/anaconda3/lib/python3.7/site-packages/tensorflow_core/python/eager/function.py\u001b[0m in \u001b[0;36mcall\u001b[0;34m(self, ctx, args, cancellation_manager)\u001b[0m\n\u001b[1;32m    509\u001b[0m               \u001b[0minputs\u001b[0m\u001b[0;34m=\u001b[0m\u001b[0margs\u001b[0m\u001b[0;34m,\u001b[0m\u001b[0;34m\u001b[0m\u001b[0;34m\u001b[0m\u001b[0m\n\u001b[1;32m    510\u001b[0m               \u001b[0mattrs\u001b[0m\u001b[0;34m=\u001b[0m\u001b[0;34m(\u001b[0m\u001b[0;34m\"executor_type\"\u001b[0m\u001b[0;34m,\u001b[0m \u001b[0mexecutor_type\u001b[0m\u001b[0;34m,\u001b[0m \u001b[0;34m\"config_proto\"\u001b[0m\u001b[0;34m,\u001b[0m \u001b[0mconfig\u001b[0m\u001b[0;34m)\u001b[0m\u001b[0;34m,\u001b[0m\u001b[0;34m\u001b[0m\u001b[0;34m\u001b[0m\u001b[0m\n\u001b[0;32m--> 511\u001b[0;31m               ctx=ctx)\n\u001b[0m\u001b[1;32m    512\u001b[0m         \u001b[0;32melse\u001b[0m\u001b[0;34m:\u001b[0m\u001b[0;34m\u001b[0m\u001b[0;34m\u001b[0m\u001b[0m\n\u001b[1;32m    513\u001b[0m           outputs = execute.execute_with_cancellation(\n",
      "\u001b[0;32m~/anaconda3/lib/python3.7/site-packages/tensorflow_core/python/eager/execute.py\u001b[0m in \u001b[0;36mquick_execute\u001b[0;34m(op_name, num_outputs, inputs, attrs, ctx, name)\u001b[0m\n\u001b[1;32m     59\u001b[0m     tensors = pywrap_tensorflow.TFE_Py_Execute(ctx._handle, device_name,\n\u001b[1;32m     60\u001b[0m                                                \u001b[0mop_name\u001b[0m\u001b[0;34m,\u001b[0m \u001b[0minputs\u001b[0m\u001b[0;34m,\u001b[0m \u001b[0mattrs\u001b[0m\u001b[0;34m,\u001b[0m\u001b[0;34m\u001b[0m\u001b[0;34m\u001b[0m\u001b[0m\n\u001b[0;32m---> 61\u001b[0;31m                                                num_outputs)\n\u001b[0m\u001b[1;32m     62\u001b[0m   \u001b[0;32mexcept\u001b[0m \u001b[0mcore\u001b[0m\u001b[0;34m.\u001b[0m\u001b[0m_NotOkStatusException\u001b[0m \u001b[0;32mas\u001b[0m \u001b[0me\u001b[0m\u001b[0;34m:\u001b[0m\u001b[0;34m\u001b[0m\u001b[0;34m\u001b[0m\u001b[0m\n\u001b[1;32m     63\u001b[0m     \u001b[0;32mif\u001b[0m \u001b[0mname\u001b[0m \u001b[0;32mis\u001b[0m \u001b[0;32mnot\u001b[0m \u001b[0;32mNone\u001b[0m\u001b[0;34m:\u001b[0m\u001b[0;34m\u001b[0m\u001b[0;34m\u001b[0m\u001b[0m\n",
      "\u001b[0;31mKeyboardInterrupt\u001b[0m: "
     ]
    }
   ],
   "source": [
    "modelDeep.fit(x1_train, y1_train, epochs=100, batch_size=32)"
   ]
  },
  {
   "cell_type": "code",
   "execution_count": null,
   "metadata": {},
   "outputs": [],
   "source": []
  },
  {
   "cell_type": "code",
   "execution_count": 250,
   "metadata": {},
   "outputs": [],
   "source": [
    "x_test = []\n",
    "y_test = []\n",
    "\n",
    "for rowId, articleTitle, tableTitle, match in validationDataset:\n",
    "    \n",
    "    tableTitleWords = tknzr.tokenize(str(articleTitle))\n",
    "    vector1 = doc2VecModel.infer_vector(tableTitleWords)\n",
    "    \n",
    "    tableTitleWords = tknzr.tokenize(str(tableTitle))\n",
    "    vector2 = doc2VecModel.infer_vector(tableTitleWords)\n",
    "    \n",
    "    vectorFinal = np.concatenate((vector1, vector2), axis=0)\n",
    "    \n",
    "    x_test.append(vectorFinal)\n",
    "    y_test.append(match)"
   ]
  },
  {
   "cell_type": "code",
   "execution_count": 254,
   "metadata": {},
   "outputs": [],
   "source": [
    "x1_test = np.asarray(x_test, dtype=np.float32)\n",
    "y1_test = np.asarray(y_test)"
   ]
  },
  {
   "cell_type": "code",
   "execution_count": 255,
   "metadata": {},
   "outputs": [],
   "source": [
    "y_predict = modelDeep.predict_classes(x1_test)"
   ]
  },
  {
   "cell_type": "code",
   "execution_count": 256,
   "metadata": {},
   "outputs": [
    {
     "data": {
      "text/plain": [
       "0.7035304767652384"
      ]
     },
     "execution_count": 256,
     "metadata": {},
     "output_type": "execute_result"
    }
   ],
   "source": [
    "accuracy_score(y1_test, y_predict)"
   ]
  },
  {
   "cell_type": "code",
   "execution_count": null,
   "metadata": {},
   "outputs": [],
   "source": []
  },
  {
   "cell_type": "code",
   "execution_count": 384,
   "metadata": {},
   "outputs": [],
   "source": [
    "def searchIndexing(articleTitle):\n",
    "    \n",
    "    result= indexingTables.search(\n",
    "        index=\"tables\", \n",
    "        body = {\n",
    "        \"_source\": [\"tablePgID\",\"tablePgTitle\"],\n",
    "        \"from\" : 0,\n",
    "        \"size\" : 100,\n",
    "        \"query\": {\n",
    "            \"multi_match\":{\n",
    "              \"type\": \"most_fields\",\n",
    "              \"query\":    articleTitle, \n",
    "              \"fields\": [\"tablePgTitle\"] \n",
    "            }\n",
    "        }\n",
    "    })\n",
    "    \n",
    "    return result"
   ]
  },
  {
   "cell_type": "code",
   "execution_count": 385,
   "metadata": {},
   "outputs": [],
   "source": [
    "x_test = []\n",
    "y_test = []\n",
    "\n",
    "\n",
    "\n",
    "rowId, articleTitle, tableTitle, match = testDataset[2]\n",
    "    \n",
    "articleTitleWords = tknzr.tokenize(str(articleTitle))\n",
    "vector1 = doc2VecModel.infer_vector(tableTitleWords)\n",
    "    \n",
    "result = searchIndexing(articleTitle)\n",
    "    \n",
    "rankedIDs = []\n",
    "    \n",
    "for hit in result['hits']['hits']:\n",
    "    \n",
    "    tablePgId = hit['_source']['tablePgID']\n",
    "    tablePgTitle = hit['_source']['tablePgTitle']\n",
    "        \n",
    "    tableTitleWords = tknzr.tokenize(str(tablePgTitle))\n",
    "    vector2 = doc2VecModel.infer_vector(tableTitleWords)\n",
    "    \n",
    "    vectorFinal = np.concatenate((vector1, vector2), axis=0)\n",
    "        \n",
    "    x_test.append(vectorFinal)\n",
    "        \n",
    "    rankedIDs.append(tablePgId)      "
   ]
  },
  {
   "cell_type": "code",
   "execution_count": 398,
   "metadata": {},
   "outputs": [
    {
     "data": {
      "text/plain": [
       "21230900"
      ]
     },
     "execution_count": 398,
     "metadata": {},
     "output_type": "execute_result"
    }
   ],
   "source": [
    "rowId"
   ]
  },
  {
   "cell_type": "code",
   "execution_count": 386,
   "metadata": {},
   "outputs": [
    {
     "data": {
      "text/plain": [
       "'french film queens deneuve adjani get along cannes chicago tribune'"
      ]
     },
     "execution_count": 386,
     "metadata": {},
     "output_type": "execute_result"
    }
   ],
   "source": [
    "articleTitle"
   ]
  },
  {
   "cell_type": "code",
   "execution_count": null,
   "metadata": {},
   "outputs": [],
   "source": []
  },
  {
   "cell_type": "code",
   "execution_count": 388,
   "metadata": {},
   "outputs": [],
   "source": [
    "x1_test = np.asarray(x_test, dtype=np.float32)"
   ]
  },
  {
   "cell_type": "code",
   "execution_count": 389,
   "metadata": {},
   "outputs": [],
   "source": [
    "y_predict = modelDeep.predict(x1_test)"
   ]
  },
  {
   "cell_type": "code",
   "execution_count": 396,
   "metadata": {},
   "outputs": [],
   "source": [
    "final = []\n",
    "\n",
    "for i in range(len(y_predict)):\n",
    "    \n",
    "    final.append([rankedIDs[i],y_predict[i]])\n",
    "    "
   ]
  },
  {
   "cell_type": "code",
   "execution_count": 397,
   "metadata": {},
   "outputs": [
    {
     "data": {
      "text/plain": [
       "[[38877647, array([0.19485548], dtype=float32)],\n",
       " [10798116, array([0.68189687], dtype=float32)],\n",
       " [30268846, array([0.68189687], dtype=float32)],\n",
       " [30268846, array([0.68189687], dtype=float32)],\n",
       " [30268846, array([0.68189687], dtype=float32)],\n",
       " [34023145, array([0.68189687], dtype=float32)],\n",
       " [34023145, array([0.68189687], dtype=float32)],\n",
       " [23384521, array([0.68189687], dtype=float32)],\n",
       " [10798116, array([0.68189687], dtype=float32)],\n",
       " [37917993, array([0.68189687], dtype=float32)],\n",
       " [37917993, array([0.68189687], dtype=float32)],\n",
       " [37917993, array([0.68189687], dtype=float32)],\n",
       " [30268846, array([0.68189687], dtype=float32)],\n",
       " [34023145, array([0.68189687], dtype=float32)],\n",
       " [16972176, array([0.68189687], dtype=float32)],\n",
       " [21231113, array([0.68189687], dtype=float32)],\n",
       " [45579, array([0.60516596], dtype=float32)],\n",
       " [10798116, array([0.68189687], dtype=float32)],\n",
       " [23384521, array([0.68189687], dtype=float32)],\n",
       " [21309330, array([0.68189687], dtype=float32)],\n",
       " [30268846, array([0.68189687], dtype=float32)],\n",
       " [30268846, array([0.68189687], dtype=float32)],\n",
       " [30268846, array([0.68189687], dtype=float32)],\n",
       " [37917993, array([0.68189687], dtype=float32)],\n",
       " [37917993, array([0.68189687], dtype=float32)],\n",
       " [37917993, array([0.68189687], dtype=float32)],\n",
       " [34023145, array([0.68189687], dtype=float32)],\n",
       " [34023145, array([0.68189687], dtype=float32)],\n",
       " [34023145, array([0.68189687], dtype=float32)],\n",
       " [23384521, array([0.68189687], dtype=float32)],\n",
       " [37917993, array([0.68189687], dtype=float32)],\n",
       " [37917993, array([0.68189687], dtype=float32)],\n",
       " [37917993, array([0.68189687], dtype=float32)],\n",
       " [30268846, array([0.68189687], dtype=float32)],\n",
       " [30268846, array([0.68189687], dtype=float32)],\n",
       " [16972176, array([0.68189687], dtype=float32)],\n",
       " [34023145, array([0.68189687], dtype=float32)],\n",
       " [34023145, array([0.68189687], dtype=float32)],\n",
       " [34023145, array([0.68189687], dtype=float32)],\n",
       " [34023145, array([0.68189687], dtype=float32)],\n",
       " [23384521, array([0.68189687], dtype=float32)],\n",
       " [23384521, array([0.68189687], dtype=float32)],\n",
       " [23384521, array([0.68189687], dtype=float32)],\n",
       " [37917993, array([0.68189687], dtype=float32)],\n",
       " [37917993, array([0.68189687], dtype=float32)],\n",
       " [30268846, array([0.68189687], dtype=float32)],\n",
       " [30268846, array([0.68189687], dtype=float32)],\n",
       " [16972176, array([0.68189687], dtype=float32)],\n",
       " [16972176, array([0.68189687], dtype=float32)],\n",
       " [34023145, array([0.68189687], dtype=float32)],\n",
       " [34023145, array([0.68189687], dtype=float32)],\n",
       " [34023145, array([0.68189687], dtype=float32)],\n",
       " [21230900, array([0.68189687], dtype=float32)],\n",
       " [45579, array([0.60516596], dtype=float32)],\n",
       " [45579, array([0.60516596], dtype=float32)],\n",
       " [45579, array([0.60516596], dtype=float32)],\n",
       " [45579, array([0.60516596], dtype=float32)],\n",
       " [45379, array([0.69632447], dtype=float32)],\n",
       " [45379, array([0.69632447], dtype=float32)],\n",
       " [101318, array([0.89781725], dtype=float32)],\n",
       " [45379, array([0.69632447], dtype=float32)],\n",
       " [45379, array([0.69632447], dtype=float32)],\n",
       " [45379, array([0.69632447], dtype=float32)],\n",
       " [2177670, array([0.75712466], dtype=float32)],\n",
       " [2177670, array([0.75712466], dtype=float32)],\n",
       " [2177670, array([0.75712466], dtype=float32)],\n",
       " [2177670, array([0.75712466], dtype=float32)],\n",
       " [12584054, array([0.46165717], dtype=float32)],\n",
       " [99463, array([0.37435627], dtype=float32)],\n",
       " [5286602, array([0.770628], dtype=float32)],\n",
       " [5984444, array([0.5538578], dtype=float32)],\n",
       " [19965775, array([0.48999575], dtype=float32)],\n",
       " [19965775, array([0.48999575], dtype=float32)],\n",
       " [18436536, array([0.27051282], dtype=float32)],\n",
       " [12940547, array([0.27051282], dtype=float32)],\n",
       " [28150124, array([0.27051282], dtype=float32)],\n",
       " [832232, array([0.27051282], dtype=float32)],\n",
       " [7766704, array([0.608727], dtype=float32)],\n",
       " [253693, array([0.6214759], dtype=float32)],\n",
       " [7766704, array([0.608727], dtype=float32)],\n",
       " [29569082, array([0.], dtype=float32)],\n",
       " [20918637, array([0.41947716], dtype=float32)],\n",
       " [24431264, array([0.29905647], dtype=float32)],\n",
       " [24431264, array([0.29905647], dtype=float32)],\n",
       " [24431264, array([0.29905647], dtype=float32)],\n",
       " [20855455, array([0.29905647], dtype=float32)],\n",
       " [20855455, array([0.29905647], dtype=float32)],\n",
       " [20855455, array([0.29905647], dtype=float32)],\n",
       " [30558470, array([0.29905647], dtype=float32)],\n",
       " [30558470, array([0.29905647], dtype=float32)],\n",
       " [30558470, array([0.29905647], dtype=float32)],\n",
       " [30558470, array([0.29905647], dtype=float32)],\n",
       " [30558470, array([0.29905647], dtype=float32)],\n",
       " [32125505, array([0.29905647], dtype=float32)],\n",
       " [32125505, array([0.29905647], dtype=float32)],\n",
       " [32125505, array([0.29905647], dtype=float32)],\n",
       " [32125505, array([0.29905647], dtype=float32)],\n",
       " [32125505, array([0.29905647], dtype=float32)],\n",
       " [32125505, array([0.29905647], dtype=float32)],\n",
       " [32125505, array([0.29905647], dtype=float32)]]"
      ]
     },
     "execution_count": 397,
     "metadata": {},
     "output_type": "execute_result"
    }
   ],
   "source": [
    "final"
   ]
  },
  {
   "cell_type": "code",
   "execution_count": null,
   "metadata": {},
   "outputs": [],
   "source": [
    "def siamese_model(input_shape):\n",
    "    \n",
    "    left = tf.keras.Input(input_shape)\n",
    "    right = tf.keras.Input(input_shape)\n",
    "    \n",
    "    model = tf.keras.Sequential()\n",
    "    model.add(tf.keras.layers.Dense(1024, activation = tf.nn.relu))\n",
    "    model.add(tf.keras.layers.Dense(512, activation = tf.nn.relu))\n",
    "    model.add(tf.keras.layers.Dense(256, activation = tf.nn.sigmoid))\n",
    "    \n",
    "    left_encoded = model(left)\n",
    "    right_encoded = model(right)\n",
    "    \n",
    "    L1_layer = tf.keras.layers.Lambda(lambda tensors:tf.keras.backend.abs(tensors[0] - tensors[1]))\n",
    "    \n",
    "    L1_distance = L1_layer([left_encoded, right_encoded])\n",
    "    \n",
    "    prediction = tf.keras.layers.Dense(1,activation='sigmoid')(L1_distance)\n",
    "    \n",
    "    siamese_net = tf.keras.Model(inputs=[left,right],outputs=prediction)\n",
    "    \n",
    "    return siamese_net"
   ]
  },
  {
   "cell_type": "code",
   "execution_count": null,
   "metadata": {},
   "outputs": [],
   "source": [
    "left_train = np.array(left_train)\n",
    "rigth_train = np.array(rigth_train)\n",
    "label = np.array(label)"
   ]
  },
  {
   "cell_type": "code",
   "execution_count": null,
   "metadata": {},
   "outputs": [],
   "source": [
    "model = siamese_model(10)"
   ]
  },
  {
   "cell_type": "code",
   "execution_count": null,
   "metadata": {},
   "outputs": [],
   "source": [
    "model.compile(loss=\"binary_crossentropy\",optimizer=\"adam\", metrics=['accuracy'])"
   ]
  },
  {
   "cell_type": "code",
   "execution_count": null,
   "metadata": {},
   "outputs": [],
   "source": [
    "model.fit([left_train, rigth_train], label, epochs=100, batch_size=32)"
   ]
  }
 ],
 "metadata": {
  "kernelspec": {
   "display_name": "Python 3",
   "language": "python",
   "name": "python3"
  },
  "language_info": {
   "codemirror_mode": {
    "name": "ipython",
    "version": 3
   },
   "file_extension": ".py",
   "mimetype": "text/x-python",
   "name": "python",
   "nbconvert_exporter": "python",
   "pygments_lexer": "ipython3",
   "version": "3.7.3"
  }
 },
 "nbformat": 4,
 "nbformat_minor": 2
}
