{
 "cells": [
  {
   "cell_type": "code",
   "execution_count": 1,
   "metadata": {},
   "outputs": [],
   "source": [
    "from tqdm import tqdm\n",
    "import numpy as np\n",
    "import pandas as pd\n",
    "import random\n",
    "from elasticsearch import Elasticsearch\n",
    "from elasticsearch import helpers\n",
    "indexing_tables = Elasticsearch()"
   ]
  },
  {
   "cell_type": "code",
   "execution_count": 2,
   "metadata": {},
   "outputs": [],
   "source": [
    "raw_tables = pd.read_csv('dataset/table_data_newyork', delimiter=',', header=None)\n",
    "raw_tables = raw_tables.replace({pd.np.nan: None})\n",
    "data_tables = raw_tables.iloc[:,:].values"
   ]
  },
  {
   "cell_type": "code",
   "execution_count": null,
   "metadata": {},
   "outputs": [],
   "source": []
  },
  {
   "cell_type": "code",
   "execution_count": 3,
   "metadata": {},
   "outputs": [],
   "source": [
    "def create_indexing():\n",
    "    \n",
    "    for tables in tqdm(data_tables):\n",
    "        \n",
    "        table_url = tables[0]\n",
    "        table_page_title = tables[1]\n",
    "        table_page_content = tables[2]\n",
    "        table_caption = tables[3]\n",
    "        table_domain_score = tables[4]\n",
    "        table_content = tables[5]\n",
    "        table_header = tables[6]\n",
    "        \n",
    "        yield {\n",
    "            \"_index\": \"data_table_newyork\",\n",
    "            \"_type\": \"data_table_newyork\",\n",
    "            \"_source\": {\n",
    "                \"table_url\": table_url,\n",
    "                \"table_page_title\": table_page_title,\n",
    "                \"table_page_content\": table_page_content,\n",
    "                \"table_caption\": table_caption,\n",
    "                \"table_domain_score\": table_domain_score,\n",
    "                \"table_content\": table_content,\n",
    "                \"table_header\": table_header\n",
    "            }\n",
    "            \n",
    "        }"
   ]
  },
  {
   "cell_type": "code",
   "execution_count": null,
   "metadata": {},
   "outputs": [],
   "source": [
    "indexing_tables.indices.delete(index='data_tables_newyork')"
   ]
  },
  {
   "cell_type": "code",
   "execution_count": 5,
   "metadata": {},
   "outputs": [
    {
     "name": "stderr",
     "output_type": "stream",
     "text": [
      "100%|██████████| 52426/52426 [00:51<00:00, 1025.99it/s]\n"
     ]
    },
    {
     "data": {
      "text/plain": [
       "(52426, [])"
      ]
     },
     "execution_count": 5,
     "metadata": {},
     "output_type": "execute_result"
    }
   ],
   "source": [
    "helpers.bulk(indexing_tables, create_indexing())"
   ]
  }
 ],
 "metadata": {
  "kernelspec": {
   "display_name": "Python 3",
   "language": "python",
   "name": "python3"
  },
  "language_info": {
   "codemirror_mode": {
    "name": "ipython",
    "version": 3
   },
   "file_extension": ".py",
   "mimetype": "text/x-python",
   "name": "python",
   "nbconvert_exporter": "python",
   "pygments_lexer": "ipython3",
   "version": "3.7.3"
  }
 },
 "nbformat": 4,
 "nbformat_minor": 2
}
