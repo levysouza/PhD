{
 "cells": [
  {
   "cell_type": "code",
   "execution_count": null,
   "metadata": {},
   "outputs": [],
   "source": [
    "import tensorflow as tf\n",
    "import tensorflow_hub as hub\n",
    "import numpy as np\n",
    "import pandas as pd\n",
    "from tqdm import tqdm\n",
    "from sklearn.metrics import pairwise_distances\n",
    "from heapq import nsmallest"
   ]
  },
  {
   "cell_type": "code",
   "execution_count": 3,
   "metadata": {},
   "outputs": [],
   "source": [
    "module_url = \"https://tfhub.dev/google/universal-sentence-encoder/2\""
   ]
  },
  {
   "cell_type": "code",
   "execution_count": 4,
   "metadata": {},
   "outputs": [],
   "source": [
    "embed = hub.Module(module_url)"
   ]
  },
  {
   "cell_type": "code",
   "execution_count": 6,
   "metadata": {},
   "outputs": [],
   "source": [
    "read = pd.read_csv('dataset/test_dataset', delimiter=',', header=None)\n",
    "data_articles = read.iloc[:,:].values"
   ]
  },
  {
   "cell_type": "code",
   "execution_count": 7,
   "metadata": {},
   "outputs": [],
   "source": [
    "read = pd.read_csv('dataset/cleanDataTables', delimiter=',', header=None)\n",
    "data_tables = read.iloc[:,:].values"
   ]
  },
  {
   "cell_type": "code",
   "execution_count": null,
   "metadata": {},
   "outputs": [],
   "source": []
  },
  {
   "cell_type": "markdown",
   "metadata": {},
   "source": [
    "## creating the articles embedings"
   ]
  },
  {
   "cell_type": "code",
   "execution_count": 9,
   "metadata": {},
   "outputs": [
    {
     "name": "stderr",
     "output_type": "stream",
     "text": [
      "100%|██████████| 6600/6600 [00:00<00:00, 109310.34it/s]\n"
     ]
    }
   ],
   "source": [
    "articles_title = []\n",
    "articles_id = []\n",
    "\n",
    "for article_id, title, text in tqdm(data_articles):\n",
    "    \n",
    "    articles_id.append(article_id)\n",
    "    \n",
    "    articles_title.append(title)"
   ]
  },
  {
   "cell_type": "code",
   "execution_count": 10,
   "metadata": {},
   "outputs": [
    {
     "name": "stdout",
     "output_type": "stream",
     "text": [
      "INFO:tensorflow:Saver not created because there are no variables in the graph to restore\n"
     ]
    },
    {
     "name": "stderr",
     "output_type": "stream",
     "text": [
      "INFO:tensorflow:Saver not created because there are no variables in the graph to restore\n"
     ]
    }
   ],
   "source": [
    "with tf.Session() as sess:\n",
    "    \n",
    "    sess.run([tf.global_variables_initializer(), tf.tables_initializer()])\n",
    "            \n",
    "    embedding_articles = sess.run(embed(articles_title))"
   ]
  },
  {
   "cell_type": "code",
   "execution_count": 11,
   "metadata": {},
   "outputs": [],
   "source": [
    "article_dense_vector = []\n",
    "\n",
    "for current_embedding in embedding_articles:\n",
    "    \n",
    "    article_dense_vector.append(current_embedding)"
   ]
  },
  {
   "cell_type": "code",
   "execution_count": 12,
   "metadata": {},
   "outputs": [
    {
     "data": {
      "text/plain": [
       "6600"
      ]
     },
     "execution_count": 12,
     "metadata": {},
     "output_type": "execute_result"
    }
   ],
   "source": [
    "len(article_dense_vector)"
   ]
  },
  {
   "cell_type": "code",
   "execution_count": null,
   "metadata": {},
   "outputs": [],
   "source": []
  },
  {
   "cell_type": "markdown",
   "metadata": {},
   "source": [
    "## creating the tables embeddings"
   ]
  },
  {
   "cell_type": "code",
   "execution_count": 14,
   "metadata": {},
   "outputs": [
    {
     "name": "stderr",
     "output_type": "stream",
     "text": [
      "100%|██████████| 298793/298793 [00:00<00:00, 356276.52it/s]\n"
     ]
    }
   ],
   "source": [
    "tables_title = []\n",
    "\n",
    "for current_table in tqdm(data_tables):\n",
    "    \n",
    "    tables_title.append(str(current_table[1]))"
   ]
  },
  {
   "cell_type": "code",
   "execution_count": 15,
   "metadata": {},
   "outputs": [
    {
     "name": "stdout",
     "output_type": "stream",
     "text": [
      "INFO:tensorflow:Saver not created because there are no variables in the graph to restore\n"
     ]
    },
    {
     "name": "stderr",
     "output_type": "stream",
     "text": [
      "INFO:tensorflow:Saver not created because there are no variables in the graph to restore\n"
     ]
    }
   ],
   "source": [
    "with tf.Session() as sess:\n",
    "    \n",
    "    sess.run([tf.global_variables_initializer(), tf.tables_initializer()])\n",
    "            \n",
    "    embedding_tables = sess.run(embed(tables_title))"
   ]
  },
  {
   "cell_type": "code",
   "execution_count": 16,
   "metadata": {},
   "outputs": [],
   "source": [
    "tables_dense_vector = []\n",
    "\n",
    "for current_embedding in embedding_tables:\n",
    "    \n",
    "    tables_dense_vector.append(current_embedding)"
   ]
  },
  {
   "cell_type": "code",
   "execution_count": 17,
   "metadata": {},
   "outputs": [
    {
     "data": {
      "text/plain": [
       "298793"
      ]
     },
     "execution_count": 17,
     "metadata": {},
     "output_type": "execute_result"
    }
   ],
   "source": [
    "len(tables_dense_vector)"
   ]
  },
  {
   "cell_type": "code",
   "execution_count": null,
   "metadata": {},
   "outputs": [],
   "source": []
  },
  {
   "cell_type": "markdown",
   "metadata": {},
   "source": [
    "## methods for getting the ranked tables and save the accuracy"
   ]
  },
  {
   "cell_type": "code",
   "execution_count": 18,
   "metadata": {},
   "outputs": [],
   "source": [
    "def get_id_ranked_tables(top_k,distance_vector):\n",
    "\n",
    "    id_ranked_tables = []\n",
    "\n",
    "    for current_top_k in top_k:\n",
    "        \n",
    "        index = np.where(distance_vector == current_top_k)\n",
    "         \n",
    "        index_colummun = index[0][0]\n",
    "        \n",
    "        id_ranked_tables.append(data_tables[index_colummun][0])\n",
    "\n",
    "    return id_ranked_tables"
   ]
  },
  {
   "cell_type": "code",
   "execution_count": 19,
   "metadata": {},
   "outputs": [],
   "source": [
    "def get_accuracy(id_ranked_tables, id_query_goal):\n",
    "\n",
    "    accuracy = 0\n",
    "\n",
    "    for id_table in id_ranked_tables:\n",
    "    \n",
    "        if id_table == id_query_goal:\n",
    "    \n",
    "            accuracy = 1\n",
    "            \n",
    "            break;\n",
    "\n",
    "    return accuracy"
   ]
  },
  {
   "cell_type": "code",
   "execution_count": 20,
   "metadata": {},
   "outputs": [],
   "source": [
    "def save_accuracy(k,accuracy):\n",
    "    \n",
    "    if k == 1:\n",
    "            \n",
    "        average_top1.append(accuracy)\n",
    "        \n",
    "    if k == 10:\n",
    "            \n",
    "        average_top10.append(accuracy)\n",
    "        \n",
    "    if k == 100:\n",
    "            \n",
    "        average_top100.append(accuracy)\n",
    "        \n",
    "    if k == 1000:\n",
    "            \n",
    "        average_top1000.append(accuracy)"
   ]
  },
  {
   "cell_type": "code",
   "execution_count": null,
   "metadata": {},
   "outputs": [],
   "source": []
  },
  {
   "cell_type": "markdown",
   "metadata": {},
   "source": [
    "## computing the cosine similarity"
   ]
  },
  {
   "cell_type": "code",
   "execution_count": null,
   "metadata": {},
   "outputs": [
    {
     "name": "stderr",
     "output_type": "stream",
     "text": [
      " 39%|███▊      | 2557/6600 [2:13:37<3:32:08,  3.15s/it]"
     ]
    }
   ],
   "source": [
    "average_top1 = []\n",
    "average_top10 = []\n",
    "average_top100 = []\n",
    "average_top1000 = []\n",
    "\n",
    "top_k = [1,10,100,1000]\n",
    "\n",
    "for i in tqdm(range(len(article_dense_vector))):\n",
    "    \n",
    "    distance_vector = pairwise_distances(article_dense_vector[i].reshape(1,512), tables_dense_vector, metric='cosine')\n",
    "    \n",
    "    id_query_goal = int(articles_id[i])\n",
    "    \n",
    "    for accuracy_k in top_k:\n",
    "        \n",
    "        count_top_tables = accuracy_k\n",
    "        \n",
    "        top_k_rank = nsmallest(count_top_tables, distance_vector[0])\n",
    "    \n",
    "        id_ranked_tables = get_id_ranked_tables(top_k_rank,distance_vector[0])\n",
    "        \n",
    "        accuracy_value = get_accuracy(id_ranked_tables,id_query_goal)\n",
    "        \n",
    "        #save the accuracy on the list\n",
    "        save_accuracy(accuracy_k,accuracy_value)"
   ]
  },
  {
   "cell_type": "code",
   "execution_count": null,
   "metadata": {},
   "outputs": [],
   "source": [
    "print(str(round(np.mean(average_top1),4))+\" (±) \"+str(round(np.std(average_top1),4)))\n",
    "print(str(round(np.mean(average_top10),4))+\" (±) \"+str(round(np.std(average_top10),4)))\n",
    "print(str(round(np.mean(average_top100),4))+\" (±) \"+str(round(np.std(average_top100),4)))\n",
    "print(str(round(np.mean(average_top1000),4))+\" (±) \"+str(round(np.std(average_top1000),4)))"
   ]
  }
 ],
 "metadata": {
  "kernelspec": {
   "display_name": "Python 3",
   "language": "python",
   "name": "python3"
  },
  "language_info": {
   "codemirror_mode": {
    "name": "ipython",
    "version": 3
   },
   "file_extension": ".py",
   "mimetype": "text/x-python",
   "name": "python",
   "nbconvert_exporter": "python",
   "pygments_lexer": "ipython3",
   "version": "3.7.4"
  }
 },
 "nbformat": 4,
 "nbformat_minor": 2
}
