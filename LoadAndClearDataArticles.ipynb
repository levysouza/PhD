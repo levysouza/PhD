{
 "cells": [
  {
   "cell_type": "code",
   "execution_count": 1,
   "metadata": {},
   "outputs": [],
   "source": [
    "import pickle\n",
    "import re\n",
    "from tqdm import tqdm\n",
    "import pandas as pd\n",
    "import numpy as np\n",
    "import csv"
   ]
  },
  {
   "cell_type": "code",
   "execution_count": 2,
   "metadata": {},
   "outputs": [],
   "source": [
    "rawArticles = pickle.load(open(\"articlesDataset/final_article_tables.pkl\",\"rb\"))\n",
    "rawTables = pickle.load(open(\"articlesDataset/final_dict_tables.pkl\",\"rb\"))"
   ]
  },
  {
   "cell_type": "code",
   "execution_count": 21,
   "metadata": {},
   "outputs": [
    {
     "name": "stderr",
     "output_type": "stream",
     "text": [
      "100%|██████████| 90000/90000 [01:42<00:00, 874.20it/s] \n"
     ]
    }
   ],
   "source": [
    "formattedArticles = []\n",
    "\n",
    "for i in tqdm(rawArticles.keys()):\n",
    "    \n",
    "    keyArticle = i\n",
    "     \n",
    "    dataArticle = rawArticles[keyArticle]\n",
    "\n",
    "    totalArticles = len(dataArticle)\n",
    "\n",
    "    for i in range(totalArticles):\n",
    "    \n",
    "        fullText = str(dataArticle[i][1])\n",
    "    \n",
    "        #removing special characters\n",
    "        formattedText = re.sub('[^A-Za-z]+',' ',fullText)\n",
    "    \n",
    "        #removing left and right spaces\n",
    "        formattedText = formattedText.lstrip()\n",
    "        formattedText = formattedText.rstrip()\n",
    "    \n",
    "        formattedArticles.append([keyArticle,formattedText])"
   ]
  },
  {
   "cell_type": "code",
   "execution_count": 22,
   "metadata": {},
   "outputs": [
    {
     "name": "stderr",
     "output_type": "stream",
     "text": [
      " 98%|█████████▊| 291676/298725 [00:31<00:00, 9184.49it/s] \n"
     ]
    }
   ],
   "source": [
    "for article in tqdm(formattedArticles):\n",
    "    if (article[1] == ''):\n",
    "        formattedArticles.remove(article)"
   ]
  },
  {
   "cell_type": "code",
   "execution_count": 23,
   "metadata": {},
   "outputs": [
    {
     "name": "stderr",
     "output_type": "stream",
     "text": [
      "100%|██████████| 291676/291676 [00:25<00:00, 11319.55it/s]\n"
     ]
    }
   ],
   "source": [
    "with open('cleanDataArticles', 'w') as myfile:\n",
    "        \n",
    "    wr = csv.writer(myfile, quoting=csv.QUOTE_ALL)\n",
    "    \n",
    "    for article in tqdm(formattedArticles):\n",
    "    \n",
    "        articleID = article[0]\n",
    "    \n",
    "        articleText = article[1]\n",
    "    \n",
    "        row = [articleID,articleText]\n",
    "        \n",
    "        wr.writerow(row)"
   ]
  },
  {
   "cell_type": "code",
   "execution_count": null,
   "metadata": {},
   "outputs": [],
   "source": []
  }
 ],
 "metadata": {
  "kernelspec": {
   "display_name": "Python 3",
   "language": "python",
   "name": "python3"
  },
  "language_info": {
   "codemirror_mode": {
    "name": "ipython",
    "version": 3
   },
   "file_extension": ".py",
   "mimetype": "text/x-python",
   "name": "python",
   "nbconvert_exporter": "python",
   "pygments_lexer": "ipython3",
   "version": "3.7.3"
  }
 },
 "nbformat": 4,
 "nbformat_minor": 2
}
