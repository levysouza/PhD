{
 "cells": [
  {
   "cell_type": "code",
   "execution_count": 1,
   "metadata": {},
   "outputs": [],
   "source": [
    "from tqdm import tqdm\n",
    "import numpy as np\n",
    "import pandas as pd\n",
    "import random\n",
    "from elasticsearch import Elasticsearch\n",
    "from elasticsearch import helpers\n",
    "indexingTables = Elasticsearch(timeout=30, max_retries=10, retry_on_timeout=True)"
   ]
  },
  {
   "cell_type": "code",
   "execution_count": 12,
   "metadata": {},
   "outputs": [],
   "source": [
    "def get_accuracy(idRankedTables, idQueryGoal):\n",
    "    \n",
    "    accuracy = 0\n",
    "\n",
    "    for idTable in idRankedTables:\n",
    "        \n",
    "        print(idQueryGoal)\n",
    "        print(idTable)\n",
    "        print(\"\")\n",
    "        \n",
    "        if idTable == idQueryGoal:\n",
    "    \n",
    "            accuracy = 1\n",
    "            break;\n",
    "\n",
    "    return accuracy"
   ]
  },
  {
   "cell_type": "code",
   "execution_count": 3,
   "metadata": {},
   "outputs": [
    {
     "data": {
      "text/plain": [
       "{'acknowledged': True, 'shards_acknowledged': True}"
      ]
     },
     "execution_count": 3,
     "metadata": {},
     "output_type": "execute_result"
    }
   ],
   "source": [
    "indexingTables.indices.close(index='data_table_newyork')\n",
    "indexingTables.indices.put_settings(index='data_table_newyork', body={\"index\": {\"similarity\": {\"default\": {\"type\": \"classic\"}}}})\n",
    "indexingTables.indices.open(index='data_table_newyork')"
   ]
  },
  {
   "cell_type": "code",
   "execution_count": 3,
   "metadata": {},
   "outputs": [],
   "source": [
    "def searchIndexing(query, tableField, topK):\n",
    "    \n",
    "    result= indexingTables.search(\n",
    "        index=\"data_table_newyork\", \n",
    "        body = {\n",
    "        \"_source\": [\"table_url\"],\n",
    "        \"from\" : 0,\n",
    "        \"size\" : topK,\n",
    "        \"query\": {\n",
    "            \"multi_match\":{\n",
    "              \"type\": \"most_fields\",\n",
    "              \"query\":    query, \n",
    "              #\"fields\": [\"tablePgTitle\"] \n",
    "              \"fields\": [\"table_page_title\"] \n",
    "              #\"fields\": [tableField]\n",
    "            }\n",
    "        }\n",
    "    })\n",
    "    \n",
    "    return result"
   ]
  },
  {
   "cell_type": "code",
   "execution_count": 4,
   "metadata": {},
   "outputs": [],
   "source": [
    "articles = pd.read_csv('dataset/article_data_newyork', delimiter=',', header=None)\n",
    "formattedArticles = articles.iloc[:,:].values"
   ]
  },
  {
   "cell_type": "code",
   "execution_count": 15,
   "metadata": {},
   "outputs": [
    {
     "data": {
      "text/plain": [
       "array([['http://www.cnn.com/2011/US/02/27/wwi.veteran.death/index.html',\n",
       "        'last living world war veteran dies',\n",
       "        'washington cnn frank buckles last living world war veteran died spokesman family said sunday lawmakers monday began move ahead proposed resolutions would allow casket displayed capitol rotunda plans already works burial arlington national cemetery buckles died peacefully home natural causes early sunday morning family said statement sent cnn late sunday spokesman david dejonge buckles marked th birthday february family earlier told cnn slowed considerably since last fall according daughter susannah buckles flanagan lives family home near charles town west virginia buckles served army ambulance driver europe known great war rose rank corporal war ended his assignments included escort german prisoners war little know would someday become prisoner war world war came prominence recent years part work dejonge michigan portrait photographer undertaken project document last surviving veterans war years continued buckles passed away leaving last man standing among troops called the doughboys his death leaves two verified surviving wwi veterans world british president obama issued statement monday buckles passing saying first lady michelle obama inspired buckles story frank buckles lived american century obama statement said like many veterans returned home continued education began career along late wife audrey raised daughter susannah join susannah knew loved father celebrating remarkable life reminds true meaning patriotism obligations americans buckles told cnn accepted responsibility honoring gone voice permanent national recognition gone dejonge found spokesman advocate buckles mission see comrades honored monument national mall pushing improvements neglected obscure city memorial nearly shadow elaborate world war memorial buckles wanted national status granted war memorial marble gazebo built s honors comrades district columbia his call elevate designation site join honors accorded served world war korea vietnam come end chapter history said rep ted poe r texas house sponsor legislation upgrade war memorial frank last american doughboy national treasure poe said statement provided cnn the frank buckles wwi memorial act passed house cleared senate congress adjourned poe monday restated support house resolution would allow public display buckles capitol rotunda sen jay rockefeller d west virginia co sponsor senate proposal buckles age came capitol hill west virginia testify senate panel behalf war memorial bill sat alongside rockefeller fellow proponent sens john thune r south dakota jim webb d virginia told cnn came washington part considered responsibility honor memory fellow veterans rockefeller praised buckles statement monday calling unique american wonderfully plain spoken man icon world war generation his life full varied inspiration unbridled patriotism enthusiam life statement said buckles world war ended took career ship officer merchant vessels captured japanese philippines world war held prisoner war three years freed troops never saying much pow experience buckles instead wanted attention drawn plight war memorial during visit run down neglected site years ago went past nearby world war memorial without stopping even younger veterans stopped saluted old soldier wheelchair went renovations structure began last fall buckles health already failing could make trip washington review improvements the national park service overseeing efforts include replacing neglected walkway dressing deteriorated dome marble columns details services arrangements announced days ahead family statement said flanagan daughter said preliminary plans began weeks ago military district washington expressing support honors burial arlington including escort platoon horse drawn casket arrival band firing party long father wish buried arlington cemetery holds beloved general john pershing flanagan wrote began prepare inevitable letter sent home state sen joe manchin d west virginia feel confident right thing come pass said manchin issued statement monday read part lived long rich life true american patriot hope family loss lightened knowledge loved missed many buckles attended veterans day ceremonies grave pershing commander troops world war also met then president george bush white house defense secretary robert gates pentagon the first world war well understood remembered united states gates said time there big memorial national mall hollywood turned gaze direction decades yet events markedly shaped world live buckles family asks donations made national world war legacy project honor frank buckles americans served more americans killed wounded months involvement war according congressional research service the overall death toll conflict million including nearly million civilians million wounded details found www frankbuckles org',\n",
       "        'https://en.wikipedia.org/wiki/List_of_last_World_War_I_veterans_by_country']],\n",
       "      dtype=object)"
      ]
     },
     "execution_count": 15,
     "metadata": {},
     "output_type": "execute_result"
    }
   ],
   "source": [
    "formattedArticles[2:3]"
   ]
  },
  {
   "cell_type": "code",
   "execution_count": 5,
   "metadata": {},
   "outputs": [],
   "source": [
    "def executeSearch(tableField, topK):\n",
    "\n",
    "    accuracy = []\n",
    "\n",
    "    for articles in (formattedArticles[2:3]):\n",
    "    \n",
    "        article_url = articles[0]\n",
    "        article_page_title = articles[1]\n",
    "        article_main_passage = articles[2][:6000]\n",
    "        \n",
    "        table_url = articles[3]\n",
    "        articl_key = table_url\n",
    "        \n",
    "        catch = article_page_title + \" \" + article_main_passage \n",
    "        \n",
    "        result = searchIndexing(article_page_title,tableField,topK)\n",
    "    \n",
    "        idRankedTables = []\n",
    "    \n",
    "        for hit in result['hits']['hits']:\n",
    "    \n",
    "            tablePgId = hit['_source']['table_url']\n",
    "    \n",
    "            idRankedTables.append(tablePgId)\n",
    "    \n",
    "        accuracy.append(get_accuracy(idRankedTables,articl_key))\n",
    "\n",
    "    print(str(round(np.mean(accuracy),4)))"
   ]
  },
  {
   "cell_type": "code",
   "execution_count": 6,
   "metadata": {},
   "outputs": [],
   "source": [
    "#tableField = [\"table_page_title\",\"table_page_content\",\"table_caption\",\"table_content\",\"table_header\"]\n",
    "tableField = [\"table_page_title\",\"table_page_content\",\"table_caption\",\"table_content\",\"table_header\"]\n",
    "topK = [5]"
   ]
  },
  {
   "cell_type": "code",
   "execution_count": 12,
   "metadata": {},
   "outputs": [
    {
     "name": "stdout",
     "output_type": "stream",
     "text": [
      "\n",
      "Acc@5 - table_page_title\n",
      "https://en.wikipedia.org/wiki/List_of_close_election_results\n",
      "https://en.wikipedia.org/wiki/List_of_close_election_results\n",
      "\n",
      "1.0\n",
      "Acc@5 - table_page_content\n",
      "https://en.wikipedia.org/wiki/List_of_close_election_results\n",
      "https://en.wikipedia.org/wiki/List_of_close_election_results\n",
      "\n",
      "1.0\n",
      "Acc@5 - table_caption\n",
      "https://en.wikipedia.org/wiki/List_of_close_election_results\n",
      "https://en.wikipedia.org/wiki/List_of_close_election_results\n",
      "\n",
      "1.0\n",
      "Acc@5 - table_content\n",
      "https://en.wikipedia.org/wiki/List_of_close_election_results\n",
      "https://en.wikipedia.org/wiki/List_of_close_election_results\n",
      "\n",
      "1.0\n",
      "Acc@5 - table_header\n",
      "https://en.wikipedia.org/wiki/List_of_close_election_results\n",
      "https://en.wikipedia.org/wiki/List_of_close_election_results\n",
      "\n",
      "1.0\n"
     ]
    }
   ],
   "source": [
    "for k in topK:\n",
    "    \n",
    "    print(\"\")\n",
    "    \n",
    "    for field in tableField:\n",
    "        \n",
    "        print(\"Acc@\"+str(k)+\" - \"+field)\n",
    "        \n",
    "        executeSearch(field,k)"
   ]
  },
  {
   "cell_type": "code",
   "execution_count": null,
   "metadata": {},
   "outputs": [],
   "source": []
  },
  {
   "cell_type": "code",
   "execution_count": 13,
   "metadata": {},
   "outputs": [
    {
     "name": "stdout",
     "output_type": "stream",
     "text": [
      "\n",
      "Acc@5\n",
      "https://en.wikipedia.org/wiki/List_of_last_World_War_I_veterans_by_country\n",
      "https://en.wikipedia.org/wiki/List_of_last_surviving_World_War_I_veterans\n",
      "\n",
      "https://en.wikipedia.org/wiki/List_of_last_World_War_I_veterans_by_country\n",
      "https://en.wikipedia.org/wiki/List_of_last_surviving_World_War_I_veterans\n",
      "\n",
      "https://en.wikipedia.org/wiki/List_of_last_World_War_I_veterans_by_country\n",
      "https://en.wikipedia.org/wiki/List_of_last_World_War_I_veterans_by_country\n",
      "\n",
      "1.0\n"
     ]
    }
   ],
   "source": [
    "for k in topK:\n",
    "    \n",
    "    print(\"\")\n",
    "         \n",
    "    print(\"Acc@\"+str(k))\n",
    "        \n",
    "    executeSearch(\"\",k)"
   ]
  },
  {
   "cell_type": "code",
   "execution_count": null,
   "metadata": {},
   "outputs": [],
   "source": []
  },
  {
   "cell_type": "code",
   "execution_count": null,
   "metadata": {},
   "outputs": [],
   "source": []
  },
  {
   "cell_type": "code",
   "execution_count": null,
   "metadata": {},
   "outputs": [],
   "source": []
  },
  {
   "cell_type": "code",
   "execution_count": null,
   "metadata": {},
   "outputs": [],
   "source": []
  }
 ],
 "metadata": {
  "kernelspec": {
   "display_name": "Python 3",
   "language": "python",
   "name": "python3"
  },
  "language_info": {
   "codemirror_mode": {
    "name": "ipython",
    "version": 3
   },
   "file_extension": ".py",
   "mimetype": "text/x-python",
   "name": "python",
   "nbconvert_exporter": "python",
   "pygments_lexer": "ipython3",
   "version": "3.7.3"
  }
 },
 "nbformat": 4,
 "nbformat_minor": 2
}
