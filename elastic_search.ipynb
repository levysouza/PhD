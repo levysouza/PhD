{
 "cells": [
  {
   "cell_type": "code",
   "execution_count": 1,
   "metadata": {},
   "outputs": [],
   "source": [
    "from tqdm import tqdm\n",
    "import numpy as np\n",
    "import pandas as pd\n",
    "import random\n",
    "from elasticsearch import Elasticsearch\n",
    "from elasticsearch import helpers\n",
    "indexingTables = Elasticsearch()"
   ]
  },
  {
   "cell_type": "code",
   "execution_count": 2,
   "metadata": {},
   "outputs": [],
   "source": [
    "def get_accuracy(idRankedTables, idQueryGoal):\n",
    "    \n",
    "    accuracy = 0\n",
    "\n",
    "    for idTable in idRankedTables:\n",
    "    \n",
    "        if idTable == idQueryGoal:\n",
    "    \n",
    "            accuracy = 1\n",
    "            break;\n",
    "\n",
    "    return accuracy"
   ]
  },
  {
   "cell_type": "code",
   "execution_count": 3,
   "metadata": {},
   "outputs": [
    {
     "data": {
      "text/plain": [
       "{'acknowledged': True, 'shards_acknowledged': True}"
      ]
     },
     "execution_count": 3,
     "metadata": {},
     "output_type": "execute_result"
    }
   ],
   "source": [
    "indexingTables.indices.close(index='tables')\n",
    "indexingTables.indices.put_settings(index='tables', body={\"index\": {\"similarity\": {\"default\": {\"type\": \"classic\"}}}})\n",
    "indexingTables.indices.open(index='tables')"
   ]
  },
  {
   "cell_type": "code",
   "execution_count": 5,
   "metadata": {},
   "outputs": [],
   "source": [
    "def searchIndexing(query, tableField, topK):\n",
    "    \n",
    "    result= indexingTables.search(\n",
    "        index=\"tables\", \n",
    "        body = {\n",
    "        \"_source\": [\"tablePgID\"],\n",
    "        \"from\" : 0,\n",
    "        \"size\" : topK,\n",
    "        \"query\": {\n",
    "            \"multi_match\":{\n",
    "              \"type\": \"most_fields\",\n",
    "              \"query\":    query, \n",
    "              \"fields\": [\"tablePgTitle\",\"tableHeader\",\"tableBody\"] \n",
    "              #\"fields\": [tableField]\n",
    "            }\n",
    "        }\n",
    "    })\n",
    "    \n",
    "    return result"
   ]
  },
  {
   "cell_type": "code",
   "execution_count": 6,
   "metadata": {},
   "outputs": [],
   "source": [
    "articles = pd.read_csv('dataset/test_dataset', delimiter=',', header=None)\n",
    "formattedArticles = articles.iloc[:,:].values"
   ]
  },
  {
   "cell_type": "code",
   "execution_count": 13,
   "metadata": {},
   "outputs": [],
   "source": [
    "def executeSearch(tableField, topK):\n",
    "\n",
    "    accuracy = []\n",
    "\n",
    "    for articles in (formattedArticles):\n",
    "    \n",
    "        articl_key = articles[0]\n",
    "        article_title = str(articles[1])\n",
    "        article_full_text = str(articles[2])\n",
    "        article_meta_description = str(articles[3])\n",
    "        article_summary = str(articles[4])\n",
    "        keywords = str(articles[5])\n",
    "        catch = article_title +\" \"+article_meta_description+\" \"+keywords\n",
    "        \n",
    "        result = searchIndexing(catch,tableField,topK)\n",
    "    \n",
    "        idRankedTables = []\n",
    "    \n",
    "        for hit in result['hits']['hits']:\n",
    "    \n",
    "            tablePgId = hit['_source']['tablePgID']\n",
    "    \n",
    "            idRankedTables.append(tablePgId)\n",
    "    \n",
    "        accuracy.append(getAccuracy(idRankedTables,articl_key))\n",
    "\n",
    "    print(str(round(np.mean(accuracy),4)))"
   ]
  },
  {
   "cell_type": "code",
   "execution_count": 10,
   "metadata": {},
   "outputs": [],
   "source": [
    "tableField = [\"tablePgTitle\",\"tableSectionTitle\",\"tableCaption\",\"tableHeader\",\"tableBody\"]\n",
    "topK = [1,10,20,50,100,1000]"
   ]
  },
  {
   "cell_type": "code",
   "execution_count": null,
   "metadata": {},
   "outputs": [],
   "source": [
    "for k in topK:\n",
    "    \n",
    "    print(\"\")\n",
    "    \n",
    "    for field in tableField:\n",
    "        \n",
    "        print(\"Acc@\"+str(k)+\" - \"+field)\n",
    "        \n",
    "        executeSearch(field,k)"
   ]
  },
  {
   "cell_type": "code",
   "execution_count": null,
   "metadata": {},
   "outputs": [],
   "source": [
    "for k in topK:\n",
    "    \n",
    "    print(\"Acc@\"+str(k))\n",
    "    \n",
    "    executeSearch(\"\",k)"
   ]
  }
 ],
 "metadata": {
  "kernelspec": {
   "display_name": "Python 3",
   "language": "python",
   "name": "python3"
  },
  "language_info": {
   "codemirror_mode": {
    "name": "ipython",
    "version": 3
   },
   "file_extension": ".py",
   "mimetype": "text/x-python",
   "name": "python",
   "nbconvert_exporter": "python",
   "pygments_lexer": "ipython3",
   "version": "3.7.3"
  }
 },
 "nbformat": 4,
 "nbformat_minor": 2
}
