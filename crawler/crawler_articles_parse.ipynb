{
 "cells": [
  {
   "cell_type": "code",
   "execution_count": 17,
   "metadata": {},
   "outputs": [],
   "source": [
    "from tqdm import tqdm\n",
    "import numpy as np\n",
    "import pandas as pd\n",
    "from newspaper import Article\n",
    "import re\n",
    "import nltk\n",
    "import csv\n",
    "from nltk.corpus import stopwords\n",
    "from nltk.tokenize import word_tokenize\n",
    "stop_words = set(stopwords.words('english')) "
   ]
  },
  {
   "cell_type": "code",
   "execution_count": 18,
   "metadata": {},
   "outputs": [],
   "source": [
    "read = pd.read_csv('../dataset/articlesLinks', delimiter=',', header=None)\n",
    "article_links = read.iloc[:,:].values"
   ]
  },
  {
   "cell_type": "code",
   "execution_count": 19,
   "metadata": {},
   "outputs": [
    {
     "data": {
      "text/plain": [
       "291499"
      ]
     },
     "execution_count": 19,
     "metadata": {},
     "output_type": "execute_result"
    }
   ],
   "source": [
    "len(article_links)"
   ]
  },
  {
   "cell_type": "code",
   "execution_count": 20,
   "metadata": {},
   "outputs": [],
   "source": [
    "def remove_stopwords(example_sent):\n",
    "    \n",
    "    word_tokens = word_tokenize(example_sent) \n",
    "  \n",
    "    filtered_sentence = [w for w in word_tokens if not w in stop_words] \n",
    "  \n",
    "    filtered_sentence = [] \n",
    "  \n",
    "    for w in word_tokens: \n",
    "        if w not in stop_words: \n",
    "            filtered_sentence.append(w)\n",
    "    \n",
    "    formattedText = \"\"\n",
    "\n",
    "    for word in filtered_sentence:\n",
    "        \n",
    "        if (len(word)>2):\n",
    "            \n",
    "            formattedText = formattedText + \" \" +word\n",
    "    \n",
    "    \n",
    "    formattedText = formattedText.lstrip()\n",
    "    \n",
    "    formattedText = formattedText.rstrip()\n",
    "        \n",
    "    return formattedText.lower()"
   ]
  },
  {
   "cell_type": "code",
   "execution_count": 21,
   "metadata": {},
   "outputs": [],
   "source": [
    "def clear_string(text):\n",
    "    \n",
    "    text = re.sub('[^A-Za-z]+',' ',text)\n",
    "    \n",
    "    text = text.lstrip()\n",
    "    \n",
    "    text = text.rstrip()\n",
    "    \n",
    "    return text"
   ]
  },
  {
   "cell_type": "code",
   "execution_count": 22,
   "metadata": {},
   "outputs": [],
   "source": [
    "def article_parse(url):\n",
    "    \n",
    "    article = Article(url)\n",
    "    \n",
    "    article.download()\n",
    "    article.parse()\n",
    "    article.nlp()\n",
    "    \n",
    "    title = remove_stopwords(clear_string(article.title))\n",
    "    full_text = remove_stopwords(clear_string(article.text))\n",
    "    meta_description = remove_stopwords(clear_string(article.meta_description))\n",
    "    summary = remove_stopwords(clear_string(article.summary))\n",
    "    \n",
    "    #get the list of keywords\n",
    "    keywords = article.keywords\n",
    "    aux1 = ''\n",
    "    for word in keywords:\n",
    "        \n",
    "        aux1 = aux1 +\" \"+word\n",
    "        \n",
    "    keywords = remove_stopwords(clear_string(aux1))\n",
    "    \n",
    "    #get the meta keywords\n",
    "    meta_keywords = article.meta_keywords\n",
    "    aux2 = ''\n",
    "    for word in meta_keywords:\n",
    "        \n",
    "        aux2 = aux2 +\" \"+word\n",
    "    \n",
    "    meta_keywords = remove_stopwords(clear_string(aux2))\n",
    "    \n",
    "    #get the article tags\n",
    "    tags = article.tags\n",
    "    aux3 = ''\n",
    "    for word in tags:\n",
    "        \n",
    "        aux3 = aux3 +\" \"+word\n",
    "    \n",
    "    tags = remove_stopwords(clear_string(aux3))\n",
    "    \n",
    "    return title, full_text, meta_description, summary, keywords, meta_keywords, tags"
   ]
  },
  {
   "cell_type": "code",
   "execution_count": 23,
   "metadata": {},
   "outputs": [],
   "source": [
    "def save_file(ID, title, full_text, meta_description, summary, keywords, meta_keywords, tags):\n",
    "    \n",
    "    with open('formatted_data_articles', 'a') as myfile:\n",
    "        \n",
    "        wr = csv.writer(myfile, quoting=csv.QUOTE_ALL)\n",
    "    \n",
    "        row = [ID,title, full_text, meta_description, summary, keywords, meta_keywords, tags]\n",
    "         \n",
    "        wr.writerow(row) "
   ]
  },
  {
   "cell_type": "code",
   "execution_count": 24,
   "metadata": {},
   "outputs": [
    {
     "name": "stderr",
     "output_type": "stream",
     "text": [
      "100%|██████████| 10/10 [00:51<00:00,  3.92s/it]\n"
     ]
    }
   ],
   "source": [
    "for ID, link in tqdm(article_links[0:10]):\n",
    "    \n",
    "    try:\n",
    "    \n",
    "        title, full_text, meta_description, summary, keywords, meta_keywords, tags = article_parse(link)\n",
    "        \n",
    "        save_file(ID,title, full_text, meta_description, summary, keywords, meta_keywords, tags)\n",
    "         \n",
    "    except:\n",
    "        \n",
    "        continue\n",
    "             "
   ]
  },
  {
   "cell_type": "code",
   "execution_count": null,
   "metadata": {},
   "outputs": [],
   "source": []
  },
  {
   "cell_type": "code",
   "execution_count": null,
   "metadata": {},
   "outputs": [],
   "source": []
  },
  {
   "cell_type": "code",
   "execution_count": null,
   "metadata": {},
   "outputs": [],
   "source": []
  }
 ],
 "metadata": {
  "kernelspec": {
   "display_name": "Python 3",
   "language": "python",
   "name": "python3"
  },
  "language_info": {
   "codemirror_mode": {
    "name": "ipython",
    "version": 3
   },
   "file_extension": ".py",
   "mimetype": "text/x-python",
   "name": "python",
   "nbconvert_exporter": "python",
   "pygments_lexer": "ipython3",
   "version": "3.7.3"
  }
 },
 "nbformat": 4,
 "nbformat_minor": 2
}
