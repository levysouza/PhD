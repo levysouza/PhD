{
 "cells": [
  {
   "cell_type": "code",
   "execution_count": null,
   "metadata": {},
   "outputs": [],
   "source": [
    "from tqdm import tqdm\n",
    "import numpy as np\n",
    "import pandas as pd\n",
    "from lxml import html\n",
    "import requests\n",
    "import re\n",
    "import csv"
   ]
  },
  {
   "cell_type": "code",
   "execution_count": null,
   "metadata": {},
   "outputs": [],
   "source": [
    "articlesLinks = pd.read_csv('articlesDataset/dataArticlesLinks', delimiter=',', header=None)"
   ]
  },
  {
   "cell_type": "code",
   "execution_count": null,
   "metadata": {},
   "outputs": [],
   "source": [
    "dataArticlesLinks = articlesLinks.iloc[:,:].values"
   ]
  },
  {
   "cell_type": "code",
   "execution_count": null,
   "metadata": {},
   "outputs": [],
   "source": [
    "def saveFile(ID, title):\n",
    "    \n",
    "    #saving the links on the file\n",
    "    with open('dataArticlesTitle', 'a') as myfile:\n",
    "        \n",
    "        wr = csv.writer(myfile, quoting=csv.QUOTE_ALL)\n",
    "    \n",
    "        articleID = ID\n",
    "    \n",
    "        articleTitle = title\n",
    "    \n",
    "        row = [articleID,articleTitle]\n",
    "        \n",
    "        wr.writerow(row) "
   ]
  },
  {
   "cell_type": "code",
   "execution_count": null,
   "metadata": {},
   "outputs": [],
   "source": [
    "articlesPgTitle = []\n",
    "\n",
    "for i in tqdm(range(139000, len(dataArticlesLinks))):\n",
    "    \n",
    "    keyArticle = dataArticlesLinks[i][0]\n",
    "    \n",
    "    link = str(dataArticlesLinks[i][1])\n",
    "    \n",
    "    if link.find(\"web.archive\") == -1:\n",
    "        \n",
    "        link = \"http://web.archive.org/web/\"+link\n",
    "\n",
    "    #get the page\n",
    "    try:\n",
    "        page = requests.get(link)\n",
    "    \n",
    "        tree = html.fromstring(page.content)\n",
    "    \n",
    "        pageTitle = str(tree.xpath('//title/text()'))\n",
    "    \n",
    "        #articlesPgTitle.append([keyArticle,pageTitle])\n",
    "          \n",
    "        saveFile(keyArticle,pageTitle)\n",
    "        \n",
    "        print(i)\n",
    "        \n",
    "    except:\n",
    "        \n",
    "        #articlesPgTitle.append([keyArticle,'Page Not Found'])\n",
    "\n",
    "        saveFile(keyArticle,'Page Not Found')\n",
    "        \n",
    "        print(i)\n",
    "        \n",
    "        continue"
   ]
  },
  {
   "cell_type": "code",
   "execution_count": null,
   "metadata": {},
   "outputs": [],
   "source": []
  },
  {
   "cell_type": "code",
   "execution_count": null,
   "metadata": {},
   "outputs": [],
   "source": []
  },
  {
   "cell_type": "code",
   "execution_count": null,
   "metadata": {},
   "outputs": [],
   "source": []
  },
  {
   "cell_type": "code",
   "execution_count": null,
   "metadata": {},
   "outputs": [],
   "source": []
  },
  {
   "cell_type": "code",
   "execution_count": null,
   "metadata": {},
   "outputs": [],
   "source": []
  }
 ],
 "metadata": {
  "kernelspec": {
   "display_name": "Python 3",
   "language": "python",
   "name": "python3"
  },
  "language_info": {
   "codemirror_mode": {
    "name": "ipython",
    "version": 3
   },
   "file_extension": ".py",
   "mimetype": "text/x-python",
   "name": "python",
   "nbconvert_exporter": "python",
   "pygments_lexer": "ipython3",
   "version": "3.7.3"
  }
 },
 "nbformat": 4,
 "nbformat_minor": 2
}
