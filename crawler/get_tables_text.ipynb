{
 "cells": [
  {
   "cell_type": "code",
   "execution_count": 1,
   "metadata": {},
   "outputs": [],
   "source": [
    "import wikipedia\n",
    "import numpy as np\n",
    "import pandas as pd\n",
    "from nltk.tokenize import TweetTokenizer\n",
    "import matplotlib.pyplot as plt\n",
    "from tqdm import tqdm"
   ]
  },
  {
   "cell_type": "code",
   "execution_count": 2,
   "metadata": {},
   "outputs": [],
   "source": [
    "raw_tables = pd.read_csv('raw_data_tables.csv', delimiter=',')"
   ]
  },
  {
   "cell_type": "code",
   "execution_count": 3,
   "metadata": {},
   "outputs": [],
   "source": [
    "raw_tables = raw_tables.head(20)"
   ]
  },
  {
   "cell_type": "code",
   "execution_count": null,
   "metadata": {},
   "outputs": [],
   "source": []
  },
  {
   "cell_type": "code",
   "execution_count": 6,
   "metadata": {},
   "outputs": [
    {
     "name": "stderr",
     "output_type": "stream",
     "text": [
      "20it [00:19,  1.17s/it]\n"
     ]
    }
   ],
   "source": [
    "tables_urls = []\n",
    "\n",
    "for i, row in tqdm(raw_tables.iterrows()):\n",
    "    \n",
    "    table_id = row['table_pg_id']\n",
    "    table_title = row['table_pg_title']\n",
    "    \n",
    "    try:\n",
    "        \n",
    "        ny = wikipedia.page(table_title)\n",
    "        url = ny.url\n",
    "        \n",
    "        line = {\"table_id\": table_id, \"table_url\": url}\n",
    "        tables_urls.append(line)\n",
    "    \n",
    "    except:\n",
    "        \n",
    "        line = {\"table_id\": table_id, \"table_url\": \"not found\"}\n",
    "        tables_urls.append(line)\n",
    "        \n",
    "        continue\n",
    "    "
   ]
  },
  {
   "cell_type": "code",
   "execution_count": 7,
   "metadata": {},
   "outputs": [],
   "source": [
    "df_tables_url = pd.DataFrame(tables_urls)"
   ]
  },
  {
   "cell_type": "code",
   "execution_count": 8,
   "metadata": {},
   "outputs": [],
   "source": [
    "df_tables_url.to_csv('tables_urls.csv',index=False)"
   ]
  },
  {
   "cell_type": "code",
   "execution_count": null,
   "metadata": {},
   "outputs": [],
   "source": []
  },
  {
   "cell_type": "code",
   "execution_count": null,
   "metadata": {},
   "outputs": [],
   "source": []
  },
  {
   "cell_type": "code",
   "execution_count": null,
   "metadata": {},
   "outputs": [],
   "source": []
  },
  {
   "cell_type": "code",
   "execution_count": null,
   "metadata": {},
   "outputs": [],
   "source": []
  },
  {
   "cell_type": "code",
   "execution_count": null,
   "metadata": {},
   "outputs": [],
   "source": []
  },
  {
   "cell_type": "code",
   "execution_count": null,
   "metadata": {},
   "outputs": [],
   "source": []
  },
  {
   "cell_type": "code",
   "execution_count": null,
   "metadata": {},
   "outputs": [],
   "source": [
    "raw_tables2 = pd.read_csv('../dataset/cleanDataTables', delimiter=',')\n",
    "formattedTables = raw_tables2.iloc[:,:].values\n",
    "\n",
    "all_tables = []\n",
    "\n",
    "for i in tqdm(range(len(formattedTables))):\n",
    "    \n",
    "    tablePgID = formattedTables[i][0]\n",
    "    tablePgTitle = (str(formattedTables[i][1]))\n",
    "    tableSectionTitle = (str(formattedTables[i][2]))\n",
    "    tableCaption = (str(formattedTables[i][3]))\n",
    "    tableHeader = (str(formattedTables[i][4]))\n",
    "    tableBody = (str(formattedTables[i][5]))\n",
    "    \n",
    "    line = {\"table_pg_id\":tablePgID,\n",
    "            \"table_pg_title\":tablePgTitle,\n",
    "            \"table_section_title\":tableSectionTitle,\n",
    "            \"table_caption\":tableCaption,\n",
    "            \"table_header\":tableHeader,\n",
    "            \"table_body\":tableBody,\n",
    "           } \n",
    "    \n",
    "    all_tables.append(line)\n",
    "    \n",
    "df_all_tables = pd.DataFrame(all_tables)\n",
    "df_all_tables.to_csv('raw_data_tables.csv',index=False)"
   ]
  },
  {
   "cell_type": "code",
   "execution_count": null,
   "metadata": {},
   "outputs": [],
   "source": []
  },
  {
   "cell_type": "code",
   "execution_count": null,
   "metadata": {},
   "outputs": [],
   "source": []
  },
  {
   "cell_type": "code",
   "execution_count": null,
   "metadata": {},
   "outputs": [],
   "source": []
  },
  {
   "cell_type": "code",
   "execution_count": null,
   "metadata": {},
   "outputs": [],
   "source": []
  }
 ],
 "metadata": {
  "kernelspec": {
   "display_name": "Python 3",
   "language": "python",
   "name": "python3"
  },
  "language_info": {
   "codemirror_mode": {
    "name": "ipython",
    "version": 3
   },
   "file_extension": ".py",
   "mimetype": "text/x-python",
   "name": "python",
   "nbconvert_exporter": "python",
   "pygments_lexer": "ipython3",
   "version": "3.7.3"
  }
 },
 "nbformat": 4,
 "nbformat_minor": 2
}
