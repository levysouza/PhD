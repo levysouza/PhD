{
 "cells": [
  {
   "cell_type": "code",
   "execution_count": 1,
   "metadata": {},
   "outputs": [],
   "source": [
    "from tqdm import tqdm\n",
    "import numpy as np\n",
    "import pandas as pd\n",
    "from newspaper import Article\n",
    "import re\n",
    "import nltk\n",
    "import csv\n",
    "from nltk.corpus import stopwords\n",
    "from nltk.tokenize import word_tokenize\n",
    "stop_words = set(stopwords.words('english')) "
   ]
  },
  {
   "cell_type": "code",
   "execution_count": 2,
   "metadata": {},
   "outputs": [],
   "source": [
    "distinct_tables = pd.read_csv('../dataset/dataset_distinct_tables.csv', delimiter=',')\n",
    "tables_url = pd.read_csv('../dataset/tables_urls.csv', delimiter=',')"
   ]
  },
  {
   "cell_type": "code",
   "execution_count": 7,
   "metadata": {},
   "outputs": [
    {
     "data": {
      "text/html": [
       "<div>\n",
       "<style scoped>\n",
       "    .dataframe tbody tr th:only-of-type {\n",
       "        vertical-align: middle;\n",
       "    }\n",
       "\n",
       "    .dataframe tbody tr th {\n",
       "        vertical-align: top;\n",
       "    }\n",
       "\n",
       "    .dataframe thead th {\n",
       "        text-align: right;\n",
       "    }\n",
       "</style>\n",
       "<table border=\"1\" class=\"dataframe\">\n",
       "  <thead>\n",
       "    <tr style=\"text-align: right;\">\n",
       "      <th></th>\n",
       "      <th>table_body</th>\n",
       "      <th>table_caption</th>\n",
       "      <th>table_header</th>\n",
       "      <th>table_id</th>\n",
       "      <th>table_page_title</th>\n",
       "      <th>table_section_title</th>\n",
       "    </tr>\n",
       "  </thead>\n",
       "  <tbody>\n",
       "    <tr>\n",
       "      <th>0</th>\n",
       "      <td>the planet earth forms accretion disc revolvin...</td>\n",
       "      <td>hadean eon</td>\n",
       "      <td>date event</td>\n",
       "      <td>10029</td>\n",
       "      <td>timeline evolutionary history life</td>\n",
       "      <td>hadean eon</td>\n",
       "    </tr>\n",
       "  </tbody>\n",
       "</table>\n",
       "</div>"
      ],
      "text/plain": [
       "                                          table_body table_caption  \\\n",
       "0  the planet earth forms accretion disc revolvin...    hadean eon   \n",
       "\n",
       "  table_header  table_id                    table_page_title  \\\n",
       "0   date event     10029  timeline evolutionary history life   \n",
       "\n",
       "  table_section_title  \n",
       "0          hadean eon  "
      ]
     },
     "execution_count": 7,
     "metadata": {},
     "output_type": "execute_result"
    }
   ],
   "source": [
    "distinct_tables.head(1)"
   ]
  },
  {
   "cell_type": "code",
   "execution_count": 38,
   "metadata": {},
   "outputs": [
    {
     "name": "stderr",
     "output_type": "stream",
     "text": [
      "89935it [01:13, 1226.94it/s]\n"
     ]
    }
   ],
   "source": [
    "table_plus_urls = []\n",
    "\n",
    "for i, row in tqdm(distinct_tables.iterrows()):\n",
    "    \n",
    "    table_id = row['table_id']\n",
    "    table_page_title = row['table_page_title']\n",
    "    table_section_title = row['table_section_title']\n",
    "    table_caption = row['table_caption']\n",
    "    table_header = row['table_header']\n",
    "    table_body = row['table_body']\n",
    "    \n",
    "    #gettin the url\n",
    "    rslt_df = tables_url.loc[tables_url['table_id'] == table_id] \n",
    "    \n",
    "    for j, rowj in rslt_df.iterrows():\n",
    "        \n",
    "        table_url = rowj['table_url']\n",
    "        \n",
    "        break\n",
    "    \n",
    "    \n",
    "    line = {\"table_id\":table_id,\n",
    "            \"table_page_title\":table_page_title,\n",
    "            \"table_section_title\":table_section_title,\n",
    "            \"table_caption\":table_caption,\n",
    "            \"table_header\":table_header,\n",
    "            \"table_body\":table_body,\n",
    "            \"table_url\":table_url  \n",
    "           }\n",
    "    \n",
    "    table_plus_urls.append(line)"
   ]
  },
  {
   "cell_type": "code",
   "execution_count": 39,
   "metadata": {},
   "outputs": [],
   "source": [
    "df_distinc_tables_plus_urls = pd.DataFrame(table_plus_urls)\n",
    "df_distinc_tables_plus_urls.to_csv('distinct_tables_plus_url.csv',index=False)"
   ]
  },
  {
   "cell_type": "code",
   "execution_count": 40,
   "metadata": {},
   "outputs": [],
   "source": []
  },
  {
   "cell_type": "code",
   "execution_count": null,
   "metadata": {},
   "outputs": [],
   "source": []
  }
 ],
 "metadata": {
  "kernelspec": {
   "display_name": "Python 3",
   "language": "python",
   "name": "python3"
  },
  "language_info": {
   "codemirror_mode": {
    "name": "ipython",
    "version": 3
   },
   "file_extension": ".py",
   "mimetype": "text/x-python",
   "name": "python",
   "nbconvert_exporter": "python",
   "pygments_lexer": "ipython3",
   "version": "3.7.3"
  }
 },
 "nbformat": 4,
 "nbformat_minor": 2
}
