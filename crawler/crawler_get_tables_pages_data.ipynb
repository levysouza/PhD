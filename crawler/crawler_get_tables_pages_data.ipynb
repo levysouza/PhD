{
 "cells": [
  {
   "cell_type": "code",
   "execution_count": 1,
   "metadata": {},
   "outputs": [],
   "source": [
    "from tqdm import tqdm\n",
    "import numpy as np\n",
    "import pandas as pd\n",
    "from newspaper import Article\n",
    "import re\n",
    "import nltk\n",
    "import csv\n",
    "from nltk.corpus import stopwords\n",
    "from nltk.tokenize import word_tokenize\n",
    "stop_words = set(stopwords.words('english')) "
   ]
  },
  {
   "cell_type": "code",
   "execution_count": null,
   "metadata": {},
   "outputs": [],
   "source": [
    "def remove_stopwords(example_sent):\n",
    "    \n",
    "    word_tokens = word_tokenize(example_sent) \n",
    "  \n",
    "    filtered_sentence = [w for w in word_tokens if not w in stop_words] \n",
    "  \n",
    "    filtered_sentence = [] \n",
    "  \n",
    "    for w in word_tokens: \n",
    "        if w not in stop_words: \n",
    "            filtered_sentence.append(w)\n",
    "    \n",
    "    formattedText = \"\"\n",
    "\n",
    "    for word in filtered_sentence:\n",
    "        \n",
    "        if (len(word)>2):\n",
    "            \n",
    "            formattedText = formattedText + \" \" +word\n",
    "    \n",
    "    \n",
    "    formattedText = formattedText.lstrip()\n",
    "    \n",
    "    formattedText = formattedText.rstrip()\n",
    "        \n",
    "    return formattedText.lower()"
   ]
  },
  {
   "cell_type": "code",
   "execution_count": null,
   "metadata": {},
   "outputs": [],
   "source": [
    "def clear_string(text):\n",
    "    \n",
    "    text = re.sub('[^A-Za-z]+',' ',text)\n",
    "    \n",
    "    text = text.lstrip()\n",
    "    \n",
    "    text = text.rstrip()\n",
    "    \n",
    "    return text"
   ]
  },
  {
   "cell_type": "code",
   "execution_count": null,
   "metadata": {},
   "outputs": [],
   "source": [
    "def article_parse(url):\n",
    "    \n",
    "    article = Article(url)\n",
    "    \n",
    "    article.download()\n",
    "    article.parse()\n",
    "    article.nlp()\n",
    "    \n",
    "    full_text = remove_stopwords(clear_string(article.text))\n",
    "    meta_description = remove_stopwords(clear_string(article.meta_description))\n",
    "    summary = remove_stopwords(clear_string(article.summary))\n",
    "    \n",
    "    #get the list of keywords\n",
    "    keywords = article.keywords\n",
    "    aux1 = ''\n",
    "    for word in keywords:\n",
    "        \n",
    "        aux1 = aux1 +\" \"+word\n",
    "        \n",
    "    keywords = remove_stopwords(clear_string(aux1))\n",
    "    \n",
    "    return full_text, meta_description, summary, keywords"
   ]
  },
  {
   "cell_type": "code",
   "execution_count": null,
   "metadata": {},
   "outputs": [],
   "source": [
    "distinct_tables = pd.read_csv('distinct_tables_plus_url.csv', delimiter=',')"
   ]
  },
  {
   "cell_type": "code",
   "execution_count": null,
   "metadata": {},
   "outputs": [],
   "source": [
    "tables_all_signals = []\n",
    "\n",
    "for i, row in tqdm(distinct_tables.iterrows()):\n",
    "    \n",
    "    table_id = row['table_id']\n",
    "    table_page_title = row['table_page_title']\n",
    "    table_section_title = row['table_section_title']\n",
    "    table_caption = row['table_caption']\n",
    "    table_header = row['table_header']\n",
    "    table_body = row['table_body']\n",
    "    table_url = row['table_url']\n",
    "    \n",
    "    try:\n",
    "    \n",
    "        full_text, meta_description, summary, keywords = article_parse(table_url)\n",
    "        \n",
    "        line = {\"table_id\":table_id,\n",
    "                \"table_page_title\":table_page_title,\n",
    "                \"table_page_full_text\":full_text,\n",
    "                \"table_page_meta_description\":meta_description,\n",
    "                \"table_page_summary\":summary,\n",
    "                \"table_page_keywords\":keywords,\n",
    "                \"table_section_title\":table_section_title,\n",
    "                \"table_caption\":table_caption,\n",
    "                \"table_header\":table_header,\n",
    "                \"table_body\":table_body,\n",
    "                \"table_url\":table_url  \n",
    "                }\n",
    "         \n",
    "    except:\n",
    "        \n",
    "        line = {\"table_id\":table_id,\n",
    "                \"table_page_title\":table_page_title,\n",
    "                \"table_page_full_text\":\"\",\n",
    "                \"table_page_meta_description\":\"\",\n",
    "                \"table_page_summary\":\"\",\n",
    "                \"table_page_keywords\":\"\",\n",
    "                \"table_section_title\":table_section_title,\n",
    "                \"table_caption\":table_caption,\n",
    "                \"table_header\":table_header,\n",
    "                \"table_body\":table_body,\n",
    "                \"table_url\":table_url  \n",
    "                }\n",
    "        continue\n",
    "    \n",
    "    tables_all_signals.append(line)\n",
    "    break"
   ]
  },
  {
   "cell_type": "code",
   "execution_count": null,
   "metadata": {},
   "outputs": [],
   "source": [
    "df_distinct_tables_allsignals = pd.DataFrame(tables_all_signals)\n",
    "df_distinct_tables_allsignals.to_csv('distinct_tables_allsignals.csv',index=False)"
   ]
  },
  {
   "cell_type": "code",
   "execution_count": null,
   "metadata": {},
   "outputs": [],
   "source": []
  },
  {
   "cell_type": "code",
   "execution_count": null,
   "metadata": {},
   "outputs": [],
   "source": []
  }
 ],
 "metadata": {
  "kernelspec": {
   "display_name": "Python 3",
   "language": "python",
   "name": "python3"
  },
  "language_info": {
   "codemirror_mode": {
    "name": "ipython",
    "version": 3
   },
   "file_extension": ".py",
   "mimetype": "text/x-python",
   "name": "python",
   "nbconvert_exporter": "python",
   "pygments_lexer": "ipython3",
   "version": "3.7.3"
  }
 },
 "nbformat": 4,
 "nbformat_minor": 2
}
