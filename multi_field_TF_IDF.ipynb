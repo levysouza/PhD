{
 "cells": [
  {
   "cell_type": "code",
   "execution_count": 1,
   "metadata": {},
   "outputs": [],
   "source": [
    "from tqdm import tqdm\n",
    "import numpy as np\n",
    "import pandas as pd\n",
    "from sklearn.feature_extraction.text import TfidfVectorizer\n",
    "from scipy.spatial import distance\n",
    "from heapq import nsmallest\n",
    "from sklearn.metrics import pairwise_distances\n",
    "import random"
   ]
  },
  {
   "cell_type": "code",
   "execution_count": 15,
   "metadata": {},
   "outputs": [],
   "source": [
    "articles = pd.read_csv('articlesDataset/cleanDataArticles', delimiter=',', header=None)\n",
    "tables = pd.read_csv('articlesDataset/cleanDataTables', delimiter=',', header=None)"
   ]
  },
  {
   "cell_type": "code",
   "execution_count": 3,
   "metadata": {},
   "outputs": [],
   "source": [
    "formattedTables = tables.iloc[:,:].values\n",
    "formattedArticles = articles.iloc[:,:].values"
   ]
  },
  {
   "cell_type": "code",
   "execution_count": 4,
   "metadata": {},
   "outputs": [],
   "source": [
    "corpusTablePgTitle = []\n",
    "corpusTableSectionTitle = []\n",
    "corpusTableCaption = []\n",
    "corpusTableHeader  = []\n",
    "corpusTableBody = []\n",
    "\n",
    "for tables in formattedTables:\n",
    "    \n",
    "    corpusTablePgTitle.append(str(tables[1]))\n",
    "    corpusTableSectionTitle.append(str(tables[2]))\n",
    "    corpusTableCaption.append(str(tables[3]))\n",
    "    corpusTableHeader.append(str(tables[4]))\n",
    "    corpusTableBody.append(str(tables[5]))"
   ]
  },
  {
   "cell_type": "code",
   "execution_count": 6,
   "metadata": {},
   "outputs": [],
   "source": [
    "vectorizerPgTitle = TfidfVectorizer(stop_words='english', analyzer='word')\n",
    "vectorizerSectionTitle = TfidfVectorizer(stop_words='english', analyzer='word')\n",
    "vectorizerCaption = TfidfVectorizer(stop_words='english', analyzer='word')\n",
    "vectorizerHeader = TfidfVectorizer(stop_words='english', analyzer='word')\n",
    "vectorizerBody = TfidfVectorizer(stop_words='english', analyzer='word')\n",
    "\n",
    "tablesVectorPgTitle = vectorizerPgTitle.fit_transform(corpusTablePgTitle)\n",
    "tablesVectorSectionTitle = vectorizerSectionTitle.fit_transform(corpusTableSectionTitle)\n",
    "tablesVectorCaption = vectorizerCaption.fit_transform(corpusTableCaption)\n",
    "tablesVectorHeader = vectorizerHeader.fit_transform(corpusTableHeader)\n",
    "tablesVectorBody = vectorizerBody.fit_transform(corpusTableBody)"
   ]
  },
  {
   "cell_type": "code",
   "execution_count": null,
   "metadata": {},
   "outputs": [],
   "source": [
    "totalArticlesToSearch = 100\n",
    "\n",
    "def selectRandomArticles():\n",
    "    \n",
    "    for i in range(totalArticlesToSearch):\n",
    "    \n",
    "        randomArticle = random.choice(formattedArticles)\n",
    "    \n",
    "        corpusArticlesID.append(randomArticle[0])\n",
    "        corpusArticlesText.append(str(randomArticle[1]))"
   ]
  },
  {
   "cell_type": "code",
   "execution_count": 8,
   "metadata": {},
   "outputs": [],
   "source": [
    "def getIdRankedTalbes(topK,distanceVector):\n",
    "\n",
    "    idRankedTables = []\n",
    "\n",
    "    for topkDistance in topK:\n",
    "        \n",
    "        index = np.where(distanceVector == topkDistance)\n",
    "         \n",
    "        indexColummun = index[0][0]\n",
    "        \n",
    "        idRankedTables.append(formattedTables[indexColummun][0])\n",
    "\n",
    "    return idRankedTables"
   ]
  },
  {
   "cell_type": "code",
   "execution_count": 9,
   "metadata": {},
   "outputs": [],
   "source": [
    "def getAccuracy(idRankedTables, idQueryGoal):\n",
    "\n",
    "    accuracy = 0\n",
    "\n",
    "    for idTable in idRankedTables:\n",
    "    \n",
    "        if idTable == idQueryGoal:\n",
    "    \n",
    "            accuracy = 1\n",
    "            break;\n",
    "\n",
    "    return accuracy"
   ]
  },
  {
   "cell_type": "code",
   "execution_count": null,
   "metadata": {},
   "outputs": [],
   "source": [
    "AverageTop5 = []\n",
    "AverageTop10 = []\n",
    "AverageTop15 = []\n",
    "AverageTop20 = []"
   ]
  },
  {
   "cell_type": "code",
   "execution_count": null,
   "metadata": {},
   "outputs": [],
   "source": [
    "def saveAccuracy(k,mean):\n",
    "    \n",
    "    if k == 5:\n",
    "            \n",
    "        AverageTop5.append(np.mean(accuracy))\n",
    "        \n",
    "    if k == 10:\n",
    "            \n",
    "        AverageTop10.append(np.mean(accuracy))\n",
    "        \n",
    "    if k == 15:\n",
    "            \n",
    "        AverageTop15.append(np.mean(accuracy))\n",
    "        \n",
    "    if k == 20:\n",
    "            \n",
    "        AverageTop20.append(np.mean(accuracy))"
   ]
  },
  {
   "cell_type": "code",
   "execution_count": 13,
   "metadata": {},
   "outputs": [
    {
     "name": "stderr",
     "output_type": "stream",
     "text": [
      "100%|██████████| 30/30 [06:31<00:00, 12.93s/it]\n"
     ]
    }
   ],
   "source": [
    "for execution in tqdm(range(30)):\n",
    "    \n",
    "    #print(\"execution = \"+ str(execution))\n",
    "    \n",
    "    corpusArticlesID = []\n",
    "    corpusArticlesText = []\n",
    "    \n",
    "    selectRandomArticles()\n",
    "    \n",
    "    #print(corpusArticlesID)\n",
    "    \n",
    "    articlesVectorPgTitle = vectorizerPgTitle.transform(corpusArticlesText)\n",
    "    articlesVectorSectionTitle = vectorizerSectionTitle.transform(corpusArticlesText)\n",
    "    articlesVectorCaption = vectorizerCaption.transform(corpusArticlesText)\n",
    "    articlesVectorHeader = vectorizerHeader.transform(corpusArticlesText)\n",
    "    articlesVectorBody = vectorizerBody.transform(corpusArticlesText)\n",
    "    \n",
    "    for accuracyK in range(5,21,5):\n",
    "    \n",
    "        accuracy = []\n",
    "\n",
    "        totalSelectedArticles = int(articlesVectorPgTitle.shape[0])\n",
    "\n",
    "        for i in range(totalSelectedArticles):\n",
    "    \n",
    "            distanceVectorPgTitle = pairwise_distances(articlesVectorPgTitle[i], tablesVectorPgTitle, metric='cosine')\n",
    "            distanceVectorSectionTitle = pairwise_distances(articlesVectorSectionTitle[i], tablesVectorSectionTitle, metric='cosine')\n",
    "            distanceVectorCaption = pairwise_distances(articlesVectorCaption[i], tablesVectorCaption, metric='cosine')\n",
    "            distanceVectorHeader = pairwise_distances(articlesVectorHeader[i], tablesVectorHeader, metric='cosine')\n",
    "            distanceVectorBody = pairwise_distances(articlesVectorBody[i], tablesVectorBody, metric='cosine')\n",
    "    \n",
    "            distanceVector = np.amax([distanceVectorPgTitle, distanceVectorSectionTitle, distanceVectorCaption, distanceVectorHeader, distanceVectorBody], axis=0)\n",
    "            #distanceAvg = np.mean([distanceVectorCaption, distanceVectorHeader, distanceVectorText], axis=0)\n",
    "            #distanceMax = np.amax([distanceVectorCaption, distanceVectorHeader, distanceVectorText], axis=0)\n",
    "    \n",
    "            idQueryGoal = int(corpusArticlesID[i])\n",
    "    \n",
    "            countTopTables = accuracyK\n",
    "        \n",
    "            topKRank = nsmallest(countTopTables, distanceVector[0])\n",
    "    \n",
    "            idRankedTables = getIdRankedTalbes(topKRank,distanceVector[0])\n",
    "    \n",
    "            accuracy.append(getAccuracy(idRankedTables,idQueryGoal))\n",
    "    \n",
    "        #save the accuracy on the list\n",
    "        saveAccuracy(accuracyK,np.mean(accuracy))"
   ]
  },
  {
   "cell_type": "code",
   "execution_count": 14,
   "metadata": {},
   "outputs": [
    {
     "name": "stdout",
     "output_type": "stream",
     "text": [
      "0.0133 (±) 0.034\n",
      "0.0233 (±) 0.0423\n",
      "0.0267 (±) 0.0442\n",
      "0.03 (±) 0.0458\n"
     ]
    }
   ],
   "source": [
    "print(str(round(np.mean(AverageTop5),4))+\" (±) \"+str(round(np.std(AverageTop5),4)))\n",
    "print(str(round(np.mean(AverageTop10),4))+\" (±) \"+str(round(np.std(AverageTop10),4)))\n",
    "print(str(round(np.mean(AverageTop15),4))+\" (±) \"+str(round(np.std(AverageTop15),4)))\n",
    "print(str(round(np.mean(AverageTop20),4))+\" (±) \"+str(round(np.std(AverageTop20),4)))"
   ]
  },
  {
   "cell_type": "code",
   "execution_count": null,
   "metadata": {},
   "outputs": [],
   "source": []
  },
  {
   "cell_type": "code",
   "execution_count": null,
   "metadata": {},
   "outputs": [],
   "source": []
  },
  {
   "cell_type": "code",
   "execution_count": null,
   "metadata": {},
   "outputs": [],
   "source": []
  }
 ],
 "metadata": {
  "kernelspec": {
   "display_name": "Python 3",
   "language": "python",
   "name": "python3"
  },
  "language_info": {
   "codemirror_mode": {
    "name": "ipython",
    "version": 3
   },
   "file_extension": ".py",
   "mimetype": "text/x-python",
   "name": "python",
   "nbconvert_exporter": "python",
   "pygments_lexer": "ipython3",
   "version": "3.7.3"
  }
 },
 "nbformat": 4,
 "nbformat_minor": 2
}
