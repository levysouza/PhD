{
 "cells": [
  {
   "cell_type": "code",
   "execution_count": 1,
   "metadata": {},
   "outputs": [],
   "source": [
    "import numpy as np\n",
    "import pandas as pd\n",
    "import re\n",
    "import csv\n",
    "from tqdm import tqdm"
   ]
  },
  {
   "cell_type": "code",
   "execution_count": 2,
   "metadata": {},
   "outputs": [],
   "source": [
    "import nltk\n",
    "from nltk.corpus import stopwords\n",
    "from nltk.tokenize import word_tokenize\n",
    "stop_words = set(stopwords.words('english')) "
   ]
  },
  {
   "cell_type": "code",
   "execution_count": 2,
   "metadata": {},
   "outputs": [],
   "source": [
    "raw_tables = pd.read_csv('../dataset/all_table_signals_frozen.csv', delimiter=',', header=None)"
   ]
  },
  {
   "cell_type": "code",
   "execution_count": 3,
   "metadata": {},
   "outputs": [],
   "source": [
    "data_tables = raw_tables.iloc[:,:].values"
   ]
  },
  {
   "cell_type": "code",
   "execution_count": 5,
   "metadata": {},
   "outputs": [],
   "source": [
    "def removeStopwords(example_sent):\n",
    "    \n",
    "    word_tokens = word_tokenize(example_sent) \n",
    "  \n",
    "    filtered_sentence = [w for w in word_tokens if not w in stop_words] \n",
    "  \n",
    "    filtered_sentence = [] \n",
    "  \n",
    "    for w in word_tokens: \n",
    "        if w not in stop_words: \n",
    "            filtered_sentence.append(w)\n",
    "    \n",
    "    formattedText = \"\"\n",
    "\n",
    "    for word in filtered_sentence:\n",
    "        \n",
    "        if (len(word)>2):\n",
    "            \n",
    "            formattedText = formattedText + \" \" +word\n",
    "    \n",
    "    formattedText = re.sub('[^A-Za-z]+',' ',formattedText)\n",
    "    \n",
    "    formattedText = formattedText.lstrip()\n",
    "    \n",
    "    formattedText = formattedText.rstrip()\n",
    "        \n",
    "    return formattedText.lower()"
   ]
  },
  {
   "cell_type": "code",
   "execution_count": 6,
   "metadata": {},
   "outputs": [
    {
     "name": "stderr",
     "output_type": "stream",
     "text": [
      "100%|██████████| 52426/52426 [39:57<00:00, 21.86it/s]   \n"
     ]
    }
   ],
   "source": [
    "with open('table_data_newyork', 'w') as myfile:\n",
    "        \n",
    "    wr = csv.writer(myfile, quoting=csv.QUOTE_ALL)\n",
    "\n",
    "    for table in tqdm(data_tables):\n",
    "    \n",
    "        table_url = str(table[0])\n",
    "        table_page_title = removeStopwords(str(table[1]))\n",
    "        table_page_content = removeStopwords(str(table[2]))\n",
    "        table_caption = removeStopwords(str(table[3]))\n",
    "        table_domain_score = str(table[4])\n",
    "        table_content = removeStopwords(str(table[5]))\n",
    "        table_header = removeStopwords(str(table[6]))\n",
    "    \n",
    "        row = [table_url,table_page_title,table_page_content,table_caption,table_domain_score,table_content,table_header]\n",
    "        \n",
    "        wr.writerow(row)\n",
    "    "
   ]
  },
  {
   "cell_type": "code",
   "execution_count": null,
   "metadata": {},
   "outputs": [],
   "source": []
  },
  {
   "cell_type": "code",
   "execution_count": null,
   "metadata": {},
   "outputs": [],
   "source": []
  },
  {
   "cell_type": "code",
   "execution_count": null,
   "metadata": {},
   "outputs": [],
   "source": []
  }
 ],
 "metadata": {
  "kernelspec": {
   "display_name": "Python 3",
   "language": "python",
   "name": "python3"
  },
  "language_info": {
   "codemirror_mode": {
    "name": "ipython",
    "version": 3
   },
   "file_extension": ".py",
   "mimetype": "text/x-python",
   "name": "python",
   "nbconvert_exporter": "python",
   "pygments_lexer": "ipython3",
   "version": "3.7.4"
  }
 },
 "nbformat": 4,
 "nbformat_minor": 2
}
