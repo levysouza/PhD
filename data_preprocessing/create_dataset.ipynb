{
 "cells": [
  {
   "cell_type": "code",
   "execution_count": 1,
   "metadata": {},
   "outputs": [],
   "source": [
    "from tqdm import tqdm\n",
    "import numpy as np\n",
    "import pandas as pd\n",
    "from lxml import html\n",
    "import requests\n",
    "import re\n",
    "import csv\n",
    "from elasticsearch import Elasticsearch\n",
    "from elasticsearch import helpers\n",
    "indexingTables = Elasticsearch(timeout=30, max_retries=10, retry_on_timeout=True)\n",
    "from sklearn.model_selection import train_test_split"
   ]
  },
  {
   "cell_type": "code",
   "execution_count": 2,
   "metadata": {},
   "outputs": [],
   "source": [
    "def search_indexing_match(articleTitle):\n",
    "    \n",
    "    result= indexingTables.search(\n",
    "        index=\"tables\", \n",
    "        body = {\n",
    "        \"_source\": [\"tablePgID\",\"tablePgTitle\",\"tableSectionTitle\",\"tableCaption\",\"tableHeader\",\"tableBody\"],\n",
    "        \"from\" : 0,\n",
    "        \"size\" : 1000,\n",
    "        \"query\": {\n",
    "            \"multi_match\":{\n",
    "              \"type\": \"most_fields\",\n",
    "              \"query\":    articleTitle, \n",
    "              \"fields\": [\"tablePgTitle\"] \n",
    "            }\n",
    "        }\n",
    "    })\n",
    "    \n",
    "    return result"
   ]
  },
  {
   "cell_type": "code",
   "execution_count": 3,
   "metadata": {},
   "outputs": [],
   "source": [
    "def search_index_random():\n",
    "    \n",
    "    result= indexingTables.search(\n",
    "        index=\"tables\", \n",
    "        body = {\n",
    "        \"_source\": [\"tablePgID\",\"tablePgTitle\",\"tableSectionTitle\",\"tableCaption\",\"tableHeader\",\"tableBody\"],\n",
    "        \"from\" : 0,\n",
    "        \"size\" : 100,\n",
    "        \"query\": {\n",
    "            \"function_score\": {\n",
    "                \"random_score\": {}\n",
    "            }\n",
    "        }\n",
    "    })\n",
    "    \n",
    "    return result"
   ]
  },
  {
   "cell_type": "code",
   "execution_count": 4,
   "metadata": {},
   "outputs": [],
   "source": [
    "read = pd.read_csv('../dataset/train_dataset_all_articles', delimiter=',', header=None)\n",
    "train_data_articles = read.iloc[:,:].values"
   ]
  },
  {
   "cell_type": "code",
   "execution_count": 5,
   "metadata": {},
   "outputs": [],
   "source": [
    "read = pd.read_csv('../dataset/test_dataset_all_articles', delimiter=',', header=None)\n",
    "validation_data_articles = read.iloc[:,:].values"
   ]
  },
  {
   "cell_type": "code",
   "execution_count": null,
   "metadata": {},
   "outputs": [],
   "source": []
  },
  {
   "cell_type": "code",
   "execution_count": 6,
   "metadata": {},
   "outputs": [],
   "source": [
    "train_dataset = []"
   ]
  },
  {
   "cell_type": "code",
   "execution_count": 7,
   "metadata": {},
   "outputs": [
    {
     "name": "stderr",
     "output_type": "stream",
     "text": [
      "100%|██████████| 184619/184619 [37:20<00:00, 82.38it/s] \n"
     ]
    }
   ],
   "source": [
    "for article in tqdm(train_data_articles):\n",
    "    \n",
    "    articleID = article[0]\n",
    "    articleTitle = article[1]\n",
    "    articleText = article[2]\n",
    "    meta_description = article[3]\n",
    "    keywords = article[5]\n",
    "    \n",
    "    catch = articleTitle+\" \"+meta_description+\" \"+keywords\n",
    "    \n",
    "    #getting the table title match\n",
    "    contMatch = 0\n",
    "    contNonMatch = 0\n",
    "    result = search_indexing_match(articleTitle)\n",
    "    max_score = result['hits']['max_score']\n",
    "    \n",
    "    \n",
    "    for hit in result['hits']['hits']:\n",
    "    \n",
    "        tableID = hit['_source']['tablePgID']\n",
    "        tableTitle = (hit['_source']['tablePgTitle'])\n",
    "        tableSectionTitle = (hit['_source']['tableSectionTitle'])\n",
    "        tableCaption = (hit['_source']['tableCaption'])\n",
    "        tableHeader = (hit['_source']['tableHeader'])\n",
    "        tableBody = (hit['_source']['tableBody'])\n",
    "        table_score = hit['_score']\n",
    "        \n",
    "        normalized_score = table_score/max_score\n",
    "        \n",
    "        #getting match data\n",
    "        if (articleID == tableID) and (normalized_score >= 0.7): \n",
    "            \n",
    "            if contMatch < 5:\n",
    "            \n",
    "                tableIDMatch = tableID\n",
    "                tableTitleMatch = tableTitle\n",
    "                tableSectionTitleMatch = tableSectionTitle\n",
    "                tableCaptionMatch = tableCaption\n",
    "                tableHeaderMatch = tableHeader\n",
    "                tableBodyMatch = tableBody\n",
    "    \n",
    "                train_dataset.append([articleID,articleTitle, meta_description, keywords, tableIDMatch, tableTitleMatch,1])\n",
    "                \n",
    "                contMatch = contMatch + 1\n",
    "                \n",
    "            else:\n",
    "                \n",
    "                contMatch = 0\n",
    "                break"
   ]
  },
  {
   "cell_type": "code",
   "execution_count": 9,
   "metadata": {},
   "outputs": [
    {
     "data": {
      "text/plain": [
       "154249"
      ]
     },
     "execution_count": 9,
     "metadata": {},
     "output_type": "execute_result"
    }
   ],
   "source": [
    "len(train_dataset)"
   ]
  },
  {
   "cell_type": "code",
   "execution_count": null,
   "metadata": {},
   "outputs": [],
   "source": []
  },
  {
   "cell_type": "code",
   "execution_count": 13,
   "metadata": {},
   "outputs": [
    {
     "name": "stderr",
     "output_type": "stream",
     "text": [
      "100%|██████████| 184619/184619 [11:10<00:00, 275.40it/s]\n"
     ]
    }
   ],
   "source": [
    "for article in tqdm(train_data_articles):\n",
    "    \n",
    "    articleID = article[0]\n",
    "    articleTitle = article[1]\n",
    "    articleText = article[2]\n",
    "    meta_description = article[3]\n",
    "    keywords = article[5]\n",
    "    \n",
    "    catch = articleTitle+\" \"+meta_description+\" \"+keywords\n",
    "    \n",
    "    #getting the table title match\n",
    "    contMatch = 0\n",
    "    contNonMatch = 0\n",
    "    result = search_index_random()\n",
    "    max_score = result['hits']['max_score']\n",
    "    \n",
    "    \n",
    "    for hit in result['hits']['hits']:\n",
    "    \n",
    "        tableID = hit['_source']['tablePgID']\n",
    "        tableTitle = (hit['_source']['tablePgTitle'])\n",
    "        tableSectionTitle = (hit['_source']['tableSectionTitle'])\n",
    "        tableCaption = (hit['_source']['tableCaption'])\n",
    "        tableHeader = (hit['_source']['tableHeader'])\n",
    "        tableBody = (hit['_source']['tableBody'])\n",
    "        table_score = hit['_score']\n",
    "        \n",
    "        normalized_score = table_score/max_score\n",
    "        \n",
    "        #getting the table title non-match\n",
    "        if (articleID != tableID) : \n",
    "            \n",
    "            if contNonMatch < 2:\n",
    "                \n",
    "                tableIDNoMatch = tableID\n",
    "                tableTitleNoMatch = tableTitle\n",
    "                tableSectionTitleNoMatch = tableSectionTitle\n",
    "                tableCaptionNoMatch = tableCaption\n",
    "                tableHeaderNoMatch = tableHeader\n",
    "                tableBodyNoMatch = tableBody\n",
    "\n",
    "                train_dataset.append([articleID,articleTitle, meta_description, keywords, tableIDNoMatch,tableTitleNoMatch,0])\n",
    "                \n",
    "                contNonMatch = contNonMatch + 1\n",
    "            else:\n",
    "                \n",
    "                contNonMatch = 0\n",
    "                break\n",
    "                        "
   ]
  },
  {
   "cell_type": "code",
   "execution_count": null,
   "metadata": {},
   "outputs": [],
   "source": []
  },
  {
   "cell_type": "code",
   "execution_count": 14,
   "metadata": {},
   "outputs": [
    {
     "data": {
      "text/plain": [
       "540559"
      ]
     },
     "execution_count": 14,
     "metadata": {},
     "output_type": "execute_result"
    }
   ],
   "source": [
    "len(train_dataset)"
   ]
  },
  {
   "cell_type": "code",
   "execution_count": null,
   "metadata": {},
   "outputs": [],
   "source": []
  },
  {
   "cell_type": "code",
   "execution_count": 15,
   "metadata": {},
   "outputs": [
    {
     "name": "stderr",
     "output_type": "stream",
     "text": [
      "100%|██████████| 540559/540559 [00:02<00:00, 184011.00it/s]\n"
     ]
    }
   ],
   "source": [
    "with open('train_dataset_random_1_1', 'w') as myfile:\n",
    "          \n",
    "    wr = csv.writer(myfile, quoting=csv.QUOTE_ALL)\n",
    "\n",
    "    for i in tqdm(range(0,len(train_dataset))):\n",
    "    \n",
    "        articlePgID = train_dataset[i][0]\n",
    "        articleTitle = str(train_dataset[i][1])\n",
    "        article_meta_description = str(train_dataset[i][2])\n",
    "        article_keywords = str(train_dataset[i][3])\n",
    "        tableID = train_dataset[i][4]\n",
    "        tableTitle = str(train_dataset[i][5])\n",
    "        match = train_dataset[i][6]\n",
    "        \n",
    "        row = [articlePgID, articleTitle, article_meta_description, article_keywords, tableID, tableTitle, match]\n",
    "        \n",
    "        wr.writerow(row)"
   ]
  },
  {
   "cell_type": "code",
   "execution_count": null,
   "metadata": {},
   "outputs": [],
   "source": []
  },
  {
   "cell_type": "code",
   "execution_count": null,
   "metadata": {},
   "outputs": [],
   "source": []
  },
  {
   "cell_type": "code",
   "execution_count": null,
   "metadata": {},
   "outputs": [],
   "source": []
  },
  {
   "cell_type": "code",
   "execution_count": null,
   "metadata": {},
   "outputs": [],
   "source": []
  },
  {
   "cell_type": "code",
   "execution_count": null,
   "metadata": {},
   "outputs": [],
   "source": []
  },
  {
   "cell_type": "code",
   "execution_count": null,
   "metadata": {},
   "outputs": [],
   "source": [
    "validation_dataset = []"
   ]
  },
  {
   "cell_type": "code",
   "execution_count": 10,
   "metadata": {},
   "outputs": [
    {
     "name": "stderr",
     "output_type": "stream",
     "text": [
      "100%|██████████| 20514/20514 [04:19<00:00, 79.12it/s] \n"
     ]
    }
   ],
   "source": [
    "for article in tqdm(validation_data_articles):\n",
    "    \n",
    "    articleID = article[0]\n",
    "    articleTitle = article[1]\n",
    "    articleText = article[2]\n",
    "    meta_description = article[3]\n",
    "    keywords = article[5]\n",
    "    \n",
    "    catch = articleTitle+\" \"+meta_description+\" \"+keywords\n",
    "    \n",
    "    #getting the table title match\n",
    "    contMatch = 0\n",
    "    contNonMatch = 0\n",
    "    result = search_indexing_match(articleTitle)\n",
    "    max_score = result['hits']['max_score']\n",
    "    \n",
    "    \n",
    "    for hit in result['hits']['hits']:\n",
    "    \n",
    "        tableID = hit['_source']['tablePgID']\n",
    "        tableTitle = (hit['_source']['tablePgTitle'])\n",
    "        tableSectionTitle = (hit['_source']['tableSectionTitle'])\n",
    "        tableCaption = (hit['_source']['tableCaption'])\n",
    "        tableHeader = (hit['_source']['tableHeader'])\n",
    "        tableBody = (hit['_source']['tableBody'])\n",
    "        table_score = hit['_score']\n",
    "        \n",
    "        normalized_score = table_score/max_score\n",
    "        \n",
    "        #getting match data\n",
    "        if (articleID == tableID) and (normalized_score >= 0.7): \n",
    "            \n",
    "            if contMatch < 5:\n",
    "            \n",
    "                tableIDMatch = tableID\n",
    "                tableTitleMatch = tableTitle\n",
    "                tableSectionTitleMatch = tableSectionTitle\n",
    "                tableCaptionMatch = tableCaption\n",
    "                tableHeaderMatch = tableHeader\n",
    "                tableBodyMatch = tableBody\n",
    "    \n",
    "                train_dataset.append([articleID,articleTitle, meta_description, keywords, tableIDMatch, tableTitleMatch,1])\n",
    "                \n",
    "                contMatch = contMatch + 1\n",
    "                \n",
    "            else:\n",
    "                \n",
    "                contMatch = 0\n",
    "                break"
   ]
  },
  {
   "cell_type": "code",
   "execution_count": 12,
   "metadata": {},
   "outputs": [
    {
     "data": {
      "text/plain": [
       "171321"
      ]
     },
     "execution_count": 12,
     "metadata": {},
     "output_type": "execute_result"
    }
   ],
   "source": [
    "len(train_dataset)"
   ]
  },
  {
   "cell_type": "code",
   "execution_count": null,
   "metadata": {},
   "outputs": [],
   "source": []
  },
  {
   "cell_type": "code",
   "execution_count": null,
   "metadata": {},
   "outputs": [],
   "source": [
    "for article in tqdm(validation_data_articles):\n",
    "    \n",
    "    articleID = article[0]\n",
    "    articleTitle = article[1]\n",
    "    articleText = article[2]\n",
    "    meta_description = article[3]\n",
    "    keywords = article[5]\n",
    "    \n",
    "    catch = articleTitle+\" \"+meta_description+\" \"+keywords\n",
    "    \n",
    "    #getting the table title match\n",
    "    contMatch = 0\n",
    "    contNonMatch = 0\n",
    "    result = search_index_random()\n",
    "    max_score = result['hits']['max_score']\n",
    "    \n",
    "    \n",
    "    for hit in result['hits']['hits']:\n",
    "    \n",
    "        tableID = hit['_source']['tablePgID']\n",
    "        tableTitle = (hit['_source']['tablePgTitle'])\n",
    "        tableSectionTitle = (hit['_source']['tableSectionTitle'])\n",
    "        tableCaption = (hit['_source']['tableCaption'])\n",
    "        tableHeader = (hit['_source']['tableHeader'])\n",
    "        tableBody = (hit['_source']['tableBody'])\n",
    "        table_score = hit['_score']\n",
    "        \n",
    "        normalized_score = table_score/max_score\n",
    "        \n",
    "        #getting the table title non-match\n",
    "        if (articleID != tableID) : \n",
    "            \n",
    "            if contNonMatch < 5:\n",
    "                \n",
    "                tableIDNoMatch = tableID\n",
    "                tableTitleNoMatch = tableTitle\n",
    "                tableSectionTitleNoMatch = tableSectionTitle\n",
    "                tableCaptionNoMatch = tableCaption\n",
    "                tableHeaderNoMatch = tableHeader\n",
    "                tableBodyNoMatch = tableBody\n",
    "\n",
    "                validation_dataset.append([articleID,articleTitle, meta_description, keywords, tableIDNoMatch,tableTitleNoMatch,0])\n",
    "                \n",
    "                contNonMatch = contNonMatch + 1\n",
    "            else:\n",
    "                \n",
    "                contNonMatch = 0\n",
    "                break\n",
    "                        "
   ]
  },
  {
   "cell_type": "code",
   "execution_count": null,
   "metadata": {},
   "outputs": [],
   "source": []
  },
  {
   "cell_type": "code",
   "execution_count": null,
   "metadata": {},
   "outputs": [],
   "source": [
    "len(validation_dataset)"
   ]
  },
  {
   "cell_type": "code",
   "execution_count": null,
   "metadata": {},
   "outputs": [],
   "source": []
  },
  {
   "cell_type": "code",
   "execution_count": null,
   "metadata": {},
   "outputs": [],
   "source": [
    "with open('validation_dataset_random_1_5', 'w') as myfile:\n",
    "          \n",
    "    wr = csv.writer(myfile, quoting=csv.QUOTE_ALL)\n",
    "\n",
    "    for i in tqdm(range(0,len(validation_dataset))):\n",
    "    \n",
    "        articlePgID = validation_dataset[i][0]\n",
    "        articleTitle = str(validation_dataset[i][1])\n",
    "        article_meta_description = str(validation_dataset[i][2])\n",
    "        article_keywords = str(validation_dataset[i][3])\n",
    "        tableID = validation_dataset[i][4]\n",
    "        tableTitle = str(validation_dataset[i][5])\n",
    "        match = validation_dataset[i][6]\n",
    "        \n",
    "        row = [articlePgID, articleTitle, article_meta_description, article_keywords, tableID, tableTitle, match]\n",
    "        \n",
    "        wr.writerow(row)"
   ]
  },
  {
   "cell_type": "code",
   "execution_count": null,
   "metadata": {},
   "outputs": [],
   "source": []
  }
 ],
 "metadata": {
  "kernelspec": {
   "display_name": "Python 3",
   "language": "python",
   "name": "python3"
  },
  "language_info": {
   "codemirror_mode": {
    "name": "ipython",
    "version": 3
   },
   "file_extension": ".py",
   "mimetype": "text/x-python",
   "name": "python",
   "nbconvert_exporter": "python",
   "pygments_lexer": "ipython3",
   "version": "3.7.3"
  }
 },
 "nbformat": 4,
 "nbformat_minor": 2
}
