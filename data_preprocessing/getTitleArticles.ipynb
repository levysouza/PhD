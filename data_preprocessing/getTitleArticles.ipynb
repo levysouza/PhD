{
 "cells": [
  {
   "cell_type": "code",
   "execution_count": 2,
   "metadata": {},
   "outputs": [],
   "source": [
    "from tqdm import tqdm\n",
    "import numpy as np\n",
    "import pandas as pd\n",
    "from lxml import html\n",
    "import requests\n",
    "import re\n",
    "import csv"
   ]
  },
  {
   "cell_type": "code",
   "execution_count": 2,
   "metadata": {},
   "outputs": [],
   "source": [
    "import nltk\n",
    "from nltk.corpus import stopwords\n",
    "from nltk.tokenize import word_tokenize\n",
    "stop_words = set(stopwords.words('english')) "
   ]
  },
  {
   "cell_type": "code",
   "execution_count": 3,
   "metadata": {},
   "outputs": [],
   "source": [
    "def removeStopwords(example_sent):\n",
    "    \n",
    "    word_tokens = word_tokenize(example_sent) \n",
    "  \n",
    "    filtered_sentence = [w for w in word_tokens if not w in stop_words] \n",
    "  \n",
    "    filtered_sentence = [] \n",
    "  \n",
    "    for w in word_tokens: \n",
    "        if w not in stop_words: \n",
    "            filtered_sentence.append(w)\n",
    "    \n",
    "    formattedText = \"\"\n",
    "\n",
    "    for word in filtered_sentence:\n",
    "        \n",
    "        if (len(word)>2):\n",
    "            \n",
    "            formattedText = formattedText + \" \" +word\n",
    "    \n",
    "    \n",
    "    formattedText = formattedText.lstrip()\n",
    "    \n",
    "    formattedText = formattedText.rstrip()\n",
    "        \n",
    "    return formattedText"
   ]
  },
  {
   "cell_type": "code",
   "execution_count": 4,
   "metadata": {},
   "outputs": [],
   "source": [
    "def clearString(text):\n",
    "    \n",
    "    text = re.sub('[^A-Za-z]+',' ',text)\n",
    "    \n",
    "    text = text.lstrip()\n",
    "    \n",
    "    text = text.rstrip()\n",
    "    \n",
    "    return text"
   ]
  },
  {
   "cell_type": "code",
   "execution_count": 5,
   "metadata": {},
   "outputs": [],
   "source": [
    "articlesTitle = pd.read_csv('articlesDataset/dataArticlesTitle', delimiter=',', header=None)\n",
    "articlesTitle2 = pd.read_csv('articlesDataset/dataArticlesTitle2', delimiter=',', header=None)\n",
    "articlesText = pd.read_csv('articlesDataset/cleanDataArticles', delimiter=',', header=None)"
   ]
  },
  {
   "cell_type": "code",
   "execution_count": 6,
   "metadata": {},
   "outputs": [],
   "source": [
    "dataArticlesTitle = articlesTitle.iloc[:,:].values\n",
    "dataArticlesTitle2 = articlesTitle2.iloc[:,:].values\n",
    "dataArticlesText = articlesText.iloc[:,:].values"
   ]
  },
  {
   "cell_type": "code",
   "execution_count": 7,
   "metadata": {},
   "outputs": [
    {
     "name": "stderr",
     "output_type": "stream",
     "text": [
      "100%|██████████| 139000/139000 [09:39<00:00, 239.91it/s]\n"
     ]
    }
   ],
   "source": [
    "formattedArticles = []\n",
    "\n",
    "for i in tqdm(range(139000)):\n",
    "    \n",
    "    articlePgID = dataArticlesTitle[i][0]\n",
    "    \n",
    "    originalTitle = str(dataArticlesTitle[i][1]).lower()\n",
    "    \n",
    "    aux1 = clearString(str(dataArticlesTitle[i][1]).lower())\n",
    "    \n",
    "    articleTitle = removeStopwords(aux1)\n",
    "    \n",
    "    aux2 = clearString(str(dataArticlesText[i][1]).lower())\n",
    "    \n",
    "    articleText = removeStopwords(aux2)\n",
    "    \n",
    "    if ((\"wayback machine\" not in str(originalTitle)) and (\"404\" not in str(originalTitle)) and (\"403\" not in str(originalTitle)) and (\"page not found\" not in str(originalTitle)) and (\"not found\" not in str(originalTitle)) and (\"forbidden\" not in str(originalTitle)) and (\"\" != str(originalTitle)) and (\"page found\" not in str(originalTitle))):\n",
    "       \n",
    "        formattedArticles.append([articlePgID,articleTitle,articleText])\n",
    "    "
   ]
  },
  {
   "cell_type": "code",
   "execution_count": null,
   "metadata": {},
   "outputs": [],
   "source": []
  },
  {
   "cell_type": "code",
   "execution_count": null,
   "metadata": {},
   "outputs": [],
   "source": [
    "# remove articles\n",
    "# Wayback Machine\n",
    "# 404\n",
    "# 403\n",
    "# Page Not Found\n",
    "# not found\n",
    "#forbidden\n",
    "# vazio\n",
    "# page found"
   ]
  },
  {
   "cell_type": "code",
   "execution_count": 8,
   "metadata": {},
   "outputs": [
    {
     "name": "stderr",
     "output_type": "stream",
     "text": [
      "100%|██████████| 135654/135654 [08:52<00:00, 254.97it/s]\n"
     ]
    }
   ],
   "source": [
    "for i in tqdm(range(len(dataArticlesTitle2))):\n",
    "    \n",
    "    articlePgID = dataArticlesTitle2[i][0]\n",
    "    \n",
    "    originalTitle = str(dataArticlesTitle[i][1]).lower()\n",
    "    \n",
    "    aux1 = clearString(str(dataArticlesTitle2[i][1]).lower())\n",
    "    \n",
    "    articleTitle = removeStopwords(aux1)\n",
    "        \n",
    "    aux2 = str(dataArticlesText[i+139000][1]).lower()\n",
    "    \n",
    "    articleText = removeStopwords(aux2)\n",
    "       \n",
    "    if ((\"wayback machine\" not in str(originalTitle)) and (\"404\" not in str(originalTitle)) and (\"403\" not in str(originalTitle)) and (\"page not found\" not in str(originalTitle)) and (\"not found\" not in str(originalTitle)) and (\"forbidden\" not in str(originalTitle)) and (\"\" != str(originalTitle)) and (\"page found\" not in str(originalTitle))):\n",
    "       \n",
    "        formattedArticles.append([articlePgID,articleTitle,articleText])"
   ]
  },
  {
   "cell_type": "code",
   "execution_count": 116,
   "metadata": {},
   "outputs": [
    {
     "name": "stderr",
     "output_type": "stream",
     "text": [
      "100%|██████████| 202253/202253 [00:00<00:00, 2230553.09it/s]\n"
     ]
    }
   ],
   "source": [
    "count = 0\n",
    "\n",
    "for articles in tqdm(formattedArticles):\n",
    "    \n",
    "    if (\"not found\" in str(articles[1])):\n",
    "        \n",
    "        count = count + 1\n",
    "         \n",
    "        formattedArticles.remove(articles)"
   ]
  },
  {
   "cell_type": "code",
   "execution_count": null,
   "metadata": {},
   "outputs": [],
   "source": []
  },
  {
   "cell_type": "code",
   "execution_count": null,
   "metadata": {},
   "outputs": [],
   "source": [
    "#saving the links on the file\n",
    "with open('articles', 'w') as myfile:\n",
    "        \n",
    "    wr = csv.writer(myfile, quoting=csv.QUOTE_ALL)\n",
    "    \n",
    "    for i in tqdm(range(len(formattedArticles))):\n",
    "    \n",
    "        articlePgID = formattedArticles[i][0]\n",
    "    \n",
    "        articleTitle = formattedArticles[i][1]\n",
    "        \n",
    "        articleText = formattedArticles[i][2]\n",
    "    \n",
    "        row = [articlePgID,articleTitle,articleText]\n",
    "        \n",
    "        wr.writerow(row)"
   ]
  },
  {
   "cell_type": "code",
   "execution_count": null,
   "metadata": {},
   "outputs": [],
   "source": []
  },
  {
   "cell_type": "code",
   "execution_count": 3,
   "metadata": {},
   "outputs": [],
   "source": [
    "articlesTitle = pd.read_csv('articlesDataset/articlesPlusTitle', delimiter=',', header=None)"
   ]
  },
  {
   "cell_type": "code",
   "execution_count": 4,
   "metadata": {},
   "outputs": [],
   "source": [
    "dataArticlesPlusTitle = articlesTitle.iloc[:,:].values"
   ]
  },
  {
   "cell_type": "code",
   "execution_count": null,
   "metadata": {},
   "outputs": [],
   "source": [
    "articlesTestDataset []"
   ]
  },
  {
   "cell_type": "code",
   "execution_count": 15,
   "metadata": {},
   "outputs": [
    {
     "name": "stderr",
     "output_type": "stream",
     "text": [
      "100%|██████████| 10000/10000 [00:00<00:00, 13109.33it/s]\n"
     ]
    }
   ],
   "source": [
    "with open('articlesTestDataset', 'w') as myfile:\n",
    "        \n",
    "    wr = csv.writer(myfile, quoting=csv.QUOTE_ALL)\n",
    "\n",
    "    for i in tqdm(range(10000)):\n",
    "    \n",
    "        articlePgID = dataArticlesPlusTitle[i][0]\n",
    "        articleTitle = dataArticlesPlusTitle[i][1]\n",
    "        articleText = dataArticlesPlusTitle[i][2]\n",
    "    \n",
    "        row = [articlePgID,articleTitle,articleText]\n",
    "        \n",
    "        wr.writerow(row)\n",
    "    "
   ]
  },
  {
   "cell_type": "code",
   "execution_count": 17,
   "metadata": {},
   "outputs": [],
   "source": [
    "articlesIDs = []\n",
    "\n",
    "for articles in dataArticlesPlusTitle:\n",
    "    \n",
    "    articlesIDs. append(articles[0])"
   ]
  },
  {
   "cell_type": "code",
   "execution_count": 19,
   "metadata": {},
   "outputs": [
    {
     "data": {
      "text/plain": [
       "66234"
      ]
     },
     "execution_count": 19,
     "metadata": {},
     "output_type": "execute_result"
    }
   ],
   "source": [
    "len(np.unique(articlesIDs))"
   ]
  }
 ],
 "metadata": {
  "kernelspec": {
   "display_name": "Python 3",
   "language": "python",
   "name": "python3"
  },
  "language_info": {
   "codemirror_mode": {
    "name": "ipython",
    "version": 3
   },
   "file_extension": ".py",
   "mimetype": "text/x-python",
   "name": "python",
   "nbconvert_exporter": "python",
   "pygments_lexer": "ipython3",
   "version": "3.7.3"
  }
 },
 "nbformat": 4,
 "nbformat_minor": 2
}
