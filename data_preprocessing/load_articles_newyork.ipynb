{
 "cells": [
  {
   "cell_type": "code",
   "execution_count": 1,
   "metadata": {},
   "outputs": [],
   "source": [
    "import numpy as np\n",
    "import pandas as pd\n",
    "import re\n",
    "import csv\n",
    "from tqdm import tqdm"
   ]
  },
  {
   "cell_type": "code",
   "execution_count": 2,
   "metadata": {},
   "outputs": [],
   "source": [
    "import nltk\n",
    "from nltk.corpus import stopwords\n",
    "from nltk.tokenize import word_tokenize\n",
    "stop_words = set(stopwords.words('english'))"
   ]
  },
  {
   "cell_type": "code",
   "execution_count": 3,
   "metadata": {},
   "outputs": [],
   "source": [
    "raw_articles = pd.read_csv('../dataset/pos_furball_eval_frozen.csv', delimiter=',', header=None)\n",
    "data_articles = raw_articles.iloc[:,:].values"
   ]
  },
  {
   "cell_type": "code",
   "execution_count": 6,
   "metadata": {},
   "outputs": [],
   "source": [
    "raw_neg_articles = pd.read_csv('../dataset/neg_furball_eval_frozen.csv', delimiter=',', header=None)\n",
    "data_articles_neg = raw_neg_articles.iloc[:,:].values"
   ]
  },
  {
   "cell_type": "code",
   "execution_count": 4,
   "metadata": {},
   "outputs": [],
   "source": [
    "def removeStopwords(example_sent):\n",
    "    \n",
    "    word_tokens = word_tokenize(example_sent) \n",
    "  \n",
    "    filtered_sentence = [w for w in word_tokens if not w in stop_words] \n",
    "  \n",
    "    filtered_sentence = [] \n",
    "  \n",
    "    for w in word_tokens: \n",
    "        if w not in stop_words: \n",
    "            filtered_sentence.append(w)\n",
    "    \n",
    "    formattedText = \"\"\n",
    "\n",
    "    for word in filtered_sentence:\n",
    "        \n",
    "        if (len(word)>2):\n",
    "            \n",
    "            formattedText = formattedText + \" \" +word\n",
    "    \n",
    "    formattedText = re.sub('[^A-Za-z]+',' ',formattedText)\n",
    "    \n",
    "    formattedText = formattedText.lstrip()\n",
    "    \n",
    "    formattedText = formattedText.rstrip()\n",
    "        \n",
    "    return formattedText.lower()"
   ]
  },
  {
   "cell_type": "code",
   "execution_count": 5,
   "metadata": {},
   "outputs": [
    {
     "name": "stderr",
     "output_type": "stream",
     "text": [
      "100%|██████████| 148/148 [00:05<00:00, 28.11it/s]\n"
     ]
    }
   ],
   "source": [
    "with open('classification_data_newyork', 'w') as myfile:\n",
    "        \n",
    "    wr = csv.writer(myfile, quoting=csv.QUOTE_ALL)\n",
    "\n",
    "    for table in tqdm(data_articles):\n",
    "    \n",
    "        article_url = str(table[0])\n",
    "        article_page_title = removeStopwords(str(table[1]))\n",
    "        article_main_passage = removeStopwords(str(table[2]))\n",
    "        table_url = str(table[3])\n",
    "        table_page_title = removeStopwords(str(table[4]))\n",
    "        table_page_content = removeStopwords(str(table[5]))\n",
    "       \n",
    "        row = [article_page_title,article_main_passage,table_page_title,table_page_content,1]\n",
    "        \n",
    "        wr.writerow(row)\n",
    "    "
   ]
  },
  {
   "cell_type": "code",
   "execution_count": 7,
   "metadata": {},
   "outputs": [
    {
     "name": "stderr",
     "output_type": "stream",
     "text": [
      "100%|██████████| 110/110 [00:03<00:00, 36.40it/s]\n"
     ]
    }
   ],
   "source": [
    "with open('classification_data_newyork', 'w') as myfile:\n",
    "        \n",
    "    wr = csv.writer(myfile, quoting=csv.QUOTE_ALL)\n",
    "\n",
    "    for table in tqdm(data_articles_neg):\n",
    "    \n",
    "        article_url = str(table[0])\n",
    "        article_page_title = removeStopwords(str(table[1]))\n",
    "        article_main_passage = removeStopwords(str(table[2]))\n",
    "        table_url = str(table[3])\n",
    "        table_page_title = removeStopwords(str(table[4]))\n",
    "        table_page_content = removeStopwords(str(table[5]))\n",
    "       \n",
    "        row = [article_page_title,article_main_passage,table_page_title,table_page_content,0]\n",
    "        \n",
    "        wr.writerow(row)"
   ]
  }
 ],
 "metadata": {
  "kernelspec": {
   "display_name": "Python 3",
   "language": "python",
   "name": "python3"
  },
  "language_info": {
   "codemirror_mode": {
    "name": "ipython",
    "version": 3
   },
   "file_extension": ".py",
   "mimetype": "text/x-python",
   "name": "python",
   "nbconvert_exporter": "python",
   "pygments_lexer": "ipython3",
   "version": "3.7.3"
  }
 },
 "nbformat": 4,
 "nbformat_minor": 2
}
