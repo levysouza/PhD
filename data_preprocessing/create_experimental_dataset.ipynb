{
 "cells": [
  {
   "cell_type": "code",
   "execution_count": 1,
   "metadata": {},
   "outputs": [],
   "source": [
    "from tqdm import tqdm\n",
    "import numpy as np\n",
    "import pandas as pd\n",
    "from lxml import html\n",
    "import requests\n",
    "import re\n",
    "import csv\n",
    "from elasticsearch import Elasticsearch\n",
    "from elasticsearch import helpers\n",
    "indexingTables = Elasticsearch(timeout=30, max_retries=10, retry_on_timeout=True)\n",
    "from sklearn.model_selection import train_test_split"
   ]
  },
  {
   "cell_type": "code",
   "execution_count": 2,
   "metadata": {},
   "outputs": [],
   "source": [
    "import nltk\n",
    "from nltk.corpus import stopwords\n",
    "from nltk.tokenize import word_tokenize\n",
    "stop_words = set(stopwords.words('english')) "
   ]
  },
  {
   "cell_type": "code",
   "execution_count": 3,
   "metadata": {},
   "outputs": [],
   "source": [
    "def removeStopwords(example_sent):\n",
    "    \n",
    "    word_tokens = word_tokenize(example_sent) \n",
    "  \n",
    "    filtered_sentence = [w for w in word_tokens if not w in stop_words] \n",
    "  \n",
    "    filtered_sentence = [] \n",
    "  \n",
    "    for w in word_tokens: \n",
    "        if w not in stop_words: \n",
    "            filtered_sentence.append(w)\n",
    "    \n",
    "    formattedText = \"\"\n",
    "\n",
    "    for word in filtered_sentence:\n",
    "        \n",
    "        if (len(word)>2):\n",
    "            \n",
    "            formattedText = formattedText + \" \" +word\n",
    "    \n",
    "    \n",
    "    formattedText = formattedText.lstrip()\n",
    "    \n",
    "    formattedText = formattedText.rstrip()\n",
    "        \n",
    "    return formattedText.lower()"
   ]
  },
  {
   "cell_type": "code",
   "execution_count": null,
   "metadata": {},
   "outputs": [],
   "source": [
    "articles = pd.read_csv('../dataset/formatted_data_articles_notnull', delimiter=',', header=None)\n",
    "dataArticles = articles.iloc[:,:].values"
   ]
  },
  {
   "cell_type": "code",
   "execution_count": null,
   "metadata": {},
   "outputs": [],
   "source": [
    "distinctArticlesIDs = []\n",
    "distinctArticles = []\n",
    "\n",
    "for articles in tqdm(dataArticles):\n",
    "    \n",
    "    articlePgID = articles[0]\n",
    "    \n",
    "    if articlePgID not in distinctArticlesIDs:\n",
    "        \n",
    "        distinctArticlesIDs.append(articlePgID)\n",
    "        \n",
    "        distinctArticles.append(articles)"
   ]
  },
  {
   "cell_type": "code",
   "execution_count": null,
   "metadata": {},
   "outputs": [],
   "source": [
    "len(distinctArticles)"
   ]
  },
  {
   "cell_type": "code",
   "execution_count": null,
   "metadata": {},
   "outputs": [],
   "source": [
    "with open('distinct_formatted_articles_notnull', 'w') as myfile:\n",
    "        \n",
    "    wr = csv.writer(myfile, quoting=csv.QUOTE_ALL)\n",
    "\n",
    "    for articles in tqdm(distinctArticles):\n",
    "        \n",
    "        wr.writerow(articles)"
   ]
  },
  {
   "cell_type": "code",
   "execution_count": null,
   "metadata": {},
   "outputs": [],
   "source": []
  },
  {
   "cell_type": "code",
   "execution_count": null,
   "metadata": {},
   "outputs": [],
   "source": [
    "#distinctArticles = pd.read_csv('../dataset/distinct_formatted_articles_notnull', delimiter=',', header=None)\n",
    "#dataDistinctArticles = distinctArticles.iloc[:,:].values\n",
    "\n",
    "distinctArticles = pd.read_csv('../dataset/formatted_data_articles_notnull', delimiter=',', header=None)\n",
    "dataDistinctArticles = distinctArticles.iloc[:,:].values"
   ]
  },
  {
   "cell_type": "code",
   "execution_count": null,
   "metadata": {},
   "outputs": [],
   "source": [
    "len(distinctArticles)"
   ]
  },
  {
   "cell_type": "code",
   "execution_count": null,
   "metadata": {},
   "outputs": [],
   "source": []
  },
  {
   "cell_type": "markdown",
   "metadata": {},
   "source": [
    "## Shuffle the data in train, validation and test"
   ]
  },
  {
   "cell_type": "code",
   "execution_count": null,
   "metadata": {},
   "outputs": [],
   "source": [
    "x_train, test_dataset = train_test_split(dataDistinctArticles, test_size=0.10, random_state=42)"
   ]
  },
  {
   "cell_type": "code",
   "execution_count": null,
   "metadata": {},
   "outputs": [],
   "source": []
  },
  {
   "cell_type": "markdown",
   "metadata": {},
   "source": [
    "## creating the test dataset"
   ]
  },
  {
   "cell_type": "code",
   "execution_count": null,
   "metadata": {},
   "outputs": [],
   "source": [
    "with open('test_dataset_all_articles', 'w') as myfile:\n",
    "          \n",
    "    wr = csv.writer(myfile, quoting=csv.QUOTE_ALL)\n",
    "\n",
    "    for article in tqdm(test_dataset):\n",
    "        \n",
    "        wr.writerow(article)"
   ]
  },
  {
   "cell_type": "markdown",
   "metadata": {},
   "source": [
    "## creating the train dataset"
   ]
  },
  {
   "cell_type": "code",
   "execution_count": null,
   "metadata": {},
   "outputs": [],
   "source": [
    "with open('train_dataset_all_articles', 'w') as myfile:\n",
    "          \n",
    "    wr = csv.writer(myfile, quoting=csv.QUOTE_ALL)\n",
    "\n",
    "    for article in tqdm(x_train):\n",
    "        \n",
    "        wr.writerow(article)"
   ]
  },
  {
   "cell_type": "code",
   "execution_count": null,
   "metadata": {},
   "outputs": [],
   "source": []
  },
  {
   "cell_type": "code",
   "execution_count": null,
   "metadata": {},
   "outputs": [],
   "source": []
  },
  {
   "cell_type": "code",
   "execution_count": null,
   "metadata": {},
   "outputs": [],
   "source": []
  },
  {
   "cell_type": "code",
   "execution_count": null,
   "metadata": {},
   "outputs": [],
   "source": []
  },
  {
   "cell_type": "code",
   "execution_count": null,
   "metadata": {},
   "outputs": [],
   "source": []
  },
  {
   "cell_type": "code",
   "execution_count": null,
   "metadata": {},
   "outputs": [],
   "source": [
    "#comeca aqui"
   ]
  },
  {
   "cell_type": "code",
   "execution_count": 15,
   "metadata": {},
   "outputs": [],
   "source": [
    "read = pd.read_csv('../dataset/train_dataset_all_articles', delimiter=',', header=None)\n",
    "train_data_articles = read.iloc[:,:].values"
   ]
  },
  {
   "cell_type": "code",
   "execution_count": 16,
   "metadata": {},
   "outputs": [],
   "source": [
    "train_dataset, validation_dataset = train_test_split(train_data_articles, test_size=0.05, random_state=42)"
   ]
  },
  {
   "cell_type": "code",
   "execution_count": 17,
   "metadata": {},
   "outputs": [
    {
     "data": {
      "text/plain": [
       "184619"
      ]
     },
     "execution_count": 17,
     "metadata": {},
     "output_type": "execute_result"
    }
   ],
   "source": [
    "len(train_data_articles)"
   ]
  },
  {
   "cell_type": "code",
   "execution_count": 18,
   "metadata": {},
   "outputs": [],
   "source": [
    "def searchIndexingNoMatch(articleTitle):\n",
    "    \n",
    "    result= indexingTables.search(\n",
    "        index=\"tables\", \n",
    "        body = {\n",
    "        \"_source\": [\"tablePgID\",\"tablePgTitle\",\"tableSectionTitle\",\"tableCaption\",\"tableHeader\",\"tableBody\"],\n",
    "        \"from\" : 0,\n",
    "        \"size\" : 1000,\n",
    "        \"query\": {\n",
    "            \"multi_match\":{\n",
    "              \"type\": \"most_fields\",\n",
    "              \"query\":    articleTitle, \n",
    "              \"fields\": [\"tablePgTitle\"] \n",
    "            }\n",
    "        }\n",
    "    })\n",
    "    \n",
    "    return result"
   ]
  },
  {
   "cell_type": "code",
   "execution_count": null,
   "metadata": {},
   "outputs": [],
   "source": []
  },
  {
   "cell_type": "code",
   "execution_count": 19,
   "metadata": {},
   "outputs": [],
   "source": [
    "def search_index_random():\n",
    "    \n",
    "    result= indexingTables.search(\n",
    "        index=\"tables\", \n",
    "        body = {\n",
    "        \"_source\": [\"tablePgID\",\"tablePgTitle\",\"tableSectionTitle\",\"tableCaption\",\"tableHeader\",\"tableBody\"],\n",
    "        \"from\" : 0,\n",
    "        \"size\" : 100,\n",
    "        \"query\": {\n",
    "            \"function_score\": {\n",
    "                \"random_score\": {}\n",
    "            }\n",
    "        }\n",
    "    })\n",
    "    \n",
    "    return result"
   ]
  },
  {
   "cell_type": "code",
   "execution_count": null,
   "metadata": {},
   "outputs": [],
   "source": []
  },
  {
   "cell_type": "code",
   "execution_count": null,
   "metadata": {},
   "outputs": [],
   "source": []
  },
  {
   "cell_type": "markdown",
   "metadata": {},
   "source": [
    "## creating the validation dataset"
   ]
  },
  {
   "cell_type": "code",
   "execution_count": 8,
   "metadata": {},
   "outputs": [],
   "source": [
    "validation_nomatch, validation_match = train_test_split(validation_dataset, test_size=0.16, random_state=42)"
   ]
  },
  {
   "cell_type": "code",
   "execution_count": 9,
   "metadata": {},
   "outputs": [
    {
     "data": {
      "text/plain": [
       "1477"
      ]
     },
     "execution_count": 9,
     "metadata": {},
     "output_type": "execute_result"
    }
   ],
   "source": [
    "len(validation_match)"
   ]
  },
  {
   "cell_type": "code",
   "execution_count": null,
   "metadata": {},
   "outputs": [],
   "source": [
    "# final_validation_dataset = []\n",
    "\n",
    "# for article in tqdm(validation_dataset):\n",
    "    \n",
    "#     articleID = article[0]\n",
    "#     articleTitle = article[1]\n",
    "#     articleText = article[2]\n",
    "#     meta_description = article[3]\n",
    "#     keywords = article[5]\n",
    "    \n",
    "#     catch = articleTitle+\" \"+meta_description+\" \"+keywords\n",
    "    \n",
    "#     #getting the table title match\n",
    "#     contMatch = 0\n",
    "#     contNonMatch = 0\n",
    "#     result = searchIndexingNoMatch(articleTitle)\n",
    "#     max_score = result['hits']['max_score']\n",
    "    \n",
    "    \n",
    "#     for hit in result['hits']['hits']:\n",
    "    \n",
    "#         tableID = hit['_source']['tablePgID']\n",
    "#         tableTitle = (hit['_source']['tablePgTitle'])\n",
    "#         tableSectionTitle = (hit['_source']['tableSectionTitle'])\n",
    "#         tableCaption = (hit['_source']['tableCaption'])\n",
    "#         tableHeader = (hit['_source']['tableHeader'])\n",
    "#         tableBody = (hit['_source']['tableBody'])\n",
    "#         table_score = hit['_score']\n",
    "        \n",
    "#         normalized_score = table_score/max_score\n",
    "        \n",
    "#         #getting match data\n",
    "#         if (articleID == tableID) and (normalized_score >= 0.7): \n",
    "            \n",
    "#             if contMatch < 1:\n",
    "            \n",
    "#                 tableIDMatch = tableID\n",
    "#                 tableTitleMatch = tableTitle\n",
    "#                 tableSectionTitleMatch = tableSectionTitle\n",
    "#                 tableCaptionMatch = tableCaption\n",
    "#                 tableHeaderMatch = tableHeader\n",
    "#                 tableBodyMatch = tableBody\n",
    "    \n",
    "#                 final_validation_dataset.append([articleID,articleTitle, meta_description, keywords, tableIDMatch, tableTitleMatch,1])\n",
    "                \n",
    "#                 contMatch = contMatch + 1\n",
    "                \n",
    "#             else:\n",
    "                \n",
    "#                 contMatch = 0\n",
    "#                 break\n",
    "                \n",
    "        \n",
    "#         #getting the table title non-match\n",
    "#         if (articleID != tableID) and (normalized_score < 0.3): \n",
    "            \n",
    "#             if contNonMatch < 10:\n",
    "                \n",
    "#                 tableIDNoMatch = tableID\n",
    "#                 tableTitleNoMatch = tableTitle\n",
    "#                 tableSectionTitleNoMatch = tableSectionTitle\n",
    "#                 tableCaptionNoMatch = tableCaption\n",
    "#                 tableHeaderNoMatch = tableHeader\n",
    "#                 tableBodyNoMatch = tableBody\n",
    "\n",
    "#                 final_validation_dataset.append([articleID,articleTitle, meta_description, keywords, tableIDNoMatch,tableTitleNoMatch,0])\n",
    "                \n",
    "#                 contNonMatch = contNonMatch + 1\n",
    "#             else:\n",
    "                \n",
    "#                 contNonMatch = 0\n",
    "#                 break\n",
    "                        "
   ]
  },
  {
   "cell_type": "code",
   "execution_count": null,
   "metadata": {},
   "outputs": [
    {
     "name": "stderr",
     "output_type": "stream",
     "text": [
      " 73%|███████▎  | 134635/184619 [27:00<10:45, 77.42it/s] "
     ]
    }
   ],
   "source": [
    "final_validation_dataset = []\n",
    "\n",
    "for article in tqdm(train_data_articles):\n",
    "    \n",
    "    articleID = article[0]\n",
    "    articleTitle = article[1]\n",
    "    articleText = article[2]\n",
    "    meta_description = article[3]\n",
    "    keywords = article[5]\n",
    "    \n",
    "    catch = articleTitle+\" \"+meta_description+\" \"+keywords\n",
    "    \n",
    "    #getting the table title match\n",
    "    contMatch = 0\n",
    "    contNonMatch = 0\n",
    "    result = searchIndexingNoMatch(articleTitle)\n",
    "    max_score = result['hits']['max_score']\n",
    "    \n",
    "    \n",
    "    for hit in result['hits']['hits']:\n",
    "    \n",
    "        tableID = hit['_source']['tablePgID']\n",
    "        tableTitle = (hit['_source']['tablePgTitle'])\n",
    "        tableSectionTitle = (hit['_source']['tableSectionTitle'])\n",
    "        tableCaption = (hit['_source']['tableCaption'])\n",
    "        tableHeader = (hit['_source']['tableHeader'])\n",
    "        tableBody = (hit['_source']['tableBody'])\n",
    "        table_score = hit['_score']\n",
    "        \n",
    "        normalized_score = table_score/max_score\n",
    "        \n",
    "        #getting match data\n",
    "        if (articleID == tableID) and (normalized_score >= 0.7): \n",
    "            \n",
    "            if contMatch < 1:\n",
    "            \n",
    "                tableIDMatch = tableID\n",
    "                tableTitleMatch = tableTitle\n",
    "                tableSectionTitleMatch = tableSectionTitle\n",
    "                tableCaptionMatch = tableCaption\n",
    "                tableHeaderMatch = tableHeader\n",
    "                tableBodyMatch = tableBody\n",
    "    \n",
    "                final_validation_dataset.append([articleID,articleTitle, meta_description, keywords, tableIDMatch, tableTitleMatch,1])\n",
    "                \n",
    "                contMatch = contMatch + 1\n",
    "                \n",
    "            else:\n",
    "                \n",
    "                contMatch = 0\n",
    "                break"
   ]
  },
  {
   "cell_type": "code",
   "execution_count": 9,
   "metadata": {},
   "outputs": [
    {
     "data": {
      "text/plain": [
       "66647"
      ]
     },
     "execution_count": 9,
     "metadata": {},
     "output_type": "execute_result"
    }
   ],
   "source": [
    "len(final_validation_dataset)"
   ]
  },
  {
   "cell_type": "code",
   "execution_count": null,
   "metadata": {},
   "outputs": [],
   "source": []
  },
  {
   "cell_type": "code",
   "execution_count": null,
   "metadata": {},
   "outputs": [],
   "source": [
    "for article in tqdm(train_data_articles[0:66647]):\n",
    "    \n",
    "    articleID = article[0]\n",
    "    articleTitle = article[1]\n",
    "    articleText = article[2]\n",
    "    meta_description = article[3]\n",
    "    keywords = article[5]\n",
    "    \n",
    "    catch = articleTitle+\" \"+meta_description+\" \"+keywords\n",
    "    \n",
    "    #getting the table title match\n",
    "    contMatch = 0\n",
    "    contNonMatch = 0\n",
    "    result = search_index_random()\n",
    "    max_score = result['hits']['max_score']\n",
    "    \n",
    "    \n",
    "    for hit in result['hits']['hits']:\n",
    "    \n",
    "        tableID = hit['_source']['tablePgID']\n",
    "        tableTitle = (hit['_source']['tablePgTitle'])\n",
    "        tableSectionTitle = (hit['_source']['tableSectionTitle'])\n",
    "        tableCaption = (hit['_source']['tableCaption'])\n",
    "        tableHeader = (hit['_source']['tableHeader'])\n",
    "        tableBody = (hit['_source']['tableBody'])\n",
    "        table_score = hit['_score']\n",
    "        \n",
    "        normalized_score = table_score/max_score\n",
    "        \n",
    "        #getting the table title non-match\n",
    "        if (articleID != tableID) : \n",
    "            \n",
    "            if contNonMatch < 5:\n",
    "                \n",
    "                tableIDNoMatch = tableID\n",
    "                tableTitleNoMatch = tableTitle\n",
    "                tableSectionTitleNoMatch = tableSectionTitle\n",
    "                tableCaptionNoMatch = tableCaption\n",
    "                tableHeaderNoMatch = tableHeader\n",
    "                tableBodyNoMatch = tableBody\n",
    "\n",
    "                final_validation_dataset.append([articleID,articleTitle, meta_description, keywords, tableIDNoMatch,tableTitleNoMatch,0])\n",
    "                \n",
    "                contNonMatch = contNonMatch + 1\n",
    "            else:\n",
    "                \n",
    "                contNonMatch = 0\n",
    "                break\n",
    "                        "
   ]
  },
  {
   "cell_type": "code",
   "execution_count": null,
   "metadata": {},
   "outputs": [],
   "source": [
    "len_validation  = len(final_validation_dataset)"
   ]
  },
  {
   "cell_type": "code",
   "execution_count": null,
   "metadata": {},
   "outputs": [],
   "source": [
    "len_validation"
   ]
  },
  {
   "cell_type": "code",
   "execution_count": null,
   "metadata": {},
   "outputs": [],
   "source": []
  },
  {
   "cell_type": "code",
   "execution_count": null,
   "metadata": {},
   "outputs": [],
   "source": [
    "with open('train_dataset_random_1_5', 'w') as myfile:\n",
    "          \n",
    "    wr = csv.writer(myfile, quoting=csv.QUOTE_ALL)\n",
    "\n",
    "    for i in tqdm(range(0,len_validation)):\n",
    "    \n",
    "        articlePgID = final_validation_dataset[i][0]\n",
    "        articleTitle = str(final_validation_dataset[i][1])\n",
    "        article_meta_description = str(final_validation_dataset[i][2])\n",
    "        article_keywords = str(final_validation_dataset[i][3])\n",
    "        tableID = final_validation_dataset[i][4]\n",
    "        tableTitle = str(final_validation_dataset[i][5])\n",
    "        match = final_validation_dataset[i][6]\n",
    "        \n",
    "        row = [articlePgID, articleTitle, article_meta_description, article_keywords, tableID, tableTitle, match]\n",
    "        \n",
    "        wr.writerow(row)"
   ]
  },
  {
   "cell_type": "code",
   "execution_count": null,
   "metadata": {},
   "outputs": [],
   "source": []
  },
  {
   "cell_type": "markdown",
   "metadata": {},
   "source": [
    "## creating the train dataset"
   ]
  },
  {
   "cell_type": "code",
   "execution_count": null,
   "metadata": {},
   "outputs": [],
   "source": []
  },
  {
   "cell_type": "code",
   "execution_count": null,
   "metadata": {},
   "outputs": [],
   "source": []
  },
  {
   "cell_type": "code",
   "execution_count": null,
   "metadata": {},
   "outputs": [],
   "source": []
  },
  {
   "cell_type": "code",
   "execution_count": null,
   "metadata": {},
   "outputs": [],
   "source": []
  },
  {
   "cell_type": "code",
   "execution_count": 21,
   "metadata": {},
   "outputs": [],
   "source": [
    "train_dataset_nomatch, train_dataset_match = train_test_split(train_dataset, test_size=0.16, random_state=42)"
   ]
  },
  {
   "cell_type": "code",
   "execution_count": null,
   "metadata": {},
   "outputs": [],
   "source": [
    "# final_train_dataset = []\n",
    "\n",
    "# for article in tqdm(train_dataset):\n",
    "    \n",
    "#     articleID = article[0]\n",
    "#     articleTitle = article[1]\n",
    "#     articleText = article[2]\n",
    "#     meta_description = article[3]\n",
    "#     keywords = article[5]\n",
    "    \n",
    "#     catch = articleTitle+\" \"+meta_description+\" \"+keywords\n",
    "    \n",
    "#     #getting the table title match\n",
    "#     contMatch = 0\n",
    "#     contNonMatch = 0\n",
    "#     result = searchIndexingNoMatch(articleTitle)\n",
    "#     max_score = result['hits']['max_score']\n",
    "    \n",
    "#     for hit in result['hits']['hits']:\n",
    "    \n",
    "#         tableID = hit['_source']['tablePgID']\n",
    "#         tableTitle = (hit['_source']['tablePgTitle'])\n",
    "#         tableSectionTitle = (hit['_source']['tableSectionTitle'])\n",
    "#         tableCaption = (hit['_source']['tableCaption'])\n",
    "#         tableHeader = (hit['_source']['tableHeader'])\n",
    "#         tableBody = (hit['_source']['tableBody'])\n",
    "#         table_score = hit['_score']\n",
    "        \n",
    "#         normalized_score = table_score/max_score\n",
    "        \n",
    "#         if (articleID == tableID) and (normalized_score >= 0.7): \n",
    "            \n",
    "#             if contMatch < 1:\n",
    "            \n",
    "#                 tableIDMatch = tableID\n",
    "#                 tableTitleMatch = tableTitle\n",
    "#                 tableSectionTitleMatch = tableSectionTitle\n",
    "#                 tableCaptionMatch = tableCaption\n",
    "#                 tableHeaderMatch = tableHeader\n",
    "#                 tableBodyMatch = tableBody\n",
    "    \n",
    "#                 final_train_dataset.append([articleID,articleTitle, meta_description, keywords, tableIDMatch, tableTitleMatch,1])\n",
    "                \n",
    "#                 contMatch = contMatch + 1\n",
    "                \n",
    "#             else:\n",
    "                \n",
    "#                 contMatch = 0\n",
    "#                 break\n",
    "        \n",
    "#         if (articleID != tableID) and (normalized_score < 0.3): \n",
    "            \n",
    "#             if contNonMatch < 10:\n",
    "                \n",
    "#                 tableIDNoMatch = tableID\n",
    "#                 tableTitleNoMatch = tableTitle\n",
    "#                 tableSectionTitleNoMatch = tableSectionTitle\n",
    "#                 tableCaptionNoMatch = tableCaption\n",
    "#                 tableHeaderNoMatch = tableHeader\n",
    "#                 tableBodyNoMatch = tableBody\n",
    "\n",
    "#                 final_train_dataset.append([articleID,articleTitle, meta_description, keywords,  tableIDNoMatch,tableTitleNoMatch,0])\n",
    "                \n",
    "#                 contNonMatch = contNonMatch + 1\n",
    "#             else:\n",
    "                \n",
    "#                 contNonMatch = 0\n",
    "#                 break\n",
    "               "
   ]
  },
  {
   "cell_type": "code",
   "execution_count": 22,
   "metadata": {},
   "outputs": [
    {
     "name": "stderr",
     "output_type": "stream",
     "text": [
      "100%|██████████| 28063/28063 [25:32<00:00, 18.32it/s]\n"
     ]
    }
   ],
   "source": [
    "final_train_dataset = []\n",
    "\n",
    "for article in tqdm(train_dataset_match):\n",
    "    \n",
    "    articleID = article[0]\n",
    "    articleTitle = article[1]\n",
    "    articleText = article[2]\n",
    "    meta_description = article[3]\n",
    "    keywords = article[5]\n",
    "    \n",
    "    catch = articleTitle+\" \"+meta_description+\" \"+keywords\n",
    "    \n",
    "    #getting the table title match\n",
    "    contMatch = 0\n",
    "    contNonMatch = 0\n",
    "    result = searchIndexingNoMatch(articleTitle)\n",
    "    max_score = result['hits']['max_score']\n",
    "    \n",
    "    for hit in result['hits']['hits']:\n",
    "    \n",
    "        tableID = hit['_source']['tablePgID']\n",
    "        tableTitle = (hit['_source']['tablePgTitle'])\n",
    "        tableSectionTitle = (hit['_source']['tableSectionTitle'])\n",
    "        tableCaption = (hit['_source']['tableCaption'])\n",
    "        tableHeader = (hit['_source']['tableHeader'])\n",
    "        tableBody = (hit['_source']['tableBody'])\n",
    "        table_score = hit['_score']\n",
    "        \n",
    "        normalized_score = table_score/max_score\n",
    "        \n",
    "        if (articleID == tableID) and (normalized_score >= 0.7): \n",
    "            \n",
    "            if contMatch < 1:\n",
    "            \n",
    "                tableIDMatch = tableID\n",
    "                tableTitleMatch = tableTitle\n",
    "                tableSectionTitleMatch = tableSectionTitle\n",
    "                tableCaptionMatch = tableCaption\n",
    "                tableHeaderMatch = tableHeader\n",
    "                tableBodyMatch = tableBody\n",
    "    \n",
    "                final_train_dataset.append([articleID,articleTitle, meta_description, keywords, tableIDMatch, tableTitleMatch,1])\n",
    "                \n",
    "                contMatch = contMatch + 1\n",
    "                \n",
    "            else:\n",
    "                \n",
    "                contMatch = 0\n",
    "                break\n",
    "        "
   ]
  },
  {
   "cell_type": "code",
   "execution_count": 23,
   "metadata": {},
   "outputs": [
    {
     "data": {
      "text/plain": [
       "10126"
      ]
     },
     "execution_count": 23,
     "metadata": {},
     "output_type": "execute_result"
    }
   ],
   "source": [
    "len(final_train_dataset)"
   ]
  },
  {
   "cell_type": "code",
   "execution_count": 24,
   "metadata": {},
   "outputs": [
    {
     "name": "stderr",
     "output_type": "stream",
     "text": [
      "100%|██████████| 50630/50630 [12:01<00:00, 70.16it/s] \n"
     ]
    }
   ],
   "source": [
    "for article in tqdm(train_dataset_nomatch[0:50630]):\n",
    "    \n",
    "    articleID = article[0]\n",
    "    articleTitle = article[1]\n",
    "    articleText = article[2]\n",
    "    meta_description = article[3]\n",
    "    keywords = article[5]\n",
    "    \n",
    "    catch = articleTitle+\" \"+meta_description+\" \"+keywords\n",
    "    \n",
    "    #getting the table title match\n",
    "    contMatch = 0\n",
    "    contNonMatch = 0\n",
    "    result = search_index_random()\n",
    "    max_score = result['hits']['max_score']\n",
    "    \n",
    "    for hit in result['hits']['hits']:\n",
    "    \n",
    "        tableID = hit['_source']['tablePgID']\n",
    "        tableTitle = (hit['_source']['tablePgTitle'])\n",
    "        tableSectionTitle = (hit['_source']['tableSectionTitle'])\n",
    "        tableCaption = (hit['_source']['tableCaption'])\n",
    "        tableHeader = (hit['_source']['tableHeader'])\n",
    "        tableBody = (hit['_source']['tableBody'])\n",
    "        table_score = hit['_score']\n",
    "        \n",
    "        normalized_score = table_score/max_score \n",
    "        \n",
    "        if (articleID != tableID): \n",
    "            \n",
    "            if contNonMatch < 1:\n",
    "                \n",
    "                tableIDNoMatch = tableID\n",
    "                tableTitleNoMatch = tableTitle\n",
    "                tableSectionTitleNoMatch = tableSectionTitle\n",
    "                tableCaptionNoMatch = tableCaption\n",
    "                tableHeaderNoMatch = tableHeader\n",
    "                tableBodyNoMatch = tableBody\n",
    "\n",
    "                final_train_dataset.append([articleID,articleTitle, meta_description, keywords,  tableIDNoMatch,tableTitleNoMatch,0])\n",
    "                \n",
    "                contNonMatch = contNonMatch + 1\n",
    "            else:\n",
    "                \n",
    "                contNonMatch = 0\n",
    "                break\n",
    "               "
   ]
  },
  {
   "cell_type": "code",
   "execution_count": null,
   "metadata": {},
   "outputs": [],
   "source": []
  },
  {
   "cell_type": "code",
   "execution_count": null,
   "metadata": {},
   "outputs": [],
   "source": []
  },
  {
   "cell_type": "code",
   "execution_count": null,
   "metadata": {},
   "outputs": [],
   "source": []
  },
  {
   "cell_type": "code",
   "execution_count": null,
   "metadata": {},
   "outputs": [],
   "source": []
  },
  {
   "cell_type": "code",
   "execution_count": null,
   "metadata": {},
   "outputs": [],
   "source": []
  },
  {
   "cell_type": "code",
   "execution_count": 25,
   "metadata": {},
   "outputs": [],
   "source": [
    "len_train = len(final_train_dataset)"
   ]
  },
  {
   "cell_type": "code",
   "execution_count": 26,
   "metadata": {},
   "outputs": [
    {
     "data": {
      "text/plain": [
       "60756"
      ]
     },
     "execution_count": 26,
     "metadata": {},
     "output_type": "execute_result"
    }
   ],
   "source": [
    "len_train"
   ]
  },
  {
   "cell_type": "code",
   "execution_count": 27,
   "metadata": {},
   "outputs": [
    {
     "name": "stderr",
     "output_type": "stream",
     "text": [
      "100%|██████████| 60756/60756 [00:01<00:00, 56800.23it/s]\n"
     ]
    }
   ],
   "source": [
    "with open('train_dataset_random_1_5', 'w') as myfile:\n",
    "          \n",
    "    wr = csv.writer(myfile, quoting=csv.QUOTE_ALL)\n",
    "\n",
    "    for i in tqdm(range(0,len_train)):\n",
    "    \n",
    "        articlePgID = final_train_dataset[i][0]\n",
    "        articleTitle = str(final_train_dataset[i][1])\n",
    "        article_meta_description = str(final_train_dataset[i][2])\n",
    "        article_keywords = str(final_train_dataset[i][3])\n",
    "        tableID = final_train_dataset[i][4]\n",
    "        tableTitle = str(final_train_dataset[i][5])\n",
    "        match = final_train_dataset[i][6]\n",
    "        \n",
    "        row = [articlePgID, articleTitle, article_meta_description, article_keywords, tableID, tableTitle, match]\n",
    "        \n",
    "        wr.writerow(row)"
   ]
  },
  {
   "cell_type": "code",
   "execution_count": null,
   "metadata": {},
   "outputs": [],
   "source": []
  },
  {
   "cell_type": "code",
   "execution_count": null,
   "metadata": {},
   "outputs": [],
   "source": []
  },
  {
   "cell_type": "code",
   "execution_count": null,
   "metadata": {},
   "outputs": [],
   "source": []
  },
  {
   "cell_type": "code",
   "execution_count": null,
   "metadata": {},
   "outputs": [],
   "source": []
  },
  {
   "cell_type": "code",
   "execution_count": null,
   "metadata": {},
   "outputs": [],
   "source": []
  },
  {
   "cell_type": "code",
   "execution_count": null,
   "metadata": {},
   "outputs": [],
   "source": []
  }
 ],
 "metadata": {
  "kernelspec": {
   "display_name": "Python 3",
   "language": "python",
   "name": "python3"
  },
  "language_info": {
   "codemirror_mode": {
    "name": "ipython",
    "version": 3
   },
   "file_extension": ".py",
   "mimetype": "text/x-python",
   "name": "python",
   "nbconvert_exporter": "python",
   "pygments_lexer": "ipython3",
   "version": "3.7.3"
  }
 },
 "nbformat": 4,
 "nbformat_minor": 2
}
