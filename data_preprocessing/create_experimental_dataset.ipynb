{
 "cells": [
  {
   "cell_type": "code",
   "execution_count": 37,
   "metadata": {},
   "outputs": [],
   "source": [
    "from tqdm import tqdm\n",
    "import numpy as np\n",
    "import pandas as pd\n",
    "from lxml import html\n",
    "import requests\n",
    "import re\n",
    "import csv\n",
    "from elasticsearch import Elasticsearch\n",
    "from elasticsearch import helpers\n",
    "indexingTables = Elasticsearch()\n",
    "from sklearn.model_selection import train_test_split"
   ]
  },
  {
   "cell_type": "code",
   "execution_count": 38,
   "metadata": {},
   "outputs": [],
   "source": [
    "import nltk\n",
    "from nltk.corpus import stopwords\n",
    "from nltk.tokenize import word_tokenize\n",
    "stop_words = set(stopwords.words('english')) "
   ]
  },
  {
   "cell_type": "code",
   "execution_count": 39,
   "metadata": {},
   "outputs": [],
   "source": [
    "def removeStopwords(example_sent):\n",
    "    \n",
    "    word_tokens = word_tokenize(example_sent) \n",
    "  \n",
    "    filtered_sentence = [w for w in word_tokens if not w in stop_words] \n",
    "  \n",
    "    filtered_sentence = [] \n",
    "  \n",
    "    for w in word_tokens: \n",
    "        if w not in stop_words: \n",
    "            filtered_sentence.append(w)\n",
    "    \n",
    "    formattedText = \"\"\n",
    "\n",
    "    for word in filtered_sentence:\n",
    "        \n",
    "        if (len(word)>2):\n",
    "            \n",
    "            formattedText = formattedText + \" \" +word\n",
    "    \n",
    "    \n",
    "    formattedText = formattedText.lstrip()\n",
    "    \n",
    "    formattedText = formattedText.rstrip()\n",
    "        \n",
    "    return formattedText.lower()"
   ]
  },
  {
   "cell_type": "code",
   "execution_count": null,
   "metadata": {},
   "outputs": [],
   "source": [
    "articles = pd.read_csv('../dataset/formatted_data_articles_notnull', delimiter=',', header=None)\n",
    "dataArticles = articles.iloc[:,:].values"
   ]
  },
  {
   "cell_type": "code",
   "execution_count": null,
   "metadata": {},
   "outputs": [],
   "source": [
    "distinctArticlesIDs = []\n",
    "distinctArticles = []\n",
    "\n",
    "for articles in tqdm(dataArticles):\n",
    "    \n",
    "    articlePgID = articles[0]\n",
    "    \n",
    "    if articlePgID not in distinctArticlesIDs:\n",
    "        \n",
    "        distinctArticlesIDs.append(articlePgID)\n",
    "        \n",
    "        distinctArticles.append(articles)"
   ]
  },
  {
   "cell_type": "code",
   "execution_count": null,
   "metadata": {},
   "outputs": [],
   "source": [
    "len(distinctArticles)"
   ]
  },
  {
   "cell_type": "code",
   "execution_count": null,
   "metadata": {},
   "outputs": [],
   "source": [
    "with open('distinct_formatted_articles_notnull', 'w') as myfile:\n",
    "        \n",
    "    wr = csv.writer(myfile, quoting=csv.QUOTE_ALL)\n",
    "\n",
    "    for articles in tqdm(distinctArticles):\n",
    "        \n",
    "        wr.writerow(articles)"
   ]
  },
  {
   "cell_type": "code",
   "execution_count": null,
   "metadata": {},
   "outputs": [],
   "source": []
  },
  {
   "cell_type": "code",
   "execution_count": 40,
   "metadata": {},
   "outputs": [],
   "source": [
    "#distinctArticles = pd.read_csv('../dataset/distinct_formatted_articles_notnull', delimiter=',', header=None)\n",
    "#dataDistinctArticles = distinctArticles.iloc[:,:].values\n",
    "\n",
    "distinctArticles = pd.read_csv('../dataset/formatted_data_articles_notnull', delimiter=',', header=None)\n",
    "dataDistinctArticles = distinctArticles.iloc[:,:].values"
   ]
  },
  {
   "cell_type": "code",
   "execution_count": 41,
   "metadata": {},
   "outputs": [
    {
     "data": {
      "text/plain": [
       "205133"
      ]
     },
     "execution_count": 41,
     "metadata": {},
     "output_type": "execute_result"
    }
   ],
   "source": [
    "len(distinctArticles)"
   ]
  },
  {
   "cell_type": "code",
   "execution_count": null,
   "metadata": {},
   "outputs": [],
   "source": []
  },
  {
   "cell_type": "markdown",
   "metadata": {},
   "source": [
    "## Shuffle the data in train, validation and test"
   ]
  },
  {
   "cell_type": "code",
   "execution_count": 42,
   "metadata": {},
   "outputs": [],
   "source": [
    "x_train, test_dataset = train_test_split(dataDistinctArticles, test_size=0.10, random_state=42)"
   ]
  },
  {
   "cell_type": "code",
   "execution_count": null,
   "metadata": {},
   "outputs": [],
   "source": []
  },
  {
   "cell_type": "markdown",
   "metadata": {},
   "source": [
    "## creating the test dataset"
   ]
  },
  {
   "cell_type": "code",
   "execution_count": 43,
   "metadata": {},
   "outputs": [
    {
     "name": "stderr",
     "output_type": "stream",
     "text": [
      "100%|██████████| 20514/20514 [00:00<00:00, 24713.88it/s]\n"
     ]
    }
   ],
   "source": [
    "with open('test_dataset_all', 'w') as myfile:\n",
    "          \n",
    "    wr = csv.writer(myfile, quoting=csv.QUOTE_ALL)\n",
    "\n",
    "    for article in tqdm(test_dataset):\n",
    "        \n",
    "        wr.writerow(article)"
   ]
  },
  {
   "cell_type": "markdown",
   "metadata": {},
   "source": [
    "## creating the train dataset"
   ]
  },
  {
   "cell_type": "code",
   "execution_count": 44,
   "metadata": {},
   "outputs": [
    {
     "name": "stderr",
     "output_type": "stream",
     "text": [
      "100%|██████████| 184619/184619 [00:07<00:00, 25041.25it/s]\n"
     ]
    }
   ],
   "source": [
    "with open('train_dataset_all', 'w') as myfile:\n",
    "          \n",
    "    wr = csv.writer(myfile, quoting=csv.QUOTE_ALL)\n",
    "\n",
    "    for article in tqdm(x_train):\n",
    "        \n",
    "        wr.writerow(article)"
   ]
  },
  {
   "cell_type": "code",
   "execution_count": null,
   "metadata": {},
   "outputs": [],
   "source": []
  },
  {
   "cell_type": "code",
   "execution_count": null,
   "metadata": {},
   "outputs": [],
   "source": []
  },
  {
   "cell_type": "code",
   "execution_count": null,
   "metadata": {},
   "outputs": [],
   "source": []
  },
  {
   "cell_type": "code",
   "execution_count": null,
   "metadata": {},
   "outputs": [],
   "source": []
  },
  {
   "cell_type": "code",
   "execution_count": null,
   "metadata": {},
   "outputs": [],
   "source": []
  },
  {
   "cell_type": "code",
   "execution_count": null,
   "metadata": {},
   "outputs": [],
   "source": []
  },
  {
   "cell_type": "code",
   "execution_count": 45,
   "metadata": {},
   "outputs": [],
   "source": [
    "read = pd.read_csv('../dataset/train_dataset_all', delimiter=',', header=None)\n",
    "train_data_articles = read.iloc[:,:].values"
   ]
  },
  {
   "cell_type": "code",
   "execution_count": 46,
   "metadata": {},
   "outputs": [],
   "source": [
    "train_dataset, validation_dataset = train_test_split(train_data_articles, test_size=0.05, random_state=42)"
   ]
  },
  {
   "cell_type": "code",
   "execution_count": null,
   "metadata": {},
   "outputs": [],
   "source": []
  },
  {
   "cell_type": "code",
   "execution_count": 4,
   "metadata": {},
   "outputs": [],
   "source": [
    "def searchIndexingMatch(articleID):\n",
    "    \n",
    "    result= indexingTables.search(\n",
    "        index=\"tables\", \n",
    "        body = {\n",
    "        \"_source\": [\"tablePgID\",\"tablePgTitle\",\"tableSectionTitle\",\"tableCaption\",\"tableHeader\",\"tableBody\"],\n",
    "        \"from\" : 0,\n",
    "        \"size\" : 1,\n",
    "        \"query\": {\n",
    "            \"match\" : {\n",
    "                \"tablePgID\" : {\n",
    "                    \"query\" : articleID\n",
    "                    }\n",
    "                }\n",
    "        }\n",
    "    })\n",
    "    \n",
    "    return result"
   ]
  },
  {
   "cell_type": "code",
   "execution_count": 47,
   "metadata": {},
   "outputs": [],
   "source": [
    "def searchIndexingNoMatch(articleTitle):\n",
    "    \n",
    "    result= indexingTables.search(\n",
    "        index=\"tables\", \n",
    "        body = {\n",
    "        \"_source\": [\"tablePgID\",\"tablePgTitle\",\"tableSectionTitle\",\"tableCaption\",\"tableHeader\",\"tableBody\"],\n",
    "        \"from\" : 0,\n",
    "        \"size\" : 1000,\n",
    "        \"query\": {\n",
    "            \"multi_match\":{\n",
    "              \"type\": \"most_fields\",\n",
    "              \"query\":    articleTitle, \n",
    "              \"fields\": [\"tablePgTitle\"] \n",
    "            }\n",
    "        }\n",
    "    })\n",
    "    \n",
    "    return result"
   ]
  },
  {
   "cell_type": "code",
   "execution_count": null,
   "metadata": {},
   "outputs": [],
   "source": []
  },
  {
   "cell_type": "code",
   "execution_count": null,
   "metadata": {},
   "outputs": [],
   "source": []
  },
  {
   "cell_type": "code",
   "execution_count": null,
   "metadata": {},
   "outputs": [],
   "source": []
  },
  {
   "cell_type": "code",
   "execution_count": null,
   "metadata": {},
   "outputs": [],
   "source": []
  },
  {
   "cell_type": "markdown",
   "metadata": {},
   "source": [
    "## creating the validation dataset"
   ]
  },
  {
   "cell_type": "code",
   "execution_count": null,
   "metadata": {},
   "outputs": [],
   "source": []
  },
  {
   "cell_type": "code",
   "execution_count": 48,
   "metadata": {},
   "outputs": [
    {
     "name": "stderr",
     "output_type": "stream",
     "text": [
      "100%|██████████| 9231/9231 [02:27<00:00, 62.60it/s]\n"
     ]
    }
   ],
   "source": [
    "final_validation_dataset = []\n",
    "\n",
    "for article in tqdm(validation_dataset):\n",
    "    \n",
    "    articleID = article[0]\n",
    "    articleTitle = article[1]\n",
    "    articleText = article[2]\n",
    "    \n",
    "    #getting the table title match\n",
    "    contMatch = 0\n",
    "    contNonMatch = 0\n",
    "    result = searchIndexingNoMatch(articleTitle)\n",
    "    max_score = result['hits']['max_score']\n",
    "    \n",
    "    \n",
    "    for hit in result['hits']['hits']:\n",
    "    \n",
    "        tableID = hit['_source']['tablePgID']\n",
    "        tableTitle = (hit['_source']['tablePgTitle'])\n",
    "        tableSectionTitle = (hit['_source']['tableSectionTitle'])\n",
    "        tableCaption = (hit['_source']['tableCaption'])\n",
    "        tableHeader = (hit['_source']['tableHeader'])\n",
    "        tableBody = (hit['_source']['tableBody'])\n",
    "        table_score = hit['_score']\n",
    "        \n",
    "        normalized_score = table_score/max_score\n",
    "        \n",
    "        #getting match data\n",
    "        if (articleID == tableID) and (normalized_score >= 0.8): \n",
    "            \n",
    "            if contMatch < 1:\n",
    "            \n",
    "                tableIDMatch = tableID\n",
    "                tableTitleMatch = tableTitle\n",
    "                tableSectionTitleMatch = tableSectionTitle\n",
    "                tableCaptionMatch = tableCaption\n",
    "                tableHeaderMatch = tableHeader\n",
    "                tableBodyMatch = tableBody\n",
    "    \n",
    "                final_validation_dataset.append([articleID,articleTitle, tableIDMatch, tableTitleMatch,1])\n",
    "                \n",
    "                contMatch = contMatch + 1\n",
    "                \n",
    "            else:\n",
    "                \n",
    "                contMatch = 0\n",
    "                break\n",
    "                \n",
    "        \n",
    "        #getting the table title non-match\n",
    "        if (articleID != tableID) and (normalized_score < 0.3): \n",
    "            \n",
    "            if contNonMatch < 5:\n",
    "                \n",
    "                tableIDNoMatch = tableID\n",
    "                tableTitleNoMatch = tableTitle\n",
    "                tableSectionTitleNoMatch = tableSectionTitle\n",
    "                tableCaptionNoMatch = tableCaption\n",
    "                tableHeaderNoMatch = tableHeader\n",
    "                tableBodyNoMatch = tableBody\n",
    "\n",
    "                final_validation_dataset.append([articleID,articleTitle, tableIDNoMatch,tableTitleNoMatch,0])\n",
    "                \n",
    "                contNonMatch = contNonMatch + 1\n",
    "            else:\n",
    "                \n",
    "                contNonMatch = 0\n",
    "                break\n",
    "                        "
   ]
  },
  {
   "cell_type": "code",
   "execution_count": null,
   "metadata": {},
   "outputs": [],
   "source": []
  },
  {
   "cell_type": "code",
   "execution_count": 49,
   "metadata": {},
   "outputs": [],
   "source": [
    "len_validation  = len(final_validation_dataset)"
   ]
  },
  {
   "cell_type": "code",
   "execution_count": 50,
   "metadata": {},
   "outputs": [
    {
     "data": {
      "text/plain": [
       "16632"
      ]
     },
     "execution_count": 50,
     "metadata": {},
     "output_type": "execute_result"
    }
   ],
   "source": [
    "len_validation"
   ]
  },
  {
   "cell_type": "code",
   "execution_count": 51,
   "metadata": {},
   "outputs": [
    {
     "name": "stderr",
     "output_type": "stream",
     "text": [
      "100%|██████████| 16632/16632 [00:00<00:00, 321652.46it/s]\n"
     ]
    }
   ],
   "source": [
    "with open('validation_dataset_1_5_all', 'w') as myfile:\n",
    "          \n",
    "    wr = csv.writer(myfile, quoting=csv.QUOTE_ALL)\n",
    "\n",
    "    for i in tqdm(range(0,len_validation)):\n",
    "    \n",
    "        articlePgID = final_validation_dataset[i][0]\n",
    "        articleTitle = str(final_validation_dataset[i][1])\n",
    "        #articleText = str(final_validation_dataset[i][2])\n",
    "        \n",
    "        tableID = final_validation_dataset[i][2]\n",
    "        tableTitle = str(final_validation_dataset[i][3])\n",
    "        #tableSectionTitle = str(final_validation_dataset[i][5])\n",
    "        #tableCaption = str(final_validation_dataset[i][6])\n",
    "        #tableHeader = str(final_validation_dataset[i][7])\n",
    "        #tableBody = str(final_validation_dataset[i][8])\n",
    "        match = final_validation_dataset[i][4]\n",
    "        \n",
    "        row = [articlePgID,articleTitle, tableID, tableTitle, match]\n",
    "        \n",
    "        wr.writerow(row)"
   ]
  },
  {
   "cell_type": "code",
   "execution_count": null,
   "metadata": {},
   "outputs": [],
   "source": []
  },
  {
   "cell_type": "markdown",
   "metadata": {},
   "source": [
    "## creating the train dataset"
   ]
  },
  {
   "cell_type": "code",
   "execution_count": null,
   "metadata": {},
   "outputs": [],
   "source": [
    "# train_dataset = []\n",
    "\n",
    "# for articles in tqdm(dataDistinctArticles[9902:len(dataDistinctArticles)]):\n",
    "    \n",
    "#     train_dataset.append(articles)"
   ]
  },
  {
   "cell_type": "code",
   "execution_count": 52,
   "metadata": {},
   "outputs": [
    {
     "name": "stderr",
     "output_type": "stream",
     "text": [
      "  7%|▋         | 12304/175388 [02:43<57:39, 47.13it/s]  "
     ]
    },
    {
     "ename": "RequestError",
     "evalue": "RequestError(400, 'index_closed_exception', 'closed')",
     "output_type": "error",
     "traceback": [
      "\u001b[0;31m---------------------------------------------------------------------------\u001b[0m",
      "\u001b[0;31mRequestError\u001b[0m                              Traceback (most recent call last)",
      "\u001b[0;32m<ipython-input-52-9e6470c83974>\u001b[0m in \u001b[0;36m<module>\u001b[0;34m\u001b[0m\n\u001b[1;32m     10\u001b[0m     \u001b[0mcontMatch\u001b[0m \u001b[0;34m=\u001b[0m \u001b[0;36m0\u001b[0m\u001b[0;34m\u001b[0m\u001b[0;34m\u001b[0m\u001b[0m\n\u001b[1;32m     11\u001b[0m     \u001b[0mcontNonMatch\u001b[0m \u001b[0;34m=\u001b[0m \u001b[0;36m0\u001b[0m\u001b[0;34m\u001b[0m\u001b[0;34m\u001b[0m\u001b[0m\n\u001b[0;32m---> 12\u001b[0;31m     \u001b[0mresult\u001b[0m \u001b[0;34m=\u001b[0m \u001b[0msearchIndexingNoMatch\u001b[0m\u001b[0;34m(\u001b[0m\u001b[0marticleTitle\u001b[0m\u001b[0;34m)\u001b[0m\u001b[0;34m\u001b[0m\u001b[0;34m\u001b[0m\u001b[0m\n\u001b[0m\u001b[1;32m     13\u001b[0m     \u001b[0mmax_score\u001b[0m \u001b[0;34m=\u001b[0m \u001b[0mresult\u001b[0m\u001b[0;34m[\u001b[0m\u001b[0;34m'hits'\u001b[0m\u001b[0;34m]\u001b[0m\u001b[0;34m[\u001b[0m\u001b[0;34m'max_score'\u001b[0m\u001b[0;34m]\u001b[0m\u001b[0;34m\u001b[0m\u001b[0;34m\u001b[0m\u001b[0m\n\u001b[1;32m     14\u001b[0m \u001b[0;34m\u001b[0m\u001b[0m\n",
      "\u001b[0;32m<ipython-input-47-936ea54f1d7d>\u001b[0m in \u001b[0;36msearchIndexingNoMatch\u001b[0;34m(articleTitle)\u001b[0m\n\u001b[1;32m     11\u001b[0m               \u001b[0;34m\"type\"\u001b[0m\u001b[0;34m:\u001b[0m \u001b[0;34m\"most_fields\"\u001b[0m\u001b[0;34m,\u001b[0m\u001b[0;34m\u001b[0m\u001b[0;34m\u001b[0m\u001b[0m\n\u001b[1;32m     12\u001b[0m               \u001b[0;34m\"query\"\u001b[0m\u001b[0;34m:\u001b[0m    \u001b[0marticleTitle\u001b[0m\u001b[0;34m,\u001b[0m\u001b[0;34m\u001b[0m\u001b[0;34m\u001b[0m\u001b[0m\n\u001b[0;32m---> 13\u001b[0;31m               \u001b[0;34m\"fields\"\u001b[0m\u001b[0;34m:\u001b[0m \u001b[0;34m[\u001b[0m\u001b[0;34m\"tablePgTitle\"\u001b[0m\u001b[0;34m]\u001b[0m\u001b[0;34m\u001b[0m\u001b[0;34m\u001b[0m\u001b[0m\n\u001b[0m\u001b[1;32m     14\u001b[0m             }\n\u001b[1;32m     15\u001b[0m         }\n",
      "\u001b[0;32m~/anaconda3/lib/python3.7/site-packages/elasticsearch/client/utils.py\u001b[0m in \u001b[0;36m_wrapped\u001b[0;34m(*args, **kwargs)\u001b[0m\n\u001b[1;32m     82\u001b[0m                 \u001b[0;32mif\u001b[0m \u001b[0mp\u001b[0m \u001b[0;32min\u001b[0m \u001b[0mkwargs\u001b[0m\u001b[0;34m:\u001b[0m\u001b[0;34m\u001b[0m\u001b[0;34m\u001b[0m\u001b[0m\n\u001b[1;32m     83\u001b[0m                     \u001b[0mparams\u001b[0m\u001b[0;34m[\u001b[0m\u001b[0mp\u001b[0m\u001b[0;34m]\u001b[0m \u001b[0;34m=\u001b[0m \u001b[0mkwargs\u001b[0m\u001b[0;34m.\u001b[0m\u001b[0mpop\u001b[0m\u001b[0;34m(\u001b[0m\u001b[0mp\u001b[0m\u001b[0;34m)\u001b[0m\u001b[0;34m\u001b[0m\u001b[0;34m\u001b[0m\u001b[0m\n\u001b[0;32m---> 84\u001b[0;31m             \u001b[0;32mreturn\u001b[0m \u001b[0mfunc\u001b[0m\u001b[0;34m(\u001b[0m\u001b[0;34m*\u001b[0m\u001b[0margs\u001b[0m\u001b[0;34m,\u001b[0m \u001b[0mparams\u001b[0m\u001b[0;34m=\u001b[0m\u001b[0mparams\u001b[0m\u001b[0;34m,\u001b[0m \u001b[0;34m**\u001b[0m\u001b[0mkwargs\u001b[0m\u001b[0;34m)\u001b[0m\u001b[0;34m\u001b[0m\u001b[0;34m\u001b[0m\u001b[0m\n\u001b[0m\u001b[1;32m     85\u001b[0m \u001b[0;34m\u001b[0m\u001b[0m\n\u001b[1;32m     86\u001b[0m         \u001b[0;32mreturn\u001b[0m \u001b[0m_wrapped\u001b[0m\u001b[0;34m\u001b[0m\u001b[0;34m\u001b[0m\u001b[0m\n",
      "\u001b[0;32m~/anaconda3/lib/python3.7/site-packages/elasticsearch/client/__init__.py\u001b[0m in \u001b[0;36msearch\u001b[0;34m(self, index, body, params)\u001b[0m\n\u001b[1;32m    817\u001b[0m             \u001b[0mindex\u001b[0m \u001b[0;34m=\u001b[0m \u001b[0;34m\"_all\"\u001b[0m\u001b[0;34m\u001b[0m\u001b[0;34m\u001b[0m\u001b[0m\n\u001b[1;32m    818\u001b[0m         return self.transport.perform_request(\n\u001b[0;32m--> 819\u001b[0;31m             \u001b[0;34m\"GET\"\u001b[0m\u001b[0;34m,\u001b[0m \u001b[0m_make_path\u001b[0m\u001b[0;34m(\u001b[0m\u001b[0mindex\u001b[0m\u001b[0;34m,\u001b[0m \u001b[0;34m\"_search\"\u001b[0m\u001b[0;34m)\u001b[0m\u001b[0;34m,\u001b[0m \u001b[0mparams\u001b[0m\u001b[0;34m=\u001b[0m\u001b[0mparams\u001b[0m\u001b[0;34m,\u001b[0m \u001b[0mbody\u001b[0m\u001b[0;34m=\u001b[0m\u001b[0mbody\u001b[0m\u001b[0;34m\u001b[0m\u001b[0;34m\u001b[0m\u001b[0m\n\u001b[0m\u001b[1;32m    820\u001b[0m         )\n\u001b[1;32m    821\u001b[0m \u001b[0;34m\u001b[0m\u001b[0m\n",
      "\u001b[0;32m~/anaconda3/lib/python3.7/site-packages/elasticsearch/transport.py\u001b[0m in \u001b[0;36mperform_request\u001b[0;34m(self, method, url, headers, params, body)\u001b[0m\n\u001b[1;32m    351\u001b[0m                     \u001b[0mheaders\u001b[0m\u001b[0;34m=\u001b[0m\u001b[0mheaders\u001b[0m\u001b[0;34m,\u001b[0m\u001b[0;34m\u001b[0m\u001b[0;34m\u001b[0m\u001b[0m\n\u001b[1;32m    352\u001b[0m                     \u001b[0mignore\u001b[0m\u001b[0;34m=\u001b[0m\u001b[0mignore\u001b[0m\u001b[0;34m,\u001b[0m\u001b[0;34m\u001b[0m\u001b[0;34m\u001b[0m\u001b[0m\n\u001b[0;32m--> 353\u001b[0;31m                     \u001b[0mtimeout\u001b[0m\u001b[0;34m=\u001b[0m\u001b[0mtimeout\u001b[0m\u001b[0;34m,\u001b[0m\u001b[0;34m\u001b[0m\u001b[0;34m\u001b[0m\u001b[0m\n\u001b[0m\u001b[1;32m    354\u001b[0m                 )\n\u001b[1;32m    355\u001b[0m \u001b[0;34m\u001b[0m\u001b[0m\n",
      "\u001b[0;32m~/anaconda3/lib/python3.7/site-packages/elasticsearch/connection/http_urllib3.py\u001b[0m in \u001b[0;36mperform_request\u001b[0;34m(self, method, url, params, body, timeout, ignore, headers)\u001b[0m\n\u001b[1;32m    249\u001b[0m                 \u001b[0mmethod\u001b[0m\u001b[0;34m,\u001b[0m \u001b[0mfull_url\u001b[0m\u001b[0;34m,\u001b[0m \u001b[0murl\u001b[0m\u001b[0;34m,\u001b[0m \u001b[0mbody\u001b[0m\u001b[0;34m,\u001b[0m \u001b[0mduration\u001b[0m\u001b[0;34m,\u001b[0m \u001b[0mresponse\u001b[0m\u001b[0;34m.\u001b[0m\u001b[0mstatus\u001b[0m\u001b[0;34m,\u001b[0m \u001b[0mraw_data\u001b[0m\u001b[0;34m\u001b[0m\u001b[0;34m\u001b[0m\u001b[0m\n\u001b[1;32m    250\u001b[0m             )\n\u001b[0;32m--> 251\u001b[0;31m             \u001b[0mself\u001b[0m\u001b[0;34m.\u001b[0m\u001b[0m_raise_error\u001b[0m\u001b[0;34m(\u001b[0m\u001b[0mresponse\u001b[0m\u001b[0;34m.\u001b[0m\u001b[0mstatus\u001b[0m\u001b[0;34m,\u001b[0m \u001b[0mraw_data\u001b[0m\u001b[0;34m)\u001b[0m\u001b[0;34m\u001b[0m\u001b[0;34m\u001b[0m\u001b[0m\n\u001b[0m\u001b[1;32m    252\u001b[0m \u001b[0;34m\u001b[0m\u001b[0m\n\u001b[1;32m    253\u001b[0m         self.log_request_success(\n",
      "\u001b[0;32m~/anaconda3/lib/python3.7/site-packages/elasticsearch/connection/base.py\u001b[0m in \u001b[0;36m_raise_error\u001b[0;34m(self, status_code, raw_data)\u001b[0m\n\u001b[1;32m    176\u001b[0m \u001b[0;34m\u001b[0m\u001b[0m\n\u001b[1;32m    177\u001b[0m         raise HTTP_EXCEPTIONS.get(status_code, TransportError)(\n\u001b[0;32m--> 178\u001b[0;31m             \u001b[0mstatus_code\u001b[0m\u001b[0;34m,\u001b[0m \u001b[0merror_message\u001b[0m\u001b[0;34m,\u001b[0m \u001b[0madditional_info\u001b[0m\u001b[0;34m\u001b[0m\u001b[0;34m\u001b[0m\u001b[0m\n\u001b[0m\u001b[1;32m    179\u001b[0m         )\n",
      "\u001b[0;31mRequestError\u001b[0m: RequestError(400, 'index_closed_exception', 'closed')"
     ]
    }
   ],
   "source": [
    "final_train_dataset = []\n",
    "\n",
    "for article in tqdm(train_dataset):\n",
    "    \n",
    "    articleID = article[0]\n",
    "    articleTitle = article[1]\n",
    "    articleText = article[2]\n",
    "    \n",
    "    #getting the table title match\n",
    "    contMatch = 0\n",
    "    contNonMatch = 0\n",
    "    result = searchIndexingNoMatch(articleTitle)\n",
    "    max_score = result['hits']['max_score']\n",
    "    \n",
    "    for hit in result['hits']['hits']:\n",
    "    \n",
    "        tableID = hit['_source']['tablePgID']\n",
    "        tableTitle = (hit['_source']['tablePgTitle'])\n",
    "        tableSectionTitle = (hit['_source']['tableSectionTitle'])\n",
    "        tableCaption = (hit['_source']['tableCaption'])\n",
    "        tableHeader = (hit['_source']['tableHeader'])\n",
    "        tableBody = (hit['_source']['tableBody'])\n",
    "        table_score = hit['_score']\n",
    "        \n",
    "        normalized_score = table_score/max_score\n",
    "        \n",
    "        if (articleID == tableID) and (normalized_score >= 0.8): \n",
    "            \n",
    "            if contMatch < 1:\n",
    "            \n",
    "                tableIDMatch = tableID\n",
    "                tableTitleMatch = tableTitle\n",
    "                tableSectionTitleMatch = tableSectionTitle\n",
    "                tableCaptionMatch = tableCaption\n",
    "                tableHeaderMatch = tableHeader\n",
    "                tableBodyMatch = tableBody\n",
    "    \n",
    "                final_train_dataset.append([articleID,articleTitle, tableIDMatch, tableTitleMatch,1])\n",
    "                \n",
    "                contMatch = contMatch + 1\n",
    "                \n",
    "            else:\n",
    "                \n",
    "                contMatch = 0\n",
    "                break\n",
    "        \n",
    "        if (articleID != tableID) and (normalized_score < 0.3): \n",
    "            \n",
    "            if contNonMatch < 5:\n",
    "                \n",
    "                tableIDNoMatch = tableID\n",
    "                tableTitleNoMatch = tableTitle\n",
    "                tableSectionTitleNoMatch = tableSectionTitle\n",
    "                tableCaptionNoMatch = tableCaption\n",
    "                tableHeaderNoMatch = tableHeader\n",
    "                tableBodyNoMatch = tableBody\n",
    "\n",
    "                final_train_dataset.append([articleID,articleTitle, tableIDNoMatch,tableTitleNoMatch,0])\n",
    "                \n",
    "                contNonMatch = contNonMatch + 1\n",
    "            else:\n",
    "                \n",
    "                contNonMatch = 0\n",
    "                break\n",
    "               "
   ]
  },
  {
   "cell_type": "code",
   "execution_count": null,
   "metadata": {},
   "outputs": [],
   "source": [
    "len_train = len(final_train_dataset)"
   ]
  },
  {
   "cell_type": "code",
   "execution_count": null,
   "metadata": {},
   "outputs": [],
   "source": [
    "len_train"
   ]
  },
  {
   "cell_type": "code",
   "execution_count": null,
   "metadata": {},
   "outputs": [
    {
     "name": "stderr",
     "output_type": "stream",
     "text": [
      "\r",
      "  7%|▋         | 12304/175388 [03:00<57:39, 47.13it/s]"
     ]
    }
   ],
   "source": [
    "with open('train_dataset_1_5_all', 'w') as myfile:\n",
    "          \n",
    "    wr = csv.writer(myfile, quoting=csv.QUOTE_ALL)\n",
    "\n",
    "    for i in tqdm(range(0,len_train)):\n",
    "    \n",
    "        articlePgID = final_train_dataset[i][0]\n",
    "        articleTitle = str(final_train_dataset[i][1])\n",
    "        #articleText = str(final_train_dataset[i][2])\n",
    "        \n",
    "        tableID = final_train_dataset[i][2]\n",
    "        tableTitle = str(final_train_dataset[i][3])\n",
    "        #tableSectionTitle = str(final_train_dataset[i][5])\n",
    "        #tableCaption = str(final_train_dataset[i][6])\n",
    "        #tableHeader = str(final_train_dataset[i][7])\n",
    "        #tableBody = str(final_train_dataset[i][8])\n",
    "        match = final_train_dataset[i][4]\n",
    "        \n",
    "        row = [articlePgID,articleTitle, tableID, tableTitle, match]\n",
    "        \n",
    "        wr.writerow(row)"
   ]
  },
  {
   "cell_type": "code",
   "execution_count": null,
   "metadata": {},
   "outputs": [],
   "source": []
  },
  {
   "cell_type": "code",
   "execution_count": null,
   "metadata": {},
   "outputs": [],
   "source": []
  },
  {
   "cell_type": "code",
   "execution_count": null,
   "metadata": {},
   "outputs": [],
   "source": []
  },
  {
   "cell_type": "code",
   "execution_count": null,
   "metadata": {},
   "outputs": [],
   "source": []
  },
  {
   "cell_type": "code",
   "execution_count": null,
   "metadata": {},
   "outputs": [],
   "source": []
  },
  {
   "cell_type": "code",
   "execution_count": null,
   "metadata": {},
   "outputs": [],
   "source": []
  }
 ],
 "metadata": {
  "kernelspec": {
   "display_name": "Python 3",
   "language": "python",
   "name": "python3"
  },
  "language_info": {
   "codemirror_mode": {
    "name": "ipython",
    "version": 3
   },
   "file_extension": ".py",
   "mimetype": "text/x-python",
   "name": "python",
   "nbconvert_exporter": "python",
   "pygments_lexer": "ipython3",
   "version": "3.7.3"
  }
 },
 "nbformat": 4,
 "nbformat_minor": 2
}
