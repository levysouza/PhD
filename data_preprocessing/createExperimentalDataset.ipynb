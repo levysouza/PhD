{
 "cells": [
  {
   "cell_type": "code",
   "execution_count": 1,
   "metadata": {},
   "outputs": [],
   "source": [
    "from tqdm import tqdm\n",
    "import numpy as np\n",
    "import pandas as pd\n",
    "from lxml import html\n",
    "import requests\n",
    "import re\n",
    "import csv\n",
    "from elasticsearch import Elasticsearch\n",
    "from elasticsearch import helpers\n",
    "indexingTables = Elasticsearch()"
   ]
  },
  {
   "cell_type": "code",
   "execution_count": 2,
   "metadata": {},
   "outputs": [],
   "source": [
    "import nltk\n",
    "from nltk.corpus import stopwords\n",
    "from nltk.tokenize import word_tokenize\n",
    "stop_words = set(stopwords.words('english')) "
   ]
  },
  {
   "cell_type": "code",
   "execution_count": 3,
   "metadata": {},
   "outputs": [],
   "source": [
    "def removeStopwords(example_sent):\n",
    "    \n",
    "    word_tokens = word_tokenize(example_sent) \n",
    "  \n",
    "    filtered_sentence = [w for w in word_tokens if not w in stop_words] \n",
    "  \n",
    "    filtered_sentence = [] \n",
    "  \n",
    "    for w in word_tokens: \n",
    "        if w not in stop_words: \n",
    "            filtered_sentence.append(w)\n",
    "    \n",
    "    formattedText = \"\"\n",
    "\n",
    "    for word in filtered_sentence:\n",
    "        \n",
    "        if (len(word)>2):\n",
    "            \n",
    "            formattedText = formattedText + \" \" +word\n",
    "    \n",
    "    \n",
    "    formattedText = formattedText.lstrip()\n",
    "    \n",
    "    formattedText = formattedText.rstrip()\n",
    "        \n",
    "    return formattedText"
   ]
  },
  {
   "cell_type": "code",
   "execution_count": 4,
   "metadata": {},
   "outputs": [],
   "source": [
    "articles = pd.read_csv('../articlesDataset/articlesPlusTitle', delimiter=',', header=None)\n",
    "tables = pd.read_csv('../articlesDataset/cleanDataTables', delimiter=',', header=None)"
   ]
  },
  {
   "cell_type": "code",
   "execution_count": 5,
   "metadata": {},
   "outputs": [],
   "source": [
    "dataArticles = articles.iloc[:,:].values\n",
    "dataTables = tables.iloc[:,:].values"
   ]
  },
  {
   "cell_type": "code",
   "execution_count": null,
   "metadata": {},
   "outputs": [],
   "source": []
  },
  {
   "cell_type": "code",
   "execution_count": null,
   "metadata": {},
   "outputs": [],
   "source": [
    "distinctArticlesIDs = []\n",
    "distinctArticles = []\n",
    "\n",
    "for articles in tqdm(dataArticles):\n",
    "    \n",
    "    articlePgID = articles[0]\n",
    "    \n",
    "    articleTitle = articles[1]\n",
    "    \n",
    "    articleText = articles[2]\n",
    "    \n",
    "    if articlePgID not in distinctArticlesIDs:\n",
    "        \n",
    "        distinctArticlesIDs.append(articlePgID)\n",
    "        \n",
    "        distinctArticles.append([articlePgID,articleTitle, articleText])"
   ]
  },
  {
   "cell_type": "code",
   "execution_count": null,
   "metadata": {},
   "outputs": [],
   "source": []
  },
  {
   "cell_type": "code",
   "execution_count": null,
   "metadata": {},
   "outputs": [],
   "source": [
    "with open('distinctArticles', 'w') as myfile:\n",
    "        \n",
    "    wr = csv.writer(myfile, quoting=csv.QUOTE_ALL)\n",
    "\n",
    "    for articles in tqdm(distinctArticles):\n",
    "    \n",
    "        articlePgID = articles[0]\n",
    "        articleTitle = str(articles[1])\n",
    "        \n",
    "        row = [articlePgID,articleTitle]\n",
    "        \n",
    "        wr.writerow(row)"
   ]
  },
  {
   "cell_type": "code",
   "execution_count": null,
   "metadata": {},
   "outputs": [],
   "source": []
  },
  {
   "cell_type": "code",
   "execution_count": 4,
   "metadata": {},
   "outputs": [],
   "source": [
    "distinctArticles = pd.read_csv('../articlesDataset/distinctArticles', delimiter=',', header=None)"
   ]
  },
  {
   "cell_type": "code",
   "execution_count": 5,
   "metadata": {},
   "outputs": [
    {
     "data": {
      "text/plain": [
       "66234"
      ]
     },
     "execution_count": 5,
     "metadata": {},
     "output_type": "execute_result"
    }
   ],
   "source": [
    "len(distinctArticles)"
   ]
  },
  {
   "cell_type": "code",
   "execution_count": 6,
   "metadata": {},
   "outputs": [],
   "source": [
    "distinctArticles = distinctArticles.dropna(how='any',axis=0)"
   ]
  },
  {
   "cell_type": "code",
   "execution_count": 7,
   "metadata": {},
   "outputs": [
    {
     "data": {
      "text/plain": [
       "66187"
      ]
     },
     "execution_count": 7,
     "metadata": {},
     "output_type": "execute_result"
    }
   ],
   "source": [
    "len(distinctArticles)"
   ]
  },
  {
   "cell_type": "code",
   "execution_count": 8,
   "metadata": {},
   "outputs": [],
   "source": [
    "dataDistinctArticles = distinctArticles.iloc[:,:].values"
   ]
  },
  {
   "cell_type": "code",
   "execution_count": null,
   "metadata": {},
   "outputs": [],
   "source": []
  },
  {
   "cell_type": "code",
   "execution_count": 9,
   "metadata": {},
   "outputs": [],
   "source": [
    "def searchIndexingMatch(articleID):\n",
    "    \n",
    "    result= indexingTables.search(\n",
    "        index=\"tables\", \n",
    "        body = {\n",
    "        \"_source\": [\"tablePgTitle\"],\n",
    "        \"from\" : 0,\n",
    "        \"size\" : 1,\n",
    "        \"query\": {\n",
    "            \"match\" : {\n",
    "                \"tablePgID\" : {\n",
    "                    \"query\" : articleID\n",
    "                    }\n",
    "                }\n",
    "        }\n",
    "    })\n",
    "    \n",
    "    return result"
   ]
  },
  {
   "cell_type": "code",
   "execution_count": null,
   "metadata": {},
   "outputs": [],
   "source": []
  },
  {
   "cell_type": "code",
   "execution_count": 10,
   "metadata": {},
   "outputs": [],
   "source": [
    "def searchIndexingNoMatch(articleTitle):\n",
    "    \n",
    "    result= indexingTables.search(\n",
    "        index=\"tables\", \n",
    "        body = {\n",
    "        \"_source\": [\"tablePgID\",\"tablePgTitle\"],\n",
    "        \"from\" : 0,\n",
    "        \"size\" : 20,\n",
    "        \"query\": {\n",
    "            \"multi_match\":{\n",
    "              \"type\": \"most_fields\",\n",
    "              \"query\":    articleTitle, \n",
    "              \"fields\": [\"tablePgTitle\"] \n",
    "            }\n",
    "        }\n",
    "    })\n",
    "    \n",
    "    return result"
   ]
  },
  {
   "cell_type": "code",
   "execution_count": null,
   "metadata": {},
   "outputs": [],
   "source": []
  },
  {
   "cell_type": "code",
   "execution_count": null,
   "metadata": {},
   "outputs": [],
   "source": []
  },
  {
   "cell_type": "code",
   "execution_count": null,
   "metadata": {},
   "outputs": [],
   "source": []
  },
  {
   "cell_type": "code",
   "execution_count": null,
   "metadata": {},
   "outputs": [],
   "source": []
  },
  {
   "cell_type": "code",
   "execution_count": 11,
   "metadata": {
    "scrolled": false
   },
   "outputs": [
    {
     "name": "stderr",
     "output_type": "stream",
     "text": [
      "100%|██████████| 66187/66187 [20:10<00:00, 54.69it/s]\n"
     ]
    }
   ],
   "source": [
    "finalDataset = []\n",
    "\n",
    "for i in tqdm(range(len(dataDistinctArticles))):\n",
    "    \n",
    "    articleID = dataDistinctArticles[i][0]\n",
    "    articleTitle = dataDistinctArticles[i][1]\n",
    "    \n",
    "    #getting the table title match\n",
    "    result1 = searchIndexingMatch(articleID)\n",
    "    for hit in result1['hits']['hits']:\n",
    "    \n",
    "        tableTitleMatch = removeStopwords(hit['_source']['tablePgTitle'])\n",
    "            \n",
    "    tableTitleMatch = tableTitleMatch\n",
    "    \n",
    "    \n",
    "    #getting the table title non-match\n",
    "    result2 = searchIndexingNoMatch(articleTitle)\n",
    "    for hit in result2['hits']['hits']:\n",
    "        \n",
    "        tableID = hit['_source']['tablePgID']\n",
    "        tableTitleNonMatch = removeStopwords(hit['_source']['tablePgTitle'])\n",
    "        \n",
    "        if articleID != tableID: \n",
    "            \n",
    "            break\n",
    "    \n",
    "    tableTitleNoMatch = tableTitleNonMatch\n",
    "    \n",
    "    finalDataset.append([articleID,articleTitle,tableTitleMatch,1])\n",
    "    finalDataset.append([articleID,articleTitle,tableTitleNoMatch,0])"
   ]
  },
  {
   "cell_type": "code",
   "execution_count": 12,
   "metadata": {},
   "outputs": [
    {
     "data": {
      "text/plain": [
       "132374"
      ]
     },
     "execution_count": 12,
     "metadata": {},
     "output_type": "execute_result"
    }
   ],
   "source": [
    "len(finalDataset)"
   ]
  },
  {
   "cell_type": "code",
   "execution_count": 16,
   "metadata": {},
   "outputs": [],
   "source": [
    "with open('trainDatasetTitle', 'w') as myfile:\n",
    "        \n",
    "    wr = csv.writer(myfile, quoting=csv.QUOTE_ALL)\n",
    "\n",
    "    for i in range(19855,len(finalDataset)):\n",
    "    \n",
    "        articlePgID = finalDataset[i][0]\n",
    "        articleTitle = str(finalDataset[i][1])\n",
    "        tableTitle = str(finalDataset[i][2])\n",
    "        match = finalDataset[i][3]\n",
    "        \n",
    "        row = [articlePgID,articleTitle,tableTitle,match]\n",
    "        \n",
    "        wr.writerow(row)"
   ]
  },
  {
   "cell_type": "code",
   "execution_count": null,
   "metadata": {},
   "outputs": [],
   "source": []
  }
 ],
 "metadata": {
  "kernelspec": {
   "display_name": "Python 3",
   "language": "python",
   "name": "python3"
  },
  "language_info": {
   "codemirror_mode": {
    "name": "ipython",
    "version": 3
   },
   "file_extension": ".py",
   "mimetype": "text/x-python",
   "name": "python",
   "nbconvert_exporter": "python",
   "pygments_lexer": "ipython3",
   "version": "3.7.3"
  }
 },
 "nbformat": 4,
 "nbformat_minor": 2
}
