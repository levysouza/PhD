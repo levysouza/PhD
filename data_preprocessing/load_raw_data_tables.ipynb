{
 "cells": [
  {
   "cell_type": "code",
   "execution_count": null,
   "metadata": {},
   "outputs": [],
   "source": [
    "import findspark\n",
    "findspark.init('/home/lss9/anaconda3/lib/python3.7/site-packages/pyspark/')"
   ]
  },
  {
   "cell_type": "code",
   "execution_count": null,
   "metadata": {},
   "outputs": [],
   "source": [
    "from pyspark.sql import SQLContext\n",
    "from pyspark import SparkContext, SparkConf\n",
    "import re\n",
    "from tqdm import tqdm"
   ]
  },
  {
   "cell_type": "code",
   "execution_count": null,
   "metadata": {},
   "outputs": [],
   "source": [
    "sc = SparkContext()"
   ]
  },
  {
   "cell_type": "code",
   "execution_count": null,
   "metadata": {},
   "outputs": [],
   "source": [
    "sqlContext = SQLContext(sc)"
   ]
  },
  {
   "cell_type": "code",
   "execution_count": null,
   "metadata": {},
   "outputs": [],
   "source": [
    "data = sqlContext.read.json('/home/luciano/google/tables.json')"
   ]
  },
  {
   "cell_type": "code",
   "execution_count": null,
   "metadata": {},
   "outputs": [],
   "source": [
    "data.printSchema()"
   ]
  },
  {
   "cell_type": "code",
   "execution_count": null,
   "metadata": {},
   "outputs": [],
   "source": [
    "data.registerTempTable(\"tables\")"
   ]
  },
  {
   "cell_type": "markdown",
   "metadata": {},
   "source": [
    "This function removes the special characters from a string"
   ]
  },
  {
   "cell_type": "code",
   "execution_count": null,
   "metadata": {},
   "outputs": [],
   "source": [
    "def clearString(text):\n",
    "    \n",
    "    text = re.sub('[^A-Za-z]+',' ',text)\n",
    "    \n",
    "    text = text.lstrip()\n",
    "    \n",
    "    text = text.rstrip()\n",
    "    \n",
    "    return text"
   ]
  },
  {
   "cell_type": "markdown",
   "metadata": {},
   "source": [
    "getting the page ID, page title, section title and table caption from raw data"
   ]
  },
  {
   "cell_type": "code",
   "execution_count": null,
   "metadata": {},
   "outputs": [],
   "source": [
    "returnSelect = sqlContext.sql(\"select pgId, pgTitle, sectionTitle, tableCaption from tables\").collect()"
   ]
  },
  {
   "cell_type": "code",
   "execution_count": null,
   "metadata": {},
   "outputs": [],
   "source": [
    "formattedTables = []\n",
    "\n",
    "for row in tqdm(returnSelect):\n",
    "    \n",
    "    dataPgID = row.pgId\n",
    "    dataPgTitle = row.pgTitle\n",
    "    dataSectionTitle = row.sectionTitle\n",
    "    dataTableCaption = str(row.tableCaption)\n",
    "    \n",
    "    #removing special characters\n",
    "    dataPgTitle = clearString(dataPgTitle)\n",
    "    dataSectionTitle = clearString(dataSectionTitle)\n",
    "    dataTableCaption = clearString(dataTableCaption)\n",
    "    \n",
    "    formattedTables.append([dataPgID,dataPgTitle,dataSectionTitle,dataTableCaption])"
   ]
  },
  {
   "cell_type": "code",
   "execution_count": null,
   "metadata": {},
   "outputs": [],
   "source": [
    "returnSelect = sqlContext.sql(\"select tableData from tables where pgId = 4194312\").collect()"
   ]
  },
  {
   "cell_type": "code",
   "execution_count": null,
   "metadata": {},
   "outputs": [],
   "source": [
    "tableText = []\n",
    "\n",
    "for tablesRawData in tqdm(returnSelect):\n",
    "    \n",
    "    tableBody = ''\n",
    "    \n",
    "    tableRawData = tablesRawData.tableData\n",
    "    \n",
    "    for tableLines in tableRawData:\n",
    "            \n",
    "        tableRawColumns = tableLines\n",
    "        \n",
    "        for tableColumns in tableRawColumns:\n",
    "            \n",
    "            tableBody = tableBody +' '+ tableColumns.text\n",
    "            \n",
    "    tableBody = clearString(tableBody)\n",
    "    \n",
    "    tableText.append(tableBody)"
   ]
  },
  {
   "cell_type": "code",
   "execution_count": null,
   "metadata": {},
   "outputs": [],
   "source": [
    "tableText"
   ]
  },
  {
   "cell_type": "code",
   "execution_count": null,
   "metadata": {},
   "outputs": [],
   "source": []
  },
  {
   "cell_type": "code",
   "execution_count": null,
   "metadata": {},
   "outputs": [],
   "source": [
    "returnSelect = sqlContext.sql(\"select tableHeaders from tables where pgID = 4194312\").collect()"
   ]
  },
  {
   "cell_type": "code",
   "execution_count": null,
   "metadata": {},
   "outputs": [],
   "source": [
    "tableHeaderData = []\n",
    "\n",
    "for tablesHeaderRawData in tqdm(returnSelect):\n",
    "    \n",
    "    tableHeader = ''\n",
    "    \n",
    "    tablesHeaderRawData = tablesHeaderRawData.tableHeaders\n",
    "    \n",
    "    for tableHeaderLines in tablesHeaderRawData:\n",
    "            \n",
    "        tableHeaderRawColumns = tableHeaderLines\n",
    "        \n",
    "        for tableHeaderColumns in tableHeaderRawColumns:\n",
    "            \n",
    "            tableHeader = tableHeader +' '+ tableHeaderColumns.text\n",
    "            \n",
    "    tableHeader = clearString(tableHeader)\n",
    "    \n",
    "    tableHeaderData.append(tableHeader)"
   ]
  },
  {
   "cell_type": "code",
   "execution_count": null,
   "metadata": {},
   "outputs": [],
   "source": [
    "tableHeaderData"
   ]
  },
  {
   "cell_type": "code",
   "execution_count": null,
   "metadata": {},
   "outputs": [],
   "source": []
  },
  {
   "cell_type": "code",
   "execution_count": null,
   "metadata": {},
   "outputs": [],
   "source": []
  },
  {
   "cell_type": "code",
   "execution_count": null,
   "metadata": {},
   "outputs": [],
   "source": []
  },
  {
   "cell_type": "code",
   "execution_count": null,
   "metadata": {},
   "outputs": [],
   "source": []
  }
 ],
 "metadata": {
  "kernelspec": {
   "display_name": "Python 3",
   "language": "python",
   "name": "python3"
  },
  "language_info": {
   "codemirror_mode": {
    "name": "ipython",
    "version": 3
   },
   "file_extension": ".py",
   "mimetype": "text/x-python",
   "name": "python",
   "nbconvert_exporter": "python",
   "pygments_lexer": "ipython3",
   "version": "3.7.3"
  }
 },
 "nbformat": 4,
 "nbformat_minor": 2
}
