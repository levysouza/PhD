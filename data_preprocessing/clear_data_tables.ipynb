{
 "cells": [
  {
   "cell_type": "code",
   "execution_count": 10,
   "metadata": {},
   "outputs": [],
   "source": [
    "from tqdm import tqdm\n",
    "import numpy as np\n",
    "import pandas as pd\n",
    "from lxml import html\n",
    "import requests\n",
    "import re\n",
    "import csv"
   ]
  },
  {
   "cell_type": "code",
   "execution_count": 11,
   "metadata": {},
   "outputs": [],
   "source": [
    "import nltk\n",
    "from nltk.corpus import stopwords\n",
    "from nltk.tokenize import word_tokenize\n",
    "stop_words = set(stopwords.words('english')) "
   ]
  },
  {
   "cell_type": "code",
   "execution_count": 12,
   "metadata": {},
   "outputs": [],
   "source": [
    "def removeStopwords(example_sent):\n",
    "    \n",
    "    word_tokens = word_tokenize(example_sent) \n",
    "  \n",
    "    filtered_sentence = [w for w in word_tokens if not w in stop_words] \n",
    "  \n",
    "    filtered_sentence = [] \n",
    "  \n",
    "    for w in word_tokens: \n",
    "        if w not in stop_words: \n",
    "            filtered_sentence.append(w)\n",
    "    \n",
    "    formattedText = \"\"\n",
    "\n",
    "    for word in filtered_sentence:\n",
    "        \n",
    "        if (len(word)>2):\n",
    "            \n",
    "            formattedText = formattedText + \" \" +word\n",
    "    \n",
    "    \n",
    "    formattedText = formattedText.lstrip()\n",
    "    \n",
    "    formattedText = formattedText.rstrip()\n",
    "        \n",
    "    return formattedText.lower()"
   ]
  },
  {
   "cell_type": "code",
   "execution_count": 13,
   "metadata": {},
   "outputs": [],
   "source": [
    "tables = pd.read_csv('../dataset/cleanDataTables', delimiter=',', header=None)\n",
    "formattedTables = tables.iloc[:,:].values"
   ]
  },
  {
   "cell_type": "code",
   "execution_count": 14,
   "metadata": {},
   "outputs": [
    {
     "name": "stderr",
     "output_type": "stream",
     "text": [
      "100%|██████████| 298793/298793 [04:42<00:00, 1057.18it/s]\n"
     ]
    }
   ],
   "source": [
    "with open('cleanDataTables2', 'w') as myfile:\n",
    "        \n",
    "    wr = csv.writer(myfile, quoting=csv.QUOTE_ALL)\n",
    "\n",
    "    for tables in tqdm(formattedTables):\n",
    "    \n",
    "        tablePgID = tables[0]\n",
    "        tablePgTitle = removeStopwords(str(tables[1]))\n",
    "        tableSectionTitle = removeStopwords(str(tables[2]))\n",
    "        tableCaption = removeStopwords(str(tables[3]))\n",
    "        tableHeader = removeStopwords(str(tables[4]))\n",
    "        tableBody = removeStopwords(str(tables[5]))\n",
    "        \n",
    "        cachAllText = tablePgTitle +\" \"+tableSectionTitle+\" \"+tableCaption+\" \"+tableHeader+\" \"+tableBody\n",
    "        \n",
    "        row = [tablePgID,tablePgTitle,tableSectionTitle,tableCaption,tableHeader,tableBody,cachAllText]\n",
    "        \n",
    "        wr.writerow(row)"
   ]
  },
  {
   "cell_type": "code",
   "execution_count": null,
   "metadata": {},
   "outputs": [],
   "source": []
  },
  {
   "cell_type": "code",
   "execution_count": null,
   "metadata": {},
   "outputs": [],
   "source": []
  }
 ],
 "metadata": {
  "kernelspec": {
   "display_name": "Python 3",
   "language": "python",
   "name": "python3"
  },
  "language_info": {
   "codemirror_mode": {
    "name": "ipython",
    "version": 3
   },
   "file_extension": ".py",
   "mimetype": "text/x-python",
   "name": "python",
   "nbconvert_exporter": "python",
   "pygments_lexer": "ipython3",
   "version": "3.7.3"
  }
 },
 "nbformat": 4,
 "nbformat_minor": 2
}
