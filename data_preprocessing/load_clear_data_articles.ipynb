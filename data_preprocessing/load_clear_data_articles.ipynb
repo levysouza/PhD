{
 "cells": [
  {
   "cell_type": "code",
   "execution_count": 11,
   "metadata": {},
   "outputs": [],
   "source": [
    "import pickle\n",
    "import re\n",
    "from tqdm import tqdm\n",
    "import pandas as pd\n",
    "import numpy as np\n",
    "import csv"
   ]
  },
  {
   "cell_type": "code",
   "execution_count": 12,
   "metadata": {},
   "outputs": [],
   "source": [
    "rawArticles = pickle.load(open(\"articlesDataset/final_article_tables.pkl\",\"rb\"))"
   ]
  },
  {
   "cell_type": "code",
   "execution_count": 27,
   "metadata": {},
   "outputs": [
    {
     "name": "stderr",
     "output_type": "stream",
     "text": [
      "100%|██████████| 90000/90000 [04:40<00:00, 317.61it/s]\n"
     ]
    }
   ],
   "source": [
    "formattedArticles = []\n",
    "linksArticles = []\n",
    "\n",
    "for i in tqdm(rawArticles.keys()):\n",
    "    \n",
    "    keyArticle = i\n",
    "     \n",
    "    dataArticle = rawArticles[keyArticle]\n",
    "\n",
    "    totalArticles = len(dataArticle)\n",
    "\n",
    "    for i in range(totalArticles):\n",
    "    \n",
    "        link = str(dataArticle[i][0])\n",
    "        \n",
    "        fullText = str(dataArticle[i][1])\n",
    "    \n",
    "        #removing special characters\n",
    "        formattedText = re.sub('[^A-Za-z]+',' ',fullText)\n",
    "    \n",
    "        #removing left and right spaces\n",
    "        formattedText = formattedText.lstrip()\n",
    "        formattedText = formattedText.rstrip()\n",
    "        \n",
    "        # checking if there is article text\n",
    "        if fullText != \"\":\n",
    "            \n",
    "            formattedArticles.append([keyArticle,formattedText])\n",
    "            \n",
    "            linksArticles.append([keyArticle,link]) "
   ]
  },
  {
   "cell_type": "code",
   "execution_count": 30,
   "metadata": {},
   "outputs": [
    {
     "name": "stderr",
     "output_type": "stream",
     "text": [
      "100%|██████████| 291499/291499 [01:06<00:00, 4365.74it/s]\n"
     ]
    }
   ],
   "source": [
    "#saving the articles on the file\n",
    "with open('cleanDataArticles', 'w') as myfile:\n",
    "        \n",
    "    wr = csv.writer(myfile, quoting=csv.QUOTE_ALL)\n",
    "    \n",
    "    for article in tqdm(formattedArticles):\n",
    "    \n",
    "        articleID = article[0]\n",
    "    \n",
    "        articleText = article[1]\n",
    "    \n",
    "        row = [articleID,articleText]\n",
    "        \n",
    "        wr.writerow(row)"
   ]
  },
  {
   "cell_type": "code",
   "execution_count": 31,
   "metadata": {},
   "outputs": [
    {
     "name": "stderr",
     "output_type": "stream",
     "text": [
      "100%|██████████| 291499/291499 [00:01<00:00, 149527.87it/s]\n"
     ]
    }
   ],
   "source": [
    "#saving the links on the file\n",
    "with open('dataArticlesLinks', 'w') as myfile:\n",
    "        \n",
    "    wr = csv.writer(myfile, quoting=csv.QUOTE_ALL)\n",
    "    \n",
    "    for article in tqdm(linksArticles):\n",
    "    \n",
    "        articleID = article[0]\n",
    "    \n",
    "        articleLink = article[1]\n",
    "    \n",
    "        row = [articleID,articleLink]\n",
    "        \n",
    "        wr.writerow(row)"
   ]
  },
  {
   "cell_type": "code",
   "execution_count": null,
   "metadata": {},
   "outputs": [],
   "source": []
  },
  {
   "cell_type": "code",
   "execution_count": null,
   "metadata": {},
   "outputs": [],
   "source": []
  }
 ],
 "metadata": {
  "kernelspec": {
   "display_name": "Python 3",
   "language": "python",
   "name": "python3"
  },
  "language_info": {
   "codemirror_mode": {
    "name": "ipython",
    "version": 3
   },
   "file_extension": ".py",
   "mimetype": "text/x-python",
   "name": "python",
   "nbconvert_exporter": "python",
   "pygments_lexer": "ipython3",
   "version": "3.7.3"
  }
 },
 "nbformat": 4,
 "nbformat_minor": 2
}
