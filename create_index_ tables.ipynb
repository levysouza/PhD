{
 "cells": [
  {
   "cell_type": "code",
   "execution_count": 1,
   "metadata": {},
   "outputs": [],
   "source": [
    "from tqdm import tqdm\n",
    "import numpy as np\n",
    "import pandas as pd\n",
    "import random\n",
    "from elasticsearch import Elasticsearch\n",
    "from elasticsearch import helpers\n",
    "indexingTables = Elasticsearch()"
   ]
  },
  {
   "cell_type": "code",
   "execution_count": 2,
   "metadata": {},
   "outputs": [],
   "source": [
    "tables = pd.read_csv('dataset/cleanDataTables2', delimiter=',', header=None)"
   ]
  },
  {
   "cell_type": "code",
   "execution_count": null,
   "metadata": {},
   "outputs": [],
   "source": []
  },
  {
   "cell_type": "code",
   "execution_count": 3,
   "metadata": {},
   "outputs": [],
   "source": [
    "formattedTables = tables.iloc[:,:].values"
   ]
  },
  {
   "cell_type": "code",
   "execution_count": 8,
   "metadata": {},
   "outputs": [
    {
     "data": {
      "text/plain": [
       "array([10029, 'timeline evolutionary history life', 'archean eon',\n",
       "       'archean eon', 'date event',\n",
       "       'formation greenstone belt acasta gneisses great slave region canada oldest rock belt world late heavy bombardment extended barrage impact event upon inner planets meteoroids thermal flux widespread hydrothermal activity lhb may conducive life emergence early diversification cells resembling prokaryote appear these first organisms chemoautotrophs use carbon dioxide carbon source oxidize inorganic materials extract energy later prokaryotes evolve glycolysis set chemical reactions free energy organic molecules glucose store chemical bonds atp glycolysis atp continue used almost organisms unchanged day formation greenstone belt isua complex western greenland region whose rocks show isotope frequency suggestive presence life lifetime last universal ancestor split bacteria archaea occurs bacteria develop primitive forms photosynthesis first produce oxygen these organisms generate atp exploiting proton gradient mechanism still used virtually organisms photosynthesizing cyanobacteria evolve use water reducing agent thereby producing oxygen waste product the oxygen initially oxidizes dissolved iron oceans creating iron ore the oxygen concentration atmosphere slowly rises acting poison many bacteria the moon still close earth causes tide feet high the earth continually wracked hurricane force winds these extreme mixing influences thought stimulate evolutionary processes see oxygen catastrophe life land likely developed time',\n",
       "       'timeline evolutionary history life archean eon archean eon date event formation greenstone belt acasta gneisses great slave region canada oldest rock belt world late heavy bombardment extended barrage impact event upon inner planets meteoroids thermal flux widespread hydrothermal activity lhb may conducive life emergence early diversification cells resembling prokaryote appear these first organisms chemoautotrophs use carbon dioxide carbon source oxidize inorganic materials extract energy later prokaryotes evolve glycolysis set chemical reactions free energy organic molecules glucose store chemical bonds atp glycolysis atp continue used almost organisms unchanged day formation greenstone belt isua complex western greenland region whose rocks show isotope frequency suggestive presence life lifetime last universal ancestor split bacteria archaea occurs bacteria develop primitive forms photosynthesis first produce oxygen these organisms generate atp exploiting proton gradient mechanism still used virtually organisms photosynthesizing cyanobacteria evolve use water reducing agent thereby producing oxygen waste product the oxygen initially oxidizes dissolved iron oceans creating iron ore the oxygen concentration atmosphere slowly rises acting poison many bacteria the moon still close earth causes tide feet high the earth continually wracked hurricane force winds these extreme mixing influences thought stimulate evolutionary processes see oxygen catastrophe life land likely developed time'],\n",
       "      dtype=object)"
      ]
     },
     "execution_count": 8,
     "metadata": {},
     "output_type": "execute_result"
    }
   ],
   "source": [
    "formattedTables[1]"
   ]
  },
  {
   "cell_type": "code",
   "execution_count": 10,
   "metadata": {},
   "outputs": [],
   "source": [
    "def createIndexing():\n",
    "    \n",
    "    for tables in tqdm(formattedTables):\n",
    "        \n",
    "        tablePgID = tables[0]\n",
    "        tablePgTitle = str(tables[1])\n",
    "        tableSectionTitle = str(tables[2])\n",
    "        tableCaption = str(tables[3])\n",
    "        tableHeader = str(tables[4])\n",
    "        tableBody = str(tables[5])\n",
    "        \n",
    "        yield {\n",
    "            \"_index\": \"tables\",\n",
    "            \"_type\": \"tables\",\n",
    "            \"_source\": {\n",
    "                \"tablePgID\": tablePgID,\n",
    "                \"tablePgTitle\": tablePgTitle,\n",
    "                \"tableSectionTitle\": tableSectionTitle,\n",
    "                \"tableCaption\": tableCaption,\n",
    "                \"tableHeader\": tableHeader,\n",
    "                \"tableBody\": tableBody\n",
    "            }\n",
    "            \n",
    "        }"
   ]
  },
  {
   "cell_type": "code",
   "execution_count": 11,
   "metadata": {},
   "outputs": [
    {
     "data": {
      "text/plain": [
       "{'acknowledged': True}"
      ]
     },
     "execution_count": 11,
     "metadata": {},
     "output_type": "execute_result"
    }
   ],
   "source": [
    "indexingTables.indices.delete(index='tables')"
   ]
  },
  {
   "cell_type": "code",
   "execution_count": 12,
   "metadata": {},
   "outputs": [
    {
     "name": "stderr",
     "output_type": "stream",
     "text": [
      "100%|██████████| 298793/298793 [01:49<00:00, 2733.04it/s]\n"
     ]
    },
    {
     "data": {
      "text/plain": [
       "(298793, [])"
      ]
     },
     "execution_count": 12,
     "metadata": {},
     "output_type": "execute_result"
    }
   ],
   "source": [
    "helpers.bulk(indexingTables, createIndexing())"
   ]
  }
 ],
 "metadata": {
  "kernelspec": {
   "display_name": "Python 3",
   "language": "python",
   "name": "python3"
  },
  "language_info": {
   "codemirror_mode": {
    "name": "ipython",
    "version": 3
   },
   "file_extension": ".py",
   "mimetype": "text/x-python",
   "name": "python",
   "nbconvert_exporter": "python",
   "pygments_lexer": "ipython3",
   "version": "3.7.3"
  }
 },
 "nbformat": 4,
 "nbformat_minor": 2
}
