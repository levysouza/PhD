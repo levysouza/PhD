{
 "cells": [
  {
   "cell_type": "code",
   "execution_count": 1,
   "metadata": {},
   "outputs": [],
   "source": [
    "import warnings\n",
    "import numpy as np\n",
    "import pandas as pd\n",
    "import gensim as gs\n",
    "from tqdm import tqdm\n",
    "import tensorflow as tf\n",
    "import matplotlib.pyplot as plt\n",
    "from nltk.tokenize import TweetTokenizer\n",
    "tknzr = TweetTokenizer()\n",
    "from sklearn.metrics import accuracy_score, precision_score, recall_score, f1_score\n",
    "warnings.filterwarnings('ignore')"
   ]
  },
  {
   "cell_type": "code",
   "execution_count": 3,
   "metadata": {},
   "outputs": [],
   "source": [
    "read_file = pd.read_csv('dataset/train_dataset_random_1_5', delimiter=',', header=None)\n",
    "train_dataset = read_file.iloc[:,:].values"
   ]
  },
  {
   "cell_type": "code",
   "execution_count": 4,
   "metadata": {},
   "outputs": [],
   "source": [
    "read_file = pd.read_csv('dataset/validation_dataset_random_1_5', delimiter=',', header=None)\n",
    "validation_dataset = read_file.iloc[:,:].values"
   ]
  },
  {
   "cell_type": "code",
   "execution_count": 2,
   "metadata": {},
   "outputs": [],
   "source": [
    "embedding_model = gs.models.FastText.load_fasttext_format('pre_trained_models/cc.en.300.bin')"
   ]
  },
  {
   "cell_type": "code",
   "execution_count": 5,
   "metadata": {},
   "outputs": [],
   "source": [
    "MAX_PAD = 9\n",
    "\n",
    "def sequence_padding(X_DIM, value):\n",
    "    \n",
    "    value_padding = np.pad(value, ((0,MAX_PAD - X_DIM),(0,0)), 'constant')\n",
    "    \n",
    "    return value_padding"
   ]
  },
  {
   "cell_type": "code",
   "execution_count": 6,
   "metadata": {},
   "outputs": [],
   "source": [
    "def create_embedding(value):\n",
    "\n",
    "    value = tknzr.tokenize(str(value))\n",
    "    \n",
    "    if len(value) < MAX_PAD:\n",
    "        \n",
    "        embedding = embedding_model.wv[value]\n",
    "        \n",
    "        padding_embedding = sequence_padding(embedding.shape[0],embedding)\n",
    "        \n",
    "        return padding_embedding\n",
    "        \n",
    "    else:\n",
    "        \n",
    "        embedding = embedding_model.wv[value[0:MAX_PAD]]\n",
    "        \n",
    "        return embedding"
   ]
  },
  {
   "cell_type": "code",
   "execution_count": null,
   "metadata": {},
   "outputs": [],
   "source": []
  },
  {
   "cell_type": "code",
   "execution_count": 7,
   "metadata": {},
   "outputs": [
    {
     "name": "stderr",
     "output_type": "stream",
     "text": [
      "100%|██████████| 60756/60756 [00:37<00:00, 1610.33it/s]\n"
     ]
    }
   ],
   "source": [
    "train_article_title = []\n",
    "train_article_description = []\n",
    "train_table_title = []\n",
    "train_label = []\n",
    "\n",
    "for articleID, articleTitle, meta_description, keywords, tableID, tableTitle, match in tqdm(train_dataset):\n",
    "    \n",
    "    train_article_title.append(create_embedding(articleTitle))\n",
    "    #train_article_description.append(create_embedding(meta_description))  \n",
    "    train_table_title.append(create_embedding(tableTitle))\n",
    "    train_label.append(match)"
   ]
  },
  {
   "cell_type": "code",
   "execution_count": 8,
   "metadata": {},
   "outputs": [],
   "source": [
    "train_article_title = np.array(train_article_title)\n",
    "#train_article_description = np.array(train_article_description)\n",
    "train_table_title = np.array(train_table_title)\n",
    "train_label = np.array(train_label)"
   ]
  },
  {
   "cell_type": "code",
   "execution_count": 9,
   "metadata": {},
   "outputs": [
    {
     "data": {
      "text/plain": [
       "(60756, 9, 300)"
      ]
     },
     "execution_count": 9,
     "metadata": {},
     "output_type": "execute_result"
    }
   ],
   "source": [
    "train_article_title.shape"
   ]
  },
  {
   "cell_type": "code",
   "execution_count": null,
   "metadata": {},
   "outputs": [],
   "source": []
  },
  {
   "cell_type": "code",
   "execution_count": 10,
   "metadata": {},
   "outputs": [
    {
     "name": "stderr",
     "output_type": "stream",
     "text": [
      "100%|██████████| 3179/3179 [00:01<00:00, 2368.20it/s]\n"
     ]
    }
   ],
   "source": [
    "validation_article_title = []\n",
    "validation_article_description = []\n",
    "validation_table_title = []\n",
    "validation_label = []\n",
    "\n",
    "for articleID, articleTitle, meta_description, keywords, tableID, tableTitle, match in tqdm(validation_dataset):\n",
    "    \n",
    "    validation_article_title.append(create_embedding(articleTitle))\n",
    "    #validation_article_description.append(create_embedding(meta_description))\n",
    "    validation_table_title.append(create_embedding(tableTitle))  \n",
    "    validation_label.append(match)"
   ]
  },
  {
   "cell_type": "code",
   "execution_count": 11,
   "metadata": {},
   "outputs": [],
   "source": [
    "validation_article_title = np.array(validation_article_title)\n",
    "#validation_article_description = np.array(validation_article_description)\n",
    "validation_table_title = np.array(validation_table_title)\n",
    "validation_label = np.array(validation_label)"
   ]
  },
  {
   "cell_type": "code",
   "execution_count": 12,
   "metadata": {},
   "outputs": [
    {
     "data": {
      "text/plain": [
       "(3179, 9, 300)"
      ]
     },
     "execution_count": 12,
     "metadata": {},
     "output_type": "execute_result"
    }
   ],
   "source": [
    "validation_article_title.shape"
   ]
  },
  {
   "cell_type": "code",
   "execution_count": 13,
   "metadata": {},
   "outputs": [],
   "source": [
    "def coattention_method(query, document):\n",
    "    \n",
    "    transpose_document = tf.transpose(document,perm=[0, 2, 1])\n",
    "    \n",
    "    affinity = tf.matmul(query,transpose_document)\n",
    "\n",
    "    #transpose_affinity = tf.transpose(affinity, perm=[0, 2, 1])\n",
    "    \n",
    "    #row_normalized = tf.nn.softmax(affinity, axis=1)\n",
    "    \n",
    "    #column_normalized = tf.nn.softmax(transpose_affinity, axis=1)\n",
    "    \n",
    "    #context_vector = tf.matmul(row_normalized,document)\n",
    "    \n",
    "    #concatenate_context_query = tf.concat([context_vector,query],axis=-1)\n",
    "     \n",
    "    #context_document = tf.matmul(column_normalized,concatenate_context_query)\n",
    "    \n",
    "    #co_attention = tf.concat([document,context_document],axis=-1)\n",
    "    \n",
    "    return affinity"
   ]
  },
  {
   "cell_type": "code",
   "execution_count": null,
   "metadata": {},
   "outputs": [],
   "source": []
  },
  {
   "cell_type": "code",
   "execution_count": 14,
   "metadata": {},
   "outputs": [],
   "source": [
    "def attention_model():\n",
    "    \n",
    "    article_title = tf.keras.Input(shape=(9,300), dtype='float32')\n",
    "    #article_description = tf.keras.Input(shape=(40,300), dtype='float32')\n",
    "    table_title = tf.keras.Input(shape=(9,300), dtype='float32')\n",
    "    \n",
    "    encodding_article_title = tf.keras.layers.Bidirectional(tf.keras.layers.LSTM(64, return_sequences=True))(article_title)\n",
    "    #encodding_article_description = tf.keras.layers.Bidirectional(tf.keras.layers.LSTM(64, return_sequences=True))(article_description)\n",
    "    encodding_table_title = tf.keras.layers.Bidirectional(tf.keras.layers.LSTM(64, return_sequences=True))(table_title)\n",
    "    \n",
    "    attention_title_title = coattention_method(encodding_article_title,encodding_table_title)\n",
    "    #attention_title_description = coattention_method(encodding_article_description,encodding_table_title)\n",
    "    \n",
    "    flatten1 = tf.keras.layers.Flatten()(attention_title_title)\n",
    "    #flatten2 = tf.keras.layers.Flatten()(attention_title_description)\n",
    "    \n",
    "    #concatenated = tf.keras.layers.Concatenate()([flatten1,flatten2])\n",
    "    \n",
    "    prediction = tf.keras.layers.Dense(1,activation='sigmoid')(flatten1)\n",
    "    \n",
    "    model = tf.keras.Model(inputs=[article_title,table_title],outputs=prediction)\n",
    "    \n",
    "    return model"
   ]
  },
  {
   "cell_type": "code",
   "execution_count": 15,
   "metadata": {},
   "outputs": [],
   "source": [
    "model = attention_model()"
   ]
  },
  {
   "cell_type": "code",
   "execution_count": null,
   "metadata": {},
   "outputs": [],
   "source": [
    "model.summary()"
   ]
  },
  {
   "cell_type": "code",
   "execution_count": null,
   "metadata": {},
   "outputs": [],
   "source": [
    "tf.keras.utils.plot_model(model, to_file='test.png')"
   ]
  },
  {
   "cell_type": "code",
   "execution_count": null,
   "metadata": {},
   "outputs": [],
   "source": []
  },
  {
   "cell_type": "code",
   "execution_count": 16,
   "metadata": {},
   "outputs": [],
   "source": [
    "model.compile(loss=\"binary_crossentropy\",optimizer=\"adam\", metrics=['accuracy'])"
   ]
  },
  {
   "cell_type": "code",
   "execution_count": null,
   "metadata": {},
   "outputs": [],
   "source": [
    "# checkpoint = tf.keras.callbacks.ModelCheckpoint('attention.h5', monitor='val_acc',verbose=1, save_the_best_only=True, mode='max')\n",
    "# callbacks_list = [checkpoint]"
   ]
  },
  {
   "cell_type": "code",
   "execution_count": 17,
   "metadata": {},
   "outputs": [
    {
     "name": "stdout",
     "output_type": "stream",
     "text": [
      "Train on 60756 samples, validate on 3179 samples\n",
      "Epoch 1/10\n",
      "WARNING:tensorflow:From /home/lss9/anaconda3/lib/python3.7/site-packages/tensorflow_core/python/ops/nn_impl.py:183: where (from tensorflow.python.ops.array_ops) is deprecated and will be removed in a future version.\n",
      "Instructions for updating:\n",
      "Use tf.where in 2.0, which has the same broadcast rule as np.where\n",
      "WARNING:tensorflow:Entity <function Function._initialize_uninitialized_variables.<locals>.initialize_variables at 0x7f131c28e158> could not be transformed and will be executed as-is. Please report this to the AutoGraph team. When filing the bug, set the verbosity to 10 (on Linux, `export AUTOGRAPH_VERBOSITY=10`) and attach the full output. Cause: module 'gast' has no attribute 'Num'\n",
      "WARNING: Entity <function Function._initialize_uninitialized_variables.<locals>.initialize_variables at 0x7f131c28e158> could not be transformed and will be executed as-is. Please report this to the AutoGraph team. When filing the bug, set the verbosity to 10 (on Linux, `export AUTOGRAPH_VERBOSITY=10`) and attach the full output. Cause: module 'gast' has no attribute 'Num'\n",
      "60756/60756 [==============================] - 199s 3ms/sample - loss: 0.3244 - accuracy: 0.8629 - val_loss: 0.2411 - val_accuracy: 0.8956\n",
      "Epoch 2/10\n",
      "60756/60756 [==============================] - 152s 2ms/sample - loss: 0.1968 - accuracy: 0.9186 - val_loss: 0.1839 - val_accuracy: 0.9217\n",
      "Epoch 3/10\n",
      "60756/60756 [==============================] - 145s 2ms/sample - loss: 0.1342 - accuracy: 0.9470 - val_loss: 0.1665 - val_accuracy: 0.9346\n",
      "Epoch 4/10\n",
      "60756/60756 [==============================] - 139s 2ms/sample - loss: 0.0915 - accuracy: 0.9651 - val_loss: 0.1679 - val_accuracy: 0.9368\n",
      "Epoch 5/10\n",
      "60756/60756 [==============================] - 138s 2ms/sample - loss: 0.0618 - accuracy: 0.9773 - val_loss: 0.1650 - val_accuracy: 0.9450\n",
      "Epoch 6/10\n",
      "60756/60756 [==============================] - 140s 2ms/sample - loss: 0.0426 - accuracy: 0.9847 - val_loss: 0.1855 - val_accuracy: 0.9424\n",
      "Epoch 7/10\n",
      "60756/60756 [==============================] - 136s 2ms/sample - loss: 0.0311 - accuracy: 0.9891 - val_loss: 0.1857 - val_accuracy: 0.9494\n",
      "Epoch 8/10\n",
      "60756/60756 [==============================] - 134s 2ms/sample - loss: 0.0240 - accuracy: 0.9919 - val_loss: 0.2130 - val_accuracy: 0.9478\n",
      "Epoch 9/10\n",
      "60756/60756 [==============================] - 131s 2ms/sample - loss: 0.0193 - accuracy: 0.9933 - val_loss: 0.2210 - val_accuracy: 0.9484\n",
      "Epoch 10/10\n",
      "60756/60756 [==============================] - 131s 2ms/sample - loss: 0.0138 - accuracy: 0.9958 - val_loss: 0.2420 - val_accuracy: 0.9459\n"
     ]
    }
   ],
   "source": [
    "history = model.fit([train_article_title, train_table_title], train_label, \n",
    "          epochs=10, \n",
    "          batch_size=32, \n",
    "          validation_data=([validation_article_title, validation_table_title], validation_label))\n",
    "          #callbacks=callbacks_list)"
   ]
  },
  {
   "cell_type": "code",
   "execution_count": 18,
   "metadata": {},
   "outputs": [],
   "source": [
    "model.save('attention_model_random.h5')"
   ]
  },
  {
   "cell_type": "code",
   "execution_count": null,
   "metadata": {},
   "outputs": [],
   "source": []
  },
  {
   "cell_type": "code",
   "execution_count": 19,
   "metadata": {},
   "outputs": [
    {
     "data": {
      "image/png": "[encoded data removed]",
      "text/plain": [
       "<Figure size 432x288 with 1 Axes>"
      ]
     },
     "metadata": {
      "needs_background": "light"
     },
     "output_type": "display_data"
    }
   ],
   "source": [
    "# summarize history for accuracy\n",
    "plt.plot(history.history['accuracy'])\n",
    "plt.plot(history.history['val_accuracy'])\n",
    "plt.title('model accuracy')\n",
    "plt.ylabel('accuracy')\n",
    "plt.xlabel('epoch')\n",
    "plt.legend(['train', 'validation'], loc='upper left')\n",
    "plt.show()"
   ]
  },
  {
   "cell_type": "code",
   "execution_count": 20,
   "metadata": {},
   "outputs": [
    {
     "data": {
      "image/png": "[encoded data removed]",
      "text/plain": [
       "<Figure size 432x288 with 1 Axes>"
      ]
     },
     "metadata": {
      "needs_background": "light"
     },
     "output_type": "display_data"
    }
   ],
   "source": [
    "# summarize history for loss\n",
    "plt.plot(history.history['loss'])\n",
    "plt.plot(history.history['val_loss'])\n",
    "plt.title('model loss')\n",
    "plt.ylabel('loss')\n",
    "plt.xlabel('epoch')\n",
    "plt.legend(['train', 'validation'], loc='upper left')\n",
    "plt.show()"
   ]
  },
  {
   "cell_type": "code",
   "execution_count": null,
   "metadata": {},
   "outputs": [],
   "source": []
  },
  {
   "cell_type": "code",
   "execution_count": 21,
   "metadata": {},
   "outputs": [
    {
     "ename": "NameError",
     "evalue": "name 'label_validation' is not defined",
     "output_type": "error",
     "traceback": [
      "\u001b[0;31m---------------------------------------------------------------------------\u001b[0m",
      "\u001b[0;31mNameError\u001b[0m                                 Traceback (most recent call last)",
      "\u001b[0;32m<ipython-input-21-d0306d65390d>\u001b[0m in \u001b[0;36m<module>\u001b[0;34m\u001b[0m\n\u001b[1;32m      1\u001b[0m \u001b[0my_prob\u001b[0m \u001b[0;34m=\u001b[0m \u001b[0mmodel\u001b[0m\u001b[0;34m.\u001b[0m\u001b[0mpredict\u001b[0m\u001b[0;34m(\u001b[0m\u001b[0;34m[\u001b[0m\u001b[0mvalidation_article_title\u001b[0m\u001b[0;34m,\u001b[0m\u001b[0mvalidation_table_title\u001b[0m\u001b[0;34m]\u001b[0m\u001b[0;34m)\u001b[0m\u001b[0;34m\u001b[0m\u001b[0;34m\u001b[0m\u001b[0m\n\u001b[1;32m      2\u001b[0m \u001b[0my_prob\u001b[0m \u001b[0;34m=\u001b[0m \u001b[0;34m(\u001b[0m\u001b[0my_prob\u001b[0m \u001b[0;34m>\u001b[0m \u001b[0;36m0.5\u001b[0m\u001b[0;34m)\u001b[0m\u001b[0;34m.\u001b[0m\u001b[0mastype\u001b[0m\u001b[0;34m(\u001b[0m\u001b[0mnp\u001b[0m\u001b[0;34m.\u001b[0m\u001b[0mint\u001b[0m\u001b[0;34m)\u001b[0m\u001b[0;34m\u001b[0m\u001b[0;34m\u001b[0m\u001b[0m\n\u001b[0;32m----> 3\u001b[0;31m \u001b[0maccuracy_score\u001b[0m\u001b[0;34m(\u001b[0m\u001b[0mlabel_validation\u001b[0m\u001b[0;34m,\u001b[0m \u001b[0my_prob\u001b[0m\u001b[0;34m)\u001b[0m\u001b[0;34m\u001b[0m\u001b[0;34m\u001b[0m\u001b[0m\n\u001b[0m",
      "\u001b[0;31mNameError\u001b[0m: name 'label_validation' is not defined"
     ]
    }
   ],
   "source": [
    "y_prob = model.predict([validation_article_title,validation_table_title])\n",
    "y_prob = (y_prob > 0.5).astype(np.int)\n",
    "accuracy_score(label_validation, y_prob)"
   ]
  },
  {
   "cell_type": "code",
   "execution_count": null,
   "metadata": {},
   "outputs": [],
   "source": []
  },
  {
   "cell_type": "code",
   "execution_count": null,
   "metadata": {},
   "outputs": [],
   "source": []
  },
  {
   "cell_type": "code",
   "execution_count": null,
   "metadata": {},
   "outputs": [],
   "source": []
  },
  {
   "cell_type": "code",
   "execution_count": 22,
   "metadata": {},
   "outputs": [],
   "source": [
    "classes=[0,1]\n",
    "con_mat = tf.math.confusion_matrix(labels=validation_label, predictions=y_prob).numpy()\n",
    "con_mat_norm = np.around(con_mat.astype('float') / con_mat.sum(axis=1)[:, np.newaxis], decimals=2)\n",
    "con_mat_df = pd.DataFrame(con_mat_norm,\n",
    "                     index = classes, \n",
    "                     columns = classes)"
   ]
  },
  {
   "cell_type": "code",
   "execution_count": 23,
   "metadata": {},
   "outputs": [
    {
     "data": {
      "image/png": "[encoded data removed]",
      "text/plain": [
       "<Figure size 576x576 with 2 Axes>"
      ]
     },
     "metadata": {
      "needs_background": "light"
     },
     "output_type": "display_data"
    }
   ],
   "source": [
    "import seaborn as sns;\n",
    "figure = plt.figure(figsize=(8, 8))\n",
    "sns.heatmap(con_mat_df, annot=True,cmap=plt.cm.Blues)\n",
    "plt.tight_layout()\n",
    "plt.ylabel('True label')\n",
    "plt.xlabel('Predicted label')\n",
    "plt.show()"
   ]
  },
  {
   "cell_type": "code",
   "execution_count": null,
   "metadata": {},
   "outputs": [],
   "source": []
  },
  {
   "cell_type": "code",
   "execution_count": null,
   "metadata": {},
   "outputs": [],
   "source": []
  },
  {
   "cell_type": "code",
   "execution_count": null,
   "metadata": {},
   "outputs": [],
   "source": []
  }
 ],
 "metadata": {
  "kernelspec": {
   "display_name": "Python 3",
   "language": "python",
   "name": "python3"
  },
  "language_info": {
   "codemirror_mode": {
    "name": "ipython",
    "version": 3
   },
   "file_extension": ".py",
   "mimetype": "text/x-python",
   "name": "python",
   "nbconvert_exporter": "python",
   "pygments_lexer": "ipython3",
   "version": "3.7.3"
  }
 },
 "nbformat": 4,
 "nbformat_minor": 2
}
