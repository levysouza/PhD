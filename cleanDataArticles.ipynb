{
 "cells": [
  {
   "cell_type": "code",
   "execution_count": 1,
   "metadata": {},
   "outputs": [],
   "source": [
    "import pickle\n",
    "import re\n",
    "from tqdm import tqdm\n",
    "import pandas as pd\n",
    "import numpy as np\n",
    "import csv"
   ]
  },
  {
   "cell_type": "code",
   "execution_count": 2,
   "metadata": {},
   "outputs": [],
   "source": [
    "rawArticles = pickle.load(open(\"articlesDataset/final_article_tables.pkl\",\"rb\"))\n",
    "rawTables = pickle.load(open(\"articlesDataset/final_dict_tables.pkl\",\"rb\"))"
   ]
  },
  {
   "cell_type": "code",
   "execution_count": 21,
   "metadata": {},
   "outputs": [
    {
     "name": "stderr",
     "output_type": "stream",
     "text": [
      "100%|██████████| 90000/90000 [01:42<00:00, 874.20it/s] \n"
     ]
    }
   ],
   "source": [
    "formattedArticles = []\n",
    "\n",
    "for i in tqdm(rawArticles.keys()):\n",
    "    \n",
    "    keyArticle = i\n",
    "     \n",
    "    dataArticle = rawArticles[keyArticle]\n",
    "\n",
    "    totalArticles = len(dataArticle)\n",
    "\n",
    "    for i in range(totalArticles):\n",
    "    \n",
    "        fullText = str(dataArticle[i][1])\n",
    "    \n",
    "        #removing special characters\n",
    "        formattedText = re.sub('[^A-Za-z]+',' ',fullText)\n",
    "    \n",
    "        #removing left and right spaces\n",
    "        formattedText = formattedText.lstrip()\n",
    "        formattedText = formattedText.rstrip()\n",
    "    \n",
    "        formattedArticles.append([keyArticle,formattedText])"
   ]
  },
  {
   "cell_type": "code",
   "execution_count": 22,
   "metadata": {},
   "outputs": [
    {
     "name": "stderr",
     "output_type": "stream",
     "text": [
      " 98%|█████████▊| 291676/298725 [00:31<00:00, 9184.49it/s] \n"
     ]
    }
   ],
   "source": [
    "for article in tqdm(formattedArticles):\n",
    "    if (article[1] == ''):\n",
    "        formattedArticles.remove(article)"
   ]
  },
  {
   "cell_type": "code",
   "execution_count": 23,
   "metadata": {},
   "outputs": [
    {
     "name": "stderr",
     "output_type": "stream",
     "text": [
      "100%|██████████| 291676/291676 [00:25<00:00, 11319.55it/s]\n"
     ]
    }
   ],
   "source": [
    "with open('cleanDataArticles', 'w') as myfile:\n",
    "        \n",
    "    wr = csv.writer(myfile, quoting=csv.QUOTE_ALL)\n",
    "    \n",
    "    for article in tqdm(formattedArticles):\n",
    "    \n",
    "        articleID = article[0]\n",
    "    \n",
    "        articleText = article[1]\n",
    "    \n",
    "        row = [articleID,articleText]\n",
    "        \n",
    "        wr.writerow(row)"
   ]
  },
  {
   "cell_type": "code",
   "execution_count": 6,
   "metadata": {},
   "outputs": [
    {
     "data": {
      "text/plain": [
       "[('https://timesmachine.nytimes.com/timesmachine/1913/10/19/100654351.pdf',\n",
       "  ''),\n",
       " ('https://www.nytimes.com/1992/01/01/nyregion/earl-kintner-79-a-former-chief-of-ftc-and-law-firm-partner.html',\n",
       "  '             NYTimes.com no longer supports Internet Explorer 9 or earlier. Please upgrade your browser.  LEARN MORE »           Sections   Home   Search  Skip to content  Skip to navigation  View mobile version      The New York Times       Archives | Earl Kintner, 79, a Former Chief Of F.T.C. and Law Firm Partner          Search   Subscribe Now  Log In  0  Settings      Close search   Site Search Navigation     Search NYTimes.com     Clear this text input     Go        https://nyti.ms/29lJSEE      Loading...      See next articles       See previous articles           Site Navigation    Site Mobile Navigation       Advertisement         Archives  | 1992  Earl Kintner, 79, a Former Chief Of F.T.C. and Law Firm Partner   By ELEANOR BLAU JAN. 1, 1992     Continue reading the main story  Share This Page   Continue reading the main story         About the Archive  This is a digitized version of an article from The Times’s print archive, before the start of online publication in 1996. \\n            To preserve these articles as they originally appeared, The Times does not alter, edit or update them.  Occasionally the digitization process introduces transcription errors or other problems.\\n            Please send reports of such problems to archive_feedback@nytimes.com.             View page in TimesMachine        January 1, 1992, Page 001039 The New York Times Archives    Earl W. Kintner, a chairman of the Federal Trade Commission in the Eisenhower Administration and a longtime senior partner in the Washington law firm of Arent, Fox, Kintner, Plotkin & Kahn, died on Saturday at Sibley Memorial Hospital in Washington. He was 79 years old and lived in Washington. He died after a long illness, said a spokesman for his firm. As chairman of the commission from 1959 to 1961, Mr. Kintner urged industry to regulate itself, but he also vigorously enforced antitrust regulations. During his first year in the job, the soft-spoken lawyer repeatedly called on the television industry to police itself with respect to false and misleading advertising and then warned that his agency would conduct a formal investigation if necessary. \"Self-policing is no good unless there\\'s a cop on the corner with a big stick, who\\'s willing to use it,\" he said in an interview. Under his leadership, the agency issued a record number of complaints and orders in the 1960 fiscal year aimed at false advertising and other deceptive trade practices and at monopolistic activities. Born on Indiana Farm   Advertisement   Continue reading the main story   Born on a farm near Corydon, Ind., Mr. Kintner worked as a reporter and a short-order cook to support himself while attending DePauw University in Greencastle, Ind. He graduated from the Indiana University School of Law in 1938, practiced in Princeton, Ind., and served there as a prosecuting attorney.  Newsletter Sign Up  Continue reading the main story        Please verify you\\'re not a robot by clicking the box.  Invalid email address. Please re-enter.  You must select a newsletter to subscribe to.     Sign Up      You will receive emails containing news content , updates and promotions from The New York Times. You may opt-out at any time.         You agree to receive occasional updates and special offers for The New York Times\\'s products and services.        Thank you for subscribing.  An error has occurred. Please try again later.  You are already subscribed to this email.  View all New York Times newsletters.    See Sample  Manage Email Preferences  Not you?  Privacy Policy  Opt out or contact us anytime  Opt out or contact us anytime       While in the Navy from 1944 to 1948, he was appointed Deputy United States Commissioner to the United Nations War Crimes Commission. After his discharge from the Navy, he joined the staff of the Federal Trade Commission and served as a trial lawyer, then adviser and general counsel before becoming chairman.  Continue reading the main story         Advertisement   Continue reading the main story       In 1961, he joined Arent, Fox, Kintner, Plotkin & Kahn as a senior partner, and established and directed the firm\\'s antitrust practice. He retired in December 1990 and then served as counsel to the firm. He was the author or co-author of 7 antitrust and trade regulation primers, 11 volumes on Federal antitrust legislative history and 9 volumes of a treatise on Federal antitrust law. He is survived by his wife, Valerie; a son, Christopher Earl, of Denver ; two chilrden from a previous marriage: Anna Victoria MacKenzie of Danbury, N.H., and Jonathan B. Monroe of Newport, R.I.; a half-sister, Alice Foster of Princeton, Ind.; a brother, William, of San Diego; two grandchildren and two great-grandchildren.   A version of this biography; obituary appears in print on January 1, 1992, on Page 1001039 of the National edition with the headline: Earl Kintner, 79, a Former Chief Of F.T.C. and Law Firm Partner.  Order Reprints |  Today\\'s Paper | Subscribe      Continue reading the main story                     What\\'s Next    Loading...               Go to Home Page »   Site Index   The New York Times       Site Index Navigation    News    World    U.S.    Politics    N.Y.    Business    Tech    Science    Health    Sports    Education    Obituaries    Today\\'s Paper    Corrections      Opinion    Today\\'s Opinion    Op-Ed Columnists    Editorials    Op-Ed Contributors    Letters    Sunday Review    Video: Opinion      Arts    Today\\'s Arts    Art & Design    Books    Dance    Movies    Music    N.Y.C. Events Guide    Television    Theater    Video: Arts      Living    Automobiles    Crossword    Food    Education    Fashion & Style    Health    Jobs    Magazine    N.Y.C. Events Guide    Real Estate    T Magazine    Travel    Weddings & Celebrations      Listings & More    Reader Center    Classifieds    Tools & Services    N.Y.C. Events Guide    Multimedia    Photography    Video    NYT Store    Times Journeys    Subscribe    Manage My Account    NYTCo      Subscribe   Subscribe    Home Delivery     Digital Subscriptions     Crossword      Email Newsletters    Gift Subscriptions    Group Subscriptions    Education Rate      Mobile Applications    Replica Edition          Site Information Navigation    © 2018 The New York Times Company    Home  Search  Accessibility concerns? Email us at accessibility@nytimes.com . We would love to hear from you.  Contact Us  Work With Us  Advertise  Your Ad Choices  Privacy  Terms of Service  Terms of Sale     Site Information Navigation   Site Map  Help  Site Feedback  Subscriptions                     ')]"
      ]
     },
     "execution_count": 6,
     "metadata": {},
     "output_type": "execute_result"
    }
   ],
   "source": [
    "rawArticles['975219']"
   ]
  }
 ],
 "metadata": {
  "kernelspec": {
   "display_name": "Python 3",
   "language": "python",
   "name": "python3"
  },
  "language_info": {
   "codemirror_mode": {
    "name": "ipython",
    "version": 3
   },
   "file_extension": ".py",
   "mimetype": "text/x-python",
   "name": "python",
   "nbconvert_exporter": "python",
   "pygments_lexer": "ipython3",
   "version": "3.7.3"
  }
 },
 "nbformat": 4,
 "nbformat_minor": 2
}
