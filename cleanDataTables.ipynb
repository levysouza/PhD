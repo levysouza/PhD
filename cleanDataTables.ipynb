{
 "cells": [
  {
   "cell_type": "code",
   "execution_count": 1,
   "metadata": {},
   "outputs": [],
   "source": [
    "import pickle\n",
    "import re\n",
    "from tqdm import tqdm\n",
    "import pandas as pd\n",
    "import numpy as np\n",
    "import csv"
   ]
  },
  {
   "cell_type": "code",
   "execution_count": 2,
   "metadata": {},
   "outputs": [],
   "source": [
    "import findspark\n",
    "findspark.init('/home/lss9/anaconda3/lib/python3.7/site-packages/pyspark/')\n",
    "from pyspark.sql import SQLContext\n",
    "from pyspark import SparkContext, SparkConf\n",
    "import re\n",
    "from tqdm import tqdm"
   ]
  },
  {
   "cell_type": "code",
   "execution_count": 3,
   "metadata": {},
   "outputs": [],
   "source": [
    "conf = SparkConf().setAll([('spark.executor.memory', '16g'), ('spark.executor.cores', '3'), ('spark.cores.max', '3'), ('spark.driver.memory','16g')])\n",
    "sc = SparkContext(conf=conf)\n",
    "sqlContext = SQLContext(sc)"
   ]
  },
  {
   "cell_type": "code",
   "execution_count": 4,
   "metadata": {},
   "outputs": [
    {
     "data": {
      "text/plain": [
       "[('spark.driver.port', '35545'),\n",
       " ('spark.driver.host', 'gpu02.cin.ufpe.br'),\n",
       " ('spark.executor.id', 'driver'),\n",
       " ('spark.driver.memory', '16g'),\n",
       " ('spark.app.name', 'pyspark-shell'),\n",
       " ('spark.cores.max', '3'),\n",
       " ('spark.executor.memory', '16g'),\n",
       " ('spark.rdd.compress', 'True'),\n",
       " ('spark.serializer.objectStreamReset', '100'),\n",
       " ('spark.master', 'local[*]'),\n",
       " ('spark.executor.cores', '3'),\n",
       " ('spark.submit.deployMode', 'client'),\n",
       " ('spark.ui.showConsoleProgress', 'true'),\n",
       " ('spark.app.id', 'local-1566305676530')]"
      ]
     },
     "execution_count": 4,
     "metadata": {},
     "output_type": "execute_result"
    }
   ],
   "source": [
    "sc.getConf().getAll()"
   ]
  },
  {
   "cell_type": "code",
   "execution_count": 5,
   "metadata": {},
   "outputs": [],
   "source": [
    "def clearString(text):\n",
    "    \n",
    "    text = re.sub('[^A-Za-z]+',' ',text)\n",
    "    \n",
    "    text = text.lstrip()\n",
    "    \n",
    "    text = text.rstrip()\n",
    "    \n",
    "    return text"
   ]
  },
  {
   "cell_type": "code",
   "execution_count": 6,
   "metadata": {},
   "outputs": [],
   "source": [
    "rawTables = pickle.load(open(\"articlesDataset/final_dict_tables.pkl\",\"rb\"))"
   ]
  },
  {
   "cell_type": "code",
   "execution_count": 7,
   "metadata": {},
   "outputs": [],
   "source": [
    "rawData = sqlContext.read.json('/home/luciano/google/tables.json')"
   ]
  },
  {
   "cell_type": "code",
   "execution_count": 8,
   "metadata": {},
   "outputs": [],
   "source": [
    "rawData.registerTempTable(\"tables\")"
   ]
  },
  {
   "cell_type": "code",
   "execution_count": 9,
   "metadata": {},
   "outputs": [
    {
     "name": "stderr",
     "output_type": "stream",
     "text": [
      "100%|██████████| 90000/90000 [00:00<00:00, 603492.15it/s]\n"
     ]
    }
   ],
   "source": [
    "#getting distinct keys\n",
    "Keys = []\n",
    "\n",
    "for i in tqdm(rawTables.keys()):\n",
    "\n",
    "    dataTable = rawTables[i]\n",
    "    \n",
    "    totalTalbes = len(dataTable)\n",
    "    \n",
    "    for j in range(totalTalbes):\n",
    "        \n",
    "        tableKey = dataTable[j][0][0]\n",
    "            \n",
    "        Keys.append(tableKey)"
   ]
  },
  {
   "cell_type": "code",
   "execution_count": 10,
   "metadata": {},
   "outputs": [],
   "source": [
    "aux_list = set(Keys)\n",
    "distinctKeys = list(aux_list)"
   ]
  },
  {
   "cell_type": "code",
   "execution_count": 11,
   "metadata": {},
   "outputs": [
    {
     "name": "stderr",
     "output_type": "stream",
     "text": [
      "100%|██████████| 16398/16398 [00:03<00:00, 5038.71it/s]\n",
      "100%|██████████| 16617/16617 [00:03<00:00, 5305.10it/s]\n",
      "100%|██████████| 17557/17557 [00:03<00:00, 5609.79it/s]\n",
      "100%|██████████| 16184/16184 [00:14<00:00, 1150.19it/s]\n",
      "100%|██████████| 16920/16920 [00:16<00:00, 1038.17it/s]\n",
      "100%|██████████| 18141/18141 [00:15<00:00, 1207.46it/s]\n",
      "100%|██████████| 16420/16420 [00:14<00:00, 1134.71it/s]\n",
      "100%|██████████| 16634/16634 [00:14<00:00, 1144.36it/s]\n",
      "100%|██████████| 16907/16907 [00:14<00:00, 1149.92it/s]\n",
      "100%|██████████| 17160/17160 [00:14<00:00, 1162.34it/s]\n",
      "100%|██████████| 16484/16484 [00:15<00:00, 1098.73it/s]\n",
      "100%|██████████| 21350/21350 [00:35<00:00, 604.99it/s] \n",
      "100%|██████████| 16703/16703 [00:13<00:00, 1213.09it/s]\n",
      "100%|██████████| 16978/16978 [00:03<00:00, 5083.52it/s]\n",
      "100%|██████████| 16787/16787 [00:03<00:00, 5072.54it/s]\n",
      "100%|██████████| 16958/16958 [00:03<00:00, 4957.92it/s]\n",
      "100%|██████████| 17485/17485 [00:03<00:00, 5504.00it/s]\n",
      "100%|██████████| 17003/17003 [00:03<00:00, 4971.14it/s]\n"
     ]
    }
   ],
   "source": [
    "formattedTables = []\n",
    "\n",
    "first = 0\n",
    "last = 4999\n",
    "\n",
    "#first = 50000\n",
    "#last = 54999\n",
    "\n",
    "for i in range(18):\n",
    "    \n",
    "    auxString = \"select pgId, pgTitle, sectionTitle, tableCaption, tableHeaders, tableData from tables where pgId in (\"\n",
    "\n",
    "    auxString = auxString +''+ str(distinctKeys[first])\n",
    "\n",
    "    for k in range(first,last):\n",
    "    \n",
    "        auxString = auxString +','+ str(distinctKeys[k])\n",
    "\n",
    "    auxString = auxString +')'\n",
    "    \n",
    "    first = last + 1\n",
    "    last = last + 5000\n",
    "\n",
    "    #getting the query\n",
    "    query = auxString\n",
    "\n",
    "    returnSelect = sqlContext.sql(query).collect()\n",
    "\n",
    "    for row in tqdm(returnSelect):\n",
    "    \n",
    "        tablePgID = row.pgId\n",
    "        tablePgTitle = row.pgTitle\n",
    "        tableSectionTitle = row.sectionTitle\n",
    "        tableCaption = str(row.tableCaption)\n",
    "    \n",
    "        #removing special characters\n",
    "        tablePgTitle = clearString(tablePgTitle)\n",
    "        tableSectionTitle = clearString(tableSectionTitle)\n",
    "        tableCaption = clearString(tableCaption)\n",
    "    \n",
    "        #getting the headers\n",
    "        tableHeader = ''\n",
    "    \n",
    "        tablesHeaderRawData = row.tableHeaders\n",
    "    \n",
    "        for tableHeaderLines in tablesHeaderRawData:\n",
    "            \n",
    "            tableHeaderRawColumns = tableHeaderLines\n",
    "        \n",
    "            for tableHeaderColumns in tableHeaderRawColumns:\n",
    "            \n",
    "                tableHeader = tableHeader +' '+ tableHeaderColumns.text\n",
    "            \n",
    "        tableHeader = clearString(tableHeader)\n",
    "    \n",
    "    \n",
    "        #getting the table body\n",
    "        tableBody = ''\n",
    "    \n",
    "        tableRawData = row.tableData\n",
    "    \n",
    "        for tableLines in tableRawData:\n",
    "            \n",
    "            tableRawColumns = tableLines\n",
    "        \n",
    "            for tableColumns in tableRawColumns:\n",
    "            \n",
    "                tableBody = tableBody +' '+ tableColumns.text\n",
    "            \n",
    "        tableBody = clearString(tableBody)\n",
    "        \n",
    "        cachAllText = tablePgTitle +\" \"+tableSectionTitle+\" \"+tableCaption+\" \"+tableHeader+\" \"+tableBody\n",
    "    \n",
    "        # save the table in list\n",
    "        formattedTables.append([tablePgID,tablePgTitle,tableSectionTitle,tableCaption,tableHeader,tableBody,cachAllText])"
   ]
  },
  {
   "cell_type": "code",
   "execution_count": 12,
   "metadata": {},
   "outputs": [],
   "source": [
    "# formattedTables = []\n",
    "\n",
    "# for i in tqdm(rawTables.keys()):\n",
    "\n",
    "#     dataTable = rawTables[i]\n",
    "    \n",
    "#     totalTalbes = len(dataTable)\n",
    "    \n",
    "#     for j in range(totalTalbes):\n",
    "        \n",
    "#         tableKey = dataTable[j][0][0]\n",
    "        \n",
    "#         tableCaption = dataTable[j][0][1]\n",
    "        \n",
    "#         tableHeader = str(dataTable[j][0][2:])\n",
    "#         tableHeader = re.sub('[^A-Za-z]+',' ',tableHeader)\n",
    "#         tableHeader = tableHeader.lstrip()\n",
    "#         tableHeader = tableHeader.rstrip()\n",
    "                \n",
    "#         tableBody = str(dataTable[j][1:])\n",
    "#         tableBody = re.sub('[^A-Za-z]+',' ',tableBody)\n",
    "#         tableBody = tableBody.lstrip()\n",
    "#         tableBody = tableBody.rstrip()\n",
    "        \n",
    "#         cachAllText = tableCaption +\" \"+tableHeader+\" \"+tableBody\n",
    "        \n",
    "#         formattedTables.append([tableKey,tableCaption,tableHeader,tableBody,cachAllText])"
   ]
  },
  {
   "cell_type": "code",
   "execution_count": 13,
   "metadata": {},
   "outputs": [
    {
     "name": "stderr",
     "output_type": "stream",
     "text": [
      " 97%|█████████▋| 298793/308686 [02:32<00:05, 1961.36it/s] \n"
     ]
    }
   ],
   "source": [
    "for tables in tqdm(formattedTables):\n",
    "    if (tables[5] == ''):\n",
    "        formattedTables.remove(tables)"
   ]
  },
  {
   "cell_type": "code",
   "execution_count": 14,
   "metadata": {},
   "outputs": [
    {
     "name": "stderr",
     "output_type": "stream",
     "text": [
      "100%|██████████| 298793/298793 [00:09<00:00, 30751.59it/s]\n"
     ]
    }
   ],
   "source": [
    "with open('cleanDataTablesFile', 'w') as myfile:\n",
    "        \n",
    "    wr = csv.writer(myfile, quoting=csv.QUOTE_ALL)\n",
    "    \n",
    "    for tables in tqdm(formattedTables):\n",
    "    \n",
    "        tablePgID = tables[0]\n",
    "    \n",
    "        tablePgTitle = tables[1]\n",
    "        \n",
    "        tableSectionTitle = tables[2]\n",
    "        \n",
    "        tableCaption = tables[3]\n",
    "        \n",
    "        tableHeader = tables[4]\n",
    "        \n",
    "        tableBody = tables[5]\n",
    "        \n",
    "        cachAllText = tables[6]\n",
    "    \n",
    "        row = [tablePgID,tablePgTitle,tableSectionTitle,tableCaption,tableHeader,tableBody,cachAllText]\n",
    "        \n",
    "        wr.writerow(row)"
   ]
  },
  {
   "cell_type": "code",
   "execution_count": null,
   "metadata": {},
   "outputs": [],
   "source": []
  }
 ],
 "metadata": {
  "kernelspec": {
   "display_name": "Python 3",
   "language": "python",
   "name": "python3"
  },
  "language_info": {
   "codemirror_mode": {
    "name": "ipython",
    "version": 3
   },
   "file_extension": ".py",
   "mimetype": "text/x-python",
   "name": "python",
   "nbconvert_exporter": "python",
   "pygments_lexer": "ipython3",
   "version": "3.7.3"
  }
 },
 "nbformat": 4,
 "nbformat_minor": 2
}
