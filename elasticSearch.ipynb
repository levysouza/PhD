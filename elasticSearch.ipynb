{
 "cells": [
  {
   "cell_type": "code",
   "execution_count": 1,
   "metadata": {},
   "outputs": [],
   "source": [
    "from tqdm import tqdm\n",
    "import numpy as np\n",
    "import pandas as pd\n",
    "import random\n",
    "from elasticsearch import Elasticsearch\n",
    "from elasticsearch import helpers\n",
    "indexingTables = Elasticsearch()"
   ]
  },
  {
   "cell_type": "code",
   "execution_count": 2,
   "metadata": {},
   "outputs": [],
   "source": [
    "def getAccuracy(idRankedTables, idQueryGoal):\n",
    "    \n",
    "    accuracy = 0\n",
    "\n",
    "    for idTable in idRankedTables:\n",
    "    \n",
    "        if idTable == idQueryGoal:\n",
    "    \n",
    "            accuracy = 1\n",
    "            break;\n",
    "\n",
    "    return accuracy"
   ]
  },
  {
   "cell_type": "code",
   "execution_count": 11,
   "metadata": {},
   "outputs": [
    {
     "data": {
      "text/plain": [
       "{'acknowledged': True, 'shards_acknowledged': True}"
      ]
     },
     "execution_count": 11,
     "metadata": {},
     "output_type": "execute_result"
    }
   ],
   "source": [
    "indexingTables.indices.close(index='tables')\n",
    "indexingTables.indices.put_settings(index='tables', body={\"index\": {\"similarity\": {\"default\": {\"type\": \"classic\"}}}})\n",
    "indexingTables.indices.open(index='tables')"
   ]
  },
  {
   "cell_type": "code",
   "execution_count": 4,
   "metadata": {},
   "outputs": [],
   "source": [
    "def searchIndexingMLT(query, tableField, topK):\n",
    "        \n",
    "    result = indexingTables.search(\n",
    "    index=\"tables\", \n",
    "    body = {\n",
    "        \"_source\": [\"tablePgID\"],\n",
    "        \"from\" : 0,\n",
    "        \"size\" : topK,\n",
    "        \"query\": {\n",
    "            \"more_like_this\" : {\n",
    "                \"fields\" : [tableField],\n",
    "                \"like\" : \"[\"+query+\"]\",\n",
    "                \"min_term_freq\" : 0,\n",
    "                \"min_doc_freq\":0,\n",
    "                \"max_query_terms\":50\n",
    "            }\n",
    "        }\n",
    "    }\n",
    "    )\n",
    "    \n",
    "    return result"
   ]
  },
  {
   "cell_type": "code",
   "execution_count": 24,
   "metadata": {},
   "outputs": [],
   "source": [
    "def searchIndexing(query, tableField, topK):\n",
    "    \n",
    "    result= indexingTables.search(\n",
    "        index=\"tables\", \n",
    "        body = {\n",
    "        \"_source\": [\"tablePgID\"],\n",
    "        \"from\" : 0,\n",
    "        \"size\" : topK,\n",
    "        \"query\": {\n",
    "            \"multi_match\":{\n",
    "              \"type\": \"most_fields\",\n",
    "              \"query\":    query, \n",
    "              \"fields\": [\"tablePgTitle\",\"tableBody\",\"tableHeader\"] \n",
    "              #\"fields\": [tableField]\n",
    "            }\n",
    "        }\n",
    "    })\n",
    "    \n",
    "    return result"
   ]
  },
  {
   "cell_type": "code",
   "execution_count": null,
   "metadata": {},
   "outputs": [],
   "source": []
  },
  {
   "cell_type": "code",
   "execution_count": 6,
   "metadata": {},
   "outputs": [],
   "source": [
    "articles = pd.read_csv('articlesDataset/articlesTestDataset', delimiter=',', header=None)\n",
    "formattedArticles = articles.iloc[:,:].values"
   ]
  },
  {
   "cell_type": "code",
   "execution_count": null,
   "metadata": {},
   "outputs": [],
   "source": []
  },
  {
   "cell_type": "code",
   "execution_count": 7,
   "metadata": {},
   "outputs": [],
   "source": [
    "def executeSearch(tableField, topK):\n",
    "\n",
    "    accuracy = []\n",
    "\n",
    "    for articles in (formattedArticles):\n",
    "    \n",
    "        articleKey = articles[0]\n",
    "        \n",
    "        articleTitle = str(articles[1])\n",
    "    \n",
    "        articleText = str(articles[2])\n",
    "        \n",
    "        result = searchIndexing(articleTitle,tableField,topK)\n",
    "    \n",
    "        idRankedTables = []\n",
    "    \n",
    "        for hit in result['hits']['hits']:\n",
    "    \n",
    "            tablePgId = hit['_source']['tablePgID']\n",
    "    \n",
    "            idRankedTables.append(tablePgId)\n",
    "    \n",
    "        accuracy.append(getAccuracy(idRankedTables,articleKey))\n",
    "\n",
    "    print(str(round(np.mean(accuracy),4))+\" (±) \"+str(round(np.std(accuracy),4)))"
   ]
  },
  {
   "cell_type": "code",
   "execution_count": null,
   "metadata": {},
   "outputs": [],
   "source": []
  },
  {
   "cell_type": "code",
   "execution_count": 8,
   "metadata": {},
   "outputs": [],
   "source": [
    "tableField = [\"tablePgTitle\",\"tableSectionTitle\",\"tableCaption\",\"tableHeader\",\"tableBody\"]\n",
    "topK = [1,10,100,1000]"
   ]
  },
  {
   "cell_type": "code",
   "execution_count": 25,
   "metadata": {},
   "outputs": [
    {
     "name": "stdout",
     "output_type": "stream",
     "text": [
      "Acc@1\n",
      "0.1505 (±) 0.3576\n",
      "Acc@10\n",
      "0.2741 (±) 0.4461\n",
      "Acc@100\n",
      "0.4024 (±) 0.4904\n",
      "Acc@1000\n",
      "0.5339 (±) 0.4988\n"
     ]
    }
   ],
   "source": [
    "for k in topK:\n",
    "    \n",
    "    print(\"Acc@\"+str(k))\n",
    "    \n",
    "    #for field in tableField:\n",
    "        \n",
    "    executeSearch(field,k)"
   ]
  },
  {
   "cell_type": "code",
   "execution_count": null,
   "metadata": {},
   "outputs": [],
   "source": []
  }
 ],
 "metadata": {
  "kernelspec": {
   "display_name": "Python 3",
   "language": "python",
   "name": "python3"
  },
  "language_info": {
   "codemirror_mode": {
    "name": "ipython",
    "version": 3
   },
   "file_extension": ".py",
   "mimetype": "text/x-python",
   "name": "python",
   "nbconvert_exporter": "python",
   "pygments_lexer": "ipython3",
   "version": "3.7.3"
  }
 },
 "nbformat": 4,
 "nbformat_minor": 2
}
