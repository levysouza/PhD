{
 "cells": [
  {
   "cell_type": "code",
   "execution_count": 1,
   "metadata": {},
   "outputs": [],
   "source": [
    "from tqdm import tqdm\n",
    "import numpy as np\n",
    "import pandas as pd\n",
    "import random\n",
    "from elasticsearch import Elasticsearch\n",
    "from elasticsearch import helpers\n",
    "indexingTables = Elasticsearch()"
   ]
  },
  {
   "cell_type": "code",
   "execution_count": 2,
   "metadata": {},
   "outputs": [],
   "source": [
    "def getAccuracy(idRankedTables, idQueryGoal):\n",
    "    \n",
    "    accuracy = 0\n",
    "\n",
    "    for idTable in idRankedTables:\n",
    "    \n",
    "        if idTable == idQueryGoal:\n",
    "    \n",
    "            accuracy = 1\n",
    "            break;\n",
    "\n",
    "    return accuracy"
   ]
  },
  {
   "cell_type": "code",
   "execution_count": 11,
   "metadata": {},
   "outputs": [
    {
     "data": {
      "text/plain": [
       "{'acknowledged': True, 'shards_acknowledged': True}"
      ]
     },
     "execution_count": 11,
     "metadata": {},
     "output_type": "execute_result"
    }
   ],
   "source": [
    "indexingTables.indices.close(index='tables')\n",
    "indexingTables.indices.put_settings(index='tables', body={\"index\": {\"similarity\": {\"default\": {\"type\": \"classic\"}}}})\n",
    "indexingTables.indices.open(index='tables')"
   ]
  },
  {
   "cell_type": "code",
   "execution_count": 4,
   "metadata": {},
   "outputs": [],
   "source": [
    "def searchIndexingMLT(query, tableField, topK):\n",
    "        \n",
    "    result = indexingTables.search(\n",
    "    index=\"tables\", \n",
    "    body = {\n",
    "        \"_source\": [\"tablePgID\"],\n",
    "        \"from\" : 0,\n",
    "        \"size\" : topK,\n",
    "        \"query\": {\n",
    "            \"more_like_this\" : {\n",
    "                \"fields\" : [tableField],\n",
    "                \"like\" : \"[\"+query+\"]\",\n",
    "                \"min_term_freq\" : 0,\n",
    "                \"min_doc_freq\":0,\n",
    "                \"max_query_terms\":50\n",
    "            }\n",
    "        }\n",
    "    }\n",
    "    )\n",
    "    \n",
    "    return result"
   ]
  },
  {
   "cell_type": "code",
   "execution_count": 5,
   "metadata": {},
   "outputs": [],
   "source": [
    "def searchIndexing(query, tableField, topK):\n",
    "    \n",
    "    result= indexingTables.search(\n",
    "        index=\"tables\", \n",
    "        body = {\n",
    "        \"_source\": [\"tablePgID\"],\n",
    "        \"from\" : 0,\n",
    "        \"size\" : topK,\n",
    "        \"query\": {\n",
    "            \"multi_match\":{\n",
    "              \"type\": \"most_fields\",\n",
    "              \"query\":    query, \n",
    "              \"fields\": [\"tableCaption\",\"tableSectionTitle\",\"tableHeader\"] \n",
    "              #\"fields\": [tableField]\n",
    "            }\n",
    "        }\n",
    "    })\n",
    "    \n",
    "    return result"
   ]
  },
  {
   "cell_type": "code",
   "execution_count": null,
   "metadata": {},
   "outputs": [],
   "source": []
  },
  {
   "cell_type": "code",
   "execution_count": 6,
   "metadata": {},
   "outputs": [],
   "source": [
    "articles = pd.read_csv('articlesDataset/articlesTestDataset', delimiter=',', header=None)\n",
    "formattedArticles = articles.iloc[:,:].values"
   ]
  },
  {
   "cell_type": "code",
   "execution_count": null,
   "metadata": {},
   "outputs": [],
   "source": []
  },
  {
   "cell_type": "code",
   "execution_count": 8,
   "metadata": {},
   "outputs": [],
   "source": [
    "def executeSearch(tableField, topK):\n",
    "\n",
    "    accuracy = []\n",
    "\n",
    "    for articles in (formattedArticles):\n",
    "    \n",
    "        articleKey = articles[0]\n",
    "        \n",
    "        articleTitle = str(articles[1])\n",
    "    \n",
    "        articleText = str(articles[2])\n",
    "        \n",
    "        result = searchIndexing(articleText,tableField,topK)\n",
    "    \n",
    "        idRankedTables = []\n",
    "    \n",
    "        for hit in result['hits']['hits']:\n",
    "    \n",
    "            tablePgId = hit['_source']['tablePgID']\n",
    "    \n",
    "            idRankedTables.append(tablePgId)\n",
    "    \n",
    "        accuracy.append(getAccuracy(idRankedTables,articleKey))\n",
    "\n",
    "    print(str(round(np.mean(accuracy),4))+\" (±) \"+str(round(np.std(accuracy),4)))"
   ]
  },
  {
   "cell_type": "code",
   "execution_count": null,
   "metadata": {},
   "outputs": [],
   "source": []
  },
  {
   "cell_type": "code",
   "execution_count": 9,
   "metadata": {},
   "outputs": [],
   "source": [
    "tableField = [\"tablePgTitle\",\"tableSectionTitle\",\"tableCaption\",\"tableHeader\",\"tableBody\"]\n",
    "topK = [1,10,100,1000]"
   ]
  },
  {
   "cell_type": "code",
   "execution_count": 13,
   "metadata": {},
   "outputs": [
    {
     "name": "stdout",
     "output_type": "stream",
     "text": [
      "Acc@1\n"
     ]
    },
    {
     "ename": "RequestError",
     "evalue": "RequestError(400, 'search_phase_execution_exception', 'failed to create query: {\\n  \"multi_match\" : {\\n    \"query\" : \"close skip main content sign subscribe search jobs guardian jobs change edition switch edition switch edition switch int beta edition edition switch edition switch australia edition switch international beta guardian home soccer live scores tables competitions results fixtures clubs home world opinion sports selected soccer selected tech arts lifestyle fashion business travel environment science browse sections close zimbabwe peter ndlovu bruce grobbelaar made zimbabwe dare dream early country finally golden generation players stood verge quaifying africa cup nations world cup bruce grobbelaar left shares joke zimbabwe team mate peter ndlovu photograph howard burditt reuters ian hawkey wednesday august edt share facebook share twitter share via email share pinterest share linkedin share google share whatsapp following extract ian hawkey article issue nine blizzard published june blizzard quarterly football journal available www theblizzard pay like basis print digital formats zimbabwe traveller usually knows clearly pentagon highways vein country meticulously pegged kilometre kilometre across zimbabwe sparsely populated rural space driver appreciates landmarks early hours december bmw suv approaching peg bulawayo victoria falls road driver lost control vehicle curve tyre burst vehicle veered tarmac crashed trees shuddered standstill leaning right side mangled wreck noise collision woke people settlement lupinyu drew scene found one passenger nomqele tshili year old woman already dead two men car rushed victoria falls hospital critical condition dark bloodied head injuries recognised two zimbabwe celebrated citizens number plate nuddy told vehicle south african coventry birmingham huddersfield personalised nuddy plate might prompted readier recognition nickname peter ndlovu driving acquired moved england beginning stuck year career premier league championship home zimbabwe seldom called nuddy rather known team mates zonga man car peter older brother adam adamski ndlovu died later sunday hospital aged ndlovus way victoria falls play friendly match highlanders legends gathering retired players principal club matabeleland region come local day nostalgia obituaries adam ndlovu would far years since zimbabwe famous sporting brothers step ahead cricketing flowers tennis playing blacks spearheading looked nation finest era popular sport mention dream team zimbabwe shorthand young ndlovus front rugged back four one football charismatic goalkeepers dream team almost folkloric status although would fall short realising aspirations sustained months reaching world cup tag dream team would first hung southern hemisphere winter sobriquet borrowed basketball team barcelona olympics assembly nba superstars plunged games discarded pretence amateurism zimbabwe football sense might draw unprecedented expertise one sport glamorous professional structures english league vantage point today premier league almost every team least one african line seems remarkable premier league began two established african stars top flight english football zimbabwean peter ndlovu quick surprisingly sturdy possession nimble opponent many english centre halves spotted coventry city toured zimbabwe part pre season training bruce grobbelaar route dominant english club era liverpool beginnings highlanders club ndlovu later joined circuitous via south africa canada late relationship national team complicated resolving would provide element suspense prelude dream team adventure facebook twitter pinterest peter ndlovu playing coventry city outpaces manchester united defender gary pallister premier league match old trafford photograph david cannon getty images summer grobbelaar club career crossroads decade mostly unchallenged ownership jersey england number one club period six league titles european cup half dozen winners medals major domestic cups grobbelaar told anfield status threatened liverpool expensively recruited david james weekend new premier league kick offered alternative sitting bench understudying james prem zim first time several years absence international football maverick grobbelaar answered call national team enthusiastic yes grobbelaar flew merseyside thursday night three days opening match africa cup nations qualifiers passed customs harare airport using british passport obtained early virtue common many small significant minority white zimbabweans british ancestry somewhere boughs family tree rub grobbelaar played country decade partly law passed government robert mugabe forbade citizens holding zimbabwean passport british one mugabe transformation rhodesia country first democratic elections put zanu party power pegged post colonial markers like within zanu alive feelgood power success sports field mugabe quite clever bruce grobbelaar situation back remembers pernell mckop assistant coach zimbabwe national team early grobbelaar wanted zimbabwe new head coach german named reinhard fabisch made clear wanted best goalkeeper team people wanted bruce fixture might make comeback especially resonant zimbabwe begin qualifying campaign cup nations neighbours south africa would competing first time ever africa fifa authorised national team decades anti apartheid sanctions south africa team endorsed president waiting nelson mandela black white mixed race south africans emblematic rainbow nation zimbabwe inclusion grobbelaar man fought rhodesian army conscript civil war mugabe freedom fighters made statement diversity even two days ahead game government saying bruce zimbabwean passport eligibility home office remembers mckop used hype suspense kept saying touch whether could play naturally grobbelaar would also boost number bulawayians national team noted ways zimbabwean football quite politicised says mckop rivalry domestically highlanders bulawayo matabeleland dynamos harare mashonaland could become tribalistic matabeleland early post democracy years subject brutal oppression sections armed forces highlanders versus dynamos matches bore emotional weight mckop remembers joshua nkomo leader zapu party whose core constituency matabeleland giving get speeches highlanders players composition national team added terms numbers players part country issue politicians media fabisch outsider exercised certain licence disregard fans matabeleland congratulated unusually high number men national team facebook twitter pinterest peter ndlovu relaxes home coventry mid photograph action images dream team momentum became harder interfere matters sunny winter day harare national stadium dream team gained traction grobbelaar sense might watershed match country got call come back play south africa thrilled recalls knew really would helluva game visitors thought big storyline fabisch played cowing underdog status zimbabwe much stronger though players willard khumalo zimbabwe midfielder gave gem quote covering game asked opinion south africa insatiably showy trickster winger doctor khumalo kaizer chiefs khumalo zimbabwe suggested khumalo south africa risked change name doctor nurse front crowd zimbabwe demolished south africa went thanks goals vitalis digital takawira rahman gumbo opening minutes winners peter ndlovu still teenager got two goals dream team lift david whipped one self styled goliath continent months followed would aim slingshots genuine giants african football picked way cluttered calendar besides cup nations qualifiers qualifying marathon usa world cup two tiers group phases top team going stage course zimbabwe would required keep poise demanding away trips notably angola first world cup mini league baking january day angolan civil war coming luanda circle way airport someone shooting planes recalls grobbelaar stadium must supposed hold draw felt plucky three weeks earlier egypt beaten harare peg dream team highway significant resonant rout south africans peter ndlovu slalom left foot drive first goal win highlight set rousing conclusion group zimbabwe needing point cairo next phase eliminate pharaohs end intense rowdy night fabisch cut head grobbelaar also struck missile egypt zimbabwe armed television footage appealed fifa world governing body record righting perceived wrongs caused lax security particularly africa little haphazard yet dream team awarded replay match played lyon france grobbelaar one finest nights international career draw vividly celebrated miles away back home bad drought hurting population wearing country economy morale low time says mckop people clung idea dream team road usa felt might first time africa cup nations played qualifiers started put together unbeaten run days brought back joy independence feeling single objective think partly dream team label stuck zimbabwe cup nations qualifying campaign would middle overshadowed bigger story zambia came harare final group match needing draw pip dream team place finals sympathy support world three months earlier zambia squad travelling match senegal killed plane crash zimbabwe hastily patched together side fell goal behind dream team course first ever major tournament eleven minutes remained zambia captain kalusha bwalya directed header past grobbelaar facebook twitter pinterest peter ndlovu right carried playing zimbabwe challenges senegal rahmane barry african nations cup game port said egypt photograph suhaib salem reuters reuters road usa remained open add scalp egypt would cutting size cameroon africa visible football power thanks italia beaten harare zimbabwe dropped points defeat guinea also rans mini league penultimate set fixtures second group phase zimbabwe found one win shy target yaound beat indomitable lions one trio african sides world cup dream flickered five minutes second half adam ndlovu scored hush came ahmadou ahidjo stadium brief respite noise grobbelaar describes like swarm angry bees ringing ears cameroon already two goals added third zimbabwe broken touchline fabisch started throwing dollar bills around implying referee given contentious early penalty favour cameroon bought zim dream team minutes first ever cup nations one win reaching neither year loss yaound zimbabwe famous footballer front page sun britain bruce grobbelaar would spend next three years defending allegations match fixing time liverpool cleared corruption charges played country four years later coached warriors vigorous disagreements officials zimbabwe football association ties country weakened dual passport issue resurfaced time would resolved presidential flourish zimbabwe wait first appearance cup nations lasted century time country often appeared ceaseless bad news story violent general elections surreal inflation rates soaring unemployment desperate emigration economic crisis meant zimbabwe withdrew designated hosts african cup nations nearly quarter century independence zimbabwe finally qualified nations cup iconic ndlovu brothers still front warriors label dream team accompanied zimbabwe reached tournament egypt peter ndlovu cap another group stage exit deemed worthy comparison sides early even peak seems distant african football hierarchy least international level become refreshingly fluid century small nations little footballing heritage rise suddenly togo angola reached world cup finals burkina faso finished second cup nations zimbabwe caught train currently live ongoing fallout asiagate match fixing scandal centred tour sub standard zimbabwe team far east implicating hundred players officials april peter ndlovu cleared culpability crash cost brother life continues work assistant coach national team ranks outside fifa top little wonder longing rose tinted nostalgia called dream team easily stirred blizzard page quarterly publication allows best football writers world opportunity write football stories matter limits editorial bias back issues available pay like basis print digital formats www theblizzard digital issues available features topics zimbabwe share facebook share twitter share via email share pinterest share linkedin share google share whatsapp view comments comments sign create guardian account join discussion discussion closed comments maintenance right still read comments please come back later add commenting disabled account order newest oldest show threads collapsed expanded unthreaded loading comments trouble loading view comments popular guardian back top home world opinion sports selected soccer selected tech arts lifestyle fashion business travel environment science sections close home world europe americas asia middle east africa australia cities development opinion sports selected soccer selected mls nfl mlb nba nhl soccer selected live scores tables competitions results fixtures clubs tech arts movies radio music games books art design stage classical lifestyle food health fitness love sex family women home garden fashion business economics sustainable business diversity equality business small business travel usa europe environment climate change wildlife energy pollution science media crosswords blog editor quick cryptic prize quiptic genius speedy everyman azed video soccer zimbabwe jobs subscribe topics contributors report technical issue contact complaints corrections terms conditions privacy policy cookie policy securedrop guardian news media limited affiliated companies rights reserved\",\\n    \"fields\" : [\\n      \"tableCaption^1.0\",\\n      \"tableHeader^1.0\",\\n      \"tableSectionTitle^1.0\"\\n    ],\\n    \"type\" : \"most_fields\",\\n    \"operator\" : \"OR\",\\n    \"slop\" : 0,\\n    \"prefix_length\" : 0,\\n    \"max_expansions\" : 50,\\n    \"zero_terms_query\" : \"NONE\",\\n    \"auto_generate_synonyms_phrase_query\" : true,\\n    \"fuzzy_transpositions\" : true,\\n    \"boost\" : 1.0\\n  }\\n}')",
     "output_type": "error",
     "traceback": [
      "\u001b[0;31m---------------------------------------------------------------------------\u001b[0m",
      "\u001b[0;31mRequestError\u001b[0m                              Traceback (most recent call last)",
      "\u001b[0;32m<ipython-input-13-8d168f1e392e>\u001b[0m in \u001b[0;36m<module>\u001b[0;34m\u001b[0m\n\u001b[1;32m      5\u001b[0m     \u001b[0;32mfor\u001b[0m \u001b[0mfield\u001b[0m \u001b[0;32min\u001b[0m \u001b[0mtableField\u001b[0m\u001b[0;34m:\u001b[0m\u001b[0;34m\u001b[0m\u001b[0;34m\u001b[0m\u001b[0m\n\u001b[1;32m      6\u001b[0m \u001b[0;34m\u001b[0m\u001b[0m\n\u001b[0;32m----> 7\u001b[0;31m         \u001b[0mexecuteSearch\u001b[0m\u001b[0;34m(\u001b[0m\u001b[0mfield\u001b[0m\u001b[0;34m,\u001b[0m\u001b[0mk\u001b[0m\u001b[0;34m)\u001b[0m\u001b[0;34m\u001b[0m\u001b[0;34m\u001b[0m\u001b[0m\n\u001b[0m",
      "\u001b[0;32m<ipython-input-8-36528d44c2e4>\u001b[0m in \u001b[0;36mexecuteSearch\u001b[0;34m(tableField, topK)\u001b[0m\n\u001b[1;32m     11\u001b[0m         \u001b[0marticleText\u001b[0m \u001b[0;34m=\u001b[0m \u001b[0mstr\u001b[0m\u001b[0;34m(\u001b[0m\u001b[0marticles\u001b[0m\u001b[0;34m[\u001b[0m\u001b[0;36m2\u001b[0m\u001b[0;34m]\u001b[0m\u001b[0;34m)\u001b[0m\u001b[0;34m\u001b[0m\u001b[0;34m\u001b[0m\u001b[0m\n\u001b[1;32m     12\u001b[0m \u001b[0;34m\u001b[0m\u001b[0m\n\u001b[0;32m---> 13\u001b[0;31m         \u001b[0mresult\u001b[0m \u001b[0;34m=\u001b[0m \u001b[0msearchIndexing\u001b[0m\u001b[0;34m(\u001b[0m\u001b[0marticleText\u001b[0m\u001b[0;34m,\u001b[0m\u001b[0mtableField\u001b[0m\u001b[0;34m,\u001b[0m\u001b[0mtopK\u001b[0m\u001b[0;34m)\u001b[0m\u001b[0;34m\u001b[0m\u001b[0;34m\u001b[0m\u001b[0m\n\u001b[0m\u001b[1;32m     14\u001b[0m \u001b[0;34m\u001b[0m\u001b[0m\n\u001b[1;32m     15\u001b[0m         \u001b[0midRankedTables\u001b[0m \u001b[0;34m=\u001b[0m \u001b[0;34m[\u001b[0m\u001b[0;34m]\u001b[0m\u001b[0;34m\u001b[0m\u001b[0;34m\u001b[0m\u001b[0m\n",
      "\u001b[0;32m<ipython-input-5-8d94c93b0f4f>\u001b[0m in \u001b[0;36msearchIndexing\u001b[0;34m(query, tableField, topK)\u001b[0m\n\u001b[1;32m     11\u001b[0m               \u001b[0;34m\"type\"\u001b[0m\u001b[0;34m:\u001b[0m \u001b[0;34m\"most_fields\"\u001b[0m\u001b[0;34m,\u001b[0m\u001b[0;34m\u001b[0m\u001b[0;34m\u001b[0m\u001b[0m\n\u001b[1;32m     12\u001b[0m               \u001b[0;34m\"query\"\u001b[0m\u001b[0;34m:\u001b[0m    \u001b[0mquery\u001b[0m\u001b[0;34m,\u001b[0m\u001b[0;34m\u001b[0m\u001b[0;34m\u001b[0m\u001b[0m\n\u001b[0;32m---> 13\u001b[0;31m               \u001b[0;34m\"fields\"\u001b[0m\u001b[0;34m:\u001b[0m \u001b[0;34m[\u001b[0m\u001b[0;34m\"tableCaption\"\u001b[0m\u001b[0;34m,\u001b[0m\u001b[0;34m\"tableSectionTitle\"\u001b[0m\u001b[0;34m,\u001b[0m\u001b[0;34m\"tableHeader\"\u001b[0m\u001b[0;34m]\u001b[0m\u001b[0;34m\u001b[0m\u001b[0;34m\u001b[0m\u001b[0m\n\u001b[0m\u001b[1;32m     14\u001b[0m               \u001b[0;31m#\"fields\": [tableField]\u001b[0m\u001b[0;34m\u001b[0m\u001b[0;34m\u001b[0m\u001b[0;34m\u001b[0m\u001b[0m\n\u001b[1;32m     15\u001b[0m             }\n",
      "\u001b[0;32m~/anaconda3/lib/python3.7/site-packages/elasticsearch/client/utils.py\u001b[0m in \u001b[0;36m_wrapped\u001b[0;34m(*args, **kwargs)\u001b[0m\n\u001b[1;32m     82\u001b[0m                 \u001b[0;32mif\u001b[0m \u001b[0mp\u001b[0m \u001b[0;32min\u001b[0m \u001b[0mkwargs\u001b[0m\u001b[0;34m:\u001b[0m\u001b[0;34m\u001b[0m\u001b[0;34m\u001b[0m\u001b[0m\n\u001b[1;32m     83\u001b[0m                     \u001b[0mparams\u001b[0m\u001b[0;34m[\u001b[0m\u001b[0mp\u001b[0m\u001b[0;34m]\u001b[0m \u001b[0;34m=\u001b[0m \u001b[0mkwargs\u001b[0m\u001b[0;34m.\u001b[0m\u001b[0mpop\u001b[0m\u001b[0;34m(\u001b[0m\u001b[0mp\u001b[0m\u001b[0;34m)\u001b[0m\u001b[0;34m\u001b[0m\u001b[0;34m\u001b[0m\u001b[0m\n\u001b[0;32m---> 84\u001b[0;31m             \u001b[0;32mreturn\u001b[0m \u001b[0mfunc\u001b[0m\u001b[0;34m(\u001b[0m\u001b[0;34m*\u001b[0m\u001b[0margs\u001b[0m\u001b[0;34m,\u001b[0m \u001b[0mparams\u001b[0m\u001b[0;34m=\u001b[0m\u001b[0mparams\u001b[0m\u001b[0;34m,\u001b[0m \u001b[0;34m**\u001b[0m\u001b[0mkwargs\u001b[0m\u001b[0;34m)\u001b[0m\u001b[0;34m\u001b[0m\u001b[0;34m\u001b[0m\u001b[0m\n\u001b[0m\u001b[1;32m     85\u001b[0m \u001b[0;34m\u001b[0m\u001b[0m\n\u001b[1;32m     86\u001b[0m         \u001b[0;32mreturn\u001b[0m \u001b[0m_wrapped\u001b[0m\u001b[0;34m\u001b[0m\u001b[0;34m\u001b[0m\u001b[0m\n",
      "\u001b[0;32m~/anaconda3/lib/python3.7/site-packages/elasticsearch/client/__init__.py\u001b[0m in \u001b[0;36msearch\u001b[0;34m(self, index, body, params)\u001b[0m\n\u001b[1;32m    817\u001b[0m             \u001b[0mindex\u001b[0m \u001b[0;34m=\u001b[0m \u001b[0;34m\"_all\"\u001b[0m\u001b[0;34m\u001b[0m\u001b[0;34m\u001b[0m\u001b[0m\n\u001b[1;32m    818\u001b[0m         return self.transport.perform_request(\n\u001b[0;32m--> 819\u001b[0;31m             \u001b[0;34m\"GET\"\u001b[0m\u001b[0;34m,\u001b[0m \u001b[0m_make_path\u001b[0m\u001b[0;34m(\u001b[0m\u001b[0mindex\u001b[0m\u001b[0;34m,\u001b[0m \u001b[0;34m\"_search\"\u001b[0m\u001b[0;34m)\u001b[0m\u001b[0;34m,\u001b[0m \u001b[0mparams\u001b[0m\u001b[0;34m=\u001b[0m\u001b[0mparams\u001b[0m\u001b[0;34m,\u001b[0m \u001b[0mbody\u001b[0m\u001b[0;34m=\u001b[0m\u001b[0mbody\u001b[0m\u001b[0;34m\u001b[0m\u001b[0;34m\u001b[0m\u001b[0m\n\u001b[0m\u001b[1;32m    820\u001b[0m         )\n\u001b[1;32m    821\u001b[0m \u001b[0;34m\u001b[0m\u001b[0m\n",
      "\u001b[0;32m~/anaconda3/lib/python3.7/site-packages/elasticsearch/transport.py\u001b[0m in \u001b[0;36mperform_request\u001b[0;34m(self, method, url, headers, params, body)\u001b[0m\n\u001b[1;32m    351\u001b[0m                     \u001b[0mheaders\u001b[0m\u001b[0;34m=\u001b[0m\u001b[0mheaders\u001b[0m\u001b[0;34m,\u001b[0m\u001b[0;34m\u001b[0m\u001b[0;34m\u001b[0m\u001b[0m\n\u001b[1;32m    352\u001b[0m                     \u001b[0mignore\u001b[0m\u001b[0;34m=\u001b[0m\u001b[0mignore\u001b[0m\u001b[0;34m,\u001b[0m\u001b[0;34m\u001b[0m\u001b[0;34m\u001b[0m\u001b[0m\n\u001b[0;32m--> 353\u001b[0;31m                     \u001b[0mtimeout\u001b[0m\u001b[0;34m=\u001b[0m\u001b[0mtimeout\u001b[0m\u001b[0;34m,\u001b[0m\u001b[0;34m\u001b[0m\u001b[0;34m\u001b[0m\u001b[0m\n\u001b[0m\u001b[1;32m    354\u001b[0m                 )\n\u001b[1;32m    355\u001b[0m \u001b[0;34m\u001b[0m\u001b[0m\n",
      "\u001b[0;32m~/anaconda3/lib/python3.7/site-packages/elasticsearch/connection/http_urllib3.py\u001b[0m in \u001b[0;36mperform_request\u001b[0;34m(self, method, url, params, body, timeout, ignore, headers)\u001b[0m\n\u001b[1;32m    249\u001b[0m                 \u001b[0mmethod\u001b[0m\u001b[0;34m,\u001b[0m \u001b[0mfull_url\u001b[0m\u001b[0;34m,\u001b[0m \u001b[0murl\u001b[0m\u001b[0;34m,\u001b[0m \u001b[0mbody\u001b[0m\u001b[0;34m,\u001b[0m \u001b[0mduration\u001b[0m\u001b[0;34m,\u001b[0m \u001b[0mresponse\u001b[0m\u001b[0;34m.\u001b[0m\u001b[0mstatus\u001b[0m\u001b[0;34m,\u001b[0m \u001b[0mraw_data\u001b[0m\u001b[0;34m\u001b[0m\u001b[0;34m\u001b[0m\u001b[0m\n\u001b[1;32m    250\u001b[0m             )\n\u001b[0;32m--> 251\u001b[0;31m             \u001b[0mself\u001b[0m\u001b[0;34m.\u001b[0m\u001b[0m_raise_error\u001b[0m\u001b[0;34m(\u001b[0m\u001b[0mresponse\u001b[0m\u001b[0;34m.\u001b[0m\u001b[0mstatus\u001b[0m\u001b[0;34m,\u001b[0m \u001b[0mraw_data\u001b[0m\u001b[0;34m)\u001b[0m\u001b[0;34m\u001b[0m\u001b[0;34m\u001b[0m\u001b[0m\n\u001b[0m\u001b[1;32m    252\u001b[0m \u001b[0;34m\u001b[0m\u001b[0m\n\u001b[1;32m    253\u001b[0m         self.log_request_success(\n",
      "\u001b[0;32m~/anaconda3/lib/python3.7/site-packages/elasticsearch/connection/base.py\u001b[0m in \u001b[0;36m_raise_error\u001b[0;34m(self, status_code, raw_data)\u001b[0m\n\u001b[1;32m    176\u001b[0m \u001b[0;34m\u001b[0m\u001b[0m\n\u001b[1;32m    177\u001b[0m         raise HTTP_EXCEPTIONS.get(status_code, TransportError)(\n\u001b[0;32m--> 178\u001b[0;31m             \u001b[0mstatus_code\u001b[0m\u001b[0;34m,\u001b[0m \u001b[0merror_message\u001b[0m\u001b[0;34m,\u001b[0m \u001b[0madditional_info\u001b[0m\u001b[0;34m\u001b[0m\u001b[0;34m\u001b[0m\u001b[0m\n\u001b[0m\u001b[1;32m    179\u001b[0m         )\n",
      "\u001b[0;31mRequestError\u001b[0m: RequestError(400, 'search_phase_execution_exception', 'failed to create query: {\\n  \"multi_match\" : {\\n    \"query\" : \"close skip main content sign subscribe search jobs guardian jobs change edition switch edition switch edition switch int beta edition edition switch edition switch australia edition switch international beta guardian home soccer live scores tables competitions results fixtures clubs home world opinion sports selected soccer selected tech arts lifestyle fashion business travel environment science browse sections close zimbabwe peter ndlovu bruce grobbelaar made zimbabwe dare dream early country finally golden generation players stood verge quaifying africa cup nations world cup bruce grobbelaar left shares joke zimbabwe team mate peter ndlovu photograph howard burditt reuters ian hawkey wednesday august edt share facebook share twitter share via email share pinterest share linkedin share google share whatsapp following extract ian hawkey article issue nine blizzard published june blizzard quarterly football journal available www theblizzard pay like basis print digital formats zimbabwe traveller usually knows clearly pentagon highways vein country meticulously pegged kilometre kilometre across zimbabwe sparsely populated rural space driver appreciates landmarks early hours december bmw suv approaching peg bulawayo victoria falls road driver lost control vehicle curve tyre burst vehicle veered tarmac crashed trees shuddered standstill leaning right side mangled wreck noise collision woke people settlement lupinyu drew scene found one passenger nomqele tshili year old woman already dead two men car rushed victoria falls hospital critical condition dark bloodied head injuries recognised two zimbabwe celebrated citizens number plate nuddy told vehicle south african coventry birmingham huddersfield personalised nuddy plate might prompted readier recognition nickname peter ndlovu driving acquired moved england beginning stuck year career premier league championship home zimbabwe seldom called nuddy rather known team mates zonga man car peter older brother adam adamski ndlovu died later sunday hospital aged ndlovus way victoria falls play friendly match highlanders legends gathering retired players principal club matabeleland region come local day nostalgia obituaries adam ndlovu would far years since zimbabwe famous sporting brothers step ahead cricketing flowers tennis playing blacks spearheading looked nation finest era popular sport mention dream team zimbabwe shorthand young ndlovus front rugged back four one football charismatic goalkeepers dream team almost folkloric status although would fall short realising aspirations sustained months reaching world cup tag dream team would first hung southern hemisphere winter sobriquet borrowed basketball team barcelona olympics assembly nba superstars plunged games discarded pretence amateurism zimbabwe football sense might draw unprecedented expertise one sport glamorous professional structures english league vantage point today premier league almost every team least one african line seems remarkable premier league began two established african stars top flight english football zimbabwean peter ndlovu quick surprisingly sturdy possession nimble opponent many english centre halves spotted coventry city toured zimbabwe part pre season training bruce grobbelaar route dominant english club era liverpool beginnings highlanders club ndlovu later joined circuitous via south africa canada late relationship national team complicated resolving would provide element suspense prelude dream team adventure facebook twitter pinterest peter ndlovu playing coventry city outpaces manchester united defender gary pallister premier league match old trafford photograph david cannon getty images summer grobbelaar club career crossroads decade mostly unchallenged ownership jersey england number one club period six league titles european cup half dozen winners medals major domestic cups grobbelaar told anfield status threatened liverpool expensively recruited david james weekend new premier league kick offered alternative sitting bench understudying james prem zim first time several years absence international football maverick grobbelaar answered call national team enthusiastic yes grobbelaar flew merseyside thursday night three days opening match africa cup nations qualifiers passed customs harare airport using british passport obtained early virtue common many small significant minority white zimbabweans british ancestry somewhere boughs family tree rub grobbelaar played country decade partly law passed government robert mugabe forbade citizens holding zimbabwean passport british one mugabe transformation rhodesia country first democratic elections put zanu party power pegged post colonial markers like within zanu alive feelgood power success sports field mugabe quite clever bruce grobbelaar situation back remembers pernell mckop assistant coach zimbabwe national team early grobbelaar wanted zimbabwe new head coach german named reinhard fabisch made clear wanted best goalkeeper team people wanted bruce fixture might make comeback especially resonant zimbabwe begin qualifying campaign cup nations neighbours south africa would competing first time ever africa fifa authorised national team decades anti apartheid sanctions south africa team endorsed president waiting nelson mandela black white mixed race south africans emblematic rainbow nation zimbabwe inclusion grobbelaar man fought rhodesian army conscript civil war mugabe freedom fighters made statement diversity even two days ahead game government saying bruce zimbabwean passport eligibility home office remembers mckop used hype suspense kept saying touch whether could play naturally grobbelaar would also boost number bulawayians national team noted ways zimbabwean football quite politicised says mckop rivalry domestically highlanders bulawayo matabeleland dynamos harare mashonaland could become tribalistic matabeleland early post democracy years subject brutal oppression sections armed forces highlanders versus dynamos matches bore emotional weight mckop remembers joshua nkomo leader zapu party whose core constituency matabeleland giving get speeches highlanders players composition national team added terms numbers players part country issue politicians media fabisch outsider exercised certain licence disregard fans matabeleland congratulated unusually high number men national team facebook twitter pinterest peter ndlovu relaxes home coventry mid photograph action images dream team momentum became harder interfere matters sunny winter day harare national stadium dream team gained traction grobbelaar sense might watershed match country got call come back play south africa thrilled recalls knew really would helluva game visitors thought big storyline fabisch played cowing underdog status zimbabwe much stronger though players willard khumalo zimbabwe midfielder gave gem quote covering game asked opinion south africa insatiably showy trickster winger doctor khumalo kaizer chiefs khumalo zimbabwe suggested khumalo south africa risked change name doctor nurse front crowd zimbabwe demolished south africa went thanks goals vitalis digital takawira rahman gumbo opening minutes winners peter ndlovu still teenager got two goals dream team lift david whipped one self styled goliath continent months followed would aim slingshots genuine giants african football picked way cluttered calendar besides cup nations qualifiers qualifying marathon usa world cup two tiers group phases top team going stage course zimbabwe would required keep poise demanding away trips notably angola first world cup mini league baking january day angolan civil war coming luanda circle way airport someone shooting planes recalls grobbelaar stadium must supposed hold draw felt plucky three weeks earlier egypt beaten harare peg dream team highway significant resonant rout south africans peter ndlovu slalom left foot drive first goal win highlight set rousing conclusion group zimbabwe needing point cairo next phase eliminate pharaohs end intense rowdy night fabisch cut head grobbelaar also struck missile egypt zimbabwe armed television footage appealed fifa world governing body record righting perceived wrongs caused lax security particularly africa little haphazard yet dream team awarded replay match played lyon france grobbelaar one finest nights international career draw vividly celebrated miles away back home bad drought hurting population wearing country economy morale low time says mckop people clung idea dream team road usa felt might first time africa cup nations played qualifiers started put together unbeaten run days brought back joy independence feeling single objective think partly dream team label stuck zimbabwe cup nations qualifying campaign would middle overshadowed bigger story zambia came harare final group match needing draw pip dream team place finals sympathy support world three months earlier zambia squad travelling match senegal killed plane crash zimbabwe hastily patched together side fell goal behind dream team course first ever major tournament eleven minutes remained zambia captain kalusha bwalya directed header past grobbelaar facebook twitter pinterest peter ndlovu right carried playing zimbabwe challenges senegal rahmane barry african nations cup game port said egypt photograph suhaib salem reuters reuters road usa remained open add scalp egypt would cutting size cameroon africa visible football power thanks italia beaten harare zimbabwe dropped points defeat guinea also rans mini league penultimate set fixtures second group phase zimbabwe found one win shy target yaound beat indomitable lions one trio african sides world cup dream flickered five minutes second half adam ndlovu scored hush came ahmadou ahidjo stadium brief respite noise grobbelaar describes like swarm angry bees ringing ears cameroon already two goals added third zimbabwe broken touchline fabisch started throwing dollar bills around implying referee given contentious early penalty favour cameroon bought zim dream team minutes first ever cup nations one win reaching neither year loss yaound zimbabwe famous footballer front page sun britain bruce grobbelaar would spend next three years defending allegations match fixing time liverpool cleared corruption charges played country four years later coached warriors vigorous disagreements officials zimbabwe football association ties country weakened dual passport issue resurfaced time would resolved presidential flourish zimbabwe wait first appearance cup nations lasted century time country often appeared ceaseless bad news story violent general elections surreal inflation rates soaring unemployment desperate emigration economic crisis meant zimbabwe withdrew designated hosts african cup nations nearly quarter century independence zimbabwe finally qualified nations cup iconic ndlovu brothers still front warriors label dream team accompanied zimbabwe reached tournament egypt peter ndlovu cap another group stage exit deemed worthy comparison sides early even peak seems distant african football hierarchy least international level become refreshingly fluid century small nations little footballing heritage rise suddenly togo angola reached world cup finals burkina faso finished second cup nations zimbabwe caught train currently live ongoing fallout asiagate match fixing scandal centred tour sub standard zimbabwe team far east implicating hundred players officials april peter ndlovu cleared culpability crash cost brother life continues work assistant coach national team ranks outside fifa top little wonder longing rose tinted nostalgia called dream team easily stirred blizzard page quarterly publication allows best football writers world opportunity write football stories matter limits editorial bias back issues available pay like basis print digital formats www theblizzard digital issues available features topics zimbabwe share facebook share twitter share via email share pinterest share linkedin share google share whatsapp view comments comments sign create guardian account join discussion discussion closed comments maintenance right still read comments please come back later add commenting disabled account order newest oldest show threads collapsed expanded unthreaded loading comments trouble loading view comments popular guardian back top home world opinion sports selected soccer selected tech arts lifestyle fashion business travel environment science sections close home world europe americas asia middle east africa australia cities development opinion sports selected soccer selected mls nfl mlb nba nhl soccer selected live scores tables competitions results fixtures clubs tech arts movies radio music games books art design stage classical lifestyle food health fitness love sex family women home garden fashion business economics sustainable business diversity equality business small business travel usa europe environment climate change wildlife energy pollution science media crosswords blog editor quick cryptic prize quiptic genius speedy everyman azed video soccer zimbabwe jobs subscribe topics contributors report technical issue contact complaints corrections terms conditions privacy policy cookie policy securedrop guardian news media limited affiliated companies rights reserved\",\\n    \"fields\" : [\\n      \"tableCaption^1.0\",\\n      \"tableHeader^1.0\",\\n      \"tableSectionTitle^1.0\"\\n    ],\\n    \"type\" : \"most_fields\",\\n    \"operator\" : \"OR\",\\n    \"slop\" : 0,\\n    \"prefix_length\" : 0,\\n    \"max_expansions\" : 50,\\n    \"zero_terms_query\" : \"NONE\",\\n    \"auto_generate_synonyms_phrase_query\" : true,\\n    \"fuzzy_transpositions\" : true,\\n    \"boost\" : 1.0\\n  }\\n}')"
     ]
    }
   ],
   "source": [
    "for k in topK:\n",
    "    \n",
    "    print(\"Acc@\"+str(k))\n",
    "    \n",
    "    for field in tableField:\n",
    "        \n",
    "        executeSearch(field,k)"
   ]
  },
  {
   "cell_type": "code",
   "execution_count": null,
   "metadata": {},
   "outputs": [],
   "source": []
  }
 ],
 "metadata": {
  "kernelspec": {
   "display_name": "Python 3",
   "language": "python",
   "name": "python3"
  },
  "language_info": {
   "codemirror_mode": {
    "name": "ipython",
    "version": 3
   },
   "file_extension": ".py",
   "mimetype": "text/x-python",
   "name": "python",
   "nbconvert_exporter": "python",
   "pygments_lexer": "ipython3",
   "version": "3.7.3"
  }
 },
 "nbformat": 4,
 "nbformat_minor": 2
}
