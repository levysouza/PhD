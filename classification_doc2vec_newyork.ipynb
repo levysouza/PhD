{
 "cells": [
  {
   "cell_type": "code",
   "execution_count": 1,
   "metadata": {},
   "outputs": [],
   "source": [
    "from tqdm import tqdm\n",
    "import numpy as np\n",
    "import pandas as pd\n",
    "from sklearn.feature_extraction.text import TfidfVectorizer\n",
    "from scipy.spatial import distance\n",
    "from heapq import nsmallest\n",
    "from sklearn.metrics import pairwise_distances\n",
    "from sklearn.metrics.pairwise import cosine_similarity\n",
    "import random\n",
    "import tensorflow as tf\n",
    "import tensorflow_hub as hub\n",
    "from gensim.models.doc2vec import Doc2Vec, TaggedDocument\n",
    "from gensim.test.utils import get_tmpfile\n",
    "from nltk.tokenize import TweetTokenizer\n",
    "tknzr = TweetTokenizer()"
   ]
  },
  {
   "cell_type": "code",
   "execution_count": 2,
   "metadata": {},
   "outputs": [],
   "source": [
    "classification = pd.read_csv('dataset/classification_data_newyork', delimiter=',', header=None)\n",
    "classification_data = classification.iloc[:,:].values"
   ]
  },
  {
   "cell_type": "code",
   "execution_count": null,
   "metadata": {},
   "outputs": [],
   "source": []
  },
  {
   "cell_type": "code",
   "execution_count": 3,
   "metadata": {},
   "outputs": [],
   "source": [
    "doc2vec_model = Doc2Vec.load('pre_trained_models/doc2vec.bin')"
   ]
  },
  {
   "cell_type": "code",
   "execution_count": null,
   "metadata": {},
   "outputs": [],
   "source": []
  },
  {
   "cell_type": "code",
   "execution_count": 4,
   "metadata": {},
   "outputs": [],
   "source": [
    "USE_url = \"https://tfhub.dev/google/universal-sentence-encoder/2\"\n",
    "USE_model = hub.Module(USE_url)"
   ]
  },
  {
   "cell_type": "code",
   "execution_count": null,
   "metadata": {},
   "outputs": [],
   "source": []
  },
  {
   "cell_type": "code",
   "execution_count": 5,
   "metadata": {},
   "outputs": [],
   "source": [
    "true_label = []\n",
    "\n",
    "for i in classification_data:\n",
    "    \n",
    "    true_label.append(i[4])"
   ]
  },
  {
   "cell_type": "code",
   "execution_count": null,
   "metadata": {},
   "outputs": [],
   "source": []
  },
  {
   "cell_type": "code",
   "execution_count": 6,
   "metadata": {},
   "outputs": [
    {
     "name": "stderr",
     "output_type": "stream",
     "text": [
      "100%|██████████| 258/258 [00:01<00:00, 141.87it/s]\n"
     ]
    }
   ],
   "source": [
    "articles_title_doc2vec = []\n",
    "\n",
    "for articles in tqdm(classification_data):\n",
    "    \n",
    "    article_title = str(articles[0])\n",
    "    article_content = str(articles[1])\n",
    "    catch = article_title+\" \"+article_content\n",
    "    \n",
    "    vector_words = tknzr.tokenize(catch[:300])\n",
    "    \n",
    "    article_embedding = doc2vec_model.infer_vector(vector_words)\n",
    "\n",
    "    articles_title_doc2vec.append(article_embedding)"
   ]
  },
  {
   "cell_type": "code",
   "execution_count": null,
   "metadata": {},
   "outputs": [],
   "source": []
  },
  {
   "cell_type": "code",
   "execution_count": 7,
   "metadata": {},
   "outputs": [
    {
     "name": "stderr",
     "output_type": "stream",
     "text": [
      "100%|██████████| 258/258 [00:01<00:00, 172.10it/s]\n"
     ]
    }
   ],
   "source": [
    "tables_title_doc2vec = []\n",
    "\n",
    "for tables in tqdm(classification_data):\n",
    "    \n",
    "    table_title = str(tables[2])\n",
    "    table_content = str(tables[3])\n",
    "    catch = table_title+\" \"+table_content\n",
    "    \n",
    "    vector_words = tknzr.tokenize(catch[:300])\n",
    "    \n",
    "    table_embedding = doc2vec_model.infer_vector(vector_words)\n",
    "    \n",
    "    tables_title_doc2vec.append(table_embedding)"
   ]
  },
  {
   "cell_type": "code",
   "execution_count": null,
   "metadata": {},
   "outputs": [],
   "source": []
  },
  {
   "cell_type": "code",
   "execution_count": null,
   "metadata": {},
   "outputs": [],
   "source": []
  },
  {
   "cell_type": "code",
   "execution_count": null,
   "metadata": {},
   "outputs": [],
   "source": []
  },
  {
   "cell_type": "markdown",
   "metadata": {},
   "source": [
    "#USE"
   ]
  },
  {
   "cell_type": "code",
   "execution_count": 8,
   "metadata": {},
   "outputs": [
    {
     "name": "stderr",
     "output_type": "stream",
     "text": [
      "100%|██████████| 258/258 [00:00<00:00, 121902.72it/s]\n"
     ]
    }
   ],
   "source": [
    "articles_title = []\n",
    "\n",
    "for articles in tqdm(classification_data):\n",
    "    \n",
    "    article_title = str(articles[0])\n",
    "    article_content = str(articles[1])\n",
    "    catch = article_title+\" \"+article_content\n",
    "    \n",
    "    articles_title.append(catch[:300])"
   ]
  },
  {
   "cell_type": "code",
   "execution_count": 9,
   "metadata": {},
   "outputs": [
    {
     "name": "stdout",
     "output_type": "stream",
     "text": [
      "INFO:tensorflow:Saver not created because there are no variables in the graph to restore\n"
     ]
    },
    {
     "name": "stderr",
     "output_type": "stream",
     "text": [
      "INFO:tensorflow:Saver not created because there are no variables in the graph to restore\n"
     ]
    }
   ],
   "source": [
    "with tf.Session() as sess:\n",
    "    \n",
    "    sess.run([tf.global_variables_initializer(), tf.tables_initializer()])\n",
    "            \n",
    "    embedding_articles = sess.run(USE_model(articles_title))"
   ]
  },
  {
   "cell_type": "code",
   "execution_count": 10,
   "metadata": {},
   "outputs": [],
   "source": [
    "articles_title_USE = []\n",
    "\n",
    "for current_embedding in embedding_articles:\n",
    "    \n",
    "    articles_title_USE.append(current_embedding)"
   ]
  },
  {
   "cell_type": "code",
   "execution_count": null,
   "metadata": {},
   "outputs": [],
   "source": []
  },
  {
   "cell_type": "code",
   "execution_count": 11,
   "metadata": {},
   "outputs": [
    {
     "name": "stderr",
     "output_type": "stream",
     "text": [
      "100%|██████████| 258/258 [00:00<00:00, 227816.93it/s]\n"
     ]
    }
   ],
   "source": [
    "tables_title = []\n",
    "\n",
    "for tables in tqdm(classification_data):\n",
    "    \n",
    "    table_title = str(tables[2])\n",
    "    table_content = str(tables[3])\n",
    "    catch = table_title+\" \"+table_content\n",
    "    \n",
    "    tables_title.append(catch[:300])"
   ]
  },
  {
   "cell_type": "code",
   "execution_count": 12,
   "metadata": {},
   "outputs": [
    {
     "name": "stdout",
     "output_type": "stream",
     "text": [
      "INFO:tensorflow:Saver not created because there are no variables in the graph to restore\n"
     ]
    },
    {
     "name": "stderr",
     "output_type": "stream",
     "text": [
      "INFO:tensorflow:Saver not created because there are no variables in the graph to restore\n"
     ]
    }
   ],
   "source": [
    "with tf.Session() as sess:\n",
    "    \n",
    "    sess.run([tf.global_variables_initializer(), tf.tables_initializer()])\n",
    "            \n",
    "    embedding_tables = sess.run(USE_model(tables_title))"
   ]
  },
  {
   "cell_type": "code",
   "execution_count": 13,
   "metadata": {},
   "outputs": [],
   "source": [
    "tables_title_USE = []\n",
    "\n",
    "for current_embedding in embedding_tables:\n",
    "    \n",
    "    tables_title_USE.append(current_embedding)"
   ]
  },
  {
   "cell_type": "code",
   "execution_count": null,
   "metadata": {},
   "outputs": [],
   "source": []
  },
  {
   "cell_type": "markdown",
   "metadata": {},
   "source": [
    "#TF-IDF"
   ]
  },
  {
   "cell_type": "code",
   "execution_count": 14,
   "metadata": {},
   "outputs": [
    {
     "name": "stderr",
     "output_type": "stream",
     "text": [
      "100%|██████████| 258/258 [00:00<00:00, 67038.19it/s]\n"
     ]
    }
   ],
   "source": [
    "corpus_article_title = []\n",
    "\n",
    "for articles in tqdm(classification_data):\n",
    "    \n",
    "    article_title = str(articles[0])\n",
    "    article_content = str(articles[1])\n",
    "    catch = article_title+\" \"+article_content\n",
    "    \n",
    "    corpus_article_title.append(catch[:300])"
   ]
  },
  {
   "cell_type": "code",
   "execution_count": 15,
   "metadata": {},
   "outputs": [],
   "source": [
    "vectorizer = TfidfVectorizer(stop_words='english', analyzer='word')"
   ]
  },
  {
   "cell_type": "code",
   "execution_count": 16,
   "metadata": {},
   "outputs": [],
   "source": [
    "articles_title_TFIDF = vectorizer.fit_transform(corpus_article_title)\n",
    "articles_title_TFIDF = articles_title_TFIDF.toarray()"
   ]
  },
  {
   "cell_type": "code",
   "execution_count": 17,
   "metadata": {},
   "outputs": [
    {
     "data": {
      "text/plain": [
       "(258, 4068)"
      ]
     },
     "execution_count": 17,
     "metadata": {},
     "output_type": "execute_result"
    }
   ],
   "source": [
    "articles_title_TFIDF.shape"
   ]
  },
  {
   "cell_type": "code",
   "execution_count": 18,
   "metadata": {},
   "outputs": [
    {
     "name": "stderr",
     "output_type": "stream",
     "text": [
      "100%|██████████| 258/258 [00:00<00:00, 125420.77it/s]\n"
     ]
    }
   ],
   "source": [
    "corpus_table_title = []\n",
    "\n",
    "for tables in tqdm(classification_data):\n",
    "    \n",
    "    table_title = str(tables[2])\n",
    "    table_content = str(tables[3])\n",
    "    catch = table_title+\" \"+table_content\n",
    "    \n",
    "    corpus_table_title.append(catch[:300])"
   ]
  },
  {
   "cell_type": "code",
   "execution_count": 19,
   "metadata": {},
   "outputs": [],
   "source": [
    "tables_title_TFIDF = vectorizer.transform(corpus_table_title)\n",
    "tables_title_TFIDF = tables_title_TFIDF.toarray()"
   ]
  },
  {
   "cell_type": "code",
   "execution_count": 20,
   "metadata": {},
   "outputs": [
    {
     "data": {
      "text/plain": [
       "(258, 4068)"
      ]
     },
     "execution_count": 20,
     "metadata": {},
     "output_type": "execute_result"
    }
   ],
   "source": [
    "tables_title_TFIDF.shape"
   ]
  },
  {
   "cell_type": "code",
   "execution_count": null,
   "metadata": {},
   "outputs": [],
   "source": []
  },
  {
   "cell_type": "code",
   "execution_count": 21,
   "metadata": {},
   "outputs": [],
   "source": [
    "predict_class_doc2vec = []\n",
    "predict_prob_doc2vec = []\n",
    "\n",
    "for i in range(258):\n",
    "    \n",
    "    distance_doc2vec = cosine_similarity([articles_title_doc2vec[i]], [tables_title_doc2vec[i]])\n",
    "    \n",
    "    predict_prob_doc2vec.append(distance_doc2vec[0][0])\n",
    "    \n",
    "    if distance_doc2vec[0][0] >= 0.5:\n",
    "    \n",
    "        predict_class_doc2vec.append(1)\n",
    "        \n",
    "    else:\n",
    "        \n",
    "        predict_class_doc2vec.append(0)"
   ]
  },
  {
   "cell_type": "code",
   "execution_count": null,
   "metadata": {},
   "outputs": [],
   "source": []
  },
  {
   "cell_type": "code",
   "execution_count": 22,
   "metadata": {},
   "outputs": [],
   "source": [
    "predict_class_USE = []\n",
    "predict_prob_USE = []\n",
    "\n",
    "for i in range(258):\n",
    "    \n",
    "    distance_USE = cosine_similarity([articles_title_USE[i]], [tables_title_USE[i]])\n",
    "    \n",
    "    predict_prob_USE.append(distance_USE[0][0])\n",
    "    \n",
    "    if distance_USE[0][0] >= 0.5:\n",
    "    \n",
    "        predict_class_USE.append(1)\n",
    "        \n",
    "    else:\n",
    "        \n",
    "        predict_class_USE.append(0)"
   ]
  },
  {
   "cell_type": "code",
   "execution_count": null,
   "metadata": {},
   "outputs": [],
   "source": []
  },
  {
   "cell_type": "code",
   "execution_count": 23,
   "metadata": {},
   "outputs": [],
   "source": [
    "predict_class_TFIDF = []\n",
    "predict_prob_TFIDF = []\n",
    "\n",
    "for i in range(258):\n",
    "    \n",
    "    distance_TFIDF = cosine_similarity([articles_title_TFIDF[i]], [tables_title_TFIDF[i]])\n",
    "    \n",
    "    predict_prob_TFIDF.append(distance_TFIDF[0][0])\n",
    "    \n",
    "    if distance_TFIDF[0][0] >= 0.5:\n",
    "    \n",
    "        predict_class_TFIDF.append(1)\n",
    "        \n",
    "    else:\n",
    "        \n",
    "        predict_class_TFIDF.append(0)"
   ]
  },
  {
   "cell_type": "code",
   "execution_count": null,
   "metadata": {},
   "outputs": [],
   "source": []
  },
  {
   "cell_type": "code",
   "execution_count": 24,
   "metadata": {},
   "outputs": [],
   "source": [
    "from sklearn import metrics\n",
    "import numpy as np\n",
    "import matplotlib.pyplot as plt\n",
    "\n",
    "y_true = true_label\n",
    "y_probas_doc2vec = predict_prob_doc2vec\n",
    "fpr_doc2vec, tpr_doc2vec, thresholds_doc2vec = metrics.roc_curve(y_true, y_probas_doc2vec, pos_label=1)\n",
    "\n",
    "\n",
    "y_probas_USE = predict_prob_USE\n",
    "fpr_USE, tpr_USE, thresholds_USE = metrics.roc_curve(y_true, y_probas_USE, pos_label=1)\n",
    "\n",
    "y_probas_TFIDF = predict_prob_TFIDF\n",
    "fpr_TFIDF, tpr_TFIDF, thresholds_TFIDF = metrics.roc_curve(y_true, y_probas_TFIDF, pos_label=1)\n",
    "\n"
   ]
  },
  {
   "cell_type": "code",
   "execution_count": 26,
   "metadata": {},
   "outputs": [
    {
     "data": {
      "image/png": "[encoded data removed]",
      "text/plain": [
       "<Figure size 432x288 with 1 Axes>"
      ]
     },
     "metadata": {
      "needs_background": "light"
     },
     "output_type": "display_data"
    }
   ],
   "source": [
    "# Print ROC curve\n",
    "plt.plot(fpr_doc2vec,tpr_doc2vec, label='Doc2Vec', marker='o')\n",
    "plt.plot(fpr_USE,tpr_USE, label='USE', marker='P')\n",
    "plt.plot(fpr_TFIDF,tpr_TFIDF, label='TF-IDF', marker='+')\n",
    "plt.xlabel('False Positive Rate')\n",
    "plt.ylabel('True Positive Rate')\n",
    "plt.title('Article <Title>+<Content> vs. WebTable <Title>+<Content>')\n",
    "plt.legend()\n",
    "plt.savefig('curve_ROC_catch.pdf')\n",
    "plt.show() "
   ]
  },
  {
   "cell_type": "code",
   "execution_count": null,
   "metadata": {},
   "outputs": [],
   "source": []
  },
  {
   "cell_type": "code",
   "execution_count": null,
   "metadata": {},
   "outputs": [],
   "source": [
    "# Print AUC\n",
    "auc = np.trapz(tpr_doc2vec,fpr_doc2vec)\n",
    "print('AUC:', auc)"
   ]
  },
  {
   "cell_type": "code",
   "execution_count": null,
   "metadata": {},
   "outputs": [],
   "source": [
    "# Print AUC\n",
    "auc = np.trapz(tpr_USE,fpr_USE)\n",
    "print('AUC:', auc)"
   ]
  },
  {
   "cell_type": "code",
   "execution_count": null,
   "metadata": {},
   "outputs": [],
   "source": []
  },
  {
   "cell_type": "code",
   "execution_count": null,
   "metadata": {},
   "outputs": [],
   "source": []
  },
  {
   "cell_type": "code",
   "execution_count": null,
   "metadata": {},
   "outputs": [],
   "source": []
  },
  {
   "cell_type": "code",
   "execution_count": null,
   "metadata": {},
   "outputs": [],
   "source": []
  },
  {
   "cell_type": "code",
   "execution_count": null,
   "metadata": {},
   "outputs": [],
   "source": []
  },
  {
   "cell_type": "code",
   "execution_count": null,
   "metadata": {},
   "outputs": [],
   "source": []
  }
 ],
 "metadata": {
  "kernelspec": {
   "display_name": "Python 3",
   "language": "python",
   "name": "python3"
  },
  "language_info": {
   "codemirror_mode": {
    "name": "ipython",
    "version": 3
   },
   "file_extension": ".py",
   "mimetype": "text/x-python",
   "name": "python",
   "nbconvert_exporter": "python",
   "pygments_lexer": "ipython3",
   "version": "3.7.4"
  }
 },
 "nbformat": 4,
 "nbformat_minor": 2
}
