{
 "cells": [
  {
   "cell_type": "code",
   "execution_count": null,
   "metadata": {},
   "outputs": [],
   "source": [
    "from tqdm import tqdm\n",
    "import numpy as np\n",
    "import pandas as pd\n",
    "from sklearn.metrics import pairwise_distances\n",
    "import random\n",
    "from gensim.models.doc2vec import Doc2Vec\n",
    "from nltk.tokenize import TweetTokenizer\n",
    "tknzr = TweetTokenizer()"
   ]
  },
  {
   "cell_type": "code",
   "execution_count": null,
   "metadata": {},
   "outputs": [],
   "source": [
    "articles = pd.read_csv('dataset/data_articles_test.csv', delimiter=',', keep_default_na=False)\n",
    "tables = pd.read_csv('dataset/dataset_distinct_tables.csv', delimiter=',', keep_default_na=False)"
   ]
  },
  {
   "cell_type": "code",
   "execution_count": null,
   "metadata": {},
   "outputs": [],
   "source": []
  },
  {
   "cell_type": "code",
   "execution_count": null,
   "metadata": {},
   "outputs": [],
   "source": [
    "embedding_model = Doc2Vec.load('pre_trained_models/doc2vec.bin')"
   ]
  },
  {
   "cell_type": "code",
   "execution_count": null,
   "metadata": {},
   "outputs": [],
   "source": [
    "tables_vector = []\n",
    "tables_ids = []\n",
    "\n",
    "for i, row in tqdm(tables.iterrows()):\n",
    "    \n",
    "    table_title = row['table_page_title']\n",
    "    \n",
    "    vector_words = tknzr.tokenize(table_title)\n",
    "    word_embedding = embedding_model.infer_vector(vector_words)\n",
    "    \n",
    "    tables_ids.append(row['table_id'])\n",
    "    tables_vector.append(word_embedding) "
   ]
  },
  {
   "cell_type": "code",
   "execution_count": null,
   "metadata": {},
   "outputs": [],
   "source": []
  },
  {
   "cell_type": "code",
   "execution_count": null,
   "metadata": {},
   "outputs": [],
   "source": [
    "articles_ids = []\n",
    "articles_vector = []\n",
    "\n",
    "for i, row in tqdm(articles.iterrows()):\n",
    "    \n",
    "    article_page_title = row['page_title']\n",
    "         \n",
    "    #embedding\n",
    "    vector_words = tknzr.tokenize(article_page_title)\n",
    "    word_embedding = embedding_model.infer_vector(vector_words)\n",
    "    \n",
    "    articles_ids.append(row['page_id'])\n",
    "    articles_vector.append(word_embedding)"
   ]
  },
  {
   "cell_type": "code",
   "execution_count": null,
   "metadata": {},
   "outputs": [],
   "source": []
  },
  {
   "cell_type": "code",
   "execution_count": null,
   "metadata": {},
   "outputs": [],
   "source": [
    "def getAccuracy(idRankedTables, idQueryGoal):\n",
    "\n",
    "    accuracy = 0\n",
    "\n",
    "    for idTable in idRankedTables:\n",
    "        \n",
    "        if idTable[0] == idQueryGoal:\n",
    "    \n",
    "            accuracy = 1\n",
    "            break;\n",
    "\n",
    "    return accuracy"
   ]
  },
  {
   "cell_type": "code",
   "execution_count": null,
   "metadata": {},
   "outputs": [],
   "source": [
    "def saveAccuracy(k,accuracy):\n",
    "    \n",
    "    if k == 1:\n",
    "            \n",
    "        AverageTop1.append(accuracy)\n",
    "    \n",
    "    if k == 5:\n",
    "            \n",
    "        AverageTop5.append(accuracy)\n",
    "        \n",
    "    if k == 10:\n",
    "            \n",
    "        AverageTop10.append(accuracy)\n",
    "        \n",
    "    if k == 20:\n",
    "            \n",
    "        AverageTop20.append(accuracy)"
   ]
  },
  {
   "cell_type": "code",
   "execution_count": null,
   "metadata": {},
   "outputs": [],
   "source": []
  },
  {
   "cell_type": "code",
   "execution_count": null,
   "metadata": {},
   "outputs": [],
   "source": [
    "AverageTop1 = []\n",
    "AverageTop5 = []\n",
    "AverageTop10 = []\n",
    "AverageTop20 = []\n",
    "\n",
    "topK = [1,5,10,20]\n",
    "\n",
    "for i in tqdm(range(len(articles_vector))):\n",
    "    \n",
    "    idQueryGoal = articles_ids[i]\n",
    "    \n",
    "    distance_vector = pairwise_distances(articles_vector[i].reshape(1,50), tables_vector, metric='cosine')\n",
    "    \n",
    "    #creating the dataframe\n",
    "    all_tables_score = []\n",
    "    \n",
    "    for j in range(len(tables_ids)):\n",
    "        \n",
    "        table_id = tables_ids[j]\n",
    "        table_score = distance_vector[0][j]\n",
    "        \n",
    "        new_row = {\"table_id\": table_id,\"table_score\": table_score}\n",
    "        \n",
    "        all_tables_score.append(new_row)\n",
    "        \n",
    "    df_all_tables_scores = pd.DataFrame(all_tables_score)\n",
    "    df_tables_sorting = df_all_tables_scores.sort_values('table_score')\n",
    "    \n",
    "    #compute the accuracy\n",
    "    for accuracyK in topK:\n",
    "        \n",
    "        selected_top = df_tables_sorting.head(accuracyK)\n",
    "        min_score = selected_top['table_score'].max()\n",
    "        draw_tables_socres = df_tables_sorting[df_tables_sorting['table_score'] <= min_score]\n",
    "        final_ranked_tables = draw_tables_socres.iloc[:,0:1].values\n",
    "        \n",
    "        accuracy_value = getAccuracy(final_ranked_tables,idQueryGoal)\n",
    "        \n",
    "        #save the accuracy on the list\n",
    "        saveAccuracy(accuracyK,accuracy_value)"
   ]
  },
  {
   "cell_type": "code",
   "execution_count": null,
   "metadata": {},
   "outputs": [],
   "source": [
    "print(str(round(np.mean(AverageTop1),4)))\n",
    "print(str(round(np.mean(AverageTop5),4)))\n",
    "print(str(round(np.mean(AverageTop10),4)))\n",
    "print(str(round(np.mean(AverageTop20),4)))"
   ]
  },
  {
   "cell_type": "code",
   "execution_count": null,
   "metadata": {},
   "outputs": [],
   "source": []
  },
  {
   "cell_type": "code",
   "execution_count": null,
   "metadata": {},
   "outputs": [],
   "source": []
  },
  {
   "cell_type": "code",
   "execution_count": null,
   "metadata": {},
   "outputs": [],
   "source": []
  },
  {
   "cell_type": "code",
   "execution_count": null,
   "metadata": {},
   "outputs": [],
   "source": []
  },
  {
   "cell_type": "code",
   "execution_count": null,
   "metadata": {},
   "outputs": [],
   "source": []
  },
  {
   "cell_type": "code",
   "execution_count": null,
   "metadata": {},
   "outputs": [],
   "source": []
  },
  {
   "cell_type": "code",
   "execution_count": null,
   "metadata": {},
   "outputs": [],
   "source": []
  },
  {
   "cell_type": "code",
   "execution_count": null,
   "metadata": {},
   "outputs": [],
   "source": []
  }
 ],
 "metadata": {
  "kernelspec": {
   "display_name": "Python 3",
   "language": "python",
   "name": "python3"
  },
  "language_info": {
   "codemirror_mode": {
    "name": "ipython",
    "version": 3
   },
   "file_extension": ".py",
   "mimetype": "text/x-python",
   "name": "python",
   "nbconvert_exporter": "python",
   "pygments_lexer": "ipython3",
   "version": "3.7.3"
  }
 },
 "nbformat": 4,
 "nbformat_minor": 2
}
