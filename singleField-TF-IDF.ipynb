{
 "cells": [
  {
   "cell_type": "code",
   "execution_count": 1,
   "metadata": {},
   "outputs": [],
   "source": [
    "from tqdm import tqdm\n",
    "import numpy as np\n",
    "import pandas as pd\n",
    "from sklearn.feature_extraction.text import TfidfVectorizer\n",
    "from scipy.spatial import distance\n",
    "from heapq import nsmallest\n",
    "from sklearn.metrics import pairwise_distances\n",
    "import random"
   ]
  },
  {
   "cell_type": "code",
   "execution_count": 2,
   "metadata": {},
   "outputs": [],
   "source": [
    "articles = pd.read_csv('cleanDataArticles', delimiter=',', header=None)\n",
    "tables = pd.read_csv('cleanDataTables', delimiter=',', header=None)"
   ]
  },
  {
   "cell_type": "code",
   "execution_count": 3,
   "metadata": {},
   "outputs": [],
   "source": [
    "formattedTables = tables.iloc[:,:].values\n",
    "formattedArticles = articles.iloc[:,:].values"
   ]
  },
  {
   "cell_type": "code",
   "execution_count": 4,
   "metadata": {},
   "outputs": [],
   "source": [
    "corpusTables = []\n",
    "\n",
    "for tables in formattedTables:\n",
    "    \n",
    "    corpusTables.append(str(tables[4]))"
   ]
  },
  {
   "cell_type": "code",
   "execution_count": 13,
   "metadata": {},
   "outputs": [],
   "source": [
    "corpusArticlesID = []\n",
    "corpusArticlesText = []\n",
    "\n",
    "for i in range(10):\n",
    "    \n",
    "    randomArticle = random.choice(formattedArticles)\n",
    "    \n",
    "    corpusArticlesID.append(randomArticle[0])\n",
    "    corpusArticlesText.append(str(randomArticle[1]))"
   ]
  },
  {
   "cell_type": "code",
   "execution_count": 31,
   "metadata": {},
   "outputs": [],
   "source": [
    "vectorizer = TfidfVectorizer(stop_words='english', analyzer='word')\n",
    "tablesByCharacteristics = vectorizer.fit_transform(corpusTables)"
   ]
  },
  {
   "cell_type": "code",
   "execution_count": 32,
   "metadata": {},
   "outputs": [],
   "source": [
    "articlesByCharacteristics = vectorizer.transform(corpusArticlesText)"
   ]
  },
  {
   "cell_type": "code",
   "execution_count": 8,
   "metadata": {},
   "outputs": [],
   "source": [
    "def getTotalTablesByArticle(idArticle):\n",
    "\n",
    "    countTopTables = 0\n",
    "\n",
    "    for tables in formattedTables:\n",
    "    \n",
    "        if tables[0] == int(idArticle):\n",
    "        \n",
    "             countTopTables = countTopTables + 1\n",
    "    \n",
    "    #print(str(idArticle) + '-' + str(countTopTables))\n",
    "    \n",
    "    return countTopTables"
   ]
  },
  {
   "cell_type": "code",
   "execution_count": 9,
   "metadata": {},
   "outputs": [],
   "source": [
    "def getIdRankedTalbes(topK,distanceVector):\n",
    "\n",
    "    idRankedTables = []\n",
    "\n",
    "    for topkDistance in topK:\n",
    "    \n",
    "        #index = distanceVector.index(topkDistance)\n",
    "        \n",
    "        index = np.where(distanceVector == topkDistance)\n",
    "         \n",
    "        indexColummun = index[0][0]\n",
    "        \n",
    "        idRankedTables.append(formattedTables[indexColummun][0])\n",
    "\n",
    "    return idRankedTables"
   ]
  },
  {
   "cell_type": "code",
   "execution_count": 10,
   "metadata": {},
   "outputs": [],
   "source": [
    "def getAccuracy(idRankedTables, idQueryGoal):\n",
    "\n",
    "    totalRanquedTables = len(idRankedTables)\n",
    "\n",
    "    match = 0\n",
    "\n",
    "    for idTable in idRankedTables:\n",
    "    \n",
    "        if idTable == idQueryGoal:\n",
    "    \n",
    "            match = match + 1\n",
    "\n",
    "    accuracy = match / totalRanquedTables\n",
    "    \n",
    "    return accuracy"
   ]
  },
  {
   "cell_type": "code",
   "execution_count": 33,
   "metadata": {},
   "outputs": [],
   "source": [
    "accuracy = []\n",
    "\n",
    "totalSelectedArticles = int(articlesByCharacteristics.shape[0])\n",
    "\n",
    "for i in range(totalSelectedArticles):\n",
    "    \n",
    "    distanceVector = pairwise_distances(articlesByCharacteristics[i], tablesByCharacteristics, metric='cosine')\n",
    "    \n",
    "    idQueryGoal = int(corpusArticlesID[i])\n",
    "    \n",
    "    countTopTables = getTotalTablesByArticle(idQueryGoal)\n",
    "    \n",
    "    topK = nsmallest(countTopTables, distanceVector[0])\n",
    "    \n",
    "    idRankedTables = getIdRankedTalbes(topK,distanceVector[0])\n",
    "    \n",
    "    #print(idRankedTables)\n",
    "    \n",
    "    accuracy.append(getAccuracy(idRankedTables,idQueryGoal))"
   ]
  },
  {
   "cell_type": "code",
   "execution_count": 50,
   "metadata": {},
   "outputs": [
    {
     "data": {
      "text/plain": [
       "[0.0, 0.0, 0.0, 0.0, 0.0, 0.0, 0.0, 1.0, 0.0, 0.0]"
      ]
     },
     "execution_count": 50,
     "metadata": {},
     "output_type": "execute_result"
    }
   ],
   "source": [
    "accuracy"
   ]
  },
  {
   "cell_type": "code",
   "execution_count": 35,
   "metadata": {},
   "outputs": [
    {
     "data": {
      "text/plain": [
       "[331039,\n",
       " 707815,\n",
       " 9962207,\n",
       " 33957668,\n",
       " 7973225,\n",
       " 1108415,\n",
       " 1749093,\n",
       " 7408658,\n",
       " 246185,\n",
       " 23624157]"
      ]
     },
     "execution_count": 35,
     "metadata": {},
     "output_type": "execute_result"
    }
   ],
   "source": [
    "corpusArticlesID"
   ]
  },
  {
   "cell_type": "code",
   "execution_count": null,
   "metadata": {},
   "outputs": [],
   "source": []
  },
  {
   "cell_type": "code",
   "execution_count": null,
   "metadata": {},
   "outputs": [],
   "source": []
  }
 ],
 "metadata": {
  "kernelspec": {
   "display_name": "Python 3",
   "language": "python",
   "name": "python3"
  },
  "language_info": {
   "codemirror_mode": {
    "name": "ipython",
    "version": 3
   },
   "file_extension": ".py",
   "mimetype": "text/x-python",
   "name": "python",
   "nbconvert_exporter": "python",
   "pygments_lexer": "ipython3",
   "version": "3.7.3"
  }
 },
 "nbformat": 4,
 "nbformat_minor": 2
}
