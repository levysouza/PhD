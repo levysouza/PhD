{
 "cells": [
  {
   "cell_type": "code",
   "execution_count": 1,
   "metadata": {},
   "outputs": [],
   "source": [
    "import numpy as np\n",
    "import pandas as pd\n",
    "from tqdm import tqdm\n",
    "import gensim as gs\n",
    "import tensorflow as tf\n",
    "import matplotlib.pyplot as plt\n",
    "from nltk.tokenize import TweetTokenizer\n",
    "tknzr = TweetTokenizer()\n",
    "from sklearn.metrics import accuracy_score"
   ]
  },
  {
   "cell_type": "code",
   "execution_count": 2,
   "metadata": {},
   "outputs": [],
   "source": [
    "read_file = pd.read_csv('dataset/trainDataset1_1', delimiter=',', header=None)\n",
    "train_dataset = read_file.iloc[:,:].values"
   ]
  },
  {
   "cell_type": "code",
   "execution_count": 3,
   "metadata": {},
   "outputs": [],
   "source": [
    "read_file = pd.read_csv('dataset/validationDataset1_1', delimiter=',', header=None)\n",
    "validation_dataset = read_file.iloc[:,:].values"
   ]
  },
  {
   "cell_type": "code",
   "execution_count": 4,
   "metadata": {},
   "outputs": [],
   "source": [
    "read_file = pd.read_csv('dataset/testDataset1_1', delimiter=',', header=None)\n",
    "test_dataset = read_file.iloc[:,:].values"
   ]
  },
  {
   "cell_type": "code",
   "execution_count": 5,
   "metadata": {},
   "outputs": [],
   "source": [
    "def sequence_padding(X_DIM, value):\n",
    "    \n",
    "    value_padding = np.pad(value, ((0,15 - X_DIM),(0,0)), 'constant')\n",
    "    \n",
    "    return value_padding"
   ]
  },
  {
   "cell_type": "code",
   "execution_count": null,
   "metadata": {},
   "outputs": [],
   "source": []
  },
  {
   "cell_type": "code",
   "execution_count": 6,
   "metadata": {},
   "outputs": [
    {
     "name": "stderr",
     "output_type": "stream",
     "text": [
      "/home/lss9/anaconda3/lib/python3.7/site-packages/ipykernel_launcher.py:1: DeprecationWarning: Call to deprecated `load_fasttext_format` (use load_facebook_vectors (to use pretrained embeddings) or load_facebook_model (to continue training with the loaded full model, more RAM) instead).\n",
      "  \"\"\"Entry point for launching an IPython kernel.\n",
      "/home/lss9/anaconda3/lib/python3.7/site-packages/smart_open/smart_open_lib.py:398: UserWarning: This function is deprecated, use smart_open.open instead. See the migration notes for details: https://github.com/RaRe-Technologies/smart_open/blob/master/README.rst#migrating-to-the-new-open-function\n",
      "  'See the migration notes for details: %s' % _MIGRATION_NOTES_URL\n"
     ]
    }
   ],
   "source": [
    "embedding_model = gs.models.FastText.load_fasttext_format('pre_trained_models/cc.en.300.bin')"
   ]
  },
  {
   "cell_type": "code",
   "execution_count": 7,
   "metadata": {},
   "outputs": [],
   "source": [
    "# [0]articleID\n",
    "# [1]articleTitle\n",
    "# [2]articleText \n",
    "\n",
    "# [3]tableID \n",
    "# [4]tableTitle\n",
    "# [5]tableSectionTitle\n",
    "# [6]tableCaption\n",
    "# [7]tableHeader\n",
    "# [8]tableBody\n",
    "\n",
    "# [9]match"
   ]
  },
  {
   "cell_type": "code",
   "execution_count": 8,
   "metadata": {},
   "outputs": [
    {
     "name": "stderr",
     "output_type": "stream",
     "text": [
      "100%|██████████| 112191/112191 [01:09<00:00, 1611.32it/s]\n"
     ]
    }
   ],
   "source": [
    "left_train = []\n",
    "rigth_train = []\n",
    "label = []\n",
    "\n",
    "for articleID, articleTitle, articleText, tableID, tableTitle, tableSectionTitle, tableCaption, tableHeader, tableBody, match in tqdm(train_dataset):\n",
    "    \n",
    "    value1 = tknzr.tokenize(str(articleTitle))\n",
    "    \n",
    "    if len(value1) < 15:\n",
    "        \n",
    "        embedding1 = embedding_model.wv[value1]\n",
    "        padding_embedding1 = sequence_padding(embedding1.shape[0],embedding1)\n",
    "        left_train.append(padding_embedding1)\n",
    "    \n",
    "    else:\n",
    "        \n",
    "        embedding1 = embedding_model.wv[value1[0:15]]\n",
    "        left_train.append(embedding1)\n",
    "    \n",
    "    \n",
    "    value2 = tknzr.tokenize(str(tableTitle))\n",
    "    \n",
    "    if len(value2) < 15:\n",
    "        \n",
    "        embedding2 = embedding_model.wv[value2]\n",
    "        padding_embedding2 = sequence_padding(embedding2.shape[0],embedding2)\n",
    "        rigth_train.append(padding_embedding2)\n",
    "    \n",
    "    else:\n",
    "        \n",
    "        embedding2 = embedding_model.wv[value2[0:15]]\n",
    "        rigth_train.append(embedding2)\n",
    "    \n",
    "    \n",
    "    label.append(match)"
   ]
  },
  {
   "cell_type": "code",
   "execution_count": 9,
   "metadata": {},
   "outputs": [],
   "source": [
    "left_train = np.array(left_train)\n",
    "rigth_train = np.array(rigth_train)\n",
    "label = np.array(label)"
   ]
  },
  {
   "cell_type": "code",
   "execution_count": null,
   "metadata": {},
   "outputs": [],
   "source": []
  },
  {
   "cell_type": "code",
   "execution_count": 10,
   "metadata": {},
   "outputs": [
    {
     "name": "stderr",
     "output_type": "stream",
     "text": [
      "100%|██████████| 6626/6626 [00:04<00:00, 1629.91it/s]\n"
     ]
    }
   ],
   "source": [
    "left_validation = []\n",
    "rigth_validation = []\n",
    "label_validation = []\n",
    "\n",
    "for articleID, articleTitle, articleText, tableID, tableTitle, tableSectionTitle, tableCaption, tableHeader, tableBody, match in tqdm(validation_dataset):\n",
    "    \n",
    "    value1 = tknzr.tokenize(str(articleTitle))\n",
    "    \n",
    "    if len(value1) < 15:\n",
    "        \n",
    "        embedding1 = embedding_model.wv[value1]\n",
    "        padding_embedding1 = sequence_padding(embedding1.shape[0],embedding1)\n",
    "        left_validation.append(padding_embedding1)\n",
    "    \n",
    "    else:\n",
    "        \n",
    "        embedding1 = embedding_model.wv[value1[0:15]]\n",
    "        left_validation.append(embedding1)\n",
    "    \n",
    "    \n",
    "    value2 = tknzr.tokenize(str(tableTitle))\n",
    "    \n",
    "    if len(value2) < 15:\n",
    "        \n",
    "        embedding2 = embedding_model.wv[value2]\n",
    "        padding_embedding2 = sequence_padding(embedding2.shape[0],embedding2)\n",
    "        rigth_validation.append(padding_embedding2)\n",
    "    \n",
    "    else:\n",
    "        \n",
    "        embedding2 = embedding_model.wv[value2[0:15]]\n",
    "        rigth_validation.append(embedding2)\n",
    "    \n",
    "    \n",
    "    label_validation.append(match)"
   ]
  },
  {
   "cell_type": "code",
   "execution_count": 11,
   "metadata": {},
   "outputs": [],
   "source": [
    "left_validation = np.array(left_validation)\n",
    "rigth_validation = np.array(rigth_validation)\n",
    "label_validation = np.array(label_validation)"
   ]
  },
  {
   "cell_type": "code",
   "execution_count": null,
   "metadata": {},
   "outputs": [],
   "source": []
  },
  {
   "cell_type": "code",
   "execution_count": 12,
   "metadata": {},
   "outputs": [
    {
     "name": "stderr",
     "output_type": "stream",
     "text": [
      "100%|██████████| 13227/13227 [00:08<00:00, 1600.14it/s]\n"
     ]
    }
   ],
   "source": [
    "left_test = []\n",
    "rigth_test = []\n",
    "label_test = []\n",
    "\n",
    "for articleID, articleTitle, articleText, tableID, tableTitle, tableSectionTitle, tableCaption, tableHeader, tableBody, match in tqdm(test_dataset):\n",
    "    \n",
    "    value1 = tknzr.tokenize(str(articleTitle))\n",
    "    \n",
    "    if len(value1) < 15:\n",
    "        \n",
    "        embedding1 = embedding_model.wv[value1]\n",
    "        padding_embedding1 = sequence_padding(embedding1.shape[0],embedding1)\n",
    "        left_test.append(padding_embedding1)\n",
    "    \n",
    "    else:\n",
    "        \n",
    "        embedding1 = embedding_model.wv[value1[0:15]]\n",
    "        left_test.append(embedding1)\n",
    "    \n",
    "    \n",
    "    value2 = tknzr.tokenize(str(tableTitle))\n",
    "    \n",
    "    if len(value2) < 15:\n",
    "        \n",
    "        embedding2 = embedding_model.wv[value2]\n",
    "        padding_embedding2 = sequence_padding(embedding2.shape[0],embedding2)\n",
    "        rigth_test.append(padding_embedding2)\n",
    "    \n",
    "    else:\n",
    "        \n",
    "        embedding2 = embedding_model.wv[value2[0:15]]\n",
    "        rigth_test.append(embedding2)\n",
    "    \n",
    "    \n",
    "    label_test.append(match)"
   ]
  },
  {
   "cell_type": "code",
   "execution_count": 13,
   "metadata": {},
   "outputs": [],
   "source": [
    "left_test = np.array(left_test)\n",
    "rigth_test = np.array(rigth_test)\n",
    "label_test = np.array(label_test)"
   ]
  },
  {
   "cell_type": "code",
   "execution_count": null,
   "metadata": {},
   "outputs": [],
   "source": []
  },
  {
   "cell_type": "code",
   "execution_count": 14,
   "metadata": {},
   "outputs": [],
   "source": [
    "def siamese_model(input_shape):\n",
    "    \n",
    "    left = tf.keras.Input(input_shape)\n",
    "    right = tf.keras.Input(input_shape)\n",
    "    \n",
    "    model = tf.keras.Sequential()\n",
    "    \n",
    "    #model.add(tf.keras.layers.LSTM(16, activation='relu',  dropout=0.2, return_sequences=True))\n",
    "    #model.add(tf.keras.layers.BatchNormalization())\n",
    "    #model.add(tf.keras.layers.LSTM(32, activation='relu',  dropout=0.2, return_sequences=True))\n",
    "    #model.add(tf.keras.layers.BatchNormalization())\n",
    "    #model.add(tf.keras.layers.LSTM(64, activation='relu',  dropout=0.2, return_sequences=True))\n",
    "    #model.add(tf.keras.layers.BatchNormalization())\n",
    "    #model.add(tf.keras.layers.LSTM(128, activation='relu', dropout=0.2, return_sequences=True))\n",
    "    #model.add(tf.keras.layers.BatchNormalization())\n",
    "    model.add(tf.keras.layers.LSTM(256, activation='relu', dropout=0.2, return_sequences=True))\n",
    "    model.add(tf.keras.layers.BatchNormalization())\n",
    "    model.add(tf.keras.layers.Flatten())\n",
    "    model.add(tf.keras.layers.Dense(256, activation='sigmoid'))\n",
    "    \n",
    "    left_encoded = model(left)\n",
    "    right_encoded = model(right)\n",
    "    \n",
    "    L1_distance = tf.keras.layers.dot([left_encoded,right_encoded], axes=1, normalize=True)\n",
    "    \n",
    "    prediction = tf.keras.layers.Dense(1,activation='sigmoid')(L1_distance)\n",
    "    \n",
    "    siamese_net = tf.keras.Model(inputs=[left,right],outputs=prediction)\n",
    "    \n",
    "    return siamese_net"
   ]
  },
  {
   "cell_type": "code",
   "execution_count": 15,
   "metadata": {},
   "outputs": [],
   "source": [
    "#L1_distance = tf.keras.layers.dot([left_encoded,right_encoded], axes=1, normalize=True)"
   ]
  },
  {
   "cell_type": "code",
   "execution_count": 16,
   "metadata": {},
   "outputs": [],
   "source": [
    "model = siamese_model((15,300))"
   ]
  },
  {
   "cell_type": "code",
   "execution_count": 17,
   "metadata": {},
   "outputs": [],
   "source": [
    "model.compile(loss=\"binary_crossentropy\",optimizer=\"adam\", metrics=['accuracy'])"
   ]
  },
  {
   "cell_type": "code",
   "execution_count": null,
   "metadata": {},
   "outputs": [],
   "source": [
    "history = model.fit([left_train, rigth_train], label, \n",
    "          epochs=100, \n",
    "          batch_size=32, \n",
    "          validation_data=([left_validation, rigth_validation], label_validation))"
   ]
  },
  {
   "cell_type": "code",
   "execution_count": null,
   "metadata": {},
   "outputs": [],
   "source": [
    "model.save('siamese_LSTM_1_1.h5')"
   ]
  },
  {
   "cell_type": "code",
   "execution_count": null,
   "metadata": {},
   "outputs": [],
   "source": [
    "# summarize history for accuracy\n",
    "plt.plot(history.history['accuracy'])\n",
    "plt.plot(history.history['val_accuracy'])\n",
    "plt.title('model accuracy')\n",
    "plt.ylabel('accuracy')\n",
    "plt.xlabel('epoch')\n",
    "plt.legend(['train', 'validation'], loc='upper left')\n",
    "plt.show()"
   ]
  },
  {
   "cell_type": "code",
   "execution_count": null,
   "metadata": {},
   "outputs": [],
   "source": [
    "# summarize history for loss\n",
    "plt.plot(history.history['loss'])\n",
    "plt.plot(history.history['val_loss'])\n",
    "plt.title('model loss')\n",
    "plt.ylabel('loss')\n",
    "plt.xlabel('epoch')\n",
    "plt.legend(['train', 'validation'], loc='upper left')\n",
    "plt.show()"
   ]
  },
  {
   "cell_type": "code",
   "execution_count": null,
   "metadata": {},
   "outputs": [],
   "source": [
    "y_prob = model.predict([left_test,rigth_test])"
   ]
  },
  {
   "cell_type": "code",
   "execution_count": null,
   "metadata": {},
   "outputs": [],
   "source": [
    "y_prob[y_prob >= 0.5] = 1"
   ]
  },
  {
   "cell_type": "code",
   "execution_count": null,
   "metadata": {},
   "outputs": [],
   "source": [
    "y_prob[y_prob < 0.5] = 0"
   ]
  },
  {
   "cell_type": "code",
   "execution_count": null,
   "metadata": {},
   "outputs": [],
   "source": [
    "accuracy_score(label_test, y_prob)"
   ]
  },
  {
   "cell_type": "code",
   "execution_count": null,
   "metadata": {},
   "outputs": [],
   "source": []
  },
  {
   "cell_type": "code",
   "execution_count": null,
   "metadata": {},
   "outputs": [],
   "source": [
    "from sklearn.metrics import confusion_matrix\n",
    "cm=confusion_matrix(label_test,y_prob)\n",
    "print(cm)"
   ]
  },
  {
   "cell_type": "code",
   "execution_count": null,
   "metadata": {},
   "outputs": [],
   "source": [
    "classes=[0,1]\n",
    "con_mat = tf.math.confusion_matrix(labels=label_test, predictions=y_prob).numpy()\n",
    "con_mat_norm = np.around(con_mat.astype('float') / con_mat.sum(axis=1)[:, np.newaxis], decimals=2)\n",
    "con_mat_df = pd.DataFrame(con_mat_norm,\n",
    "                     index = classes, \n",
    "                     columns = classes)"
   ]
  },
  {
   "cell_type": "code",
   "execution_count": null,
   "metadata": {},
   "outputs": [],
   "source": [
    "import seaborn as sns;\n",
    "figure = plt.figure(figsize=(8, 8))\n",
    "sns.heatmap(con_mat_df, annot=True,cmap=plt.cm.Blues)\n",
    "plt.tight_layout()\n",
    "plt.ylabel('True label')\n",
    "plt.xlabel('Predicted label')\n",
    "plt.show()"
   ]
  }
 ],
 "metadata": {
  "kernelspec": {
   "display_name": "Python 3",
   "language": "python",
   "name": "python3"
  },
  "language_info": {
   "codemirror_mode": {
    "name": "ipython",
    "version": 3
   },
   "file_extension": ".py",
   "mimetype": "text/x-python",
   "name": "python",
   "nbconvert_exporter": "python",
   "pygments_lexer": "ipython3",
   "version": "3.7.3"
  }
 },
 "nbformat": 4,
 "nbformat_minor": 2
}
