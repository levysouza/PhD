{
 "cells": [
  {
   "cell_type": "code",
   "execution_count": null,
   "metadata": {},
   "outputs": [],
   "source": [
    "import warnings\n",
    "import numpy as np\n",
    "import pandas as pd\n",
    "from sklearn.model_selection import train_test_split\n",
    "import gensim as gs\n",
    "from tqdm import tqdm\n",
    "import tensorflow as tf\n",
    "import matplotlib.pyplot as plt\n",
    "from nltk.tokenize import TweetTokenizer\n",
    "tknzr = TweetTokenizer()\n",
    "from sklearn.metrics import accuracy_score, precision_score, recall_score, f1_score\n",
    "warnings.filterwarnings('ignore')"
   ]
  },
  {
   "cell_type": "code",
   "execution_count": null,
   "metadata": {},
   "outputs": [],
   "source": []
  },
  {
   "cell_type": "code",
   "execution_count": null,
   "metadata": {},
   "outputs": [],
   "source": [
    "device_name = tf.test.gpu_device_name()\n",
    "if device_name != '/device:GPU:0':\n",
    "    raise SystemError('GPU not found')\n",
    "print('found GPU at {}'.format(device_name))"
   ]
  },
  {
   "cell_type": "code",
   "execution_count": null,
   "metadata": {},
   "outputs": [],
   "source": [
    "physical_devices = tf.config.list_physical_devices('GPU')"
   ]
  },
  {
   "cell_type": "code",
   "execution_count": null,
   "metadata": {},
   "outputs": [],
   "source": [
    "tf.config.experimental.set_memory_growth(physical_devices[0], enable=True)"
   ]
  },
  {
   "cell_type": "code",
   "execution_count": null,
   "metadata": {},
   "outputs": [],
   "source": []
  },
  {
   "cell_type": "code",
   "execution_count": null,
   "metadata": {},
   "outputs": [],
   "source": [
    "train_data = pd.read_csv('../train_data/train_triple_all_signals.csv', delimiter=',')\n",
    "validation_data = pd.read_csv('../train_data/validation_triple_all_signals.csv', delimiter=',')"
   ]
  },
  {
   "cell_type": "code",
   "execution_count": null,
   "metadata": {},
   "outputs": [],
   "source": []
  },
  {
   "cell_type": "code",
   "execution_count": null,
   "metadata": {},
   "outputs": [],
   "source": [
    "Y_train_dummy = np.empty(len(train_data))\n",
    "Y_validation_dummy = np.empty(len(validation_data))"
   ]
  },
  {
   "cell_type": "code",
   "execution_count": null,
   "metadata": {},
   "outputs": [],
   "source": []
  },
  {
   "cell_type": "code",
   "execution_count": null,
   "metadata": {},
   "outputs": [],
   "source": [
    "embedding_model = gs.models.FastText.load('../../train_embedding_models/fasttext_embedding_50d_all_signals')"
   ]
  },
  {
   "cell_type": "code",
   "execution_count": null,
   "metadata": {},
   "outputs": [],
   "source": [
    "MAX_PAD = 161\n",
    "\n",
    "def sequence_padding(X_DIM, value):\n",
    "    \n",
    "    value_padding = np.pad(value, ((0,MAX_PAD - X_DIM),(0,0)), 'constant')\n",
    "    \n",
    "    return value_padding"
   ]
  },
  {
   "cell_type": "code",
   "execution_count": null,
   "metadata": {},
   "outputs": [],
   "source": [
    "def create_embedding(value):\n",
    "\n",
    "    value = tknzr.tokenize(str(value))\n",
    "    \n",
    "    if len(value) < MAX_PAD:\n",
    "        \n",
    "        embedding = embedding_model.wv[value]\n",
    "        embedding = embedding.astype('float16')\n",
    "        \n",
    "        padding_embedding = sequence_padding(embedding.shape[0],embedding)\n",
    "        \n",
    "        return padding_embedding\n",
    "        \n",
    "    else:\n",
    "        \n",
    "        embedding = embedding_model.wv[value[0:MAX_PAD]]\n",
    "        embedding = embedding.astype('float16')\n",
    "        \n",
    "        return embedding"
   ]
  },
  {
   "cell_type": "code",
   "execution_count": null,
   "metadata": {},
   "outputs": [],
   "source": [
    "train_data.head(1)"
   ]
  },
  {
   "cell_type": "code",
   "execution_count": null,
   "metadata": {},
   "outputs": [],
   "source": [
    "train_article_page_title = []\n",
    "train_true_table_page_title = []\n",
    "train_false_table_page_title = []\n",
    "\n",
    "for i,row in tqdm(train_data.iterrows()):\n",
    "    \n",
    "    article_catch_all = str(row['article_page_title'])+\" \"+str(row['article_page_meta_description'])+\" \"+str(row['article_page_keywords'])\n",
    "    true_table_catch_all = str(row['true_table_page_title'])+\" \"+str(row['true_table_page_summary'])+\" \"+str(row['true_table_page_keywords'])\n",
    "    false_table_catch_all = str(row['false_table_page_title'])+\" \"+str(row['false_table_page_summary'])+\" \"+str(row['false_table_page_keywords'])\n",
    "    \n",
    "    train_article_page_title.append(create_embedding(article_catch_all))\n",
    "    train_true_table_page_title.append(create_embedding(true_table_catch_all))\n",
    "    train_false_table_page_title.append(create_embedding(false_table_catch_all))"
   ]
  },
  {
   "cell_type": "code",
   "execution_count": null,
   "metadata": {},
   "outputs": [],
   "source": [
    "train_article_page_title = np.array(train_article_page_title,dtype='float16')\n",
    "train_true_table_page_title = np.array(train_true_table_page_title,dtype='float16')\n",
    "train_false_table_page_title = np.array(train_false_table_page_title,dtype='float16')"
   ]
  },
  {
   "cell_type": "code",
   "execution_count": null,
   "metadata": {},
   "outputs": [],
   "source": []
  },
  {
   "cell_type": "code",
   "execution_count": null,
   "metadata": {},
   "outputs": [],
   "source": [
    "validation_article_page_title = []\n",
    "validation_true_table_page_title = []\n",
    "validation_false_table_page_title = []\n",
    "\n",
    "for i,row in tqdm(validation_data.iterrows()):\n",
    "    \n",
    "    article_catch_all = str(row['article_page_title'])+\" \"+str(row['article_page_meta_description'])+\" \"+str(row['article_page_keywords'])\n",
    "    true_table_catch_all = str(row['true_table_page_title'])+\" \"+str(row['true_table_page_summary'])+\" \"+str(row['true_table_page_keywords'])\n",
    "    false_table_catch_all = str(row['false_table_page_title'])+\" \"+str(row['false_table_page_summary'])+\" \"+str(row['false_table_page_keywords'])\n",
    "    \n",
    "    validation_article_page_title.append(create_embedding(article_catch_all))\n",
    "    validation_true_table_page_title.append(create_embedding(true_table_catch_all))\n",
    "    validation_false_table_page_title.append(create_embedding(false_table_catch_all))"
   ]
  },
  {
   "cell_type": "code",
   "execution_count": null,
   "metadata": {},
   "outputs": [],
   "source": [
    "validation_article_page_title = np.array(validation_article_page_title,dtype='float16')\n",
    "validation_true_table_page_title = np.array(validation_true_table_page_title,dtype='float16')\n",
    "validation_false_table_page_title = np.array(validation_false_table_page_title,dtype='float16')"
   ]
  },
  {
   "cell_type": "code",
   "execution_count": null,
   "metadata": {},
   "outputs": [],
   "source": []
  },
  {
   "cell_type": "code",
   "execution_count": null,
   "metadata": {},
   "outputs": [],
   "source": []
  },
  {
   "cell_type": "code",
   "execution_count": null,
   "metadata": {},
   "outputs": [],
   "source": []
  },
  {
   "cell_type": "code",
   "execution_count": null,
   "metadata": {},
   "outputs": [],
   "source": [
    "def triplet_loss(y_true, y_pred, alpha = 0.5):\n",
    "     \n",
    "    anchor = y_pred[:,0:1024]\n",
    "    positive = y_pred[:,1024:2048]\n",
    "    negative = y_pred[:,2048:3072]\n",
    "        \n",
    "    # distance between the anchor and the positive\n",
    "    #pos_dist = tf.keras.backend.sum(tf.keras.backend.square(anchor-positive),axis=1)\n",
    "    pos_dist = tf.keras.layers.Dot(axes=1,normalize=True)([anchor, positive])\n",
    "    \n",
    "    # distance between the anchor and the negative\n",
    "    #neg_dist = tf.keras.backend.sum(tf.keras.backend.square(anchor-negative),axis=1)\n",
    "    neg_dist = tf.keras.layers.Dot(axes=1,normalize=True)([anchor, negative])\n",
    "    \n",
    "    # compute loss\n",
    "    #basic_loss = pos_dist-neg_dist+alpha\n",
    "    basic_loss = (1 - pos_dist) - (1 - neg_dist) + alpha\n",
    "    loss = tf.keras.backend.maximum(basic_loss,0.0)\n",
    " \n",
    "    return loss"
   ]
  },
  {
   "cell_type": "code",
   "execution_count": null,
   "metadata": {},
   "outputs": [],
   "source": [
    "def shared_encoder_model_title():\n",
    "    \n",
    "    article_page_title = tf.keras.Input(shape=(161,50), dtype='float32')\n",
    "    true_table_page_title = tf.keras.Input(shape=(161,50), dtype='float32')\n",
    "    false_table_page_title = tf.keras.Input(shape=(161,50), dtype='float32')\n",
    "\n",
    "    context_layer = tf.keras.layers.Bidirectional(tf.keras.layers.GRU(512))\n",
    "   \n",
    "    #context vectors\n",
    "    context_article_page_title = context_layer(article_page_title)\n",
    "    context_true_table_page_title = context_layer(true_table_page_title)\n",
    "    context_false_table_page_title = context_layer(false_table_page_title)\n",
    "\n",
    "    concatenated = tf.keras.layers.Concatenate(axis=-1)([context_article_page_title, context_true_table_page_title, context_false_table_page_title])\n",
    "\n",
    "    model = tf.keras.Model(inputs=[article_page_title,true_table_page_title,false_table_page_title],outputs=concatenated)\n",
    "\n",
    "    return model"
   ]
  },
  {
   "cell_type": "code",
   "execution_count": null,
   "metadata": {},
   "outputs": [],
   "source": [
    "model = shared_encoder_model_title()"
   ]
  },
  {
   "cell_type": "code",
   "execution_count": null,
   "metadata": {},
   "outputs": [],
   "source": [
    "model.summary()"
   ]
  },
  {
   "cell_type": "code",
   "execution_count": null,
   "metadata": {},
   "outputs": [],
   "source": [
    "model.compile(loss=triplet_loss,optimizer=\"adam\")"
   ]
  },
  {
   "cell_type": "code",
   "execution_count": null,
   "metadata": {},
   "outputs": [],
   "source": [
    "filepath=\"encoder_cosine_all_signals_{epoch:02d}_{val_loss:.4f}.h5\"\n",
    "checkpoint = tf.keras.callbacks.ModelCheckpoint(filepath, monitor='val_loss', verbose=1, save_best_only=True, mode='min')\n",
    "callbacks_list = [checkpoint]"
   ]
  },
  {
   "cell_type": "code",
   "execution_count": null,
   "metadata": {},
   "outputs": [],
   "source": [
    "history = model.fit([train_article_page_title,train_true_table_page_title,train_false_table_page_title], Y_train_dummy, \n",
    "      epochs=20, \n",
    "      batch_size=32,\n",
    "      verbose=1,\n",
    "      validation_data=([validation_article_page_title,validation_true_table_page_title,validation_false_table_page_title], Y_validation_dummy),\n",
    "      callbacks=callbacks_list)"
   ]
  },
  {
   "cell_type": "code",
   "execution_count": null,
   "metadata": {},
   "outputs": [],
   "source": []
  },
  {
   "cell_type": "code",
   "execution_count": null,
   "metadata": {},
   "outputs": [],
   "source": []
  },
  {
   "cell_type": "code",
   "execution_count": null,
   "metadata": {},
   "outputs": [],
   "source": []
  }
 ],
 "metadata": {
  "kernelspec": {
   "display_name": "Python 3",
   "language": "python",
   "name": "python3"
  },
  "language_info": {
   "codemirror_mode": {
    "name": "ipython",
    "version": 3
   },
   "file_extension": ".py",
   "mimetype": "text/x-python",
   "name": "python",
   "nbconvert_exporter": "python",
   "pygments_lexer": "ipython3",
   "version": "3.7.6"
  }
 },
 "nbformat": 4,
 "nbformat_minor": 2
}
