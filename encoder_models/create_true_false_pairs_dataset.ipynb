{
 "cells": [
  {
   "cell_type": "code",
   "execution_count": 1,
   "metadata": {},
   "outputs": [],
   "source": [
    "import numpy as np\n",
    "import pandas as pd\n",
    "from tqdm import tqdm"
   ]
  },
  {
   "cell_type": "code",
   "execution_count": 2,
   "metadata": {},
   "outputs": [],
   "source": [
    "true_pairs = pd.read_csv('../train_data/true_pairs_by_cosine_070_title_main_passage_keywords.csv', delimiter=',')\n",
    "false_pairs = pd.read_csv('../train_data/false_pairs_by_pands_title_main_passage_keywords.csv', delimiter=',')"
   ]
  },
  {
   "cell_type": "code",
   "execution_count": 5,
   "metadata": {},
   "outputs": [
    {
     "data": {
      "text/html": [
       "<div>\n",
       "<style scoped>\n",
       "    .dataframe tbody tr th:only-of-type {\n",
       "        vertical-align: middle;\n",
       "    }\n",
       "\n",
       "    .dataframe tbody tr th {\n",
       "        vertical-align: top;\n",
       "    }\n",
       "\n",
       "    .dataframe thead th {\n",
       "        text-align: right;\n",
       "    }\n",
       "</style>\n",
       "<table border=\"1\" class=\"dataframe\">\n",
       "  <thead>\n",
       "    <tr style=\"text-align: right;\">\n",
       "      <th></th>\n",
       "      <th>article_id</th>\n",
       "      <th>article_keywords</th>\n",
       "      <th>article_meta_description</th>\n",
       "      <th>article_page_title</th>\n",
       "      <th>label</th>\n",
       "      <th>table_id</th>\n",
       "      <th>table_page_keywords</th>\n",
       "      <th>table_page_summary</th>\n",
       "      <th>table_page_title</th>\n",
       "    </tr>\n",
       "  </thead>\n",
       "  <tbody>\n",
       "    <tr>\n",
       "      <th>0</th>\n",
       "      <td>5765329</td>\n",
       "      <td>recently surgery implants reality size shes ge...</td>\n",
       "      <td>reality star heidi montag recently sat talk ex...</td>\n",
       "      <td>heidi montag gets plastic surgery removes over...</td>\n",
       "      <td>1</td>\n",
       "      <td>5765329</td>\n",
       "      <td>later heidi second released television edit co...</td>\n",
       "      <td>montag came prominence cast mtv reality televi...</td>\n",
       "      <td>heidi montag</td>\n",
       "    </tr>\n",
       "  </tbody>\n",
       "</table>\n",
       "</div>"
      ],
      "text/plain": [
       "   article_id                                   article_keywords  \\\n",
       "0     5765329  recently surgery implants reality size shes ge...   \n",
       "\n",
       "                            article_meta_description  \\\n",
       "0  reality star heidi montag recently sat talk ex...   \n",
       "\n",
       "                                  article_page_title  label  table_id  \\\n",
       "0  heidi montag gets plastic surgery removes over...      1   5765329   \n",
       "\n",
       "                                 table_page_keywords  \\\n",
       "0  later heidi second released television edit co...   \n",
       "\n",
       "                                  table_page_summary table_page_title  \n",
       "0  montag came prominence cast mtv reality televi...     heidi montag  "
      ]
     },
     "execution_count": 5,
     "metadata": {},
     "output_type": "execute_result"
    }
   ],
   "source": [
    "true_pairs.head(1)"
   ]
  },
  {
   "cell_type": "code",
   "execution_count": 27,
   "metadata": {},
   "outputs": [
    {
     "name": "stderr",
     "output_type": "stream",
     "text": [
      "94167it [24:34, 63.88it/s]\n"
     ]
    }
   ],
   "source": [
    "all_triple_signals = []\n",
    "\n",
    "for i, row in tqdm(true_pairs.iterrows()):\n",
    "    \n",
    "    #article signals\n",
    "    article_id = row['article_id']\n",
    "    article_page_title = row['article_page_title']\n",
    "    article_meta_description = row['article_meta_description']\n",
    "    article_keywords = row['article_keywords']\n",
    "    \n",
    "    #true table signals\n",
    "    true_table_id = row['table_id']\n",
    "    true_table_page_title = row['table_page_title']\n",
    "    true_table_page_summary = row['table_page_summary']\n",
    "    true_table_page_keywords = row['table_page_keywords']\n",
    "    \n",
    "    #get the false table id using random seach\n",
    "    sample_false_pairs = false_pairs.sample(10)\n",
    "    \n",
    "    for j,row_sample in sample_false_pairs.iterrows():\n",
    "            \n",
    "            false_table_id = row_sample['table_id']\n",
    "            \n",
    "            if article_id != false_table_id:\n",
    "                \n",
    "                false_table_id = row_sample['table_id']\n",
    "                false_table_page_title = row_sample['table_page_title']\n",
    "                false_table_page_summary = row_sample['table_page_summary']\n",
    "                false_table_page_keywords = row_sample['table_page_keywords']\n",
    "                \n",
    "                break\n",
    "    \n",
    "    #constructing the triple signals\n",
    "    \n",
    "    row_triple_line = {\n",
    "    \"article_id\":article_id,\n",
    "    \"article_page_title\":article_page_title,\n",
    "    \"article_page_meta_description\":article_meta_description,\n",
    "    \"article_page_keywords\":article_keywords,\n",
    "        \n",
    "    \"true_table_id\":true_table_id,\n",
    "    \"true_table_page_title\":true_table_page_title,\n",
    "    \"true_table_page_summary\":true_table_page_summary,\n",
    "    \"true_table_page_keywords\":true_table_page_keywords,\n",
    "        \n",
    "    \"false_table_id\":false_table_id,\n",
    "    \"false_table_page_title\":false_table_page_title,\n",
    "    \"false_table_page_summary\":false_table_page_summary,\n",
    "    \"false_table_page_keywords\":false_table_page_keywords,\n",
    "    }\n",
    "    \n",
    "    #saving\n",
    "    all_triple_signals.append(row_triple_line)"
   ]
  },
  {
   "cell_type": "code",
   "execution_count": 28,
   "metadata": {},
   "outputs": [],
   "source": [
    "df_triple_signals = pd.DataFrame(all_triple_signals)"
   ]
  },
  {
   "cell_type": "code",
   "execution_count": 29,
   "metadata": {},
   "outputs": [],
   "source": [
    "df_triple_signals.to_csv('train_true_false_pairs_encoders.csv',index=False)"
   ]
  },
  {
   "cell_type": "code",
   "execution_count": null,
   "metadata": {},
   "outputs": [],
   "source": []
  }
 ],
 "metadata": {
  "kernelspec": {
   "display_name": "Python 3",
   "language": "python",
   "name": "python3"
  },
  "language_info": {
   "codemirror_mode": {
    "name": "ipython",
    "version": 3
   },
   "file_extension": ".py",
   "mimetype": "text/x-python",
   "name": "python",
   "nbconvert_exporter": "python",
   "pygments_lexer": "ipython3",
   "version": "3.7.3"
  }
 },
 "nbformat": 4,
 "nbformat_minor": 2
}
