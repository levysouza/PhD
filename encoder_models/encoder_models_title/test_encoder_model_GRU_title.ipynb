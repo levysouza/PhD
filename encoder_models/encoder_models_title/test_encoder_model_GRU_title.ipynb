{
 "cells": [
  {
   "cell_type": "code",
   "execution_count": 1,
   "metadata": {},
   "outputs": [],
   "source": [
    "from tqdm import tqdm\n",
    "import numpy as np\n",
    "import pandas as pd\n",
    "from sklearn.metrics import pairwise_distances\n",
    "import random\n",
    "import gensim as gs\n",
    "from nltk.tokenize import TweetTokenizer\n",
    "tknzr = TweetTokenizer()\n",
    "import tensorflow as tf"
   ]
  },
  {
   "cell_type": "code",
   "execution_count": 2,
   "metadata": {},
   "outputs": [],
   "source": [
    "articles = pd.read_csv('../../dataset/data_articles_test.csv', delimiter=',', keep_default_na=False)\n",
    "\n",
    "tables = pd.read_csv('../../dataset/distinct_tables_allsignals.csv', delimiter=',', keep_default_na=False)\n",
    "tables = tables.drop(tables[tables.table_page_title == \"\"].index)"
   ]
  },
  {
   "cell_type": "code",
   "execution_count": null,
   "metadata": {},
   "outputs": [],
   "source": []
  },
  {
   "cell_type": "markdown",
   "metadata": {},
   "source": [
    "## encoder model create by us"
   ]
  },
  {
   "cell_type": "code",
   "execution_count": 3,
   "metadata": {},
   "outputs": [],
   "source": [
    "def triplet_loss(y_true, y_pred, alpha = 0.4):\n",
    "     \n",
    "    anchor = y_pred[:,0:64]\n",
    "    positive = y_pred[:,64:128]\n",
    "    negative = y_pred[:,128:192]\n",
    "    \n",
    "    # distance between the anchor and the positive\n",
    "    pos_dist = tf.keras.backend.sum(tf.keras.backend.square(anchor-positive),axis=1)\n",
    "\n",
    "    # distance between the anchor and the negative\n",
    "    neg_dist = tf.keras.backend.sum(tf.keras.backend.square(anchor-negative),axis=1)\n",
    "\n",
    "    # compute loss\n",
    "    basic_loss = pos_dist-neg_dist+alpha\n",
    "    loss = tf.keras.backend.maximum(basic_loss,0.0)\n",
    " \n",
    "    return loss"
   ]
  },
  {
   "cell_type": "code",
   "execution_count": 4,
   "metadata": {},
   "outputs": [],
   "source": [
    "article_page_title = tf.keras.Input(shape=(31,50), dtype='float32')\n",
    "true_table_page_title = tf.keras.Input(shape=(31,50), dtype='float32')\n",
    "false_table_page_title = tf.keras.Input(shape=(31,50), dtype='float32')\n",
    "\n",
    "context_layer = tf.keras.layers.Bidirectional(tf.keras.layers.GRU(32))\n",
    "\n",
    "#context vectors\n",
    "context_article_page_title = context_layer(article_page_title)\n",
    "context_true_table_page_title = context_layer(true_table_page_title)\n",
    "context_false_table_page_title = context_layer(false_table_page_title)\n",
    "\n",
    "concatenated = tf.keras.layers.Concatenate(axis=-1)([context_article_page_title, context_true_table_page_title, context_false_table_page_title])\n",
    "\n",
    "encoder_model = tf.keras.Model(inputs=[article_page_title,true_table_page_title,false_table_page_title],outputs=concatenated)"
   ]
  },
  {
   "cell_type": "code",
   "execution_count": null,
   "metadata": {},
   "outputs": [],
   "source": []
  },
  {
   "cell_type": "code",
   "execution_count": 5,
   "metadata": {},
   "outputs": [],
   "source": [
    "encoder_model.compile(loss=triplet_loss,optimizer=\"adam\")"
   ]
  },
  {
   "cell_type": "code",
   "execution_count": 6,
   "metadata": {},
   "outputs": [],
   "source": [
    "encoder_model.load_weights('encoder_title_07_0.0345.h5')"
   ]
  },
  {
   "cell_type": "code",
   "execution_count": 8,
   "metadata": {},
   "outputs": [],
   "source": [
    "final_encoder_model = tf.keras.Model(article_page_title,encoder_model.get_layer('bidirectional').output)"
   ]
  },
  {
   "cell_type": "code",
   "execution_count": null,
   "metadata": {},
   "outputs": [],
   "source": []
  },
  {
   "cell_type": "markdown",
   "metadata": {},
   "source": [
    "## fast text emedding"
   ]
  },
  {
   "cell_type": "code",
   "execution_count": 9,
   "metadata": {},
   "outputs": [
    {
     "name": "stderr",
     "output_type": "stream",
     "text": [
      "/home/lss9/anaconda3/lib/python3.7/site-packages/smart_open/smart_open_lib.py:402: UserWarning: This function is deprecated, use smart_open.open instead. See the migration notes for details: https://github.com/RaRe-Technologies/smart_open/blob/master/README.rst#migrating-to-the-new-open-function\n",
      "  'See the migration notes for details: %s' % _MIGRATION_NOTES_URL\n"
     ]
    }
   ],
   "source": [
    "fast_text_embedding = gs.models.FastText.load('../../train_embedding_models/fasttext_embedding_50d_all_signals')"
   ]
  },
  {
   "cell_type": "code",
   "execution_count": 10,
   "metadata": {},
   "outputs": [],
   "source": [
    "MAX_PAD = 31\n",
    "\n",
    "def sequence_padding(X_DIM, value):\n",
    "    \n",
    "    value_padding = np.pad(value, ((0,MAX_PAD - X_DIM),(0,0)), 'constant')\n",
    "    \n",
    "    return value_padding"
   ]
  },
  {
   "cell_type": "code",
   "execution_count": 14,
   "metadata": {},
   "outputs": [],
   "source": [
    "def create_embedding(value):\n",
    "\n",
    "    value = tknzr.tokenize(str(value))\n",
    "    \n",
    "    if len(value) < MAX_PAD:\n",
    "        \n",
    "        embedding = fast_text_embedding.wv[value]\n",
    "        embedding = embedding.astype('float16')\n",
    "        \n",
    "        padding_embedding = sequence_padding(embedding.shape[0],embedding)\n",
    "        \n",
    "        return padding_embedding\n",
    "        \n",
    "    else:\n",
    "        \n",
    "        embedding = fast_text_embedding.wv[value[0:MAX_PAD]]\n",
    "        embedding = embedding.astype('float16')\n",
    "        \n",
    "        return embedding"
   ]
  },
  {
   "cell_type": "code",
   "execution_count": null,
   "metadata": {},
   "outputs": [],
   "source": []
  },
  {
   "cell_type": "code",
   "execution_count": null,
   "metadata": {},
   "outputs": [],
   "source": []
  },
  {
   "cell_type": "markdown",
   "metadata": {},
   "source": [
    "## encode articles using encoder model"
   ]
  },
  {
   "cell_type": "code",
   "execution_count": 15,
   "metadata": {},
   "outputs": [
    {
     "name": "stderr",
     "output_type": "stream",
     "text": [
      "1026it [00:00, 4270.32it/s]\n"
     ]
    }
   ],
   "source": [
    "articles_ids = []\n",
    "articles_fasttext_embedding = []\n",
    "\n",
    "for i, row in tqdm(articles.iterrows()):\n",
    "    \n",
    "    article_page_title = row['page_title']\n",
    "       \n",
    "    #fast text embedding\n",
    "    title_fast_text_embedding = create_embedding(article_page_title)\n",
    "    \n",
    "    #save list\n",
    "    articles_ids.append(row['page_id'])\n",
    "    articles_fasttext_embedding.append(title_fast_text_embedding)"
   ]
  },
  {
   "cell_type": "code",
   "execution_count": 20,
   "metadata": {},
   "outputs": [],
   "source": [
    "articles_fasttext_embedding = np.array(articles_fasttext_embedding,dtype='float16')"
   ]
  },
  {
   "cell_type": "code",
   "execution_count": 22,
   "metadata": {},
   "outputs": [],
   "source": [
    "with tf.device(\"/cpu:0\"):\n",
    "    \n",
    "    articles_vector = final_encoder_model.predict(x=articles_fasttext_embedding)"
   ]
  },
  {
   "cell_type": "code",
   "execution_count": null,
   "metadata": {},
   "outputs": [],
   "source": []
  },
  {
   "cell_type": "code",
   "execution_count": null,
   "metadata": {},
   "outputs": [],
   "source": []
  },
  {
   "cell_type": "code",
   "execution_count": null,
   "metadata": {},
   "outputs": [],
   "source": []
  },
  {
   "cell_type": "code",
   "execution_count": null,
   "metadata": {},
   "outputs": [],
   "source": []
  },
  {
   "cell_type": "code",
   "execution_count": 25,
   "metadata": {},
   "outputs": [
    {
     "name": "stderr",
     "output_type": "stream",
     "text": [
      "85900it [00:16, 5205.96it/s]\n"
     ]
    }
   ],
   "source": [
    "tables_ids = []\n",
    "tables_fastext_embedding = []\n",
    "\n",
    "for i, row in tqdm(tables.iterrows()):\n",
    "    \n",
    "    table_title = row['table_page_title']\n",
    "    \n",
    "    #fast text embedding\n",
    "    title_fast_text_embedding = create_embedding(table_title)\n",
    "    \n",
    "    tables_ids.append(row['table_id'])\n",
    "    tables_fastext_embedding.append(title_fast_text_embedding) "
   ]
  },
  {
   "cell_type": "code",
   "execution_count": 26,
   "metadata": {},
   "outputs": [],
   "source": [
    "tables_fastext_embedding = np.array(tables_fastext_embedding,dtype='float16')"
   ]
  },
  {
   "cell_type": "code",
   "execution_count": 27,
   "metadata": {},
   "outputs": [],
   "source": [
    "with tf.device(\"/cpu:0\"):\n",
    "    \n",
    "    tables_vector = final_encoder_model.predict(x=tables_fastext_embedding)"
   ]
  },
  {
   "cell_type": "code",
   "execution_count": null,
   "metadata": {},
   "outputs": [],
   "source": []
  },
  {
   "cell_type": "code",
   "execution_count": null,
   "metadata": {},
   "outputs": [],
   "source": []
  },
  {
   "cell_type": "code",
   "execution_count": null,
   "metadata": {},
   "outputs": [],
   "source": []
  },
  {
   "cell_type": "code",
   "execution_count": null,
   "metadata": {},
   "outputs": [],
   "source": []
  },
  {
   "cell_type": "code",
   "execution_count": null,
   "metadata": {},
   "outputs": [],
   "source": []
  },
  {
   "cell_type": "markdown",
   "metadata": {},
   "source": [
    "## test the model on final task"
   ]
  },
  {
   "cell_type": "code",
   "execution_count": 29,
   "metadata": {},
   "outputs": [],
   "source": [
    "def getAccuracy(idRankedTables, idQueryGoal):\n",
    "\n",
    "    accuracy = 0\n",
    "\n",
    "    for idTable in idRankedTables:\n",
    "        \n",
    "        if idTable[0] == idQueryGoal:\n",
    "    \n",
    "            accuracy = 1\n",
    "            break;\n",
    "\n",
    "    return accuracy"
   ]
  },
  {
   "cell_type": "code",
   "execution_count": 37,
   "metadata": {},
   "outputs": [],
   "source": [
    "def saveAccuracy(k,accuracy):\n",
    "    \n",
    "    if k == 1:\n",
    "            \n",
    "        AverageTop1.append(accuracy)\n",
    "    \n",
    "    if k == 5:\n",
    "            \n",
    "        AverageTop5.append(accuracy)\n",
    "        \n",
    "    if k == 10:\n",
    "            \n",
    "        AverageTop10.append(accuracy)\n",
    "        \n",
    "    if k == 20:\n",
    "            \n",
    "        AverageTop20.append(accuracy)\n",
    "    \n",
    "    if k == 50:\n",
    "            \n",
    "        AverageTop50.append(accuracy)\n",
    "    \n",
    "    if k == 100:\n",
    "            \n",
    "        AverageTop100.append(accuracy)"
   ]
  },
  {
   "cell_type": "code",
   "execution_count": null,
   "metadata": {},
   "outputs": [],
   "source": []
  },
  {
   "cell_type": "code",
   "execution_count": 38,
   "metadata": {},
   "outputs": [
    {
     "name": "stderr",
     "output_type": "stream",
     "text": [
      "100%|██████████| 1026/1026 [02:36<00:00,  6.41it/s]\n"
     ]
    }
   ],
   "source": [
    "AverageTop1 = []\n",
    "AverageTop5 = []\n",
    "AverageTop10 = []\n",
    "AverageTop20 = []\n",
    "AverageTop50 = []\n",
    "AverageTop100 = []\n",
    "\n",
    "topK = [1,5,10,20,50,100]\n",
    "\n",
    "for i in tqdm(range(len(articles_vector))):\n",
    "    \n",
    "    idQueryGoal = articles_ids[i]\n",
    "    \n",
    "    distance_vector = pairwise_distances(articles_vector[i].reshape(1,64), tables_vector, metric='cosine')\n",
    "    \n",
    "    #creating the dataframe\n",
    "    all_tables_score = []\n",
    "    \n",
    "    for j in range(len(tables_ids)):\n",
    "        \n",
    "        table_id = tables_ids[j]\n",
    "        table_score = distance_vector[0][j]\n",
    "        \n",
    "        new_row = {\"table_id\": table_id,\"table_score\": table_score}\n",
    "        \n",
    "        all_tables_score.append(new_row)\n",
    "        \n",
    "    df_all_tables_scores = pd.DataFrame(all_tables_score)\n",
    "    df_tables_sorting = df_all_tables_scores.sort_values('table_score')\n",
    "    \n",
    "    #compute the accuracy\n",
    "    for accuracyK in topK:\n",
    "        \n",
    "        selected_top = df_tables_sorting.head(accuracyK)\n",
    "        min_score = selected_top['table_score'].max()\n",
    "        draw_tables_socres = df_tables_sorting[df_tables_sorting['table_score'] <= min_score]\n",
    "        final_ranked_tables = draw_tables_socres.iloc[:,0:1].values\n",
    "        \n",
    "        accuracy_value = getAccuracy(final_ranked_tables,idQueryGoal)\n",
    "        \n",
    "        #save the accuracy on the list\n",
    "        saveAccuracy(accuracyK,accuracy_value)"
   ]
  },
  {
   "cell_type": "code",
   "execution_count": 39,
   "metadata": {},
   "outputs": [
    {
     "name": "stdout",
     "output_type": "stream",
     "text": [
      "TOP@1 = 0.0926\n",
      "TOP@5 = 0.1481\n",
      "TOP@10 = 0.1715\n",
      "TOP@20 = 0.2018\n",
      "TOP@50 = 0.2427\n",
      "TOP@100 = 0.2953\n"
     ]
    }
   ],
   "source": [
    "print(\"TOP@1 = \"+ str(round(np.mean(AverageTop1),4)))\n",
    "print(\"TOP@5 = \"+ str(round(np.mean(AverageTop5),4)))\n",
    "print(\"TOP@10 = \"+ str(round(np.mean(AverageTop10),4)))\n",
    "print(\"TOP@20 = \"+ str(round(np.mean(AverageTop20),4)))\n",
    "print(\"TOP@50 = \"+ str(round(np.mean(AverageTop50),4)))\n",
    "print(\"TOP@100 = \"+ str(round(np.mean(AverageTop100),4)))"
   ]
  },
  {
   "cell_type": "code",
   "execution_count": null,
   "metadata": {},
   "outputs": [],
   "source": []
  },
  {
   "cell_type": "code",
   "execution_count": null,
   "metadata": {},
   "outputs": [],
   "source": []
  },
  {
   "cell_type": "code",
   "execution_count": null,
   "metadata": {},
   "outputs": [],
   "source": []
  },
  {
   "cell_type": "code",
   "execution_count": null,
   "metadata": {},
   "outputs": [],
   "source": []
  },
  {
   "cell_type": "code",
   "execution_count": null,
   "metadata": {},
   "outputs": [],
   "source": []
  },
  {
   "cell_type": "code",
   "execution_count": null,
   "metadata": {},
   "outputs": [],
   "source": []
  },
  {
   "cell_type": "code",
   "execution_count": null,
   "metadata": {},
   "outputs": [],
   "source": []
  },
  {
   "cell_type": "code",
   "execution_count": null,
   "metadata": {},
   "outputs": [],
   "source": []
  }
 ],
 "metadata": {
  "kernelspec": {
   "display_name": "Python 3",
   "language": "python",
   "name": "python3"
  },
  "language_info": {
   "codemirror_mode": {
    "name": "ipython",
    "version": 3
   },
   "file_extension": ".py",
   "mimetype": "text/x-python",
   "name": "python",
   "nbconvert_exporter": "python",
   "pygments_lexer": "ipython3",
   "version": "3.7.3"
  }
 },
 "nbformat": 4,
 "nbformat_minor": 2
}
