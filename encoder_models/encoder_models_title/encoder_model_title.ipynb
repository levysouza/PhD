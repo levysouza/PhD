{
 "cells": [
  {
   "cell_type": "code",
   "execution_count": 1,
   "metadata": {},
   "outputs": [],
   "source": [
    "import warnings\n",
    "import numpy as np\n",
    "import pandas as pd\n",
    "from sklearn.model_selection import train_test_split\n",
    "import gensim as gs\n",
    "from tqdm import tqdm\n",
    "import tensorflow as tf\n",
    "import matplotlib.pyplot as plt\n",
    "from nltk.tokenize import TweetTokenizer\n",
    "tknzr = TweetTokenizer()\n",
    "from sklearn.metrics import accuracy_score, precision_score, recall_score, f1_score\n",
    "warnings.filterwarnings('ignore')\n",
    "import fasttext"
   ]
  },
  {
   "cell_type": "code",
   "execution_count": null,
   "metadata": {},
   "outputs": [],
   "source": []
  },
  {
   "cell_type": "code",
   "execution_count": 2,
   "metadata": {},
   "outputs": [],
   "source": [
    "train_data = pd.read_csv('../train_data/train_triple_all_signals.csv', delimiter=',')\n",
    "validation_data = pd.read_csv('../train_data/validation_triple_all_signals.csv', delimiter=',')"
   ]
  },
  {
   "cell_type": "code",
   "execution_count": null,
   "metadata": {},
   "outputs": [],
   "source": []
  },
  {
   "cell_type": "code",
   "execution_count": 3,
   "metadata": {},
   "outputs": [],
   "source": [
    "Y_train_dummy = np.empty(len(train_data))\n",
    "Y_validation_dummy = np.empty(len(validation_data))"
   ]
  },
  {
   "cell_type": "code",
   "execution_count": null,
   "metadata": {},
   "outputs": [],
   "source": []
  },
  {
   "cell_type": "code",
   "execution_count": 4,
   "metadata": {},
   "outputs": [],
   "source": [
    "embedding_model = gs.models.FastText.load('../../train_embedding_models/fasttext_embedding_50d_all_signals')"
   ]
  },
  {
   "cell_type": "code",
   "execution_count": 5,
   "metadata": {},
   "outputs": [],
   "source": [
    "MAX_PAD = 31\n",
    "\n",
    "def sequence_padding(X_DIM, value):\n",
    "    \n",
    "    value_padding = np.pad(value, ((0,MAX_PAD - X_DIM),(0,0)), 'constant')\n",
    "    \n",
    "    return value_padding"
   ]
  },
  {
   "cell_type": "code",
   "execution_count": 6,
   "metadata": {},
   "outputs": [],
   "source": [
    "def create_embedding(value):\n",
    "\n",
    "    value = tknzr.tokenize(str(value))\n",
    "    \n",
    "    if len(value) < MAX_PAD:\n",
    "        \n",
    "        embedding = embedding_model.wv[value]\n",
    "        embedding = embedding.astype('float16')\n",
    "        \n",
    "        padding_embedding = sequence_padding(embedding.shape[0],embedding)\n",
    "        \n",
    "        return padding_embedding\n",
    "        \n",
    "    else:\n",
    "        \n",
    "        embedding = embedding_model.wv[value[0:MAX_PAD]]\n",
    "        embedding = embedding.astype('float16')\n",
    "        \n",
    "        return embedding"
   ]
  },
  {
   "cell_type": "code",
   "execution_count": null,
   "metadata": {},
   "outputs": [],
   "source": []
  },
  {
   "cell_type": "code",
   "execution_count": 7,
   "metadata": {},
   "outputs": [
    {
     "name": "stderr",
     "output_type": "stream",
     "text": [
      "84750it [00:34, 2461.49it/s]\n"
     ]
    }
   ],
   "source": [
    "train_article_page_title = []\n",
    "train_true_table_page_title = []\n",
    "train_false_table_page_title = []\n",
    "\n",
    "for i,row in tqdm(train_data.iterrows()):\n",
    "    \n",
    "    train_article_page_title.append(create_embedding(row['article_page_title']))\n",
    "    train_true_table_page_title.append(create_embedding(row['true_table_page_title']))\n",
    "    train_false_table_page_title.append(create_embedding(row['false_table_page_title']))"
   ]
  },
  {
   "cell_type": "code",
   "execution_count": 8,
   "metadata": {},
   "outputs": [],
   "source": [
    "train_article_page_title = np.array(train_article_page_title,dtype='float16')\n",
    "train_true_table_page_title = np.array(train_true_table_page_title,dtype='float16')\n",
    "train_false_table_page_title = np.array(train_false_table_page_title,dtype='float16')"
   ]
  },
  {
   "cell_type": "code",
   "execution_count": null,
   "metadata": {},
   "outputs": [],
   "source": []
  },
  {
   "cell_type": "code",
   "execution_count": 9,
   "metadata": {},
   "outputs": [
    {
     "name": "stderr",
     "output_type": "stream",
     "text": [
      "9417it [00:03, 2483.94it/s]\n"
     ]
    }
   ],
   "source": [
    "validation_article_page_title = []\n",
    "validation_true_table_page_title = []\n",
    "validation_false_table_page_title = []\n",
    "\n",
    "for i,row in tqdm(validation_data.iterrows()):\n",
    "    \n",
    "    validation_article_page_title.append(create_embedding(row['article_page_title']))\n",
    "    validation_true_table_page_title.append(create_embedding(row['true_table_page_title']))\n",
    "    validation_false_table_page_title.append(create_embedding(row['false_table_page_title']))"
   ]
  },
  {
   "cell_type": "code",
   "execution_count": 10,
   "metadata": {},
   "outputs": [],
   "source": [
    "validation_article_page_title = np.array(validation_article_page_title,dtype='float16')\n",
    "validation_true_table_page_title = np.array(validation_true_table_page_title,dtype='float16')\n",
    "validation_false_table_page_title = np.array(validation_false_table_page_title,dtype='float16')"
   ]
  },
  {
   "cell_type": "code",
   "execution_count": null,
   "metadata": {},
   "outputs": [],
   "source": []
  },
  {
   "cell_type": "code",
   "execution_count": null,
   "metadata": {},
   "outputs": [],
   "source": []
  },
  {
   "cell_type": "code",
   "execution_count": null,
   "metadata": {},
   "outputs": [],
   "source": []
  },
  {
   "cell_type": "code",
   "execution_count": 11,
   "metadata": {},
   "outputs": [],
   "source": [
    "def triplet_loss(y_true, y_pred, alpha = 0.1):\n",
    "     \n",
    "    anchor = y_pred[:,0:64]\n",
    "    positive = y_pred[:,64:128]\n",
    "    negative = y_pred[:,128:192]\n",
    "    \n",
    "    # distance between the anchor and the positive\n",
    "    #pos_dist = tf.keras.backend.sum(tf.keras.backend.square(anchor-positive),axis=1)\n",
    "    pos_dist = tf.keras.layers.Dot(axes=1,normalize=True)([anchor, positive])\n",
    "\n",
    "    # distance between the anchor and the negative\n",
    "    #neg_dist = tf.keras.backend.sum(tf.keras.backend.square(anchor-negative),axis=1)\n",
    "    neg_dist = tf.keras.layers.Dot(axes=1,normalize=True)([anchor, negative])\n",
    "\n",
    "    # compute loss\n",
    "    basic_loss = pos_dist-neg_dist+alpha\n",
    "    loss = tf.keras.backend.maximum(basic_loss,0.0)\n",
    " \n",
    "    return loss"
   ]
  },
  {
   "cell_type": "code",
   "execution_count": 12,
   "metadata": {},
   "outputs": [],
   "source": [
    "def shared_encoder_model_title():\n",
    "    \n",
    "    article_page_title = tf.keras.Input(shape=(31,50), dtype='float32')\n",
    "    true_table_page_title = tf.keras.Input(shape=(31,50), dtype='float32')\n",
    "    false_table_page_title = tf.keras.Input(shape=(31,50), dtype='float32')\n",
    "\n",
    "    context_layer = tf.keras.layers.Bidirectional(tf.keras.layers.GRU(32))\n",
    "\n",
    "    #context vectors\n",
    "    context_article_page_title = context_layer(article_page_title)\n",
    "    context_true_table_page_title = context_layer(true_table_page_title)\n",
    "    context_false_table_page_title = context_layer(false_table_page_title)\n",
    "\n",
    "    concatenated = tf.keras.layers.Concatenate(axis=-1)([context_article_page_title, context_true_table_page_title, context_false_table_page_title])\n",
    "\n",
    "    model = tf.keras.Model(inputs=[article_page_title,true_table_page_title,false_table_page_title],outputs=concatenated)\n",
    "\n",
    "    return model"
   ]
  },
  {
   "cell_type": "code",
   "execution_count": 13,
   "metadata": {},
   "outputs": [],
   "source": [
    "model = shared_encoder_model_title()"
   ]
  },
  {
   "cell_type": "code",
   "execution_count": 14,
   "metadata": {},
   "outputs": [
    {
     "name": "stdout",
     "output_type": "stream",
     "text": [
      "Model: \"model\"\n",
      "__________________________________________________________________________________________________\n",
      "Layer (type)                    Output Shape         Param #     Connected to                     \n",
      "==================================================================================================\n",
      "input_1 (InputLayer)            [(None, 31, 50)]     0                                            \n",
      "__________________________________________________________________________________________________\n",
      "input_2 (InputLayer)            [(None, 31, 50)]     0                                            \n",
      "__________________________________________________________________________________________________\n",
      "input_3 (InputLayer)            [(None, 31, 50)]     0                                            \n",
      "__________________________________________________________________________________________________\n",
      "bidirectional (Bidirectional)   (None, 64)           16128       input_1[0][0]                    \n",
      "                                                                 input_2[0][0]                    \n",
      "                                                                 input_3[0][0]                    \n",
      "__________________________________________________________________________________________________\n",
      "concatenate (Concatenate)       (None, 192)          0           bidirectional[0][0]              \n",
      "                                                                 bidirectional[1][0]              \n",
      "                                                                 bidirectional[2][0]              \n",
      "==================================================================================================\n",
      "Total params: 16,128\n",
      "Trainable params: 16,128\n",
      "Non-trainable params: 0\n",
      "__________________________________________________________________________________________________\n"
     ]
    }
   ],
   "source": [
    "model.summary()"
   ]
  },
  {
   "cell_type": "code",
   "execution_count": 15,
   "metadata": {},
   "outputs": [],
   "source": [
    "model.compile(loss=triplet_loss,optimizer=\"adam\")"
   ]
  },
  {
   "cell_type": "code",
   "execution_count": 16,
   "metadata": {},
   "outputs": [],
   "source": [
    "filepath=\"encoder_title_{epoch:02d}_{val_loss:.4f}.h5\"\n",
    "checkpoint = tf.keras.callbacks.ModelCheckpoint(filepath, monitor='val_loss', verbose=1, save_best_only=True, mode='min')\n",
    "callbacks_list = [checkpoint]"
   ]
  },
  {
   "cell_type": "code",
   "execution_count": 17,
   "metadata": {},
   "outputs": [
    {
     "name": "stdout",
     "output_type": "stream",
     "text": [
      "Epoch 1/20\n",
      "2649/2649 [==============================] - ETA: 0s - loss: 0.1027\n",
      "Epoch 00001: val_loss improved from inf to 0.10001, saving model to encoder_title_01_0.1000.h5\n",
      "2649/2649 [==============================] - 50s 19ms/step - loss: 0.1027 - val_loss: 0.1000\n",
      "Epoch 2/20\n",
      "2647/2649 [============================>.] - ETA: 0s - loss: 0.1000\n",
      "Epoch 00002: val_loss improved from 0.10001 to 0.10000, saving model to encoder_title_02_0.1000.h5\n",
      "2649/2649 [==============================] - 48s 18ms/step - loss: 0.1000 - val_loss: 0.1000\n",
      "Epoch 3/20\n",
      "2649/2649 [==============================] - ETA: 0s - loss: 0.1000\n",
      "Epoch 00003: val_loss improved from 0.10000 to 0.10000, saving model to encoder_title_03_0.1000.h5\n",
      "2649/2649 [==============================] - 48s 18ms/step - loss: 0.1000 - val_loss: 0.1000\n",
      "Epoch 4/20\n",
      "2648/2649 [============================>.] - ETA: 0s - loss: 0.1000\n",
      "Epoch 00004: val_loss improved from 0.10000 to 0.10000, saving model to encoder_title_04_0.1000.h5\n",
      "2649/2649 [==============================] - 49s 18ms/step - loss: 0.1000 - val_loss: 0.1000\n",
      "Epoch 5/20\n",
      "2649/2649 [==============================] - ETA: 0s - loss: 0.1000\n",
      "Epoch 00005: val_loss improved from 0.10000 to 0.10000, saving model to encoder_title_05_0.1000.h5\n",
      "2649/2649 [==============================] - 49s 18ms/step - loss: 0.1000 - val_loss: 0.1000\n",
      "Epoch 6/20\n",
      "2649/2649 [==============================] - ETA: 0s - loss: 0.1000\n",
      "Epoch 00006: val_loss improved from 0.10000 to 0.10000, saving model to encoder_title_06_0.1000.h5\n",
      "2649/2649 [==============================] - 48s 18ms/step - loss: 0.1000 - val_loss: 0.1000\n",
      "Epoch 7/20\n",
      "2648/2649 [============================>.] - ETA: 0s - loss: 0.0924\n",
      "Epoch 00007: val_loss improved from 0.10000 to 0.08712, saving model to encoder_title_07_0.0871.h5\n",
      "2649/2649 [==============================] - 48s 18ms/step - loss: 0.0924 - val_loss: 0.0871\n",
      "Epoch 8/20\n",
      "2648/2649 [============================>.] - ETA: 0s - loss: 0.0868\n",
      "Epoch 00008: val_loss improved from 0.08712 to 0.08590, saving model to encoder_title_08_0.0859.h5\n",
      "2649/2649 [==============================] - 48s 18ms/step - loss: 0.0868 - val_loss: 0.0859\n",
      "Epoch 9/20\n",
      "2649/2649 [==============================] - ETA: 0s - loss: 0.0854\n",
      "Epoch 00009: val_loss improved from 0.08590 to 0.08489, saving model to encoder_title_09_0.0849.h5\n",
      "2649/2649 [==============================] - 49s 18ms/step - loss: 0.0854 - val_loss: 0.0849\n",
      "Epoch 10/20\n",
      "2648/2649 [============================>.] - ETA: 0s - loss: 0.0840\n",
      "Epoch 00010: val_loss improved from 0.08489 to 0.08337, saving model to encoder_title_10_0.0834.h5\n",
      "2649/2649 [==============================] - 48s 18ms/step - loss: 0.0840 - val_loss: 0.0834\n",
      "Epoch 11/20\n",
      "2649/2649 [==============================] - ETA: 0s - loss: 0.0818\n",
      "Epoch 00011: val_loss improved from 0.08337 to 0.08059, saving model to encoder_title_11_0.0806.h5\n",
      "2649/2649 [==============================] - 48s 18ms/step - loss: 0.0818 - val_loss: 0.0806\n",
      "Epoch 12/20\n",
      "2646/2649 [============================>.] - ETA: 0s - loss: 0.0772\n",
      "Epoch 00012: val_loss improved from 0.08059 to 0.07476, saving model to encoder_title_12_0.0748.h5\n",
      "2649/2649 [==============================] - 48s 18ms/step - loss: 0.0772 - val_loss: 0.0748\n",
      "Epoch 13/20\n",
      "2647/2649 [============================>.] - ETA: 0s - loss: 0.0701\n",
      "Epoch 00013: val_loss improved from 0.07476 to 0.06650, saving model to encoder_title_13_0.0665.h5\n",
      "2649/2649 [==============================] - 48s 18ms/step - loss: 0.0701 - val_loss: 0.0665\n",
      "Epoch 14/20\n",
      "2647/2649 [============================>.] - ETA: 0s - loss: 0.0614\n",
      "Epoch 00014: val_loss improved from 0.06650 to 0.05988, saving model to encoder_title_14_0.0599.h5\n",
      "2649/2649 [==============================] - 48s 18ms/step - loss: 0.0614 - val_loss: 0.0599\n",
      "Epoch 15/20\n",
      "2647/2649 [============================>.] - ETA: 0s - loss: 0.0569\n",
      "Epoch 00015: val_loss improved from 0.05988 to 0.05658, saving model to encoder_title_15_0.0566.h5\n",
      "2649/2649 [==============================] - 48s 18ms/step - loss: 0.0569 - val_loss: 0.0566\n",
      "Epoch 16/20\n",
      "2648/2649 [============================>.] - ETA: 0s - loss: 0.0544\n",
      "Epoch 00016: val_loss improved from 0.05658 to 0.05502, saving model to encoder_title_16_0.0550.h5\n",
      "2649/2649 [==============================] - 48s 18ms/step - loss: 0.0544 - val_loss: 0.0550\n",
      "Epoch 17/20\n",
      "2648/2649 [============================>.] - ETA: 0s - loss: 0.0523\n",
      "Epoch 00017: val_loss improved from 0.05502 to 0.05303, saving model to encoder_title_17_0.0530.h5\n",
      "2649/2649 [==============================] - 48s 18ms/step - loss: 0.0523 - val_loss: 0.0530\n",
      "Epoch 18/20\n",
      "2649/2649 [==============================] - ETA: 0s - loss: 0.0502\n",
      "Epoch 00018: val_loss improved from 0.05303 to 0.05168, saving model to encoder_title_18_0.0517.h5\n",
      "2649/2649 [==============================] - 48s 18ms/step - loss: 0.0502 - val_loss: 0.0517\n",
      "Epoch 19/20\n",
      "2647/2649 [============================>.] - ETA: 0s - loss: 0.0484\n",
      "Epoch 00019: val_loss improved from 0.05168 to 0.05036, saving model to encoder_title_19_0.0504.h5\n",
      "2649/2649 [==============================] - 48s 18ms/step - loss: 0.0484 - val_loss: 0.0504\n",
      "Epoch 20/20\n",
      "2649/2649 [==============================] - ETA: 0s - loss: 0.0470\n",
      "Epoch 00020: val_loss improved from 0.05036 to 0.04905, saving model to encoder_title_20_0.0490.h5\n",
      "2649/2649 [==============================] - 48s 18ms/step - loss: 0.0470 - val_loss: 0.0490\n"
     ]
    }
   ],
   "source": [
    "with tf.device(\"/cpu:0\"):\n",
    "\n",
    "    history = model.fit([train_article_page_title,train_true_table_page_title,train_false_table_page_title], Y_train_dummy, \n",
    "          epochs=20, \n",
    "          batch_size=32,\n",
    "          verbose=1,\n",
    "          validation_data=([validation_article_page_title,validation_true_table_page_title,validation_false_table_page_title], Y_validation_dummy),\n",
    "          callbacks=callbacks_list)"
   ]
  },
  {
   "cell_type": "code",
   "execution_count": null,
   "metadata": {},
   "outputs": [],
   "source": []
  },
  {
   "cell_type": "code",
   "execution_count": null,
   "metadata": {},
   "outputs": [],
   "source": []
  },
  {
   "cell_type": "code",
   "execution_count": null,
   "metadata": {},
   "outputs": [],
   "source": []
  }
 ],
 "metadata": {
  "kernelspec": {
   "display_name": "Python 3",
   "language": "python",
   "name": "python3"
  },
  "language_info": {
   "codemirror_mode": {
    "name": "ipython",
    "version": 3
   },
   "file_extension": ".py",
   "mimetype": "text/x-python",
   "name": "python",
   "nbconvert_exporter": "python",
   "pygments_lexer": "ipython3",
   "version": "3.7.3"
  }
 },
 "nbformat": 4,
 "nbformat_minor": 2
}
