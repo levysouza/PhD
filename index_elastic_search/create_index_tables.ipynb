{
 "cells": [
  {
   "cell_type": "code",
   "execution_count": 1,
   "metadata": {},
   "outputs": [],
   "source": [
    "from tqdm import tqdm\n",
    "import numpy as np\n",
    "import pandas as pd\n",
    "import random\n",
    "from elasticsearch import Elasticsearch\n",
    "from elasticsearch import helpers\n",
    "indexing_distinct_tables = Elasticsearch()"
   ]
  },
  {
   "cell_type": "code",
   "execution_count": 2,
   "metadata": {},
   "outputs": [],
   "source": [
    "tables = pd.read_csv('dataset/cleanDataTables2', delimiter=',', header=None, keep_default_na=False)\n",
    "formattedTables = tables.iloc[:,:].values"
   ]
  },
  {
   "cell_type": "code",
   "execution_count": null,
   "metadata": {},
   "outputs": [],
   "source": []
  },
  {
   "cell_type": "code",
   "execution_count": null,
   "metadata": {},
   "outputs": [],
   "source": [
    "IDs = []\n",
    "distinct_tables = []\n",
    "\n",
    "for tables in tqdm(formattedTables):\n",
    "        \n",
    "    tablePgID = tables[0]\n",
    "    tablePgTitle = str(tables[1])\n",
    "    tableSectionTitle = str(tables[2])\n",
    "    tableCaption = str(tables[3])\n",
    "    tableHeader = str(tables[4])\n",
    "    tableBody = str(tables[5])\n",
    "    \n",
    "    if tablePgID not in IDs:\n",
    "       \n",
    "        IDs.append(tablePgID)\n",
    "        \n",
    "        new_row = {\"table_id\": tablePgID,\n",
    "               \"table_page_title\": tablePgTitle,\n",
    "               \"table_section_title\": tableSectionTitle,\n",
    "               \"table_caption\": tableCaption,\n",
    "               \"table_header\": tableHeader,\n",
    "               \"table_body\": tableBody}\n",
    "    \n",
    "        distinct_tables.append(new_row)\n",
    "\n",
    "df_distinc_tables = pd.DataFrame(distinct_tables)  "
   ]
  },
  {
   "cell_type": "code",
   "execution_count": null,
   "metadata": {},
   "outputs": [],
   "source": [
    "df_distinc_tables.to_csv('dataset_distinct_tables.csv',index=False)"
   ]
  },
  {
   "cell_type": "code",
   "execution_count": null,
   "metadata": {},
   "outputs": [],
   "source": []
  },
  {
   "cell_type": "code",
   "execution_count": null,
   "metadata": {},
   "outputs": [],
   "source": []
  },
  {
   "cell_type": "code",
   "execution_count": 2,
   "metadata": {},
   "outputs": [],
   "source": [
    "distinc_tables = pd.read_csv('dataset/distinct_tables_allsignals.csv', delimiter=',', keep_default_na=False)"
   ]
  },
  {
   "cell_type": "code",
   "execution_count": 4,
   "metadata": {},
   "outputs": [],
   "source": [
    "distinc_tables = distinc_tables.drop(distinc_tables[distinc_tables.table_page_title == \"\"].index)"
   ]
  },
  {
   "cell_type": "code",
   "execution_count": null,
   "metadata": {},
   "outputs": [],
   "source": []
  },
  {
   "cell_type": "code",
   "execution_count": 7,
   "metadata": {},
   "outputs": [],
   "source": []
  },
  {
   "cell_type": "code",
   "execution_count": null,
   "metadata": {},
   "outputs": [],
   "source": []
  },
  {
   "cell_type": "code",
   "execution_count": 7,
   "metadata": {},
   "outputs": [],
   "source": [
    "def createIndexing():\n",
    "    \n",
    "    for i, row in distinc_tables.iterrows():\n",
    "        \n",
    "        tablePgID = row['table_id']\n",
    "        tablePgTitle = row['table_page_title']\n",
    "        tablePgFullText = row['table_page_full_text']\n",
    "        tablePgMetaDescription = row['table_page_meta_description']\n",
    "        tablePgSummary = row['table_page_summary']\n",
    "        tablePgKeywords = row['table_page_keywords']\n",
    "        tableSectionTitle = row['table_section_title']\n",
    "        tableCaption = row['table_caption']\n",
    "        tableHeader = row['table_header']\n",
    "        tableBody = row['table_body']\n",
    "        \n",
    "        yield {\n",
    "            \"_index\": \"distinct_tables\",\n",
    "            \"_type\": \"distinct_tables\",\n",
    "            \"_source\": {\n",
    "                \"tablePgID\": tablePgID,\n",
    "                \"tablePgTitle\": tablePgTitle,\n",
    "                \"tablePgFullText\": tablePgFullText,\n",
    "                \"tablePgMetaDescription\": tablePgMetaDescription,\n",
    "                \"tablePgSummary\": tablePgSummary,\n",
    "                \"tablePgKeywords\": tablePgKeywords,\n",
    "                \"tableSectionTitle\": tableSectionTitle,\n",
    "                \"tableCaption\": tableCaption,\n",
    "                \"tableHeader\": tableHeader,\n",
    "                \"tableBody\": tableBody\n",
    "            }\n",
    "            \n",
    "        }"
   ]
  },
  {
   "cell_type": "code",
   "execution_count": 8,
   "metadata": {},
   "outputs": [
    {
     "data": {
      "text/plain": [
       "{'acknowledged': True}"
      ]
     },
     "execution_count": 8,
     "metadata": {},
     "output_type": "execute_result"
    }
   ],
   "source": [
    "indexing_distinct_tables.indices.delete(index='distinct_tables')"
   ]
  },
  {
   "cell_type": "code",
   "execution_count": 9,
   "metadata": {},
   "outputs": [
    {
     "data": {
      "text/plain": [
       "(85900, [])"
      ]
     },
     "execution_count": 9,
     "metadata": {},
     "output_type": "execute_result"
    }
   ],
   "source": [
    "helpers.bulk(indexing_distinct_tables, createIndexing())"
   ]
  },
  {
   "cell_type": "code",
   "execution_count": null,
   "metadata": {},
   "outputs": [],
   "source": []
  },
  {
   "cell_type": "code",
   "execution_count": null,
   "metadata": {},
   "outputs": [],
   "source": []
  },
  {
   "cell_type": "code",
   "execution_count": null,
   "metadata": {},
   "outputs": [],
   "source": []
  },
  {
   "cell_type": "code",
   "execution_count": null,
   "metadata": {},
   "outputs": [],
   "source": []
  }
 ],
 "metadata": {
  "kernelspec": {
   "display_name": "Python 3",
   "language": "python",
   "name": "python3"
  },
  "language_info": {
   "codemirror_mode": {
    "name": "ipython",
    "version": 3
   },
   "file_extension": ".py",
   "mimetype": "text/x-python",
   "name": "python",
   "nbconvert_exporter": "python",
   "pygments_lexer": "ipython3",
   "version": "3.7.3"
  }
 },
 "nbformat": 4,
 "nbformat_minor": 2
}
