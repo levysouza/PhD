{
 "cells": [
  {
   "cell_type": "code",
   "execution_count": 1,
   "metadata": {},
   "outputs": [],
   "source": [
    "from tqdm import tqdm\n",
    "import numpy as np\n",
    "import pandas as pd\n",
    "from sklearn.feature_extraction.text import TfidfVectorizer\n",
    "from scipy.spatial import distance\n",
    "from heapq import nsmallest\n",
    "from sklearn.metrics import pairwise_distances\n",
    "import random"
   ]
  },
  {
   "cell_type": "code",
   "execution_count": 2,
   "metadata": {},
   "outputs": [],
   "source": [
    "articles = pd.read_csv('articlesDataset/articlesTestDataset', delimiter=',', header=None)\n",
    "tables = pd.read_csv('articlesDataset/cleanDataTables', delimiter=',', header=None)"
   ]
  },
  {
   "cell_type": "code",
   "execution_count": 3,
   "metadata": {},
   "outputs": [],
   "source": [
    "formattedArticles = articles.iloc[:,:].values\n",
    "formattedTables = tables.iloc[:,:].values"
   ]
  },
  {
   "cell_type": "code",
   "execution_count": null,
   "metadata": {},
   "outputs": [],
   "source": []
  },
  {
   "cell_type": "code",
   "execution_count": 4,
   "metadata": {},
   "outputs": [],
   "source": [
    "corpusTables = []\n",
    "\n",
    "for tables in formattedTables:\n",
    "    \n",
    "    corpusTables.append(str(tables[1]))"
   ]
  },
  {
   "cell_type": "code",
   "execution_count": 5,
   "metadata": {},
   "outputs": [],
   "source": [
    "vectorizer = TfidfVectorizer(stop_words='english', analyzer='word')\n",
    "tablesByCharacteristics = vectorizer.fit_transform(corpusTables)"
   ]
  },
  {
   "cell_type": "code",
   "execution_count": null,
   "metadata": {},
   "outputs": [],
   "source": []
  },
  {
   "cell_type": "code",
   "execution_count": 6,
   "metadata": {},
   "outputs": [],
   "source": [
    "corpusArticlesID = []\n",
    "corpusArticlesText = []\n",
    "\n",
    "for articles in formattedArticles[0:1000]:\n",
    "    \n",
    "    articlePgID = articles[0]\n",
    "    \n",
    "    articleTitle = str(articles[1])\n",
    "    \n",
    "    articleText = str(articles[2])\n",
    "    \n",
    "    catchAll = articleTitle + ' ' + articleText\n",
    "    \n",
    "    corpusArticlesID.append(articlePgID)\n",
    "        \n",
    "    corpusArticlesText.append(str(articleTitle))  "
   ]
  },
  {
   "cell_type": "code",
   "execution_count": 7,
   "metadata": {},
   "outputs": [],
   "source": [
    "def getIdRankedTalbes(topK,distanceVector):\n",
    "\n",
    "    idRankedTables = []\n",
    "\n",
    "    for topkDistance in topK:\n",
    "        \n",
    "        index = np.where(distanceVector == topkDistance)\n",
    "         \n",
    "        indexColummun = index[0][0]\n",
    "        \n",
    "        idRankedTables.append(formattedTables[indexColummun][0])\n",
    "\n",
    "    return idRankedTables"
   ]
  },
  {
   "cell_type": "code",
   "execution_count": 8,
   "metadata": {},
   "outputs": [],
   "source": [
    "def getAccuracy(idRankedTables, idQueryGoal):\n",
    "\n",
    "    accuracy = 0\n",
    "\n",
    "    for idTable in idRankedTables:\n",
    "    \n",
    "        if idTable == idQueryGoal:\n",
    "    \n",
    "            accuracy = 1\n",
    "            break;\n",
    "\n",
    "    return accuracy"
   ]
  },
  {
   "cell_type": "code",
   "execution_count": 9,
   "metadata": {},
   "outputs": [],
   "source": [
    "def saveAccuracy(k,accuracy):\n",
    "    \n",
    "    if k == 1:\n",
    "            \n",
    "        AverageTop1.append(accuracy)\n",
    "        \n",
    "    if k == 10:\n",
    "            \n",
    "        AverageTop10.append(accuracy)\n",
    "        \n",
    "    if k == 100:\n",
    "            \n",
    "        AverageTop100.append(accuracy)\n",
    "        \n",
    "    if k == 1000:\n",
    "            \n",
    "        AverageTop1000.append(accuracy)"
   ]
  },
  {
   "cell_type": "code",
   "execution_count": 10,
   "metadata": {},
   "outputs": [],
   "source": [
    "articlesByCharacteristics = vectorizer.transform(corpusArticlesText)"
   ]
  },
  {
   "cell_type": "code",
   "execution_count": 11,
   "metadata": {},
   "outputs": [
    {
     "name": "stderr",
     "output_type": "stream",
     "text": [
      "100%|██████████| 10/10 [00:18<00:00,  1.82s/it]\n"
     ]
    }
   ],
   "source": [
    "AverageTop1 = []\n",
    "AverageTop10 = []\n",
    "AverageTop100 = []\n",
    "AverageTop1000 = []\n",
    "\n",
    "topK = [1,10,100,1000]\n",
    "\n",
    "for i in tqdm(range(len(corpusArticlesText)-990)):\n",
    "    \n",
    "    distanceVector = pairwise_distances(articlesByCharacteristics[i], tablesByCharacteristics, metric='cosine')\n",
    "    \n",
    "    idQueryGoal = int(corpusArticlesID[i])\n",
    "    \n",
    "    for accuracyK in topK:\n",
    "        \n",
    "        countTopTables = accuracyK\n",
    "        \n",
    "        topKRank = nsmallest(countTopTables, distanceVector[0])\n",
    "    \n",
    "        idRankedTables = getIdRankedTalbes(topKRank,distanceVector[0])\n",
    "    \n",
    "        accuracy_value = getAccuracy(idRankedTables,idQueryGoal)\n",
    "        \n",
    "        #save the accuracy on the list\n",
    "        saveAccuracy(accuracyK,accuracy_value)"
   ]
  },
  {
   "cell_type": "code",
   "execution_count": 12,
   "metadata": {},
   "outputs": [
    {
     "name": "stdout",
     "output_type": "stream",
     "text": [
      "0.1 (±) 0.3\n",
      "0.1 (±) 0.3\n",
      "0.3 (±) 0.4583\n",
      "0.4 (±) 0.4899\n"
     ]
    }
   ],
   "source": [
    "print(str(round(np.mean(AverageTop1),4))+\" (±) \"+str(round(np.std(AverageTop1),4)))\n",
    "print(str(round(np.mean(AverageTop10),4))+\" (±) \"+str(round(np.std(AverageTop10),4)))\n",
    "print(str(round(np.mean(AverageTop100),4))+\" (±) \"+str(round(np.std(AverageTop100),4)))\n",
    "print(str(round(np.mean(AverageTop1000),4))+\" (±) \"+str(round(np.std(AverageTop1000),4)))"
   ]
  },
  {
   "cell_type": "code",
   "execution_count": null,
   "metadata": {},
   "outputs": [],
   "source": []
  },
  {
   "cell_type": "code",
   "execution_count": null,
   "metadata": {},
   "outputs": [],
   "source": []
  },
  {
   "cell_type": "code",
   "execution_count": null,
   "metadata": {},
   "outputs": [],
   "source": []
  },
  {
   "cell_type": "code",
   "execution_count": null,
   "metadata": {},
   "outputs": [],
   "source": [
    "\n"
   ]
  },
  {
   "cell_type": "code",
   "execution_count": null,
   "metadata": {},
   "outputs": [],
   "source": []
  }
 ],
 "metadata": {
  "kernelspec": {
   "display_name": "Python 3",
   "language": "python",
   "name": "python3"
  },
  "language_info": {
   "codemirror_mode": {
    "name": "ipython",
    "version": 3
   },
   "file_extension": ".py",
   "mimetype": "text/x-python",
   "name": "python",
   "nbconvert_exporter": "python",
   "pygments_lexer": "ipython3",
   "version": "3.7.3"
  }
 },
 "nbformat": 4,
 "nbformat_minor": 2
}
