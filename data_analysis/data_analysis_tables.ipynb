{
 "cells": [
  {
   "cell_type": "code",
   "execution_count": 2,
   "metadata": {},
   "outputs": [],
   "source": [
    "import numpy as np\n",
    "import pandas as pd\n",
    "from nltk.tokenize import TweetTokenizer\n",
    "import matplotlib.pyplot as plt\n",
    "from tqdm import tqdm"
   ]
  },
  {
   "cell_type": "code",
   "execution_count": 3,
   "metadata": {},
   "outputs": [],
   "source": [
    "raw_tables = pd.read_csv('../articlesDataset/cleanDataTables', delimiter=',', header=None)"
   ]
  },
  {
   "cell_type": "code",
   "execution_count": 4,
   "metadata": {},
   "outputs": [],
   "source": [
    "data_tables = raw_tables.iloc[:,:].values"
   ]
  },
  {
   "cell_type": "code",
   "execution_count": 5,
   "metadata": {},
   "outputs": [
    {
     "name": "stdout",
     "output_type": "stream",
     "text": [
      "total of tables = 298793\n"
     ]
    }
   ],
   "source": [
    "print(\"total of tables = \"+str(len(data_tables)))"
   ]
  },
  {
   "cell_type": "code",
   "execution_count": 6,
   "metadata": {},
   "outputs": [
    {
     "name": "stderr",
     "output_type": "stream",
     "text": [
      "100%|██████████| 298793/298793 [04:32<00:00, 1098.11it/s]\n"
     ]
    }
   ],
   "source": [
    "title_lenght = []\n",
    "section_title_lenght = []\n",
    "caption_lenght = []\n",
    "header_lenght = []\n",
    "body_lenght = []\n",
    "\n",
    "\n",
    "tknzr = TweetTokenizer()\n",
    "\n",
    "for tables in tqdm(data_tables):\n",
    "    \n",
    "    title = str(tables[1])    \n",
    "    section_title = str(tables[2])   \n",
    "    caption = str(tables[3])   \n",
    "    header = str(tables[4])   \n",
    "    body = str(tables[5])\n",
    "    \n",
    "    lenght_title = len(tknzr.tokenize(title))\n",
    "    lenght_section_title = len(tknzr.tokenize(section_title))\n",
    "    lenght_caption = len(tknzr.tokenize(caption))\n",
    "    lenght_header = len(tknzr.tokenize(header))\n",
    "    lenght_body = len(tknzr.tokenize(body))\n",
    "    \n",
    "    title_lenght.append(lenght_title)\n",
    "    section_title_lenght.append(lenght_section_title)\n",
    "    caption_lenght.append(lenght_caption)\n",
    "    header_lenght.append(lenght_header)\n",
    "    body_lenght.append(lenght_body)"
   ]
  },
  {
   "cell_type": "markdown",
   "metadata": {},
   "source": [
    "# Table Title Analysis\n",
    "\n",
    "In the next code blocks we analyze the number of words in the table title"
   ]
  },
  {
   "cell_type": "code",
   "execution_count": 7,
   "metadata": {},
   "outputs": [
    {
     "name": "stdout",
     "output_type": "stream",
     "text": [
      "title analysis:\n",
      "max words = 20\n",
      "min words = 1\n",
      "avg words = 3.9452363341845356\n",
      "std words = 2.0658720270185396\n"
     ]
    }
   ],
   "source": [
    "print('title analysis:')\n",
    "print(\"max words = \"+str(np.max(title_lenght)))\n",
    "print(\"min words = \"+str(np.min(title_lenght)))\n",
    "print(\"avg words = \"+str(np.mean(title_lenght)))\n",
    "print(\"std words = \"+str(np.std(title_lenght)))"
   ]
  },
  {
   "cell_type": "code",
   "execution_count": 8,
   "metadata": {},
   "outputs": [
    {
     "data": {
      "image/png": "[encoded data removed]",
      "text/plain": [
       "<Figure size 432x288 with 1 Axes>"
      ]
     },
     "metadata": {
      "needs_background": "light"
     },
     "output_type": "display_data"
    }
   ],
   "source": [
    "plt.hist(title_lenght, range(0,25))\n",
    "plt.title('total of words in table title')\n",
    "plt.xlabel('total of words')\n",
    "plt.ylabel('total of articles (log)')\n",
    "plt.yscale('log')\n",
    "plt.show()"
   ]
  },
  {
   "cell_type": "markdown",
   "metadata": {},
   "source": [
    "# Table Section Title Analysis\n",
    "\n",
    "In the next code blocks we analyze the number of words in the table section title"
   ]
  },
  {
   "cell_type": "code",
   "execution_count": 9,
   "metadata": {},
   "outputs": [
    {
     "name": "stdout",
     "output_type": "stream",
     "text": [
      "section title analysis:\n",
      "max words = 22\n",
      "min words = 1\n",
      "avg words = 2.0242743303892663\n",
      "std words = 1.3003098872779655\n"
     ]
    }
   ],
   "source": [
    "print('section title analysis:')\n",
    "print(\"max words = \"+str(np.max(section_title_lenght)))\n",
    "print(\"min words = \"+str(np.min(section_title_lenght)))\n",
    "print(\"avg words = \"+str(np.mean(section_title_lenght)))\n",
    "print(\"std words = \"+str(np.std(section_title_lenght)))"
   ]
  },
  {
   "cell_type": "code",
   "execution_count": 10,
   "metadata": {},
   "outputs": [
    {
     "data": {
      "image/png": "[encoded data removed]",
      "text/plain": [
       "<Figure size 432x288 with 1 Axes>"
      ]
     },
     "metadata": {
      "needs_background": "light"
     },
     "output_type": "display_data"
    }
   ],
   "source": [
    "plt.hist(section_title_lenght, range(0,25))\n",
    "plt.title('total of words in table section title')\n",
    "plt.xlabel('total of words')\n",
    "plt.ylabel('total of articles (log)')\n",
    "plt.yscale('log')\n",
    "plt.show()"
   ]
  },
  {
   "cell_type": "markdown",
   "metadata": {},
   "source": [
    "# Table Caption Analysis\n",
    "\n",
    "In the next code blocks we analyze the number of words in the table caption"
   ]
  },
  {
   "cell_type": "code",
   "execution_count": 11,
   "metadata": {},
   "outputs": [
    {
     "name": "stdout",
     "output_type": "stream",
     "text": [
      "caption analysis:\n",
      "max words = 237\n",
      "min words = 1\n",
      "avg words = 2.2863922514918356\n",
      "std words = 2.002220073417482\n"
     ]
    }
   ],
   "source": [
    "print('caption analysis:')\n",
    "print(\"max words = \"+str(np.max(caption_lenght)))\n",
    "print(\"min words = \"+str(np.min(caption_lenght)))\n",
    "print(\"avg words = \"+str(np.mean(caption_lenght)))\n",
    "print(\"std words = \"+str(np.std(caption_lenght)))"
   ]
  },
  {
   "cell_type": "code",
   "execution_count": 12,
   "metadata": {},
   "outputs": [
    {
     "data": {
      "image/png": "[encoded data removed]",
      "text/plain": [
       "<Figure size 432x288 with 1 Axes>"
      ]
     },
     "metadata": {
      "needs_background": "light"
     },
     "output_type": "display_data"
    }
   ],
   "source": [
    "plt.hist(caption_lenght, range(0,25))\n",
    "plt.title('total of words in table caption')\n",
    "plt.xlabel('total of words')\n",
    "plt.ylabel('total of articles (log)')\n",
    "plt.yscale('log')\n",
    "plt.show()"
   ]
  },
  {
   "cell_type": "markdown",
   "metadata": {},
   "source": [
    "# Table Header Analysis\n",
    "\n",
    "In the next code blocks we analyze the number of words in the table header"
   ]
  },
  {
   "cell_type": "code",
   "execution_count": 13,
   "metadata": {},
   "outputs": [
    {
     "name": "stdout",
     "output_type": "stream",
     "text": [
      "header analysis:\n",
      "max words = 2996\n",
      "min words = 1\n",
      "avg words = 10.0039425287741\n",
      "std words = 19.168916009716803\n"
     ]
    }
   ],
   "source": [
    "print('header analysis:')\n",
    "print(\"max words = \"+str(np.max(header_lenght)))\n",
    "print(\"min words = \"+str(np.min(header_lenght)))\n",
    "print(\"avg words = \"+str(np.mean(header_lenght)))\n",
    "print(\"std words = \"+str(np.std(header_lenght)))"
   ]
  },
  {
   "cell_type": "code",
   "execution_count": 14,
   "metadata": {},
   "outputs": [
    {
     "data": {
      "image/png": "[encoded data removed]",
      "text/plain": [
       "<Figure size 432x288 with 1 Axes>"
      ]
     },
     "metadata": {
      "needs_background": "light"
     },
     "output_type": "display_data"
    }
   ],
   "source": [
    "plt.hist(header_lenght, range(0,30))\n",
    "plt.title('total of words in table header')\n",
    "plt.xlabel('total of words')\n",
    "plt.ylabel('total of articles (log)')\n",
    "plt.yscale('log')\n",
    "plt.show()"
   ]
  },
  {
   "cell_type": "markdown",
   "metadata": {},
   "source": [
    "# Table Body Analysis\n",
    "\n",
    "In the next code blocks we analyze the number of words in the table body"
   ]
  },
  {
   "cell_type": "code",
   "execution_count": 15,
   "metadata": {},
   "outputs": [
    {
     "name": "stdout",
     "output_type": "stream",
     "text": [
      "body analysis:\n",
      "max words = 102860\n",
      "min words = 1\n",
      "avg words = 211.99365781661552\n",
      "std words = 1000.0953496776812\n"
     ]
    }
   ],
   "source": [
    "print('body analysis:')\n",
    "print(\"max words = \"+str(np.max(body_lenght)))\n",
    "print(\"min words = \"+str(np.min(body_lenght)))\n",
    "print(\"avg words = \"+str(np.mean(body_lenght)))\n",
    "print(\"std words = \"+str(np.std(body_lenght)))"
   ]
  },
  {
   "cell_type": "code",
   "execution_count": 16,
   "metadata": {},
   "outputs": [
    {
     "data": {
      "image/png": "[encoded data removed]",
      "text/plain": [
       "<Figure size 432x288 with 1 Axes>"
      ]
     },
     "metadata": {
      "needs_background": "light"
     },
     "output_type": "display_data"
    }
   ],
   "source": [
    "plt.hist(body_lenght, range(0,1220))\n",
    "plt.title('total of words in table body')\n",
    "plt.xlabel('total of words')\n",
    "plt.ylabel('total of articles (log)')\n",
    "plt.yscale('log')\n",
    "plt.show()"
   ]
  }
 ],
 "metadata": {
  "kernelspec": {
   "display_name": "Python 3",
   "language": "python",
   "name": "python3"
  },
  "language_info": {
   "codemirror_mode": {
    "name": "ipython",
    "version": 3
   },
   "file_extension": ".py",
   "mimetype": "text/x-python",
   "name": "python",
   "nbconvert_exporter": "python",
   "pygments_lexer": "ipython3",
   "version": "3.7.3"
  }
 },
 "nbformat": 4,
 "nbformat_minor": 2
}
