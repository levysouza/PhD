{
 "cells": [
  {
   "cell_type": "code",
   "execution_count": 1,
   "metadata": {},
   "outputs": [],
   "source": [
    "import numpy as np\n",
    "import pandas as pd\n",
    "from nltk.tokenize import TweetTokenizer\n",
    "import matplotlib.pyplot as plt\n",
    "from tqdm import tqdm\n",
    "import csv"
   ]
  },
  {
   "cell_type": "code",
   "execution_count": 4,
   "metadata": {},
   "outputs": [],
   "source": [
    "raw_articles = pd.read_csv('../dataset/data_articles_train.csv', delimiter=',')"
   ]
  },
  {
   "cell_type": "code",
   "execution_count": 5,
   "metadata": {},
   "outputs": [
    {
     "name": "stdout",
     "output_type": "stream",
     "text": [
      "total of articles = 204107\n"
     ]
    }
   ],
   "source": [
    "print(\"total of articles = \"+str(len(raw_articles)))"
   ]
  },
  {
   "cell_type": "code",
   "execution_count": 6,
   "metadata": {},
   "outputs": [
    {
     "name": "stdout",
     "output_type": "stream",
     "text": [
      "<class 'pandas.core.frame.DataFrame'>\n",
      "RangeIndex: 204107 entries, 0 to 204106\n",
      "Data columns (total 8 columns):\n",
      "full_text           204107 non-null object\n",
      "keywords            204107 non-null object\n",
      "meta_description    204107 non-null object\n",
      "meta_keywords       139997 non-null object\n",
      "page_id             204107 non-null int64\n",
      "page_title          204107 non-null object\n",
      "summary             204107 non-null object\n",
      "tags                46867 non-null object\n",
      "dtypes: int64(1), object(7)\n",
      "memory usage: 12.5+ MB\n"
     ]
    }
   ],
   "source": [
    "raw_articles.info()"
   ]
  },
  {
   "cell_type": "markdown",
   "metadata": {},
   "source": [
    "## TRAIN DATA"
   ]
  },
  {
   "cell_type": "code",
   "execution_count": 8,
   "metadata": {},
   "outputs": [
    {
     "name": "stderr",
     "output_type": "stream",
     "text": [
      "204107it [04:39, 731.42it/s]\n"
     ]
    }
   ],
   "source": [
    "title_lenght = []\n",
    "full_text_lenght = []\n",
    "meta_description_lenght = []\n",
    "summary_lenght = []\n",
    "keywords_lenght = []\n",
    "meta_keywords_lenght = []\n",
    "tags_lenght = []\n",
    "\n",
    "tknzr = TweetTokenizer()\n",
    "\n",
    "for i,row in tqdm(raw_articles.iterrows()):\n",
    "    \n",
    "    title = str(row['page_title'])\n",
    "    full_text = str(row['full_text'])\n",
    "    meta_description = str(row['meta_description'])\n",
    "    summary = str(row['summary'])\n",
    "    keywords = str(row['keywords'])\n",
    "    meta_keywords = str(row['meta_keywords'])\n",
    "    tags = str(row['tags'])\n",
    "    \n",
    "    lenght_title = len(tknzr.tokenize(title))\n",
    "    lenght_full_text = len(tknzr.tokenize(full_text))\n",
    "    lenght_meta_description = len(tknzr.tokenize(meta_description))\n",
    "    lenght_summary = len(tknzr.tokenize(summary))\n",
    "    lenght_keywords = len(tknzr.tokenize(keywords))\n",
    "    lenght_meta_keywords = len(tknzr.tokenize(meta_keywords))\n",
    "    lenght_tags = len(tknzr.tokenize(tags))\n",
    "    \n",
    "    title_lenght.append(lenght_title)\n",
    "    full_text_lenght.append(lenght_full_text)\n",
    "    meta_description_lenght.append(lenght_meta_description)\n",
    "    summary_lenght.append(lenght_summary)\n",
    "    keywords_lenght.append(lenght_keywords)\n",
    "    meta_keywords_lenght.append(lenght_meta_keywords)\n",
    "    tags_lenght.append(lenght_tags)"
   ]
  },
  {
   "cell_type": "markdown",
   "metadata": {},
   "source": [
    "# Article Title Analysis\n",
    "\n",
    "In the next code blocks we analyze the number of words in the article title"
   ]
  },
  {
   "cell_type": "code",
   "execution_count": 9,
   "metadata": {},
   "outputs": [
    {
     "name": "stdout",
     "output_type": "stream",
     "text": [
      "title analysis:\n",
      "max words = 31\n",
      "min words = 1\n",
      "avg words = 6.489316877912075\n",
      "std words = 2.967453550300486\n"
     ]
    }
   ],
   "source": [
    "print('title analysis:')\n",
    "print(\"max words = \"+str(np.max(title_lenght)))\n",
    "print(\"min words = \"+str(np.min(title_lenght)))\n",
    "print(\"avg words = \"+str(np.mean(title_lenght)))\n",
    "print(\"std words = \"+str(np.std(title_lenght)))"
   ]
  },
  {
   "cell_type": "code",
   "execution_count": 10,
   "metadata": {},
   "outputs": [
    {
     "data": {
      "image/png": "[encoded data removed]",
      "text/plain": [
       "<Figure size 432x288 with 1 Axes>"
      ]
     },
     "metadata": {
      "needs_background": "light"
     },
     "output_type": "display_data"
    }
   ],
   "source": [
    "plt.hist(title_lenght, range(0,35))\n",
    "plt.title('total of words in articles title')\n",
    "plt.xlabel('total of words')\n",
    "plt.ylabel('total of articles (log)')\n",
    "plt.yscale('log')\n",
    "plt.savefig('article_title1.pdf')\n",
    "plt.show()"
   ]
  },
  {
   "cell_type": "markdown",
   "metadata": {},
   "source": [
    "# Article Text Analysis\n",
    "\n",
    "In the next code blocks we analyze the number of words in the article text"
   ]
  },
  {
   "cell_type": "code",
   "execution_count": 11,
   "metadata": {},
   "outputs": [
    {
     "name": "stdout",
     "output_type": "stream",
     "text": [
      "text analysis:\n",
      "max words = 294\n",
      "min words = 294\n",
      "avg words = 294.0\n",
      "std words = 0.0\n"
     ]
    }
   ],
   "source": [
    "print('text analysis:')\n",
    "print(\"max words = \"+str(np.max(lenght_full_text)))\n",
    "print(\"min words = \"+str(np.min(lenght_full_text)))\n",
    "print(\"avg words = \"+str(np.mean(lenght_full_text)))\n",
    "print(\"std words = \"+str(np.std(lenght_full_text)))"
   ]
  },
  {
   "cell_type": "code",
   "execution_count": 12,
   "metadata": {},
   "outputs": [
    {
     "data": {
      "image/png": "[encoded data removed]",
      "text/plain": [
       "<Figure size 432x288 with 1 Axes>"
      ]
     },
     "metadata": {
      "needs_background": "light"
     },
     "output_type": "display_data"
    }
   ],
   "source": [
    "plt.hist(full_text_lenght, range(0,300))\n",
    "plt.title('total of words in articles full text')\n",
    "plt.xlabel('total of words')\n",
    "plt.ylabel('total of articles (log)')\n",
    "plt.yscale('log')\n",
    "plt.show()"
   ]
  },
  {
   "cell_type": "markdown",
   "metadata": {},
   "source": [
    "# Article Meta Description Analysis"
   ]
  },
  {
   "cell_type": "code",
   "execution_count": 13,
   "metadata": {},
   "outputs": [
    {
     "name": "stdout",
     "output_type": "stream",
     "text": [
      "meta description analysis:\n",
      "max words = 2213\n",
      "min words = 1\n",
      "avg words = 19.23079071271441\n",
      "std words = 27.01354082334747\n"
     ]
    }
   ],
   "source": [
    "print('meta description analysis:')\n",
    "print(\"max words = \"+str(np.max(meta_description_lenght)))\n",
    "print(\"min words = \"+str(np.min(meta_description_lenght)))\n",
    "print(\"avg words = \"+str(np.mean(meta_description_lenght)))\n",
    "print(\"std words = \"+str(np.std(meta_description_lenght)))"
   ]
  },
  {
   "cell_type": "code",
   "execution_count": 14,
   "metadata": {},
   "outputs": [
    {
     "data": {
      "image/png": "[encoded data removed]",
      "text/plain": [
       "<Figure size 432x288 with 1 Axes>"
      ]
     },
     "metadata": {
      "needs_background": "light"
     },
     "output_type": "display_data"
    }
   ],
   "source": [
    "plt.hist(meta_description_lenght, range(0,2213))\n",
    "plt.title('total of words in articles meta description')\n",
    "plt.xlabel('total of words')\n",
    "plt.ylabel('total of articles (log)')\n",
    "plt.yscale('log')\n",
    "plt.show()"
   ]
  },
  {
   "cell_type": "markdown",
   "metadata": {},
   "source": [
    "# Article Summary Analysis"
   ]
  },
  {
   "cell_type": "code",
   "execution_count": 15,
   "metadata": {},
   "outputs": [
    {
     "name": "stdout",
     "output_type": "stream",
     "text": [
      "summary analysis:\n",
      "max words = 708\n",
      "min words = 1\n",
      "avg words = 65.5965547482448\n",
      "std words = 33.9066080727421\n"
     ]
    }
   ],
   "source": [
    "print('summary analysis:')\n",
    "print(\"max words = \"+str(np.max(summary_lenght)))\n",
    "print(\"min words = \"+str(np.min(summary_lenght)))\n",
    "print(\"avg words = \"+str(np.mean(summary_lenght)))\n",
    "print(\"std words = \"+str(np.std(summary_lenght)))"
   ]
  },
  {
   "cell_type": "code",
   "execution_count": 16,
   "metadata": {},
   "outputs": [
    {
     "data": {
      "image/png": "[encoded data removed]",
      "text/plain": [
       "<Figure size 432x288 with 1 Axes>"
      ]
     },
     "metadata": {
      "needs_background": "light"
     },
     "output_type": "display_data"
    }
   ],
   "source": [
    "plt.hist(summary_lenght, range(0,750))\n",
    "plt.title('total of words in articles summary')\n",
    "plt.xlabel('total of words')\n",
    "plt.ylabel('total of articles (log)')\n",
    "plt.yscale('log')\n",
    "plt.show()"
   ]
  },
  {
   "cell_type": "markdown",
   "metadata": {},
   "source": [
    "# Article Keywords Analysis"
   ]
  },
  {
   "cell_type": "code",
   "execution_count": 17,
   "metadata": {},
   "outputs": [
    {
     "name": "stdout",
     "output_type": "stream",
     "text": [
      "keywords analysis:\n",
      "max words = 31\n",
      "min words = 1\n",
      "avg words = 13.24854610571906\n",
      "std words = 2.2877500285902403\n"
     ]
    }
   ],
   "source": [
    "print('keywords analysis:')\n",
    "print(\"max words = \"+str(np.max(keywords_lenght)))\n",
    "print(\"min words = \"+str(np.min(keywords_lenght)))\n",
    "print(\"avg words = \"+str(np.mean(keywords_lenght)))\n",
    "print(\"std words = \"+str(np.std(keywords_lenght)))"
   ]
  },
  {
   "cell_type": "code",
   "execution_count": 18,
   "metadata": {},
   "outputs": [
    {
     "data": {
      "image/png": "[encoded data removed]",
      "text/plain": [
       "<Figure size 432x288 with 1 Axes>"
      ]
     },
     "metadata": {
      "needs_background": "light"
     },
     "output_type": "display_data"
    }
   ],
   "source": [
    "plt.hist(keywords_lenght, range(0,35))\n",
    "plt.title('total of words in articles keywords')\n",
    "plt.xlabel('total of words')\n",
    "plt.ylabel('total of articles (log)')\n",
    "plt.yscale('log')\n",
    "plt.show()"
   ]
  },
  {
   "cell_type": "markdown",
   "metadata": {},
   "source": [
    "# Article Meta Keywords Analysis"
   ]
  },
  {
   "cell_type": "code",
   "execution_count": 19,
   "metadata": {},
   "outputs": [
    {
     "name": "stdout",
     "output_type": "stream",
     "text": [
      "meta keywords analysis:\n",
      "max words = 1850\n",
      "min words = 1\n",
      "avg words = 9.02737779693984\n",
      "std words = 16.08656512466791\n"
     ]
    }
   ],
   "source": [
    "print('meta keywords analysis:')\n",
    "print(\"max words = \"+str(np.max(meta_keywords_lenght)))\n",
    "print(\"min words = \"+str(np.min(meta_keywords_lenght)))\n",
    "print(\"avg words = \"+str(np.mean(meta_keywords_lenght)))\n",
    "print(\"std words = \"+str(np.std(meta_keywords_lenght)))"
   ]
  },
  {
   "cell_type": "code",
   "execution_count": 20,
   "metadata": {},
   "outputs": [
    {
     "data": {
      "image/png": "[encoded data removed]",
      "text/plain": [
       "<Figure size 432x288 with 1 Axes>"
      ]
     },
     "metadata": {
      "needs_background": "light"
     },
     "output_type": "display_data"
    }
   ],
   "source": [
    "plt.hist(meta_keywords_lenght, range(0,35))\n",
    "plt.title('total of words in articles meta keywords')\n",
    "plt.xlabel('total of words')\n",
    "plt.ylabel('total of articles (log)')\n",
    "plt.yscale('log')\n",
    "plt.show()"
   ]
  },
  {
   "cell_type": "markdown",
   "metadata": {},
   "source": [
    "# Article Tags Analysis"
   ]
  },
  {
   "cell_type": "code",
   "execution_count": 21,
   "metadata": {},
   "outputs": [
    {
     "name": "stdout",
     "output_type": "stream",
     "text": [
      "meta tags analysis:\n",
      "max words = 1677\n",
      "min words = 1\n",
      "avg words = 4.241441988760797\n",
      "std words = 19.778298337096917\n"
     ]
    }
   ],
   "source": [
    "print('meta tags analysis:')\n",
    "print(\"max words = \"+str(np.max(tags_lenght)))\n",
    "print(\"min words = \"+str(np.min(tags_lenght)))\n",
    "print(\"avg words = \"+str(np.mean(tags_lenght)))\n",
    "print(\"std words = \"+str(np.std(tags_lenght)))"
   ]
  },
  {
   "cell_type": "code",
   "execution_count": 22,
   "metadata": {},
   "outputs": [
    {
     "data": {
      "image/png": "[encoded data removed]",
      "text/plain": [
       "<Figure size 432x288 with 1 Axes>"
      ]
     },
     "metadata": {
      "needs_background": "light"
     },
     "output_type": "display_data"
    }
   ],
   "source": [
    "plt.hist(tags_lenght, range(0,1680))\n",
    "plt.title('total of words in articles tags')\n",
    "plt.xlabel('total of words')\n",
    "plt.ylabel('total of articles (log)')\n",
    "plt.yscale('log')\n",
    "plt.show()"
   ]
  },
  {
   "cell_type": "code",
   "execution_count": null,
   "metadata": {},
   "outputs": [],
   "source": []
  },
  {
   "cell_type": "code",
   "execution_count": null,
   "metadata": {},
   "outputs": [],
   "source": []
  },
  {
   "cell_type": "markdown",
   "metadata": {},
   "source": [
    "## TEST DATA"
   ]
  },
  {
   "cell_type": "code",
   "execution_count": null,
   "metadata": {},
   "outputs": [],
   "source": []
  },
  {
   "cell_type": "code",
   "execution_count": 23,
   "metadata": {},
   "outputs": [],
   "source": [
    "test_articles = pd.read_csv('../dataset/data_articles_test.csv', delimiter=',')"
   ]
  },
  {
   "cell_type": "code",
   "execution_count": null,
   "metadata": {},
   "outputs": [],
   "source": []
  },
  {
   "cell_type": "code",
   "execution_count": 24,
   "metadata": {},
   "outputs": [
    {
     "name": "stderr",
     "output_type": "stream",
     "text": [
      "1026it [00:00, 3768.17it/s]\n"
     ]
    }
   ],
   "source": [
    "TEST_title_lenght = []\n",
    "TEST_meta_description_lenght = []\n",
    "TEST_keywords_lenght = []\n",
    "\n",
    "tknzr = TweetTokenizer()\n",
    "\n",
    "for i,row in tqdm(test_articles.iterrows()):\n",
    "    \n",
    "    title = row['page_title']\n",
    "    meta_description = row['meta_description']\n",
    "    keywords = row['keywords']\n",
    "    \n",
    "    lenght_title = len(tknzr.tokenize(title))\n",
    "    lenght_meta_description = len(tknzr.tokenize(meta_description))\n",
    "    lenght_keywords = len(tknzr.tokenize(keywords))\n",
    "    \n",
    "    TEST_title_lenght.append(lenght_title)\n",
    "    TEST_meta_description_lenght.append(lenght_meta_description)\n",
    "    TEST_keywords_lenght.append(lenght_keywords)"
   ]
  },
  {
   "cell_type": "code",
   "execution_count": 25,
   "metadata": {},
   "outputs": [
    {
     "name": "stdout",
     "output_type": "stream",
     "text": [
      "title analysis:\n",
      "max words = 22\n",
      "min words = 1\n",
      "avg words = 6.5682261208577\n",
      "std words = 2.9560992176087293\n"
     ]
    }
   ],
   "source": [
    "print('title analysis:')\n",
    "print(\"max words = \"+str(np.max(TEST_title_lenght)))\n",
    "print(\"min words = \"+str(np.min(TEST_title_lenght)))\n",
    "print(\"avg words = \"+str(np.mean(TEST_title_lenght)))\n",
    "print(\"std words = \"+str(np.std(TEST_title_lenght)))"
   ]
  },
  {
   "cell_type": "code",
   "execution_count": 26,
   "metadata": {},
   "outputs": [
    {
     "data": {
      "image/png": "[encoded data removed]",
      "text/plain": [
       "<Figure size 432x288 with 1 Axes>"
      ]
     },
     "metadata": {
      "needs_background": "light"
     },
     "output_type": "display_data"
    }
   ],
   "source": [
    "plt.hist(TEST_title_lenght, range(0,25))\n",
    "plt.title('total of words in articles title')\n",
    "plt.xlabel('total of words')\n",
    "plt.ylabel('total of articles (log)')\n",
    "plt.yscale('log')\n",
    "plt.savefig('article_title1.pdf')\n",
    "plt.show()"
   ]
  },
  {
   "cell_type": "code",
   "execution_count": 5,
   "metadata": {},
   "outputs": [
    {
     "name": "stdout",
     "output_type": "stream",
     "text": [
      "meta description analysis:\n",
      "max words = 772\n",
      "min words = 1\n",
      "avg words = 20.537037037037038\n",
      "std words = 35.482185253492354\n"
     ]
    }
   ],
   "source": [
    "print('meta description analysis:')\n",
    "print(\"max words = \"+str(np.max(TEST_meta_description_lenght)))\n",
    "print(\"min words = \"+str(np.min(TEST_meta_description_lenght)))\n",
    "print(\"avg words = \"+str(np.mean(TEST_meta_description_lenght)))\n",
    "print(\"std words = \"+str(np.std(TEST_meta_description_lenght)))"
   ]
  },
  {
   "cell_type": "code",
   "execution_count": null,
   "metadata": {},
   "outputs": [],
   "source": [
    "plt.hist(TEST_meta_description_lenght, range(0,2213))\n",
    "plt.title('total of words in articles meta description')\n",
    "plt.xlabel('total of words')\n",
    "plt.ylabel('total of articles (log)')\n",
    "plt.yscale('log')\n",
    "plt.show()"
   ]
  },
  {
   "cell_type": "code",
   "execution_count": 6,
   "metadata": {},
   "outputs": [
    {
     "name": "stdout",
     "output_type": "stream",
     "text": [
      "meta description analysis:\n",
      "max words = 21\n",
      "min words = 2\n",
      "avg words = 13.297270955165692\n",
      "std words = 2.2758868970796193\n"
     ]
    }
   ],
   "source": [
    "print('keywords analysis:')\n",
    "print(\"max words = \"+str(np.max(TEST_keywords_lenght)))\n",
    "print(\"min words = \"+str(np.min(TEST_keywords_lenght)))\n",
    "print(\"avg words = \"+str(np.mean(TEST_keywords_lenght)))\n",
    "print(\"std words = \"+str(np.std(TEST_keywords_lenght)))"
   ]
  }
 ],
 "metadata": {
  "kernelspec": {
   "display_name": "Python 3",
   "language": "python",
   "name": "python3"
  },
  "language_info": {
   "codemirror_mode": {
    "name": "ipython",
    "version": 3
   },
   "file_extension": ".py",
   "mimetype": "text/x-python",
   "name": "python",
   "nbconvert_exporter": "python",
   "pygments_lexer": "ipython3",
   "version": "3.7.3"
  }
 },
 "nbformat": 4,
 "nbformat_minor": 2
}
