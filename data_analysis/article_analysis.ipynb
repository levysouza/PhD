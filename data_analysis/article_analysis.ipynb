{
 "cells": [
  {
   "cell_type": "code",
   "execution_count": 2,
   "metadata": {},
   "outputs": [],
   "source": [
    "import numpy as np\n",
    "import pandas as pd\n",
    "from nltk.tokenize import TweetTokenizer\n",
    "import matplotlib.pyplot as plt\n",
    "from tqdm import tqdm\n",
    "import csv"
   ]
  },
  {
   "cell_type": "code",
   "execution_count": 2,
   "metadata": {},
   "outputs": [],
   "source": [
    "raw_articles = pd.read_csv('../dataset/formatted_data_articles', delimiter=',', header=None)"
   ]
  },
  {
   "cell_type": "code",
   "execution_count": 3,
   "metadata": {},
   "outputs": [],
   "source": [
    "data_articles = raw_articles.iloc[:,:].values"
   ]
  },
  {
   "cell_type": "code",
   "execution_count": 4,
   "metadata": {},
   "outputs": [
    {
     "name": "stdout",
     "output_type": "stream",
     "text": [
      "total of articles = 275353\n"
     ]
    }
   ],
   "source": [
    "print(\"total of articles = \"+str(len(data_articles)))"
   ]
  },
  {
   "cell_type": "code",
   "execution_count": null,
   "metadata": {},
   "outputs": [],
   "source": [
    "#[ID,title, full_text, meta_description, summary, keywords, meta_keywords, tags]"
   ]
  },
  {
   "cell_type": "code",
   "execution_count": 5,
   "metadata": {},
   "outputs": [
    {
     "name": "stderr",
     "output_type": "stream",
     "text": [
      "100%|██████████| 275353/275353 [03:47<00:00, 1208.29it/s]\n"
     ]
    }
   ],
   "source": [
    "title_lenght = []\n",
    "full_text_lenght = []\n",
    "meta_description_lenght = []\n",
    "summary_lenght = []\n",
    "keywords_lenght = []\n",
    "meta_keywords_lenght = []\n",
    "tags_lenght = []\n",
    "\n",
    "tknzr = TweetTokenizer()\n",
    "\n",
    "for articles in tqdm(data_articles):\n",
    "    \n",
    "    title = str(articles[1])\n",
    "    full_text = str(articles[2])\n",
    "    meta_description = str(articles[3])\n",
    "    summary = str(articles[4])\n",
    "    keywords = str(articles[5])\n",
    "    meta_keywords = str(articles[6])\n",
    "    tags = str(articles[7])\n",
    "    \n",
    "    lenght_title = len(tknzr.tokenize(title))\n",
    "    lenght_full_text = len(tknzr.tokenize(full_text))\n",
    "    lenght_meta_description = len(tknzr.tokenize(meta_description))\n",
    "    lenght_summary = len(tknzr.tokenize(summary))\n",
    "    lenght_keywords = len(tknzr.tokenize(keywords))\n",
    "    lenght_meta_keywords = len(tknzr.tokenize(meta_keywords))\n",
    "    lenght_tags = len(tknzr.tokenize(tags))\n",
    "    \n",
    "    title_lenght.append(lenght_title)\n",
    "    full_text_lenght.append(lenght_full_text)\n",
    "    meta_description_lenght.append(lenght_meta_description)\n",
    "    summary_lenght.append(lenght_summary)\n",
    "    keywords_lenght.append(lenght_keywords)\n",
    "    meta_keywords_lenght.append(lenght_meta_keywords)\n",
    "    tags_lenght.append(lenght_tags)"
   ]
  },
  {
   "cell_type": "markdown",
   "metadata": {},
   "source": [
    "# Article Title Analysis\n",
    "\n",
    "In the next code blocks we analyze the number of words in the article title"
   ]
  },
  {
   "cell_type": "code",
   "execution_count": 6,
   "metadata": {},
   "outputs": [
    {
     "name": "stdout",
     "output_type": "stream",
     "text": [
      "title analysis:\n",
      "max words = 31\n",
      "min words = 1\n",
      "avg words = 6.200103140332591\n",
      "std words = 3.0158423363700724\n"
     ]
    }
   ],
   "source": [
    "print('title analysis:')\n",
    "print(\"max words = \"+str(np.max(title_lenght)))\n",
    "print(\"min words = \"+str(np.min(title_lenght)))\n",
    "print(\"avg words = \"+str(np.mean(title_lenght)))\n",
    "print(\"std words = \"+str(np.std(title_lenght)))"
   ]
  },
  {
   "cell_type": "code",
   "execution_count": 12,
   "metadata": {},
   "outputs": [],
   "source": [
    "for i in data_articles:\n",
    "    if i[0] == \"\":\n",
    "        print(\"null\")"
   ]
  },
  {
   "cell_type": "code",
   "execution_count": 7,
   "metadata": {},
   "outputs": [
    {
     "data": {
      "image/png": "[encoded data removed]",
      "text/plain": [
       "<Figure size 432x288 with 1 Axes>"
      ]
     },
     "metadata": {
      "needs_background": "light"
     },
     "output_type": "display_data"
    }
   ],
   "source": [
    "plt.hist(title_lenght, range(0,35))\n",
    "plt.title('total of words in articles title')\n",
    "plt.xlabel('total of words')\n",
    "plt.ylabel('total of articles (log)')\n",
    "plt.yscale('log')\n",
    "plt.savefig('article_title1.pdf')\n",
    "plt.show()"
   ]
  },
  {
   "cell_type": "markdown",
   "metadata": {},
   "source": [
    "# Article Text Analysis\n",
    "\n",
    "In the next code blocks we analyze the number of words in the article text"
   ]
  },
  {
   "cell_type": "code",
   "execution_count": 14,
   "metadata": {},
   "outputs": [
    {
     "name": "stdout",
     "output_type": "stream",
     "text": [
      "text analysis:\n",
      "max words = 257\n",
      "min words = 257\n",
      "avg words = 257.0\n",
      "std words = 0.0\n"
     ]
    }
   ],
   "source": [
    "print('text analysis:')\n",
    "print(\"max words = \"+str(np.max(lenght_full_text)))\n",
    "print(\"min words = \"+str(np.min(lenght_full_text)))\n",
    "print(\"avg words = \"+str(np.mean(lenght_full_text)))\n",
    "print(\"std words = \"+str(np.std(lenght_full_text)))"
   ]
  },
  {
   "cell_type": "code",
   "execution_count": 19,
   "metadata": {},
   "outputs": [
    {
     "data": {
      "image/png": "[encoded data removed]",
      "text/plain": [
       "<Figure size 432x288 with 1 Axes>"
      ]
     },
     "metadata": {
      "needs_background": "light"
     },
     "output_type": "display_data"
    }
   ],
   "source": [
    "plt.hist(full_text_lenght, range(0,300))\n",
    "plt.title('total of words in articles full text')\n",
    "plt.xlabel('total of words')\n",
    "plt.ylabel('total of articles (log)')\n",
    "plt.yscale('log')\n",
    "plt.show()"
   ]
  },
  {
   "cell_type": "markdown",
   "metadata": {},
   "source": [
    "# Article Meta Description Analysis"
   ]
  },
  {
   "cell_type": "code",
   "execution_count": 18,
   "metadata": {},
   "outputs": [
    {
     "name": "stdout",
     "output_type": "stream",
     "text": [
      "meta description analysis:\n",
      "max words = 2213\n",
      "min words = 1\n",
      "avg words = 15.04237832890871\n",
      "std words = 24.648915787537454\n"
     ]
    }
   ],
   "source": [
    "print('meta description analysis:')\n",
    "print(\"max words = \"+str(np.max(meta_description_lenght)))\n",
    "print(\"min words = \"+str(np.min(meta_description_lenght)))\n",
    "print(\"avg words = \"+str(np.mean(meta_description_lenght)))\n",
    "print(\"std words = \"+str(np.std(meta_description_lenght)))"
   ]
  },
  {
   "cell_type": "code",
   "execution_count": 20,
   "metadata": {},
   "outputs": [
    {
     "data": {
      "image/png": "[encoded data removed]",
      "text/plain": [
       "<Figure size 432x288 with 1 Axes>"
      ]
     },
     "metadata": {
      "needs_background": "light"
     },
     "output_type": "display_data"
    }
   ],
   "source": [
    "plt.hist(meta_description_lenght, range(0,2213))\n",
    "plt.title('total of words in articles meta description')\n",
    "plt.xlabel('total of words')\n",
    "plt.ylabel('total of articles (log)')\n",
    "plt.yscale('log')\n",
    "plt.show()"
   ]
  },
  {
   "cell_type": "markdown",
   "metadata": {},
   "source": [
    "# Article Summary Analysis"
   ]
  },
  {
   "cell_type": "code",
   "execution_count": 21,
   "metadata": {},
   "outputs": [
    {
     "name": "stdout",
     "output_type": "stream",
     "text": [
      "summary analysis:\n",
      "max words = 736\n",
      "min words = 1\n",
      "avg words = 62.91160437692707\n",
      "std words = 39.5419346631041\n"
     ]
    }
   ],
   "source": [
    "print('summary analysis:')\n",
    "print(\"max words = \"+str(np.max(summary_lenght)))\n",
    "print(\"min words = \"+str(np.min(summary_lenght)))\n",
    "print(\"avg words = \"+str(np.mean(summary_lenght)))\n",
    "print(\"std words = \"+str(np.std(summary_lenght)))"
   ]
  },
  {
   "cell_type": "code",
   "execution_count": 22,
   "metadata": {},
   "outputs": [
    {
     "data": {
      "image/png": "[encoded data removed]",
      "text/plain": [
       "<Figure size 432x288 with 1 Axes>"
      ]
     },
     "metadata": {
      "needs_background": "light"
     },
     "output_type": "display_data"
    }
   ],
   "source": [
    "plt.hist(summary_lenght, range(0,750))\n",
    "plt.title('total of words in articles summary')\n",
    "plt.xlabel('total of words')\n",
    "plt.ylabel('total of articles (log)')\n",
    "plt.yscale('log')\n",
    "plt.show()"
   ]
  },
  {
   "cell_type": "markdown",
   "metadata": {},
   "source": [
    "# Article Keywords Analysis"
   ]
  },
  {
   "cell_type": "code",
   "execution_count": 25,
   "metadata": {},
   "outputs": [
    {
     "name": "stdout",
     "output_type": "stream",
     "text": [
      "keywords analysis:\n",
      "max words = 31\n",
      "min words = 1\n",
      "avg words = 12.74078001692373\n",
      "std words = 2.914293669788999\n"
     ]
    }
   ],
   "source": [
    "print('keywords analysis:')\n",
    "print(\"max words = \"+str(np.max(keywords_lenght)))\n",
    "print(\"min words = \"+str(np.min(keywords_lenght)))\n",
    "print(\"avg words = \"+str(np.mean(keywords_lenght)))\n",
    "print(\"std words = \"+str(np.std(keywords_lenght)))"
   ]
  },
  {
   "cell_type": "code",
   "execution_count": 24,
   "metadata": {},
   "outputs": [
    {
     "data": {
      "image/png": "[encoded data removed]",
      "text/plain": [
       "<Figure size 432x288 with 1 Axes>"
      ]
     },
     "metadata": {
      "needs_background": "light"
     },
     "output_type": "display_data"
    }
   ],
   "source": [
    "plt.hist(keywords_lenght, range(0,35))\n",
    "plt.title('total of words in articles keywords')\n",
    "plt.xlabel('total of words')\n",
    "plt.ylabel('total of articles (log)')\n",
    "plt.yscale('log')\n",
    "plt.show()"
   ]
  },
  {
   "cell_type": "markdown",
   "metadata": {},
   "source": [
    "# Article Meta Keywords Analysis"
   ]
  },
  {
   "cell_type": "code",
   "execution_count": 26,
   "metadata": {},
   "outputs": [
    {
     "name": "stdout",
     "output_type": "stream",
     "text": [
      "meta keywords analysis:\n",
      "max words = 1850\n",
      "min words = 1\n",
      "avg words = 7.82706562122076\n",
      "std words = 15.021385189746914\n"
     ]
    }
   ],
   "source": [
    "print('meta keywords analysis:')\n",
    "print(\"max words = \"+str(np.max(meta_keywords_lenght)))\n",
    "print(\"min words = \"+str(np.min(meta_keywords_lenght)))\n",
    "print(\"avg words = \"+str(np.mean(meta_keywords_lenght)))\n",
    "print(\"std words = \"+str(np.std(meta_keywords_lenght)))"
   ]
  },
  {
   "cell_type": "code",
   "execution_count": 27,
   "metadata": {},
   "outputs": [
    {
     "data": {
      "image/png": "[encoded data removed]",
      "text/plain": [
       "<Figure size 432x288 with 1 Axes>"
      ]
     },
     "metadata": {
      "needs_background": "light"
     },
     "output_type": "display_data"
    }
   ],
   "source": [
    "plt.hist(meta_keywords_lenght, range(0,35))\n",
    "plt.title('total of words in articles meta keywords')\n",
    "plt.xlabel('total of words')\n",
    "plt.ylabel('total of articles (log)')\n",
    "plt.yscale('log')\n",
    "plt.show()"
   ]
  },
  {
   "cell_type": "markdown",
   "metadata": {},
   "source": [
    "# Article Tags Analysis"
   ]
  },
  {
   "cell_type": "code",
   "execution_count": 28,
   "metadata": {},
   "outputs": [
    {
     "name": "stdout",
     "output_type": "stream",
     "text": [
      "meta tags analysis:\n",
      "max words = 1677\n",
      "min words = 1\n",
      "avg words = 3.8255148845300395\n",
      "std words = 17.741380164961196\n"
     ]
    }
   ],
   "source": [
    "print('meta tags analysis:')\n",
    "print(\"max words = \"+str(np.max(tags_lenght)))\n",
    "print(\"min words = \"+str(np.min(tags_lenght)))\n",
    "print(\"avg words = \"+str(np.mean(tags_lenght)))\n",
    "print(\"std words = \"+str(np.std(tags_lenght)))"
   ]
  },
  {
   "cell_type": "code",
   "execution_count": 29,
   "metadata": {},
   "outputs": [
    {
     "data": {
      "image/png": "[encoded data removed]",
      "text/plain": [
       "<Figure size 432x288 with 1 Axes>"
      ]
     },
     "metadata": {
      "needs_background": "light"
     },
     "output_type": "display_data"
    }
   ],
   "source": [
    "plt.hist(tags_lenght, range(0,1680))\n",
    "plt.title('total of words in articles tags')\n",
    "plt.xlabel('total of words')\n",
    "plt.ylabel('total of articles (log)')\n",
    "plt.yscale('log')\n",
    "plt.show()"
   ]
  },
  {
   "cell_type": "code",
   "execution_count": null,
   "metadata": {},
   "outputs": [],
   "source": []
  },
  {
   "cell_type": "code",
   "execution_count": null,
   "metadata": {},
   "outputs": [],
   "source": []
  },
  {
   "cell_type": "code",
   "execution_count": null,
   "metadata": {},
   "outputs": [],
   "source": []
  },
  {
   "cell_type": "code",
   "execution_count": 3,
   "metadata": {},
   "outputs": [],
   "source": [
    "test_articles = pd.read_csv('../dataset/data_articles_train.csv', delimiter=',')"
   ]
  },
  {
   "cell_type": "code",
   "execution_count": 4,
   "metadata": {},
   "outputs": [],
   "source": [
    "df_sample = test_articles.head(10)"
   ]
  },
  {
   "cell_type": "code",
   "execution_count": 6,
   "metadata": {},
   "outputs": [],
   "source": [
    "df_sample.to_csv(\"sample_articos\", index=False)"
   ]
  },
  {
   "cell_type": "code",
   "execution_count": null,
   "metadata": {},
   "outputs": [],
   "source": []
  },
  {
   "cell_type": "code",
   "execution_count": null,
   "metadata": {},
   "outputs": [],
   "source": []
  },
  {
   "cell_type": "code",
   "execution_count": null,
   "metadata": {},
   "outputs": [],
   "source": [
    "#analysis test articles"
   ]
  },
  {
   "cell_type": "code",
   "execution_count": 2,
   "metadata": {},
   "outputs": [],
   "source": [
    "test_articles = pd.read_csv('../dataset/data_articles_test.csv', delimiter=',')"
   ]
  },
  {
   "cell_type": "code",
   "execution_count": 3,
   "metadata": {},
   "outputs": [
    {
     "name": "stderr",
     "output_type": "stream",
     "text": [
      "1026it [00:00, 4682.36it/s]\n"
     ]
    }
   ],
   "source": [
    "title_lenght = []\n",
    "meta_description_lenght = []\n",
    "\n",
    "tknzr = TweetTokenizer()\n",
    "\n",
    "for i,row in tqdm(test_articles.iterrows()):\n",
    "    \n",
    "    title = row['page_title']\n",
    "    meta_description = row['meta_description']\n",
    "\n",
    "    \n",
    "    lenght_title = len(tknzr.tokenize(title))\n",
    "    lenght_meta_description = len(tknzr.tokenize(meta_description))\n",
    "    \n",
    "    \n",
    "    title_lenght.append(lenght_title)\n",
    "    meta_description_lenght.append(lenght_meta_description)"
   ]
  },
  {
   "cell_type": "code",
   "execution_count": 4,
   "metadata": {},
   "outputs": [
    {
     "name": "stdout",
     "output_type": "stream",
     "text": [
      "title analysis:\n",
      "max words = 22\n",
      "min words = 1\n",
      "avg words = 6.5682261208577\n",
      "std words = 2.9560992176087293\n"
     ]
    }
   ],
   "source": [
    "print('title analysis:')\n",
    "print(\"max words = \"+str(np.max(title_lenght)))\n",
    "print(\"min words = \"+str(np.min(title_lenght)))\n",
    "print(\"avg words = \"+str(np.mean(title_lenght)))\n",
    "print(\"std words = \"+str(np.std(title_lenght)))"
   ]
  },
  {
   "cell_type": "code",
   "execution_count": 5,
   "metadata": {},
   "outputs": [
    {
     "name": "stdout",
     "output_type": "stream",
     "text": [
      "meta description analysis:\n",
      "max words = 772\n",
      "min words = 1\n",
      "avg words = 20.537037037037038\n",
      "std words = 35.482185253492354\n"
     ]
    }
   ],
   "source": [
    "print('meta description analysis:')\n",
    "print(\"max words = \"+str(np.max(meta_description_lenght)))\n",
    "print(\"min words = \"+str(np.min(meta_description_lenght)))\n",
    "print(\"avg words = \"+str(np.mean(meta_description_lenght)))\n",
    "print(\"std words = \"+str(np.std(meta_description_lenght)))"
   ]
  }
 ],
 "metadata": {
  "kernelspec": {
   "display_name": "Python 3",
   "language": "python",
   "name": "python3"
  },
  "language_info": {
   "codemirror_mode": {
    "name": "ipython",
    "version": 3
   },
   "file_extension": ".py",
   "mimetype": "text/x-python",
   "name": "python",
   "nbconvert_exporter": "python",
   "pygments_lexer": "ipython3",
   "version": "3.7.3"
  }
 },
 "nbformat": 4,
 "nbformat_minor": 2
}
