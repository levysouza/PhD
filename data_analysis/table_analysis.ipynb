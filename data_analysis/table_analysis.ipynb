{
 "cells": [
  {
   "cell_type": "code",
   "execution_count": 1,
   "metadata": {},
   "outputs": [],
   "source": [
    "import numpy as np\n",
    "import pandas as pd\n",
    "from nltk.tokenize import TweetTokenizer\n",
    "import matplotlib.pyplot as plt\n",
    "from tqdm import tqdm"
   ]
  },
  {
   "cell_type": "code",
   "execution_count": 2,
   "metadata": {},
   "outputs": [],
   "source": [
    "raw_tables = pd.read_csv('../dataset/distinct_tables_allsignals.csv', delimiter=',')"
   ]
  },
  {
   "cell_type": "code",
   "execution_count": 3,
   "metadata": {},
   "outputs": [
    {
     "name": "stdout",
     "output_type": "stream",
     "text": [
      "total of tables = 85995\n"
     ]
    }
   ],
   "source": [
    "print(\"total of tables = \"+str(len(raw_tables)))"
   ]
  },
  {
   "cell_type": "code",
   "execution_count": 12,
   "metadata": {},
   "outputs": [
    {
     "name": "stderr",
     "output_type": "stream",
     "text": [
      "85995it [01:28, 972.14it/s] \n"
     ]
    }
   ],
   "source": [
    "title_lenght = []\n",
    "summary_lenght = []\n",
    "keywords_lenght = []\n",
    "section_title_lenght = []\n",
    "caption_lenght = []\n",
    "header_lenght = []\n",
    "body_lenght = []\n",
    "\n",
    "tknzr = TweetTokenizer()\n",
    "\n",
    "for i,row in tqdm(raw_tables.iterrows()):\n",
    "    \n",
    "    title = str(row['table_page_title']) \n",
    "    summary = str(row['table_page_summary'])\n",
    "    keywords = str(row['table_page_keywords'])\n",
    "    section_title = str(row['table_section_title'])   \n",
    "    caption = str(row['table_caption'])   \n",
    "    header = str(row['table_header'])   \n",
    "    body = str(row['table_body'])\n",
    "    \n",
    "    lenght_title = len(tknzr.tokenize(title))\n",
    "    lenght_summary= len(tknzr.tokenize(summary))\n",
    "    lenght_keywords = len(tknzr.tokenize(keywords))\n",
    "    lenght_section_title = len(tknzr.tokenize(section_title))\n",
    "    lenght_caption = len(tknzr.tokenize(caption))\n",
    "    lenght_header = len(tknzr.tokenize(header))\n",
    "    lenght_body = len(tknzr.tokenize(body))\n",
    "    \n",
    "    title_lenght.append(lenght_title)\n",
    "    summary_lenght.append(lenght_summary)\n",
    "    keywords_lenght.append(lenght_keywords)\n",
    "    section_title_lenght.append(lenght_section_title)\n",
    "    caption_lenght.append(lenght_caption)\n",
    "    header_lenght.append(lenght_header)\n",
    "    body_lenght.append(lenght_body)"
   ]
  },
  {
   "cell_type": "markdown",
   "metadata": {},
   "source": [
    "# Table Title Analysis\n",
    "\n",
    "In the next code blocks we analyze the number of words in the table title"
   ]
  },
  {
   "cell_type": "code",
   "execution_count": 13,
   "metadata": {},
   "outputs": [
    {
     "name": "stdout",
     "output_type": "stream",
     "text": [
      "title analysis:\n",
      "max words = 13\n",
      "min words = 1\n",
      "avg words = 2.9389848246991104\n",
      "std words = 1.3568433719434725\n"
     ]
    }
   ],
   "source": [
    "print('title analysis:')\n",
    "print(\"max words = \"+str(np.max(title_lenght)))\n",
    "print(\"min words = \"+str(np.min(title_lenght)))\n",
    "print(\"avg words = \"+str(np.mean(title_lenght)))\n",
    "print(\"std words = \"+str(np.std(title_lenght)))"
   ]
  },
  {
   "cell_type": "code",
   "execution_count": 14,
   "metadata": {},
   "outputs": [
    {
     "data": {
      "image/png": "[encoded data removed]",
      "text/plain": [
       "<Figure size 432x288 with 1 Axes>"
      ]
     },
     "metadata": {
      "needs_background": "light"
     },
     "output_type": "display_data"
    }
   ],
   "source": [
    "plt.hist(title_lenght, range(0,25))\n",
    "plt.title('total of words in table title')\n",
    "plt.xlabel('total of words')\n",
    "plt.ylabel('total of articles (log)')\n",
    "plt.yscale('log')\n",
    "plt.savefig('table_title2.pdf')\n",
    "plt.show()"
   ]
  },
  {
   "cell_type": "markdown",
   "metadata": {},
   "source": [
    "# Table Summary Analysis\n",
    "\n",
    "In the next code blocks we analyze the number of words in the table summary"
   ]
  },
  {
   "cell_type": "code",
   "execution_count": 15,
   "metadata": {},
   "outputs": [
    {
     "name": "stdout",
     "output_type": "stream",
     "text": [
      "summary analysis:\n",
      "max words = 674\n",
      "min words = 1\n",
      "avg words = 78.49880807023663\n",
      "std words = 40.76460323189237\n"
     ]
    }
   ],
   "source": [
    "print('summary analysis:')\n",
    "print(\"max words = \"+str(np.max(summary_lenght)))\n",
    "print(\"min words = \"+str(np.min(summary_lenght)))\n",
    "print(\"avg words = \"+str(np.mean(summary_lenght)))\n",
    "print(\"std words = \"+str(np.std(summary_lenght)))"
   ]
  },
  {
   "cell_type": "code",
   "execution_count": 18,
   "metadata": {},
   "outputs": [
    {
     "data": {
      "image/png": "[encoded data removed]",
      "text/plain": [
       "<Figure size 432x288 with 1 Axes>"
      ]
     },
     "metadata": {
      "needs_background": "light"
     },
     "output_type": "display_data"
    }
   ],
   "source": [
    "plt.hist(summary_lenght, range(0,150))\n",
    "plt.title('total of words in table summary')\n",
    "plt.xlabel('total of words')\n",
    "plt.ylabel('total of articles (log)')\n",
    "plt.yscale('log')\n",
    "plt.savefig('table_title2.pdf')\n",
    "plt.show()"
   ]
  },
  {
   "cell_type": "markdown",
   "metadata": {},
   "source": [
    "# Table Keywords Analysis\n",
    "\n",
    "In the next code blocks we analyze the number of words in the table keywords"
   ]
  },
  {
   "cell_type": "code",
   "execution_count": 19,
   "metadata": {},
   "outputs": [
    {
     "name": "stdout",
     "output_type": "stream",
     "text": [
      "keywords analysis:\n",
      "max words = 18\n",
      "min words = 1\n",
      "avg words = 10.421873364730507\n",
      "std words = 1.490688021869294\n"
     ]
    }
   ],
   "source": [
    "print('keywords analysis:')\n",
    "print(\"max words = \"+str(np.max(keywords_lenght)))\n",
    "print(\"min words = \"+str(np.min(keywords_lenght)))\n",
    "print(\"avg words = \"+str(np.mean(keywords_lenght)))\n",
    "print(\"std words = \"+str(np.std(keywords_lenght)))"
   ]
  },
  {
   "cell_type": "code",
   "execution_count": 20,
   "metadata": {},
   "outputs": [
    {
     "data": {
      "image/png": "[encoded data removed]",
      "text/plain": [
       "<Figure size 432x288 with 1 Axes>"
      ]
     },
     "metadata": {
      "needs_background": "light"
     },
     "output_type": "display_data"
    }
   ],
   "source": [
    "plt.hist(keywords_lenght, range(0,15))\n",
    "plt.title('total of words in table keywords')\n",
    "plt.xlabel('total of words')\n",
    "plt.ylabel('total of articles (log)')\n",
    "plt.yscale('log')\n",
    "plt.savefig('table_title2.pdf')\n",
    "plt.show()"
   ]
  },
  {
   "cell_type": "markdown",
   "metadata": {},
   "source": [
    "# Table Section Title Analysis\n",
    "\n",
    "In the next code blocks we analyze the number of words in the table section title"
   ]
  },
  {
   "cell_type": "code",
   "execution_count": 21,
   "metadata": {},
   "outputs": [
    {
     "name": "stdout",
     "output_type": "stream",
     "text": [
      "section title analysis:\n",
      "max words = 13\n",
      "min words = 1\n",
      "avg words = 1.732844932844933\n",
      "std words = 0.9087591124446472\n"
     ]
    }
   ],
   "source": [
    "print('section title analysis:')\n",
    "print(\"max words = \"+str(np.max(section_title_lenght)))\n",
    "print(\"min words = \"+str(np.min(section_title_lenght)))\n",
    "print(\"avg words = \"+str(np.mean(section_title_lenght)))\n",
    "print(\"std words = \"+str(np.std(section_title_lenght)))"
   ]
  },
  {
   "cell_type": "code",
   "execution_count": 22,
   "metadata": {},
   "outputs": [
    {
     "data": {
      "image/png": "[encoded data removed]",
      "text/plain": [
       "<Figure size 432x288 with 1 Axes>"
      ]
     },
     "metadata": {
      "needs_background": "light"
     },
     "output_type": "display_data"
    }
   ],
   "source": [
    "plt.hist(section_title_lenght, range(0,25))\n",
    "plt.title('total of words in table section title')\n",
    "plt.xlabel('total of words')\n",
    "plt.ylabel('total of articles (log)')\n",
    "plt.yscale('log')\n",
    "plt.show()"
   ]
  },
  {
   "cell_type": "markdown",
   "metadata": {},
   "source": [
    "# Table Caption Analysis\n",
    "\n",
    "In the next code blocks we analyze the number of words in the table caption"
   ]
  },
  {
   "cell_type": "code",
   "execution_count": 23,
   "metadata": {},
   "outputs": [
    {
     "name": "stdout",
     "output_type": "stream",
     "text": [
      "caption analysis:\n",
      "max words = 34\n",
      "min words = 1\n",
      "avg words = 1.9356125356125355\n",
      "std words = 1.2583045221555862\n"
     ]
    }
   ],
   "source": [
    "print('caption analysis:')\n",
    "print(\"max words = \"+str(np.max(caption_lenght)))\n",
    "print(\"min words = \"+str(np.min(caption_lenght)))\n",
    "print(\"avg words = \"+str(np.mean(caption_lenght)))\n",
    "print(\"std words = \"+str(np.std(caption_lenght)))"
   ]
  },
  {
   "cell_type": "code",
   "execution_count": 24,
   "metadata": {},
   "outputs": [
    {
     "data": {
      "image/png": "[encoded data removed]",
      "text/plain": [
       "<Figure size 432x288 with 1 Axes>"
      ]
     },
     "metadata": {
      "needs_background": "light"
     },
     "output_type": "display_data"
    }
   ],
   "source": [
    "plt.hist(caption_lenght, range(0,25))\n",
    "plt.title('total of words in table caption')\n",
    "plt.xlabel('total of words')\n",
    "plt.ylabel('total of articles (log)')\n",
    "plt.yscale('log')\n",
    "plt.show()"
   ]
  },
  {
   "cell_type": "markdown",
   "metadata": {},
   "source": [
    "# Table Header Analysis\n",
    "\n",
    "In the next code blocks we analyze the number of words in the table header"
   ]
  },
  {
   "cell_type": "code",
   "execution_count": 25,
   "metadata": {},
   "outputs": [
    {
     "name": "stdout",
     "output_type": "stream",
     "text": [
      "header analysis:\n",
      "max words = 1489\n",
      "min words = 1\n",
      "avg words = 9.54899703471132\n",
      "std words = 14.4580184047321\n"
     ]
    }
   ],
   "source": [
    "print('header analysis:')\n",
    "print(\"max words = \"+str(np.max(header_lenght)))\n",
    "print(\"min words = \"+str(np.min(header_lenght)))\n",
    "print(\"avg words = \"+str(np.mean(header_lenght)))\n",
    "print(\"std words = \"+str(np.std(header_lenght)))"
   ]
  },
  {
   "cell_type": "code",
   "execution_count": 26,
   "metadata": {},
   "outputs": [
    {
     "data": {
      "image/png": "[encoded data removed]",
      "text/plain": [
       "<Figure size 432x288 with 1 Axes>"
      ]
     },
     "metadata": {
      "needs_background": "light"
     },
     "output_type": "display_data"
    }
   ],
   "source": [
    "plt.hist(header_lenght, range(0,30))\n",
    "plt.title('total of words in table header')\n",
    "plt.xlabel('total of words')\n",
    "plt.ylabel('total of articles (log)')\n",
    "plt.yscale('log')\n",
    "plt.show()"
   ]
  },
  {
   "cell_type": "markdown",
   "metadata": {},
   "source": [
    "# Table Body Analysis\n",
    "\n",
    "In the next code blocks we analyze the number of words in the table body"
   ]
  },
  {
   "cell_type": "code",
   "execution_count": 27,
   "metadata": {},
   "outputs": [
    {
     "name": "stdout",
     "output_type": "stream",
     "text": [
      "body analysis:\n",
      "max words = 59341\n",
      "min words = 1\n",
      "avg words = 221.99553462410606\n",
      "std words = 877.6851171207276\n"
     ]
    }
   ],
   "source": [
    "print('body analysis:')\n",
    "print(\"max words = \"+str(np.max(body_lenght)))\n",
    "print(\"min words = \"+str(np.min(body_lenght)))\n",
    "print(\"avg words = \"+str(np.mean(body_lenght)))\n",
    "print(\"std words = \"+str(np.std(body_lenght)))"
   ]
  },
  {
   "cell_type": "code",
   "execution_count": 28,
   "metadata": {},
   "outputs": [
    {
     "data": {
      "image/png": "[encoded data removed]",
      "text/plain": [
       "<Figure size 432x288 with 1 Axes>"
      ]
     },
     "metadata": {
      "needs_background": "light"
     },
     "output_type": "display_data"
    }
   ],
   "source": [
    "plt.hist(body_lenght, range(0,1220))\n",
    "plt.title('total of words in table body')\n",
    "plt.xlabel('total of words')\n",
    "plt.ylabel('total of articles (log)')\n",
    "plt.yscale('log')\n",
    "plt.show()"
   ]
  },
  {
   "cell_type": "code",
   "execution_count": null,
   "metadata": {},
   "outputs": [],
   "source": []
  },
  {
   "cell_type": "code",
   "execution_count": null,
   "metadata": {},
   "outputs": [],
   "source": []
  },
  {
   "cell_type": "code",
   "execution_count": null,
   "metadata": {},
   "outputs": [],
   "source": []
  },
  {
   "cell_type": "markdown",
   "metadata": {},
   "source": [
    "# tokens analysis"
   ]
  },
  {
   "cell_type": "code",
   "execution_count": 4,
   "metadata": {},
   "outputs": [],
   "source": [
    "from transformers import BertTokenizer\n",
    "bert_tokenizer = BertTokenizer.from_pretrained(\"bert-base-cased\")"
   ]
  },
  {
   "cell_type": "code",
   "execution_count": null,
   "metadata": {},
   "outputs": [],
   "source": []
  },
  {
   "cell_type": "code",
   "execution_count": 5,
   "metadata": {},
   "outputs": [
    {
     "name": "stderr",
     "output_type": "stream",
     "text": [
      "85995it [08:13, 174.22it/s]\n"
     ]
    }
   ],
   "source": [
    "title_lenght = []\n",
    "summary_lenght = []\n",
    "\n",
    "for i,row in tqdm(raw_tables.iterrows()):\n",
    "    \n",
    "    title = str(row['table_page_title']) \n",
    "    summary = str(row['table_page_summary'])\n",
    "    \n",
    "    lenght_title = len(bert_tokenizer.tokenize(title))\n",
    "    lenght_summary= len(bert_tokenizer.tokenize(summary))\n",
    "   \n",
    "    title_lenght.append(lenght_title)\n",
    "    summary_lenght.append(lenght_summary)"
   ]
  },
  {
   "cell_type": "code",
   "execution_count": 6,
   "metadata": {},
   "outputs": [
    {
     "name": "stdout",
     "output_type": "stream",
     "text": [
      "title tokens analysis analysis:\n",
      "max words = 20\n",
      "min words = 1\n",
      "avg words = 5.128542357113786\n",
      "std words = 2.089032582015461\n"
     ]
    }
   ],
   "source": [
    "print('title tokens analysis analysis:')\n",
    "print(\"max words = \"+str(np.max(title_lenght)))\n",
    "print(\"min words = \"+str(np.min(title_lenght)))\n",
    "print(\"avg words = \"+str(np.mean(title_lenght)))\n",
    "print(\"std words = \"+str(np.std(title_lenght)))"
   ]
  },
  {
   "cell_type": "code",
   "execution_count": 7,
   "metadata": {},
   "outputs": [
    {
     "name": "stdout",
     "output_type": "stream",
     "text": [
      "summary tokens analysis analysis:\n",
      "max words = 1598\n",
      "min words = 1\n",
      "avg words = 115.88323739752312\n",
      "std words = 68.168851710927\n"
     ]
    }
   ],
   "source": [
    "print('summary tokens analysis analysis:')\n",
    "print(\"max words = \"+str(np.max(summary_lenght)))\n",
    "print(\"min words = \"+str(np.min(summary_lenght)))\n",
    "print(\"avg words = \"+str(np.mean(summary_lenght)))\n",
    "print(\"std words = \"+str(np.std(summary_lenght)))"
   ]
  },
  {
   "cell_type": "code",
   "execution_count": null,
   "metadata": {},
   "outputs": [],
   "source": []
  }
 ],
 "metadata": {
  "kernelspec": {
   "display_name": "Python 3",
   "language": "python",
   "name": "python3"
  },
  "language_info": {
   "codemirror_mode": {
    "name": "ipython",
    "version": 3
   },
   "file_extension": ".py",
   "mimetype": "text/x-python",
   "name": "python",
   "nbconvert_exporter": "python",
   "pygments_lexer": "ipython3",
   "version": "3.6.10"
  }
 },
 "nbformat": 4,
 "nbformat_minor": 2
}
