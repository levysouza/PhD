{
 "cells": [
  {
   "cell_type": "code",
   "execution_count": 1,
   "metadata": {},
   "outputs": [],
   "source": [
    "import numpy as np\n",
    "import pandas as pd\n",
    "from nltk.tokenize import TweetTokenizer\n",
    "import matplotlib.pyplot as plt\n",
    "from tqdm import tqdm"
   ]
  },
  {
   "cell_type": "code",
   "execution_count": 2,
   "metadata": {},
   "outputs": [],
   "source": [
    "raw_tables = pd.read_csv('../dataset/dataset_distinct_tables.csv', delimiter=',', header=None)"
   ]
  },
  {
   "cell_type": "code",
   "execution_count": 3,
   "metadata": {},
   "outputs": [],
   "source": [
    "data_tables = raw_tables.iloc[:,:].values"
   ]
  },
  {
   "cell_type": "code",
   "execution_count": 4,
   "metadata": {},
   "outputs": [
    {
     "name": "stdout",
     "output_type": "stream",
     "text": [
      "total of tables = 89936\n"
     ]
    }
   ],
   "source": [
    "print(\"total of tables = \"+str(len(data_tables)))"
   ]
  },
  {
   "cell_type": "code",
   "execution_count": 5,
   "metadata": {},
   "outputs": [
    {
     "name": "stderr",
     "output_type": "stream",
     "text": [
      "100%|██████████| 89936/89936 [00:06<00:00, 13307.35it/s]\n"
     ]
    }
   ],
   "source": [
    "title_lenght = []\n",
    "section_title_lenght = []\n",
    "caption_lenght = []\n",
    "header_lenght = []\n",
    "body_lenght = []\n",
    "catch_all_leght = []\n",
    "\n",
    "\n",
    "tknzr = TweetTokenizer()\n",
    "\n",
    "for tables in tqdm(data_tables):\n",
    "    \n",
    "    title = str(tables[1])    \n",
    "    section_title = str(tables[2])   \n",
    "    caption = str(tables[3])   \n",
    "    header = str(tables[4])   \n",
    "    body = str(tables[5])\n",
    "    catch_all = title +\" \"+section_title+\" \"+caption+\" \"+header+\"\"+body\n",
    "    \n",
    "    lenght_title = len(tknzr.tokenize(title))\n",
    "    lenght_section_title = len(tknzr.tokenize(section_title))\n",
    "    lenght_caption = len(tknzr.tokenize(caption))\n",
    "    lenght_header = len(tknzr.tokenize(header))\n",
    "    lenght_body = len(tknzr.tokenize(body))\n",
    "    lenght_catch_all = len(tknzr.tokenize(catch_all))\n",
    "    \n",
    "    title_lenght.append(lenght_title)\n",
    "    section_title_lenght.append(lenght_section_title)\n",
    "    caption_lenght.append(lenght_caption)\n",
    "    header_lenght.append(lenght_header)\n",
    "    body_lenght.append(lenght_body)\n",
    "    catch_all_leght.append(lenght_catch_all)"
   ]
  },
  {
   "cell_type": "markdown",
   "metadata": {},
   "source": [
    "# Table Title Analysis\n",
    "\n",
    "In the next code blocks we analyze the number of words in the table title"
   ]
  },
  {
   "cell_type": "code",
   "execution_count": 6,
   "metadata": {},
   "outputs": [
    {
     "name": "stdout",
     "output_type": "stream",
     "text": [
      "title analysis:\n",
      "max words = 34\n",
      "min words = 1\n",
      "avg words = 1.9324742038783134\n",
      "std words = 1.2534994417167467\n"
     ]
    }
   ],
   "source": [
    "print('title analysis:')\n",
    "print(\"max words = \"+str(np.max(title_lenght)))\n",
    "print(\"min words = \"+str(np.min(title_lenght)))\n",
    "print(\"avg words = \"+str(np.mean(title_lenght)))\n",
    "print(\"std words = \"+str(np.std(title_lenght)))"
   ]
  },
  {
   "cell_type": "code",
   "execution_count": 7,
   "metadata": {},
   "outputs": [
    {
     "data": {
      "image/png": "[encoded data removed]",
      "text/plain": [
       "<Figure size 432x288 with 1 Axes>"
      ]
     },
     "metadata": {
      "needs_background": "light"
     },
     "output_type": "display_data"
    }
   ],
   "source": [
    "plt.hist(title_lenght, range(0,25))\n",
    "plt.title('total of words in table title')\n",
    "plt.xlabel('total of words')\n",
    "plt.ylabel('total of articles (log)')\n",
    "plt.yscale('log')\n",
    "plt.savefig('table_title2.pdf')\n",
    "plt.show()"
   ]
  },
  {
   "cell_type": "markdown",
   "metadata": {},
   "source": [
    "# Table Section Title Analysis\n",
    "\n",
    "In the next code blocks we analyze the number of words in the table section title"
   ]
  },
  {
   "cell_type": "code",
   "execution_count": 9,
   "metadata": {},
   "outputs": [
    {
     "name": "stdout",
     "output_type": "stream",
     "text": [
      "section title analysis:\n",
      "max words = 22\n",
      "min words = 1\n",
      "avg words = 2.0242743303892663\n",
      "std words = 1.3003098872779655\n"
     ]
    }
   ],
   "source": [
    "print('section title analysis:')\n",
    "print(\"max words = \"+str(np.max(section_title_lenght)))\n",
    "print(\"min words = \"+str(np.min(section_title_lenght)))\n",
    "print(\"avg words = \"+str(np.mean(section_title_lenght)))\n",
    "print(\"std words = \"+str(np.std(section_title_lenght)))"
   ]
  },
  {
   "cell_type": "code",
   "execution_count": 10,
   "metadata": {},
   "outputs": [
    {
     "data": {
      "image/png": "[encoded data removed]",
      "text/plain": [
       "<Figure size 432x288 with 1 Axes>"
      ]
     },
     "metadata": {
      "needs_background": "light"
     },
     "output_type": "display_data"
    }
   ],
   "source": [
    "plt.hist(section_title_lenght, range(0,25))\n",
    "plt.title('total of words in table section title')\n",
    "plt.xlabel('total of words')\n",
    "plt.ylabel('total of articles (log)')\n",
    "plt.yscale('log')\n",
    "plt.show()"
   ]
  },
  {
   "cell_type": "markdown",
   "metadata": {},
   "source": [
    "# Table Caption Analysis\n",
    "\n",
    "In the next code blocks we analyze the number of words in the table caption"
   ]
  },
  {
   "cell_type": "code",
   "execution_count": 11,
   "metadata": {},
   "outputs": [
    {
     "name": "stdout",
     "output_type": "stream",
     "text": [
      "caption analysis:\n",
      "max words = 237\n",
      "min words = 1\n",
      "avg words = 2.2863922514918356\n",
      "std words = 2.002220073417482\n"
     ]
    }
   ],
   "source": [
    "print('caption analysis:')\n",
    "print(\"max words = \"+str(np.max(caption_lenght)))\n",
    "print(\"min words = \"+str(np.min(caption_lenght)))\n",
    "print(\"avg words = \"+str(np.mean(caption_lenght)))\n",
    "print(\"std words = \"+str(np.std(caption_lenght)))"
   ]
  },
  {
   "cell_type": "code",
   "execution_count": 12,
   "metadata": {},
   "outputs": [
    {
     "data": {
      "image/png": "[encoded data removed]",
      "text/plain": [
       "<Figure size 432x288 with 1 Axes>"
      ]
     },
     "metadata": {
      "needs_background": "light"
     },
     "output_type": "display_data"
    }
   ],
   "source": [
    "plt.hist(caption_lenght, range(0,25))\n",
    "plt.title('total of words in table caption')\n",
    "plt.xlabel('total of words')\n",
    "plt.ylabel('total of articles (log)')\n",
    "plt.yscale('log')\n",
    "plt.show()"
   ]
  },
  {
   "cell_type": "markdown",
   "metadata": {},
   "source": [
    "# Table Header Analysis\n",
    "\n",
    "In the next code blocks we analyze the number of words in the table header"
   ]
  },
  {
   "cell_type": "code",
   "execution_count": 13,
   "metadata": {},
   "outputs": [
    {
     "name": "stdout",
     "output_type": "stream",
     "text": [
      "header analysis:\n",
      "max words = 2996\n",
      "min words = 1\n",
      "avg words = 10.0039425287741\n",
      "std words = 19.168916009716803\n"
     ]
    }
   ],
   "source": [
    "print('header analysis:')\n",
    "print(\"max words = \"+str(np.max(header_lenght)))\n",
    "print(\"min words = \"+str(np.min(header_lenght)))\n",
    "print(\"avg words = \"+str(np.mean(header_lenght)))\n",
    "print(\"std words = \"+str(np.std(header_lenght)))"
   ]
  },
  {
   "cell_type": "code",
   "execution_count": 14,
   "metadata": {},
   "outputs": [
    {
     "data": {
      "image/png": "[encoded data removed]",
      "text/plain": [
       "<Figure size 432x288 with 1 Axes>"
      ]
     },
     "metadata": {
      "needs_background": "light"
     },
     "output_type": "display_data"
    }
   ],
   "source": [
    "plt.hist(header_lenght, range(0,30))\n",
    "plt.title('total of words in table header')\n",
    "plt.xlabel('total of words')\n",
    "plt.ylabel('total of articles (log)')\n",
    "plt.yscale('log')\n",
    "plt.show()"
   ]
  },
  {
   "cell_type": "markdown",
   "metadata": {},
   "source": [
    "# Table Body Analysis\n",
    "\n",
    "In the next code blocks we analyze the number of words in the table body"
   ]
  },
  {
   "cell_type": "code",
   "execution_count": 15,
   "metadata": {},
   "outputs": [
    {
     "name": "stdout",
     "output_type": "stream",
     "text": [
      "body analysis:\n",
      "max words = 102860\n",
      "min words = 1\n",
      "avg words = 211.99365781661552\n",
      "std words = 1000.0953496776812\n"
     ]
    }
   ],
   "source": [
    "print('body analysis:')\n",
    "print(\"max words = \"+str(np.max(body_lenght)))\n",
    "print(\"min words = \"+str(np.min(body_lenght)))\n",
    "print(\"avg words = \"+str(np.mean(body_lenght)))\n",
    "print(\"std words = \"+str(np.std(body_lenght)))"
   ]
  },
  {
   "cell_type": "code",
   "execution_count": 16,
   "metadata": {},
   "outputs": [
    {
     "data": {
      "image/png": "[encoded data removed]",
      "text/plain": [
       "<Figure size 432x288 with 1 Axes>"
      ]
     },
     "metadata": {
      "needs_background": "light"
     },
     "output_type": "display_data"
    }
   ],
   "source": [
    "plt.hist(body_lenght, range(0,1220))\n",
    "plt.title('total of words in table body')\n",
    "plt.xlabel('total of words')\n",
    "plt.ylabel('total of articles (log)')\n",
    "plt.yscale('log')\n",
    "plt.show()"
   ]
  },
  {
   "cell_type": "markdown",
   "metadata": {},
   "source": [
    "# Table Catch All Analysis\n",
    "\n",
    "In the next code blocks we analyze the number of words in the table catch all"
   ]
  },
  {
   "cell_type": "code",
   "execution_count": 6,
   "metadata": {},
   "outputs": [
    {
     "name": "stdout",
     "output_type": "stream",
     "text": [
      "catch all analysis:\n",
      "max words = 102886\n",
      "min words = 4\n",
      "avg words = 229.25350326145525\n",
      "std words = 1000.806808093378\n"
     ]
    }
   ],
   "source": [
    "print('catch all analysis:')\n",
    "print(\"max words = \"+str(np.max(catch_all_leght)))\n",
    "print(\"min words = \"+str(np.min(catch_all_leght)))\n",
    "print(\"avg words = \"+str(np.mean(catch_all_leght)))\n",
    "print(\"std words = \"+str(np.std(catch_all_leght)))"
   ]
  },
  {
   "cell_type": "code",
   "execution_count": null,
   "metadata": {},
   "outputs": [],
   "source": []
  },
  {
   "cell_type": "code",
   "execution_count": null,
   "metadata": {},
   "outputs": [],
   "source": []
  },
  {
   "cell_type": "code",
   "execution_count": null,
   "metadata": {},
   "outputs": [],
   "source": []
  },
  {
   "cell_type": "code",
   "execution_count": null,
   "metadata": {},
   "outputs": [],
   "source": [
    "#new tables analysis"
   ]
  },
  {
   "cell_type": "code",
   "execution_count": 2,
   "metadata": {},
   "outputs": [],
   "source": [
    "tables = pd.read_csv('../dataset/distinct_tables_allsignals.csv', delimiter=',')"
   ]
  },
  {
   "cell_type": "code",
   "execution_count": 3,
   "metadata": {},
   "outputs": [],
   "source": [
    "df_sample = tables.head(10)"
   ]
  },
  {
   "cell_type": "code",
   "execution_count": 4,
   "metadata": {},
   "outputs": [
    {
     "data": {
      "text/html": [
       "<div>\n",
       "<style scoped>\n",
       "    .dataframe tbody tr th:only-of-type {\n",
       "        vertical-align: middle;\n",
       "    }\n",
       "\n",
       "    .dataframe tbody tr th {\n",
       "        vertical-align: top;\n",
       "    }\n",
       "\n",
       "    .dataframe thead th {\n",
       "        text-align: right;\n",
       "    }\n",
       "</style>\n",
       "<table border=\"1\" class=\"dataframe\">\n",
       "  <thead>\n",
       "    <tr style=\"text-align: right;\">\n",
       "      <th></th>\n",
       "      <th>table_body</th>\n",
       "      <th>table_caption</th>\n",
       "      <th>table_header</th>\n",
       "      <th>table_id</th>\n",
       "      <th>table_page_full_text</th>\n",
       "      <th>table_page_keywords</th>\n",
       "      <th>table_page_meta_description</th>\n",
       "      <th>table_page_summary</th>\n",
       "      <th>table_page_title</th>\n",
       "      <th>table_section_title</th>\n",
       "      <th>table_url</th>\n",
       "    </tr>\n",
       "  </thead>\n",
       "  <tbody>\n",
       "    <tr>\n",
       "      <th>0</th>\n",
       "      <td>the planet earth forms accretion disc revolvin...</td>\n",
       "      <td>hadean eon</td>\n",
       "      <td>date event</td>\n",
       "      <td>10029</td>\n",
       "      <td>current scientific theory outlining major even...</td>\n",
       "      <td>history life earth ago timeline million eon ed...</td>\n",
       "      <td>NaN</td>\n",
       "      <td>current scientific theory outlining major even...</td>\n",
       "      <td>timeline evolutionary history life</td>\n",
       "      <td>hadean eon</td>\n",
       "      <td>https://en.wikipedia.org/wiki/Timeline_of_the_...</td>\n",
       "    </tr>\n",
       "  </tbody>\n",
       "</table>\n",
       "</div>"
      ],
      "text/plain": [
       "                                          table_body table_caption  \\\n",
       "0  the planet earth forms accretion disc revolvin...    hadean eon   \n",
       "\n",
       "  table_header  table_id                               table_page_full_text  \\\n",
       "0   date event     10029  current scientific theory outlining major even...   \n",
       "\n",
       "                                 table_page_keywords  \\\n",
       "0  history life earth ago timeline million eon ed...   \n",
       "\n",
       "   table_page_meta_description  \\\n",
       "0                          NaN   \n",
       "\n",
       "                                  table_page_summary  \\\n",
       "0  current scientific theory outlining major even...   \n",
       "\n",
       "                     table_page_title table_section_title  \\\n",
       "0  timeline evolutionary history life          hadean eon   \n",
       "\n",
       "                                           table_url  \n",
       "0  https://en.wikipedia.org/wiki/Timeline_of_the_...  "
      ]
     },
     "execution_count": 4,
     "metadata": {},
     "output_type": "execute_result"
    }
   ],
   "source": [
    "df_sample.head(1)"
   ]
  },
  {
   "cell_type": "code",
   "execution_count": 5,
   "metadata": {},
   "outputs": [],
   "source": [
    "df_sample.to_csv(\"sample_web_tables\", index=False)"
   ]
  },
  {
   "cell_type": "code",
   "execution_count": 7,
   "metadata": {},
   "outputs": [
    {
     "name": "stderr",
     "output_type": "stream",
     "text": [
      "85995it [00:24, 3440.37it/s]\n"
     ]
    }
   ],
   "source": [
    "title_lenght = []\n",
    "meta_description_lenght = []\n",
    "\n",
    "tknzr = TweetTokenizer()\n",
    "\n",
    "for i,row in tqdm(tables.iterrows()):\n",
    "    \n",
    "    title = str(row['table_page_title'])\n",
    "    meta_description = str(row['table_page_summary'])\n",
    "\n",
    "    \n",
    "    lenght_title = len(tknzr.tokenize(title))\n",
    "    lenght_meta_description = len(tknzr.tokenize(meta_description))\n",
    "    \n",
    "    \n",
    "    title_lenght.append(lenght_title)\n",
    "    meta_description_lenght.append(lenght_meta_description)"
   ]
  },
  {
   "cell_type": "code",
   "execution_count": 8,
   "metadata": {},
   "outputs": [
    {
     "name": "stdout",
     "output_type": "stream",
     "text": [
      "title analysis:\n",
      "max words = 13\n",
      "min words = 1\n",
      "avg words = 2.9389848246991104\n",
      "std words = 1.3568433719434725\n"
     ]
    }
   ],
   "source": [
    "print('title analysis:')\n",
    "print(\"max words = \"+str(np.max(title_lenght)))\n",
    "print(\"min words = \"+str(np.min(title_lenght)))\n",
    "print(\"avg words = \"+str(np.mean(title_lenght)))\n",
    "print(\"std words = \"+str(np.std(title_lenght)))"
   ]
  },
  {
   "cell_type": "code",
   "execution_count": 9,
   "metadata": {},
   "outputs": [
    {
     "name": "stdout",
     "output_type": "stream",
     "text": [
      "meta description analysis:\n",
      "max words = 674\n",
      "min words = 1\n",
      "avg words = 78.49880807023663\n",
      "std words = 40.76460323189237\n"
     ]
    }
   ],
   "source": [
    "print('meta description analysis:')\n",
    "print(\"max words = \"+str(np.max(meta_description_lenght)))\n",
    "print(\"min words = \"+str(np.min(meta_description_lenght)))\n",
    "print(\"avg words = \"+str(np.mean(meta_description_lenght)))\n",
    "print(\"std words = \"+str(np.std(meta_description_lenght)))"
   ]
  }
 ],
 "metadata": {
  "kernelspec": {
   "display_name": "Python 3",
   "language": "python",
   "name": "python3"
  },
  "language_info": {
   "codemirror_mode": {
    "name": "ipython",
    "version": 3
   },
   "file_extension": ".py",
   "mimetype": "text/x-python",
   "name": "python",
   "nbconvert_exporter": "python",
   "pygments_lexer": "ipython3",
   "version": "3.7.3"
  }
 },
 "nbformat": 4,
 "nbformat_minor": 2
}
