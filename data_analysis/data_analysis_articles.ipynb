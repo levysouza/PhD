{
 "cells": [
  {
   "cell_type": "code",
   "execution_count": 1,
   "metadata": {},
   "outputs": [],
   "source": [
    "import numpy as np\n",
    "import pandas as pd\n",
    "from nltk.tokenize import TweetTokenizer\n",
    "import matplotlib.pyplot as plt\n",
    "from tqdm import tqdm"
   ]
  },
  {
   "cell_type": "code",
   "execution_count": 2,
   "metadata": {},
   "outputs": [],
   "source": [
    "raw_articles = pd.read_csv('../articlesDataset/articlesPlusTitle', delimiter=',', header=None)"
   ]
  },
  {
   "cell_type": "code",
   "execution_count": 3,
   "metadata": {},
   "outputs": [],
   "source": [
    "data_articles = raw_articles.iloc[:,:].values"
   ]
  },
  {
   "cell_type": "code",
   "execution_count": 4,
   "metadata": {},
   "outputs": [
    {
     "name": "stdout",
     "output_type": "stream",
     "text": [
      "total of articles = 202253\n"
     ]
    }
   ],
   "source": [
    "print(\"total of articles = \"+str(len(data_articles)))"
   ]
  },
  {
   "cell_type": "code",
   "execution_count": null,
   "metadata": {},
   "outputs": [
    {
     "name": "stderr",
     "output_type": "stream",
     "text": [
      " 38%|███▊      | 77792/202253 [06:27<13:02, 159.08it/s]"
     ]
    }
   ],
   "source": [
    "title_lenght = []\n",
    "text_lenght = []\n",
    "\n",
    "tknzr = TweetTokenizer()\n",
    "\n",
    "for articles in tqdm(data_articles):\n",
    "    \n",
    "    title = str(articles[1])\n",
    "    text = str(articles[2])\n",
    "    \n",
    "    lenght_title = len(tknzr.tokenize(title))\n",
    "    lenght_text = len(tknzr.tokenize(text))\n",
    "    \n",
    "    title_lenght.append(lenght_title)\n",
    "    text_lenght.append(lenght_text)"
   ]
  },
  {
   "cell_type": "markdown",
   "metadata": {},
   "source": [
    "# Article Title Analysis\n",
    "\n",
    "In the next code blocks we analyze the number of word in the article title"
   ]
  },
  {
   "cell_type": "code",
   "execution_count": null,
   "metadata": {},
   "outputs": [],
   "source": [
    "print('title analysis:')\n",
    "print(\"max words = \"+str(np.max(title_lenght)))\n",
    "print(\"min words = \"+str(np.min(title_lenght)))\n",
    "print(\"avg words = \"+str(np.mean(title_lenght)))\n",
    "print(\"std words = \"+str(np.std(title_lenght)))"
   ]
  },
  {
   "cell_type": "code",
   "execution_count": null,
   "metadata": {},
   "outputs": [],
   "source": [
    "plt.hist(title_lenght, range(0,742))\n",
    "plt.title('total of words in articles title')\n",
    "plt.xlabel('total of words')\n",
    "plt.ylabel('total of articles (log)')\n",
    "plt.yscale('log')\n",
    "plt.show()"
   ]
  },
  {
   "cell_type": "code",
   "execution_count": null,
   "metadata": {},
   "outputs": [],
   "source": [
    "plt.hist(title_lenght, range(0,145))\n",
    "plt.title('total of words in articles title')\n",
    "plt.xlabel('total of words')\n",
    "plt.ylabel('total of articles (log)')\n",
    "plt.yscale('log')\n",
    "plt.show()"
   ]
  },
  {
   "cell_type": "markdown",
   "metadata": {},
   "source": [
    "# Article Text Analysis\n",
    "\n",
    "In the next code blocks we analyze the number of word in the article text"
   ]
  },
  {
   "cell_type": "code",
   "execution_count": null,
   "metadata": {},
   "outputs": [],
   "source": [
    "print('text analysis:')\n",
    "print(\"max words = \"+str(np.max(text_lenght)))\n",
    "print(\"min words = \"+str(np.min(text_lenght)))\n",
    "print(\"avg words = \"+str(np.mean(text_lenght)))\n",
    "print(\"std words = \"+str(np.std(text_lenght)))"
   ]
  },
  {
   "cell_type": "code",
   "execution_count": null,
   "metadata": {},
   "outputs": [],
   "source": [
    "plt.hist(text_lenght, range(0,1000))\n",
    "plt.title('total of words in articles text')\n",
    "plt.xlabel('total of words')\n",
    "plt.ylabel('total of articles (log)')\n",
    "plt.yscale('log')\n",
    "plt.show()"
   ]
  }
 ],
 "metadata": {
  "kernelspec": {
   "display_name": "Python 3",
   "language": "python",
   "name": "python3"
  },
  "language_info": {
   "codemirror_mode": {
    "name": "ipython",
    "version": 3
   },
   "file_extension": ".py",
   "mimetype": "text/x-python",
   "name": "python",
   "nbconvert_exporter": "python",
   "pygments_lexer": "ipython3",
   "version": "3.7.3"
  }
 },
 "nbformat": 4,
 "nbformat_minor": 2
}
