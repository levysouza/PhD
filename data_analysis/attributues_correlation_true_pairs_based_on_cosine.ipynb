{
 "cells": [
  {
   "cell_type": "code",
   "execution_count": 1,
   "metadata": {},
   "outputs": [],
   "source": [
    "import numpy as np\n",
    "import pandas as pd\n",
    "from nltk.tokenize import TweetTokenizer\n",
    "import matplotlib.pyplot as plt\n",
    "from tqdm import tqdm\n",
    "import csv\n",
    "import textdistance"
   ]
  },
  {
   "cell_type": "code",
   "execution_count": 2,
   "metadata": {},
   "outputs": [],
   "source": [
    "true_pair = pd.read_csv('../train_data/true_pairs_by_cosine_070_title_main_passage_keywords.csv', delimiter=',')"
   ]
  },
  {
   "cell_type": "code",
   "execution_count": 3,
   "metadata": {},
   "outputs": [
    {
     "name": "stdout",
     "output_type": "stream",
     "text": [
      "<class 'pandas.core.frame.DataFrame'>\n",
      "RangeIndex: 94167 entries, 0 to 94166\n",
      "Data columns (total 9 columns):\n",
      "article_id                  94167 non-null int64\n",
      "article_keywords            94167 non-null object\n",
      "article_meta_description    94167 non-null object\n",
      "article_page_title          94167 non-null object\n",
      "label                       94167 non-null int64\n",
      "table_id                    94167 non-null int64\n",
      "table_page_keywords         94166 non-null object\n",
      "table_page_summary          94021 non-null object\n",
      "table_page_title            94167 non-null object\n",
      "dtypes: int64(3), object(6)\n",
      "memory usage: 6.5+ MB\n"
     ]
    }
   ],
   "source": [
    "true_pair.info()"
   ]
  },
  {
   "cell_type": "code",
   "execution_count": 4,
   "metadata": {},
   "outputs": [
    {
     "name": "stderr",
     "output_type": "stream",
     "text": [
      "94167it [01:00, 1567.13it/s]\n"
     ]
    }
   ],
   "source": [
    "#first attribute for articles: article title\n",
    "ATitle_TTitle_distance = []\n",
    "ATitle_TSummary_distance = []\n",
    "ATitle_TKeywords_distance = []\n",
    "\n",
    "#second attribute for articles: article summary\n",
    "\n",
    "ASummary_TTitle_distance = []\n",
    "ASummary_TSummary_distance = []\n",
    "ASummary_TKeywords_distance = []\n",
    "\n",
    "#third attribute for articles: article keywords\n",
    "\n",
    "AKeywords_TTitle_distance = []\n",
    "AKeywords_TSummary_distance = []\n",
    "AKeywords_TKeywords_distance = []\n",
    "\n",
    "for i, row in tqdm(true_pair.iterrows()):\n",
    "    \n",
    "    article_page_title = str(row['article_page_title'])\n",
    "    article_page_summary = str(row['article_meta_description'])\n",
    "    article_page_keywords = str(row['article_keywords'])\n",
    "    \n",
    "    table_page_title = str(row['table_page_title'])\n",
    "    table_page_summary = str(row['table_page_summary'])\n",
    "    table_page_keywords = str(row['table_page_title'])\n",
    "    \n",
    "    #first attribute of artcle: article title\n",
    "    \n",
    "    similarity1 = textdistance.jaccard.normalized_similarity(article_page_title,table_page_title)\n",
    "    ATitle_TTitle_distance.append(similarity1)\n",
    "    \n",
    "    similarity2 = textdistance.jaccard.normalized_similarity(article_page_title,table_page_summary)\n",
    "    ATitle_TSummary_distance.append(similarity2)\n",
    "    \n",
    "    similarity3 = textdistance.jaccard.normalized_similarity(article_page_title,table_page_keywords)\n",
    "    ATitle_TKeywords_distance.append(similarity3)\n",
    "    \n",
    "    #second attribute of article: article summary\n",
    "    \n",
    "    similarity4 = textdistance.jaccard.normalized_similarity(article_page_summary,table_page_title)\n",
    "    ASummary_TTitle_distance.append(similarity4)\n",
    "    \n",
    "    similarity5 = textdistance.jaccard.normalized_similarity(article_page_summary,table_page_summary)\n",
    "    ASummary_TSummary_distance.append(similarity5)\n",
    "    \n",
    "    similarity6 = textdistance.jaccard.normalized_similarity(article_page_summary,table_page_keywords)\n",
    "    ASummary_TKeywords_distance.append(similarity6)\n",
    "    \n",
    "    #third attribute of article: article keywords\n",
    "    \n",
    "    similarity7 = textdistance.jaccard.normalized_similarity(article_page_keywords,table_page_title)\n",
    "    AKeywords_TTitle_distance.append(similarity7)\n",
    "    \n",
    "    similarity8 = textdistance.jaccard.normalized_similarity(article_page_keywords,table_page_summary)\n",
    "    AKeywords_TSummary_distance.append(similarity8)\n",
    "    \n",
    "    similarity9 = textdistance.jaccard.normalized_similarity(article_page_keywords,table_page_keywords)\n",
    "    AKeywords_TKeywords_distance.append(similarity9)"
   ]
  },
  {
   "cell_type": "code",
   "execution_count": 5,
   "metadata": {},
   "outputs": [],
   "source": [
    "#first attribute for article: article title\n",
    "\n",
    "mean_ATitle_TTitle = np.mean(ATitle_TTitle_distance)\n",
    "mean_ATitle_TSummary = np.mean(ATitle_TSummary_distance)\n",
    "mean_ATitle_TKeywords = np.mean(ATitle_TKeywords_distance)\n",
    "\n",
    "#second attribute for article: article summary\n",
    "\n",
    "mean_ASummary_TTitle = np.mean(ASummary_TTitle_distance)\n",
    "mean_ASummary_TSummary = np.mean(ASummary_TSummary_distance)\n",
    "mean_ASummary_TKeywords = np.mean(ASummary_TKeywords_distance)\n",
    "\n",
    "#third attribute for article: article summary\n",
    "\n",
    "mean_AKeywords_TTitle = np.mean(AKeywords_TTitle_distance)\n",
    "mean_AKeywords_TSummary = np.mean(AKeywords_TSummary_distance)\n",
    "mean_AKeywords_TKeywords = np.mean(AKeywords_TKeywords_distance)"
   ]
  },
  {
   "cell_type": "code",
   "execution_count": 6,
   "metadata": {},
   "outputs": [
    {
     "name": "stdout",
     "output_type": "stream",
     "text": [
      "article title and table title =  0.35356259409254737\n",
      "article title and table summary =  0.08718879559620656\n",
      "article title and table keywords =  0.35356259409254737\n"
     ]
    }
   ],
   "source": [
    "print(\"article title and table title = \",mean_ATitle_TTitle)\n",
    "print(\"article title and table summary = \",mean_ATitle_TSummary)\n",
    "print(\"article title and table keywords = \",mean_ATitle_TKeywords)"
   ]
  },
  {
   "cell_type": "code",
   "execution_count": 7,
   "metadata": {},
   "outputs": [
    {
     "name": "stdout",
     "output_type": "stream",
     "text": [
      "article summary and table title =  0.17247672239442843\n",
      "article summary and table summary =  0.22850169376579182\n",
      "article summary and table keywords =  0.17247672239442843\n"
     ]
    }
   ],
   "source": [
    "print(\"article summary and table title = \",mean_ASummary_TTitle)\n",
    "print(\"article summary and table summary = \",mean_ASummary_TSummary)\n",
    "print(\"article summary and table keywords = \",mean_ASummary_TKeywords)"
   ]
  },
  {
   "cell_type": "code",
   "execution_count": 8,
   "metadata": {},
   "outputs": [
    {
     "name": "stdout",
     "output_type": "stream",
     "text": [
      "article keywords and table title =  0.18860886794221646\n",
      "article keywords and table summary =  0.18000225885463056\n",
      "article keywords and table keywords =  0.18860886794221646\n"
     ]
    }
   ],
   "source": [
    "print(\"article keywords and table title = \",mean_AKeywords_TTitle)\n",
    "print(\"article keywords and table summary = \",mean_AKeywords_TSummary)\n",
    "print(\"article keywords and table keywords = \",mean_AKeywords_TKeywords)"
   ]
  },
  {
   "cell_type": "code",
   "execution_count": 2,
   "metadata": {},
   "outputs": [],
   "source": [
    "result_matrix = [[0.35356259409254737,0.08718879559620656,0.35356259409254737],\n",
    "                 [0.17247672239442843,0.22850169376579182,0.17247672239442843],\n",
    "                 [0.18860886794221646,0.18000225885463056,0.18860886794221646]]"
   ]
  },
  {
   "cell_type": "code",
   "execution_count": 3,
   "metadata": {},
   "outputs": [
    {
     "data": {
      "text/plain": [
       "[[0.35356259409254737, 0.08718879559620656, 0.35356259409254737],\n",
       " [0.17247672239442843, 0.22850169376579182, 0.17247672239442843],\n",
       " [0.18860886794221646, 0.18000225885463056, 0.18860886794221646]]"
      ]
     },
     "execution_count": 3,
     "metadata": {},
     "output_type": "execute_result"
    }
   ],
   "source": [
    "result_matrix"
   ]
  },
  {
   "cell_type": "code",
   "execution_count": 4,
   "metadata": {},
   "outputs": [
    {
     "data": {
      "image/png": "[encoded data removed]",
      "text/plain": [
       "<Figure size 648x360 with 2 Axes>"
      ]
     },
     "metadata": {
      "needs_background": "light"
     },
     "output_type": "display_data"
    }
   ],
   "source": [
    "import seaborn as sns\n",
    "import matplotlib.pyplot as plt\n",
    "\n",
    "   \n",
    "plt.figure(figsize=(9,5))\n",
    "\n",
    "idx= ['Title','Summary','Keywords']\n",
    "cols = ['Title','Summary','Keywords']\n",
    "df = pd.DataFrame(result_matrix, index=idx, columns=cols)\n",
    "\n",
    "# _r reverses the normal order of the color map 'RdYlGn'\n",
    "heatmap = sns.heatmap(df, cmap='YlGnBu', linewidths=0.1, annot=True)\n",
    "heatmap.set_yticklabels(idx,rotation=0)\n",
    "\n",
    "\n",
    "plt.title('Jaccard Correlation Between Article and Table Signals \\n True Pairs Based on Cosine', fontsize = 12, weight='bold')\n",
    "plt.xlabel('Table Signals',weight='bold')\n",
    "plt.ylabel('Article Signals',weight='bold')\n",
    "plt.tight_layout()\n",
    "plt.savefig('jaccard_correlation_true_pairs_based_on_cosine.pdf')\n",
    "plt.show(heatmap)\n",
    "\n"
   ]
  },
  {
   "cell_type": "code",
   "execution_count": null,
   "metadata": {},
   "outputs": [],
   "source": []
  }
 ],
 "metadata": {
  "kernelspec": {
   "display_name": "Python 3",
   "language": "python",
   "name": "python3"
  },
  "language_info": {
   "codemirror_mode": {
    "name": "ipython",
    "version": 3
   },
   "file_extension": ".py",
   "mimetype": "text/x-python",
   "name": "python",
   "nbconvert_exporter": "python",
   "pygments_lexer": "ipython3",
   "version": "3.7.3"
  }
 },
 "nbformat": 4,
 "nbformat_minor": 2
}
