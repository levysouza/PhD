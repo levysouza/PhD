{
 "cells": [
  {
   "cell_type": "code",
   "execution_count": 1,
   "metadata": {},
   "outputs": [],
   "source": [
    "from tqdm import tqdm\n",
    "import numpy as np\n",
    "import pandas as pd"
   ]
  },
  {
   "cell_type": "code",
   "execution_count": 2,
   "metadata": {},
   "outputs": [],
   "source": [
    "read = pd.read_csv('../dataset/articlesLinks', delimiter=',', header=None)\n",
    "article_links = read.iloc[:,:].values"
   ]
  },
  {
   "cell_type": "code",
   "execution_count": 27,
   "metadata": {},
   "outputs": [
    {
     "name": "stdout",
     "output_type": "stream",
     "text": [
      "http://web.archive.org/web/20151222102311/http://nzhoops.co.nz/jeremy-kench-retires-from-nbl/\n",
      "http://web.archive.org/web/20141206213441/http://nzhoops.co.nz/rams-make-four-signings/\n",
      "http://web.archive.org/web/20131212171358/http://nzhoops.co.nz/rams-sign-local-trio/\n",
      "http://www.stuff.co.nz/sport/basketball/75087151/former-tall-black-jeremy-kench-retires-from-national-basketball-league-after-12-years\n",
      "http://www.stuff.co.nz/sport/basketball/9461579/Harrison-targets-defence-as-key-for-new-Rams\n",
      "http://www.stuff.co.nz/sport/basketball/9892226/Canterbury-s-Kench-fired-up-for-Rams-return/\n"
     ]
    }
   ],
   "source": [
    "for i in article_links:\n",
    "    if i[0] == 5362351:\n",
    "        print(i[1])"
   ]
  },
  {
   "cell_type": "code",
   "execution_count": 5,
   "metadata": {},
   "outputs": [],
   "source": [
    "read_file = pd.read_csv('../dataset/new_train_dataset_1_5', delimiter=',', header=None)\n",
    "train_dataset = read_file.iloc[:,:].values"
   ]
  },
  {
   "cell_type": "code",
   "execution_count": null,
   "metadata": {},
   "outputs": [],
   "source": []
  },
  {
   "cell_type": "code",
   "execution_count": 26,
   "metadata": {},
   "outputs": [
    {
     "name": "stdout",
     "output_type": "stream",
     "text": [
      "\n",
      "5362351\n",
      "canterbury kench fired rams return\n",
      "jeremy kench\n",
      "\n",
      "14229697\n",
      "colombian named world shortest man\n",
      "list shortest people\n",
      "\n",
      "24399615\n",
      "tory complaint russell howard jibes rejected bbc trust\n",
      "russell howard good news\n",
      "\n",
      "40613204\n",
      "jason byrne father figure something mystifying misfire\n",
      "father figure series\n",
      "\n",
      "327950\n",
      "university alabama sorority reportedly bribes members vote local school board election\n",
      "university alabama\n",
      "\n",
      "6643169\n",
      "interview michael coulson signing boro\n",
      "michael coulson footballer\n",
      "\n",
      "2067512\n",
      "obituary don porter\n",
      "don porter\n",
      "\n",
      "410128\n",
      "colorado mark udall winning voters feet\n",
      "mark udall\n",
      "\n",
      "33643139\n",
      "album ane brun all starts one balloon ranger\n",
      "all starts one\n",
      "\n",
      "12537\n",
      "protesters gather guangzhou protect cantonese language\n",
      "guangzhou\n",
      "\n",
      "32272314\n",
      "reo coker west ham fans want club\n",
      "west ham united supporters\n",
      "\n",
      "8163836\n",
      "league spitting controversy avraam papadopoulos matt simon\n",
      "avraam papadopoulos\n"
     ]
    }
   ],
   "source": [
    "for data in train_dataset[100:200]:\n",
    "    if data[4] == 1:\n",
    "        print(\"\")\n",
    "        print(data[0])\n",
    "        print(data[1])\n",
    "        print(data[3])"
   ]
  }
 ],
 "metadata": {
  "kernelspec": {
   "display_name": "Python 3",
   "language": "python",
   "name": "python3"
  },
  "language_info": {
   "codemirror_mode": {
    "name": "ipython",
    "version": 3
   },
   "file_extension": ".py",
   "mimetype": "text/x-python",
   "name": "python",
   "nbconvert_exporter": "python",
   "pygments_lexer": "ipython3",
   "version": "3.7.3"
  }
 },
 "nbformat": 4,
 "nbformat_minor": 2
}
