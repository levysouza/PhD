{
 "cells": [
  {
   "cell_type": "code",
   "execution_count": null,
   "metadata": {},
   "outputs": [],
   "source": [
    "import warnings\n",
    "import numpy as np\n",
    "import pandas as pd\n",
    "from sklearn.model_selection import train_test_split\n",
    "import gensim as gs\n",
    "from tqdm import tqdm\n",
    "import tensorflow as tf\n",
    "import matplotlib.pyplot as plt\n",
    "from nltk.tokenize import TweetTokenizer\n",
    "tknzr = TweetTokenizer()\n",
    "from sklearn.metrics import accuracy_score, precision_score, recall_score, f1_score\n",
    "warnings.filterwarnings('ignore')\n",
    "import fasttext"
   ]
  },
  {
   "cell_type": "code",
   "execution_count": null,
   "metadata": {},
   "outputs": [],
   "source": [
    "train_dataset = pd.read_csv('../train_data/train_data_1_1', delimiter=',')\n",
    "validation_dataset = pd.read_csv('../train_data/validation_data_1_1', delimiter=',')"
   ]
  },
  {
   "cell_type": "code",
   "execution_count": null,
   "metadata": {},
   "outputs": [],
   "source": []
  },
  {
   "cell_type": "code",
   "execution_count": null,
   "metadata": {},
   "outputs": [],
   "source": [
    "embedding_model = gs.models.FastText.load('../train_embedding_models/fasttext_embedding_50d_all_signals')"
   ]
  },
  {
   "cell_type": "code",
   "execution_count": null,
   "metadata": {},
   "outputs": [],
   "source": []
  },
  {
   "cell_type": "code",
   "execution_count": null,
   "metadata": {},
   "outputs": [],
   "source": [
    "MAX_PAD_TITLE = 55\n",
    "\n",
    "def sequence_padding(X_DIM, value):\n",
    "    \n",
    "    value_padding = np.pad(value, ((0,MAX_PAD_TITLE - X_DIM),(0,0)), 'constant')\n",
    "    \n",
    "    return value_padding"
   ]
  },
  {
   "cell_type": "code",
   "execution_count": null,
   "metadata": {},
   "outputs": [],
   "source": [
    "def create_embedding(value):\n",
    "\n",
    "    value = tknzr.tokenize(str(value))\n",
    "    \n",
    "    if len(value) < MAX_PAD_TITLE:\n",
    "        \n",
    "        embedding = embedding_model.wv[value]\n",
    "        embedding = embedding.astype('float16')\n",
    "        \n",
    "        padding_embedding = sequence_padding(embedding.shape[0],embedding)\n",
    "        \n",
    "        return padding_embedding\n",
    "        \n",
    "    else:\n",
    "        \n",
    "        embedding = embedding_model.wv[value[0:MAX_PAD_TITLE]]\n",
    "        embedding = embedding.astype('float16')\n",
    "        \n",
    "        return embedding"
   ]
  },
  {
   "cell_type": "code",
   "execution_count": null,
   "metadata": {},
   "outputs": [],
   "source": []
  },
  {
   "cell_type": "code",
   "execution_count": null,
   "metadata": {},
   "outputs": [],
   "source": []
  },
  {
   "cell_type": "code",
   "execution_count": null,
   "metadata": {},
   "outputs": [],
   "source": [
    "train_article_title = []\n",
    "train_article_main_passage = []\n",
    "train_article_keywords = []\n",
    "\n",
    "train_table_title = []\n",
    "train_table_main_passage = []\n",
    "train_table_keywords = []\n",
    "\n",
    "train_label = []\n",
    "\n",
    "for i,row in tqdm(train_dataset.iterrows()):\n",
    "    \n",
    "    train_article_title.append(create_embedding(row['article_page_title']))\n",
    "    train_table_title.append(create_embedding(row['table_page_title']))    \n",
    "    \n",
    "    train_article_main_passage.append(create_embedding(row['article_meta_description']))\n",
    "    train_table_main_passage.append(create_embedding(row['table_page_summary']))\n",
    "    \n",
    "    train_article_keywords.append(create_embedding(row['article_keywords']))\n",
    "    train_table_keywords.append(create_embedding(row['table_page_keywords']))  \n",
    "    \n",
    "    train_label.append(row['label'])"
   ]
  },
  {
   "cell_type": "code",
   "execution_count": null,
   "metadata": {},
   "outputs": [],
   "source": [
    "train_article_title = np.array(train_article_title, dtype='float16')\n",
    "train_table_title = np.array(train_table_title, dtype='float16')\n",
    "\n",
    "train_article_main_passage = np.array(train_article_main_passage, dtype='float16')\n",
    "train_table_main_passage = np.array(train_table_main_passage, dtype='float16')\n",
    "\n",
    "train_article_keywords = np.array(train_article_keywords, dtype='float16')\n",
    "train_table_keywords = np.array(train_table_keywords, dtype='float16')\n",
    "\n",
    "train_label = np.array(train_label)"
   ]
  },
  {
   "cell_type": "code",
   "execution_count": null,
   "metadata": {},
   "outputs": [],
   "source": [
    "train_article_main_passage.shape"
   ]
  },
  {
   "cell_type": "code",
   "execution_count": null,
   "metadata": {},
   "outputs": [],
   "source": []
  },
  {
   "cell_type": "code",
   "execution_count": null,
   "metadata": {},
   "outputs": [],
   "source": [
    "validation_article_title = []\n",
    "validation_article_main_passage = []\n",
    "validation_article_keywords = []\n",
    "\n",
    "validation_table_title = []\n",
    "validation_table_main_passage = []\n",
    "validation_table_keywords = []\n",
    "\n",
    "validation_label = []\n",
    "\n",
    "for i, row in tqdm(validation_dataset.iterrows()):\n",
    "    \n",
    "    validation_article_title.append(create_embedding(row['article_page_title']))\n",
    "    validation_table_title.append(create_embedding(row['table_page_title']))  \n",
    "    \n",
    "    validation_article_main_passage.append(create_embedding(row['article_meta_description']))\n",
    "    validation_table_main_passage.append(create_embedding(row['table_page_summary']))\n",
    "    \n",
    "    validation_article_keywords.append(create_embedding(row['article_keywords']))\n",
    "    validation_table_keywords.append(create_embedding(row['table_page_keywords'])) \n",
    "    \n",
    "    validation_label.append(row['label'])"
   ]
  },
  {
   "cell_type": "code",
   "execution_count": null,
   "metadata": {},
   "outputs": [],
   "source": [
    "validation_article_title = np.array(validation_article_title)\n",
    "validation_article_main_passage = np.array(validation_article_main_passage)\n",
    "\n",
    "validation_table_title = np.array(validation_table_title)\n",
    "validation_table_main_passage = np.array(validation_table_main_passage)\n",
    "\n",
    "validation_article_keywords = np.array(validation_article_keywords)\n",
    "validation_table_keywords = np.array(validation_table_keywords)\n",
    "\n",
    "validation_label = np.array(validation_label)"
   ]
  },
  {
   "cell_type": "code",
   "execution_count": null,
   "metadata": {},
   "outputs": [],
   "source": [
    "validation_article_keywords.shape"
   ]
  },
  {
   "cell_type": "code",
   "execution_count": null,
   "metadata": {},
   "outputs": [],
   "source": []
  },
  {
   "cell_type": "code",
   "execution_count": null,
   "metadata": {},
   "outputs": [],
   "source": [
    "def attention_method(query, key, value):\n",
    "    \n",
    "    scores = tf.matmul(query, key, transpose_b=True)\n",
    "    \n",
    "    distribution = tf.nn.softmax(scores)\n",
    "    \n",
    "    attention_matrix = tf.matmul(distribution, value)\n",
    "    \n",
    "    return attention_matrix"
   ]
  },
  {
   "cell_type": "code",
   "execution_count": null,
   "metadata": {},
   "outputs": [],
   "source": []
  },
  {
   "cell_type": "code",
   "execution_count": null,
   "metadata": {},
   "outputs": [],
   "source": [
    "def attention_model():\n",
    "    \n",
    "    # inputs\n",
    "    article_title = tf.keras.Input(shape=(55,50), dtype='float32')\n",
    "    article_main_passage = tf.keras.Input(shape=(55,50), dtype='float32')\n",
    "    article_keywords = tf.keras.Input(shape=(55,50), dtype='float32')\n",
    "    \n",
    "    table_title = tf.keras.Input(shape=(55,50), dtype='float32')\n",
    "    table_main_passage = tf.keras.Input(shape=(55,50), dtype='float32')\n",
    "    table_keywords = tf.keras.Input(shape=(55,50), dtype='float32')\n",
    "    \n",
    "    # article and tables signal representations\n",
    "    rep_article_title = tf.keras.layers.Bidirectional(tf.keras.layers.GRU(32, return_sequences=True))(article_title)\n",
    "    rep_article_text = tf.keras.layers.Bidirectional(tf.keras.layers.GRU(32, return_sequences=True))(article_main_passage)\n",
    "    rep_article_keywords = tf.keras.layers.Bidirectional(tf.keras.layers.GRU(32, return_sequences=True))(article_keywords)\n",
    "    \n",
    "    rep_table_title = tf.keras.layers.Bidirectional(tf.keras.layers.GRU(32, return_sequences=True))(table_title)\n",
    "    rep_table_text = tf.keras.layers.Bidirectional(tf.keras.layers.GRU(32, return_sequences=True))(table_main_passage)\n",
    "    rep_table_keywords = tf.keras.layers.Bidirectional(tf.keras.layers.GRU(32, return_sequences=True))(table_keywords)\n",
    "    \n",
    "    \n",
    "    #level 1 first signal of article\n",
    "    #attention article title and table title\n",
    "    att_A_title_T_title = attention_method(rep_article_title,rep_table_title,rep_article_title)\n",
    "    rep_att_A_title_T_title = tf.keras.layers.Bidirectional(tf.keras.layers.GRU(32, return_sequences=True))(att_A_title_T_title)\n",
    "    vector_A_title_T_title = tf.keras.layers.Flatten()(rep_att_A_title_T_title)\n",
    "    \n",
    "    #attention article title and table text\n",
    "    att_A_title_T_text = attention_method(rep_article_title,rep_table_text,rep_article_title)\n",
    "    rep_att_A_title_T_text = tf.keras.layers.Bidirectional(tf.keras.layers.GRU(32, return_sequences=True))(att_A_title_T_text)\n",
    "    vector_A_title_T_text = tf.keras.layers.Flatten()(rep_att_A_title_T_text)\n",
    "    \n",
    "    #attention article title and table keywords\n",
    "    att_A_title_T_keywords = attention_method(rep_article_title,rep_table_keywords,rep_article_title)\n",
    "    rep_att_A_title_T_keywords = tf.keras.layers.Bidirectional(tf.keras.layers.GRU(32, return_sequences=True))(att_A_title_T_keywords)\n",
    "    vector_A_title_T_keywords = tf.keras.layers.Flatten()(rep_att_A_title_T_keywords)\n",
    "    \n",
    "    \n",
    "    \n",
    "    #level 2 second signal of article\n",
    "    #attention article text and table title\n",
    "    att_A_text_T_title = attention_method(rep_article_text,rep_table_title,rep_article_text)\n",
    "    rep_att_A_text_T_title = tf.keras.layers.Bidirectional(tf.keras.layers.GRU(32, return_sequences=True))(att_A_text_T_title)\n",
    "    vector_A_text_T_title = tf.keras.layers.Flatten()(rep_att_A_text_T_title)\n",
    "    \n",
    "    #attention article text and table text\n",
    "    att_A_text_T_text = attention_method(rep_article_text,rep_table_text,rep_article_text)\n",
    "    rep_att_A_text_T_text = tf.keras.layers.Bidirectional(tf.keras.layers.GRU(32, return_sequences=True))(att_A_text_T_text)\n",
    "    vector_A_text_T_text = tf.keras.layers.Flatten()(rep_att_A_text_T_text)\n",
    "    \n",
    "    #attention article text and table keywords\n",
    "    att_A_text_T_keywords = attention_method(rep_article_text,rep_table_keywords,rep_article_text)\n",
    "    rep_att_A_text_T_keywords = tf.keras.layers.Bidirectional(tf.keras.layers.GRU(32, return_sequences=True))(att_A_text_T_keywords)\n",
    "    vector_A_text_T_keywords = tf.keras.layers.Flatten()(rep_att_A_text_T_keywords)\n",
    "    \n",
    "    \n",
    "\n",
    "    #level 3 third signal of article\n",
    "    #attention article keywords and table title\n",
    "    att_A_keywords_T_title = attention_method(rep_article_keywords,rep_table_title,rep_article_keywords)\n",
    "    rep_att_A_keywords_T_title = tf.keras.layers.Bidirectional(tf.keras.layers.GRU(32, return_sequences=True))(att_A_keywords_T_title)\n",
    "    vector_A_keywords_T_title = tf.keras.layers.Flatten()(rep_att_A_keywords_T_title)\n",
    "    \n",
    "    #attention article keywords and table text\n",
    "    att_A_keywords_T_text = attention_method(rep_article_keywords,rep_table_text,rep_article_keywords)\n",
    "    rep_att_A_keywords_T_text = tf.keras.layers.Bidirectional(tf.keras.layers.GRU(32, return_sequences=True))(att_A_keywords_T_text)\n",
    "    vector_A_keywords_T_text = tf.keras.layers.Flatten()(rep_att_A_keywords_T_text)\n",
    "    \n",
    "    #attention article keywords and table keywords\n",
    "    att_A_keywords_T_keywords = attention_method(rep_article_keywords,rep_table_keywords,rep_article_keywords)\n",
    "    rep_att_A_keywords_T_keywords = tf.keras.layers.Bidirectional(tf.keras.layers.GRU(32, return_sequences=True))(att_A_keywords_T_keywords)\n",
    "    vector_A_keywords_T_keywords = tf.keras.layers.Flatten()(rep_att_A_keywords_T_keywords)\n",
    "    \n",
    "\n",
    "    #learned vector\n",
    "    final_vector = tf.keras.layers.Concatenate()([vector_A_title_T_title,vector_A_title_T_text,vector_A_title_T_keywords,vector_A_text_T_title,vector_A_text_T_text,vector_A_text_T_keywords,vector_A_keywords_T_title,vector_A_keywords_T_text,vector_A_keywords_T_keywords])\n",
    "    \n",
    "    MLP_input = tf.keras.layers.Dense(256, activation='relu')(final_vector)\n",
    "    dropout1 = tf.keras.layers.Dropout(0.5, name=\"dropout1\")(MLP_input)\n",
    "    MLP_hidden = tf.keras.layers.Dense(128, activation='relu')(dropout1)\n",
    "    dropout2 = tf.keras.layers.Dropout(0.5, name=\"dropout2\")(MLP_hidden)\n",
    "    MLP_output = tf.keras.layers.Dense(1,activation='sigmoid')(dropout2)\n",
    "    \n",
    "    model = tf.keras.Model(inputs=[article_title,article_main_passage,article_keywords,table_title,table_main_passage, table_keywords],outputs=MLP_output)\n",
    "    \n",
    "    return model"
   ]
  },
  {
   "cell_type": "code",
   "execution_count": null,
   "metadata": {},
   "outputs": [],
   "source": [
    "model = attention_model()"
   ]
  },
  {
   "cell_type": "code",
   "execution_count": null,
   "metadata": {},
   "outputs": [],
   "source": []
  },
  {
   "cell_type": "code",
   "execution_count": null,
   "metadata": {},
   "outputs": [],
   "source": [
    "model.compile(loss=\"binary_crossentropy\",optimizer=\"adam\", metrics=['accuracy'])"
   ]
  },
  {
   "cell_type": "code",
   "execution_count": null,
   "metadata": {},
   "outputs": [],
   "source": [
    "filepath=\"attention_model_title_main_passage_keywords_1_1_{epoch:02d}_{val_accuracy:.4f}.h5\"\n",
    "checkpoint = tf.keras.callbacks.ModelCheckpoint(filepath, monitor='val_accuracy', verbose=1, save_best_only=True, mode='max')\n",
    "callbacks_list = [checkpoint]"
   ]
  },
  {
   "cell_type": "code",
   "execution_count": null,
   "metadata": {},
   "outputs": [],
   "source": [
    "history = model.fit([train_article_title, train_article_main_passage, train_article_keywords,train_table_title, train_table_main_passage, train_table_keywords], train_label, \n",
    "          epochs=100, \n",
    "          batch_size=32, \n",
    "          verbose=1,\n",
    "          validation_data=([validation_article_title, validation_article_main_passage, validation_article_keywords, validation_table_title, validation_table_main_passage, validation_table_keywords], validation_label),\n",
    "          callbacks=callbacks_list)"
   ]
  },
  {
   "cell_type": "code",
   "execution_count": null,
   "metadata": {},
   "outputs": [],
   "source": []
  },
  {
   "cell_type": "code",
   "execution_count": null,
   "metadata": {},
   "outputs": [],
   "source": []
  },
  {
   "cell_type": "code",
   "execution_count": null,
   "metadata": {},
   "outputs": [],
   "source": []
  }
 ],
 "metadata": {
  "kernelspec": {
   "display_name": "Python 3",
   "language": "python",
   "name": "python3"
  },
  "language_info": {
   "codemirror_mode": {
    "name": "ipython",
    "version": 3
   },
   "file_extension": ".py",
   "mimetype": "text/x-python",
   "name": "python",
   "nbconvert_exporter": "python",
   "pygments_lexer": "ipython3",
   "version": "3.7.3"
  }
 },
 "nbformat": 4,
 "nbformat_minor": 2
}
