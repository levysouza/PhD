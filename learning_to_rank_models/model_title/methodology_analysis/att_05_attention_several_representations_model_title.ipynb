{
 "cells": [
  {
   "cell_type": "code",
   "execution_count": 1,
   "metadata": {},
   "outputs": [],
   "source": [
    "import warnings\n",
    "import numpy as np\n",
    "import pandas as pd\n",
    "from sklearn.model_selection import train_test_split\n",
    "import gensim as gs\n",
    "from tqdm import tqdm\n",
    "import tensorflow as tf\n",
    "import matplotlib.pyplot as plt\n",
    "from nltk.tokenize import TweetTokenizer\n",
    "tknzr = TweetTokenizer()\n",
    "from sklearn.metrics import accuracy_score, precision_score, recall_score, f1_score\n",
    "warnings.filterwarnings('ignore')\n",
    "import fasttext"
   ]
  },
  {
   "cell_type": "code",
   "execution_count": 2,
   "metadata": {},
   "outputs": [],
   "source": [
    "train_dataset = pd.read_csv('../train_data/final_train_dataset', delimiter=',')\n",
    "validation_dataset = pd.read_csv('../train_data/final_validation_dataset', delimiter=',')"
   ]
  },
  {
   "cell_type": "code",
   "execution_count": null,
   "metadata": {},
   "outputs": [],
   "source": []
  },
  {
   "cell_type": "code",
   "execution_count": 3,
   "metadata": {},
   "outputs": [],
   "source": [
    "embedding_model = gs.models.FastText.load('../train_embedding_models/fasttext_embedding_50d_all_signals')"
   ]
  },
  {
   "cell_type": "code",
   "execution_count": null,
   "metadata": {},
   "outputs": [],
   "source": []
  },
  {
   "cell_type": "code",
   "execution_count": 4,
   "metadata": {},
   "outputs": [],
   "source": [
    "MAX_PAD = 31\n",
    "\n",
    "def sequence_padding(X_DIM, value):\n",
    "    \n",
    "    value_padding = np.pad(value, ((0,MAX_PAD - X_DIM),(0,0)), 'constant')\n",
    "    \n",
    "    return value_padding"
   ]
  },
  {
   "cell_type": "code",
   "execution_count": 5,
   "metadata": {},
   "outputs": [],
   "source": [
    "def create_embedding(value):\n",
    "\n",
    "    value = tknzr.tokenize(str(value))\n",
    "    \n",
    "    if len(value) < MAX_PAD:\n",
    "        \n",
    "        embedding = embedding_model.wv[value]\n",
    "        \n",
    "        padding_embedding = sequence_padding(embedding.shape[0],embedding)\n",
    "        \n",
    "        return padding_embedding\n",
    "        \n",
    "    else:\n",
    "        \n",
    "        embedding = embedding_model.wv[value[0:MAX_PAD]]\n",
    "        \n",
    "        return embedding"
   ]
  },
  {
   "cell_type": "code",
   "execution_count": null,
   "metadata": {},
   "outputs": [],
   "source": []
  },
  {
   "cell_type": "code",
   "execution_count": 6,
   "metadata": {},
   "outputs": [
    {
     "name": "stderr",
     "output_type": "stream",
     "text": [
      "169500it [00:54, 3104.64it/s]\n"
     ]
    }
   ],
   "source": [
    "train_article_title = []\n",
    "train_table_title = []\n",
    "train_label = []\n",
    "\n",
    "for i,row in tqdm(train_dataset.iterrows()):\n",
    "    \n",
    "    train_article_title.append(create_embedding(row['article_page_title']))\n",
    "    train_table_title.append(create_embedding(row['table_page_title']))\n",
    "    train_label.append(row['label'])"
   ]
  },
  {
   "cell_type": "code",
   "execution_count": 7,
   "metadata": {},
   "outputs": [],
   "source": [
    "train_article_title = np.array(train_article_title)\n",
    "train_table_title = np.array(train_table_title)\n",
    "train_label = np.array(train_label)"
   ]
  },
  {
   "cell_type": "code",
   "execution_count": 8,
   "metadata": {},
   "outputs": [
    {
     "data": {
      "text/plain": [
       "(169500, 31, 50)"
      ]
     },
     "execution_count": 8,
     "metadata": {},
     "output_type": "execute_result"
    }
   ],
   "source": [
    "train_article_title.shape"
   ]
  },
  {
   "cell_type": "code",
   "execution_count": null,
   "metadata": {},
   "outputs": [],
   "source": []
  },
  {
   "cell_type": "code",
   "execution_count": 9,
   "metadata": {},
   "outputs": [
    {
     "name": "stderr",
     "output_type": "stream",
     "text": [
      "18834it [00:05, 3240.87it/s]\n"
     ]
    }
   ],
   "source": [
    "validation_article_title = []\n",
    "validation_table_title = []\n",
    "validation_label = []\n",
    "\n",
    "for i, row in tqdm(validation_dataset.iterrows()):\n",
    "    \n",
    "    validation_article_title.append(create_embedding(row['article_page_title']))\n",
    "    validation_table_title.append(create_embedding(row['table_page_title']))  \n",
    "    validation_label.append(row['label'])"
   ]
  },
  {
   "cell_type": "code",
   "execution_count": 10,
   "metadata": {},
   "outputs": [],
   "source": [
    "validation_article_title = np.array(validation_article_title)\n",
    "validation_table_title = np.array(validation_table_title)\n",
    "validation_label = np.array(validation_label)"
   ]
  },
  {
   "cell_type": "code",
   "execution_count": 11,
   "metadata": {},
   "outputs": [
    {
     "data": {
      "text/plain": [
       "(18834, 31, 50)"
      ]
     },
     "execution_count": 11,
     "metadata": {},
     "output_type": "execute_result"
    }
   ],
   "source": [
    "validation_article_title.shape"
   ]
  },
  {
   "cell_type": "code",
   "execution_count": 12,
   "metadata": {},
   "outputs": [],
   "source": [
    "def attention_method(query, key, value):\n",
    "    \n",
    "    scores = tf.matmul(query, key, transpose_b=True)\n",
    "    \n",
    "    distribution = tf.nn.softmax(scores)\n",
    "    \n",
    "    attention_matrix = tf.matmul(distribution, value)\n",
    "    \n",
    "    return attention_matrix"
   ]
  },
  {
   "cell_type": "code",
   "execution_count": null,
   "metadata": {},
   "outputs": [],
   "source": []
  },
  {
   "cell_type": "code",
   "execution_count": 13,
   "metadata": {},
   "outputs": [],
   "source": [
    "def attention_model():\n",
    "    \n",
    "    article_title = tf.keras.Input(shape=(31,50), dtype='float32')\n",
    "    table_title = tf.keras.Input(shape=(31,50), dtype='float32')\n",
    "    \n",
    "    context_titleA = tf.keras.layers.Bidirectional(tf.keras.layers.GRU(32, return_sequences=True))(article_title)\n",
    "    context_titleB = tf.keras.layers.Bidirectional(tf.keras.layers.GRU(32, return_sequences=True))(table_title)\n",
    "    \n",
    "    affinity_titleA_titleB = attention_method(context_titleA,context_titleB,context_titleA)\n",
    "    context_affinity = tf.keras.layers.Bidirectional(tf.keras.layers.GRU(32, return_sequences=True))(affinity_titleA_titleB)\n",
    "    learned_vectorA = tf.keras.layers.Flatten()(context_affinity)\n",
    "    \n",
    "    affinity_embedding_titleA_titleB = attention_method(article_title,table_title,article_title)\n",
    "    context_affinity_embedding = tf.keras.layers.Bidirectional(tf.keras.layers.GRU(32, return_sequences=True))(affinity_embedding_titleA_titleB)\n",
    "    learned_vectorB = tf.keras.layers.Flatten()(context_affinity_embedding)\n",
    "    \n",
    "    final_representation = tf.keras.layers.Concatenate()([learned_vectorA,learned_vectorB])\n",
    "   \n",
    "    MLP_input = tf.keras.layers.Dense(64, activation='relu')(final_representation)\n",
    "    dropout1 = tf.keras.layers.Dropout(0.5, name=\"dropout1\")(MLP_input)\n",
    "    MLP_hidden = tf.keras.layers.Dense(32, activation='relu')(dropout1)\n",
    "    dropout2 = tf.keras.layers.Dropout(0.5, name=\"dropout2\")(MLP_hidden)\n",
    "    MLP_output = tf.keras.layers.Dense(1,activation='sigmoid')(dropout2)\n",
    "    \n",
    "    model = tf.keras.Model(inputs=[article_title,table_title],outputs=MLP_output)\n",
    "    \n",
    "    return model"
   ]
  },
  {
   "cell_type": "code",
   "execution_count": 14,
   "metadata": {},
   "outputs": [],
   "source": [
    "model = attention_model()"
   ]
  },
  {
   "cell_type": "code",
   "execution_count": null,
   "metadata": {},
   "outputs": [],
   "source": []
  },
  {
   "cell_type": "code",
   "execution_count": 15,
   "metadata": {},
   "outputs": [],
   "source": [
    "model.compile(loss=\"binary_crossentropy\",optimizer=\"adam\", metrics=['accuracy'])"
   ]
  },
  {
   "cell_type": "code",
   "execution_count": 16,
   "metadata": {},
   "outputs": [],
   "source": [
    "filepath=\"attention_matrix_several_representations_model_title_{epoch:02d}_{val_accuracy:.4f}.h5\"\n",
    "checkpoint = tf.keras.callbacks.ModelCheckpoint(filepath, monitor='val_accuracy', verbose=1, save_best_only=True, mode='max')\n",
    "callbacks_list = [checkpoint]"
   ]
  },
  {
   "cell_type": "code",
   "execution_count": 17,
   "metadata": {},
   "outputs": [
    {
     "name": "stdout",
     "output_type": "stream",
     "text": [
      "Train on 169500 samples, validate on 18834 samples\n",
      "Epoch 1/20\n",
      "WARNING:tensorflow:From /home/lss9/anaconda3/lib/python3.7/site-packages/tensorflow_core/python/ops/nn_impl.py:183: where (from tensorflow.python.ops.array_ops) is deprecated and will be removed in a future version.\n",
      "Instructions for updating:\n",
      "Use tf.where in 2.0, which has the same broadcast rule as np.where\n",
      "WARNING:tensorflow:Entity <function Function._initialize_uninitialized_variables.<locals>.initialize_variables at 0x7fd09d841b70> could not be transformed and will be executed as-is. Please report this to the AutoGraph team. When filing the bug, set the verbosity to 10 (on Linux, `export AUTOGRAPH_VERBOSITY=10`) and attach the full output. Cause: module 'gast' has no attribute 'Num'\n",
      "WARNING: Entity <function Function._initialize_uninitialized_variables.<locals>.initialize_variables at 0x7fd09d841b70> could not be transformed and will be executed as-is. Please report this to the AutoGraph team. When filing the bug, set the verbosity to 10 (on Linux, `export AUTOGRAPH_VERBOSITY=10`) and attach the full output. Cause: module 'gast' has no attribute 'Num'\n",
      "169472/169500 [============================>.] - ETA: 0s - loss: 0.3280 - accuracy: 0.8686\n",
      "Epoch 00001: val_accuracy improved from -inf to 0.89705, saving model to attention_matrix_several_representations_model_title_01_0.8970.h5\n",
      "169500/169500 [==============================] - 143s 843us/sample - loss: 0.3280 - accuracy: 0.8686 - val_loss: 0.2650 - val_accuracy: 0.8970\n",
      "Epoch 2/20\n",
      "169472/169500 [============================>.] - ETA: 0s - loss: 0.2508 - accuracy: 0.9063\n",
      "Epoch 00002: val_accuracy improved from 0.89705 to 0.91855, saving model to attention_matrix_several_representations_model_title_02_0.9186.h5\n",
      "169500/169500 [==============================] - 198s 1ms/sample - loss: 0.2508 - accuracy: 0.9063 - val_loss: 0.2097 - val_accuracy: 0.9186\n",
      "Epoch 3/20\n",
      "169440/169500 [============================>.] - ETA: 0s - loss: 0.2289 - accuracy: 0.9142\n",
      "Epoch 00003: val_accuracy improved from 0.91855 to 0.92089, saving model to attention_matrix_several_representations_model_title_03_0.9209.h5\n",
      "169500/169500 [==============================] - 215s 1ms/sample - loss: 0.2289 - accuracy: 0.9142 - val_loss: 0.2012 - val_accuracy: 0.9209\n",
      "Epoch 4/20\n",
      "169472/169500 [============================>.] - ETA: 0s - loss: 0.2144 - accuracy: 0.9197\n",
      "Epoch 00004: val_accuracy did not improve from 0.92089\n",
      "169500/169500 [==============================] - 214s 1ms/sample - loss: 0.2143 - accuracy: 0.9197 - val_loss: 0.2019 - val_accuracy: 0.9179\n",
      "Epoch 5/20\n",
      "169440/169500 [============================>.] - ETA: 0s - loss: 0.2013 - accuracy: 0.9235\n",
      "Epoch 00005: val_accuracy improved from 0.92089 to 0.92699, saving model to attention_matrix_several_representations_model_title_05_0.9270.h5\n",
      "169500/169500 [==============================] - 214s 1ms/sample - loss: 0.2014 - accuracy: 0.9235 - val_loss: 0.1894 - val_accuracy: 0.9270\n",
      "Epoch 6/20\n",
      "169440/169500 [============================>.] - ETA: 0s - loss: 0.1897 - accuracy: 0.9275\n",
      "Epoch 00006: val_accuracy did not improve from 0.92699\n",
      "169500/169500 [==============================] - 215s 1ms/sample - loss: 0.1897 - accuracy: 0.9275 - val_loss: 0.1898 - val_accuracy: 0.9263\n",
      "Epoch 7/20\n",
      "169440/169500 [============================>.] - ETA: 0s - loss: 0.1805 - accuracy: 0.9310\n",
      "Epoch 00007: val_accuracy improved from 0.92699 to 0.92954, saving model to attention_matrix_several_representations_model_title_07_0.9295.h5\n",
      "169500/169500 [==============================] - 214s 1ms/sample - loss: 0.1805 - accuracy: 0.9309 - val_loss: 0.1851 - val_accuracy: 0.9295\n",
      "Epoch 8/20\n",
      "169472/169500 [============================>.] - ETA: 0s - loss: 0.1700 - accuracy: 0.9343\n",
      "Epoch 00008: val_accuracy improved from 0.92954 to 0.92965, saving model to attention_matrix_several_representations_model_title_08_0.9296.h5\n",
      "169500/169500 [==============================] - 214s 1ms/sample - loss: 0.1700 - accuracy: 0.9343 - val_loss: 0.1817 - val_accuracy: 0.9296\n",
      "Epoch 9/20\n",
      "169440/169500 [============================>.] - ETA: 0s - loss: 0.1617 - accuracy: 0.9368\n",
      "Epoch 00009: val_accuracy improved from 0.92965 to 0.93129, saving model to attention_matrix_several_representations_model_title_09_0.9313.h5\n",
      "169500/169500 [==============================] - 214s 1ms/sample - loss: 0.1617 - accuracy: 0.9368 - val_loss: 0.1944 - val_accuracy: 0.9313\n",
      "Epoch 10/20\n",
      "169472/169500 [============================>.] - ETA: 0s - loss: 0.1535 - accuracy: 0.9406\n",
      "Epoch 00010: val_accuracy did not improve from 0.93129\n",
      "169500/169500 [==============================] - 214s 1ms/sample - loss: 0.1535 - accuracy: 0.9406 - val_loss: 0.1980 - val_accuracy: 0.9306\n",
      "Epoch 11/20\n",
      "169440/169500 [============================>.] - ETA: 0s - loss: 0.1462 - accuracy: 0.9426\n",
      "Epoch 00011: val_accuracy improved from 0.93129 to 0.93135, saving model to attention_matrix_several_representations_model_title_11_0.9313.h5\n",
      "169500/169500 [==============================] - 211s 1ms/sample - loss: 0.1462 - accuracy: 0.9426 - val_loss: 0.1923 - val_accuracy: 0.9313\n",
      "Epoch 12/20\n",
      "169440/169500 [============================>.] - ETA: 0s - loss: 0.1405 - accuracy: 0.9443\n",
      "Epoch 00012: val_accuracy improved from 0.93135 to 0.93310, saving model to attention_matrix_several_representations_model_title_12_0.9331.h5\n",
      "169500/169500 [==============================] - 207s 1ms/sample - loss: 0.1405 - accuracy: 0.9443 - val_loss: 0.1904 - val_accuracy: 0.9331\n",
      "Epoch 13/20\n",
      "169472/169500 [============================>.] - ETA: 0s - loss: 0.1335 - accuracy: 0.9474\n",
      "Epoch 00013: val_accuracy did not improve from 0.93310\n",
      "169500/169500 [==============================] - 207s 1ms/sample - loss: 0.1335 - accuracy: 0.9474 - val_loss: 0.2078 - val_accuracy: 0.9189\n",
      "Epoch 14/20\n",
      "169472/169500 [============================>.] - ETA: 0s - loss: 0.1269 - accuracy: 0.9490\n",
      "Epoch 00014: val_accuracy did not improve from 0.93310\n",
      "169500/169500 [==============================] - 190s 1ms/sample - loss: 0.1269 - accuracy: 0.9490 - val_loss: 0.2061 - val_accuracy: 0.9299\n",
      "Epoch 15/20\n",
      "169472/169500 [============================>.] - ETA: 0s - loss: 0.1209 - accuracy: 0.9518\n",
      "Epoch 00015: val_accuracy did not improve from 0.93310\n",
      "169500/169500 [==============================] - 161s 951us/sample - loss: 0.1209 - accuracy: 0.9518 - val_loss: 0.2012 - val_accuracy: 0.9198\n",
      "Epoch 16/20\n",
      "169408/169500 [============================>.] - ETA: 0s - loss: 0.1159 - accuracy: 0.9533\n",
      "Epoch 00016: val_accuracy did not improve from 0.93310\n",
      "169500/169500 [==============================] - 141s 834us/sample - loss: 0.1159 - accuracy: 0.9533 - val_loss: 0.2035 - val_accuracy: 0.9291\n",
      "Epoch 17/20\n",
      "169472/169500 [============================>.] - ETA: 0s - loss: 0.1466 - accuracy: 0.9408\n",
      "Epoch 00017: val_accuracy did not improve from 0.93310\n",
      "169500/169500 [==============================] - 119s 702us/sample - loss: 0.1466 - accuracy: 0.9408 - val_loss: 0.2160 - val_accuracy: 0.9283\n",
      "Epoch 18/20\n",
      "169472/169500 [============================>.] - ETA: 0s - loss: 0.1172 - accuracy: 0.9527\n",
      "Epoch 00018: val_accuracy improved from 0.93310 to 0.93315, saving model to attention_matrix_several_representations_model_title_18_0.9332.h5\n",
      "169500/169500 [==============================] - 119s 702us/sample - loss: 0.1172 - accuracy: 0.9527 - val_loss: 0.2335 - val_accuracy: 0.9332\n",
      "Epoch 19/20\n",
      "169472/169500 [============================>.] - ETA: 0s - loss: 0.1084 - accuracy: 0.9563\n",
      "Epoch 00019: val_accuracy did not improve from 0.93315\n",
      "169500/169500 [==============================] - 119s 702us/sample - loss: 0.1084 - accuracy: 0.9563 - val_loss: 0.2507 - val_accuracy: 0.9276\n",
      "Epoch 20/20\n",
      "169472/169500 [============================>.] - ETA: 0s - loss: 0.1641 - accuracy: 0.9337\n",
      "Epoch 00020: val_accuracy did not improve from 0.93315\n",
      "169500/169500 [==============================] - 119s 702us/sample - loss: 0.1641 - accuracy: 0.9338 - val_loss: 0.2282 - val_accuracy: 0.9248\n"
     ]
    }
   ],
   "source": [
    "history = model.fit([train_article_title, train_table_title], train_label, \n",
    "          epochs=20, \n",
    "          batch_size=32, \n",
    "          validation_data=([validation_article_title, validation_table_title], validation_label),\n",
    "          callbacks=callbacks_list)"
   ]
  },
  {
   "cell_type": "code",
   "execution_count": null,
   "metadata": {},
   "outputs": [],
   "source": []
  },
  {
   "cell_type": "code",
   "execution_count": null,
   "metadata": {},
   "outputs": [],
   "source": []
  },
  {
   "cell_type": "code",
   "execution_count": null,
   "metadata": {},
   "outputs": [],
   "source": [
    "# summarize history for accuracy\n",
    "plt.plot(history.history['accuracy'])\n",
    "plt.plot(history.history['val_accuracy'])\n",
    "plt.title('model accuracy')\n",
    "plt.ylabel('accuracy')\n",
    "plt.xlabel('epoch')\n",
    "plt.legend(['train', 'validation'], loc='upper left')\n",
    "plt.show()"
   ]
  },
  {
   "cell_type": "code",
   "execution_count": null,
   "metadata": {},
   "outputs": [],
   "source": [
    "# summarize history for loss\n",
    "plt.plot(history.history['loss'])\n",
    "plt.plot(history.history['val_loss'])\n",
    "plt.title('model loss')\n",
    "plt.ylabel('loss')\n",
    "plt.xlabel('epoch')\n",
    "plt.legend(['train', 'validation'], loc='upper left')\n",
    "plt.show()"
   ]
  },
  {
   "cell_type": "code",
   "execution_count": null,
   "metadata": {},
   "outputs": [],
   "source": []
  },
  {
   "cell_type": "code",
   "execution_count": null,
   "metadata": {},
   "outputs": [],
   "source": [
    "model = tf.keras.models.load_model('affinity_model_train_cossine.h5')"
   ]
  },
  {
   "cell_type": "code",
   "execution_count": null,
   "metadata": {},
   "outputs": [],
   "source": [
    "y_prob = model.predict([validation_article_title,validation_table_title])\n",
    "y_predict = (y_prob > 0.5).astype(np.int)\n",
    "accuracy_score(validation_label, y_predict)"
   ]
  },
  {
   "cell_type": "code",
   "execution_count": null,
   "metadata": {},
   "outputs": [],
   "source": []
  },
  {
   "cell_type": "code",
   "execution_count": null,
   "metadata": {},
   "outputs": [],
   "source": [
    "import seaborn as sns\n",
    "import sklearn.metrics\n",
    "confusion_matrix = sklearn.metrics.confusion_matrix(validation_label, y_predict)\n",
    "\n",
    "plt.figure(figsize=(10, 8))\n",
    "sns.heatmap(confusion_matrix, annot=True, fmt=\"d\", cmap=\"YlGnBu\")#, annot_kws={\"size\": 15});\n",
    "plt.title(\"Confusion matrix\")\n",
    "plt.ylabel('True label')\n",
    "plt.xlabel('Predict label')\n",
    "plt.show()"
   ]
  },
  {
   "cell_type": "code",
   "execution_count": null,
   "metadata": {},
   "outputs": [],
   "source": []
  },
  {
   "cell_type": "code",
   "execution_count": null,
   "metadata": {},
   "outputs": [],
   "source": []
  }
 ],
 "metadata": {
  "kernelspec": {
   "display_name": "Python 3",
   "language": "python",
   "name": "python3"
  },
  "language_info": {
   "codemirror_mode": {
    "name": "ipython",
    "version": 3
   },
   "file_extension": ".py",
   "mimetype": "text/x-python",
   "name": "python",
   "nbconvert_exporter": "python",
   "pygments_lexer": "ipython3",
   "version": "3.7.3"
  }
 },
 "nbformat": 4,
 "nbformat_minor": 2
}
