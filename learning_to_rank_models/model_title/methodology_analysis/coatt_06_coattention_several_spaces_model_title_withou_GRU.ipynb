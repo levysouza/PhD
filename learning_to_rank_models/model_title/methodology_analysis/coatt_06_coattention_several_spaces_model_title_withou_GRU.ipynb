{
 "cells": [
  {
   "cell_type": "code",
   "execution_count": 1,
   "metadata": {},
   "outputs": [],
   "source": [
    "import warnings\n",
    "import numpy as np\n",
    "import pandas as pd\n",
    "from sklearn.model_selection import train_test_split\n",
    "import gensim as gs\n",
    "from tqdm import tqdm\n",
    "import tensorflow as tf\n",
    "import matplotlib.pyplot as plt\n",
    "from nltk.tokenize import TweetTokenizer\n",
    "tknzr = TweetTokenizer()\n",
    "from sklearn.metrics import accuracy_score, precision_score, recall_score, f1_score\n",
    "warnings.filterwarnings('ignore')\n",
    "import fasttext"
   ]
  },
  {
   "cell_type": "code",
   "execution_count": 2,
   "metadata": {},
   "outputs": [],
   "source": [
    "train_dataset = pd.read_csv('../train_data/final_train_dataset', delimiter=',')\n",
    "validation_dataset = pd.read_csv('../train_data/final_validation_dataset', delimiter=',')"
   ]
  },
  {
   "cell_type": "code",
   "execution_count": null,
   "metadata": {},
   "outputs": [],
   "source": []
  },
  {
   "cell_type": "code",
   "execution_count": 3,
   "metadata": {},
   "outputs": [],
   "source": [
    "embedding_model = gs.models.FastText.load('../train_embedding_models/fasttext_embedding_50d_all_signals')"
   ]
  },
  {
   "cell_type": "code",
   "execution_count": null,
   "metadata": {},
   "outputs": [],
   "source": []
  },
  {
   "cell_type": "code",
   "execution_count": 4,
   "metadata": {},
   "outputs": [],
   "source": [
    "MAX_PAD = 31\n",
    "\n",
    "def sequence_padding(X_DIM, value):\n",
    "    \n",
    "    value_padding = np.pad(value, ((0,MAX_PAD - X_DIM),(0,0)), 'constant')\n",
    "    \n",
    "    return value_padding"
   ]
  },
  {
   "cell_type": "code",
   "execution_count": 5,
   "metadata": {},
   "outputs": [],
   "source": [
    "def create_embedding(value):\n",
    "\n",
    "    value = tknzr.tokenize(str(value))\n",
    "    \n",
    "    if len(value) < MAX_PAD:\n",
    "        \n",
    "        embedding = embedding_model.wv[value]\n",
    "        \n",
    "        padding_embedding = sequence_padding(embedding.shape[0],embedding)\n",
    "        \n",
    "        return padding_embedding\n",
    "        \n",
    "    else:\n",
    "        \n",
    "        embedding = embedding_model.wv[value[0:MAX_PAD]]\n",
    "        \n",
    "        return embedding"
   ]
  },
  {
   "cell_type": "code",
   "execution_count": null,
   "metadata": {},
   "outputs": [],
   "source": []
  },
  {
   "cell_type": "code",
   "execution_count": 6,
   "metadata": {},
   "outputs": [
    {
     "name": "stderr",
     "output_type": "stream",
     "text": [
      "169500it [01:01, 2756.64it/s]\n"
     ]
    }
   ],
   "source": [
    "train_article_title = []\n",
    "train_table_title = []\n",
    "train_label = []\n",
    "\n",
    "for i,row in tqdm(train_dataset.iterrows()):\n",
    "    \n",
    "    train_article_title.append(create_embedding(row['article_page_title']))\n",
    "    train_table_title.append(create_embedding(row['table_page_title']))\n",
    "    train_label.append(row['label'])"
   ]
  },
  {
   "cell_type": "code",
   "execution_count": 7,
   "metadata": {},
   "outputs": [],
   "source": [
    "train_article_title = np.array(train_article_title)\n",
    "train_table_title = np.array(train_table_title)\n",
    "train_label = np.array(train_label)"
   ]
  },
  {
   "cell_type": "code",
   "execution_count": 8,
   "metadata": {},
   "outputs": [
    {
     "data": {
      "text/plain": [
       "(169500, 31, 50)"
      ]
     },
     "execution_count": 8,
     "metadata": {},
     "output_type": "execute_result"
    }
   ],
   "source": [
    "train_article_title.shape"
   ]
  },
  {
   "cell_type": "code",
   "execution_count": null,
   "metadata": {},
   "outputs": [],
   "source": []
  },
  {
   "cell_type": "code",
   "execution_count": 9,
   "metadata": {},
   "outputs": [
    {
     "name": "stderr",
     "output_type": "stream",
     "text": [
      "18834it [00:05, 3271.48it/s]\n"
     ]
    }
   ],
   "source": [
    "validation_article_title = []\n",
    "validation_table_title = []\n",
    "validation_label = []\n",
    "\n",
    "for i, row in tqdm(validation_dataset.iterrows()):\n",
    "    \n",
    "    validation_article_title.append(create_embedding(row['article_page_title']))\n",
    "    validation_table_title.append(create_embedding(row['table_page_title']))  \n",
    "    validation_label.append(row['label'])"
   ]
  },
  {
   "cell_type": "code",
   "execution_count": 10,
   "metadata": {},
   "outputs": [],
   "source": [
    "validation_article_title = np.array(validation_article_title)\n",
    "validation_table_title = np.array(validation_table_title)\n",
    "validation_label = np.array(validation_label)"
   ]
  },
  {
   "cell_type": "code",
   "execution_count": 11,
   "metadata": {},
   "outputs": [
    {
     "data": {
      "text/plain": [
       "(18834, 31, 50)"
      ]
     },
     "execution_count": 11,
     "metadata": {},
     "output_type": "execute_result"
    }
   ],
   "source": [
    "validation_article_title.shape"
   ]
  },
  {
   "cell_type": "code",
   "execution_count": 12,
   "metadata": {},
   "outputs": [],
   "source": [
    "def coattention_method(query, key, value):\n",
    "    \n",
    "    scores = tf.matmul(query, key, transpose_b=True)\n",
    "    \n",
    "    distribution = tf.nn.softmax(scores)\n",
    "    \n",
    "    attention_matrix = tf.matmul(distribution, value)\n",
    "    \n",
    "    return attention_matrix"
   ]
  },
  {
   "cell_type": "code",
   "execution_count": null,
   "metadata": {},
   "outputs": [],
   "source": []
  },
  {
   "cell_type": "code",
   "execution_count": 17,
   "metadata": {},
   "outputs": [],
   "source": [
    "def attention_model():\n",
    "    \n",
    "    article_title = tf.keras.Input(shape=(31,50), dtype='float32')\n",
    "    table_title = tf.keras.Input(shape=(31,50), dtype='float32')\n",
    "    \n",
    "    \n",
    "    affinity_titleA_titleB = coattention_method(article_title,table_title,article_title)\n",
    "    affinity_titleB_titleA = coattention_method(table_title,article_title,table_title)\n",
    "    \n",
    "    context_coattentionA = tf.keras.layers.Bidirectional(tf.keras.layers.GRU(32, return_sequences=True))(affinity_titleA_titleB)\n",
    "    context_coattentionB = tf.keras.layers.Bidirectional(tf.keras.layers.GRU(32, return_sequences=True))(affinity_titleB_titleA)\n",
    "    \n",
    "    learned_vector1 = tf.keras.layers.Flatten()(context_coattentionA)\n",
    "    learned_vector2 = tf.keras.layers.Flatten()(context_coattentionB)\n",
    "    \n",
    "    \n",
    "    context_titleA = tf.keras.layers.Bidirectional(tf.keras.layers.GRU(32, return_sequences=True))(article_title)\n",
    "    context_titleB = tf.keras.layers.Bidirectional(tf.keras.layers.GRU(32, return_sequences=True))(table_title)\n",
    "    \n",
    "    affinity1_titleA_titleB = coattention_method(context_titleA,context_titleB,context_titleA)\n",
    "    affinity1_titleB_titleA = coattention_method(context_titleB,context_titleA,context_titleB)\n",
    "    \n",
    "    learned_vector3 = tf.keras.layers.Flatten()(affinity1_titleA_titleB)\n",
    "    learned_vector4 = tf.keras.layers.Flatten()(affinity1_titleB_titleA)\n",
    "    \n",
    "    final_vector = tf.keras.layers.Concatenate()([learned_vector1,learned_vector2,learned_vector3,learned_vector4])\n",
    "    \n",
    "    MLP_input = tf.keras.layers.Dense(64, activation='relu')(final_vector)\n",
    "    dropout1 = tf.keras.layers.Dropout(0.5, name=\"dropout1\")(MLP_input)\n",
    "    MLP_hidden = tf.keras.layers.Dense(32, activation='relu')(dropout1)\n",
    "    dropout2 = tf.keras.layers.Dropout(0.5, name=\"dropout2\")(MLP_hidden)\n",
    "    MLP_output = tf.keras.layers.Dense(1,activation='sigmoid')(dropout2)\n",
    "    \n",
    "    model = tf.keras.Model(inputs=[article_title,table_title],outputs=MLP_output)\n",
    "    \n",
    "    return model"
   ]
  },
  {
   "cell_type": "code",
   "execution_count": 18,
   "metadata": {},
   "outputs": [],
   "source": [
    "model = attention_model()"
   ]
  },
  {
   "cell_type": "code",
   "execution_count": null,
   "metadata": {},
   "outputs": [],
   "source": []
  },
  {
   "cell_type": "code",
   "execution_count": 19,
   "metadata": {},
   "outputs": [],
   "source": [
    "model.compile(loss=\"binary_crossentropy\",optimizer=\"adam\", metrics=['accuracy'])"
   ]
  },
  {
   "cell_type": "code",
   "execution_count": 20,
   "metadata": {},
   "outputs": [],
   "source": [
    "filepath=\"coattention2_several_spaces_model_title_{epoch:02d}_{val_accuracy:.4f}.h5\"\n",
    "checkpoint = tf.keras.callbacks.ModelCheckpoint(filepath, monitor='val_accuracy', verbose=1, save_best_only=True, mode='max')\n",
    "callbacks_list = [checkpoint]"
   ]
  },
  {
   "cell_type": "code",
   "execution_count": 21,
   "metadata": {},
   "outputs": [
    {
     "name": "stdout",
     "output_type": "stream",
     "text": [
      "Train on 169500 samples, validate on 18834 samples\n",
      "Epoch 1/20\n",
      "WARNING:tensorflow:From /home/lss9/anaconda3/lib/python3.7/site-packages/tensorflow_core/python/ops/nn_impl.py:183: where (from tensorflow.python.ops.array_ops) is deprecated and will be removed in a future version.\n",
      "Instructions for updating:\n",
      "Use tf.where in 2.0, which has the same broadcast rule as np.where\n",
      "WARNING:tensorflow:Entity <function Function._initialize_uninitialized_variables.<locals>.initialize_variables at 0x7f046616dae8> could not be transformed and will be executed as-is. Please report this to the AutoGraph team. When filing the bug, set the verbosity to 10 (on Linux, `export AUTOGRAPH_VERBOSITY=10`) and attach the full output. Cause: module 'gast' has no attribute 'Num'\n",
      "WARNING: Entity <function Function._initialize_uninitialized_variables.<locals>.initialize_variables at 0x7f046616dae8> could not be transformed and will be executed as-is. Please report this to the AutoGraph team. When filing the bug, set the verbosity to 10 (on Linux, `export AUTOGRAPH_VERBOSITY=10`) and attach the full output. Cause: module 'gast' has no attribute 'Num'\n",
      "169440/169500 [============================>.] - ETA: 0s - loss: 0.2935 - accuracy: 0.8846\n",
      "Epoch 00001: val_accuracy improved from -inf to 0.92328, saving model to coattention2_several_spaces_model_title_01_0.9233.h5\n",
      "169500/169500 [==============================] - 130s 766us/sample - loss: 0.2935 - accuracy: 0.8846 - val_loss: 0.1937 - val_accuracy: 0.9233\n",
      "Epoch 2/20\n",
      "169472/169500 [============================>.] - ETA: 0s - loss: 0.2014 - accuracy: 0.9247\n",
      "Epoch 00002: val_accuracy improved from 0.92328 to 0.93172, saving model to coattention2_several_spaces_model_title_02_0.9317.h5\n",
      "169500/169500 [==============================] - 121s 712us/sample - loss: 0.2014 - accuracy: 0.9247 - val_loss: 0.1738 - val_accuracy: 0.9317\n",
      "Epoch 3/20\n",
      "169440/169500 [============================>.] - ETA: 0s - loss: 0.1777 - accuracy: 0.9331\n",
      "Epoch 00003: val_accuracy improved from 0.93172 to 0.93204, saving model to coattention2_several_spaces_model_title_03_0.9320.h5\n",
      "169500/169500 [==============================] - 118s 699us/sample - loss: 0.1777 - accuracy: 0.9330 - val_loss: 0.1672 - val_accuracy: 0.9320\n",
      "Epoch 4/20\n",
      "169472/169500 [============================>.] - ETA: 0s - loss: 0.1629 - accuracy: 0.9386\n",
      "Epoch 00004: val_accuracy improved from 0.93204 to 0.93719, saving model to coattention2_several_spaces_model_title_04_0.9372.h5\n",
      "169500/169500 [==============================] - 119s 701us/sample - loss: 0.1629 - accuracy: 0.9386 - val_loss: 0.1616 - val_accuracy: 0.9372\n",
      "Epoch 5/20\n",
      "169472/169500 [============================>.] - ETA: 0s - loss: 0.1506 - accuracy: 0.9419\n",
      "Epoch 00005: val_accuracy did not improve from 0.93719\n",
      "169500/169500 [==============================] - 118s 698us/sample - loss: 0.1506 - accuracy: 0.9420 - val_loss: 0.1806 - val_accuracy: 0.9348\n",
      "Epoch 6/20\n",
      "169408/169500 [============================>.] - ETA: 0s - loss: 0.1415 - accuracy: 0.9457\n",
      "Epoch 00006: val_accuracy did not improve from 0.93719\n",
      "169500/169500 [==============================] - 118s 699us/sample - loss: 0.1415 - accuracy: 0.9457 - val_loss: 0.1742 - val_accuracy: 0.9366\n",
      "Epoch 7/20\n",
      "169472/169500 [============================>.] - ETA: 0s - loss: 0.1327 - accuracy: 0.9482\n",
      "Epoch 00007: val_accuracy improved from 0.93719 to 0.93926, saving model to coattention2_several_spaces_model_title_07_0.9393.h5\n",
      "169500/169500 [==============================] - 118s 698us/sample - loss: 0.1327 - accuracy: 0.9482 - val_loss: 0.1698 - val_accuracy: 0.9393\n",
      "Epoch 8/20\n",
      "169472/169500 [============================>.] - ETA: 0s - loss: 0.1264 - accuracy: 0.9507\n",
      "Epoch 00008: val_accuracy did not improve from 0.93926\n",
      "169500/169500 [==============================] - 118s 697us/sample - loss: 0.1264 - accuracy: 0.9507 - val_loss: 0.1606 - val_accuracy: 0.9391\n",
      "Epoch 9/20\n",
      "169472/169500 [============================>.] - ETA: 0s - loss: 0.1195 - accuracy: 0.9525\n",
      "Epoch 00009: val_accuracy did not improve from 0.93926\n",
      "169500/169500 [==============================] - 118s 697us/sample - loss: 0.1195 - accuracy: 0.9526 - val_loss: 0.2031 - val_accuracy: 0.9388\n",
      "Epoch 10/20\n",
      "169472/169500 [============================>.] - ETA: 0s - loss: 0.1131 - accuracy: 0.9551\n",
      "Epoch 00010: val_accuracy did not improve from 0.93926\n",
      "169500/169500 [==============================] - 118s 698us/sample - loss: 0.1132 - accuracy: 0.9551 - val_loss: 0.1815 - val_accuracy: 0.9385\n",
      "Epoch 11/20\n",
      "169472/169500 [============================>.] - ETA: 0s - loss: 0.1070 - accuracy: 0.9577\n",
      "Epoch 00011: val_accuracy did not improve from 0.93926\n",
      "169500/169500 [==============================] - 118s 697us/sample - loss: 0.1070 - accuracy: 0.9577 - val_loss: 0.2033 - val_accuracy: 0.9384\n",
      "Epoch 12/20\n",
      "169472/169500 [============================>.] - ETA: 0s - loss: 0.1025 - accuracy: 0.9589\n",
      "Epoch 00012: val_accuracy did not improve from 0.93926\n",
      "169500/169500 [==============================] - 118s 698us/sample - loss: 0.1025 - accuracy: 0.9589 - val_loss: 0.1956 - val_accuracy: 0.9379\n",
      "Epoch 13/20\n",
      "169472/169500 [============================>.] - ETA: 0s - loss: 0.0966 - accuracy: 0.9605\n",
      "Epoch 00013: val_accuracy did not improve from 0.93926\n",
      "169500/169500 [==============================] - 118s 697us/sample - loss: 0.0966 - accuracy: 0.9605 - val_loss: 0.1961 - val_accuracy: 0.9365\n",
      "Epoch 14/20\n",
      "169472/169500 [============================>.] - ETA: 0s - loss: 0.0934 - accuracy: 0.9618\n",
      "Epoch 00014: val_accuracy did not improve from 0.93926\n",
      "169500/169500 [==============================] - 118s 697us/sample - loss: 0.0934 - accuracy: 0.9618 - val_loss: 0.2042 - val_accuracy: 0.9330\n",
      "Epoch 15/20\n",
      "169440/169500 [============================>.] - ETA: 0s - loss: 0.0896 - accuracy: 0.9631\n",
      "Epoch 00015: val_accuracy did not improve from 0.93926\n",
      "169500/169500 [==============================] - 118s 698us/sample - loss: 0.0896 - accuracy: 0.9631 - val_loss: 0.2158 - val_accuracy: 0.9377\n",
      "Epoch 16/20\n",
      "169472/169500 [============================>.] - ETA: 0s - loss: 0.0854 - accuracy: 0.9650\n",
      "Epoch 00016: val_accuracy did not improve from 0.93926\n",
      "169500/169500 [==============================] - 118s 697us/sample - loss: 0.0854 - accuracy: 0.9650 - val_loss: 0.2415 - val_accuracy: 0.9369\n",
      "Epoch 17/20\n",
      "169472/169500 [============================>.] - ETA: 0s - loss: 0.0823 - accuracy: 0.9659\n",
      "Epoch 00017: val_accuracy did not improve from 0.93926\n",
      "169500/169500 [==============================] - 118s 697us/sample - loss: 0.0823 - accuracy: 0.9659 - val_loss: 0.2368 - val_accuracy: 0.9390\n",
      "Epoch 18/20\n",
      "169472/169500 [============================>.] - ETA: 0s - loss: 0.0789 - accuracy: 0.9676\n",
      "Epoch 00018: val_accuracy did not improve from 0.93926\n",
      "169500/169500 [==============================] - 118s 697us/sample - loss: 0.0789 - accuracy: 0.9676 - val_loss: 0.2941 - val_accuracy: 0.9367\n",
      "Epoch 19/20\n",
      "169472/169500 [============================>.] - ETA: 0s - loss: 0.0762 - accuracy: 0.9683\n",
      "Epoch 00019: val_accuracy did not improve from 0.93926\n",
      "169500/169500 [==============================] - 118s 697us/sample - loss: 0.0762 - accuracy: 0.9683 - val_loss: 0.3140 - val_accuracy: 0.9362\n",
      "Epoch 20/20\n",
      "169472/169500 [============================>.] - ETA: 0s - loss: 0.0733 - accuracy: 0.9697\n",
      "Epoch 00020: val_accuracy did not improve from 0.93926\n",
      "169500/169500 [==============================] - 118s 697us/sample - loss: 0.0733 - accuracy: 0.9697 - val_loss: 0.2924 - val_accuracy: 0.9345\n"
     ]
    }
   ],
   "source": [
    "history = model.fit([train_article_title, train_table_title], train_label, \n",
    "          epochs=20, \n",
    "          batch_size=32, \n",
    "          validation_data=([validation_article_title, validation_table_title], validation_label),\n",
    "          callbacks=callbacks_list)"
   ]
  },
  {
   "cell_type": "code",
   "execution_count": null,
   "metadata": {},
   "outputs": [],
   "source": []
  },
  {
   "cell_type": "code",
   "execution_count": null,
   "metadata": {},
   "outputs": [],
   "source": []
  },
  {
   "cell_type": "code",
   "execution_count": null,
   "metadata": {},
   "outputs": [],
   "source": [
    "# summarize history for accuracy\n",
    "plt.plot(history.history['accuracy'])\n",
    "plt.plot(history.history['val_accuracy'])\n",
    "plt.title('model accuracy')\n",
    "plt.ylabel('accuracy')\n",
    "plt.xlabel('epoch')\n",
    "plt.legend(['train', 'validation'], loc='upper left')\n",
    "plt.show()"
   ]
  },
  {
   "cell_type": "code",
   "execution_count": null,
   "metadata": {},
   "outputs": [],
   "source": [
    "# summarize history for loss\n",
    "plt.plot(history.history['loss'])\n",
    "plt.plot(history.history['val_loss'])\n",
    "plt.title('model loss')\n",
    "plt.ylabel('loss')\n",
    "plt.xlabel('epoch')\n",
    "plt.legend(['train', 'validation'], loc='upper left')\n",
    "plt.show()"
   ]
  },
  {
   "cell_type": "code",
   "execution_count": null,
   "metadata": {},
   "outputs": [],
   "source": []
  },
  {
   "cell_type": "code",
   "execution_count": null,
   "metadata": {},
   "outputs": [],
   "source": [
    "model = tf.keras.models.load_model('affinity_model_train_cossine.h5')"
   ]
  },
  {
   "cell_type": "code",
   "execution_count": null,
   "metadata": {},
   "outputs": [],
   "source": [
    "y_prob = model.predict([validation_article_title,validation_table_title])\n",
    "y_predict = (y_prob > 0.5).astype(np.int)\n",
    "accuracy_score(validation_label, y_predict)"
   ]
  },
  {
   "cell_type": "code",
   "execution_count": null,
   "metadata": {},
   "outputs": [],
   "source": []
  },
  {
   "cell_type": "code",
   "execution_count": null,
   "metadata": {},
   "outputs": [],
   "source": [
    "import seaborn as sns\n",
    "import sklearn.metrics\n",
    "confusion_matrix = sklearn.metrics.confusion_matrix(validation_label, y_predict)\n",
    "\n",
    "plt.figure(figsize=(10, 8))\n",
    "sns.heatmap(confusion_matrix, annot=True, fmt=\"d\", cmap=\"YlGnBu\")#, annot_kws={\"size\": 15});\n",
    "plt.title(\"Confusion matrix\")\n",
    "plt.ylabel('True label')\n",
    "plt.xlabel('Predict label')\n",
    "plt.show()"
   ]
  },
  {
   "cell_type": "code",
   "execution_count": null,
   "metadata": {},
   "outputs": [],
   "source": []
  },
  {
   "cell_type": "code",
   "execution_count": null,
   "metadata": {},
   "outputs": [],
   "source": []
  }
 ],
 "metadata": {
  "kernelspec": {
   "display_name": "Python 3",
   "language": "python",
   "name": "python3"
  },
  "language_info": {
   "codemirror_mode": {
    "name": "ipython",
    "version": 3
   },
   "file_extension": ".py",
   "mimetype": "text/x-python",
   "name": "python",
   "nbconvert_exporter": "python",
   "pygments_lexer": "ipython3",
   "version": "3.7.3"
  }
 },
 "nbformat": 4,
 "nbformat_minor": 2
}
