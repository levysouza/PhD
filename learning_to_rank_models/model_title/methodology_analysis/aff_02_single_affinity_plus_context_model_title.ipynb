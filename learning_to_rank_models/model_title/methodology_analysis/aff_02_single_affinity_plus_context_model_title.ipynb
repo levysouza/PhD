{
 "cells": [
  {
   "cell_type": "code",
   "execution_count": 1,
   "metadata": {},
   "outputs": [],
   "source": [
    "import warnings\n",
    "import numpy as np\n",
    "import pandas as pd\n",
    "from sklearn.model_selection import train_test_split\n",
    "import gensim as gs\n",
    "from tqdm import tqdm\n",
    "import tensorflow as tf\n",
    "import matplotlib.pyplot as plt\n",
    "from nltk.tokenize import TweetTokenizer\n",
    "tknzr = TweetTokenizer()\n",
    "from sklearn.metrics import accuracy_score, precision_score, recall_score, f1_score\n",
    "warnings.filterwarnings('ignore')\n",
    "import fasttext"
   ]
  },
  {
   "cell_type": "code",
   "execution_count": 2,
   "metadata": {},
   "outputs": [],
   "source": [
    "train_dataset = pd.read_csv('../train_data/final_train_dataset', delimiter=',')\n",
    "validation_dataset = pd.read_csv('../train_data/final_validation_dataset', delimiter=',')"
   ]
  },
  {
   "cell_type": "code",
   "execution_count": null,
   "metadata": {},
   "outputs": [],
   "source": []
  },
  {
   "cell_type": "code",
   "execution_count": 3,
   "metadata": {},
   "outputs": [],
   "source": [
    "embedding_model = gs.models.FastText.load('../train_embedding_models/fasttext_embedding_50d_all_signals')"
   ]
  },
  {
   "cell_type": "code",
   "execution_count": null,
   "metadata": {},
   "outputs": [],
   "source": []
  },
  {
   "cell_type": "code",
   "execution_count": 4,
   "metadata": {},
   "outputs": [],
   "source": [
    "MAX_PAD = 31\n",
    "\n",
    "def sequence_padding(X_DIM, value):\n",
    "    \n",
    "    value_padding = np.pad(value, ((0,MAX_PAD - X_DIM),(0,0)), 'constant')\n",
    "    \n",
    "    return value_padding"
   ]
  },
  {
   "cell_type": "code",
   "execution_count": 5,
   "metadata": {},
   "outputs": [],
   "source": [
    "def create_embedding(value):\n",
    "\n",
    "    value = tknzr.tokenize(str(value))\n",
    "    \n",
    "    if len(value) < MAX_PAD:\n",
    "        \n",
    "        embedding = embedding_model.wv[value]\n",
    "        \n",
    "        padding_embedding = sequence_padding(embedding.shape[0],embedding)\n",
    "        \n",
    "        return padding_embedding\n",
    "        \n",
    "    else:\n",
    "        \n",
    "        embedding = embedding_model.wv[value[0:MAX_PAD]]\n",
    "        \n",
    "        return embedding"
   ]
  },
  {
   "cell_type": "code",
   "execution_count": null,
   "metadata": {},
   "outputs": [],
   "source": []
  },
  {
   "cell_type": "code",
   "execution_count": 6,
   "metadata": {},
   "outputs": [
    {
     "name": "stderr",
     "output_type": "stream",
     "text": [
      "169500it [00:51, 3262.22it/s]\n"
     ]
    }
   ],
   "source": [
    "train_article_title = []\n",
    "train_table_title = []\n",
    "train_label = []\n",
    "\n",
    "for i,row in tqdm(train_dataset.iterrows()):\n",
    "    \n",
    "    train_article_title.append(create_embedding(row['article_page_title']))\n",
    "    train_table_title.append(create_embedding(row['table_page_title']))\n",
    "    train_label.append(row['label'])"
   ]
  },
  {
   "cell_type": "code",
   "execution_count": 7,
   "metadata": {},
   "outputs": [],
   "source": [
    "train_article_title = np.array(train_article_title)\n",
    "train_table_title = np.array(train_table_title)\n",
    "train_label = np.array(train_label)"
   ]
  },
  {
   "cell_type": "code",
   "execution_count": 8,
   "metadata": {},
   "outputs": [
    {
     "data": {
      "text/plain": [
       "(169500, 31, 50)"
      ]
     },
     "execution_count": 8,
     "metadata": {},
     "output_type": "execute_result"
    }
   ],
   "source": [
    "train_article_title.shape"
   ]
  },
  {
   "cell_type": "code",
   "execution_count": null,
   "metadata": {},
   "outputs": [],
   "source": []
  },
  {
   "cell_type": "code",
   "execution_count": 9,
   "metadata": {},
   "outputs": [
    {
     "name": "stderr",
     "output_type": "stream",
     "text": [
      "18834it [00:05, 3261.17it/s]\n"
     ]
    }
   ],
   "source": [
    "validation_article_title = []\n",
    "validation_table_title = []\n",
    "validation_label = []\n",
    "\n",
    "for i, row in tqdm(validation_dataset.iterrows()):\n",
    "    \n",
    "    validation_article_title.append(create_embedding(row['article_page_title']))\n",
    "    validation_table_title.append(create_embedding(row['table_page_title']))  \n",
    "    validation_label.append(row['label'])"
   ]
  },
  {
   "cell_type": "code",
   "execution_count": 10,
   "metadata": {},
   "outputs": [],
   "source": [
    "validation_article_title = np.array(validation_article_title)\n",
    "validation_table_title = np.array(validation_table_title)\n",
    "validation_label = np.array(validation_label)"
   ]
  },
  {
   "cell_type": "code",
   "execution_count": 11,
   "metadata": {},
   "outputs": [
    {
     "data": {
      "text/plain": [
       "(18834, 31, 50)"
      ]
     },
     "execution_count": 11,
     "metadata": {},
     "output_type": "execute_result"
    }
   ],
   "source": [
    "validation_article_title.shape"
   ]
  },
  {
   "cell_type": "code",
   "execution_count": 12,
   "metadata": {},
   "outputs": [],
   "source": [
    "def affinity_method(query, document):\n",
    "    \n",
    "    transpose_document = tf.transpose(document,perm=[0, 2, 1])\n",
    "    \n",
    "    affinity = tf.matmul(query,transpose_document)\n",
    "    \n",
    "    normalize_affinity = tf.nn.softmax(affinity)\n",
    "    \n",
    "    return normalize_affinity"
   ]
  },
  {
   "cell_type": "code",
   "execution_count": null,
   "metadata": {},
   "outputs": [],
   "source": []
  },
  {
   "cell_type": "code",
   "execution_count": 13,
   "metadata": {},
   "outputs": [],
   "source": [
    "def attention_model():\n",
    "    \n",
    "    article_title = tf.keras.Input(shape=(31,50), dtype='float32')\n",
    "    table_title = tf.keras.Input(shape=(31,50), dtype='float32')\n",
    "    \n",
    "    affinity_titleA_titleB = affinity_method(article_title,table_title)\n",
    "    \n",
    "    context_affinity = tf.keras.layers.Bidirectional(tf.keras.layers.GRU(32, return_sequences=True))(affinity_titleA_titleB)\n",
    "    \n",
    "    learned_vector = tf.keras.layers.Flatten()(context_affinity)\n",
    "   \n",
    "    MLP_input = tf.keras.layers.Dense(64, activation='relu')(learned_vector)\n",
    "    dropout1 = tf.keras.layers.Dropout(0.5, name=\"dropout1\")(MLP_input)\n",
    "    MLP_hidden = tf.keras.layers.Dense(32, activation='relu')(dropout1)\n",
    "    dropout2 = tf.keras.layers.Dropout(0.5, name=\"dropout2\")(MLP_hidden)\n",
    "    MLP_output = tf.keras.layers.Dense(1,activation='sigmoid')(dropout2)\n",
    "    \n",
    "    model = tf.keras.Model(inputs=[article_title,table_title],outputs=MLP_output)\n",
    "    \n",
    "    return model"
   ]
  },
  {
   "cell_type": "code",
   "execution_count": 14,
   "metadata": {},
   "outputs": [],
   "source": [
    "model = attention_model()"
   ]
  },
  {
   "cell_type": "code",
   "execution_count": null,
   "metadata": {},
   "outputs": [],
   "source": []
  },
  {
   "cell_type": "code",
   "execution_count": 15,
   "metadata": {},
   "outputs": [],
   "source": [
    "model.compile(loss=\"binary_crossentropy\",optimizer=\"adam\", metrics=['accuracy'])"
   ]
  },
  {
   "cell_type": "code",
   "execution_count": 16,
   "metadata": {},
   "outputs": [],
   "source": [
    "filepath=\"single_affinity_plus_context_model_title_{epoch:02d}_{val_accuracy:.4f}.h5\"\n",
    "checkpoint = tf.keras.callbacks.ModelCheckpoint(filepath, monitor='val_accuracy', verbose=1, save_best_only=True, mode='max')\n",
    "callbacks_list = [checkpoint]"
   ]
  },
  {
   "cell_type": "code",
   "execution_count": 17,
   "metadata": {},
   "outputs": [
    {
     "name": "stdout",
     "output_type": "stream",
     "text": [
      "Train on 169500 samples, validate on 18834 samples\n",
      "Epoch 1/20\n",
      "WARNING:tensorflow:From /home/lss9/anaconda3/lib/python3.7/site-packages/tensorflow_core/python/ops/nn_impl.py:183: where (from tensorflow.python.ops.array_ops) is deprecated and will be removed in a future version.\n",
      "Instructions for updating:\n",
      "Use tf.where in 2.0, which has the same broadcast rule as np.where\n",
      "WARNING:tensorflow:Entity <function Function._initialize_uninitialized_variables.<locals>.initialize_variables at 0x7f654e984598> could not be transformed and will be executed as-is. Please report this to the AutoGraph team. When filing the bug, set the verbosity to 10 (on Linux, `export AUTOGRAPH_VERBOSITY=10`) and attach the full output. Cause: module 'gast' has no attribute 'Num'\n",
      "WARNING: Entity <function Function._initialize_uninitialized_variables.<locals>.initialize_variables at 0x7f654e984598> could not be transformed and will be executed as-is. Please report this to the AutoGraph team. When filing the bug, set the verbosity to 10 (on Linux, `export AUTOGRAPH_VERBOSITY=10`) and attach the full output. Cause: module 'gast' has no attribute 'Num'\n",
      "169344/169500 [============================>.] - ETA: 0s - loss: 0.3623 - accuracy: 0.8579\n",
      "Epoch 00001: val_accuracy improved from -inf to 0.87703, saving model to single_affinity_plus_context_model_title_01_0.8770.h5\n",
      "169500/169500 [==============================] - 53s 312us/sample - loss: 0.3622 - accuracy: 0.8579 - val_loss: 0.2995 - val_accuracy: 0.8770\n",
      "Epoch 2/20\n",
      "169472/169500 [============================>.] - ETA: 0s - loss: 0.3231 - accuracy: 0.8755\n",
      "Epoch 00002: val_accuracy improved from 0.87703 to 0.88207, saving model to single_affinity_plus_context_model_title_02_0.8821.h5\n",
      "169500/169500 [==============================] - 49s 291us/sample - loss: 0.3231 - accuracy: 0.8755 - val_loss: 0.2993 - val_accuracy: 0.8821\n",
      "Epoch 3/20\n",
      "169376/169500 [============================>.] - ETA: 0s - loss: 0.3158 - accuracy: 0.8785\n",
      "Epoch 00003: val_accuracy improved from 0.88207 to 0.88340, saving model to single_affinity_plus_context_model_title_03_0.8834.h5\n",
      "169500/169500 [==============================] - 49s 290us/sample - loss: 0.3159 - accuracy: 0.8784 - val_loss: 0.2948 - val_accuracy: 0.8834\n",
      "Epoch 4/20\n",
      "169376/169500 [============================>.] - ETA: 0s - loss: 0.3112 - accuracy: 0.8801\n",
      "Epoch 00004: val_accuracy did not improve from 0.88340\n",
      "169500/169500 [==============================] - 49s 289us/sample - loss: 0.3113 - accuracy: 0.8801 - val_loss: 0.2947 - val_accuracy: 0.8780\n",
      "Epoch 5/20\n",
      "169376/169500 [============================>.] - ETA: 0s - loss: 0.3078 - accuracy: 0.8815\n",
      "Epoch 00005: val_accuracy improved from 0.88340 to 0.88813, saving model to single_affinity_plus_context_model_title_05_0.8881.h5\n",
      "169500/169500 [==============================] - 49s 289us/sample - loss: 0.3077 - accuracy: 0.8815 - val_loss: 0.2841 - val_accuracy: 0.8881\n",
      "Epoch 6/20\n",
      "169376/169500 [============================>.] - ETA: 0s - loss: 0.3042 - accuracy: 0.8833\n",
      "Epoch 00006: val_accuracy did not improve from 0.88813\n",
      "169500/169500 [==============================] - 49s 289us/sample - loss: 0.3042 - accuracy: 0.8833 - val_loss: 0.2815 - val_accuracy: 0.8881\n",
      "Epoch 7/20\n",
      "169376/169500 [============================>.] - ETA: 0s - loss: 0.3030 - accuracy: 0.8847\n",
      "Epoch 00007: val_accuracy did not improve from 0.88813\n",
      "169500/169500 [==============================] - 49s 289us/sample - loss: 0.3030 - accuracy: 0.8847 - val_loss: 0.2819 - val_accuracy: 0.8875\n",
      "Epoch 8/20\n",
      "169376/169500 [============================>.] - ETA: 0s - loss: 0.3003 - accuracy: 0.8845\n",
      "Epoch 00008: val_accuracy did not improve from 0.88813\n",
      "169500/169500 [==============================] - 49s 289us/sample - loss: 0.3003 - accuracy: 0.8845 - val_loss: 0.2764 - val_accuracy: 0.8879\n",
      "Epoch 9/20\n",
      "169376/169500 [============================>.] - ETA: 0s - loss: 0.2987 - accuracy: 0.8855\n",
      "Epoch 00009: val_accuracy did not improve from 0.88813\n",
      "169500/169500 [==============================] - 49s 288us/sample - loss: 0.2988 - accuracy: 0.8855 - val_loss: 0.2854 - val_accuracy: 0.8855\n",
      "Epoch 10/20\n",
      "169376/169500 [============================>.] - ETA: 0s - loss: 0.2961 - accuracy: 0.8865\n",
      "Epoch 00010: val_accuracy improved from 0.88813 to 0.88951, saving model to single_affinity_plus_context_model_title_10_0.8895.h5\n",
      "169500/169500 [==============================] - 49s 288us/sample - loss: 0.2961 - accuracy: 0.8865 - val_loss: 0.2765 - val_accuracy: 0.8895\n",
      "Epoch 11/20\n",
      "169376/169500 [============================>.] - ETA: 0s - loss: 0.2954 - accuracy: 0.8873\n",
      "Epoch 00011: val_accuracy improved from 0.88951 to 0.89105, saving model to single_affinity_plus_context_model_title_11_0.8910.h5\n",
      "169500/169500 [==============================] - 49s 288us/sample - loss: 0.2954 - accuracy: 0.8873 - val_loss: 0.2755 - val_accuracy: 0.8910\n",
      "Epoch 12/20\n",
      "169376/169500 [============================>.] - ETA: 0s - loss: 0.2935 - accuracy: 0.8875\n",
      "Epoch 00012: val_accuracy did not improve from 0.89105\n",
      "169500/169500 [==============================] - 49s 288us/sample - loss: 0.2935 - accuracy: 0.8875 - val_loss: 0.2731 - val_accuracy: 0.8900\n",
      "Epoch 13/20\n",
      "169376/169500 [============================>.] - ETA: 0s - loss: 0.2924 - accuracy: 0.8882\n",
      "Epoch 00013: val_accuracy improved from 0.89105 to 0.89264, saving model to single_affinity_plus_context_model_title_13_0.8926.h5\n",
      "169500/169500 [==============================] - 49s 288us/sample - loss: 0.2924 - accuracy: 0.8882 - val_loss: 0.2708 - val_accuracy: 0.8926\n",
      "Epoch 14/20\n",
      "169376/169500 [============================>.] - ETA: 0s - loss: 0.2908 - accuracy: 0.8885\n",
      "Epoch 00014: val_accuracy did not improve from 0.89264\n",
      "169500/169500 [==============================] - 49s 287us/sample - loss: 0.2908 - accuracy: 0.8885 - val_loss: 0.2716 - val_accuracy: 0.8909\n",
      "Epoch 15/20\n",
      "169376/169500 [============================>.] - ETA: 0s - loss: 0.2906 - accuracy: 0.8888\n",
      "Epoch 00015: val_accuracy did not improve from 0.89264\n",
      "169500/169500 [==============================] - 49s 287us/sample - loss: 0.2906 - accuracy: 0.8888 - val_loss: 0.2735 - val_accuracy: 0.8891\n",
      "Epoch 16/20\n",
      "169376/169500 [============================>.] - ETA: 0s - loss: 0.2882 - accuracy: 0.8895\n",
      "Epoch 00016: val_accuracy did not improve from 0.89264\n",
      "169500/169500 [==============================] - 51s 300us/sample - loss: 0.2882 - accuracy: 0.8895 - val_loss: 0.2726 - val_accuracy: 0.8901\n",
      "Epoch 17/20\n",
      "169376/169500 [============================>.] - ETA: 0s - loss: 0.2880 - accuracy: 0.8898\n",
      "Epoch 00017: val_accuracy improved from 0.89264 to 0.89333, saving model to single_affinity_plus_context_model_title_17_0.8933.h5\n",
      "169500/169500 [==============================] - 49s 288us/sample - loss: 0.2880 - accuracy: 0.8898 - val_loss: 0.2691 - val_accuracy: 0.8933\n",
      "Epoch 18/20\n",
      "169376/169500 [============================>.] - ETA: 0s - loss: 0.2870 - accuracy: 0.8900\n",
      "Epoch 00018: val_accuracy did not improve from 0.89333\n",
      "169500/169500 [==============================] - 49s 287us/sample - loss: 0.2869 - accuracy: 0.8900 - val_loss: 0.2722 - val_accuracy: 0.8931\n",
      "Epoch 19/20\n",
      "169376/169500 [============================>.] - ETA: 0s - loss: 0.2858 - accuracy: 0.8904\n",
      "Epoch 00019: val_accuracy did not improve from 0.89333\n",
      "169500/169500 [==============================] - 49s 288us/sample - loss: 0.2858 - accuracy: 0.8904 - val_loss: 0.2682 - val_accuracy: 0.8915\n",
      "Epoch 20/20\n",
      "169376/169500 [============================>.] - ETA: 0s - loss: 0.2851 - accuracy: 0.8906\n",
      "Epoch 00020: val_accuracy improved from 0.89333 to 0.89354, saving model to single_affinity_plus_context_model_title_20_0.8935.h5\n",
      "169500/169500 [==============================] - 49s 287us/sample - loss: 0.2851 - accuracy: 0.8906 - val_loss: 0.2722 - val_accuracy: 0.8935\n"
     ]
    }
   ],
   "source": [
    "history = model.fit([train_article_title, train_table_title], train_label, \n",
    "          epochs=20, \n",
    "          batch_size=32, \n",
    "          validation_data=([validation_article_title, validation_table_title], validation_label),\n",
    "          callbacks=callbacks_list)"
   ]
  },
  {
   "cell_type": "code",
   "execution_count": null,
   "metadata": {},
   "outputs": [],
   "source": []
  },
  {
   "cell_type": "code",
   "execution_count": null,
   "metadata": {},
   "outputs": [],
   "source": []
  },
  {
   "cell_type": "code",
   "execution_count": null,
   "metadata": {},
   "outputs": [],
   "source": [
    "# summarize history for accuracy\n",
    "plt.plot(history.history['accuracy'])\n",
    "plt.plot(history.history['val_accuracy'])\n",
    "plt.title('model accuracy')\n",
    "plt.ylabel('accuracy')\n",
    "plt.xlabel('epoch')\n",
    "plt.legend(['train', 'validation'], loc='upper left')\n",
    "plt.show()"
   ]
  },
  {
   "cell_type": "code",
   "execution_count": null,
   "metadata": {},
   "outputs": [],
   "source": [
    "# summarize history for loss\n",
    "plt.plot(history.history['loss'])\n",
    "plt.plot(history.history['val_loss'])\n",
    "plt.title('model loss')\n",
    "plt.ylabel('loss')\n",
    "plt.xlabel('epoch')\n",
    "plt.legend(['train', 'validation'], loc='upper left')\n",
    "plt.show()"
   ]
  },
  {
   "cell_type": "code",
   "execution_count": null,
   "metadata": {},
   "outputs": [],
   "source": []
  },
  {
   "cell_type": "code",
   "execution_count": null,
   "metadata": {},
   "outputs": [],
   "source": [
    "model = tf.keras.models.load_model('affinity_model_train_cossine.h5')"
   ]
  },
  {
   "cell_type": "code",
   "execution_count": null,
   "metadata": {},
   "outputs": [],
   "source": [
    "y_prob = model.predict([validation_article_title,validation_table_title])\n",
    "y_predict = (y_prob > 0.5).astype(np.int)\n",
    "accuracy_score(validation_label, y_predict)"
   ]
  },
  {
   "cell_type": "code",
   "execution_count": null,
   "metadata": {},
   "outputs": [],
   "source": []
  },
  {
   "cell_type": "code",
   "execution_count": null,
   "metadata": {},
   "outputs": [],
   "source": [
    "import seaborn as sns\n",
    "import sklearn.metrics\n",
    "confusion_matrix = sklearn.metrics.confusion_matrix(validation_label, y_predict)\n",
    "\n",
    "plt.figure(figsize=(10, 8))\n",
    "sns.heatmap(confusion_matrix, annot=True, fmt=\"d\", cmap=\"YlGnBu\")#, annot_kws={\"size\": 15});\n",
    "plt.title(\"Confusion matrix\")\n",
    "plt.ylabel('True label')\n",
    "plt.xlabel('Predict label')\n",
    "plt.show()"
   ]
  },
  {
   "cell_type": "code",
   "execution_count": null,
   "metadata": {},
   "outputs": [],
   "source": []
  },
  {
   "cell_type": "code",
   "execution_count": null,
   "metadata": {},
   "outputs": [],
   "source": []
  }
 ],
 "metadata": {
  "kernelspec": {
   "display_name": "Python 3",
   "language": "python",
   "name": "python3"
  },
  "language_info": {
   "codemirror_mode": {
    "name": "ipython",
    "version": 3
   },
   "file_extension": ".py",
   "mimetype": "text/x-python",
   "name": "python",
   "nbconvert_exporter": "python",
   "pygments_lexer": "ipython3",
   "version": "3.7.3"
  }
 },
 "nbformat": 4,
 "nbformat_minor": 2
}
