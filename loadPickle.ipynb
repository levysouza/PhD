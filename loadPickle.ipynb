{
 "cells": [
  {
   "cell_type": "code",
   "execution_count": 1,
   "metadata": {},
   "outputs": [],
   "source": [
    "import pickle\n",
    "import re\n",
    "from tqdm import tqdm"
   ]
  },
  {
   "cell_type": "markdown",
   "metadata": {},
   "source": [
    "In the block below we are reading the raw data from articles and tables."
   ]
  },
  {
   "cell_type": "code",
   "execution_count": 2,
   "metadata": {},
   "outputs": [],
   "source": [
    "rawArticles = pickle.load(open(\"NewsDataset/final_article_tables.pkl\",\"rb\"))\n",
    "rawTables = pickle.load(open(\"NewsDataset/final_dict_tables.pkl\",\"rb\"))"
   ]
  },
  {
   "cell_type": "markdown",
   "metadata": {},
   "source": [
    "In the block next, we are formatting the articles data by removing links, multiples spaces and special characters. Each article has several links. Then we get each one. Finally, we read all text of each link."
   ]
  },
  {
   "cell_type": "code",
   "execution_count": 9,
   "metadata": {},
   "outputs": [
    {
     "name": "stderr",
     "output_type": "stream",
     "text": [
      "100%|██████████| 90000/90000 [12:27<00:00, 120.33it/s]\n"
     ]
    }
   ],
   "source": [
    "corpusArticles = []\n",
    "\n",
    "for i in tqdm(rawArticles.keys()):\n",
    "    \n",
    "    keyArticle = i\n",
    "     \n",
    "    dataArticle = rawArticles[keyArticle]\n",
    "\n",
    "    totalArticles = len(dataArticle)\n",
    "\n",
    "    for i in range(totalArticles):\n",
    "    \n",
    "        fullText = str(dataArticle[i][1])\n",
    "    \n",
    "        #removing special characters\n",
    "        formattedText = re.sub('[^A-Za-z]+',' ',fullText)\n",
    "    \n",
    "        #removing left and right spaces\n",
    "        formattedText = formattedText.lstrip()\n",
    "        formattedText = formattedText.rstrip()\n",
    "    \n",
    "        corpusArticles.append([keyArticle,formattedText])"
   ]
  },
  {
   "cell_type": "markdown",
   "metadata": {},
   "source": [
    "In the next block, we remove empty values from articles."
   ]
  },
  {
   "cell_type": "code",
   "execution_count": 37,
   "metadata": {},
   "outputs": [],
   "source": [
    "for article in corpusArticles:\n",
    "    if (article[1] == ''):\n",
    "        corpusArticles.remove(article)"
   ]
  },
  {
   "cell_type": "markdown",
   "metadata": {},
   "source": [
    "In the block next, we are reading and formatting the raw table data. Each indice may have multiple tables. So, we collect each table separately. Next, we add tables in the corpus."
   ]
  },
  {
   "cell_type": "code",
   "execution_count": 3,
   "metadata": {},
   "outputs": [
    {
     "name": "stderr",
     "output_type": "stream",
     "text": [
      "100%|██████████| 90000/90000 [02:39<00:00, 563.13it/s] \n"
     ]
    }
   ],
   "source": [
    "corpusTable = []\n",
    "\n",
    "for i in tqdm(rawTables.keys()):\n",
    "    \n",
    "    dataTable = rawTables[i]\n",
    "    \n",
    "    totalTalbes = len(dataTable)\n",
    "    \n",
    "    for j in range(totalTalbes):\n",
    "        \n",
    "        keyTable = dataTable[j][0][0]\n",
    "        \n",
    "        keyCaption = dataTable[j][0][1]\n",
    "        \n",
    "        tableText = str(dataTable[j][1:])\n",
    "    \n",
    "        fullTextTable = re.sub('[^A-Za-z]+',' ',tableText)\n",
    "        \n",
    "        #removing left and right spaces\n",
    "        fullTextTable = fullTextTable.lstrip()\n",
    "        fullTextTable = fullTextTable.rstrip()\n",
    "        \n",
    "        corpusTable.append([keyTable,keyCaption,fullTextTable])"
   ]
  },
  {
   "cell_type": "markdown",
   "metadata": {},
   "source": [
    "tf-idf method"
   ]
  },
  {
   "cell_type": "code",
   "execution_count": 62,
   "metadata": {},
   "outputs": [],
   "source": [
    "from sklearn.feature_extraction.text import TfidfVectorizer"
   ]
  },
  {
   "cell_type": "code",
   "execution_count": 100,
   "metadata": {},
   "outputs": [
    {
     "ename": "TypeError",
     "evalue": "list indices must be integers or slices, not tuple",
     "output_type": "error",
     "traceback": [
      "\u001b[0;31m---------------------------------------------------------------------------\u001b[0m",
      "\u001b[0;31mTypeError\u001b[0m                                 Traceback (most recent call last)",
      "\u001b[0;32m<ipython-input-100-cf39efed852b>\u001b[0m in \u001b[0;36m<module>\u001b[0;34m\u001b[0m\n\u001b[0;32m----> 1\u001b[0;31m \u001b[0mcorpusTable\u001b[0m\u001b[0;34m[\u001b[0m\u001b[0;34m:\u001b[0m\u001b[0;36m2\u001b[0m\u001b[0;34m,\u001b[0m\u001b[0;36m1\u001b[0m\u001b[0;34m:\u001b[0m\u001b[0;34m,\u001b[0m\u001b[0;34m:\u001b[0m\u001b[0;36m2\u001b[0m\u001b[0;34m]\u001b[0m\u001b[0;34m\u001b[0m\u001b[0;34m\u001b[0m\u001b[0m\n\u001b[0m",
      "\u001b[0;31mTypeError\u001b[0m: list indices must be integers or slices, not tuple"
     ]
    }
   ],
   "source": [
    "corpusTable[:2,1:,:2]"
   ]
  },
  {
   "cell_type": "code",
   "execution_count": null,
   "metadata": {},
   "outputs": [],
   "source": []
  },
  {
   "cell_type": "code",
   "execution_count": null,
   "metadata": {},
   "outputs": [],
   "source": []
  },
  {
   "cell_type": "code",
   "execution_count": null,
   "metadata": {},
   "outputs": [],
   "source": []
  },
  {
   "cell_type": "code",
   "execution_count": null,
   "metadata": {},
   "outputs": [],
   "source": []
  }
 ],
 "metadata": {
  "kernelspec": {
   "display_name": "Python 3",
   "language": "python",
   "name": "python3"
  },
  "language_info": {
   "codemirror_mode": {
    "name": "ipython",
    "version": 3
   },
   "file_extension": ".py",
   "mimetype": "text/x-python",
   "name": "python",
   "nbconvert_exporter": "python",
   "pygments_lexer": "ipython3",
   "version": "3.7.3"
  }
 },
 "nbformat": 4,
 "nbformat_minor": 2
}
