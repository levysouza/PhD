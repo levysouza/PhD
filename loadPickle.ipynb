{
 "cells": [
  {
   "cell_type": "code",
   "execution_count": 30,
   "metadata": {},
   "outputs": [],
   "source": [
    "import pickle\n",
    "import re\n",
    "from tqdm import tqdm\n",
    "import numpy as np\n",
    "from sklearn.feature_extraction.text import TfidfVectorizer\n",
    "from scipy.spatial import distance\n",
    "from heapq import nsmallest\n",
    "from sklearn.metrics import pairwise_distances"
   ]
  },
  {
   "cell_type": "markdown",
   "metadata": {},
   "source": [
    "In the block below we are reading the raw data from articles and tables."
   ]
  },
  {
   "cell_type": "code",
   "execution_count": 2,
   "metadata": {},
   "outputs": [],
   "source": [
    "rawArticles = pickle.load(open(\"NewsDataset/final_article_tables.pkl\",\"rb\"))\n",
    "rawTables = pickle.load(open(\"NewsDataset/final_dict_tables.pkl\",\"rb\"))"
   ]
  },
  {
   "cell_type": "markdown",
   "metadata": {},
   "source": [
    "In the block next, we are formatting the articles data by removing links, multiples spaces and special characters. Each article has several links. Then we get each one. Finally, we read all text of each link."
   ]
  },
  {
   "cell_type": "code",
   "execution_count": 3,
   "metadata": {},
   "outputs": [
    {
     "name": "stderr",
     "output_type": "stream",
     "text": [
      "100%|██████████| 90000/90000 [04:31<00:00, 331.75it/s]\n"
     ]
    }
   ],
   "source": [
    "formattedArticles = []\n",
    "\n",
    "for i in tqdm(rawArticles.keys()):\n",
    "    \n",
    "    keyArticle = i\n",
    "     \n",
    "    dataArticle = rawArticles[keyArticle]\n",
    "\n",
    "    totalArticles = len(dataArticle)\n",
    "\n",
    "    for i in range(totalArticles):\n",
    "    \n",
    "        fullText = str(dataArticle[i][1])\n",
    "    \n",
    "        #removing special characters\n",
    "        formattedText = re.sub('[^A-Za-z]+',' ',fullText)\n",
    "    \n",
    "        #removing left and right spaces\n",
    "        formattedText = formattedText.lstrip()\n",
    "        formattedText = formattedText.rstrip()\n",
    "    \n",
    "        formattedArticles.append([keyArticle,formattedText])"
   ]
  },
  {
   "cell_type": "markdown",
   "metadata": {},
   "source": [
    "In the next block, we remove empty values from articles."
   ]
  },
  {
   "cell_type": "code",
   "execution_count": 4,
   "metadata": {},
   "outputs": [
    {
     "name": "stderr",
     "output_type": "stream",
     "text": [
      " 98%|█████████▊| 291676/298725 [01:34<00:02, 3090.30it/s]\n"
     ]
    }
   ],
   "source": [
    "for article in tqdm(formattedArticles):\n",
    "    if (article[1] == ''):\n",
    "        formattedArticles.remove(article)"
   ]
  },
  {
   "cell_type": "markdown",
   "metadata": {},
   "source": [
    "In the block next, we are reading and formatting the raw table data. Each indice may have multiple tables. So, we collect each table separately. Next, we add tables in the corpus."
   ]
  },
  {
   "cell_type": "code",
   "execution_count": 5,
   "metadata": {},
   "outputs": [
    {
     "name": "stderr",
     "output_type": "stream",
     "text": [
      "100%|██████████| 90000/90000 [00:57<00:00, 1576.14it/s]\n"
     ]
    }
   ],
   "source": [
    "formattedTables = []\n",
    "\n",
    "for i in tqdm(rawTables.keys()):\n",
    "    \n",
    "    dataTable = rawTables[i]\n",
    "    \n",
    "    totalTalbes = len(dataTable)\n",
    "    \n",
    "    for j in range(totalTalbes):\n",
    "        \n",
    "        keyTable = dataTable[j][0][0]\n",
    "        \n",
    "        keyCaption = dataTable[j][0][1]\n",
    "        \n",
    "        tableText = str(dataTable[j][1:])\n",
    "    \n",
    "        fullTextTable = re.sub('[^A-Za-z]+',' ',tableText)\n",
    "        \n",
    "        #removing left and right spaces\n",
    "        fullTextTable = fullTextTable.lstrip()\n",
    "        fullTextTable = fullTextTable.rstrip()\n",
    "        \n",
    "        formattedTables.append([keyTable,keyCaption,fullTextTable])"
   ]
  },
  {
   "cell_type": "code",
   "execution_count": 6,
   "metadata": {},
   "outputs": [
    {
     "name": "stderr",
     "output_type": "stream",
     "text": [
      " 97%|█████████▋| 298855/308759 [02:02<00:04, 2430.46it/s]\n"
     ]
    }
   ],
   "source": [
    "for tables in tqdm(formattedTables):\n",
    "    if (tables[2] == ''):\n",
    "        formattedTables.remove(tables)"
   ]
  },
  {
   "cell_type": "markdown",
   "metadata": {},
   "source": [
    "tf-idf method"
   ]
  },
  {
   "cell_type": "code",
   "execution_count": 7,
   "metadata": {},
   "outputs": [],
   "source": [
    "corpusTables = []\n",
    "\n",
    "for tables in formattedTables:\n",
    "    \n",
    "    corpusTables.append(tables[2])"
   ]
  },
  {
   "cell_type": "code",
   "execution_count": 90,
   "metadata": {},
   "outputs": [],
   "source": [
    "temp1 = np.asarray(formattedArticles[0:10])\n",
    "corpusArticles = temp1[:,1]"
   ]
  },
  {
   "cell_type": "code",
   "execution_count": 9,
   "metadata": {},
   "outputs": [],
   "source": [
    "vectorizer = TfidfVectorizer(stop_words='english', analyzer='word')\n",
    "tablesByCharacteristics = vectorizer.fit_transform(corpusTables)"
   ]
  },
  {
   "cell_type": "code",
   "execution_count": 91,
   "metadata": {},
   "outputs": [],
   "source": [
    "articlesByCharacteristics = vectorizer.transform(corpusArticles)"
   ]
  },
  {
   "cell_type": "code",
   "execution_count": 11,
   "metadata": {},
   "outputs": [],
   "source": [
    "def getTotalTablesByArticle(idArticle):\n",
    "\n",
    "    countTopTables = 0\n",
    "\n",
    "    for tables in formattedTables:\n",
    "    \n",
    "        if tables[0] == int(idArticle):\n",
    "        \n",
    "             countTopTables = countTopTables + 1\n",
    "\n",
    "    return countTopTables"
   ]
  },
  {
   "cell_type": "code",
   "execution_count": 77,
   "metadata": {},
   "outputs": [],
   "source": [
    "def getIdRankedTalbes(topK,distanceVector):\n",
    "\n",
    "    idRankedTables = []\n",
    "\n",
    "    for topkDistance in topK:\n",
    "    \n",
    "        #index = distanceVector.index(topkDistance)\n",
    "        \n",
    "        index = np.where(distanceVector == topkDistance)\n",
    "         \n",
    "        indexColummun = index[0][0]\n",
    "        \n",
    "        idRankedTables.append(formattedTables[indexColummun][0])\n",
    "\n",
    "    return idRankedTables"
   ]
  },
  {
   "cell_type": "code",
   "execution_count": 13,
   "metadata": {},
   "outputs": [],
   "source": [
    "def getAccuracy(idRankedTables, idQueryGoal):\n",
    "\n",
    "    totalRanquedTables = len(idRankedTables)\n",
    "\n",
    "    match = 0\n",
    "\n",
    "    for idTable in idRankedTables:\n",
    "    \n",
    "        if idTable == idQueryGoal:\n",
    "    \n",
    "            match = match + 1\n",
    "\n",
    "    accuracy = match / totalRanquedTables\n",
    "    \n",
    "    return accuracy"
   ]
  },
  {
   "cell_type": "code",
   "execution_count": 93,
   "metadata": {},
   "outputs": [],
   "source": [
    "idQueryGoal = int(formattedArticles[0][0])\n",
    "\n",
    "distanceVector = pairwise_distances(articlesByCharacteristics, tablesByCharacteristics, metric='cosine')\n",
    "\n",
    "#countTopTables = getTotalTablesByArticle(idQueryGoal)\n",
    "    \n",
    "#topK = nsmallest(countTopTables, distanceVector[0])\n",
    "\n",
    "#idRankedTables = getIdRankedTalbes(topK,distanceVector[0])"
   ]
  },
  {
   "cell_type": "code",
   "execution_count": 83,
   "metadata": {},
   "outputs": [
    {
     "name": "stdout",
     "output_type": "stream",
     "text": [
      "0.0\n"
     ]
    }
   ],
   "source": [
    "print(getAccuracy(idRankedTables,idQueryGoal))"
   ]
  },
  {
   "cell_type": "code",
   "execution_count": null,
   "metadata": {},
   "outputs": [],
   "source": []
  },
  {
   "cell_type": "code",
   "execution_count": null,
   "metadata": {},
   "outputs": [],
   "source": []
  },
  {
   "cell_type": "code",
   "execution_count": null,
   "metadata": {},
   "outputs": [],
   "source": []
  }
 ],
 "metadata": {
  "kernelspec": {
   "display_name": "Python 3",
   "language": "python",
   "name": "python3"
  },
  "language_info": {
   "codemirror_mode": {
    "name": "ipython",
    "version": 3
   },
   "file_extension": ".py",
   "mimetype": "text/x-python",
   "name": "python",
   "nbconvert_exporter": "python",
   "pygments_lexer": "ipython3",
   "version": "3.7.3"
  }
 },
 "nbformat": 4,
 "nbformat_minor": 2
}
