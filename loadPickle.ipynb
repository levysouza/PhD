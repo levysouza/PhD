{
 "cells": [
  {
   "cell_type": "code",
   "execution_count": 1,
   "metadata": {},
   "outputs": [],
   "source": [
    "import pickle\n",
    "import re\n",
    "from tqdm import tqdm"
   ]
  },
  {
   "cell_type": "markdown",
   "metadata": {},
   "source": [
    "In the block below we are reading the raw data from articles and tables."
   ]
  },
  {
   "cell_type": "code",
   "execution_count": 2,
   "metadata": {},
   "outputs": [],
   "source": [
    "rawArticles = pickle.load(open(\"NewsDataset/final_article_tables.pkl\",\"rb\"))\n",
    "rawTables = pickle.load(open(\"NewsDataset/final_dict_tables.pkl\",\"rb\"))"
   ]
  },
  {
   "cell_type": "markdown",
   "metadata": {},
   "source": [
    "In the block next, we are formatting the articles data by removing links, multiples spaces and special characters. Each article has several links. Then we get each one. Next, we read all text of each link. Finally, we concatenate all text in an unique string."
   ]
  },
  {
   "cell_type": "code",
   "execution_count": 3,
   "metadata": {},
   "outputs": [
    {
     "name": "stderr",
     "output_type": "stream",
     "text": [
      "100%|██████████| 90000/90000 [16:34<00:00, 90.53it/s] \n"
     ]
    }
   ],
   "source": [
    "formattedArticles = []\n",
    "\n",
    "for i in tqdm(rawArticles.keys()):\n",
    "    \n",
    "    keyArticle = i\n",
    "    \n",
    "    rawTextByLinks = rawArticles[key]\n",
    "    \n",
    "    aux = ''\n",
    "    \n",
    "    for j in range(len(rawTextByLinks)):\n",
    "        \n",
    "        aux = aux + ' ' + rawTextByLinks[j][1]\n",
    "    \n",
    "    formattedText = re.sub('[^A-Za-z]+',' ',aux)\n",
    "    \n",
    "    formattedArticles.append([keyArticle,formattedText])"
   ]
  },
  {
   "cell_type": "markdown",
   "metadata": {},
   "source": [
    "In the block next, we are reading and formatting the raw table data."
   ]
  },
  {
   "cell_type": "code",
   "execution_count": 3,
   "metadata": {},
   "outputs": [
    {
     "name": "stderr",
     "output_type": "stream",
     "text": [
      " 66%|██████▌   | 59365/90000 [04:10<02:12, 230.52it/s]"
     ]
    },
    {
     "ename": "KeyboardInterrupt",
     "evalue": "",
     "output_type": "error",
     "traceback": [
      "\u001b[0;31m---------------------------------------------------------------------------\u001b[0m",
      "\u001b[0;31mKeyboardInterrupt\u001b[0m                         Traceback (most recent call last)",
      "\u001b[0;32m<ipython-input-3-83f715a53698>\u001b[0m in \u001b[0;36m<module>\u001b[0;34m\u001b[0m\n\u001b[1;32m     23\u001b[0m             \u001b[0;32mfor\u001b[0m \u001b[0mk\u001b[0m \u001b[0;32min\u001b[0m \u001b[0mrange\u001b[0m\u001b[0;34m(\u001b[0m\u001b[0mnColumn\u001b[0m\u001b[0;34m)\u001b[0m\u001b[0;34m:\u001b[0m\u001b[0;34m\u001b[0m\u001b[0;34m\u001b[0m\u001b[0m\n\u001b[1;32m     24\u001b[0m \u001b[0;34m\u001b[0m\u001b[0m\n\u001b[0;32m---> 25\u001b[0;31m                 \u001b[0maux\u001b[0m \u001b[0;34m=\u001b[0m \u001b[0maux\u001b[0m \u001b[0;34m+\u001b[0m \u001b[0;34m' '\u001b[0m \u001b[0;34m+\u001b[0m \u001b[0mstr\u001b[0m\u001b[0;34m(\u001b[0m\u001b[0mdataTables\u001b[0m\u001b[0;34m[\u001b[0m\u001b[0mi\u001b[0m\u001b[0;34m]\u001b[0m\u001b[0;34m[\u001b[0m\u001b[0mj\u001b[0m\u001b[0;34m]\u001b[0m\u001b[0;34m[\u001b[0m\u001b[0mk\u001b[0m\u001b[0;34m]\u001b[0m\u001b[0;34m)\u001b[0m\u001b[0;34m\u001b[0m\u001b[0;34m\u001b[0m\u001b[0m\n\u001b[0m\u001b[1;32m     26\u001b[0m \u001b[0;34m\u001b[0m\u001b[0m\n\u001b[1;32m     27\u001b[0m     \u001b[0mformattedText\u001b[0m \u001b[0;34m=\u001b[0m \u001b[0mre\u001b[0m\u001b[0;34m.\u001b[0m\u001b[0msub\u001b[0m\u001b[0;34m(\u001b[0m\u001b[0;34m'[^A-Za-z]+'\u001b[0m\u001b[0;34m,\u001b[0m\u001b[0;34m' '\u001b[0m\u001b[0;34m,\u001b[0m\u001b[0maux\u001b[0m\u001b[0;34m)\u001b[0m\u001b[0;34m\u001b[0m\u001b[0;34m\u001b[0m\u001b[0m\n",
      "\u001b[0;31mKeyboardInterrupt\u001b[0m: "
     ]
    }
   ],
   "source": [
    "formattedTables = []\n",
    "\n",
    "for i in tqdm(rawTables.keys()):\n",
    "    \n",
    "    KeyTable = i\n",
    "    \n",
    "    dataTables  = rawTables[KeyTable]\n",
    "\n",
    "    nTables = len(dataTables)\n",
    "\n",
    "    aux = ''\n",
    "\n",
    "    for i in range(nTables):\n",
    "    \n",
    "        keyTable = dataTables[0][0][0]\n",
    "    \n",
    "        nLines = len(dataTables[i])\n",
    "    \n",
    "        for j in range(nLines):\n",
    "        \n",
    "            nColumn = len(dataTables[i][j])\n",
    "        \n",
    "            for k in range(nColumn):\n",
    "            \n",
    "                aux = aux + ' ' + str(dataTables[i][j][k])\n",
    "\n",
    "    formattedText = re.sub('[^A-Za-z]+',' ',aux)\n",
    "    \n",
    "    formattedTables.append([KeyTable,formattedText])"
   ]
  },
  {
   "cell_type": "code",
   "execution_count": 19,
   "metadata": {},
   "outputs": [
    {
     "name": "stdout",
     "output_type": "stream",
     "text": [
      "[[(170982, 'Hedy Lamarr', 5, 31, 1, 'Filmography', 'Filmography'), ['1930', 'Gold on the Street', 'Young Girl', 'Georg Alexander', 'Geld auf der Straße'], ['1931', 'Storm in a Water Glass', 'Secretary', 'Paul Otto', 'Sturm im Wasserglas'], ['1931', 'The Trunks of Mr. O.F.', 'Helene', 'Alfred Abel', 'Die Koffer des Herrn O.F.'], ['1932', 'No Money Needed', 'Käthe Brandt', 'Heinz Rühmann', 'Man braucht kein Geld'], ['1933', 'Ecstasy', 'Eva Hermann', 'Aribert Mog', 'Ekstase'], ['1938', 'Algiers', 'Gaby', 'Charles Boyer', ''], ['1939', 'Lady of the Tropics', 'Manon deVargnes Carey', 'Robert Taylor', ''], ['1940', 'I Take This Woman', 'Georgi Gragore Decker', 'Spencer Tracy', ''], ['1940', 'Boom Town', 'Karen Vanmeer', 'Clark Gable', ''], ['1940', 'Comrade X', 'Theodore', 'Clark Gable', ''], ['1941', 'Come Live With Me', 'Johnny Jones', 'James Stewart', ''], ['1941', 'Ziegfeld Girl', 'Sandra Kolter', 'James Stewart', ''], ['1941', 'H.M. Pulham, Esq.', 'Marvin Myles Ransome', 'Robert Young', ''], ['1942', 'Tortilla Flat', 'Dolores Ramirez', 'Spencer Tracy', ''], ['1942', 'Crossroads', 'Lucienne Talbot', 'William Powell', ''], ['1942', 'White Cargo', 'Tondelayo', 'Walter Pidgeon', ''], ['1944', 'The Heavenly Body', 'Vicky Whitley', 'William Powell', ''], ['1944', 'The Conspirators', 'Irene Von Mohr', 'Paul Henreid', ''], ['1944', 'Experiment Perilous', 'Allida Bederaux', 'George Brent', ''], ['1945', 'Her Highness and the Bellboy', 'Princess Veronica', 'Robert Walker', ''], ['1946', 'The Strange Woman', 'Jenny Hager', 'George Sanders', ''], ['1947', 'Dishonored Lady', 'Madeleine Damien', \"Dennis O'Keefe\", ''], ['1948', \"Let's Live a Little\", 'Dr. J.O. Loring', 'Robert Cummings', ''], ['1949', 'Samson and Delilah', 'Delilah', 'Victor Mature', ''], ['1950', 'A Lady Without Passport', 'Marianne Lorress', 'John Hodiak', ''], ['1950', 'Copper Canyon', 'Lisa Roselle', 'Ray Milland', ''], ['1951', 'My Favorite Spy', 'Lily Dalbray', 'Bob Hope', ''], ['1953', 'The Lovers of Paris', '', '', \"L'amante di Paride\"], ['1955', 'Eternal Woman', 'Herself', 'Massimo Serato', ''], ['1957', 'The Story of Mankind', 'Joan of Arc', 'Ronald Colman', ''], ['1958', 'The Female Animal', 'Vanessa Windsor', 'George Nader', '']]]\n"
     ]
    }
   ],
   "source": [
    "cont = 1\n",
    "for i in rawTables.keys():\n",
    "    \n",
    "    if cont == 59365:\n",
    "        print(rawTables[i])\n",
    "    \n",
    "    cont = cont + 1"
   ]
  },
  {
   "cell_type": "code",
   "execution_count": 24,
   "metadata": {},
   "outputs": [
    {
     "data": {
      "text/plain": [
       "[(170982, 'Hedy Lamarr', 5, 31, 1, 'Filmography', 'Filmography'),\n",
       " ['1930',\n",
       "  'Gold on the Street',\n",
       "  'Young Girl',\n",
       "  'Georg Alexander',\n",
       "  'Geld auf der Straße'],\n",
       " ['1931',\n",
       "  'Storm in a Water Glass',\n",
       "  'Secretary',\n",
       "  'Paul Otto',\n",
       "  'Sturm im Wasserglas'],\n",
       " ['1931',\n",
       "  'The Trunks of Mr. O.F.',\n",
       "  'Helene',\n",
       "  'Alfred Abel',\n",
       "  'Die Koffer des Herrn O.F.'],\n",
       " ['1932',\n",
       "  'No Money Needed',\n",
       "  'Käthe Brandt',\n",
       "  'Heinz Rühmann',\n",
       "  'Man braucht kein Geld'],\n",
       " ['1933', 'Ecstasy', 'Eva Hermann', 'Aribert Mog', 'Ekstase'],\n",
       " ['1938', 'Algiers', 'Gaby', 'Charles Boyer', ''],\n",
       " ['1939', 'Lady of the Tropics', 'Manon deVargnes Carey', 'Robert Taylor', ''],\n",
       " ['1940', 'I Take This Woman', 'Georgi Gragore Decker', 'Spencer Tracy', ''],\n",
       " ['1940', 'Boom Town', 'Karen Vanmeer', 'Clark Gable', ''],\n",
       " ['1940', 'Comrade X', 'Theodore', 'Clark Gable', ''],\n",
       " ['1941', 'Come Live With Me', 'Johnny Jones', 'James Stewart', ''],\n",
       " ['1941', 'Ziegfeld Girl', 'Sandra Kolter', 'James Stewart', ''],\n",
       " ['1941', 'H.M. Pulham, Esq.', 'Marvin Myles Ransome', 'Robert Young', ''],\n",
       " ['1942', 'Tortilla Flat', 'Dolores Ramirez', 'Spencer Tracy', ''],\n",
       " ['1942', 'Crossroads', 'Lucienne Talbot', 'William Powell', ''],\n",
       " ['1942', 'White Cargo', 'Tondelayo', 'Walter Pidgeon', ''],\n",
       " ['1944', 'The Heavenly Body', 'Vicky Whitley', 'William Powell', ''],\n",
       " ['1944', 'The Conspirators', 'Irene Von Mohr', 'Paul Henreid', ''],\n",
       " ['1944', 'Experiment Perilous', 'Allida Bederaux', 'George Brent', ''],\n",
       " ['1945',\n",
       "  'Her Highness and the Bellboy',\n",
       "  'Princess Veronica',\n",
       "  'Robert Walker',\n",
       "  ''],\n",
       " ['1946', 'The Strange Woman', 'Jenny Hager', 'George Sanders', ''],\n",
       " ['1947', 'Dishonored Lady', 'Madeleine Damien', \"Dennis O'Keefe\", ''],\n",
       " ['1948', \"Let's Live a Little\", 'Dr. J.O. Loring', 'Robert Cummings', ''],\n",
       " ['1949', 'Samson and Delilah', 'Delilah', 'Victor Mature', ''],\n",
       " ['1950', 'A Lady Without Passport', 'Marianne Lorress', 'John Hodiak', ''],\n",
       " ['1950', 'Copper Canyon', 'Lisa Roselle', 'Ray Milland', ''],\n",
       " ['1951', 'My Favorite Spy', 'Lily Dalbray', 'Bob Hope', ''],\n",
       " ['1953', 'The Lovers of Paris', '', '', \"L'amante di Paride\"],\n",
       " ['1955', 'Eternal Woman', 'Herself', 'Massimo Serato', ''],\n",
       " ['1957', 'The Story of Mankind', 'Joan of Arc', 'Ronald Colman', ''],\n",
       " ['1958', 'The Female Animal', 'Vanessa Windsor', 'George Nader', '']]"
      ]
     },
     "execution_count": 24,
     "metadata": {},
     "output_type": "execute_result"
    }
   ],
   "source": [
    "rawTables[170982][0]"
   ]
  }
 ],
 "metadata": {
  "kernelspec": {
   "display_name": "Python 3",
   "language": "python",
   "name": "python3"
  },
  "language_info": {
   "codemirror_mode": {
    "name": "ipython",
    "version": 3
   },
   "file_extension": ".py",
   "mimetype": "text/x-python",
   "name": "python",
   "nbconvert_exporter": "python",
   "pygments_lexer": "ipython3",
   "version": "3.7.3"
  }
 },
 "nbformat": 4,
 "nbformat_minor": 2
}
