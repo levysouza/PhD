{
 "cells": [
  {
   "cell_type": "code",
   "execution_count": 1,
   "metadata": {},
   "outputs": [
    {
     "data": {
      "text/plain": [
       "'1.15.0'"
      ]
     },
     "execution_count": 1,
     "metadata": {},
     "output_type": "execute_result"
    }
   ],
   "source": [
    "import tensorflow as tf\n",
    "import numpy as np\n",
    "import pandas as pd\n",
    "from tqdm import tqdm\n",
    "from sklearn.metrics import pairwise_distances\n",
    "from heapq import nsmallest\n",
    "tf.__version__"
   ]
  },
  {
   "cell_type": "code",
   "execution_count": 2,
   "metadata": {},
   "outputs": [],
   "source": [
    "from bert_serving.client import BertClient\n",
    "bc = BertClient()"
   ]
  },
  {
   "cell_type": "code",
   "execution_count": 3,
   "metadata": {},
   "outputs": [],
   "source": [
    "read = pd.read_csv('dataset/test_dataset', delimiter=',', header=None)\n",
    "data_articles = read.iloc[:,:].values"
   ]
  },
  {
   "cell_type": "code",
   "execution_count": 4,
   "metadata": {},
   "outputs": [],
   "source": [
    "read = pd.read_csv('dataset/cleanDataTables', delimiter=',', header=None)\n",
    "data_tables = read.iloc[:,:].values"
   ]
  },
  {
   "cell_type": "code",
   "execution_count": null,
   "metadata": {},
   "outputs": [],
   "source": []
  },
  {
   "cell_type": "code",
   "execution_count": 5,
   "metadata": {},
   "outputs": [
    {
     "name": "stderr",
     "output_type": "stream",
     "text": [
      "100%|██████████| 10/10 [00:00<00:00, 23224.27it/s]\n"
     ]
    }
   ],
   "source": [
    "articles_title = []\n",
    "articles_id = []\n",
    "\n",
    "for article_id, title, text in tqdm(data_articles):\n",
    "    \n",
    "    articles_id.append(article_id)\n",
    "    \n",
    "    articles_title.append(title)"
   ]
  },
  {
   "cell_type": "code",
   "execution_count": 6,
   "metadata": {},
   "outputs": [],
   "source": [
    "embedding_articles = bc.encode(articles_title)"
   ]
  },
  {
   "cell_type": "code",
   "execution_count": 7,
   "metadata": {},
   "outputs": [],
   "source": [
    "article_dense_vector = []\n",
    "\n",
    "for current_embedding in embedding_articles:\n",
    "    \n",
    "    article_dense_vector.append(current_embedding)"
   ]
  },
  {
   "cell_type": "code",
   "execution_count": null,
   "metadata": {},
   "outputs": [],
   "source": []
  },
  {
   "cell_type": "code",
   "execution_count": null,
   "metadata": {},
   "outputs": [],
   "source": []
  },
  {
   "cell_type": "code",
   "execution_count": 9,
   "metadata": {},
   "outputs": [
    {
     "name": "stderr",
     "output_type": "stream",
     "text": [
      "100%|██████████| 10/10 [00:00<00:00, 25528.33it/s]\n"
     ]
    }
   ],
   "source": [
    "tables_title = []\n",
    "\n",
    "for current_table in tqdm(data_tables):\n",
    "    \n",
    "    tables_title.append(str(current_table[1]))"
   ]
  },
  {
   "cell_type": "code",
   "execution_count": 10,
   "metadata": {},
   "outputs": [],
   "source": [
    "embedding_tables = bc.encode(tables_title)"
   ]
  },
  {
   "cell_type": "code",
   "execution_count": 11,
   "metadata": {},
   "outputs": [],
   "source": [
    "tables_dense_vector = []\n",
    "\n",
    "for current_embedding in embedding_tables:\n",
    "    \n",
    "    tables_dense_vector.append(current_embedding)"
   ]
  },
  {
   "cell_type": "code",
   "execution_count": null,
   "metadata": {},
   "outputs": [],
   "source": []
  },
  {
   "cell_type": "code",
   "execution_count": null,
   "metadata": {},
   "outputs": [],
   "source": []
  },
  {
   "cell_type": "code",
   "execution_count": null,
   "metadata": {},
   "outputs": [],
   "source": []
  },
  {
   "cell_type": "code",
   "execution_count": 13,
   "metadata": {},
   "outputs": [],
   "source": [
    "def get_id_ranked_tables(top_k,distance_vector):\n",
    "\n",
    "    id_ranked_tables = []\n",
    "\n",
    "    for current_top_k in top_k:\n",
    "        \n",
    "        index = np.where(distance_vector == current_top_k)\n",
    "         \n",
    "        index_colummun = index[0][0]\n",
    "        \n",
    "        id_ranked_tables.append(data_tables[index_colummun][0])\n",
    "\n",
    "    return id_ranked_tables"
   ]
  },
  {
   "cell_type": "code",
   "execution_count": 14,
   "metadata": {},
   "outputs": [],
   "source": [
    "def get_accuracy(id_ranked_tables, id_query_goal):\n",
    "\n",
    "    accuracy = 0\n",
    "\n",
    "    for id_table in id_ranked_tables:\n",
    "    \n",
    "        if id_table == id_query_goal:\n",
    "    \n",
    "            accuracy = 1\n",
    "            \n",
    "            break;\n",
    "\n",
    "    return accuracy"
   ]
  },
  {
   "cell_type": "code",
   "execution_count": 15,
   "metadata": {},
   "outputs": [],
   "source": [
    "def save_accuracy(k,accuracy):\n",
    "    \n",
    "    if k == 1:\n",
    "            \n",
    "        average_top1.append(accuracy)\n",
    "        \n",
    "    if k == 10:\n",
    "            \n",
    "        average_top10.append(accuracy)\n",
    "        \n",
    "    if k == 100:\n",
    "            \n",
    "        average_top100.append(accuracy)\n",
    "        \n",
    "    if k == 1000:\n",
    "            \n",
    "        average_top1000.append(accuracy)"
   ]
  },
  {
   "cell_type": "code",
   "execution_count": 16,
   "metadata": {},
   "outputs": [
    {
     "name": "stderr",
     "output_type": "stream",
     "text": [
      "100%|██████████| 10/10 [00:00<00:00, 1535.59it/s]\n"
     ]
    }
   ],
   "source": [
    "average_top1 = []\n",
    "average_top10 = []\n",
    "average_top100 = []\n",
    "average_top1000 = []\n",
    "\n",
    "top_k = [1,10,100,1000]\n",
    "\n",
    "for i in tqdm(range(len(article_dense_vector))):\n",
    "    \n",
    "    distance_vector = pairwise_distances(article_dense_vector[i].reshape(1,768), tables_dense_vector, metric='cosine')\n",
    "    \n",
    "    id_query_goal = int(articles_id[i])\n",
    "    \n",
    "    for accuracy_k in top_k:\n",
    "        \n",
    "        count_top_tables = accuracy_k\n",
    "        \n",
    "        top_k_rank = nsmallest(count_top_tables, distance_vector[0])\n",
    "    \n",
    "        id_ranked_tables = get_id_ranked_tables(top_k_rank,distance_vector[0])\n",
    "        \n",
    "        accuracy_value = get_accuracy(id_ranked_tables,id_query_goal)\n",
    "        \n",
    "        #save the accuracy on the list\n",
    "        save_accuracy(accuracy_k,accuracy_value)"
   ]
  },
  {
   "cell_type": "code",
   "execution_count": 17,
   "metadata": {},
   "outputs": [
    {
     "name": "stdout",
     "output_type": "stream",
     "text": [
      "0.0 (±) 0.0\n",
      "0.0 (±) 0.0\n",
      "0.0 (±) 0.0\n",
      "0.0 (±) 0.0\n"
     ]
    }
   ],
   "source": [
    "print(str(round(np.mean(average_top1),4))+\" (±) \"+str(round(np.std(average_top1),4)))\n",
    "print(str(round(np.mean(average_top10),4))+\" (±) \"+str(round(np.std(average_top10),4)))\n",
    "print(str(round(np.mean(average_top100),4))+\" (±) \"+str(round(np.std(average_top100),4)))\n",
    "print(str(round(np.mean(average_top1000),4))+\" (±) \"+str(round(np.std(average_top1000),4)))"
   ]
  },
  {
   "cell_type": "code",
   "execution_count": null,
   "metadata": {},
   "outputs": [],
   "source": []
  },
  {
   "cell_type": "code",
   "execution_count": null,
   "metadata": {},
   "outputs": [],
   "source": []
  }
 ],
 "metadata": {
  "kernelspec": {
   "display_name": "Python 3",
   "language": "python",
   "name": "python3"
  },
  "language_info": {
   "codemirror_mode": {
    "name": "ipython",
    "version": 3
   },
   "file_extension": ".py",
   "mimetype": "text/x-python",
   "name": "python",
   "nbconvert_exporter": "python",
   "pygments_lexer": "ipython3",
   "version": "3.7.3"
  }
 },
 "nbformat": 4,
 "nbformat_minor": 2
}
