{
 "cells": [
  {
   "cell_type": "code",
   "execution_count": 10,
   "metadata": {},
   "outputs": [],
   "source": [
    "from tqdm import tqdm\n",
    "import numpy as np\n",
    "import pandas as pd\n",
    "import random\n",
    "from elasticsearch import Elasticsearch\n",
    "from elasticsearch import helpers\n",
    "indexing_distinct_tables = Elasticsearch(timeout=30, max_retries=10, retry_on_timeout=True)"
   ]
  },
  {
   "cell_type": "code",
   "execution_count": 11,
   "metadata": {},
   "outputs": [],
   "source": [
    "def get_accuracy(idRankedTables, idQueryGoal):\n",
    "    \n",
    "    accuracy = 0\n",
    "\n",
    "    for idTable in idRankedTables:\n",
    "    \n",
    "        if idTable == idQueryGoal:\n",
    "    \n",
    "            accuracy = 1\n",
    "            break;\n",
    "\n",
    "    return accuracy"
   ]
  },
  {
   "cell_type": "code",
   "execution_count": 12,
   "metadata": {},
   "outputs": [
    {
     "data": {
      "text/plain": [
       "{'acknowledged': True, 'shards_acknowledged': True}"
      ]
     },
     "execution_count": 12,
     "metadata": {},
     "output_type": "execute_result"
    }
   ],
   "source": [
    "indexing_distinct_tables.indices.close(index='distinct_tables')\n",
    "indexing_distinct_tables.indices.put_settings(index='distinct_tables', body={\"index\": {\"similarity\": {\"default\": {\"type\": \"BM25\"}}}})\n",
    "indexing_distinct_tables.indices.open(index='distinct_tables')"
   ]
  },
  {
   "cell_type": "code",
   "execution_count": 13,
   "metadata": {},
   "outputs": [],
   "source": [
    "def search_indexing(query, tableField, topK):\n",
    "    \n",
    "    result= indexing_distinct_tables.search(\n",
    "        index=\"distinct_tables\", \n",
    "        body = {\n",
    "        \"_source\": [\"tablePgID\"],\n",
    "        \"from\" : 0,\n",
    "        \"size\" : topK,\n",
    "        \"query\": {\n",
    "            \"multi_match\":{\n",
    "              \"type\": \"most_fields\",\n",
    "              \"query\":    query, \n",
    "              \"fields\": [\"tablePgTitle\"] \n",
    "              #\"fields\": [\"tablePgTitle\",\"tableHeader\",\"tableBody\"] \n",
    "              #\"fields\": [tableField]\n",
    "            }\n",
    "        }\n",
    "    })\n",
    "    \n",
    "    return result"
   ]
  },
  {
   "cell_type": "code",
   "execution_count": 14,
   "metadata": {},
   "outputs": [],
   "source": [
    "articles = pd.read_csv('dataset/data_articles_test.csv', delimiter=',')"
   ]
  },
  {
   "cell_type": "code",
   "execution_count": null,
   "metadata": {},
   "outputs": [],
   "source": []
  },
  {
   "cell_type": "code",
   "execution_count": 15,
   "metadata": {},
   "outputs": [],
   "source": [
    "def execute_search(tableField, topK):\n",
    "\n",
    "    accuracy = []\n",
    "\n",
    "    for i,row in (articles.iterrows()):\n",
    "    \n",
    "        articl_key = row['page_id']\n",
    "        article_title = row['page_title']\n",
    "        article_meta_description = row['meta_description']\n",
    "        \n",
    "        #catch = article_title+\" \"+article_meta_description\n",
    "            \n",
    "        result = search_indexing(article_title,tableField,topK)\n",
    "    \n",
    "        idRankedTables = []\n",
    "    \n",
    "        for hit in result['hits']['hits']:\n",
    "    \n",
    "            tablePgId = hit['_source']['tablePgID']\n",
    "    \n",
    "            idRankedTables.append(tablePgId)\n",
    "    \n",
    "        accuracy.append(get_accuracy(idRankedTables,articl_key))\n",
    "\n",
    "    print(str(round(np.mean(accuracy),4)))"
   ]
  },
  {
   "cell_type": "code",
   "execution_count": 39,
   "metadata": {},
   "outputs": [],
   "source": [
    "tableField = [\"tablePgTitle\"]\n",
    "#tableField = [\"tablePgTitle\",\"tableSectionTitle\",\"tableCaption\",\"tableHeader\",\"tableBody\"]\n",
    "topK = [100]"
   ]
  },
  {
   "cell_type": "code",
   "execution_count": 17,
   "metadata": {},
   "outputs": [],
   "source": [
    "# for k in topK:\n",
    "    \n",
    "#     print(\"\")\n",
    "    \n",
    "#     for field in tableField:\n",
    "        \n",
    "#         print(\"Acc@\"+str(k)+\" - \"+field)\n",
    "        \n",
    "#         execute_search(field,k)"
   ]
  },
  {
   "cell_type": "code",
   "execution_count": 40,
   "metadata": {},
   "outputs": [
    {
     "name": "stdout",
     "output_type": "stream",
     "text": [
      "Acc@100\n",
      "0.46\n"
     ]
    }
   ],
   "source": [
    "for k in topK:\n",
    "    \n",
    "    print(\"Acc@\"+str(k))\n",
    "    \n",
    "    execute_search(\"\",k)"
   ]
  },
  {
   "cell_type": "code",
   "execution_count": null,
   "metadata": {},
   "outputs": [],
   "source": []
  },
  {
   "cell_type": "code",
   "execution_count": null,
   "metadata": {},
   "outputs": [],
   "source": []
  },
  {
   "cell_type": "code",
   "execution_count": null,
   "metadata": {},
   "outputs": [],
   "source": []
  },
  {
   "cell_type": "code",
   "execution_count": null,
   "metadata": {},
   "outputs": [],
   "source": []
  }
 ],
 "metadata": {
  "kernelspec": {
   "display_name": "Python 3",
   "language": "python",
   "name": "python3"
  },
  "language_info": {
   "codemirror_mode": {
    "name": "ipython",
    "version": 3
   },
   "file_extension": ".py",
   "mimetype": "text/x-python",
   "name": "python",
   "nbconvert_exporter": "python",
   "pygments_lexer": "ipython3",
   "version": "3.7.3"
  }
 },
 "nbformat": 4,
 "nbformat_minor": 2
}
