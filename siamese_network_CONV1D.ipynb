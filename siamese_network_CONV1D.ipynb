{
 "cells": [
  {
   "cell_type": "code",
   "execution_count": 1,
   "metadata": {},
   "outputs": [],
   "source": [
    "import numpy as np\n",
    "import pandas as pd\n",
    "from tqdm import tqdm\n",
    "import gensim as gs\n",
    "import tensorflow as tf\n",
    "import matplotlib.pyplot as plt\n",
    "from nltk.tokenize import TweetTokenizer\n",
    "tknzr = TweetTokenizer()\n",
    "from sklearn.metrics import accuracy_score"
   ]
  },
  {
   "cell_type": "code",
   "execution_count": 2,
   "metadata": {},
   "outputs": [],
   "source": [
    "read_file = pd.read_csv('dataset/new_train_dataset_1_5', delimiter=',', header=None)\n",
    "train_dataset = read_file.iloc[:,:].values"
   ]
  },
  {
   "cell_type": "code",
   "execution_count": 3,
   "metadata": {},
   "outputs": [],
   "source": [
    "read_file = pd.read_csv('dataset/new_validation_dataset_1_5', delimiter=',', header=None)\n",
    "validation_dataset = read_file.iloc[:,:].values"
   ]
  },
  {
   "cell_type": "code",
   "execution_count": 4,
   "metadata": {},
   "outputs": [],
   "source": []
  },
  {
   "cell_type": "code",
   "execution_count": 4,
   "metadata": {},
   "outputs": [],
   "source": [
    "def sequence_padding(X_DIM, value):\n",
    "    \n",
    "    value_padding = np.pad(value, ((0,9 - X_DIM),(0,0)), 'constant')\n",
    "    \n",
    "    return value_padding"
   ]
  },
  {
   "cell_type": "code",
   "execution_count": 5,
   "metadata": {},
   "outputs": [
    {
     "name": "stderr",
     "output_type": "stream",
     "text": [
      "/home/lss9/anaconda3/lib/python3.7/site-packages/ipykernel_launcher.py:1: DeprecationWarning: Call to deprecated `load_fasttext_format` (use load_facebook_vectors (to use pretrained embeddings) or load_facebook_model (to continue training with the loaded full model, more RAM) instead).\n",
      "  \"\"\"Entry point for launching an IPython kernel.\n",
      "/home/lss9/anaconda3/lib/python3.7/site-packages/smart_open/smart_open_lib.py:398: UserWarning: This function is deprecated, use smart_open.open instead. See the migration notes for details: https://github.com/RaRe-Technologies/smart_open/blob/master/README.rst#migrating-to-the-new-open-function\n",
      "  'See the migration notes for details: %s' % _MIGRATION_NOTES_URL\n"
     ]
    }
   ],
   "source": [
    "embedding_model = gs.models.FastText.load_fasttext_format('pre_trained_models/cc.en.300.bin')"
   ]
  },
  {
   "cell_type": "code",
   "execution_count": 6,
   "metadata": {},
   "outputs": [
    {
     "name": "stderr",
     "output_type": "stream",
     "text": [
      "100%|██████████| 316183/316183 [01:06<00:00, 4788.88it/s]\n"
     ]
    }
   ],
   "source": [
    "left_train = []\n",
    "rigth_train = []\n",
    "label = []\n",
    "\n",
    "for articleID, articleTitle, tableID, tableTitle, match in tqdm(train_dataset):\n",
    "    \n",
    "    value1 = tknzr.tokenize(str(articleTitle))\n",
    "    \n",
    "    if len(value1) < 9:\n",
    "        \n",
    "        embedding1 = embedding_model.wv[value1]\n",
    "        padding_embedding1 = sequence_padding(embedding1.shape[0],embedding1)\n",
    "        left_train.append(padding_embedding1)\n",
    "    \n",
    "    else:\n",
    "        \n",
    "        embedding1 = embedding_model.wv[value1[0:9]]\n",
    "        left_train.append(embedding1)\n",
    "    \n",
    "    \n",
    "    value2 = tknzr.tokenize(str(tableTitle))\n",
    "    \n",
    "    if len(value2) < 9:\n",
    "        \n",
    "        embedding2 = embedding_model.wv[value2]\n",
    "        padding_embedding2 = sequence_padding(embedding2.shape[0],embedding2)\n",
    "        rigth_train.append(padding_embedding2)\n",
    "    \n",
    "    else:\n",
    "        \n",
    "        embedding2 = embedding_model.wv[value2[0:9]]\n",
    "        rigth_train.append(embedding2)\n",
    "    \n",
    "    \n",
    "    label.append(match)"
   ]
  },
  {
   "cell_type": "code",
   "execution_count": 7,
   "metadata": {},
   "outputs": [],
   "source": [
    "left_train = np.array(left_train)\n",
    "rigth_train = np.array(rigth_train)\n",
    "label = np.array(label)"
   ]
  },
  {
   "cell_type": "code",
   "execution_count": null,
   "metadata": {},
   "outputs": [],
   "source": []
  },
  {
   "cell_type": "code",
   "execution_count": 8,
   "metadata": {},
   "outputs": [
    {
     "name": "stderr",
     "output_type": "stream",
     "text": [
      "100%|██████████| 16623/16623 [00:02<00:00, 5944.13it/s]\n"
     ]
    }
   ],
   "source": [
    "left_validation = []\n",
    "rigth_validation = []\n",
    "label_validation = []\n",
    "\n",
    "for articleID, articleTitle, tableID, tableTitle, match in tqdm(validation_dataset):\n",
    "    \n",
    "    value1 = tknzr.tokenize(str(articleTitle))\n",
    "    \n",
    "    if len(value1) < 9:\n",
    "        \n",
    "        embedding1 = embedding_model.wv[value1]\n",
    "        padding_embedding1 = sequence_padding(embedding1.shape[0],embedding1)\n",
    "        left_validation.append(padding_embedding1)\n",
    "    \n",
    "    else:\n",
    "        \n",
    "        embedding1 = embedding_model.wv[value1[0:9]]\n",
    "        left_validation.append(embedding1)\n",
    "    \n",
    "    \n",
    "    value2 = tknzr.tokenize(str(tableTitle))\n",
    "    \n",
    "    if len(value2) < 9:\n",
    "        \n",
    "        embedding2 = embedding_model.wv[value2]\n",
    "        padding_embedding2 = sequence_padding(embedding2.shape[0],embedding2)\n",
    "        rigth_validation.append(padding_embedding2)\n",
    "    \n",
    "    else:\n",
    "        \n",
    "        embedding2 = embedding_model.wv[value2[0:9]]\n",
    "        rigth_validation.append(embedding2)\n",
    "    \n",
    "    \n",
    "    label_validation.append(match)"
   ]
  },
  {
   "cell_type": "code",
   "execution_count": 9,
   "metadata": {},
   "outputs": [],
   "source": [
    "left_validation = np.array(left_validation)\n",
    "rigth_validation = np.array(rigth_validation)\n",
    "label_validation = np.array(label_validation)"
   ]
  },
  {
   "cell_type": "code",
   "execution_count": null,
   "metadata": {},
   "outputs": [],
   "source": []
  },
  {
   "cell_type": "code",
   "execution_count": null,
   "metadata": {},
   "outputs": [],
   "source": []
  },
  {
   "cell_type": "code",
   "execution_count": 13,
   "metadata": {},
   "outputs": [],
   "source": []
  },
  {
   "cell_type": "code",
   "execution_count": null,
   "metadata": {},
   "outputs": [],
   "source": []
  },
  {
   "cell_type": "code",
   "execution_count": 16,
   "metadata": {},
   "outputs": [],
   "source": [
    "def siamese_model(input_shape):\n",
    "    \n",
    "    left = tf.keras.Input(input_shape)\n",
    "    right = tf.keras.Input(input_shape)\n",
    "    \n",
    "    model = tf.keras.Sequential()\n",
    "    \n",
    "    model.add(tf.keras.layers.Conv1D(16, kernel_size=3, activation='relu', input_shape=input_shape))\n",
    "    model.add(tf.keras.layers.Dropout(0.2))\n",
    "    model.add(tf.keras.layers.BatchNormalization())\n",
    "    model.add(tf.keras.layers.Conv1D(32, kernel_size=3, activation='relu'))\n",
    "    model.add(tf.keras.layers.Dropout(0.2))\n",
    "    model.add(tf.keras.layers.BatchNormalization())\n",
    "    model.add(tf.keras.layers.Conv1D(64, kernel_size=3, activation='relu'))\n",
    "    model.add(tf.keras.layers.Dropout(0.2))\n",
    "    model.add(tf.keras.layers.BatchNormalization())\n",
    "    model.add(tf.keras.layers.Flatten())\n",
    "    model.add(tf.keras.layers.Dense(64, activation='sigmoid'))\n",
    "    \n",
    "    left_encoded = model(left)\n",
    "    right_encoded = model(right)\n",
    "    \n",
    "    L1_distance = tf.keras.layers.dot([left_encoded,right_encoded], axes=1, normalize=True)\n",
    "    \n",
    "    prediction = tf.keras.layers.Dense(1,activation='sigmoid')(L1_distance)\n",
    "    \n",
    "    siamese_net = tf.keras.Model(inputs=[left,right],outputs=prediction)\n",
    "    \n",
    "    return siamese_net"
   ]
  },
  {
   "cell_type": "code",
   "execution_count": 17,
   "metadata": {},
   "outputs": [],
   "source": [
    "model = siamese_model((9,300))"
   ]
  },
  {
   "cell_type": "code",
   "execution_count": 18,
   "metadata": {},
   "outputs": [],
   "source": [
    "model.compile(loss=\"binary_crossentropy\",optimizer=\"adam\", metrics=['accuracy'])"
   ]
  },
  {
   "cell_type": "code",
   "execution_count": null,
   "metadata": {},
   "outputs": [
    {
     "name": "stdout",
     "output_type": "stream",
     "text": [
      "Train on 316183 samples, validate on 16623 samples\n",
      "Epoch 1/10\n",
      "316183/316183 [==============================] - 84s 265us/sample - loss: 0.3145 - accuracy: 0.8753 - val_loss: 0.4606 - val_accuracy: 0.8012\n",
      "Epoch 2/10\n",
      "316183/316183 [==============================] - 41s 129us/sample - loss: 0.2393 - accuracy: 0.9162 - val_loss: 0.5332 - val_accuracy: 0.8012\n",
      "Epoch 3/10\n",
      "316183/316183 [==============================] - 34s 108us/sample - loss: 0.2254 - accuracy: 0.9191 - val_loss: 0.3273 - val_accuracy: 0.8784\n",
      "Epoch 4/10\n",
      "316183/316183 [==============================] - 29s 93us/sample - loss: 0.2175 - accuracy: 0.9220 - val_loss: 0.4488 - val_accuracy: 0.8168\n",
      "Epoch 5/10\n",
      "316183/316183 [==============================] - 31s 97us/sample - loss: 0.2122 - accuracy: 0.9232 - val_loss: 0.5937 - val_accuracy: 0.8025\n",
      "Epoch 6/10\n",
      "316183/316183 [==============================] - 30s 96us/sample - loss: 0.2080 - accuracy: 0.9247 - val_loss: 0.6584 - val_accuracy: 0.8014\n",
      "Epoch 7/10\n",
      "316183/316183 [==============================] - 41s 129us/sample - loss: 0.2041 - accuracy: 0.9259 - val_loss: 0.5197 - val_accuracy: 0.8041\n",
      "Epoch 8/10\n",
      "316183/316183 [==============================] - 50s 160us/sample - loss: 0.2018 - accuracy: 0.9267 - val_loss: 0.5626 - val_accuracy: 0.8086\n",
      "Epoch 9/10\n",
      "316183/316183 [==============================] - 92s 291us/sample - loss: 0.1995 - accuracy: 0.9275 - val_loss: 0.3174 - val_accuracy: 0.8874\n",
      "Epoch 10/10\n",
      "300192/316183 [===========================>..] - ETA: 17s - loss: 0.1963 - accuracy: 0.9285ETA: 7s - loss: 0.1963 - acc - ETA: 13s - loss: 0.1963 - accuracy: 0.92 - ETA: 15s - loss: 0.1962 - accuracy: 0.92 - ETA: 16s - loss: 0.1962 - accuracy: 0.928"
     ]
    }
   ],
   "source": [
    "history = model.fit([left_train, rigth_train], label, \n",
    "          epochs=10, \n",
    "          batch_size=32, \n",
    "          validation_data=([left_validation, rigth_validation], label_validation))"
   ]
  },
  {
   "cell_type": "code",
   "execution_count": null,
   "metadata": {},
   "outputs": [],
   "source": [
    "model.save('model_siamese_conv1d.h5')"
   ]
  },
  {
   "cell_type": "code",
   "execution_count": 18,
   "metadata": {},
   "outputs": [
    {
     "data": {
      "image/png": "[encoded data removed]",
      "text/plain": [
       "<Figure size 432x288 with 1 Axes>"
      ]
     },
     "metadata": {
      "needs_background": "light"
     },
     "output_type": "display_data"
    }
   ],
   "source": [
    "# summarize history for accuracy\n",
    "plt.plot(history.history['accuracy'])\n",
    "plt.plot(history.history['val_accuracy'])\n",
    "plt.title('model accuracy')\n",
    "plt.ylabel('accuracy')\n",
    "plt.xlabel('epoch')\n",
    "plt.legend(['train', 'validation'], loc='upper left')\n",
    "plt.show()"
   ]
  },
  {
   "cell_type": "code",
   "execution_count": 19,
   "metadata": {},
   "outputs": [
    {
     "data": {
      "image/png": "[encoded data removed]",
      "text/plain": [
       "<Figure size 432x288 with 1 Axes>"
      ]
     },
     "metadata": {
      "needs_background": "light"
     },
     "output_type": "display_data"
    }
   ],
   "source": [
    "# summarize history for loss\n",
    "plt.plot(history.history['loss'])\n",
    "plt.plot(history.history['val_loss'])\n",
    "plt.title('model loss')\n",
    "plt.ylabel('loss')\n",
    "plt.xlabel('epoch')\n",
    "plt.legend(['train', 'validation'], loc='upper left')\n",
    "plt.show()"
   ]
  },
  {
   "cell_type": "code",
   "execution_count": 20,
   "metadata": {},
   "outputs": [],
   "source": [
    "y_prob = model.predict([left_test,rigth_test])"
   ]
  },
  {
   "cell_type": "code",
   "execution_count": 21,
   "metadata": {},
   "outputs": [],
   "source": [
    "y_prob[y_prob >= 0.5] = 1"
   ]
  },
  {
   "cell_type": "code",
   "execution_count": 22,
   "metadata": {},
   "outputs": [],
   "source": [
    "y_prob[y_prob < 0.5] = 0"
   ]
  },
  {
   "cell_type": "code",
   "execution_count": 23,
   "metadata": {},
   "outputs": [
    {
     "data": {
      "text/plain": [
       "0.5091857564073486"
      ]
     },
     "execution_count": 23,
     "metadata": {},
     "output_type": "execute_result"
    }
   ],
   "source": [
    "accuracy_score(label_test, y_prob)"
   ]
  }
 ],
 "metadata": {
  "kernelspec": {
   "display_name": "Python 3",
   "language": "python",
   "name": "python3"
  },
  "language_info": {
   "codemirror_mode": {
    "name": "ipython",
    "version": 3
   },
   "file_extension": ".py",
   "mimetype": "text/x-python",
   "name": "python",
   "nbconvert_exporter": "python",
   "pygments_lexer": "ipython3",
   "version": "3.7.3"
  }
 },
 "nbformat": 4,
 "nbformat_minor": 2
}
