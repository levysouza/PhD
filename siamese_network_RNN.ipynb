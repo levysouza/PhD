{
 "cells": [
  {
   "cell_type": "code",
   "execution_count": 1,
   "metadata": {},
   "outputs": [],
   "source": [
    "import numpy as np\n",
    "import pandas as pd\n",
    "from tqdm import tqdm\n",
    "import gensim as gs\n",
    "import tensorflow as tf\n",
    "import matplotlib.pyplot as plt\n",
    "from nltk.tokenize import TweetTokenizer\n",
    "tknzr = TweetTokenizer()\n",
    "from sklearn.metrics import accuracy_score"
   ]
  },
  {
   "cell_type": "code",
   "execution_count": 2,
   "metadata": {},
   "outputs": [],
   "source": [
    "read_file = pd.read_csv('dataset/trainDataset', delimiter=',', header=None)\n",
    "train_dataset = read_file.iloc[:,:].values"
   ]
  },
  {
   "cell_type": "code",
   "execution_count": 3,
   "metadata": {},
   "outputs": [],
   "source": [
    "read_file = pd.read_csv('dataset/validationDataset', delimiter=',', header=None)\n",
    "validation_dataset = read_file.iloc[:,:].values"
   ]
  },
  {
   "cell_type": "code",
   "execution_count": 4,
   "metadata": {},
   "outputs": [],
   "source": [
    "read_file = pd.read_csv('dataset/testDataset', delimiter=',', header=None)\n",
    "test_dataset = read_file.iloc[:,:].values"
   ]
  },
  {
   "cell_type": "code",
   "execution_count": 5,
   "metadata": {},
   "outputs": [],
   "source": [
    "def sequence_padding(X_DIM, value):\n",
    "    \n",
    "    value_padding = np.pad(value, ((0,12 - X_DIM),(0,0)), 'constant')\n",
    "    \n",
    "    return value_padding"
   ]
  },
  {
   "cell_type": "code",
   "execution_count": 6,
   "metadata": {},
   "outputs": [
    {
     "name": "stderr",
     "output_type": "stream",
     "text": [
      "/home/lss9/anaconda3/lib/python3.7/site-packages/ipykernel_launcher.py:1: DeprecationWarning: Call to deprecated `load_fasttext_format` (use load_facebook_vectors (to use pretrained embeddings) or load_facebook_model (to continue training with the loaded full model, more RAM) instead).\n",
      "  \"\"\"Entry point for launching an IPython kernel.\n",
      "/home/lss9/anaconda3/lib/python3.7/site-packages/smart_open/smart_open_lib.py:398: UserWarning: This function is deprecated, use smart_open.open instead. See the migration notes for details: https://github.com/RaRe-Technologies/smart_open/blob/master/README.rst#migrating-to-the-new-open-function\n",
      "  'See the migration notes for details: %s' % _MIGRATION_NOTES_URL\n"
     ]
    }
   ],
   "source": [
    "embedding_model = gs.models.FastText.load_fasttext_format('pre_trained_models/cc.en.300.bin')"
   ]
  },
  {
   "cell_type": "code",
   "execution_count": 7,
   "metadata": {},
   "outputs": [],
   "source": [
    "# [0]articleID\n",
    "# [1]articleTitle\n",
    "# [2]articleText \n",
    "\n",
    "# [3]tableID \n",
    "# [4]tableTitle\n",
    "# [5]tableSectionTitle\n",
    "# [6]tableCaption\n",
    "# [7]tableHeader\n",
    "# [8]tableBody\n",
    "\n",
    "# [9]match"
   ]
  },
  {
   "cell_type": "code",
   "execution_count": 8,
   "metadata": {},
   "outputs": [
    {
     "name": "stderr",
     "output_type": "stream",
     "text": [
      "100%|██████████| 112191/112191 [00:36<00:00, 3087.01it/s]\n"
     ]
    }
   ],
   "source": [
    "left_train = []\n",
    "rigth_train = []\n",
    "label = []\n",
    "\n",
    "for articleID, articleTitle, articleText, tableID, tableTitle, tableSectionTitle, tableCaption, tableHeader, tableBody, match in tqdm(train_dataset):\n",
    "    \n",
    "    value1 = tknzr.tokenize(str(articleTitle))\n",
    "    \n",
    "    if len(value1) < 12:\n",
    "        \n",
    "        embedding1 = embedding_model.wv[value1]\n",
    "        padding_embedding1 = sequence_padding(embedding1.shape[0],embedding1)\n",
    "        left_train.append(padding_embedding1)\n",
    "    \n",
    "    else:\n",
    "        \n",
    "        embedding1 = embedding_model.wv[value1[0:12]]\n",
    "        left_train.append(embedding1)\n",
    "    \n",
    "    \n",
    "    value2 = tknzr.tokenize(str(tableTitle))\n",
    "    \n",
    "    if len(value2) < 12:\n",
    "        \n",
    "        embedding2 = embedding_model.wv[value2]\n",
    "        padding_embedding2 = sequence_padding(embedding2.shape[0],embedding2)\n",
    "        rigth_train.append(padding_embedding2)\n",
    "    \n",
    "    else:\n",
    "        \n",
    "        embedding2 = embedding_model.wv[value2[0:12]]\n",
    "        rigth_train.append(embedding2)\n",
    "    \n",
    "    \n",
    "    label.append(match)"
   ]
  },
  {
   "cell_type": "code",
   "execution_count": 9,
   "metadata": {},
   "outputs": [],
   "source": [
    "left_train = np.array(left_train)\n",
    "rigth_train = np.array(rigth_train)\n",
    "label = np.array(label)"
   ]
  },
  {
   "cell_type": "code",
   "execution_count": null,
   "metadata": {},
   "outputs": [],
   "source": []
  },
  {
   "cell_type": "code",
   "execution_count": 10,
   "metadata": {},
   "outputs": [
    {
     "name": "stderr",
     "output_type": "stream",
     "text": [
      "100%|██████████| 6626/6626 [00:01<00:00, 3515.97it/s]\n"
     ]
    }
   ],
   "source": [
    "left_validation = []\n",
    "rigth_validation = []\n",
    "label_validation = []\n",
    "\n",
    "for articleID, articleTitle, articleText, tableID, tableTitle, tableSectionTitle, tableCaption, tableHeader, tableBody, match in tqdm(validation_dataset):\n",
    "    \n",
    "    value1 = tknzr.tokenize(str(articleTitle))\n",
    "    \n",
    "    if len(value1) < 12:\n",
    "        \n",
    "        embedding1 = embedding_model.wv[value1]\n",
    "        padding_embedding1 = sequence_padding(embedding1.shape[0],embedding1)\n",
    "        left_validation.append(padding_embedding1)\n",
    "    \n",
    "    else:\n",
    "        \n",
    "        embedding1 = embedding_model.wv[value1[0:12]]\n",
    "        left_validation.append(embedding1)\n",
    "    \n",
    "    \n",
    "    value2 = tknzr.tokenize(str(tableTitle))\n",
    "    \n",
    "    if len(value2) < 12:\n",
    "        \n",
    "        embedding2 = embedding_model.wv[value2]\n",
    "        padding_embedding2 = sequence_padding(embedding2.shape[0],embedding2)\n",
    "        rigth_validation.append(padding_embedding2)\n",
    "    \n",
    "    else:\n",
    "        \n",
    "        embedding2 = embedding_model.wv[value2[0:12]]\n",
    "        rigth_validation.append(embedding2)\n",
    "    \n",
    "    \n",
    "    label_validation.append(match)"
   ]
  },
  {
   "cell_type": "code",
   "execution_count": 11,
   "metadata": {},
   "outputs": [],
   "source": [
    "left_validation = np.array(left_validation)\n",
    "rigth_validation = np.array(rigth_validation)\n",
    "label_validation = np.array(label_validation)"
   ]
  },
  {
   "cell_type": "code",
   "execution_count": null,
   "metadata": {},
   "outputs": [],
   "source": []
  },
  {
   "cell_type": "code",
   "execution_count": 12,
   "metadata": {},
   "outputs": [
    {
     "name": "stderr",
     "output_type": "stream",
     "text": [
      "100%|██████████| 13227/13227 [00:04<00:00, 3301.04it/s]\n"
     ]
    }
   ],
   "source": [
    "left_test = []\n",
    "rigth_test = []\n",
    "label_test = []\n",
    "\n",
    "for articleID, articleTitle, articleText, tableID, tableTitle, tableSectionTitle, tableCaption, tableHeader, tableBody, match in tqdm(test_dataset):\n",
    "    \n",
    "    value1 = tknzr.tokenize(str(articleTitle))\n",
    "    \n",
    "    if len(value1) < 12:\n",
    "        \n",
    "        embedding1 = embedding_model.wv[value1]\n",
    "        padding_embedding1 = sequence_padding(embedding1.shape[0],embedding1)\n",
    "        left_test.append(padding_embedding1)\n",
    "    \n",
    "    else:\n",
    "        \n",
    "        embedding1 = embedding_model.wv[value1[0:12]]\n",
    "        left_test.append(embedding1)\n",
    "    \n",
    "    \n",
    "    value2 = tknzr.tokenize(str(tableTitle))\n",
    "    \n",
    "    if len(value2) < 12:\n",
    "        \n",
    "        embedding2 = embedding_model.wv[value2]\n",
    "        padding_embedding2 = sequence_padding(embedding2.shape[0],embedding2)\n",
    "        rigth_test.append(padding_embedding2)\n",
    "    \n",
    "    else:\n",
    "        \n",
    "        embedding2 = embedding_model.wv[value2[0:12]]\n",
    "        rigth_test.append(embedding2)\n",
    "    \n",
    "    \n",
    "    label_test.append(match)"
   ]
  },
  {
   "cell_type": "code",
   "execution_count": 13,
   "metadata": {},
   "outputs": [],
   "source": [
    "left_test = np.array(left_test)\n",
    "rigth_test = np.array(rigth_test)\n",
    "label_test = np.array(label_test)"
   ]
  },
  {
   "cell_type": "code",
   "execution_count": null,
   "metadata": {},
   "outputs": [],
   "source": []
  },
  {
   "cell_type": "code",
   "execution_count": 14,
   "metadata": {},
   "outputs": [],
   "source": [
    "def siamese_model(input_shape):\n",
    "    \n",
    "    left = tf.keras.Input(input_shape)\n",
    "    right = tf.keras.Input(input_shape)\n",
    "    \n",
    "    model = tf.keras.Sequential()\n",
    "    \n",
    "    model.add(tf.keras.layers.SimpleRNN(16, activation='relu',  dropout=0.2, input_shape=input_shape, return_sequences=True))\n",
    "    model.add(tf.keras.layers.BatchNormalization())\n",
    "    model.add(tf.keras.layers.SimpleRNN(32, activation='relu',  dropout=0.2, return_sequences=True))\n",
    "    model.add(tf.keras.layers.BatchNormalization())\n",
    "    model.add(tf.keras.layers.SimpleRNN(64, activation='relu',  dropout=0.2, return_sequences=True))\n",
    "    model.add(tf.keras.layers.BatchNormalization())\n",
    "    model.add(tf.keras.layers.SimpleRNN(128, activation='relu', dropout=0.2, return_sequences=True))\n",
    "    model.add(tf.keras.layers.MaxPooling1D())\n",
    "    model.add(tf.keras.layers.BatchNormalization())\n",
    "    model.add(tf.keras.layers.Flatten())\n",
    "    model.add(tf.keras.layers.Dense(512, activation='sigmoid'))\n",
    "    \n",
    "    left_encoded = model(left)\n",
    "    right_encoded = model(right)\n",
    "    \n",
    "    L1_layer = tf.keras.layers.Lambda(lambda tensors:tf.keras.backend.abs(tensors[0] - tensors[1]))\n",
    "    \n",
    "    L1_distance = L1_layer([left_encoded, right_encoded])\n",
    "    \n",
    "    prediction = tf.keras.layers.Dense(1,activation='sigmoid')(L1_distance)\n",
    "    \n",
    "    siamese_net = tf.keras.Model(inputs=[left,right],outputs=prediction)\n",
    "    \n",
    "    return siamese_net"
   ]
  },
  {
   "cell_type": "code",
   "execution_count": 15,
   "metadata": {},
   "outputs": [],
   "source": [
    "model = siamese_model((12,300))"
   ]
  },
  {
   "cell_type": "code",
   "execution_count": 16,
   "metadata": {},
   "outputs": [],
   "source": [
    "model.compile(loss=\"binary_crossentropy\",optimizer=\"adam\", metrics=['accuracy'])"
   ]
  },
  {
   "cell_type": "code",
   "execution_count": 17,
   "metadata": {},
   "outputs": [
    {
     "name": "stdout",
     "output_type": "stream",
     "text": [
      "Train on 112191 samples, validate on 6626 samples\n",
      "Epoch 1/10\n",
      "WARNING:tensorflow:From /home/lss9/anaconda3/lib/python3.7/site-packages/tensorflow_core/python/ops/nn_impl.py:183: where (from tensorflow.python.ops.array_ops) is deprecated and will be removed in a future version.\n",
      "Instructions for updating:\n",
      "Use tf.where in 2.0, which has the same broadcast rule as np.where\n",
      "WARNING:tensorflow:Entity <function Function._initialize_uninitialized_variables.<locals>.initialize_variables at 0x7ff18d168d08> could not be transformed and will be executed as-is. Please report this to the AutoGraph team. When filing the bug, set the verbosity to 10 (on Linux, `export AUTOGRAPH_VERBOSITY=10`) and attach the full output. Cause: module 'gast' has no attribute 'Num'\n",
      "WARNING: Entity <function Function._initialize_uninitialized_variables.<locals>.initialize_variables at 0x7ff18d168d08> could not be transformed and will be executed as-is. Please report this to the AutoGraph team. When filing the bug, set the verbosity to 10 (on Linux, `export AUTOGRAPH_VERBOSITY=10`) and attach the full output. Cause: module 'gast' has no attribute 'Num'\n",
      "112191/112191 [==============================] - 138s 1ms/sample - loss: 0.5522 - accuracy: 0.7004 - val_loss: 0.5084 - val_accuracy: 0.7308\n",
      "Epoch 2/10\n",
      "112191/112191 [==============================] - 133s 1ms/sample - loss: 0.4951 - accuracy: 0.7447 - val_loss: 0.5459 - val_accuracy: 0.7019\n",
      "Epoch 3/10\n",
      "112191/112191 [==============================] - 128s 1ms/sample - loss: 0.4785 - accuracy: 0.7545 - val_loss: 0.4750 - val_accuracy: 0.7585\n",
      "Epoch 4/10\n",
      "112191/112191 [==============================] - 128s 1ms/sample - loss: 0.4692 - accuracy: 0.7623 - val_loss: 0.5391 - val_accuracy: 0.6968\n",
      "Epoch 5/10\n",
      "112191/112191 [==============================] - 129s 1ms/sample - loss: 0.4652 - accuracy: 0.7643 - val_loss: 0.4840 - val_accuracy: 0.7404\n",
      "Epoch 6/10\n",
      "112191/112191 [==============================] - 131s 1ms/sample - loss: 0.4601 - accuracy: 0.7680 - val_loss: 0.4733 - val_accuracy: 0.7548\n",
      "Epoch 7/10\n",
      "112191/112191 [==============================] - 108s 960us/sample - loss: 0.4557 - accuracy: 0.7714 - val_loss: 0.5046 - val_accuracy: 0.7369\n",
      "Epoch 8/10\n",
      "112191/112191 [==============================] - 133s 1ms/sample - loss: 0.4536 - accuracy: 0.7718 - val_loss: 0.4487 - val_accuracy: 0.7661\n",
      "Epoch 9/10\n",
      "112191/112191 [==============================] - 126s 1ms/sample - loss: 0.4504 - accuracy: 0.7743 - val_loss: 0.4685 - val_accuracy: 0.7576\n",
      "Epoch 10/10\n",
      "112191/112191 [==============================] - 131s 1ms/sample - loss: 0.4475 - accuracy: 0.7763 - val_loss: 0.4634 - val_accuracy: 0.7578\n"
     ]
    }
   ],
   "source": [
    "history = model.fit([left_train, rigth_train], label, \n",
    "          epochs=10, \n",
    "          batch_size=32, \n",
    "          validation_data=([left_validation, rigth_validation], label_validation))"
   ]
  },
  {
   "cell_type": "code",
   "execution_count": null,
   "metadata": {},
   "outputs": [],
   "source": []
  },
  {
   "cell_type": "code",
   "execution_count": 18,
   "metadata": {},
   "outputs": [
    {
     "data": {
      "image/png": "[encoded data removed]",
      "text/plain": [
       "<Figure size 432x288 with 1 Axes>"
      ]
     },
     "metadata": {
      "needs_background": "light"
     },
     "output_type": "display_data"
    }
   ],
   "source": [
    "# summarize history for accuracy\n",
    "plt.plot(history.history['accuracy'])\n",
    "plt.plot(history.history['val_accuracy'])\n",
    "plt.title('model accuracy')\n",
    "plt.ylabel('accuracy')\n",
    "plt.xlabel('epoch')\n",
    "plt.legend(['train', 'validation'], loc='upper left')\n",
    "plt.show()"
   ]
  },
  {
   "cell_type": "code",
   "execution_count": 19,
   "metadata": {},
   "outputs": [
    {
     "data": {
      "image/png": "[encoded data removed]",
      "text/plain": [
       "<Figure size 432x288 with 1 Axes>"
      ]
     },
     "metadata": {
      "needs_background": "light"
     },
     "output_type": "display_data"
    }
   ],
   "source": [
    "# summarize history for loss\n",
    "plt.plot(history.history['loss'])\n",
    "plt.plot(history.history['val_loss'])\n",
    "plt.title('model loss')\n",
    "plt.ylabel('loss')\n",
    "plt.xlabel('epoch')\n",
    "plt.legend(['train', 'validation'], loc='upper left')\n",
    "plt.show()"
   ]
  },
  {
   "cell_type": "code",
   "execution_count": 20,
   "metadata": {},
   "outputs": [],
   "source": [
    "y_prob = model.predict([left_test,rigth_test])"
   ]
  },
  {
   "cell_type": "code",
   "execution_count": 21,
   "metadata": {},
   "outputs": [],
   "source": [
    "y_prob[y_prob >= 0.5] = 1"
   ]
  },
  {
   "cell_type": "code",
   "execution_count": 22,
   "metadata": {},
   "outputs": [],
   "source": [
    "y_prob[y_prob < 0.5] = 0"
   ]
  },
  {
   "cell_type": "code",
   "execution_count": 23,
   "metadata": {},
   "outputs": [
    {
     "data": {
      "text/plain": [
       "0.7591290542073033"
      ]
     },
     "execution_count": 23,
     "metadata": {},
     "output_type": "execute_result"
    }
   ],
   "source": [
    "accuracy_score(label_test, y_prob)"
   ]
  }
 ],
 "metadata": {
  "kernelspec": {
   "display_name": "Python 3",
   "language": "python",
   "name": "python3"
  },
  "language_info": {
   "codemirror_mode": {
    "name": "ipython",
    "version": 3
   },
   "file_extension": ".py",
   "mimetype": "text/x-python",
   "name": "python",
   "nbconvert_exporter": "python",
   "pygments_lexer": "ipython3",
   "version": "3.7.3"
  }
 },
 "nbformat": 4,
 "nbformat_minor": 2
}
